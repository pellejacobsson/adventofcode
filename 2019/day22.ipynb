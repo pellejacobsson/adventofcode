{
 "cells": [
  {
   "cell_type": "code",
   "execution_count": 117,
   "metadata": {},
   "outputs": [],
   "source": [
    "class Deck:\n",
    "    def __init__(self, n):\n",
    "        self.cards = list(range(n))\n",
    "\n",
    "    def __repr__(self):\n",
    "        return str(self.cards)\n",
    "    \n",
    "    def __str__(self):\n",
    "        return str(self.cards)\n",
    "\n",
    "    def deal_into_new(self):\n",
    "        self.cards.reverse()\n",
    "\n",
    "    def cut(self, n):\n",
    "        if n > 0:\n",
    "            tmp = self.cards[:n]\n",
    "            self.cards = self.cards[n:] + tmp\n",
    "        else:\n",
    "            tmp = self.cards[n:]\n",
    "            self.cards = tmp + self.cards[:n]\n",
    "\n",
    "    def deal_with_increment(self, n):\n",
    "        dl = len(self.cards)\n",
    "        idx = [m % dl for m in list(range(0, n * dl, n))]\n",
    "        nd = [-1] * dl\n",
    "        j = 0\n",
    "        for i in idx:\n",
    "            nd[i] = self.cards[j]\n",
    "            j += 1\n",
    "        self.cards = nd\n",
    "\n",
    "def read_input(filename):\n",
    "    with open(filename, 'r') as f:\n",
    "        lines = f.readlines()\n",
    "    return lines\n",
    "\n",
    "def runit(instructions, d):\n",
    "    for instruction in instructions:\n",
    "        if instruction[:3] == 'cut':\n",
    "            n = int(instruction[4:-1])\n",
    "            d.cut(n)\n",
    "        elif instruction[:19] == 'deal into new stack':\n",
    "            d.deal_into_new()\n",
    "        elif instruction[:19] == 'deal with increment':\n",
    "            n = int(instruction[20:-1])\n",
    "            d.deal_with_increment(n)\n",
    "    return d"
   ]
  },
  {
   "cell_type": "markdown",
   "metadata": {},
   "source": [
    "### Part 1"
   ]
  },
  {
   "cell_type": "code",
   "execution_count": 118,
   "metadata": {},
   "outputs": [
    {
     "name": "stdout",
     "output_type": "stream",
     "text": [
      "Answer: 3074\n"
     ]
    }
   ],
   "source": [
    "instructions = read_input('22_input.txt')\n",
    "d = Deck(10007)\n",
    "d = runit(instructions, d)\n",
    "print(f'Answer: {d.cards.index(2019)}')"
   ]
  }
 ],
 "metadata": {
  "kernelspec": {
   "display_name": "Python 3.10.4 ('ds')",
   "language": "python",
   "name": "python3"
  },
  "language_info": {
   "codemirror_mode": {
    "name": "ipython",
    "version": 3
   },
   "file_extension": ".py",
   "mimetype": "text/x-python",
   "name": "python",
   "nbconvert_exporter": "python",
   "pygments_lexer": "ipython3",
   "version": "3.10.4"
  },
  "orig_nbformat": 4,
  "vscode": {
   "interpreter": {
    "hash": "a7861172d2007d4541fab3e4eefe3a41dabba6fa735ecd87066a89563db3fd59"
   }
  }
 },
 "nbformat": 4,
 "nbformat_minor": 2
}
