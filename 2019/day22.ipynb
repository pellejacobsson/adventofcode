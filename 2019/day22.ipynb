{
 "cells": [
  {
   "cell_type": "code",
   "execution_count": 13,
   "metadata": {},
   "outputs": [],
   "source": [
    "class Deck:\n",
    "    def __init__(self, n):\n",
    "        self.cards = list(range(n))\n",
    "\n",
    "    def __repr__(self):\n",
    "        return str(self.cards)\n",
    "    \n",
    "    def __str__(self):\n",
    "        return str(self.cards)\n",
    "\n",
    "    def deal_into_new(self):\n",
    "        self.cards.reverse()\n",
    "\n",
    "    def cut(self, n):\n",
    "        if n > 0:\n",
    "            tmp = self.cards[:n]\n",
    "            self.cards = self.cards[n:] + tmp\n",
    "        else:\n",
    "            tmp = self.cards[n:]\n",
    "            self.cards = tmp + self.cards[:n]\n",
    "        return d\n",
    "\n",
    "    def deal_with_increment(self, n):\n",
    "        dl = len(self.cards)\n",
    "        idx = [m % 10 for m in list(range(0, n * dl, n))]\n",
    "        nd = [-1] * dl\n",
    "        j = 0\n",
    "        for i in idx:\n",
    "            nd[i] = self.cards[j]\n",
    "            j += 1\n",
    "        self.cards = nd"
   ]
  },
  {
   "cell_type": "code",
   "execution_count": 14,
   "metadata": {},
   "outputs": [
    {
     "name": "stdout",
     "output_type": "stream",
     "text": [
      "[0, 3, 6, 9, 2, 5, 8, 1, 4, 7]\n"
     ]
    }
   ],
   "source": [
    "d = Deck(10)\n",
    "d.deal_with_increment(7)\n",
    "d.deal_into_new()\n",
    "d.deal_into_new()\n",
    "print(d)"
   ]
  },
  {
   "cell_type": "code",
   "execution_count": 15,
   "metadata": {},
   "outputs": [
    {
     "name": "stdout",
     "output_type": "stream",
     "text": [
      "[3, 0, 7, 4, 1, 8, 5, 2, 9, 6]\n"
     ]
    }
   ],
   "source": [
    "d = Deck(10)\n",
    "d.cut(6)\n",
    "d.deal_with_increment(7)\n",
    "d.deal_into_new()\n",
    "print(d)"
   ]
  },
  {
   "cell_type": "code",
   "execution_count": 17,
   "metadata": {},
   "outputs": [
    {
     "name": "stdout",
     "output_type": "stream",
     "text": [
      "[6, 3, 0, 7, 4, 1, 8, 5, 2, 9]\n"
     ]
    }
   ],
   "source": [
    "d = Deck(10)\n",
    "d.deal_with_increment(7)\n",
    "d.deal_with_increment(9)\n",
    "d.cut(-2)\n",
    "print(d)"
   ]
  },
  {
   "cell_type": "code",
   "execution_count": 18,
   "metadata": {},
   "outputs": [
    {
     "name": "stdout",
     "output_type": "stream",
     "text": [
      "[9, 2, 5, 8, 1, 4, 7, 0, 3, 6]\n"
     ]
    }
   ],
   "source": [
    "d = Deck(10)\n",
    "d.deal_into_new()\n",
    "d.cut(-2)\n",
    "d.deal_with_increment(7)\n",
    "d.cut(8)\n",
    "d.cut(-4)\n",
    "d.deal_with_increment(7)\n",
    "d.cut(3)\n",
    "d.deal_with_increment(9)\n",
    "d.deal_with_increment(3)\n",
    "d.cut(-1)\n",
    "print(d)"
   ]
  },
  {
   "cell_type": "code",
   "execution_count": null,
   "metadata": {},
   "outputs": [],
   "source": []
  }
 ],
 "metadata": {
  "kernelspec": {
   "display_name": "Python 3.10.4 ('ds')",
   "language": "python",
   "name": "python3"
  },
  "language_info": {
   "codemirror_mode": {
    "name": "ipython",
    "version": 3
   },
   "file_extension": ".py",
   "mimetype": "text/x-python",
   "name": "python",
   "nbconvert_exporter": "python",
   "pygments_lexer": "ipython3",
   "version": "3.10.4"
  },
  "orig_nbformat": 4,
  "vscode": {
   "interpreter": {
    "hash": "b3a043178ada9d4c5db5c554af2928a075e91ce55be1610613069a3768aec180"
   }
  }
 },
 "nbformat": 4,
 "nbformat_minor": 2
}
