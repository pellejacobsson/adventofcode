{
 "cells": [
  {
   "cell_type": "code",
   "execution_count": 2,
   "metadata": {},
   "outputs": [],
   "source": [
    "from intcode25 import IntCode\n",
    "from itertools import combinations\n",
    "import re"
   ]
  },
  {
   "cell_type": "code",
   "execution_count": 38,
   "metadata": {},
   "outputs": [
    {
     "name": "stdout",
     "output_type": "stream",
     "text": [
      "ch ==\n",
      "You got in through a hole in the floor here. To keep your ship from also freezing, the hole has been sealed.\n",
      "\n",
      "Doors here lead:\n",
      "- east\n",
      "\n",
      "Command?\n",
      "\n"
     ]
    }
   ],
   "source": [
    "c = IntCode([], [], '25_input.txt')\n",
    "c.run()\n",
    "print(c.get_output(last=150))"
   ]
  },
  {
   "cell_type": "markdown",
   "metadata": {},
   "source": [
    "Search the ship manually"
   ]
  },
  {
   "cell_type": "code",
   "execution_count": 39,
   "metadata": {},
   "outputs": [
    {
     "name": "stdout",
     "output_type": "stream",
     "text": [
      "ip from also freezing, the hole has been sealed.\n",
      "\n",
      "Doors here lead:\n",
      "- east\n",
      "\n",
      "Command?\n",
      "\n",
      "\n",
      "\n",
      "== Storage ==\n",
      "The boxes just contain more boxes.  Recursively.\n",
      "\n",
      "Doors here lead:\n",
      "- north\n",
      "- east\n",
      "- west\n",
      "\n",
      "Command?\n",
      "\n"
     ]
    }
   ],
   "source": [
    "c.inputs = list(map(ord, 'east\\n'))\n",
    "c.run()\n",
    "print(c.get_output(last=200))"
   ]
  },
  {
   "cell_type": "markdown",
   "metadata": {},
   "source": [
    "Instructions to collect all items that should be collected and move to the security checkpoint according to manually drawn map:\n",
    "\n",
    "<img width=800 src='aoc25_map.png'>"
   ]
  },
  {
   "cell_type": "code",
   "execution_count": 4,
   "metadata": {},
   "outputs": [],
   "source": [
    "def go_to_security(filename):\n",
    "    instructions = \"\"\"east\n",
    "east\n",
    "east\n",
    "take shell\n",
    "west\n",
    "south\n",
    "take monolith\n",
    "north\n",
    "west\n",
    "north\n",
    "west\n",
    "take bowl of rice\n",
    "east\n",
    "north\n",
    "take planetoid\n",
    "west\n",
    "take ornament\n",
    "south\n",
    "south\n",
    "take fuel cell\n",
    "north\n",
    "north\n",
    "east\n",
    "east\n",
    "take cake\n",
    "south\n",
    "west\n",
    "north\n",
    "take astrolabe\n",
    "west\n",
    "\"\"\"\n",
    "    c = IntCode([], [], '25_input.txt')\n",
    "    c.run()\n",
    "    c.inputs = list(map(ord, instructions))\n",
    "    c.run()\n",
    "    return c"
   ]
  },
  {
   "cell_type": "code",
   "execution_count": 23,
   "metadata": {},
   "outputs": [],
   "source": [
    "def try_things():\n",
    "    things = ['monolith', 'bowl of rice', 'ornament', 'shell', 'astrolabe', 'planetoid', 'fuel cell', 'cake']\n",
    "    passed = False\n",
    "    for n in range(1, 8):\n",
    "        if passed:\n",
    "            break\n",
    "        for drop_things in combinations(things, n):\n",
    "            for drop_thing in drop_things:\n",
    "                c.inputs = list(map(ord, f'drop {drop_thing}\\n'))\n",
    "                c.run()\n",
    "            c.inputs = list(map(ord, 'north\\n'))\n",
    "            c.run()\n",
    "            room = re.findall(r'== (.*) ==', c.get_output(last=400))[-1]\n",
    "            if room != 'Security Checkpoint':\n",
    "                passed = True\n",
    "                break\n",
    "            for drop_thing in drop_things:\n",
    "                c.inputs = list(map(ord, f'take {drop_thing}\\n'))\n",
    "                c.run()\n"
   ]
  },
  {
   "cell_type": "code",
   "execution_count": 24,
   "metadata": {},
   "outputs": [],
   "source": [
    "c = go_to_security('25_input.txt')"
   ]
  },
  {
   "cell_type": "code",
   "execution_count": 25,
   "metadata": {},
   "outputs": [],
   "source": [
    "try_things()"
   ]
  },
  {
   "cell_type": "code",
   "execution_count": 32,
   "metadata": {},
   "outputs": [
    {
     "name": "stdout",
     "output_type": "stream",
     "text": [
      "== Pressure-Sensitive Floor ==\n",
      "Analyzing...\n",
      "\n",
      "Doors here lead:\n",
      "- south\n",
      "\n",
      "A loud, robotic voice says \"Analysis complete! You may proceed.\" and you enter the cockpit.\n",
      "Santa notices your small droid, looks puzzled for a moment, realizes what has happened, and radios your ship directly.\n",
      "\"Oh, hello! You should be able to get in by typing 1109393410 on the keypad at the main airlock.\"\n",
      "\n"
     ]
    }
   ],
   "source": [
    "print(c.get_output(last=380))"
   ]
  }
 ],
 "metadata": {
  "kernelspec": {
   "display_name": "Python 3.10.4 ('ds')",
   "language": "python",
   "name": "python3"
  },
  "language_info": {
   "codemirror_mode": {
    "name": "ipython",
    "version": 3
   },
   "file_extension": ".py",
   "mimetype": "text/x-python",
   "name": "python",
   "nbconvert_exporter": "python",
   "pygments_lexer": "ipython3",
   "version": "3.10.4"
  },
  "orig_nbformat": 4,
  "vscode": {
   "interpreter": {
    "hash": "a7861172d2007d4541fab3e4eefe3a41dabba6fa735ecd87066a89563db3fd59"
   }
  }
 },
 "nbformat": 4,
 "nbformat_minor": 2
}
