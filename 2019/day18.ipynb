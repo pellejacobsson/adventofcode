{
 "cells": [
  {
   "cell_type": "code",
   "execution_count": 6,
   "metadata": {},
   "outputs": [],
   "source": [
    "from queue import Queue, PriorityQueue\n",
    "import time"
   ]
  },
  {
   "cell_type": "code",
   "execution_count": 7,
   "metadata": {},
   "outputs": [],
   "source": [
    "def read_input(filename):\n",
    "    with open(filename, 'r') as f:\n",
    "        d = {}\n",
    "        for (i, l) in enumerate(f.readlines()):\n",
    "            for (j, ll) in enumerate(l[:-1]):\n",
    "                d[(i, j)] = ll\n",
    "    return d\n",
    "\n",
    "def get_key(d, val):\n",
    "    for (key, value) in d.items():\n",
    "        if value == val:\n",
    "            return key\n",
    "    return 'Start not found'"
   ]
  },
  {
   "cell_type": "code",
   "execution_count": 26,
   "metadata": {},
   "outputs": [],
   "source": [
    "def get_adjacent(p, tunnel_map, all_keys):\n",
    "    (x, y), keys = p\n",
    "    doors = [k.upper() for k in keys]\n",
    "    adj = []\n",
    "    for p_a in [(x - 1, y), (x + 1, y), (x, y - 1), (x, y + 1)]:\n",
    "        if tunnel_map[p_a] in ['.', '@'] + doors + all_keys:\n",
    "            adj.append((p_a, p[1]))\n",
    "    return adj\n",
    "\n",
    "def is_explored(explored, w):\n",
    "    return any([w[0] == e[0] and set(w[1]) == set(e[1]) for e in explored])\n",
    "\n",
    "def bfs(tunnel_map, p_start, all_keys):\n",
    "    q = Queue()\n",
    "    q.put(p_start)\n",
    "    explored = set()\n",
    "    dist = {p_start: 0}\n",
    "    while not q.empty():\n",
    "        v = q.get()\n",
    "        xy, keys = v\n",
    "        if tunnel_map[xy] in all_keys:\n",
    "            if not tunnel_map[xy] in keys:\n",
    "                v_old = v\n",
    "                v = (xy, keys | frozenset(tunnel_map[xy]))\n",
    "                dist[v] = dist[v_old]\n",
    "        if set(v[1]) == set(all_keys):\n",
    "            return dist[v]\n",
    "        for w in get_adjacent(v, tunnel_map, all_keys):\n",
    "            if not w in explored:\n",
    "                explored.add(w)\n",
    "                dist[w] = dist[v] + 1\n",
    "                q.put(w)\n",
    "    return -1\n",
    "\n",
    "def dijkstra(tunnel_map, p_start, all_keys):\n",
    "    dist = {p_start: 0}\n",
    "    prev = {}\n",
    "    q = PriorityQueue()\n",
    "    q.put((dist[p_start], p_start))\n",
    "    while not q.empty():\n",
    "        d, v = q.get()\n",
    "        xy, keys = v\n",
    "        if tunnel_map[xy] in all_keys:\n",
    "            if not tunnel_map[xy] in keys:\n",
    "                v_old = v\n",
    "                v = (xy, keys | frozenset(tunnel_map[xy]))\n",
    "                dist[v] = dist[v_old]\n",
    "        if set(v[1]) == set(all_keys):\n",
    "            return d\n",
    "        for w in get_adjacent(v, tunnel_map, all_keys):\n",
    "            alt = dist[v] + 1\n",
    "            if alt < dist.get(w, 1000000):\n",
    "                dist[w] = alt\n",
    "                prev[w] = v\n",
    "                if w not in [val[1] for val in q.queue]:\n",
    "                    q.put((alt, w))\n",
    "    return -1\n"
   ]
  },
  {
   "cell_type": "code",
   "execution_count": 27,
   "metadata": {},
   "outputs": [],
   "source": [
    "def runit(filename, alg = bfs):\n",
    "    tunnel_map = read_input(filename)\n",
    "    all_keys = [c for c in list(set(tunnel_map.values()) - set(['#', '.', '@'])) if c.islower()]\n",
    "    p_start = get_key(tunnel_map, '@')\n",
    "    t0 = time.time()\n",
    "    dist = alg(tunnel_map, (p_start, frozenset()), all_keys)\n",
    "    dt = time.time() - t0\n",
    "    res = {'time': dt, 'distance': dist}\n",
    "    return res"
   ]
  },
  {
   "cell_type": "code",
   "execution_count": 32,
   "metadata": {},
   "outputs": [
    {
     "data": {
      "text/plain": [
       "{'time': 8.283371448516846, 'distance': 4350}"
      ]
     },
     "execution_count": 32,
     "metadata": {},
     "output_type": "execute_result"
    }
   ],
   "source": [
    "res = runit('18_input.txt')\n",
    "res"
   ]
  },
  {
   "cell_type": "code",
   "execution_count": null,
   "metadata": {},
   "outputs": [],
   "source": []
  }
 ],
 "metadata": {
  "interpreter": {
   "hash": "b0fa6594d8f4cbf19f97940f81e996739fb7646882a419484c72d19e05852a7e"
  },
  "kernelspec": {
   "display_name": "Python 3.9.9 64-bit",
   "language": "python",
   "name": "python3"
  },
  "language_info": {
   "codemirror_mode": {
    "name": "ipython",
    "version": 3
   },
   "file_extension": ".py",
   "mimetype": "text/x-python",
   "name": "python",
   "nbconvert_exporter": "python",
   "pygments_lexer": "ipython3",
   "version": "3.8.10"
  },
  "orig_nbformat": 4
 },
 "nbformat": 4,
 "nbformat_minor": 2
}
