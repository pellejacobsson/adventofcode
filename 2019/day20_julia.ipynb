{
 "cells": [
  {
   "cell_type": "code",
   "execution_count": 151,
   "metadata": {},
   "outputs": [],
   "source": [
    "import Unicode: isletter\n",
    "using BenchmarkTools"
   ]
  },
  {
   "cell_type": "code",
   "execution_count": 153,
   "metadata": {},
   "outputs": [
    {
     "data": {
      "text/plain": [
       "runit (generic function with 1 method)"
      ]
     },
     "execution_count": 153,
     "metadata": {},
     "output_type": "execute_result"
    }
   ],
   "source": [
    "function isletter(s::String)::Bool\n",
    "    all(isletter.(c for c in s))\n",
    "end\n",
    "\n",
    "function read_input(filename)\n",
    "    rows = open(filename) do f\n",
    "        readlines(f)\n",
    "    end\n",
    "    n_rows = length(rows)\n",
    "    n_cols = length(rows[1])\n",
    "    d = Dict{Tuple{Int64, Int64}, String}()\n",
    "    for i = 3:n_rows-2\n",
    "        for j = 3:n_cols-2\n",
    "            c = string(rows[i][j])\n",
    "            if c == \".\"\n",
    "                if isletter(rows[i-1][j])\n",
    "                    c = rows[i-2][j] * rows[i-1][j]\n",
    "                elseif isletter(rows[i+1][j])\n",
    "                    c = rows[i+1][j] * rows[i+2][j]\n",
    "                elseif isletter(rows[i][j-1])\n",
    "                    c = rows[i][j-2] * rows[i][j-1]\n",
    "                elseif isletter(rows[i][j+1])\n",
    "                    c = rows[i][j+1] * rows[i][j+2]\n",
    "                end\n",
    "            elseif c == \" \" || isletter(c)\n",
    "                c = \"#\"\n",
    "            end\n",
    "            d[(i-2, j-2)] = c\n",
    "        end\n",
    "    end\n",
    "    d, n_rows - 4, n_cols - 4   \n",
    "end\n",
    "\n",
    "function teleport(maze, p)\n",
    "    port = maze[p]\n",
    "    for (key, val) in maze\n",
    "        if val == port && key != p\n",
    "            return key\n",
    "        end\n",
    "    end\n",
    "end\n",
    "\n",
    "function get_adjacent(maze, n_rows, n_cols, p)\n",
    "    i, j = p\n",
    "    adj = []\n",
    "    if isletter(maze[p]) && maze[p] != \"AA\"\n",
    "        push!(adj, teleport(maze, p))\n",
    "    end\n",
    "    for q in ((i-1, j), (i+1, j), (i, j-1), (i, j+1))\n",
    "        if !((1 <= q[1] <= n_rows) && (1 <= q[2] <= n_cols))\n",
    "            continue\n",
    "        elseif maze[q] == \".\" || isletter(maze[q])\n",
    "            push!(adj, q)\n",
    "        end\n",
    "    end\n",
    "    adj\n",
    "end\n",
    "\n",
    "function find_start_goal(maze)\n",
    "    start = (0, 0)\n",
    "    goal = (0, 0)\n",
    "    for (key, val) in maze\n",
    "        if val == \"AA\"\n",
    "            start = key\n",
    "        elseif val == \"ZZ\"\n",
    "            goal = key\n",
    "        end\n",
    "    end\n",
    "    start, goal\n",
    "end\n",
    "\n",
    "function bfs(maze, n_rows, n_cols, p_start)\n",
    "    queue = []\n",
    "    explored = Set()\n",
    "    prev = Dict()\n",
    "    push!(explored, p_start)\n",
    "    push!(queue, p_start)\n",
    "    while length(queue) > 0\n",
    "        v = popfirst!(queue)\n",
    "        if maze[v] == \"ZZ\"\n",
    "            return prev\n",
    "        end\n",
    "        for w in get_adjacent(maze, n_rows, n_cols, v)\n",
    "            if w ∉ explored\n",
    "                push!(explored, w)\n",
    "                push!(queue, w)\n",
    "                prev[w] = v\n",
    "            end\n",
    "        end\n",
    "    end\n",
    "end\n",
    "\n",
    "function find_path(prev, p_start, p_goal)\n",
    "    path = Tuple{Int64, Int64}[]\n",
    "    push!(path, p_goal)\n",
    "    p = p_goal\n",
    "    while prev[p] != p_start\n",
    "        push!(path, prev[p])\n",
    "        p = prev[p]\n",
    "    end\n",
    "    push!(path, p_start)\n",
    "    reverse(path), length(path) - 1\n",
    "end\n",
    "\n",
    "function runit(filename)\n",
    "    maze, n_rows, n_cols = read_input(filename)\n",
    "    p_start, p_goal = find_start_goal(maze)\n",
    "    prev = bfs(maze, n_rows, n_cols, p_start)\n",
    "    path, dist = find_path(prev, p_start, p_goal)\n",
    "    dist\n",
    "end"
   ]
  },
  {
   "cell_type": "code",
   "execution_count": 154,
   "metadata": {},
   "outputs": [
    {
     "data": {
      "text/plain": [
       "552"
      ]
     },
     "execution_count": 154,
     "metadata": {},
     "output_type": "execute_result"
    }
   ],
   "source": [
    "runit(\"20_input.txt\")"
   ]
  },
  {
   "cell_type": "code",
   "execution_count": 155,
   "metadata": {},
   "outputs": [
    {
     "name": "stdout",
     "output_type": "stream",
     "text": [
      "  7.136 ms (136657 allocations: 7.73 MiB)\n"
     ]
    },
    {
     "data": {
      "text/plain": [
       "552"
      ]
     },
     "execution_count": 155,
     "metadata": {},
     "output_type": "execute_result"
    }
   ],
   "source": [
    "@btime runit(\"20_input.txt\")"
   ]
  }
 ],
 "metadata": {
  "kernelspec": {
   "display_name": "Julia 1.8.3",
   "language": "julia",
   "name": "julia-1.8"
  },
  "language_info": {
   "file_extension": ".jl",
   "mimetype": "application/julia",
   "name": "julia",
   "version": "1.8.3"
  },
  "orig_nbformat": 4
 },
 "nbformat": 4,
 "nbformat_minor": 2
}
