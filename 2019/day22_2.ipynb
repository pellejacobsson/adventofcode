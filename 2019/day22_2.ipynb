{
 "cells": [
  {
   "cell_type": "code",
   "execution_count": 17,
   "metadata": {},
   "outputs": [],
   "source": [
    "import numpy as np"
   ]
  },
  {
   "cell_type": "code",
   "execution_count": 26,
   "metadata": {},
   "outputs": [],
   "source": [
    "class Deck:\n",
    "    def __init__(self, n):\n",
    "        self.cards = list(range(n))\n",
    "\n",
    "    def __repr__(self):\n",
    "        return str(self.cards)\n",
    "    \n",
    "    def __str__(self):\n",
    "        return str(self.cards)\n",
    "\n",
    "    def deal_into_new(self):\n",
    "        self.cards.reverse()\n",
    "\n",
    "    def cut(self, n):\n",
    "        if n > 0:\n",
    "            tmp = self.cards[:n]\n",
    "            self.cards = self.cards[n:] + tmp\n",
    "        else:\n",
    "            tmp = self.cards[n:]\n",
    "            self.cards = tmp + self.cards[:n]\n",
    "\n",
    "    def deal_with_increment(self, n):\n",
    "        dl = len(self.cards)\n",
    "        idx = [m % dl for m in list(range(0, n * dl, n))]\n",
    "        nd = [-1] * dl\n",
    "        j = 0\n",
    "        for i in idx:\n",
    "            nd[i] = self.cards[j]\n",
    "            j += 1\n",
    "        self.cards = nd\n",
    "\n",
    "def f1(n, m):\n",
    "    return m - n - 1\n",
    "\n",
    "def f2(n, m, c):\n",
    "    return (n - c) % m\n",
    "\n",
    "def f3(n, m, c):\n",
    "    return c * n % m\n",
    "\n",
    "def read_input(filename):\n",
    "    with open(filename, 'r') as f:\n",
    "        lines = f.readlines()\n",
    "    return lines\n",
    "\n",
    "def runit(instructions, d):\n",
    "    for instruction in instructions:\n",
    "        if instruction[:3] == 'cut':\n",
    "            n = int(instruction[4:-1])\n",
    "            d.cut(n)\n",
    "        elif instruction[:19] == 'deal into new stack':\n",
    "            d.deal_into_new()\n",
    "        elif instruction[:19] == 'deal with increment':\n",
    "            n = int(instruction[20:-1])\n",
    "            d.deal_with_increment(n)\n",
    "    return d\n",
    "\n",
    "def runit2(instructions, n, m):\n",
    "    for instruction in instructions:\n",
    "        if instruction[:3] == 'cut':\n",
    "            c = int(instruction[4:-1])\n",
    "            n = f2(n, m, c)\n",
    "        elif instruction[:19] == 'deal into new stack':\n",
    "            n = f1(n, m)\n",
    "        elif instruction[:19] == 'deal with increment':\n",
    "            c = int(instruction[20:-1])\n",
    "            n = f3(n, m, c)\n",
    "    return n\n",
    "\n",
    "def get_shuffle_function(instructions, m):\n",
    "    aa, bb = 1, 0\n",
    "    for instruction in instructions:\n",
    "        if instruction[:3] == 'cut':\n",
    "            c = int(instruction[4:-1])\n",
    "            a, b = 1, -c\n",
    "        elif instruction[:19] == 'deal into new stack':\n",
    "            a, b = -1, -1\n",
    "        elif instruction[:19] == 'deal with increment':\n",
    "            c = int(instruction[20:-1])\n",
    "            a, b = c, 0\n",
    "        aa, bb = (aa * a) % m, (a * bb + b) % m\n",
    "    return aa, bb\n",
    "\n",
    "def pow_mod(x, n, m):\n",
    "    y = 1\n",
    "    while n > 0:\n",
    "        if n % 2 == 1:\n",
    "            y = y * x % m\n",
    "        n = n >> 1\n",
    "        x = x**2 % m\n",
    "    return y"
   ]
  },
  {
   "cell_type": "markdown",
   "metadata": {},
   "source": [
    "### Part 1"
   ]
  },
  {
   "cell_type": "code",
   "execution_count": 3,
   "metadata": {},
   "outputs": [
    {
     "name": "stdout",
     "output_type": "stream",
     "text": [
      "Answer: 3074 = 3074 = 3074\n"
     ]
    }
   ],
   "source": [
    "instructions = read_input('22_input.txt')\n",
    "m = 10007\n",
    "d = Deck(m)\n",
    "d = runit(instructions, d)\n",
    "n = runit2(instructions, 2019, m)\n",
    "a, b = get_shuffle_function(instructions, m)\n",
    "print(f'Answer: {d.cards.index(2019)} = {n} = {(a * 2019 + b) % m}')"
   ]
  },
  {
   "cell_type": "markdown",
   "metadata": {},
   "source": [
    "### Part 2\n",
    "Phew!\n",
    "\n",
    "https://codeforces.com/blog/entry/72527\n",
    "\n",
    "https://en.wikipedia.org/wiki/Modular_exponentiation\n",
    "\n",
    "$$ \\frac{1}{x} \\mod m = x^{m-2} \\mod m $$\n",
    "\n",
    "$$ f^N(n) = a^N n + b \\sum_{i=0}^{N-1} a^i \\mod m = a^N n + b \\frac{1 - a^N}{1 - a} \\mod m = A n + B \\mod m$$\n",
    "\n",
    "$$ f^{-N}(n) = \\frac{n - B}{A} \\mod m $$"
   ]
  },
  {
   "cell_type": "code",
   "execution_count": 4,
   "metadata": {},
   "outputs": [],
   "source": [
    "m = 119315717514047\n",
    "p = 101741582076661"
   ]
  },
  {
   "cell_type": "code",
   "execution_count": 5,
   "metadata": {},
   "outputs": [],
   "source": [
    "a, b = get_shuffle_function(instructions, m)"
   ]
  },
  {
   "cell_type": "code",
   "execution_count": 27,
   "metadata": {},
   "outputs": [],
   "source": [
    "A = pow_mod(a, p, m)"
   ]
  },
  {
   "cell_type": "code",
   "execution_count": 33,
   "metadata": {},
   "outputs": [],
   "source": [
    "B = (b % m) * (1 - A) * pow_mod(1-a, m-2, m) % m"
   ]
  },
  {
   "cell_type": "code",
   "execution_count": 36,
   "metadata": {},
   "outputs": [
    {
     "data": {
      "text/plain": [
       "104073967000066"
      ]
     },
     "execution_count": 36,
     "metadata": {},
     "output_type": "execute_result"
    }
   ],
   "source": [
    "((2020 - B) % m) * (pow_mod(A, m-2, m)) % m"
   ]
  },
  {
   "cell_type": "code",
   "execution_count": null,
   "metadata": {},
   "outputs": [],
   "source": []
  }
 ],
 "metadata": {
  "kernelspec": {
   "display_name": "Python 3.10.4 ('ds')",
   "language": "python",
   "name": "python3"
  },
  "language_info": {
   "codemirror_mode": {
    "name": "ipython",
    "version": 3
   },
   "file_extension": ".py",
   "mimetype": "text/x-python",
   "name": "python",
   "nbconvert_exporter": "python",
   "pygments_lexer": "ipython3",
   "version": "3.10.4"
  },
  "orig_nbformat": 4,
  "vscode": {
   "interpreter": {
    "hash": "a7861172d2007d4541fab3e4eefe3a41dabba6fa735ecd87066a89563db3fd59"
   }
  }
 },
 "nbformat": 4,
 "nbformat_minor": 2
}
