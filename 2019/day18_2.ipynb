{
 "cells": [
  {
   "cell_type": "code",
   "execution_count": 1,
   "metadata": {},
   "outputs": [],
   "source": [
    "from queue import Queue\n",
    "import time"
   ]
  },
  {
   "cell_type": "code",
   "execution_count": 2,
   "metadata": {},
   "outputs": [],
   "source": [
    "def read_input(filename):\n",
    "    with open(filename, 'r') as f:\n",
    "        d = [s.rstrip() for s in f.readlines()]\n",
    "        d = [[s for s in ss] for ss in d]\n",
    "    ncol = len(d[0])\n",
    "    nrow = len(d)\n",
    "    r0 = nrow // 2\n",
    "    c0 = ncol // 2\n",
    "    tunnel_map = {(i, j): d[i][j] for i in range(nrow) for j in range(ncol)}\n",
    "    d1 = [r[:ncol // 2 + 1] for r in d[:nrow // 2 + 1]]\n",
    "    d2 = [r[ncol // 2:] for r in d[:nrow // 2 + 1]]\n",
    "    d3 = [r[:ncol // 2 + 1] for r in d[nrow // 2:]]\n",
    "    d4 = [r[ncol //2:] for r in d[nrow //2:]]\n",
    "    k1 = [k for k in set([l for s in d1 for l in s]) - set(['#', '.', '@']) if k.islower()]\n",
    "    k2 = [k for k in set([l for s in d2 for l in s]) - set(['#', '.', '@']) if k.islower()]\n",
    "    k3 = [k for k in set([l for s in d3 for l in s]) - set(['#', '.', '@']) if k.islower()]\n",
    "    k4 = [k for k in set([l for s in d4 for l in s]) - set(['#', '.', '@']) if k.islower()]\n",
    "    pstart1 = ((r0 - 1, c0 - 1), frozenset(k2 + k3 + k4))\n",
    "    pstart2 = ((r0 - 1, c0 + 1), frozenset(k1 + k3 + k4))\n",
    "    pstart3 = ((r0 + 1, c0 - 1), frozenset(k1 + k2 + k4))\n",
    "    pstart4 = ((r0 + 1, c0 + 1), frozenset(k1 + k2 + k3))\n",
    "    return (pstart1, pstart2, pstart3, pstart4), tunnel_map"
   ]
  },
  {
   "cell_type": "code",
   "execution_count": 3,
   "metadata": {},
   "outputs": [],
   "source": [
    "def get_adjacent(p, tunnel_map, all_keys):\n",
    "    (x, y), keys = p\n",
    "    doors = [k.upper() for k in keys]\n",
    "    adj = []\n",
    "    for p_a in [(x - 1, y), (x + 1, y), (x, y - 1), (x, y + 1)]:\n",
    "        if tunnel_map[p_a] in ['.', '@'] + doors + all_keys:\n",
    "            adj.append((p_a, keys))\n",
    "    return adj\n",
    "\n",
    "def bfs(tunnel_map, p_start, all_keys):\n",
    "    q = Queue()\n",
    "    q.put(p_start)\n",
    "    explored = set()\n",
    "    dist = {p_start: 0}\n",
    "    while not q.empty():\n",
    "        v = q.get()\n",
    "        xy, keys = v\n",
    "        if tunnel_map[xy] in all_keys:\n",
    "            if not tunnel_map[xy] in keys:\n",
    "                v_old = v\n",
    "                v = (xy, keys | frozenset(tunnel_map[xy]))\n",
    "                dist[v] = dist[v_old]\n",
    "        if set(v[1]) == set(all_keys):\n",
    "            return dist[v]\n",
    "        for w in get_adjacent(v, tunnel_map, all_keys):\n",
    "            if not w in explored:\n",
    "                explored.add(w)\n",
    "                dist[w] = dist[v] + 1\n",
    "                q.put(w)\n",
    "    return -1"
   ]
  },
  {
   "cell_type": "code",
   "execution_count": 4,
   "metadata": {},
   "outputs": [],
   "source": [
    "def runit(filename):\n",
    "    p_starts, tunnel_map = read_input(filename)\n",
    "    all_keys = [c for c in list(set(tunnel_map.values()) - set(['#', '.', '@'])) if c.islower()]\n",
    "    t0 = time.time()\n",
    "    dist = 0\n",
    "    for p_start in p_starts:\n",
    "        dist += bfs(tunnel_map, p_start, all_keys)\n",
    "    dt = time.time() - t0\n",
    "    res = {'time': dt, 'distance': dist}\n",
    "    return res"
   ]
  },
  {
   "cell_type": "code",
   "execution_count": 7,
   "metadata": {},
   "outputs": [
    {
     "data": {
      "text/plain": [
       "{'time': 0.22335100173950195, 'distance': 2348}"
      ]
     },
     "execution_count": 7,
     "metadata": {},
     "output_type": "execute_result"
    }
   ],
   "source": [
    "res = runit('18_input2.txt')\n",
    "res"
   ]
  }
 ],
 "metadata": {
  "interpreter": {
   "hash": "b0fa6594d8f4cbf19f97940f81e996739fb7646882a419484c72d19e05852a7e"
  },
  "kernelspec": {
   "display_name": "Python 3.9.9 64-bit",
   "language": "python",
   "name": "python3"
  },
  "language_info": {
   "codemirror_mode": {
    "name": "ipython",
    "version": 3
   },
   "file_extension": ".py",
   "mimetype": "text/x-python",
   "name": "python",
   "nbconvert_exporter": "python",
   "pygments_lexer": "ipython3",
   "version": "3.9.10"
  },
  "orig_nbformat": 4
 },
 "nbformat": 4,
 "nbformat_minor": 2
}
