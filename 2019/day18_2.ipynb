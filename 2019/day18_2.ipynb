{
 "cells": [
  {
   "cell_type": "code",
   "execution_count": 1,
   "metadata": {},
   "outputs": [],
   "source": [
    "from queue import Queue\n",
    "import time"
   ]
  },
  {
   "cell_type": "code",
   "execution_count": 103,
   "metadata": {},
   "outputs": [],
   "source": [
    "def read_input(filename, insert = False):\n",
    "    with open(filename, 'r') as f:\n",
    "        d = [s.rstrip() for s in f.readlines()]\n",
    "        d = [[s for s in ss] for ss in d]\n",
    "    ncol = len(d[0])\n",
    "    nrow = len(d)\n",
    "    y = ncol // 2\n",
    "    x = nrow // 2\n",
    "    if insert:\n",
    "        for (dx, dy) in [(0, 0), (-1, 0), (1, 0), (0, -1), (0, 1)]:\n",
    "            d[x + dx][y + dy] = '#'\n",
    "        for (dx, dy) in [(-1, -1), (-1, 1), (1, -1), (1, 1)]:\n",
    "            d[x + dx][y + dy] = '@'\n",
    "    d1 = {(i, j): d[i][j] for i in range(nrow // 2 + 1) for j in range(ncol // 2 + 1)}\n",
    "    d2 = {(i, j - ncol // 2): d[i][j] for i in range(nrow // 2 + 1) for j in range(ncol // 2, ncol)}\n",
    "    d3 = {(i - nrow // 2, j): d[i][j] for i in range(nrow // 2, nrow) for j in range(ncol // 2 + 1)}\n",
    "    d4 = {(i - nrow // 2, j - ncol // 2): d[i][j] for i in range(nrow // 2, nrow) for j in range(ncol // 2, ncol)}\n",
    "    return d1, d2, d3, d4"
   ]
  },
  {
   "cell_type": "code",
   "execution_count": 104,
   "metadata": {},
   "outputs": [],
   "source": [
    "d1, d2, d3, d4 = read_input('18_testinput4.txt')"
   ]
  },
  {
   "cell_type": "code",
   "execution_count": 48,
   "metadata": {},
   "outputs": [],
   "source": [
    "def get_adjacent(p, tunnel_map, all_keys):\n",
    "    (x, y), keys = p\n",
    "    doors = [k.upper() for k in keys]\n",
    "    adj = []\n",
    "    for p_a in [(x - 1, y), (x + 1, y), (x, y - 1), (x, y + 1)]:\n",
    "        if tunnel_map[p_a] in ['.', '@'] + doors + all_keys:\n",
    "            adj.append((p_a, p[1]))\n",
    "    return adj\n",
    "\n",
    "def bfs(tunnel_map, p_start, all_keys):\n",
    "    q = Queue()\n",
    "    q.put(p_start)\n",
    "    explored = set()\n",
    "    dist = {p_start: 0}\n",
    "    while not q.empty():\n",
    "        v = q.get()\n",
    "        xy, keys = v\n",
    "        if tunnel_map[xy] in all_keys:\n",
    "            if not tunnel_map[xy] in keys:\n",
    "                v_old = v\n",
    "                v = (xy, keys | frozenset(tunnel_map[xy]))\n",
    "                dist[v] = dist[v_old]\n",
    "        if set(v[1]) == set(all_keys):\n",
    "            return dist[v]\n",
    "        for w in get_adjacent(v, tunnel_map, all_keys):\n",
    "            if not w in explored:\n",
    "                explored.add(w)\n",
    "                dist[w] = dist[v] + 1\n",
    "                q.put(w)\n",
    "    return -1\n"
   ]
  },
  {
   "cell_type": "code",
   "execution_count": 49,
   "metadata": {},
   "outputs": [],
   "source": [
    "def runit(filename, alg = bfs):\n",
    "    tunnel_map = read_input(filename)\n",
    "    all_keys = [c for c in list(set(tunnel_map.values()) - set(['#', '.', '@'])) if c.islower()]\n",
    "    p_start = get_key(tunnel_map, '@')\n",
    "    t0 = time.time()\n",
    "    dist = alg(tunnel_map, (p_start, frozenset()), all_keys)\n",
    "    dt = time.time() - t0\n",
    "    res = {'time': dt, 'distance': dist}\n",
    "    return res"
   ]
  },
  {
   "cell_type": "code",
   "execution_count": 50,
   "metadata": {},
   "outputs": [
    {
     "data": {
      "text/plain": [
       "{'time': 5.620743989944458, 'distance': 4350}"
      ]
     },
     "execution_count": 50,
     "metadata": {},
     "output_type": "execute_result"
    }
   ],
   "source": [
    "res = runit('18_input.txt')\n",
    "res"
   ]
  },
  {
   "cell_type": "code",
   "execution_count": null,
   "metadata": {},
   "outputs": [],
   "source": []
  }
 ],
 "metadata": {
  "interpreter": {
   "hash": "b0fa6594d8f4cbf19f97940f81e996739fb7646882a419484c72d19e05852a7e"
  },
  "kernelspec": {
   "display_name": "Python 3.9.9 64-bit",
   "language": "python",
   "name": "python3"
  },
  "language_info": {
   "codemirror_mode": {
    "name": "ipython",
    "version": 3
   },
   "file_extension": ".py",
   "mimetype": "text/x-python",
   "name": "python",
   "nbconvert_exporter": "python",
   "pygments_lexer": "ipython3",
   "version": "3.9.10"
  },
  "orig_nbformat": 4
 },
 "nbformat": 4,
 "nbformat_minor": 2
}
