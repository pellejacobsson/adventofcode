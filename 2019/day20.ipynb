{
 "cells": [
  {
<<<<<<< HEAD
   "cell_type": "code",
   "execution_count": 15,
   "metadata": {},
   "outputs": [],
   "source": [
    "def read_input(filename):\n",
    "    with open(filename, 'r') as f:\n",
    "        rows = f.readlines()\n",
    "    n_rows = len(rows)\n",
    "    n_cols = len(rows[0])\n",
    "    d = {}\n",
    "    for i in range(2, n_rows - 2):\n",
    "        for j in range(2, n_cols - 3):\n",
    "            c = rows[i][j]\n",
    "            if c == '.':\n",
    "                if rows[i-1][j].isalpha():\n",
    "                    c = rows[i-2][j] + rows[i-1][j]\n",
    "                elif rows[i+1][j].isalpha():\n",
    "                    c = rows[i+1][j] + rows[i+2][j]\n",
    "                elif rows[i][j-1].isalpha():\n",
    "                    c = rows[i][j-2] + rows[i][j-1]\n",
    "                elif rows[i][j+1].isalpha():\n",
    "                    c = rows[i][j+1] + rows[i][j+2]\n",
    "            elif c == ' ' or c.isalpha():\n",
    "                c = '#'\n",
    "            d[(i-2, j-2)] = c\n",
    "    return d, n_rows - 4, n_cols - 5\n",
    "\n",
    "def teleport(maze, p):\n",
    "    port = maze[p]\n",
    "    for key, val in maze.items():\n",
    "        if val == port and key != p:\n",
    "            return key\n",
    "\n",
    "def get_adjacent(maze, n_rows, n_cols, p):\n",
    "    i, j = p\n",
    "    adj = []\n",
    "    if maze[p].isalpha() and maze[p] != 'AA':\n",
    "        adj.append(teleport(maze, p))\n",
    "    for q in ((i-1, j), (i+1, j), (i, j-1), (i, j+1)):\n",
    "        if not((0 <= q[0] < n_rows) and (0 <= q[1] < n_cols)):\n",
    "            continue\n",
    "        elif maze[q] == '.' or maze[q].isalpha():\n",
    "            adj.append(q)\n",
    "    return adj\n",
    "\n",
    "def find_start_goal(maze):\n",
    "    for key, val in maze.items():\n",
    "        if val == 'AA':\n",
    "            start = key\n",
    "        elif val == 'ZZ':\n",
    "            goal = key\n",
    "    return start, goal\n",
    "\n",
    "def bfs(maze, n_rows, n_cols, p_start):\n",
    "    queue = []\n",
    "    explored = []\n",
    "    prev = {}\n",
    "    explored.append(p_start)\n",
    "    queue.append(p_start)\n",
    "    while len(queue) > 0:\n",
    "        v = queue.pop(0)\n",
    "        if maze[v] == 'ZZ':\n",
    "            return prev\n",
    "        for w in get_adjacent(maze, n_rows, n_cols, v):\n",
    "            if w not in explored:\n",
    "                explored.append(w)\n",
    "                queue.append(w)\n",
    "                prev[w] = v\n",
    "\n",
    "def find_path(prev, p_start, p_goal):\n",
    "    path = [p_goal]\n",
    "    p = p_goal\n",
    "    while prev[p] != p_start:\n",
    "        path.append(prev[p])\n",
    "        p = prev[p]\n",
    "    path.append(p_start)\n",
    "    path.reverse()\n",
    "    return path, len(path) - 1\n",
    "\n",
    "def runit(filename):\n",
    "    maze, n_rows, n_cols = read_input(filename)\n",
    "    p_start, p_goal = find_start_goal(maze)\n",
    "    prev = bfs(maze, n_rows, n_cols, p_start)\n",
    "    path, dist = find_path(prev, p_start, p_goal)\n",
    "    return dist"
   ]
  },
  {
   "cell_type": "code",
   "execution_count": 20,
   "metadata": {},
   "outputs": [
    {
     "data": {
      "text/plain": [
       "552"
      ]
     },
     "execution_count": 20,
     "metadata": {},
     "output_type": "execute_result"
    }
   ],
   "source": [
    "runit('20_input.txt')"
   ]
  },
  {
   "cell_type": "code",
   "execution_count": null,
   "metadata": {},
   "outputs": [],
=======
   "cell_type": "markdown",
   "metadata": {},
   "source": [
    "# Advent of code 2019, day 20"
   ]
  },
  {
   "cell_type": "markdown",
   "metadata": {},
>>>>>>> d56a213e7a2023cff859aadeb9487c8320b4f28a
   "source": []
  }
 ],
 "metadata": {
<<<<<<< HEAD
  "interpreter": {
   "hash": "a7861172d2007d4541fab3e4eefe3a41dabba6fa735ecd87066a89563db3fd59"
  },
  "kernelspec": {
   "display_name": "Python 3.10.4 ('ds')",
   "language": "python",
   "name": "python3"
  },
  "language_info": {
   "codemirror_mode": {
    "name": "ipython",
    "version": 3
   },
   "file_extension": ".py",
   "mimetype": "text/x-python",
   "name": "python",
   "nbconvert_exporter": "python",
   "pygments_lexer": "ipython3",
   "version": "3.10.4"
=======
  "language_info": {
   "name": "python"
>>>>>>> d56a213e7a2023cff859aadeb9487c8320b4f28a
  },
  "orig_nbformat": 4
 },
 "nbformat": 4,
 "nbformat_minor": 2
}
