{
 "cells": [
  {
   "cell_type": "code",
   "execution_count": 24,
   "metadata": {},
   "outputs": [],
   "source": [
    "from intcode import IntCode"
   ]
  },
  {
   "cell_type": "markdown",
   "metadata": {},
   "source": [
    "### Part 1\n",
    "$ \\neg (A \\land B \\land C) \\land D $\n",
    "\n",
    "### Part 2\n",
    "$\\neg (A \\land B \\land C) \\land D  \\land (E \\lor H)$"
   ]
  },
  {
   "cell_type": "code",
   "execution_count": 43,
   "metadata": {},
   "outputs": [],
   "source": [
    "jumpcode2 = \"\"\"NOT C J\n",
    "NOT B T\n",
    "OR T J\n",
    "NOT A T\n",
    "OR T J\n",
    "AND D J\n",
    "WALK\n",
    "\"\"\"\n",
    "\n",
    "jumpcode3 = \"\"\"NOT A J\n",
    "NOT B T\n",
    "OR T J\n",
    "NOT C T\n",
    "OR T J\n",
    "AND D J\n",
    "NOT E T\n",
    "NOT T T\n",
    "OR H T\n",
    "AND T J\n",
    "RUN\n",
    "\"\"\""
   ]
  },
  {
   "cell_type": "code",
   "execution_count": 27,
   "metadata": {},
   "outputs": [],
   "source": [
    "def runit(jumpcode):\n",
    "    inputs = list(map(ord, jumpcode))\n",
    "    outputs = []\n",
    "    filename = '21_input.txt'\n",
    "    intcode = IntCode(inputs, outputs, filename)\n",
    "    intcode.run()\n",
    "    return intcode.outputs"
   ]
  },
  {
   "cell_type": "code",
   "execution_count": 44,
   "metadata": {},
   "outputs": [],
   "source": [
    "out = runit(jumpcode3)"
   ]
  },
  {
   "cell_type": "code",
   "execution_count": 46,
   "metadata": {},
   "outputs": [
    {
     "name": "stdout",
     "output_type": "stream",
     "text": [
      "Answer: 1139528802\n"
     ]
    }
   ],
   "source": [
    "if out[-1] > 256:\n",
    "    print(f'Answer: {out[-1]}')\n",
    "else:\n",
    "    print(''.join(list(map(chr, out))))"
   ]
  }
 ],
 "metadata": {
  "kernelspec": {
   "display_name": "Python 3.10.4 ('ds')",
   "language": "python",
   "name": "python3"
  },
  "language_info": {
   "codemirror_mode": {
    "name": "ipython",
    "version": 3
   },
   "file_extension": ".py",
   "mimetype": "text/x-python",
   "name": "python",
   "nbconvert_exporter": "python",
   "pygments_lexer": "ipython3",
   "version": "3.10.4"
  },
  "orig_nbformat": 4,
  "vscode": {
   "interpreter": {
    "hash": "a7861172d2007d4541fab3e4eefe3a41dabba6fa735ecd87066a89563db3fd59"
   }
  }
 },
 "nbformat": 4,
 "nbformat_minor": 2
}
