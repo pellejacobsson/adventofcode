{
 "cells": [
  {
   "cell_type": "markdown",
   "metadata": {},
   "source": [
    "Starting to **really** hate intcode programs...\n",
    "\n",
    "Used a lot of \"inspiration\" form other people's code for this one."
   ]
  },
  {
   "cell_type": "code",
   "execution_count": 4,
   "metadata": {},
   "outputs": [],
   "source": [
    "from netintcode import NetIntcode, NAT"
   ]
  },
  {
   "cell_type": "code",
   "execution_count": 2,
   "metadata": {},
   "outputs": [],
   "source": [
    "def runit1(filename):\n",
    "    network = []\n",
    "    for address in range(50):\n",
    "        network.append(NetIntcode('23_input.txt', address, 255, network))\n",
    "    while True:\n",
    "        for c in network:\n",
    "            packet = c.run_until_io()\n",
    "            if packet is not None and packet[0] == 255:\n",
    "                return packet[2]"
   ]
  },
  {
   "cell_type": "code",
   "execution_count": 3,
   "metadata": {},
   "outputs": [
    {
     "data": {
      "text/plain": [
       "21897"
      ]
     },
     "execution_count": 3,
     "metadata": {},
     "output_type": "execute_result"
    }
   ],
   "source": [
    "runit1('23_input.txt')"
   ]
  },
  {
   "cell_type": "code",
   "execution_count": 6,
   "metadata": {},
   "outputs": [],
   "source": [
    "def runit2(filename):\n",
    "    network = []\n",
    "    for address in range(50):\n",
    "        network.append(NetIntcode('23_input.txt', address, 255, network))\n",
    "    nat = NAT(network)\n",
    "    while True:\n",
    "        for c in network:\n",
    "            packet = c.run_until_io()\n",
    "            if packet is not None and packet[0] == 255:\n",
    "                nat.packet = (packet[1], packet[2])\n",
    "        if nat.is_network_idle() and nat.has_packet():\n",
    "            if nat.is_repeated_y():\n",
    "                return nat.last_y_delivered\n",
    "            else:\n",
    "                nat.last_y_delivered = None\n",
    "            nat.send_packet()"
   ]
  },
  {
   "cell_type": "code",
   "execution_count": 7,
   "metadata": {},
   "outputs": [
    {
     "data": {
      "text/plain": [
       "16424"
      ]
     },
     "execution_count": 7,
     "metadata": {},
     "output_type": "execute_result"
    }
   ],
   "source": [
    "runit2('23_input.txt')"
   ]
  }
 ],
 "metadata": {
  "kernelspec": {
   "display_name": "Python 3.10.4 ('ds')",
   "language": "python",
   "name": "python3"
  },
  "language_info": {
   "codemirror_mode": {
    "name": "ipython",
    "version": 3
   },
   "file_extension": ".py",
   "mimetype": "text/x-python",
   "name": "python",
   "nbconvert_exporter": "python",
   "pygments_lexer": "ipython3",
   "version": "3.10.4"
  },
  "orig_nbformat": 4,
  "vscode": {
   "interpreter": {
    "hash": "a7861172d2007d4541fab3e4eefe3a41dabba6fa735ecd87066a89563db3fd59"
   }
  }
 },
 "nbformat": 4,
 "nbformat_minor": 2
}
