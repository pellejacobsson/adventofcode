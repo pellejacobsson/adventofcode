{
 "cells": [
  {
   "cell_type": "code",
   "execution_count": 8,
   "metadata": {},
   "outputs": [],
   "source": [
    "class IntCode:\n",
    "    def __init__(self, i = 0, rel = 0):\n",
    "        self.i = i\n",
    "        self.rel = rel\n",
    "\n",
    "    def read_code(self, filename):\n",
    "        with open(filename, 'r') as f:\n",
    "            instruction = [int(x) for x in f.read().split(',')]\n",
    "        self.instruction = instruction + [0]*1000\n",
    "\n",
    "    def run(self, input):\n",
    "        i = self.i\n",
    "        rel = self.rel\n",
    "        instruction = self.instruction\n",
    "        while instruction[i] != 99:\n",
    "            opcode = instruction[i]\n",
    "            opcode_list = [int(x) for x in str(opcode)]\n",
    "            opcode_list = [0]*(5 - len(opcode_list)) + opcode_list\n",
    "            a, b, c, d, e = opcode_list\n",
    "            if e == 1 or e == 2:\n",
    "                if c == 0:\n",
    "                    p1 = instruction[instruction[i + 1]]\n",
    "                elif c == 1:\n",
    "                    p1 = instruction[i + 1]\n",
    "                elif c == 2:\n",
    "                    p1 = instruction[instruction[i + 1] + rel]\n",
    "                else:\n",
    "                    raise ValueError('Parameter error')\n",
    "                if b == 0:\n",
    "                    p2 = instruction[instruction[i + 2]]\n",
    "                elif b == 1:\n",
    "                    p2 = instruction[i + 2]\n",
    "                elif b == 2:\n",
    "                    p2 = instruction[instruction[i + 2] + rel]\n",
    "                else:\n",
    "                    raise ValueError('Parameter error')\n",
    "                if a == 0:\n",
    "                    p3 = instruction[i + 3]\n",
    "                elif a == 2:\n",
    "                    p3 = instruction[i + 3] + rel\n",
    "                else:\n",
    "                    raise ValueError('Parameter error')\n",
    "                instruction[p3] = p1 + p2 if e == 1 else p1 * p2\n",
    "                i += 4\n",
    "            elif e == 3:\n",
    "                current_input = input.pop(0)\n",
    "                if c == 0:\n",
    "                    p1 = instruction[i + 1]\n",
    "                elif c == 2:\n",
    "                    p1 = instruction[i + 1] + rel\n",
    "                else:\n",
    "                    raise ValueError('Parameter error')\n",
    "                instruction[p1] = current_input\n",
    "                i += 2\n",
    "            elif e == 4:\n",
    "                if c == 0:\n",
    "                    p1 = instruction[instruction[i + 1]]\n",
    "                elif c == 1:\n",
    "                    p1 = instruction[i + 1]\n",
    "                elif c == 2:\n",
    "                    p1 = instruction[instruction[i + 1] + rel]\n",
    "                else:\n",
    "                    raise ValueError('Parameter error')\n",
    "                i += 2\n",
    "                self.i = i\n",
    "                self.rel = rel\n",
    "                return p1\n",
    "            elif e == 5 or e == 6:\n",
    "                if c == 0:\n",
    "                    p1 = instruction[instruction[i + 1]]\n",
    "                elif c == 1:\n",
    "                    p1 = instruction[i + 1]\n",
    "                elif c == 2:\n",
    "                    p1 = instruction[instruction[i + 1] + rel]\n",
    "                else:\n",
    "                    raise ValueError('Parameter error')\n",
    "                if b == 0:\n",
    "                    p2 = instruction[instruction[i + 2]]\n",
    "                elif b == 1:\n",
    "                    p2 = instruction[i + 2]\n",
    "                elif b == 2:\n",
    "                    p2 = instruction[instruction[i + 2] + rel]\n",
    "                else:\n",
    "                    raise ValueError('Parameter error')\n",
    "                if e == 5 and p1 != 0:\n",
    "                    i = p2\n",
    "                elif e == 6 and p1 == 0:\n",
    "                    i = p2\n",
    "                else:\n",
    "                    i += 3\n",
    "            elif e == 7 or e == 8:\n",
    "                if c == 0:\n",
    "                    p1 = instruction[instruction[i + 1]]\n",
    "                elif c == 1:\n",
    "                    p1 = instruction[i + 1]\n",
    "                elif c == 2:\n",
    "                    p1 = instruction[instruction[i + 1] + rel]\n",
    "                else:\n",
    "                    raise ValueError('Parameter error')\n",
    "                if b == 0:\n",
    "                    p2 = instruction[instruction[i + 2]]\n",
    "                elif b == 1:\n",
    "                    p2 = instruction[i + 2]\n",
    "                elif b == 2:\n",
    "                    p2 = instruction[instruction[i + 2] + rel]\n",
    "                else:\n",
    "                    raise ValueError('Parameter error')\n",
    "                if a == 0:\n",
    "                    p3 = instruction[i + 3]\n",
    "                elif a == 2:\n",
    "                    p3 = instruction[i + 3] + rel\n",
    "                else:\n",
    "                    raise ValueError('Parameter error')\n",
    "                if e == 7:\n",
    "                    instruction[p3] = 1 if p1 < p2 else 0\n",
    "                else:\n",
    "                    instruction[p3] = 1 if p1 == p2 else 0\n",
    "                i += 4\n",
    "            elif e == 9:\n",
    "                if c == 0:\n",
    "                    p1 = instruction[instruction[i + 1]]\n",
    "                elif c == 1:\n",
    "                    p1 = instruction[i + 1]\n",
    "                elif c == 2:\n",
    "                    p1 = instruction[instruction[i + 1] + rel]\n",
    "                else:\n",
    "                    raise ValueError('Parameter error')\n",
    "                rel += p1\n",
    "                i += 2\n",
    "            else:\n",
    "                print(opcode)\n",
    "                raise ValueError('Opcode error')\n",
    "        self.i = i\n",
    "        self.rel = rel\n",
    "        return None\n",
    "\n"
   ]
  },
  {
   "cell_type": "code",
   "execution_count": 26,
   "metadata": {},
   "outputs": [],
   "source": [
    "intcode = IntCode()"
   ]
  },
  {
   "cell_type": "code",
   "execution_count": 27,
   "metadata": {},
   "outputs": [],
   "source": [
    "intcode.read_code('19_input.txt')"
   ]
  },
  {
   "cell_type": "markdown",
   "metadata": {},
   "source": [
    "I have to reset the intcode for every run. Correct? It works."
   ]
  },
  {
   "cell_type": "code",
   "execution_count": 72,
   "metadata": {},
   "outputs": [],
   "source": [
    "b = {}\n",
    "for i in range(50):\n",
    "    for j in range(50):\n",
    "        intcode = IntCode()\n",
    "        intcode.read_code('19_input.txt')\n",
    "        b[(i, j)] = intcode.run([i, j])"
   ]
  },
  {
   "cell_type": "code",
   "execution_count": 73,
   "metadata": {},
   "outputs": [],
   "source": [
    "bb = [[b[(i, j)] for i in range(50)] for j in range(50)]"
   ]
  },
  {
   "cell_type": "code",
   "execution_count": 74,
   "metadata": {},
   "outputs": [
    {
     "data": {
      "text/plain": [
       "164"
      ]
     },
     "execution_count": 74,
     "metadata": {},
     "output_type": "execute_result"
    }
   ],
   "source": [
    "sum([b[(i, j)] for i in range(50) for j in range(50)])"
   ]
  },
  {
   "cell_type": "markdown",
   "metadata": {},
   "source": [
    "## Part 2\n",
    "Not proud of this..."
   ]
  },
  {
   "cell_type": "code",
   "execution_count": 92,
   "metadata": {},
   "outputs": [],
   "source": [
    "b =  []\n",
    "for i in range(1000):\n",
    "    for j in [744]:\n",
    "        intcode = IntCode()\n",
    "        intcode.read_code('19_input.txt')\n",
    "        b.append(str(intcode.run([i, j])))"
   ]
  },
  {
   "cell_type": "code",
   "execution_count": 93,
   "metadata": {},
   "outputs": [
    {
     "data": {
      "text/plain": [
       "'0000000000000000000000000000000000000000000000000000000000000000000000000000000000000000000000000000000000000000000000000000000000000000000000000000000000000000000000000000000000000000000000000000000000000000000000000000000000000000000000000000000000000000000000000000000000000000000000000000000000000000000000000000000000000000000000000000000000000000000000000000000000000000000000000000000000000000000000000000000000000000000000000000000000000000000000000000000000000000000000000000000000000000000000000000000000000000000000000000000000000000000000000000000000000000000000000000000000000000000000000000000000000000000000000000000000000000000000000000000000000000000000000000000000000000000000000000000000000000000000000000000000000000000000000000000000000000000000000000000000000000000000000000000000000000000000000000000000000000000000000000000011111111111111111111111111111111111111111111111111111111111111111111111111111111111111111111111111111111111111111111111111111111111111111111111111111110'"
      ]
     },
     "execution_count": 93,
     "metadata": {},
     "output_type": "execute_result"
    }
   ],
   "source": [
    "''.join(b)"
   ]
  },
  {
   "cell_type": "code",
   "execution_count": 112,
   "metadata": {},
   "outputs": [],
   "source": [
    "def get_delta(x, y):\n",
    "    ku = 744 / 998\n",
    "    kd = 744 / 848\n",
    "    dx = 1 / ku * y - x\n",
    "    dy = kd * x - y\n",
    "    return dx, dy\n"
   ]
  },
  {
   "cell_type": "code",
   "execution_count": 118,
   "metadata": {},
   "outputs": [],
   "source": [
    "from math import sqrt"
   ]
  },
  {
   "cell_type": "code",
   "execution_count": 124,
   "metadata": {},
   "outputs": [],
   "source": [
    "d = sqrt(2000**2 + 2000**2)\n",
    "x_best = 0\n",
    "y_best = 0\n",
    "for x in range(2000):\n",
    "    for y in range(2000):\n",
    "        dx, dy = get_delta(x, y)\n",
    "        if dx > 99 and dy > 99:\n",
    "            if sqrt(x**2 + y**2) < d:\n",
    "                d = sqrt(x**2 + y**2)\n",
    "                x_best = x\n",
    "                y_best = y\n"
   ]
  },
  {
   "cell_type": "code",
   "execution_count": 125,
   "metadata": {},
   "outputs": [
    {
     "data": {
      "text/plain": [
       "(1312, 1052)"
      ]
     },
     "execution_count": 125,
     "metadata": {},
     "output_type": "execute_result"
    }
   ],
   "source": [
    "x_best, y_best"
   ]
  },
  {
   "cell_type": "code",
   "execution_count": 181,
   "metadata": {},
   "outputs": [],
   "source": [
    "def get_pos(x, y):\n",
    "    intcode = IntCode()\n",
    "    intcode.read_code('19_input.txt')\n",
    "    return intcode.run([x, y])\n",
    "\n",
    "def does_fit(x, y):\n",
    "    p1 = get_pos(x, y)\n",
    "    if p1:\n",
    "        p2 = get_pos(x + 99, y)\n",
    "        if p2:\n",
    "            p3 = get_pos(x, y + 99)\n",
    "            if p3:\n",
    "                p4 = get_pos(x + 99, y + 99)\n",
    "                if p4:\n",
    "                    return True\n",
    "    return False\n",
    "    "
   ]
  },
  {
   "cell_type": "code",
   "execution_count": 186,
   "metadata": {},
   "outputs": [
    {
     "name": "stdout",
     "output_type": "stream",
     "text": [
      "1308 1049\n"
     ]
    }
   ],
   "source": [
    "for x in range(1290, 1310):\n",
    "    for y in range(1030, 1050):\n",
    "        if does_fit(x, y):\n",
    "            print(x, y)"
   ]
  }
 ],
 "metadata": {
  "interpreter": {
   "hash": "b0fa6594d8f4cbf19f97940f81e996739fb7646882a419484c72d19e05852a7e"
  },
  "kernelspec": {
   "display_name": "Python 3.9.10 64-bit",
   "language": "python",
   "name": "python3"
  },
  "language_info": {
   "codemirror_mode": {
    "name": "ipython",
    "version": 3
   },
   "file_extension": ".py",
   "mimetype": "text/x-python",
   "name": "python",
   "nbconvert_exporter": "python",
   "pygments_lexer": "ipython3",
   "version": "3.8.10"
  },
  "orig_nbformat": 4
 },
 "nbformat": 4,
 "nbformat_minor": 2
}
