{
 "cells": [
  {
   "cell_type": "code",
   "execution_count": 2,
   "metadata": {},
   "outputs": [],
   "source": [
    "class IntCode:\n",
    "    def __init__(self, i = 0, rel = 0):\n",
    "        self.i = i\n",
    "        self.rel = rel\n",
    "\n",
    "    def read_code(self, filename):\n",
    "        with open(filename, 'r') as f:\n",
    "            instruction = [int(x) for x in f.read().split(',')]\n",
    "        self.instruction = instruction + [0]*1000\n",
    "\n",
    "    def run(self, input):\n",
    "        i = self.i\n",
    "        rel = self.rel\n",
    "        instruction = self.instruction\n",
    "        while instruction[i] != 99:\n",
    "            opcode = instruction[i]\n",
    "            opcode_list = [int(x) for x in str(opcode)]\n",
    "            opcode_list = [0]*(5 - len(opcode_list)) + opcode_list\n",
    "            a, b, c, d, e = opcode_list\n",
    "            if e == 1 or e == 2:\n",
    "                if c == 0:\n",
    "                    p1 = instruction[instruction[i + 1]]\n",
    "                elif c == 1:\n",
    "                    p1 = instruction[i + 1]\n",
    "                elif c == 2:\n",
    "                    p1 = instruction[instruction[i + 1] + rel]\n",
    "                else:\n",
    "                    raise ValueError('Parameter error')\n",
    "                if b == 0:\n",
    "                    p2 = instruction[instruction[i + 2]]\n",
    "                elif b == 1:\n",
    "                    p2 = instruction[i + 2]\n",
    "                elif b == 2:\n",
    "                    p2 = instruction[instruction[i + 2] + rel]\n",
    "                else:\n",
    "                    raise ValueError('Parameter error')\n",
    "                if a == 0:\n",
    "                    p3 = instruction[i + 3]\n",
    "                elif a == 2:\n",
    "                    p3 = instruction[i + 3] + rel\n",
    "                else:\n",
    "                    raise ValueError('Parameter error')\n",
    "                instruction[p3] = p1 + p2 if e == 1 else p1 * p2\n",
    "                i += 4\n",
    "            elif e == 3:\n",
    "                current_input = input.pop(0)\n",
    "                if c == 0:\n",
    "                    p1 = instruction[i + 1]\n",
    "                elif c == 2:\n",
    "                    p1 = instruction[i + 1] + rel\n",
    "                else:\n",
    "                    raise ValueError('Parameter error')\n",
    "                instruction[p1] = current_input\n",
    "                i += 2\n",
    "            elif e == 4:\n",
    "                if c == 0:\n",
    "                    p1 = instruction[instruction[i + 1]]\n",
    "                elif c == 1:\n",
    "                    p1 = instruction[i + 1]\n",
    "                elif c == 2:\n",
    "                    p1 = instruction[instruction[i + 1] + rel]\n",
    "                else:\n",
    "                    raise ValueError('Parameter error')\n",
    "                i += 2\n",
    "                self.i = i\n",
    "                self.rel = rel\n",
    "                return p1\n",
    "            elif e == 5 or e == 6:\n",
    "                if c == 0:\n",
    "                    p1 = instruction[instruction[i + 1]]\n",
    "                elif c == 1:\n",
    "                    p1 = instruction[i + 1]\n",
    "                elif c == 2:\n",
    "                    p1 = instruction[instruction[i + 1] + rel]\n",
    "                else:\n",
    "                    raise ValueError('Parameter error')\n",
    "                if b == 0:\n",
    "                    p2 = instruction[instruction[i + 2]]\n",
    "                elif b == 1:\n",
    "                    p2 = instruction[i + 2]\n",
    "                elif b == 2:\n",
    "                    p2 = instruction[instruction[i + 2] + rel]\n",
    "                else:\n",
    "                    raise ValueError('Parameter error')\n",
    "                if e == 5 and p1 != 0:\n",
    "                    i = p2\n",
    "                elif e == 6 and p1 == 0:\n",
    "                    i = p2\n",
    "                else:\n",
    "                    i += 3\n",
    "            elif e == 7 or e == 8:\n",
    "                if c == 0:\n",
    "                    p1 = instruction[instruction[i + 1]]\n",
    "                elif c == 1:\n",
    "                    p1 = instruction[i + 1]\n",
    "                elif c == 2:\n",
    "                    p1 = instruction[instruction[i + 1] + rel]\n",
    "                else:\n",
    "                    raise ValueError('Parameter error')\n",
    "                if b == 0:\n",
    "                    p2 = instruction[instruction[i + 2]]\n",
    "                elif b == 1:\n",
    "                    p2 = instruction[i + 2]\n",
    "                elif b == 2:\n",
    "                    p2 = instruction[instruction[i + 2] + rel]\n",
    "                else:\n",
    "                    raise ValueError('Parameter error')\n",
    "                if a == 0:\n",
    "                    p3 = instruction[i + 3]\n",
    "                elif a == 2:\n",
    "                    p3 = instruction[i + 3] + rel\n",
    "                else:\n",
    "                    raise ValueError('Parameter error')\n",
    "                if e == 7:\n",
    "                    instruction[p3] = 1 if p1 < p2 else 0\n",
    "                else:\n",
    "                    instruction[p3] = 1 if p1 == p2 else 0\n",
    "                i += 4\n",
    "            elif e == 9:\n",
    "                if c == 0:\n",
    "                    p1 = instruction[instruction[i + 1]]\n",
    "                elif c == 1:\n",
    "                    p1 = instruction[i + 1]\n",
    "                elif c == 2:\n",
    "                    p1 = instruction[instruction[i + 1] + rel]\n",
    "                else:\n",
    "                    raise ValueError('Parameter error')\n",
    "                rel += p1\n",
    "                i += 2\n",
    "            else:\n",
    "                print(opcode)\n",
    "                raise ValueError('Opcode error')\n",
    "        self.i = i\n",
    "        self.rel = rel\n",
    "        return None\n",
    "\n"
   ]
  },
  {
   "cell_type": "markdown",
   "metadata": {},
   "source": [
    "I have to reset the intcode for every run. Correct? It works."
   ]
  },
  {
   "cell_type": "code",
   "execution_count": 5,
   "metadata": {},
   "outputs": [],
   "source": [
    "b = {}\n",
    "for i in range(50):\n",
    "    for j in range(50):\n",
    "        intcode = IntCode()\n",
    "        intcode.read_code('19_input.txt')\n",
    "        b[(i, j)] = intcode.run([i, j])"
   ]
  },
  {
   "cell_type": "code",
   "execution_count": 6,
   "metadata": {},
   "outputs": [],
   "source": [
    "bb = [[b[(i, j)] for i in range(50)] for j in range(50)]"
   ]
  },
  {
   "cell_type": "markdown",
   "metadata": {},
   "source": [
    "Visualize beam direction"
   ]
  },
  {
   "cell_type": "code",
   "execution_count": 17,
   "metadata": {},
   "outputs": [
    {
     "data": {
      "text/plain": [
       "['10000000000000000000000000000000000000000000000000',\n",
       " '00000000000000000000000000000000000000000000000000',\n",
       " '00000000000000000000000000000000000000000000000000',\n",
       " '00001000000000000000000000000000000000000000000000',\n",
       " '00000100000000000000000000000000000000000000000000',\n",
       " '00000010000000000000000000000000000000000000000000',\n",
       " '00000001100000000000000000000000000000000000000000',\n",
       " '00000000110000000000000000000000000000000000000000',\n",
       " '00000000001000000000000000000000000000000000000000',\n",
       " '00000000000110000000000000000000000000000000000000',\n",
       " '00000000000011000000000000000000000000000000000000',\n",
       " '00000000000001100000000000000000000000000000000000',\n",
       " '00000000000000111000000000000000000000000000000000',\n",
       " '00000000000000011100000000000000000000000000000000',\n",
       " '00000000000000001110000000000000000000000000000000',\n",
       " '00000000000000000011100000000000000000000000000000',\n",
       " '00000000000000000001110000000000000000000000000000',\n",
       " '00000000000000000000111000000000000000000000000000',\n",
       " '00000000000000000000011110000000000000000000000000',\n",
       " '00000000000000000000001111000000000000000000000000',\n",
       " '00000000000000000000000111100000000000000000000000',\n",
       " '00000000000000000000000011111000000000000000000000',\n",
       " '00000000000000000000000000111100000000000000000000',\n",
       " '00000000000000000000000000011110000000000000000000',\n",
       " '00000000000000000000000000001111100000000000000000',\n",
       " '00000000000000000000000000000111110000000000000000',\n",
       " '00000000000000000000000000000011111000000000000000',\n",
       " '00000000000000000000000000000001111110000000000000',\n",
       " '00000000000000000000000000000000111111000000000000',\n",
       " '00000000000000000000000000000000001111100000000000',\n",
       " '00000000000000000000000000000000000111111000000000',\n",
       " '00000000000000000000000000000000000011111100000000',\n",
       " '00000000000000000000000000000000000001111110000000',\n",
       " '00000000000000000000000000000000000000111111100000',\n",
       " '00000000000000000000000000000000000000011111110000',\n",
       " '00000000000000000000000000000000000000001111111000',\n",
       " '00000000000000000000000000000000000000000011111110']"
      ]
     },
     "execution_count": 17,
     "metadata": {},
     "output_type": "execute_result"
    }
   ],
   "source": [
    "[''.join([str(s) for s in l]) for l in bb][:37]"
   ]
  },
  {
   "cell_type": "markdown",
   "metadata": {},
   "source": [
    "Part 1 answer"
   ]
  },
  {
   "cell_type": "code",
   "execution_count": 18,
   "metadata": {},
   "outputs": [
    {
     "data": {
      "text/plain": [
       "164"
      ]
     },
     "execution_count": 18,
     "metadata": {},
     "output_type": "execute_result"
    }
   ],
   "source": [
    "sum([b[(i, j)] for i in range(50) for j in range(50)])"
   ]
  },
  {
   "cell_type": "markdown",
   "metadata": {},
   "source": [
    "## Part 2\n",
    "Not proud of this..."
   ]
  },
  {
   "cell_type": "code",
   "execution_count": 19,
   "metadata": {},
   "outputs": [],
   "source": [
    "b =  []\n",
    "for i in range(1000):\n",
    "    for j in [744]:\n",
    "        intcode = IntCode()\n",
    "        intcode.read_code('19_input.txt')\n",
    "        b.append(str(intcode.run([i, j])))"
   ]
  },
  {
   "cell_type": "code",
   "execution_count": 20,
   "metadata": {},
   "outputs": [
    {
     "data": {
      "text/plain": [
       "'0000000000000000000000000000000000000000000000000000000000000000000000000000000000000000000000000000000000000000000000000000000000000000000000000000000000000000000000000000000000000000000000000000000000000000000000000000000000000000000000000000000000000000000000000000000000000000000000000000000000000000000000000000000000000000000000000000000000000000000000000000000000000000000000000000000000000000000000000000000000000000000000000000000000000000000000000000000000000000000000000000000000000000000000000000000000000000000000000000000000000000000000000000000000000000000000000000000000000000000000000000000000000000000000000000000000000000000000000000000000000000000000000000000000000000000000000000000000000000000000000000000000000000000000000000000000000000000000000000000000000000000000000000000000000000000000000000000000000000000000000000000011111111111111111111111111111111111111111111111111111111111111111111111111111111111111111111111111111111111111111111111111111111111111111111111111111110'"
      ]
     },
     "execution_count": 20,
     "metadata": {},
     "output_type": "execute_result"
    }
   ],
   "source": [
    "''.join(b)"
   ]
  },
  {
   "cell_type": "code",
   "execution_count": 21,
   "metadata": {},
   "outputs": [],
   "source": [
    "def get_delta(x, y):\n",
    "    ku = 744 / 998\n",
    "    kd = 744 / 848\n",
    "    dx = 1 / ku * y - x\n",
    "    dy = kd * x - y\n",
    "    return dx, dy\n"
   ]
  },
  {
   "cell_type": "code",
   "execution_count": 22,
   "metadata": {},
   "outputs": [],
   "source": [
    "from math import sqrt"
   ]
  },
  {
   "cell_type": "code",
   "execution_count": 23,
   "metadata": {},
   "outputs": [],
   "source": [
    "d = sqrt(2000**2 + 2000**2)\n",
    "x_best = 0\n",
    "y_best = 0\n",
    "for x in range(2000):\n",
    "    for y in range(2000):\n",
    "        dx, dy = get_delta(x, y)\n",
    "        if dx > 99 and dy > 99:\n",
    "            if sqrt(x**2 + y**2) < d:\n",
    "                d = sqrt(x**2 + y**2)\n",
    "                x_best = x\n",
    "                y_best = y\n"
   ]
  },
  {
   "cell_type": "code",
   "execution_count": 24,
   "metadata": {},
   "outputs": [
    {
     "data": {
      "text/plain": [
       "(1312, 1052)"
      ]
     },
     "execution_count": 24,
     "metadata": {},
     "output_type": "execute_result"
    }
   ],
   "source": [
    "x_best, y_best"
   ]
  },
  {
   "cell_type": "code",
   "execution_count": 25,
   "metadata": {},
   "outputs": [],
   "source": [
    "def get_pos(x, y):\n",
    "    intcode = IntCode()\n",
    "    intcode.read_code('19_input.txt')\n",
    "    return intcode.run([x, y])\n",
    "\n",
    "def does_fit(x, y):\n",
    "    p1 = get_pos(x, y)\n",
    "    if p1:\n",
    "        p2 = get_pos(x + 99, y)\n",
    "        if p2:\n",
    "            p3 = get_pos(x, y + 99)\n",
    "            if p3:\n",
    "                p4 = get_pos(x + 99, y + 99)\n",
    "                if p4:\n",
    "                    return True\n",
    "    return False\n",
    "    "
   ]
  },
  {
   "cell_type": "code",
   "execution_count": 26,
   "metadata": {},
   "outputs": [
    {
     "name": "stdout",
     "output_type": "stream",
     "text": [
      "1308 1049\n",
      "1309 1050\n"
     ]
    }
   ],
   "source": [
    "for x in range(1290, 1312):\n",
    "    for y in range(1030, 1052):\n",
    "        if does_fit(x, y):\n",
    "            print(x, y)"
   ]
  }
 ],
 "metadata": {
  "interpreter": {
   "hash": "b0fa6594d8f4cbf19f97940f81e996739fb7646882a419484c72d19e05852a7e"
  },
  "kernelspec": {
   "display_name": "Python 3.9.10 64-bit",
   "language": "python",
   "name": "python3"
  },
  "language_info": {
   "codemirror_mode": {
    "name": "ipython",
    "version": 3
   },
   "file_extension": ".py",
   "mimetype": "text/x-python",
   "name": "python",
   "nbconvert_exporter": "python",
   "pygments_lexer": "ipython3",
   "version": "3.8.10"
  },
  "orig_nbformat": 4
 },
 "nbformat": 4,
 "nbformat_minor": 2
}
