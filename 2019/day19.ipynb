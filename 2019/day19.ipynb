{
 "cells": [
  {
   "cell_type": "code",
   "execution_count": 43,
   "metadata": {},
   "outputs": [],
   "source": [
    "class IntCode:\n",
    "    def __init__(self, i = 0):\n",
    "        self.i = i\n",
    "        self.rel = 0\n",
    "\n",
    "    def read_code(self, filename):\n",
    "        with open(filename, 'r') as f:\n",
    "            instruction = [int(x) for x in f.read().split(',')]\n",
    "        self.instruction = instruction + [0]*1000\n",
    "\n",
    "    def run(self, input):\n",
    "        i = self.i\n",
    "        rel = self.rel\n",
    "        instruction = self.instruction\n",
    "        while instruction[i] != 99:\n",
    "            opcode = instruction[i]\n",
    "            opcode_list = [int(x) for x in str(opcode)]\n",
    "            opcode_list = [0]*(5 - len(opcode_list)) + opcode_list\n",
    "            a, b, c, d, e = opcode_list\n",
    "            if e == 1 or e == 2:\n",
    "                if c == 0:\n",
    "                    p1 = instruction[instruction[i + 1]]\n",
    "                elif c == 1:\n",
    "                    p1 = instruction[i + 1]\n",
    "                elif c == 2:\n",
    "                    p1 = instruction[instruction[i + 1] + rel]\n",
    "                else:\n",
    "                    raise ValueError('Parameter error')\n",
    "                if b == 0:\n",
    "                    p2 = instruction[instruction[i + 2]]\n",
    "                elif b == 1:\n",
    "                    p2 = instruction[i + 2]\n",
    "                elif b == 2:\n",
    "                    p2 = instruction[instruction[i + 2] + rel]\n",
    "                else:\n",
    "                    raise ValueError('Parameter error')\n",
    "                if a == 0:\n",
    "                    p3 = instruction[i + 3]\n",
    "                elif a == 2:\n",
    "                    p3 = instruction[i + 3] + rel\n",
    "                else:\n",
    "                    raise ValueError('Parameter error')\n",
    "                instruction[p3] = p1 + p2 if e == 1 else p1 * p2\n",
    "                i += 4\n",
    "            elif e == 3:\n",
    "                current_input = input.pop(0)\n",
    "                if c == 0:\n",
    "                    p1 = instruction[i + 1]\n",
    "                elif c == 2:\n",
    "                    p1 = instruction[i + 1] + rel\n",
    "                else:\n",
    "                    raise ValueError('Parameter error')\n",
    "                instruction[p1] = current_input\n",
    "                i += 2\n",
    "            elif e == 4:\n",
    "                if c == 0:\n",
    "                    p1 = instruction[instruction[i + 1]]\n",
    "                elif c == 1:\n",
    "                    p1 = instruction[i + 1]\n",
    "                elif c == 2:\n",
    "                    p1 = instruction[instruction[i + 1] + rel]\n",
    "                else:\n",
    "                    raise ValueError('Parameter error')\n",
    "                i += 2\n",
    "                self.i = i\n",
    "                self.rel = rel\n",
    "                return p1\n",
    "            elif e == 5 or e == 6:\n",
    "                if c == 0:\n",
    "                    p1 = instruction[instruction[i + 1]]\n",
    "                elif c == 1:\n",
    "                    p1 = instruction[i + 1]\n",
    "                elif c == 2:\n",
    "                    p1 = instruction[instruction[i + 1] + rel]\n",
    "                else:\n",
    "                    raise ValueError('Parameter error')\n",
    "                if b == 0:\n",
    "                    p2 = instruction[instruction[i + 2]]\n",
    "                elif b == 1:\n",
    "                    p2 = instruction[i + 2]\n",
    "                elif b == 2:\n",
    "                    p2 = instruction[instruction[i + 2] + rel]\n",
    "                else:\n",
    "                    raise ValueError('Parameter error')\n",
    "                if e == 5 and p1 != 0:\n",
    "                    i = p2\n",
    "                elif e == 6 and p1 == 0:\n",
    "                    i = p2\n",
    "                else:\n",
    "                    i += 3\n",
    "            elif e == 7 or e == 8:\n",
    "                if c == 0:\n",
    "                    p1 = instruction[instruction[i + 1]]\n",
    "                elif c == 1:\n",
    "                    p1 = instruction[i + 1]\n",
    "                elif c == 2:\n",
    "                    p1 = instruction[instruction[i + 1] + rel]\n",
    "                else:\n",
    "                    raise ValueError('Parameter error')\n",
    "                if b == 0:\n",
    "                    p2 = instruction[instruction[i + 2]]\n",
    "                elif b == 1:\n",
    "                    p2 = instruction[i + 2]\n",
    "                elif b == 2:\n",
    "                    p2 = instruction[instruction[i + 2] + rel]\n",
    "                else:\n",
    "                    raise ValueError('Parameter error')\n",
    "                if a == 0:\n",
    "                    p3 = instruction[i + 3]\n",
    "                elif a == 2:\n",
    "                    p3 = instruction[i + 3] + rel\n",
    "                else:\n",
    "                    raise ValueError('Parameter error')\n",
    "                if e == 7:\n",
    "                    instruction[p3] = 1 if p1 < p2 else 0\n",
    "                else:\n",
    "                    instruction[p3] = 1 if p1 == p2 else 0\n",
    "                i += 4\n",
    "            elif e == 9:\n",
    "                if c == 0:\n",
    "                    p1 = instruction[instruction[i + 1]]\n",
    "                elif c == 1:\n",
    "                    p1 = instruction[i + 1]\n",
    "                elif c == 2:\n",
    "                    p1 = instruction[instruction[i + 1] + rel]\n",
    "                else:\n",
    "                    raise ValueError('Parameter error')\n",
    "                rel += p1\n",
    "                i += 2\n",
    "            else:\n",
    "                raise ValueError('Opcode error')\n",
    "        self.i = i\n",
    "        self.rel = rel\n",
    "        return None\n",
    "\n"
   ]
  },
  {
   "cell_type": "code",
   "execution_count": 44,
   "metadata": {},
   "outputs": [],
   "source": [
    "intcode = IntCode()"
   ]
  },
  {
   "cell_type": "code",
   "execution_count": 45,
   "metadata": {},
   "outputs": [],
   "source": [
    "intcode.read_code('19_input.txt')"
   ]
  },
  {
   "cell_type": "code",
   "execution_count": 46,
   "metadata": {},
   "outputs": [
    {
     "data": {
      "text/plain": [
       "1"
      ]
     },
     "execution_count": 46,
     "metadata": {},
     "output_type": "execute_result"
    }
   ],
   "source": [
    "intcode.run([0, 0])"
   ]
  },
  {
   "cell_type": "code",
   "execution_count": 48,
   "metadata": {},
   "outputs": [
    {
     "data": {
      "text/plain": [
       "424"
      ]
     },
     "execution_count": 48,
     "metadata": {},
     "output_type": "execute_result"
    }
   ],
   "source": [
    "intcode.rel"
   ]
  }
 ],
 "metadata": {
  "interpreter": {
   "hash": "b0fa6594d8f4cbf19f97940f81e996739fb7646882a419484c72d19e05852a7e"
  },
  "kernelspec": {
   "display_name": "Python 3.9.10 64-bit",
   "language": "python",
   "name": "python3"
  },
  "language_info": {
   "codemirror_mode": {
    "name": "ipython",
    "version": 3
   },
   "file_extension": ".py",
   "mimetype": "text/x-python",
   "name": "python",
   "nbconvert_exporter": "python",
   "pygments_lexer": "ipython3",
   "version": "3.9.10"
  },
  "orig_nbformat": 4
 },
 "nbformat": 4,
 "nbformat_minor": 2
}
