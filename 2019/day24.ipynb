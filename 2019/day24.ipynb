{
 "cells": [
  {
   "cell_type": "code",
   "execution_count": 1,
   "metadata": {},
   "outputs": [],
   "source": [
    "from copy import deepcopy"
   ]
  },
  {
   "cell_type": "code",
   "execution_count": 2,
   "metadata": {},
   "outputs": [],
   "source": [
    "def read_input(filename):\n",
    "    with open(filename, 'r') as f:\n",
    "        lines = [[c for c in s.strip()] for s in f.readlines()]\n",
    "        d = {}\n",
    "        for i in range(5):\n",
    "            for j in range(5):\n",
    "                if lines[i][j] == '#':\n",
    "                    d[(i, j)] = 1\n",
    "    return d\n",
    "\n",
    "def step(tiles):\n",
    "    new_tiles = deepcopy(tiles)\n",
    "    for i in range(5):\n",
    "        for j in range(5):\n",
    "            c = 0\n",
    "            for (ii, jj) in ((i - 1, j), (i + 1, j), (i, j - 1), (i, j + 1)):\n",
    "                c += tiles.get((ii, jj), 0)\n",
    "            if (i, j) in tiles:\n",
    "                if c != 1:\n",
    "                    del new_tiles[(i, j)]\n",
    "            else:\n",
    "                if c in [1, 2]:\n",
    "                    new_tiles[(i, j)] = 1\n",
    "    return new_tiles\n",
    "\n",
    "def bio_rating(tiles):\n",
    "    s = 0\n",
    "    for (i, j) in tiles:\n",
    "        s += 2 ** (i * 5 + j)\n",
    "    return s\n",
    "\n",
    "def runit(filename):\n",
    "    tiles = read_input(filename)\n",
    "    visited_tiles = [tiles]\n",
    "    while True:\n",
    "        tiles = step(tiles)\n",
    "        if tiles in visited_tiles:\n",
    "            break\n",
    "        else:\n",
    "            visited_tiles.append(tiles)\n",
    "    return bio_rating(tiles)"
   ]
  },
  {
   "cell_type": "code",
   "execution_count": 3,
   "metadata": {},
   "outputs": [
    {
     "data": {
      "text/plain": [
       "14539258"
      ]
     },
     "execution_count": 3,
     "metadata": {},
     "output_type": "execute_result"
    }
   ],
   "source": [
    "runit('24_input.txt')"
   ]
  },
  {
   "cell_type": "code",
   "execution_count": null,
   "metadata": {},
   "outputs": [],
   "source": []
  }
 ],
 "metadata": {
  "kernelspec": {
   "display_name": "Python 3.10.4 ('ds')",
   "language": "python",
   "name": "python3"
  },
  "language_info": {
   "codemirror_mode": {
    "name": "ipython",
    "version": 3
   },
   "file_extension": ".py",
   "mimetype": "text/x-python",
   "name": "python",
   "nbconvert_exporter": "python",
   "pygments_lexer": "ipython3",
   "version": "3.10.4"
  },
  "orig_nbformat": 4,
  "vscode": {
   "interpreter": {
    "hash": "a7861172d2007d4541fab3e4eefe3a41dabba6fa735ecd87066a89563db3fd59"
   }
  }
 },
 "nbformat": 4,
 "nbformat_minor": 2
}
