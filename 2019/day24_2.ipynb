{
 "cells": [
  {
   "cell_type": "code",
   "execution_count": 4,
   "metadata": {},
   "outputs": [],
   "source": [
    "from copy import deepcopy"
   ]
  },
  {
   "cell_type": "code",
   "execution_count": 13,
   "metadata": {},
   "outputs": [],
   "source": [
    "def read_input(filename):\n",
    "    with open(filename, 'r') as f:\n",
    "        lines = [[c for c in s.strip()] for s in f.readlines()]\n",
    "        d = {}\n",
    "        for i in range(5):\n",
    "            for j in range(5):\n",
    "                if lines[i][j] == '#':\n",
    "                    d[(i, j, 0)] = 1\n",
    "    return d\n",
    "\n",
    "def step(tiles):\n",
    "    new_tiles = deepcopy(tiles)\n",
    "    k_max = max([pos[2] for pos in tiles]) + 1\n",
    "    k_min = min([pos[2] for pos in tiles]) - 1\n",
    "    for i in range(5):\n",
    "        for j in range(5):\n",
    "            for k in range(k_min, k_max + 1):\n",
    "                c = 0\n",
    "                for (ii, jj) in ((i - 1, j), (i + 1, j), (i, j - 1), (i, j + 1)):\n",
    "                    c += tiles.get((ii, jj, k), 0)\n",
    "                if i == 0:\n",
    "                    c += tiles.get((1, 2, k - 1), 0)\n",
    "                if i == 4:\n",
    "                    c += tiles.get((3, 2, k - 1), 0) \n",
    "                if i == 1 and j == 2:\n",
    "                    c += sum([tiles.get((0, jj, k + 1), 0) for jj in range(5)])\n",
    "                if i == 3 and j == 2:\n",
    "                    c += sum([tiles.get((4, jj, k + 1), 0) for jj in range(5)])\n",
    "                if j == 0:\n",
    "                    c += tiles.get((2, 1, k - 1), 0)\n",
    "                if j == 4:\n",
    "                    c += tiles.get((2, 3, k - 1), 0)\n",
    "                if j == 1 and i == 2:\n",
    "                    c += sum([tiles.get((ii, 0, k + 1), 0) for ii in range(5)])\n",
    "                if j == 3 and i == 2:\n",
    "                    c += sum([tiles.get((ii, 4, k + 1), 0) for ii in range(5)])\n",
    "                if (i, j, k) in tiles:\n",
    "                    if c != 1:\n",
    "                        del new_tiles[(i, j, k)]\n",
    "                else:\n",
    "                    if c in [1, 2]:\n",
    "                        new_tiles[(i, j, k)] = 1\n",
    "                if (2, 2, k) in new_tiles:\n",
    "                    del new_tiles[(2, 2, k)]\n",
    "    return new_tiles\n",
    "\n",
    "def runit(filename, minutes):\n",
    "    tiles = read_input(filename)\n",
    "    for n in range(minutes):\n",
    "        tiles = step(tiles)\n",
    "    return len(tiles)"
   ]
  },
  {
   "cell_type": "code",
   "execution_count": 15,
   "metadata": {},
   "outputs": [
    {
     "data": {
      "text/plain": [
       "1977"
      ]
     },
     "execution_count": 15,
     "metadata": {},
     "output_type": "execute_result"
    }
   ],
   "source": [
    "runit('24_input.txt', 200)"
   ]
  },
  {
   "cell_type": "code",
   "execution_count": null,
   "metadata": {},
   "outputs": [],
   "source": []
  }
 ],
 "metadata": {
  "kernelspec": {
   "display_name": "Python 3.10.4 ('ds')",
   "language": "python",
   "name": "python3"
  },
  "language_info": {
   "codemirror_mode": {
    "name": "ipython",
    "version": 3
   },
   "file_extension": ".py",
   "mimetype": "text/x-python",
   "name": "python",
   "nbconvert_exporter": "python",
   "pygments_lexer": "ipython3",
   "version": "3.10.4"
  },
  "orig_nbformat": 4,
  "vscode": {
   "interpreter": {
    "hash": "a7861172d2007d4541fab3e4eefe3a41dabba6fa735ecd87066a89563db3fd59"
   }
  }
 },
 "nbformat": 4,
 "nbformat_minor": 2
}
