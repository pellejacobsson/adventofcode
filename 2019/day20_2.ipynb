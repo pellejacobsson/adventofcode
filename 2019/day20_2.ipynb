{
 "cells": [
  {
   "cell_type": "code",
   "execution_count": 3,
   "metadata": {},
   "outputs": [],
   "source": [
    "from collections import defaultdict"
   ]
  },
  {
   "cell_type": "code",
   "execution_count": 30,
   "metadata": {},
   "outputs": [],
   "source": [
    "def read_input(filename):\n",
    "    with open(filename, 'r') as f:\n",
    "        rows = f.readlines()\n",
    "    n_rows = len(rows)\n",
    "    n_cols = len(rows[0])\n",
    "    d = {}\n",
    "    for i in range(2, n_rows - 2):\n",
    "        for j in range(2, n_cols - 3):\n",
    "            c = rows[i][j]\n",
    "            if c == '.':\n",
    "                if rows[i-1][j].isalpha():\n",
    "                    c = rows[i-2][j] + rows[i-1][j]\n",
    "                elif rows[i+1][j].isalpha():\n",
    "                    c = rows[i+1][j] + rows[i+2][j]\n",
    "                elif rows[i][j-1].isalpha():\n",
    "                    c = rows[i][j-2] + rows[i][j-1]\n",
    "                elif rows[i][j+1].isalpha():\n",
    "                    c = rows[i][j+1] + rows[i][j+2]\n",
    "            elif c == ' ' or c.isalpha():\n",
    "                c = '#'\n",
    "            d[(i-2, j-2)] = c\n",
    "    return d, n_rows - 4, n_cols - 5\n",
    "\n",
    "def get_ports(maze):\n",
    "    ports = defaultdict(list)\n",
    "    for key, val in maze.items():\n",
    "        if val.isupper():\n",
    "            ports[val].append(key)\n",
    "    return ports\n",
    "\n",
    "def is_outer_port(n_rows, n_cols, v):\n",
    "    return v[0] == 0 or v[1] == 0 or v[0] == n_rows - 1 or v[1] == n_cols - 1\n",
    "\n",
    "def teleport(maze, ports, n_rows, n_cols, v):\n",
    "    i, j, level = v[:3]\n",
    "    w1, w2 = ports[maze[(i, j)]]\n",
    "    w = w1 if v[:2] == w2 else w2\n",
    "    d = -1 if is_outer_port(n_rows, n_cols, (i, j)) else 1\n",
    "    return (w[0], w[1], level + d)\n",
    "\n",
    "def get_adjacent(maze, ports, n_rows, n_cols, v):\n",
    "    adj = []\n",
    "    i, j, level = v[:3]\n",
    "    if maze[(i, j)].isupper():\n",
    "        if  (level > 0) or (level == 0 and not is_outer_port(n_rows, n_cols, (i, j))):\n",
    "            q = teleport(maze, ports, n_rows, n_cols, v)\n",
    "            adj.append(q)\n",
    "    for ii, jj in ((i - 1, j), (i + 1, j), (i, j - 1), (i, j + 1)):\n",
    "        if ii < 0 or ii > n_rows - 1 or jj < 0 or jj > n_cols - 1:\n",
    "            continue\n",
    "        c = maze[(ii, jj)]\n",
    "        if level == 0:\n",
    "            if c in ('.', 'AA', 'ZZ') or (c.isupper() and not is_outer_port(n_rows, n_cols, (ii, jj))):\n",
    "                adj.append((ii, jj, level))\n",
    "        else:\n",
    "            if (c == '.') or (c.isupper() and c not in ('AA', 'ZZ')):\n",
    "                adj.append((ii, jj, level))\n",
    "    return adj\n",
    "\n",
    "def bfs(maze, n_rows, n_cols, ports):\n",
    "    p_start = ports['AA'][0]\n",
    "    p_goal = ports['ZZ'][0]\n",
    "    queue = []\n",
    "    explored = set()\n",
    "    explored.add((p_start[0], p_start[1], 0))\n",
    "    queue.append((p_start[0], p_start[1], 0, 0))\n",
    "    while len(queue) > 0:\n",
    "        v = queue.pop(0)\n",
    "        if v[:2] == p_goal and v[2] == 0:\n",
    "            return v[3]\n",
    "        for w in get_adjacent(maze, ports, n_rows, n_cols, v):\n",
    "            if w not in explored:\n",
    "                explored.add(w)\n",
    "                queue.append((w[0], w[1], w[2], v[3] + 1))\n",
    "    return None\n",
    "\n",
    "def runit(filename):\n",
    "    maze, n_rows, n_cols = read_input(filename)\n",
    "    ports = get_ports(maze)\n",
    "    path_length = bfs(maze, n_rows, n_cols, ports)\n",
    "    return path_length"
   ]
  },
  {
   "cell_type": "code",
   "execution_count": 31,
   "metadata": {},
   "outputs": [
    {
     "data": {
      "text/plain": [
       "6492"
      ]
     },
     "execution_count": 31,
     "metadata": {},
     "output_type": "execute_result"
    }
   ],
   "source": [
    "runit('20_input.txt')"
   ]
  },
  {
   "cell_type": "code",
   "execution_count": null,
   "metadata": {},
   "outputs": [],
   "source": []
  }
 ],
 "metadata": {
  "interpreter": {
   "hash": "a7861172d2007d4541fab3e4eefe3a41dabba6fa735ecd87066a89563db3fd59"
  },
  "kernelspec": {
   "display_name": "Python 3.10.4 ('ds')",
   "language": "python",
   "name": "python3"
  },
  "language_info": {
   "codemirror_mode": {
    "name": "ipython",
    "version": 3
   },
   "file_extension": ".py",
   "mimetype": "text/x-python",
   "name": "python",
   "nbconvert_exporter": "python",
   "pygments_lexer": "ipython3",
   "version": "3.10.4"
  },
  "orig_nbformat": 4
 },
 "nbformat": 4,
 "nbformat_minor": 2
}
