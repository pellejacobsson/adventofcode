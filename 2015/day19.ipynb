{
 "cells": [
  {
   "cell_type": "code",
   "execution_count": 2,
   "metadata": {},
   "outputs": [],
   "source": [
    "from collections import defaultdict, deque\n",
    "import re\n",
    "import heapq"
   ]
  },
  {
   "cell_type": "code",
   "execution_count": 3,
   "metadata": {},
   "outputs": [],
   "source": [
    "def read_input(filename):\n",
    "    with open(filename, 'r') as f:\n",
    "        lines = f.readlines()\n",
    "    d = defaultdict(list)\n",
    "    for line in lines[:-2]:\n",
    "        l = line.strip().split(' ')\n",
    "        d[l[0]].append(l[2])\n",
    "    m = lines[-1].strip()\n",
    "    return d, m"
   ]
  },
  {
   "cell_type": "code",
   "execution_count": 4,
   "metadata": {},
   "outputs": [],
   "source": [
    "def sub(string, orig, replacement):\n",
    "    poss = [(s.start(), s.end()) for s in re.finditer(orig, string)]\n",
    "    comb = set()\n",
    "    for pos in poss:\n",
    "        start, end = pos\n",
    "        comb.add(string[:start] + replacement + string[end:])\n",
    "    return comb"
   ]
  },
  {
   "cell_type": "code",
   "execution_count": 5,
   "metadata": {},
   "outputs": [],
   "source": [
    "def runit(filename):\n",
    "    recipes, molecule = read_input(filename)\n",
    "    molecules = set()\n",
    "    for (orig, replacements) in recipes.items():\n",
    "        for replacement in replacements:\n",
    "            molecules = molecules | sub(molecule, orig, replacement)\n",
    "    return len(molecules)"
   ]
  },
  {
   "cell_type": "code",
   "execution_count": 6,
   "metadata": {},
   "outputs": [
    {
     "data": {
      "text/plain": [
       "518"
      ]
     },
     "execution_count": 6,
     "metadata": {},
     "output_type": "execute_result"
    }
   ],
   "source": [
    "runit('19_input.txt')"
   ]
  },
  {
   "cell_type": "code",
   "execution_count": 7,
   "metadata": {},
   "outputs": [],
   "source": [
    "def bfs(recipes, molecule, root):\n",
    "    q = deque()\n",
    "    explored = set()\n",
    "    explored.add(root)\n",
    "    q.append(root)\n",
    "    dist = {}\n",
    "    dist[root] = 0\n",
    "    while q:\n",
    "        v = q.popleft()\n",
    "        if v == molecule:\n",
    "            return dist[v]\n",
    "        w = set()\n",
    "        for (orig, replacements) in recipes.items():\n",
    "            for replacement in replacements:\n",
    "                if orig in v:\n",
    "                    w = w | sub(v, orig, replacement)\n",
    "        for ww in w:\n",
    "            if ww not in explored:\n",
    "                explored.add(ww)\n",
    "                q.append(ww)\n",
    "                dist[ww] = dist[v] + 1\n",
    "    return None\n",
    "\n",
    "def dijkstra(recipes, molecule, root):\n",
    "    dist = {root: 0}\n",
    "    q = []\n",
    "    heapq.heappush(q, (dist[root], root))\n",
    "    explored = set()\n",
    "    while q:\n",
    "        _, v = heapq.heappop(q)\n",
    "        if v == molecule:\n",
    "            return dist[v]\n",
    "        print(v)\n",
    "        w = set()\n",
    "        for (orig, replacements) in recipes.items():\n",
    "            for replacement in replacements:\n",
    "                if orig in v:\n",
    "                    w = w | sub(v, orig, replacement)\n",
    "        for ww in w:\n",
    "            if ww not in explored:\n",
    "                explored.add(ww)\n",
    "                dist[ww] = dist[v] + 1\n",
    "                heapq.heappush(q, (dist[ww], ww))\n",
    "    return None"
   ]
  },
  {
   "cell_type": "code",
   "execution_count": 19,
   "metadata": {},
   "outputs": [],
   "source": [
    "def runit2(filename, method=dijkstra):\n",
    "    recipes, molecule = read_input(filename)\n",
    "    steps = method(recipes, molecule, 'e')\n",
    "    return steps"
   ]
  },
  {
   "cell_type": "code",
   "execution_count": 43,
   "metadata": {},
   "outputs": [],
   "source": [
    "def runit3(filename):\n",
    "    recipes, molecule = read_input(filename)\n",
    "    recipes_rev = {}\n",
    "    for (orig, replacements) in recipes.items():\n",
    "        for replacement in replacements:\n",
    "            recipes_rev[replacement] = orig\n",
    "    n = 0\n",
    "    while molecule != 'e':\n",
    "        for (orig, reduced) in recipes_rev.items():\n",
    "            if orig in molecule:\n",
    "                molecule = re.sub(orig, reduced, molecule, count=1)\n",
    "                n += 1\n",
    "    return n"
   ]
  },
  {
   "cell_type": "code",
   "execution_count": 44,
   "metadata": {},
   "outputs": [
    {
     "data": {
      "text/plain": [
       "200"
      ]
     },
     "execution_count": 44,
     "metadata": {},
     "output_type": "execute_result"
    }
   ],
   "source": [
    "runit3('19_input.txt')"
   ]
  }
 ],
 "metadata": {
  "kernelspec": {
   "display_name": "Python 3.10.4 ('ds')",
   "language": "python",
   "name": "python3"
  },
  "language_info": {
   "codemirror_mode": {
    "name": "ipython",
    "version": 3
   },
   "file_extension": ".py",
   "mimetype": "text/x-python",
   "name": "python",
   "nbconvert_exporter": "python",
   "pygments_lexer": "ipython3",
   "version": "3.10.4"
  },
  "orig_nbformat": 4,
  "vscode": {
   "interpreter": {
    "hash": "a7861172d2007d4541fab3e4eefe3a41dabba6fa735ecd87066a89563db3fd59"
   }
  }
 },
 "nbformat": 4,
 "nbformat_minor": 2
}
