{
 "cells": [
  {
   "cell_type": "code",
   "execution_count": 1,
   "metadata": {},
   "outputs": [],
   "source": [
    "import numpy as np"
   ]
  },
  {
   "cell_type": "code",
   "execution_count": 8,
   "metadata": {},
   "outputs": [],
   "source": [
    "def read_input(filename):\n",
    "    grid = []\n",
    "    with open(filename, 'r') as f:\n",
    "        for line in f.readlines():\n",
    "            grid.append([1 if s == '#' else 0 for s in line.strip()])\n",
    "    n_rows = len(grid)\n",
    "    n_cols = len(grid[0])\n",
    "    npgrid = np.zeros((n_rows + 2, n_cols + 2), int)\n",
    "    npgrid[1:n_rows + 1, 1:n_cols + 1] = grid\n",
    "    return npgrid"
   ]
  },
  {
   "cell_type": "code",
   "execution_count": 9,
   "metadata": {},
   "outputs": [],
   "source": [
    "grid = read_input('18_input.txt')"
   ]
  },
  {
   "cell_type": "code",
   "execution_count": 10,
   "metadata": {},
   "outputs": [],
   "source": [
    "def step(grid, part=1):\n",
    "    n_rows, n_cols = grid.shape\n",
    "    ogrid = grid.copy()\n",
    "    for i in range(1, n_rows - 1):\n",
    "        for j in range(1, n_cols - 1):\n",
    "            if part == 2:\n",
    "                if (i, j) in ((1, 1), (1, n_cols - 2), (n_rows - 2, 1), (n_rows - 2, n_cols - 2)):\n",
    "                    continue\n",
    "            n_neighbors = np.sum(ogrid[i-1:i+2, j-1:j+2]) - ogrid[i, j]\n",
    "            if grid[i, j]:\n",
    "                grid[i, j] = 1 if n_neighbors in [2, 3] else 0\n",
    "            else:\n",
    "                grid[i, j] = 1 if n_neighbors == 3 else 0\n",
    "    return grid"
   ]
  },
  {
   "cell_type": "code",
   "execution_count": 11,
   "metadata": {},
   "outputs": [],
   "source": [
    "def runit(filename, n_steps, part=1):\n",
    "    grid = read_input(filename)\n",
    "    if part == 2:\n",
    "        grid[1, 1] = 1\n",
    "        grid[1, -2] = 1\n",
    "        grid[-2, 1] = 1\n",
    "        grid[-2, -2] = 1\n",
    "    for n in range(n_steps):\n",
    "        grid = step(grid, part=part)\n",
    "    return np.sum(grid)"
   ]
  },
  {
   "cell_type": "code",
   "execution_count": 12,
   "metadata": {},
   "outputs": [
    {
     "data": {
      "text/plain": [
       "1061"
      ]
     },
     "execution_count": 12,
     "metadata": {},
     "output_type": "execute_result"
    }
   ],
   "source": [
    "runit('18_input.txt', 100)"
   ]
  },
  {
   "cell_type": "code",
   "execution_count": 13,
   "metadata": {},
   "outputs": [
    {
     "data": {
      "text/plain": [
       "1006"
      ]
     },
     "execution_count": 13,
     "metadata": {},
     "output_type": "execute_result"
    }
   ],
   "source": [
    "runit('18_input.txt', 100, part=2)"
   ]
  },
  {
   "cell_type": "code",
   "execution_count": null,
   "metadata": {},
   "outputs": [],
   "source": []
  }
 ],
 "metadata": {
  "kernelspec": {
   "display_name": "Python 3.10.6 ('ds-base')",
   "language": "python",
   "name": "python3"
  },
  "language_info": {
   "codemirror_mode": {
    "name": "ipython",
    "version": 3
   },
   "file_extension": ".py",
   "mimetype": "text/x-python",
   "name": "python",
   "nbconvert_exporter": "python",
   "pygments_lexer": "ipython3",
   "version": "3.10.6"
  },
  "orig_nbformat": 4,
  "vscode": {
   "interpreter": {
    "hash": "921a7460100d8ae3825e646b690b80e6b4caef73fe6022a0e35634beb157f104"
   }
  }
 },
 "nbformat": 4,
 "nbformat_minor": 2
}
