{
 "cells": [
  {
   "cell_type": "code",
   "execution_count": 17,
   "metadata": {},
   "outputs": [],
   "source": [
    "using DataStructures\n",
    "using BenchmarkTools"
   ]
  },
  {
   "cell_type": "code",
   "execution_count": 2,
   "metadata": {},
   "outputs": [],
   "source": [
    "mutable struct Game\n",
    "    player_points::Int64\n",
    "    mana::Int64\n",
    "    boss_points::Int64\n",
    "    boss_damage::Int64\n",
    "    armor::Int64\n",
    "    shield_counter::Int64\n",
    "    poison_counter::Int64\n",
    "    recharge_counter::Int64\n",
    "    missile_active::Bool\n",
    "    drain_active::Bool\n",
    "    turn::String\n",
    "    shield_restart::Bool\n",
    "    poison_restart::Bool\n",
    "    recharge_restart::Bool\n",
    "    part::Int64\n",
    "    shield_wait::Bool\n",
    "    poison_wait::Bool\n",
    "    recharge_wait::Bool\n",
    "end"
   ]
  },
  {
   "cell_type": "code",
   "execution_count": 3,
   "metadata": {},
   "outputs": [
    {
     "data": {
      "text/plain": [
       "Game"
      ]
     },
     "execution_count": 3,
     "metadata": {},
     "output_type": "execute_result"
    }
   ],
   "source": [
    "Game(; player_points=50, mana=500, boss_points=58, boss_damage=9, part=1) = Game(player_points, mana, boss_points, boss_damage, 0, 0, 0, 0, false, false, \"player\", false, false, false, part, false, false, false)"
   ]
  },
  {
   "cell_type": "code",
   "execution_count": 37,
   "metadata": {},
   "outputs": [
    {
     "data": {
      "text/plain": [
       "run_game (generic function with 1 method)"
      ]
     },
     "execution_count": 37,
     "metadata": {},
     "output_type": "execute_result"
    }
   ],
   "source": [
    "function state(g::Game)\n",
    "    (g.player_points, g.mana, g.boss_points, g.armor, g.shield_counter, \n",
    "        g.poison_counter, g.recharge_counter, g.missile_active, g.drain_active, g.turn)\n",
    "end\n",
    "\n",
    "function activate_missile!(g::Game)\n",
    "    g.missile_active = true\n",
    "    g.mana -= 53\n",
    "end\n",
    "\n",
    "function activate_drain!(g::Game)\n",
    "    g.drain_active = true\n",
    "    g.mana -= 73\n",
    "end\n",
    "    \n",
    "function activate_shield!(g::Game)\n",
    "    if g.shield_counter == 0\n",
    "        g.shield_wait = true\n",
    "    else\n",
    "        g.shield_wait = false\n",
    "    end\n",
    "    if g.shield_counter == 1\n",
    "        g.shield_restart = true\n",
    "    end\n",
    "    g.shield_counter = 6\n",
    "    g.mana -= 113\n",
    "end\n",
    "\n",
    "function activate_poison!(g::Game)\n",
    "    if g.poison_counter == 0\n",
    "        g.poison_wait = true\n",
    "    else\n",
    "        g.poison_wait = false\n",
    "    end\n",
    "    if g.poison_counter == 1\n",
    "        g.poison_restart = true\n",
    "    end\n",
    "    g.poison_counter = 6\n",
    "    g.mana -= 173\n",
    "end\n",
    "    \n",
    "function activate_recharge!(g::Game)\n",
    "    if g.recharge_counter == 0\n",
    "        g.recharge_wait = true\n",
    "    else\n",
    "        g.recharge_wait = false\n",
    "    end\n",
    "    if g.recharge_counter == 1\n",
    "        g.recharge_restart = true\n",
    "    end\n",
    "    g.recharge_counter = 5\n",
    "    g.mana -= 229\n",
    "end\n",
    "\n",
    "function apply_effects!(g::Game)\n",
    "    if g.missile_active\n",
    "        g.boss_points -= 4\n",
    "        g.missile_active = false\n",
    "    end\n",
    "    if g.drain_active\n",
    "        g.boss_points -= 2\n",
    "        g.player_points += 2\n",
    "        g.drain_active = false\n",
    "    end\n",
    "    if g.shield_counter > 0\n",
    "        if !g.shield_wait\n",
    "            g.armor = 7\n",
    "            if !g.shield_restart\n",
    "                g.shield_counter -= 1\n",
    "            else\n",
    "                g.shield_restart = false\n",
    "            end\n",
    "        else\n",
    "            g.shield_wait = false\n",
    "        end\n",
    "    else\n",
    "        g.armor = 0\n",
    "    end\n",
    "    if g.poison_counter > 0\n",
    "        if !g.poison_wait\n",
    "            g.boss_points -= 3\n",
    "            if !g.poison_restart\n",
    "                g.poison_counter -= 1\n",
    "            else\n",
    "                g.poison_restart = false\n",
    "            end\n",
    "        else\n",
    "            g.poison_wait = false\n",
    "        end\n",
    "    end\n",
    "    if g.recharge_counter > 0\n",
    "        if !g.recharge_wait\n",
    "            g.mana += 101\n",
    "            if !g.recharge_restart\n",
    "                g.recharge_counter -= 1\n",
    "            else\n",
    "                g.recharge_restart = false\n",
    "            end\n",
    "        else\n",
    "            g.recharge_wait = false\n",
    "        end\n",
    "    end\n",
    "end\n",
    "\n",
    "function go_turn!(g::Game)\n",
    "    res = 0\n",
    "    if g.part == 2 && g.turn == \"player\"\n",
    "        g.player_points -= 1\n",
    "    end\n",
    "    apply_effects!(g)\n",
    "    if g.boss_points <= 0\n",
    "        res = 1\n",
    "    end\n",
    "    if g.turn == \"boss\"\n",
    "        g.player_points -= max(g.boss_damage - g.armor, 1)\n",
    "        if g.player_points <= 0 && res == 0\n",
    "            res = -1\n",
    "        end\n",
    "        g.turn = \"player\"\n",
    "    else\n",
    "        g.turn = \"boss\"\n",
    "    end\n",
    "    res\n",
    "end\n",
    "\n",
    "function next_possible_states(g::Game)\n",
    "    states = Tuple{Game, Int64}[]\n",
    "    if g.mana >= 53\n",
    "        h = deepcopy(g)\n",
    "        activate_missile!(h)\n",
    "        push!(states, (h, 53))\n",
    "    end\n",
    "    if g.mana >= 73\n",
    "        h = deepcopy(g)\n",
    "        activate_drain!(h)\n",
    "        push!(states, (h, 73))\n",
    "    end\n",
    "    if g.shield_counter <= 1 && g.mana >= 113\n",
    "        h = deepcopy(g)\n",
    "        activate_shield!(h)\n",
    "        push!(states, (h, 113))\n",
    "    end\n",
    "    if g.poison_counter <= 1 && g.mana >= 173\n",
    "        h = deepcopy(g)\n",
    "        activate_poison!(h)\n",
    "        push!(states, (h, 173))\n",
    "    end\n",
    "    if g.recharge_counter <= 1 && g.mana >= 229\n",
    "        h = deepcopy(g)\n",
    "        activate_recharge!(h)\n",
    "        push!(states, (h, 229))\n",
    "    end\n",
    "    states\n",
    "end\n",
    "\n",
    "function run_game(g::Game)\n",
    "    q = PriorityQueue{Game, Int64}()\n",
    "    dist = Dict(state(g) => 0)\n",
    "    explored = Set()\n",
    "    for (v, cost) in next_possible_states(g)\n",
    "        dist[state(v)] = cost\n",
    "        enqueue!(q, v, cost)\n",
    "    end\n",
    "    while !isempty(q)\n",
    "        u = dequeue!(q)\n",
    "        d = dist[state(u)]\n",
    "        outcome = go_turn!(u)\n",
    "        if outcome == 1\n",
    "            return d\n",
    "        end\n",
    "        outcome = go_turn!(u)\n",
    "        if outcome == 1\n",
    "            return d\n",
    "        end\n",
    "        dist[state(u)] = d\n",
    "        push!(explored, state(u))\n",
    "        if outcome == 0\n",
    "            for (v, cost) in next_possible_states(u)\n",
    "                if !(state(v) in explored)\n",
    "                    alt = d + cost\n",
    "                    if state(v) in keys(dist)\n",
    "                        if alt < dist[state(v)]\n",
    "                            dist[state(v)] = alt\n",
    "                        end\n",
    "                    else\n",
    "                        dist[state(v)] = alt\n",
    "                    end\n",
    "                    enqueue!(q, v, dist[state(v)])\n",
    "                    push!(explored, state(v))\n",
    "                end\n",
    "            end\n",
    "        end\n",
    "    end\n",
    "    return -99\n",
    "end"
   ]
  },
  {
   "cell_type": "code",
   "execution_count": 38,
   "metadata": {},
   "outputs": [
    {
     "name": "stdout",
     "output_type": "stream",
     "text": [
      "Part 1: 1269\n",
      "part 2: 1309\n"
     ]
    }
   ],
   "source": [
    "g1 = Game()\n",
    "part1 = run_game(g1)\n",
    "g2 = Game(part=2)\n",
    "part2 = run_game(g2)\n",
    "println(\"Part 1: $part1\")\n",
    "println(\"part 2: $part2\")"
   ]
  },
  {
   "cell_type": "code",
   "execution_count": 40,
   "metadata": {},
   "outputs": [
    {
     "name": "stdout",
     "output_type": "stream",
     "text": [
      "  183.797 ms (210431 allocations: 25.66 MiB)\n"
     ]
    },
    {
     "data": {
      "text/plain": [
       "1269"
      ]
     },
     "execution_count": 40,
     "metadata": {},
     "output_type": "execute_result"
    }
   ],
   "source": [
    "g1 = Game()\n",
    "@btime run_game(g1)"
   ]
  },
  {
   "cell_type": "code",
   "execution_count": 41,
   "metadata": {},
   "outputs": [
    {
     "name": "stdout",
     "output_type": "stream",
     "text": [
      "  140.572 ms (177501 allocations: 22.22 MiB)\n"
     ]
    },
    {
     "data": {
      "text/plain": [
       "1309"
      ]
     },
     "execution_count": 41,
     "metadata": {},
     "output_type": "execute_result"
    }
   ],
   "source": [
    "g2 = Game(part=2)\n",
    "@btime run_game(g2)"
   ]
  }
 ],
 "metadata": {
  "kernelspec": {
   "display_name": "Julia 1.8.3",
   "language": "julia",
   "name": "julia-1.8"
  },
  "language_info": {
   "file_extension": ".jl",
   "mimetype": "application/julia",
   "name": "julia",
   "version": "1.8.3"
  },
  "orig_nbformat": 4
 },
 "nbformat": 4,
 "nbformat_minor": 2
}
