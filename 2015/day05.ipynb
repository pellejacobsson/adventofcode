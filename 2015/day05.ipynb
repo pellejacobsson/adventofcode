{
 "cells": [
  {
   "cell_type": "code",
   "execution_count": 1,
   "metadata": {},
   "outputs": [],
   "source": [
    "def read_input(filename):\n",
    "    with open(filename, 'r') as f:\n",
    "        nices = [s.strip() for s in f.readlines()]\n",
    "    return nices"
   ]
  },
  {
   "cell_type": "code",
   "execution_count": 37,
   "metadata": {},
   "outputs": [],
   "source": [
    "def contains_vowels(s):\n",
    "    return sum([c in 'aeiou' for c in s]) > 2\n",
    "\n",
    "def repeats(s):\n",
    "    return any([s[i] == s[i - 1] for i in range(1, len(s))])\n",
    "\n",
    "def contains_specials(s):\n",
    "    return any([c in s for c in ['ab', 'cd', 'pq', 'xy']])\n",
    "\n",
    "def is_nice(s):\n",
    "    return contains_vowels(s) and repeats(s) and not contains_specials(s)\n",
    "\n",
    "def repeats_one(s):\n",
    "    return any([s[i] == s[i - 2] for i in range(2, len(s))])\n",
    "\n",
    "def appears_twice(s):\n",
    "    for i in range(len(s) - 1):\n",
    "        if s[i:i+2] in (s[:i] + s[i+2:]):\n",
    "            return True\n",
    "    return False\n",
    "\n",
    "def is_nice2(s):\n",
    "    return repeats_one(s) and appears_twice(s)"
   ]
  },
  {
   "cell_type": "code",
   "execution_count": 38,
   "metadata": {},
   "outputs": [],
   "source": [
    "def runit(filename):\n",
    "    nices = read_input('05_input.txt')\n",
    "    return sum([is_nice(s) for s in nices])"
   ]
  },
  {
   "cell_type": "code",
   "execution_count": 39,
   "metadata": {},
   "outputs": [
    {
     "data": {
      "text/plain": [
       "238"
      ]
     },
     "execution_count": 39,
     "metadata": {},
     "output_type": "execute_result"
    }
   ],
   "source": [
    "runit('05_input.txt')"
   ]
  },
  {
   "cell_type": "code",
   "execution_count": 40,
   "metadata": {},
   "outputs": [],
   "source": [
    "def runit2(filename):\n",
    "    nices = read_input('05_input.txt')\n",
    "    return sum([is_nice2(s) for s in nices])"
   ]
  },
  {
   "cell_type": "code",
   "execution_count": 41,
   "metadata": {},
   "outputs": [
    {
     "data": {
      "text/plain": [
       "73"
      ]
     },
     "execution_count": 41,
     "metadata": {},
     "output_type": "execute_result"
    }
   ],
   "source": [
    "runit2('05_input.txt')"
   ]
  },
  {
   "cell_type": "code",
   "execution_count": 65,
   "metadata": {},
   "outputs": [
    {
     "data": {
      "text/plain": [
       "False"
      ]
     },
     "execution_count": 65,
     "metadata": {},
     "output_type": "execute_result"
    }
   ],
   "source": [
    "appears_twice('babcaafb')"
   ]
  },
  {
   "cell_type": "code",
   "execution_count": null,
   "metadata": {},
   "outputs": [],
   "source": []
  }
 ],
 "metadata": {
  "kernelspec": {
   "display_name": "Python 3.10.4 ('ds')",
   "language": "python",
   "name": "python3"
  },
  "language_info": {
   "codemirror_mode": {
    "name": "ipython",
    "version": 3
   },
   "file_extension": ".py",
   "mimetype": "text/x-python",
   "name": "python",
   "nbconvert_exporter": "python",
   "pygments_lexer": "ipython3",
   "version": "3.10.4"
  },
  "orig_nbformat": 4,
  "vscode": {
   "interpreter": {
    "hash": "a7861172d2007d4541fab3e4eefe3a41dabba6fa735ecd87066a89563db3fd59"
   }
  }
 },
 "nbformat": 4,
 "nbformat_minor": 2
}
