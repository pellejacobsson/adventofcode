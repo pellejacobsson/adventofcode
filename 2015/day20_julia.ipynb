{
 "cells": [
  {
   "cell_type": "code",
   "execution_count": 1,
   "metadata": {},
   "outputs": [
    {
     "data": {
      "text/plain": [
       "n_presents2 (generic function with 1 method)"
      ]
     },
     "metadata": {},
     "output_type": "display_data"
    }
   ],
   "source": [
    "function factorize(n)\n",
    "    if n == 1\n",
    "        return [1]\n",
    "    end\n",
    "    if n % 2 == 0\n",
    "        f = 2\n",
    "        step = 1\n",
    "    else\n",
    "        f = 3\n",
    "        step = 2\n",
    "    end\n",
    "    factors = []\n",
    "    while f <= sqrt(n)\n",
    "        if n % f == 0\n",
    "            push!(factors, f)\n",
    "            if div(n, f) != f\n",
    "                push!(factors, div(n, f))\n",
    "            end\n",
    "        end\n",
    "        f += step\n",
    "    end\n",
    "    return [[1]; factors; [n]]\n",
    "end\n",
    "\n",
    "function n_presents(house_number)\n",
    "    return sum(factorize(house_number)) * 10\n",
    "end\n",
    "\n",
    "function n_presents2(house_number, visited)\n",
    "    factors = factorize(house_number)\n",
    "    res = 0\n",
    "    for f in factors\n",
    "        n_visited = get(visited, f, 0)\n",
    "        res += n_visited <= 50 ? f : 0\n",
    "        visited[f] = n_visited + 1\n",
    "    end\n",
    "    return res * 11\n",
    "end"
   ]
  },
  {
   "cell_type": "code",
   "execution_count": 2,
   "metadata": {},
   "outputs": [
    {
     "data": {
      "text/plain": [
       "runit2 (generic function with 1 method)"
      ]
     },
     "metadata": {},
     "output_type": "display_data"
    }
   ],
   "source": [
    "function runit(presents_goal)\n",
    "    h = 1\n",
    "    while true\n",
    "        house_presents = n_presents(h)\n",
    "        if house_presents > presents_goal\n",
    "            return h\n",
    "        end\n",
    "        h += 1\n",
    "    end\n",
    "end\n",
    "\n",
    "function runit2(presents_goal)\n",
    "    h = 1\n",
    "    visited = Dict()\n",
    "    while true\n",
    "        house_presents = n_presents2(h, visited)\n",
    "        if house_presents > presents_goal\n",
    "            return h\n",
    "        end\n",
    "        h += 1\n",
    "    end\n",
    "end"
   ]
  },
  {
   "cell_type": "code",
   "execution_count": 3,
   "metadata": {},
   "outputs": [
    {
     "data": {
      "text/plain": [
       "29000000"
      ]
     },
     "metadata": {},
     "output_type": "display_data"
    }
   ],
   "source": [
    "presents_goal = 29000000"
   ]
  },
  {
   "cell_type": "code",
   "execution_count": 4,
   "metadata": {},
   "outputs": [
    {
     "data": {
      "text/plain": [
       "665280"
      ]
     },
     "metadata": {},
     "output_type": "display_data"
    }
   ],
   "source": [
    "runit(presents_goal)"
   ]
  },
  {
   "cell_type": "code",
   "execution_count": 5,
   "metadata": {},
   "outputs": [
    {
     "data": {
      "text/plain": [
       "705600"
      ]
     },
     "metadata": {},
     "output_type": "display_data"
    }
   ],
   "source": [
    "runit2(presents_goal)"
   ]
  },
  {
   "cell_type": "code",
   "execution_count": null,
   "metadata": {},
   "outputs": [],
   "source": []
  }
 ],
 "metadata": {
  "kernelspec": {
   "display_name": "Julia 1.7.1",
   "language": "julia",
   "name": "julia-1.7"
  },
  "language_info": {
   "file_extension": ".jl",
   "mimetype": "application/julia",
   "name": "julia",
   "version": "1.7.1"
  },
  "orig_nbformat": 4,
  "vscode": {
   "interpreter": {
    "hash": "a7861172d2007d4541fab3e4eefe3a41dabba6fa735ecd87066a89563db3fd59"
   }
  }
 },
 "nbformat": 4,
 "nbformat_minor": 2
}
