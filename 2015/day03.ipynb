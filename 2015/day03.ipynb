{
 "cells": [
  {
   "cell_type": "code",
   "execution_count": 4,
   "metadata": {},
   "outputs": [],
   "source": [
    "def read_input(filename):\n",
    "    with open(filename, 'r') as f:\n",
    "        input = f.readline()\n",
    "    return input"
   ]
  },
  {
   "cell_type": "code",
   "execution_count": 5,
   "metadata": {},
   "outputs": [],
   "source": [
    "input = read_input('03_input.txt')"
   ]
  },
  {
   "cell_type": "code",
   "execution_count": 13,
   "metadata": {},
   "outputs": [],
   "source": [
    "def runit(filename):\n",
    "    directions = read_input(filename)\n",
    "    visited = {}\n",
    "    pos = (0, 0)\n",
    "    visited[pos] = 1\n",
    "    for dir in directions:\n",
    "        if dir == '^':\n",
    "            pos = (pos[0], pos[1] + 1)\n",
    "        elif dir == '>':\n",
    "            pos = (pos[0] + 1, pos[1])\n",
    "        elif dir == 'v':\n",
    "            pos = (pos[0], pos[1] - 1)\n",
    "        elif dir == '<':\n",
    "            pos = (pos[0] - 1, pos[1])\n",
    "        else:\n",
    "            raise ValueError('Wrong input')\n",
    "        visited[pos] = visited.get(pos, 0) + 1\n",
    "    return len(visited)"
   ]
  },
  {
   "cell_type": "code",
   "execution_count": 17,
   "metadata": {},
   "outputs": [
    {
     "data": {
      "text/plain": [
       "2592"
      ]
     },
     "execution_count": 17,
     "metadata": {},
     "output_type": "execute_result"
    }
   ],
   "source": [
    "runit('03_input.txt')"
   ]
  },
  {
   "cell_type": "code",
   "execution_count": 18,
   "metadata": {},
   "outputs": [],
   "source": [
    "def runit2(filename):\n",
    "    directions = read_input(filename)\n",
    "    visited = {}\n",
    "    pos1 = (0, 0)\n",
    "    pos2 = (0, 0)\n",
    "    visited[(0, 0)] = 1\n",
    "    for (i, dir) in enumerate(directions):\n",
    "        dx, dy = 0, 0\n",
    "        if dir == '^':\n",
    "            dy = 1\n",
    "        elif dir == '>':\n",
    "            dx = 1\n",
    "        elif dir == 'v':\n",
    "            dy = -1\n",
    "        elif dir == '<':\n",
    "            dx = -1\n",
    "        else:\n",
    "            raise ValueError('Wrong input')\n",
    "        if i % 2 == 0:\n",
    "            pos1 = (pos1[0] + dx, pos1[1] + dy)\n",
    "            visited[pos1] = visited.get(pos1, 0) + 1\n",
    "        else:\n",
    "            pos2 = (pos2[0] + dx, pos2[1] + dy)\n",
    "            visited[pos2] = visited.get(pos2, 0) + 1\n",
    "    return len(visited)"
   ]
  },
  {
   "cell_type": "code",
   "execution_count": 19,
   "metadata": {},
   "outputs": [
    {
     "data": {
      "text/plain": [
       "2360"
      ]
     },
     "execution_count": 19,
     "metadata": {},
     "output_type": "execute_result"
    }
   ],
   "source": [
    "runit2('03_input.txt')"
   ]
  },
  {
   "cell_type": "code",
   "execution_count": null,
   "metadata": {},
   "outputs": [],
   "source": []
  }
 ],
 "metadata": {
  "kernelspec": {
   "display_name": "Python 3.10.4 ('ds')",
   "language": "python",
   "name": "python3"
  },
  "language_info": {
   "codemirror_mode": {
    "name": "ipython",
    "version": 3
   },
   "file_extension": ".py",
   "mimetype": "text/x-python",
   "name": "python",
   "nbconvert_exporter": "python",
   "pygments_lexer": "ipython3",
   "version": "3.10.4"
  },
  "orig_nbformat": 4,
  "vscode": {
   "interpreter": {
    "hash": "a7861172d2007d4541fab3e4eefe3a41dabba6fa735ecd87066a89563db3fd59"
   }
  }
 },
 "nbformat": 4,
 "nbformat_minor": 2
}
