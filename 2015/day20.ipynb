{
 "cells": [
  {
   "cell_type": "code",
   "execution_count": 1,
   "metadata": {},
   "outputs": [],
   "source": [
    "from math import sqrt"
   ]
  },
  {
   "cell_type": "code",
   "execution_count": 27,
   "metadata": {},
   "outputs": [],
   "source": [
    "def factorize(n):\n",
    "    if n == 1:\n",
    "        return [1]\n",
    "    if n % 2 == 0:\n",
    "        f = 2\n",
    "        step = 1\n",
    "    else:\n",
    "        f = 3\n",
    "        step = 2\n",
    "    factors = []\n",
    "    step = 1 if n % 2 == 0 else 2\n",
    "    while f <= sqrt(n):\n",
    "        if n % f == 0:\n",
    "            factors.append(f)\n",
    "            if n // f != f:\n",
    "                factors.append(n // f)\n",
    "        f += step\n",
    "    return [1] + factors + [n]\n",
    "\n",
    "def n_presents(house_number):\n",
    "    return sum(factorize(house_number)) * 10\n",
    "\n",
    "def n_presents2(house_number, visited):\n",
    "    factors = factorize(house_number)\n",
    "    res = 0\n",
    "    for f in factors:\n",
    "        n_visited = visited.get(f, 0)\n",
    "        res += f if n_visited <= 50 else 0\n",
    "        visited[f] = n_visited + 1\n",
    "    return res * 11"
   ]
  },
  {
   "cell_type": "code",
   "execution_count": 28,
   "metadata": {},
   "outputs": [],
   "source": [
    "def runit(presents_goal):\n",
    "    h = 1\n",
    "    while True:\n",
    "        house_presents = n_presents(h)\n",
    "        if house_presents > presents_goal:\n",
    "            return h\n",
    "        h += 1\n",
    "\n",
    "def runit2(presents_goal):\n",
    "    h = 1\n",
    "    visited = {}\n",
    "    while True:\n",
    "        house_presents = n_presents2(h, visited)\n",
    "        if house_presents > presents_goal:\n",
    "            return h\n",
    "        h += 1"
   ]
  },
  {
   "cell_type": "code",
   "execution_count": 29,
   "metadata": {},
   "outputs": [],
   "source": [
    "presents_goal = 29000000"
   ]
  },
  {
   "cell_type": "code",
   "execution_count": 30,
   "metadata": {},
   "outputs": [
    {
     "data": {
      "text/plain": [
       "665280"
      ]
     },
     "execution_count": 30,
     "metadata": {},
     "output_type": "execute_result"
    }
   ],
   "source": [
    "runit(presents_goal)"
   ]
  },
  {
   "cell_type": "code",
   "execution_count": 31,
   "metadata": {},
   "outputs": [
    {
     "data": {
      "text/plain": [
       "705600"
      ]
     },
     "execution_count": 31,
     "metadata": {},
     "output_type": "execute_result"
    }
   ],
   "source": [
    "runit2(presents_goal)"
   ]
  }
 ],
 "metadata": {
  "kernelspec": {
   "display_name": "Python 3.10.4 ('ds')",
   "language": "python",
   "name": "python3"
  },
  "language_info": {
   "codemirror_mode": {
    "name": "ipython",
    "version": 3
   },
   "file_extension": ".py",
   "mimetype": "text/x-python",
   "name": "python",
   "nbconvert_exporter": "python",
   "pygments_lexer": "ipython3",
   "version": "3.10.4"
  },
  "orig_nbformat": 4,
  "vscode": {
   "interpreter": {
    "hash": "a7861172d2007d4541fab3e4eefe3a41dabba6fa735ecd87066a89563db3fd59"
   }
  }
 },
 "nbformat": 4,
 "nbformat_minor": 2
}
