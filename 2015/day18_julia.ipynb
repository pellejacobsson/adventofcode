{
 "cells": [
  {
   "cell_type": "code",
   "execution_count": 23,
   "metadata": {},
   "outputs": [],
   "source": [
    "using BenchmarkTools"
   ]
  },
  {
   "cell_type": "code",
   "execution_count": 71,
   "metadata": {},
   "outputs": [
    {
     "data": {
      "text/plain": [
       "runit (generic function with 1 method)"
      ]
     },
     "metadata": {},
     "output_type": "display_data"
    }
   ],
   "source": [
    "function read_input(filename)\n",
    "    grid = open(filename) do f\n",
    "        g = []\n",
    "        for line in readlines(f)\n",
    "            push!(g, [s == '#' ? 1 : 0 for s in line])\n",
    "        end\n",
    "        vcat(g'...)\n",
    "    end\n",
    "    ngrid = zeros(Int, ( size(grid, 1) + 2, size(grid, 2) + 2))\n",
    "    ngrid[2:end-1, 2:end-1] = grid\n",
    "    ngrid\n",
    "end\n",
    "\n",
    "function step_grid(grid; part=1)\n",
    "    n_rows, n_cols = size(grid)\n",
    "    ogrid = copy(grid)\n",
    "    for i = 2:n_rows-1, j = 2:n_cols-1\n",
    "        if part == 2\n",
    "            if (i, j) in ((2, 2), (2, n_cols - 1), (n_rows - 1, 2), (n_rows - 1, n_cols - 1))\n",
    "                continue\n",
    "            end\n",
    "        end\n",
    "        n_neighbors = sum(ogrid[i-1:i+1, j-1:j+1]) - ogrid[i, j]\n",
    "        if grid[i, j] == 1\n",
    "            grid[i, j] = n_neighbors in (2, 3) ? 1 : 0\n",
    "        else\n",
    "            grid[i, j] = n_neighbors == 3 ? 1 : 0\n",
    "        end\n",
    "    end\n",
    "    grid\n",
    "end\n",
    "\n",
    "function runit(filename, n_steps; part=1)\n",
    "    grid = read_input(filename)\n",
    "    if part == 2\n",
    "        grid[2, 2] = 1\n",
    "        grid[2, end-1] = 1\n",
    "        grid[end-1, 2] = 1\n",
    "        grid[end-1, end-1] = 1\n",
    "    end\n",
    "    for n = 1:n_steps\n",
    "        grid = step_grid(grid, part=part)\n",
    "    end\n",
    "    sum(grid)\n",
    "end"
   ]
  },
  {
   "cell_type": "code",
   "execution_count": 72,
   "metadata": {},
   "outputs": [
    {
     "data": {
      "text/plain": [
       "1061"
      ]
     },
     "metadata": {},
     "output_type": "display_data"
    }
   ],
   "source": [
    "runit(\"18_input.txt\", 100)"
   ]
  },
  {
   "cell_type": "code",
   "execution_count": 73,
   "metadata": {},
   "outputs": [
    {
     "data": {
      "text/plain": [
       "1006"
      ]
     },
     "metadata": {},
     "output_type": "display_data"
    }
   ],
   "source": [
    "runit(\"18_input.txt\", 100, part=2)"
   ]
  },
  {
   "cell_type": "code",
   "execution_count": 74,
   "metadata": {},
   "outputs": [
    {
     "name": "stdout",
     "output_type": "stream",
     "text": [
      "  51.871 ms (1001233 allocations: 130.29 MiB)\n"
     ]
    },
    {
     "data": {
      "text/plain": [
       "1061"
      ]
     },
     "metadata": {},
     "output_type": "display_data"
    }
   ],
   "source": [
    "@btime runit(\"18_input.txt\", 100)"
   ]
  },
  {
   "cell_type": "code",
   "execution_count": 75,
   "metadata": {},
   "outputs": [
    {
     "name": "stdout",
     "output_type": "stream",
     "text": [
      "  52.117 ms (1000833 allocations: 130.25 MiB)\n"
     ]
    },
    {
     "data": {
      "text/plain": [
       "1006"
      ]
     },
     "metadata": {},
     "output_type": "display_data"
    }
   ],
   "source": [
    "@btime runit(\"18_input.txt\", 100; part=2)"
   ]
  }
 ],
 "metadata": {
  "kernelspec": {
   "display_name": "Julia 1.8.3",
   "language": "julia",
   "name": "julia-1.8"
  },
  "language_info": {
   "file_extension": ".jl",
   "mimetype": "application/julia",
   "name": "julia",
   "version": "1.8.3"
  },
  "orig_nbformat": 4
 },
 "nbformat": 4,
 "nbformat_minor": 2
}
