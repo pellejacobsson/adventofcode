{
 "cells": [
  {
   "cell_type": "code",
   "execution_count": 1,
   "metadata": {},
   "outputs": [],
   "source": [
    "import json"
   ]
  },
  {
   "cell_type": "code",
   "execution_count": 14,
   "metadata": {},
   "outputs": [],
   "source": [
    "def read_input(filename):\n",
    "    with open(filename, 'r') as f:\n",
    "        input = f.readlines()\n",
    "    return json.loads(input[0])"
   ]
  },
  {
   "cell_type": "code",
   "execution_count": 30,
   "metadata": {},
   "outputs": [],
   "source": [
    "doc = read_input('12_input.txt')"
   ]
  },
  {
   "cell_type": "code",
   "execution_count": 58,
   "metadata": {},
   "outputs": [],
   "source": [
    "def count_num(d, part=1):\n",
    "    if isinstance(d, int):\n",
    "        return d\n",
    "    elif isinstance(d, dict):\n",
    "        if part == 2:\n",
    "            for v in d.values():\n",
    "                if v == 'red':\n",
    "                    return 0\n",
    "        return sum([count_num(dd, part=part) for dd in d.values()])\n",
    "    elif isinstance(d, list):\n",
    "        return sum([count_num(dd, part=part) for dd in d])\n",
    "    elif isinstance(d, str):\n",
    "        return 0\n",
    "    else:\n",
    "        raise ValueError(f'Unknown typ: {d}')\n"
   ]
  },
  {
   "cell_type": "code",
   "execution_count": 60,
   "metadata": {},
   "outputs": [
    {
     "name": "stdout",
     "output_type": "stream",
     "text": [
      "Part 1: 119433\n",
      "Part 2: 68466\n"
     ]
    }
   ],
   "source": [
    "print(f'Part 1: {count_num(doc)}')\n",
    "print(f'Part 2: {count_num(doc, part=2)}')"
   ]
  }
 ],
 "metadata": {
  "kernelspec": {
   "display_name": "Python 3.10.4 ('ds')",
   "language": "python",
   "name": "python3"
  },
  "language_info": {
   "codemirror_mode": {
    "name": "ipython",
    "version": 3
   },
   "file_extension": ".py",
   "mimetype": "text/x-python",
   "name": "python",
   "nbconvert_exporter": "python",
   "pygments_lexer": "ipython3",
   "version": "3.10.4"
  },
  "orig_nbformat": 4,
  "vscode": {
   "interpreter": {
    "hash": "a7861172d2007d4541fab3e4eefe3a41dabba6fa735ecd87066a89563db3fd59"
   }
  }
 },
 "nbformat": 4,
 "nbformat_minor": 2
}
