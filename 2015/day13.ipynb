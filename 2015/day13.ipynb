{
 "cells": [
  {
   "cell_type": "code",
   "execution_count": 1,
   "metadata": {},
   "outputs": [],
   "source": [
    "import re\n",
    "from itertools import permutations"
   ]
  },
  {
   "cell_type": "code",
   "execution_count": 2,
   "metadata": {},
   "outputs": [],
   "source": [
    "def read_input(filename):\n",
    "    with open(filename, 'r') as f:\n",
    "        lines = f.readlines()\n",
    "    expr = r'(.*) would (lose|gain) ([0-9]*) happiness units by sitting next to (.*).'\n",
    "    d = {}\n",
    "    for line in lines:\n",
    "        m = re.search(expr, line)\n",
    "        d[m[1], m[4]] = int(m[3]) if m[2] == 'gain' else -int(m[3])\n",
    "    names = set()\n",
    "    for (name1, name2) in d:\n",
    "        names.add(name1)\n",
    "        names.add(name2)\n",
    "    return d, list(names)"
   ]
  },
  {
   "cell_type": "code",
   "execution_count": 3,
   "metadata": {},
   "outputs": [],
   "source": [
    "def calc_happiness(scores, order):\n",
    "    score = 0\n",
    "    for name1, name2 in zip(order, order[1:] + (order[0],)):\n",
    "        score += scores[name1, name2] + scores[name2, name1]\n",
    "    return score"
   ]
  },
  {
   "cell_type": "code",
   "execution_count": 4,
   "metadata": {},
   "outputs": [],
   "source": [
    "def runit(filename, part=1):\n",
    "    scores, names = read_input(filename)\n",
    "    if part == 2:\n",
    "        my_name = 'Pelle'\n",
    "        for name in names:\n",
    "            scores[my_name, name] = 0\n",
    "            scores[name, my_name] = 0\n",
    "        names = names + ['Pelle']\n",
    "    perm_scores = []\n",
    "    for order in permutations(names):\n",
    "        score = calc_happiness(scores, order)\n",
    "        perm_scores.append(score)\n",
    "    return max(perm_scores)"
   ]
  },
  {
   "cell_type": "code",
   "execution_count": 5,
   "metadata": {},
   "outputs": [
    {
     "data": {
      "text/plain": [
       "664"
      ]
     },
     "execution_count": 5,
     "metadata": {},
     "output_type": "execute_result"
    }
   ],
   "source": [
    "runit('13_input.txt')"
   ]
  },
  {
   "cell_type": "code",
   "execution_count": 6,
   "metadata": {},
   "outputs": [
    {
     "data": {
      "text/plain": [
       "640"
      ]
     },
     "execution_count": 6,
     "metadata": {},
     "output_type": "execute_result"
    }
   ],
   "source": [
    "runit('13_input.txt', part=2)"
   ]
  },
  {
   "cell_type": "code",
   "execution_count": null,
   "metadata": {},
   "outputs": [],
   "source": []
  }
 ],
 "metadata": {
  "kernelspec": {
   "display_name": "Python 3.10.4 ('ds')",
   "language": "python",
   "name": "python3"
  },
  "language_info": {
   "codemirror_mode": {
    "name": "ipython",
    "version": 3
   },
   "file_extension": ".py",
   "mimetype": "text/x-python",
   "name": "python",
   "nbconvert_exporter": "python",
   "pygments_lexer": "ipython3",
   "version": "3.10.4"
  },
  "orig_nbformat": 4,
  "vscode": {
   "interpreter": {
    "hash": "a7861172d2007d4541fab3e4eefe3a41dabba6fa735ecd87066a89563db3fd59"
   }
  }
 },
 "nbformat": 4,
 "nbformat_minor": 2
}
