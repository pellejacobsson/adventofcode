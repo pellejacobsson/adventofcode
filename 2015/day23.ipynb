{
 "cells": [
  {
   "cell_type": "code",
   "execution_count": 1,
   "metadata": {},
   "outputs": [],
   "source": [
    "def read_input(filename):\n",
    "    instructions = []\n",
    "    with open(filename, 'r') as f:\n",
    "        for line in f.readlines():\n",
    "            cmd = line.strip().split(' ')\n",
    "            if len(cmd[1]) == 2 and cmd[1][1] == ',':\n",
    "                cmd[1] = cmd[1][0]\n",
    "            elif cmd[1][0] in ['-', '+']:\n",
    "                cmd[1] = int(cmd[1])\n",
    "            if len(cmd) == 3:\n",
    "                cmd[2] = int(cmd[2])\n",
    "            instructions.append(cmd)\n",
    "    return instructions\n"
   ]
  },
  {
   "cell_type": "code",
   "execution_count": 2,
   "metadata": {},
   "outputs": [],
   "source": [
    "class computer:\n",
    "    def __init__(self, instructions, a=0, b=0, i=0):\n",
    "        self.reg = {'a': a, 'b': b}\n",
    "        self.i = i\n",
    "        self.instructions = instructions\n",
    "    \n",
    "    def run_cmd(self):\n",
    "        if self.i >= len(self.instructions):\n",
    "            return 0\n",
    "        cmd, *par = self.instructions[self.i]\n",
    "        status = 1\n",
    "        if cmd == 'hlf':\n",
    "            p = par[0]\n",
    "            self.reg[p] /= 2\n",
    "            self.i += 1\n",
    "        elif cmd == 'tpl':\n",
    "            p = par[0]\n",
    "            self.reg[p] *= 3\n",
    "            self.i += 1\n",
    "        elif cmd == 'inc':\n",
    "            p = par[0]\n",
    "            self.reg[p] += 1\n",
    "            self.i += 1\n",
    "        elif cmd == 'jmp':\n",
    "            p = par[0]\n",
    "            self.i += p\n",
    "        elif cmd == 'jie':\n",
    "            p1, p2 = par\n",
    "            self.i += p2 if self.reg[p1] % 2 == 0 else 1\n",
    "        elif cmd == 'jio':\n",
    "            p1, p2 = par\n",
    "            self.i += p2 if self.reg[p1] == 1 else 1\n",
    "        else:\n",
    "            status = 0\n",
    "        return status"
   ]
  },
  {
   "cell_type": "code",
   "execution_count": 3,
   "metadata": {},
   "outputs": [],
   "source": [
    "def runit(part=1):\n",
    "    instructions = read_input('23_input.txt')\n",
    "    a = 0 if part == 1 else 1\n",
    "    c = computer(instructions, a=a)\n",
    "    res = 1\n",
    "    while res == 1:\n",
    "        res = c.run_cmd()\n",
    "    return c.reg['b']"
   ]
  },
  {
   "cell_type": "code",
   "execution_count": 4,
   "metadata": {},
   "outputs": [
    {
     "name": "stdout",
     "output_type": "stream",
     "text": [
      "Part 1: 184\n",
      "Part 2: 231\n"
     ]
    }
   ],
   "source": [
    "print(f'Part 1: {runit()}')\n",
    "print(f'Part 2: {runit(part=2)}')"
   ]
  },
  {
   "cell_type": "code",
   "execution_count": null,
   "metadata": {},
   "outputs": [],
   "source": []
  }
 ],
 "metadata": {
  "kernelspec": {
   "display_name": "Python 3.10.4 ('ds')",
   "language": "python",
   "name": "python3"
  },
  "language_info": {
   "codemirror_mode": {
    "name": "ipython",
    "version": 3
   },
   "file_extension": ".py",
   "mimetype": "text/x-python",
   "name": "python",
   "nbconvert_exporter": "python",
   "pygments_lexer": "ipython3",
   "version": "3.10.4"
  },
  "orig_nbformat": 4,
  "vscode": {
   "interpreter": {
    "hash": "a7861172d2007d4541fab3e4eefe3a41dabba6fa735ecd87066a89563db3fd59"
   }
  }
 },
 "nbformat": 4,
 "nbformat_minor": 2
}
