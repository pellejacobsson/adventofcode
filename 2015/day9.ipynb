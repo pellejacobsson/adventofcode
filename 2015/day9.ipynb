{
 "cells": [
  {
   "cell_type": "code",
   "execution_count": 5,
   "metadata": {},
   "outputs": [],
   "source": [
    "import itertools\n",
    "import re"
   ]
  },
  {
   "cell_type": "code",
   "execution_count": 35,
   "metadata": {},
   "outputs": [],
   "source": [
    "def read_input(filename):\n",
    "    with open(filename, 'r') as f:\n",
    "        lines = [s.strip() for s in f.readlines()]\n",
    "    expr = r'([a-zA-Z]*) to ([a-zA-Z]*) = ([0-9]*)'\n",
    "    d = {}\n",
    "    s = set()\n",
    "    for line in lines:\n",
    "        m = re.search(expr, line)\n",
    "        d[m[1], m[2]] = int(m[3])\n",
    "        d[m[2], m[1]] = int(m[3])\n",
    "        s.add(m[1])\n",
    "        s.add(m[2])\n",
    "    return d, s"
   ]
  },
  {
   "cell_type": "code",
   "execution_count": 36,
   "metadata": {},
   "outputs": [],
   "source": [
    "dist, all_cities = read_input('09_testinput.txt')"
   ]
  },
  {
   "cell_type": "code",
   "execution_count": 38,
   "metadata": {},
   "outputs": [],
   "source": [
    "cities_perm = itertools.permutations(all_cities)"
   ]
  },
  {
   "cell_type": "code",
   "execution_count": 30,
   "metadata": {},
   "outputs": [],
   "source": [
    "def calc_route(cities, dist):\n",
    "    d = 0\n",
    "    for city1, city2 in zip(cities[:-1], cities[1:]):\n",
    "        d += dist[city1, city2]\n",
    "    return d"
   ]
  },
  {
   "cell_type": "code",
   "execution_count": 52,
   "metadata": {},
   "outputs": [],
   "source": [
    "def runit(filename, part=1):\n",
    "    dist, all_cities = read_input(filename)\n",
    "    cities_perm = itertools.permutations(all_cities)\n",
    "    all_dist = {}\n",
    "    for cities in cities_perm:\n",
    "        all_dist[cities] = calc_route(cities, dist)\n",
    "    res = min(all_dist.values()) if part == 1 else max(all_dist.values())\n",
    "    return res"
   ]
  },
  {
   "cell_type": "code",
   "execution_count": 55,
   "metadata": {},
   "outputs": [
    {
     "data": {
      "text/plain": [
       "909"
      ]
     },
     "execution_count": 55,
     "metadata": {},
     "output_type": "execute_result"
    }
   ],
   "source": [
    "runit('09_input.txt', part=2)"
   ]
  },
  {
   "cell_type": "code",
   "execution_count": null,
   "metadata": {},
   "outputs": [],
   "source": []
  }
 ],
 "metadata": {
  "kernelspec": {
   "display_name": "Python 3.10.4 ('ds')",
   "language": "python",
   "name": "python3"
  },
  "language_info": {
   "codemirror_mode": {
    "name": "ipython",
    "version": 3
   },
   "file_extension": ".py",
   "mimetype": "text/x-python",
   "name": "python",
   "nbconvert_exporter": "python",
   "pygments_lexer": "ipython3",
   "version": "3.10.4"
  },
  "orig_nbformat": 4,
  "vscode": {
   "interpreter": {
    "hash": "a7861172d2007d4541fab3e4eefe3a41dabba6fa735ecd87066a89563db3fd59"
   }
  }
 },
 "nbformat": 4,
 "nbformat_minor": 2
}
