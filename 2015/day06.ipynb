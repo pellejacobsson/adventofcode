{
 "cells": [
  {
   "cell_type": "code",
   "execution_count": 1,
   "metadata": {},
   "outputs": [],
   "source": [
    "import re\n",
    "import numpy as np"
   ]
  },
  {
   "cell_type": "code",
   "execution_count": 2,
   "metadata": {},
   "outputs": [],
   "source": [
    "def read_input(filename):\n",
    "    with open(filename, 'r') as f:\n",
    "        lines = [l.strip() for l in f.readlines()]\n",
    "    return lines"
   ]
  },
  {
   "cell_type": "code",
   "execution_count": 3,
   "metadata": {},
   "outputs": [],
   "source": [
    "def action(grid, s):\n",
    "    m = re.search(r'([a-z\\s]*)([0-9]*),([0-9]*) through ([0-9]*),([0-9]*)', s)\n",
    "    a = m[1]\n",
    "    x1, y1, x2, y2 = [int(m[n]) for n in range(2, 6)]\n",
    "    if a == 'turn on ':\n",
    "        grid[x1:x2+1, y1:y2+1] = 1\n",
    "    elif a == 'turn off ':\n",
    "        grid[x1:x2+1, y1:y2+1] = 0\n",
    "    elif a == 'toggle ':\n",
    "        grid[x1:x2+1, y1:y2+1] = (grid[x1:x2+1, y1:y2+1] != 1).astype(int)\n",
    "    else:\n",
    "        raise ValueError(f'Wrong action: {a}')\n",
    "    return grid\n",
    "\n",
    "def action2(grid, s):\n",
    "    m = re.search(r'([a-z\\s]*)([0-9]*),([0-9]*) through ([0-9]*),([0-9]*)', s)\n",
    "    a = m[1]\n",
    "    x1, y1, x2, y2 = [int(m[n]) for n in range(2, 6)]\n",
    "    if a == 'turn on ':\n",
    "        grid[x1:x2+1, y1:y2+1] += 1\n",
    "    elif a == 'turn off ':\n",
    "        grid[x1:x2+1, y1:y2+1] = np.maximum(grid[x1:x2+1, y1:y2+1] - 1, 0)\n",
    "    elif a == 'toggle ':\n",
    "        grid[x1:x2+1, y1:y2+1] += 2\n",
    "    else:\n",
    "        raise ValueError(f'Wrong action: {a}')\n",
    "    return grid"
   ]
  },
  {
   "cell_type": "code",
   "execution_count": 4,
   "metadata": {},
   "outputs": [],
   "source": [
    "def runit(filename, part=1):\n",
    "    action_fun = action if part == 1 else action2\n",
    "    instructions = read_input(filename)\n",
    "    grid = np.zeros((1000, 1000), int)\n",
    "    for instruction in instructions:\n",
    "        grid = action_fun(grid, instruction)\n",
    "    return np.sum(grid)"
   ]
  },
  {
   "cell_type": "code",
   "execution_count": 8,
   "metadata": {},
   "outputs": [
    {
     "name": "stdout",
     "output_type": "stream",
     "text": [
      "Part 1: 543903\n",
      "Part 2: 14687245\n"
     ]
    }
   ],
   "source": [
    "print(f\"Part 1: {runit('06_input.txt', part=1)}\")\n",
    "print(f\"Part 2: {runit('06_input.txt', part=2)}\")"
   ]
  }
 ],
 "metadata": {
  "kernelspec": {
   "display_name": "Python 3.10.4 ('ds')",
   "language": "python",
   "name": "python3"
  },
  "language_info": {
   "codemirror_mode": {
    "name": "ipython",
    "version": 3
   },
   "file_extension": ".py",
   "mimetype": "text/x-python",
   "name": "python",
   "nbconvert_exporter": "python",
   "pygments_lexer": "ipython3",
   "version": "3.10.4"
  },
  "orig_nbformat": 4,
  "vscode": {
   "interpreter": {
    "hash": "a7861172d2007d4541fab3e4eefe3a41dabba6fa735ecd87066a89563db3fd59"
   }
  }
 },
 "nbformat": 4,
 "nbformat_minor": 2
}
