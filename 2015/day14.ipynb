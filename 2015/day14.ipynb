{
 "cells": [
  {
   "cell_type": "code",
   "execution_count": 74,
   "metadata": {},
   "outputs": [],
   "source": [
    "class Raindeer:\n",
    "    def __init__(self, name, speed, move_time, rest_time):\n",
    "        self.name = name\n",
    "        self.speed = speed\n",
    "        self.move_time = move_time\n",
    "        self.rest_time = rest_time\n",
    "        self.move_counter = 0\n",
    "        self.rest_counter = 0\n",
    "        self.is_moving = True\n",
    "        self.distance = 0\n",
    "        self.points = 0\n",
    "   \n",
    "    def step(self):\n",
    "        if self.is_moving:\n",
    "            if self.move_counter == self.move_time:\n",
    "                self.is_moving = False\n",
    "                self.move_counter = 0\n",
    "                self.rest_counter = 1\n",
    "            else:\n",
    "                self.move_counter += 1\n",
    "                self.distance += self.speed\n",
    "        else:\n",
    "            if self.rest_counter == self.rest_time:\n",
    "                self.is_moving = True\n",
    "                self.rest_counter = 0\n",
    "                self.move_counter = 1\n",
    "                self.distance += self.speed\n",
    "            else:\n",
    "                self.rest_counter += 1\n",
    "\n",
    "    def get_distance(self):\n",
    "        return self.distance\n",
    "\n",
    "    def get_name(self):\n",
    "        return self.name\n",
    "\n",
    "    def award_points(self):\n",
    "        self.points += 1\n",
    "\n",
    "    def get_points(self):\n",
    "        return self.points\n",
    "\n",
    "def read_input(filename):\n",
    "    with open(filename, 'r') as f:\n",
    "        lines = [s.split(' ') for s in f.readlines()]\n",
    "    d = []\n",
    "    for line in lines:\n",
    "        d.append(Raindeer(line[0], int(line[3]), int(line[6]), int(line[13])))\n",
    "    return d\n"
   ]
  },
  {
   "cell_type": "code",
   "execution_count": 75,
   "metadata": {},
   "outputs": [],
   "source": [
    "def runit(filename, n_seconds):\n",
    "    raindeers = read_input(filename)\n",
    "    for i in range(n_seconds):\n",
    "        for deer in raindeers:\n",
    "            deer.step()\n",
    "    for deer in raindeers:\n",
    "        print(f'{deer.get_name()}: {deer.get_distance()}')\n",
    "    max_dist = max([deer.get_distance() for deer in raindeers])\n",
    "    print(f'Max distance: {max_dist}')\n",
    "    "
   ]
  },
  {
   "cell_type": "code",
   "execution_count": 76,
   "metadata": {},
   "outputs": [
    {
     "name": "stdout",
     "output_type": "stream",
     "text": [
      "Dancer: 2565\n",
      "Cupid: 2596\n",
      "Rudolph: 2640\n",
      "Donner: 2548\n",
      "Dasher: 2304\n",
      "Blitzen: 2590\n",
      "Prancer: 2589\n",
      "Comet: 2484\n",
      "Vixen: 2610\n",
      "Max distance: 2640\n"
     ]
    }
   ],
   "source": [
    "runit('14_input.txt', n_seconds=2503)"
   ]
  },
  {
   "cell_type": "code",
   "execution_count": 79,
   "metadata": {},
   "outputs": [],
   "source": [
    "def runit2(filename, n_seconds):\n",
    "    raindeers = read_input(filename)\n",
    "    for i in range(n_seconds):\n",
    "        for deer in raindeers:\n",
    "            deer.step()\n",
    "        dist = [deer.get_distance() for deer in raindeers]\n",
    "        max_dist = max(dist)\n",
    "        max_idx = [i for (i, d) in enumerate(dist) if d == max_dist]\n",
    "        for i in max_idx:\n",
    "            raindeers[i].award_points()\n",
    "    for deer in raindeers:\n",
    "        print(f'{deer.get_name()}: {deer.get_points()}')\n",
    "    max_points = max([deer.get_points() for deer in raindeers])\n",
    "    print(f'Max points: {max_points}')"
   ]
  },
  {
   "cell_type": "code",
   "execution_count": 81,
   "metadata": {},
   "outputs": [
    {
     "name": "stdout",
     "output_type": "stream",
     "text": [
      "Dancer: 164\n",
      "Cupid: 46\n",
      "Rudolph: 647\n",
      "Donner: 1102\n",
      "Dasher: 0\n",
      "Blitzen: 6\n",
      "Prancer: 176\n",
      "Comet: 213\n",
      "Vixen: 360\n",
      "Max points: 1102\n"
     ]
    }
   ],
   "source": [
    "runit2('14_input.txt', n_seconds=2503)"
   ]
  }
 ],
 "metadata": {
  "kernelspec": {
   "display_name": "Python 3.10.4 ('ds')",
   "language": "python",
   "name": "python3"
  },
  "language_info": {
   "codemirror_mode": {
    "name": "ipython",
    "version": 3
   },
   "file_extension": ".py",
   "mimetype": "text/x-python",
   "name": "python",
   "nbconvert_exporter": "python",
   "pygments_lexer": "ipython3",
   "version": "3.10.4"
  },
  "orig_nbformat": 4,
  "vscode": {
   "interpreter": {
    "hash": "a7861172d2007d4541fab3e4eefe3a41dabba6fa735ecd87066a89563db3fd59"
   }
  }
 },
 "nbformat": 4,
 "nbformat_minor": 2
}
