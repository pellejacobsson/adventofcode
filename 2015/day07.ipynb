{
 "cells": [
  {
   "cell_type": "code",
   "execution_count": 3,
   "metadata": {},
   "outputs": [],
   "source": [
    "def read_input(filename):\n",
    "    with open(filename, 'r') as f:\n",
    "        lines = [s.strip().split(' ') for s in f.readlines()]\n",
    "    d = {}\n",
    "    for line in lines:\n",
    "        d[line[-1]] = line[:-2]\n",
    "    return d"
   ]
  },
  {
   "cell_type": "code",
   "execution_count": 4,
   "metadata": {},
   "outputs": [],
   "source": [
    "def signal(booklet, wire):\n",
    "    if isinstance(wire, int):\n",
    "        return wire\n",
    "    elif not wire.islower():\n",
    "        return int(wire)\n",
    "    else:\n",
    "        instruction = booklet[wire]\n",
    "        if len(instruction) == 1:\n",
    "            value = instruction[0]\n",
    "            if isinstance(value, int):\n",
    "                return value\n",
    "            elif not value.islower():\n",
    "                return int(value)\n",
    "            else:\n",
    "                res = signal(booklet, value)\n",
    "                booklet[wire] = [res]\n",
    "                return res\n",
    "        elif len(instruction) == 2:\n",
    "            value = signal(booklet, instruction[1])\n",
    "            res = ~value + (1<<16)\n",
    "            booklet[wire] = [res]\n",
    "            return res\n",
    "        elif len(instruction) == 3:\n",
    "            value1 = signal(booklet, instruction[0])\n",
    "            value2 = signal(booklet, instruction[2])\n",
    "            op = instruction[1]\n",
    "            if op == 'AND':\n",
    "                res = value1 & value2\n",
    "            elif op == 'OR':\n",
    "                res = value1 | value2\n",
    "            elif op == 'RSHIFT':\n",
    "                res = value1 >> value2\n",
    "            elif op == 'LSHIFT':\n",
    "                res = value1 << value2\n",
    "            else:\n",
    "                raise ValueError(f'Wrong operator: {op}')\n",
    "            booklet[wire] = [res]\n",
    "            return res\n"
   ]
  },
  {
   "cell_type": "code",
   "execution_count": 7,
   "metadata": {},
   "outputs": [],
   "source": [
    "def runit(filename):\n",
    "    booklet = read_input(filename)\n",
    "    part1 = signal(booklet, 'a')\n",
    "    booklet = read_input(filename)\n",
    "    booklet['b'] = [part1]\n",
    "    part2 = signal(booklet, 'a')\n",
    "    return part1, part2"
   ]
  },
  {
   "cell_type": "code",
   "execution_count": 8,
   "metadata": {},
   "outputs": [
    {
     "data": {
      "text/plain": [
       "(46065, 14134)"
      ]
     },
     "execution_count": 8,
     "metadata": {},
     "output_type": "execute_result"
    }
   ],
   "source": [
    "runit('07_input.txt')"
   ]
  }
 ],
 "metadata": {
  "kernelspec": {
   "display_name": "Python 3.10.4 ('ds')",
   "language": "python",
   "name": "python3"
  },
  "language_info": {
   "codemirror_mode": {
    "name": "ipython",
    "version": 3
   },
   "file_extension": ".py",
   "mimetype": "text/x-python",
   "name": "python",
   "nbconvert_exporter": "python",
   "pygments_lexer": "ipython3",
   "version": "3.10.4"
  },
  "orig_nbformat": 4,
  "vscode": {
   "interpreter": {
    "hash": "a7861172d2007d4541fab3e4eefe3a41dabba6fa735ecd87066a89563db3fd59"
   }
  }
 },
 "nbformat": 4,
 "nbformat_minor": 2
}
