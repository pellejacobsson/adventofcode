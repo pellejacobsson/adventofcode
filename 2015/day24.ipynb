{
 "cells": [
  {
   "cell_type": "code",
   "execution_count": 1,
   "metadata": {},
   "outputs": [],
   "source": [
    "from itertools import combinations\n",
    "from math import prod"
   ]
  },
  {
   "cell_type": "code",
   "execution_count": 2,
   "metadata": {},
   "outputs": [],
   "source": [
    "def read_input(filename):\n",
    "    with open(filename, 'r') as f:\n",
    "        w = [int(s.strip()) for s in f.readlines()]\n",
    "    return w"
   ]
  },
  {
   "cell_type": "markdown",
   "metadata": {},
   "source": [
    " ## Part 1\n",
    "\n",
    " - $ \\frac{1}{3} \\sum w_i = 516 $\n",
    " - $ 5 \\leq n_\\text{smallest} \\leq 9 $\n",
    " - Only even number of terms\n",
    " - $ n_\\text{smallest} \\in [6, 8] $\n",
    "\n",
    "Possible combinations: (6, 6, 16), (6, 8, 14), (6, 10, 12), (8, 8, 12), (8, 10, 10)"
   ]
  },
  {
   "cell_type": "code",
   "execution_count": 3,
   "metadata": {},
   "outputs": [],
   "source": [
    "def runit(filename):\n",
    "    w = read_input(filename)\n",
    "    e_min = 113**6\n",
    "    for (i, j, k) in ((6, 6, 16), (6, 8, 14), (6, 10, 12), (8, 8, 12), (8, 10, 10)):\n",
    "        for p1 in combinations(w, i):\n",
    "            if sum(p1) == 516 and prod(p1) < e_min:\n",
    "                for p2 in combinations(set(w) - set(p1), j):\n",
    "                    if sum(p2) == 516:\n",
    "                        p3 = set(w) - set(p1) - set(p2)\n",
    "                        if sum(p3) == 516:\n",
    "                            e_min = prod(p1)\n",
    "    return e_min"
   ]
  },
  {
   "cell_type": "code",
   "execution_count": 4,
   "metadata": {},
   "outputs": [
    {
     "data": {
      "text/plain": [
       "11266889531"
      ]
     },
     "execution_count": 4,
     "metadata": {},
     "output_type": "execute_result"
    }
   ],
   "source": [
    "runit('24_input.txt')"
   ]
  },
  {
   "cell_type": "markdown",
   "metadata": {},
   "source": [
    "## Part 2\n",
    "\n",
    " - $ \\frac{1}{4} \\sum w_i = 387 $\n",
    " - $ 4 \\leq n_\\text{smallest} \\leq 7 $\n",
    " - Only odd number of terms\n",
    " - $ n_\\text{smallest} \\in [5, 7] $"
   ]
  },
  {
   "cell_type": "code",
   "execution_count": 7,
   "metadata": {},
   "outputs": [],
   "source": [
    "def runit2(filename):\n",
    "    w = read_input(filename)\n",
    "    s = set()\n",
    "    for i in [5, 7]:\n",
    "        for j in range(i, 28 - 3 * i + 1, 2):\n",
    "            for k in range(j, 28 - 2 * i - j + 1, 2):\n",
    "                l = 28 - i - j - k\n",
    "                ss = [i, j, k, l]\n",
    "                ss.sort()\n",
    "                s.add(tuple(ss))\n",
    "    e_min = 113**5\n",
    "    for (i, j, k, l) in s:\n",
    "        for p1 in combinations(w, i):\n",
    "            if sum(p1) == 387 and prod(p1) < e_min:\n",
    "                for p2 in combinations(set(w) - set(p1), j):\n",
    "                    if sum(p2) == 387:\n",
    "                        for p3 in combinations(set(w) - set(p1) - set(p2), k):\n",
    "                            p4 = set(w) - set(p1) - set(p2) - set(p3)\n",
    "                            if sum(p4) == 387:\n",
    "                                e_min = prod(p1)\n",
    "    return e_min"
   ]
  },
  {
   "cell_type": "code",
   "execution_count": 8,
   "metadata": {},
   "outputs": [
    {
     "data": {
      "text/plain": [
       "77387711"
      ]
     },
     "execution_count": 8,
     "metadata": {},
     "output_type": "execute_result"
    }
   ],
   "source": [
    "runit2('24_input.txt')"
   ]
  },
  {
   "cell_type": "code",
   "execution_count": null,
   "metadata": {},
   "outputs": [],
   "source": []
  }
 ],
 "metadata": {
  "kernelspec": {
   "display_name": "Python 3.10.4 ('ds')",
   "language": "python",
   "name": "python3"
  },
  "language_info": {
   "codemirror_mode": {
    "name": "ipython",
    "version": 3
   },
   "file_extension": ".py",
   "mimetype": "text/x-python",
   "name": "python",
   "nbconvert_exporter": "python",
   "pygments_lexer": "ipython3",
   "version": "3.10.4"
  },
  "orig_nbformat": 4,
  "vscode": {
   "interpreter": {
    "hash": "a7861172d2007d4541fab3e4eefe3a41dabba6fa735ecd87066a89563db3fd59"
   }
  }
 },
 "nbformat": 4,
 "nbformat_minor": 2
}
