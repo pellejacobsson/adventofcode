{
 "cells": [
  {
   "cell_type": "code",
   "execution_count": 1,
   "metadata": {},
   "outputs": [],
   "source": [
    "import re"
   ]
  },
  {
   "cell_type": "code",
   "execution_count": 2,
   "metadata": {},
   "outputs": [],
   "source": [
    "def read_input(filename):\n",
    "    with open(filename, 'r') as f:\n",
    "        lines = [s.strip() for s in f.readlines()]\n",
    "    return lines"
   ]
  },
  {
   "cell_type": "code",
   "execution_count": 3,
   "metadata": {},
   "outputs": [],
   "source": [
    "def mem_chars(line):\n",
    "    new_line = line[1:-1]\n",
    "    new_line = new_line.replace('\\\\\\\\', '\\\\')\n",
    "    new_line = new_line.replace('\\\\\"', '\"')\n",
    "    new_line = re.sub(r'\\\\x[0-9a-f]{2}', 'X', new_line)\n",
    "    return new_line\n",
    "\n",
    "def enc_chars(line):\n",
    "    new_line = line.replace('\\\\', '\\\\\\\\')\n",
    "    new_line = new_line.replace('\"', '\\\\\"')\n",
    "    new_line = '\"' + new_line + '\"'\n",
    "    return new_line"
   ]
  },
  {
   "cell_type": "code",
   "execution_count": 14,
   "metadata": {},
   "outputs": [],
   "source": [
    "def runit(filename, part=1):\n",
    "    lines = read_input(filename)\n",
    "    fun_chars = mem_chars if part == 1 else enc_chars\n",
    "    orig_count = 0\n",
    "    new_count = 0\n",
    "    for line in lines:\n",
    "        new_line = fun_chars(line)\n",
    "        orig_count += len(line)\n",
    "        new_count += len(new_line)\n",
    "    return orig_count - new_count if part == 1 else new_count - orig_count"
   ]
  },
  {
   "cell_type": "code",
   "execution_count": 15,
   "metadata": {},
   "outputs": [
    {
     "data": {
      "text/plain": [
       "2046"
      ]
     },
     "execution_count": 15,
     "metadata": {},
     "output_type": "execute_result"
    }
   ],
   "source": [
    "runit('08_input.txt', part=2)"
   ]
  },
  {
   "cell_type": "code",
   "execution_count": null,
   "metadata": {},
   "outputs": [],
   "source": []
  }
 ],
 "metadata": {
  "kernelspec": {
   "display_name": "Python 3.10.4 ('ds')",
   "language": "python",
   "name": "python3"
  },
  "language_info": {
   "codemirror_mode": {
    "name": "ipython",
    "version": 3
   },
   "file_extension": ".py",
   "mimetype": "text/x-python",
   "name": "python",
   "nbconvert_exporter": "python",
   "pygments_lexer": "ipython3",
   "version": "3.10.4"
  },
  "orig_nbformat": 4,
  "vscode": {
   "interpreter": {
    "hash": "a7861172d2007d4541fab3e4eefe3a41dabba6fa735ecd87066a89563db3fd59"
   }
  }
 },
 "nbformat": 4,
 "nbformat_minor": 2
}
