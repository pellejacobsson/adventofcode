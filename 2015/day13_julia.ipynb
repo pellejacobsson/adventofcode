{
 "cells": [
  {
   "cell_type": "code",
   "execution_count": 43,
   "metadata": {},
   "outputs": [],
   "source": [
    "using Combinatorics\n",
    "using BenchmarkTools"
   ]
  },
  {
   "cell_type": "code",
   "execution_count": 65,
   "metadata": {},
   "outputs": [
    {
     "data": {
      "text/plain": [
       "runit (generic function with 1 method)"
      ]
     },
     "metadata": {},
     "output_type": "display_data"
    }
   ],
   "source": [
    "function read_input(filename)\n",
    "    d, names = open(filename) do f\n",
    "        re = r\"(.*) would (lose|gain) ([0-9]*) happiness units by sitting next to (.*).\"\n",
    "        d = Dict{Tuple{String, String}, Int64}()\n",
    "        names = Set{String}()\n",
    "        for line in readlines(f)\n",
    "            m = match(re, line)\n",
    "            d[m[1], m[4]] = m[2] == \"gain\" ? parse(Int, m[3]) : -parse(Int, m[3])\n",
    "            push!(names, m[1])\n",
    "            push!(names, m[4])\n",
    "        end\n",
    "        d, names\n",
    "    end\n",
    "end\n",
    "\n",
    "function calc_happiness(scores, order)\n",
    "    score = 0\n",
    "    for (name1, name2) in zip(order, [order[2:end]; order[1]])\n",
    "        score += scores[name1, name2] + scores[name2, name1]\n",
    "    end\n",
    "    score\n",
    "end\n",
    "\n",
    "function runit(filename; part=1)\n",
    "    scores, names = read_input(filename)\n",
    "    if part == 2\n",
    "        my_name = \"Pelle\"\n",
    "        for name in names\n",
    "            scores[my_name, name] = 0\n",
    "            scores[name, my_name] = 0\n",
    "        end\n",
    "        push!(names, \"Pelle\")\n",
    "    end\n",
    "    perm_scores = Int64[]\n",
    "    for order in permutations(collect(names))\n",
    "        score = calc_happiness(scores, order)\n",
    "        push!(perm_scores, score)\n",
    "    end\n",
    "    maximum(perm_scores)\n",
    "end\n"
   ]
  },
  {
   "cell_type": "code",
   "execution_count": 70,
   "metadata": {},
   "outputs": [
    {
     "data": {
      "text/plain": [
       "664"
      ]
     },
     "metadata": {},
     "output_type": "display_data"
    }
   ],
   "source": [
    "runit(\"13_input.txt\")"
   ]
  },
  {
   "cell_type": "code",
   "execution_count": 71,
   "metadata": {},
   "outputs": [
    {
     "data": {
      "text/plain": [
       "640"
      ]
     },
     "metadata": {},
     "output_type": "display_data"
    }
   ],
   "source": [
    "runit(\"13_input.txt\"; part=2)"
   ]
  },
  {
   "cell_type": "code",
   "execution_count": 72,
   "metadata": {},
   "outputs": [
    {
     "name": "stdout",
     "output_type": "stream",
     "text": [
      "  72.569 ms (727496 allocations: 31.61 MiB)\n"
     ]
    },
    {
     "data": {
      "text/plain": [
       "664"
      ]
     },
     "metadata": {},
     "output_type": "display_data"
    }
   ],
   "source": [
    "@btime runit(\"13_input.txt\")"
   ]
  },
  {
   "cell_type": "code",
   "execution_count": 73,
   "metadata": {},
   "outputs": [
    {
     "name": "stdout",
     "output_type": "stream",
     "text": [
      "  729.175 ms (6538711 allocations: 289.89 MiB)\n"
     ]
    },
    {
     "data": {
      "text/plain": [
       "640"
      ]
     },
     "metadata": {},
     "output_type": "display_data"
    }
   ],
   "source": [
    "@btime runit(\"13_input.txt\"; part=2)"
   ]
  }
 ],
 "metadata": {
  "kernelspec": {
   "display_name": "Julia 1.8.3",
   "language": "julia",
   "name": "julia-1.8"
  },
  "language_info": {
   "file_extension": ".jl",
   "mimetype": "application/julia",
   "name": "julia",
   "version": "1.8.3"
  },
  "orig_nbformat": 4
 },
 "nbformat": 4,
 "nbformat_minor": 2
}
