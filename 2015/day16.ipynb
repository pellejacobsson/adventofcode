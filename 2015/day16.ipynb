{
 "cells": [
  {
   "cell_type": "code",
   "execution_count": 1,
   "metadata": {},
   "outputs": [],
   "source": [
    "import re"
   ]
  },
  {
   "cell_type": "code",
   "execution_count": 46,
   "metadata": {},
   "outputs": [],
   "source": [
    "def read_input(filename):\n",
    "    aunts = []\n",
    "    expr = r'Sue ([0-9]*): (.*): ([0-9]*), (.*): ([0-9]*), (.*): ([0-9])*'\n",
    "    with open(filename, 'r') as f:\n",
    "        for line in f.readlines():\n",
    "            m = re.search(expr, line.strip())\n",
    "            g = m.groups()\n",
    "            aunts.append({g[i]: int(g[i + 1]) for i in range(1, len(g), 2)})\n",
    "    mfcsam = {\n",
    "        'children': 3,\n",
    "        'cats': 7,\n",
    "        'samoyeds': 2,\n",
    "        'pomeranians': 3,\n",
    "        'akitas': 0,\n",
    "        'vizslas': 0,\n",
    "        'goldfish': 5,\n",
    "        'trees': 3,\n",
    "        'cars': 2,\n",
    "        'perfumes': 1\n",
    "    }\n",
    "    for aunt in aunts:\n",
    "        for item in mfcsam.keys():\n",
    "            if not item in aunt:\n",
    "                aunt[item] = None\n",
    "    return aunts, mfcsam"
   ]
  },
  {
   "cell_type": "code",
   "execution_count": 51,
   "metadata": {},
   "outputs": [],
   "source": [
    "def runit(filename):\n",
    "    aunts, mfcsam = read_input(filename)\n",
    "    for (i, aunt) in enumerate(aunts):\n",
    "        match = True\n",
    "        for (k, v) in mfcsam.items():\n",
    "            if aunt[k] != None and aunt[k] != v:\n",
    "                match = False\n",
    "        if match:\n",
    "            return i + 1\n",
    "    return 'Not found'"
   ]
  },
  {
   "cell_type": "code",
   "execution_count": 52,
   "metadata": {},
   "outputs": [
    {
     "data": {
      "text/plain": [
       "213"
      ]
     },
     "execution_count": 52,
     "metadata": {},
     "output_type": "execute_result"
    }
   ],
   "source": [
    "runit('16_input.txt')"
   ]
  },
  {
   "cell_type": "code",
   "execution_count": 53,
   "metadata": {},
   "outputs": [],
   "source": [
    "def runit2(filename):\n",
    "    aunts, mfcsam = read_input(filename)\n",
    "    for (i, aunt) in enumerate(aunts):\n",
    "        match = True\n",
    "        for (k, v) in mfcsam.items():\n",
    "            if k in ('cats', 'trees'):\n",
    "                if aunt[k] != None and aunt[k] <= v:\n",
    "                    match = False\n",
    "            elif k in ('pomeranians', 'goldfish'):\n",
    "                if aunt[k] != None and aunt[k] >= v:\n",
    "                    match = False\n",
    "            else:\n",
    "                if aunt[k] != None and aunt[k] != v:\n",
    "                    match = False\n",
    "        if match:\n",
    "            return i + 1\n",
    "    return 'Not found'"
   ]
  },
  {
   "cell_type": "code",
   "execution_count": 54,
   "metadata": {},
   "outputs": [
    {
     "data": {
      "text/plain": [
       "323"
      ]
     },
     "execution_count": 54,
     "metadata": {},
     "output_type": "execute_result"
    }
   ],
   "source": [
    "runit2('16_input.txt')"
   ]
  }
 ],
 "metadata": {
  "kernelspec": {
   "display_name": "Python 3.10.4 ('ds')",
   "language": "python",
   "name": "python3"
  },
  "language_info": {
   "codemirror_mode": {
    "name": "ipython",
    "version": 3
   },
   "file_extension": ".py",
   "mimetype": "text/x-python",
   "name": "python",
   "nbconvert_exporter": "python",
   "pygments_lexer": "ipython3",
   "version": "3.10.4"
  },
  "orig_nbformat": 4,
  "vscode": {
   "interpreter": {
    "hash": "a7861172d2007d4541fab3e4eefe3a41dabba6fa735ecd87066a89563db3fd59"
   }
  }
 },
 "nbformat": 4,
 "nbformat_minor": 2
}
