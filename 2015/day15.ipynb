{
 "cells": [
  {
   "cell_type": "code",
   "execution_count": 1,
   "metadata": {},
   "outputs": [],
   "source": [
    "import re\n",
    "import numpy as np\n",
    "from itertools import product, repeat"
   ]
  },
  {
   "cell_type": "code",
   "execution_count": 2,
   "metadata": {},
   "outputs": [],
   "source": [
    "def read_input(filename):\n",
    "    expr = r'(.*): capacity (.*), durability (.*), flavor (.*), texture (.*), calories (.*)'\n",
    "    d = []\n",
    "    with open(filename, 'r') as f:\n",
    "        for line in f.readlines():\n",
    "            m = re.search(expr, line.strip())\n",
    "            d.append(list(map(int, [m[2], m[3], m[4], m[5], m[6]])))\n",
    "    return d"
   ]
  },
  {
   "cell_type": "code",
   "execution_count": 3,
   "metadata": {},
   "outputs": [],
   "source": [
    "def runit(filename):\n",
    "    ing = np.array(read_input(filename))\n",
    "    n_ing = ing.shape[0]\n",
    "    prop = np.array([c for c in product(*repeat(range(101), n_ing)) if sum(c) == 100])\n",
    "    comb = np.matmul(prop, ing[:, 0:4])\n",
    "    score = np.max(np.prod(np.maximum(comb, 0), axis=1))\n",
    "    return score\n",
    "\n",
    "def runit2(filename):\n",
    "    ing = read_input(filename)\n",
    "    n_ing = len(ing)\n",
    "    prop = (c for c in product(*repeat(range(101), n_ing)) if sum(c) == 100)\n",
    "    max_score = 0\n",
    "    for p in prop:\n",
    "        a = ing[0][0] * p[0] + ing[1][0] * p[1] + ing[2][0] * p[2] + ing[3][0] * p[3]\n",
    "        b = ing[0][1] * p[0] + ing[1][1] * p[1] + ing[2][1] * p[2] + ing[3][1] * p[3]\n",
    "        c = ing[0][2] * p[0] + ing[1][2] * p[1] + ing[2][2] * p[2] + ing[3][2] * p[3]\n",
    "        d = ing[0][3] * p[0] + ing[1][3] * p[1] + ing[2][3] * p[2] + ing[3][3] * p[3]\n",
    "        if a <= 0 or b <= 0 or c <= 0 or d <= 0:\n",
    "            score = 0\n",
    "        else:\n",
    "            score = a * b * c * d\n",
    "        if score > max_score:\n",
    "            max_score = score\n",
    "    return max_score\n",
    "\n",
    "def runit3(filename, part=1):\n",
    "    ing = read_input(filename)\n",
    "    max_score = 0\n",
    "    for i1 in range(101):\n",
    "        for i2 in range(101 - i1):\n",
    "            for i3 in range(101 - i1 - i2):\n",
    "                i4 = 100 - i1 - i2 - i3\n",
    "                a = ing[0][0] * i1 + ing[1][0] * i2 + ing[2][0] * i3 + ing[3][0] * i4\n",
    "                b = ing[0][1] * i1 + ing[1][1] * i2 + ing[2][1] * i3 + ing[3][1] * i4\n",
    "                c = ing[0][2] * i1 + ing[1][2] * i2 + ing[2][2] * i3 + ing[3][2] * i4\n",
    "                d = ing[0][3] * i1 + ing[1][3] * i2 + ing[2][3] * i3 + ing[3][3] * i4\n",
    "                if part == 2:\n",
    "                    e = ing[0][4] * i1 + ing[1][4] * i2 + ing[2][4] * i3 + ing[3][4] * i4\n",
    "                    if e != 500:\n",
    "                        continue\n",
    "                if a <= 0 or b <= 0 or c <= 0 or d <= 0:\n",
    "                    score = 0\n",
    "                else:\n",
    "                    score = a * b * c * d\n",
    "                if score > max_score:\n",
    "                    max_score = score\n",
    "    return max_score"
   ]
  },
  {
   "cell_type": "code",
   "execution_count": 4,
   "metadata": {},
   "outputs": [
    {
     "data": {
      "text/plain": [
       "21367368"
      ]
     },
     "execution_count": 4,
     "metadata": {},
     "output_type": "execute_result"
    }
   ],
   "source": [
    "runit('15_input.txt')"
   ]
  },
  {
   "cell_type": "code",
   "execution_count": 5,
   "metadata": {},
   "outputs": [
    {
     "data": {
      "text/plain": [
       "21367368"
      ]
     },
     "execution_count": 5,
     "metadata": {},
     "output_type": "execute_result"
    }
   ],
   "source": [
    "runit2('15_input.txt')"
   ]
  },
  {
   "cell_type": "code",
   "execution_count": 6,
   "metadata": {},
   "outputs": [
    {
     "data": {
      "text/plain": [
       "21367368"
      ]
     },
     "execution_count": 6,
     "metadata": {},
     "output_type": "execute_result"
    }
   ],
   "source": [
    "runit3('15_input.txt')"
   ]
  },
  {
   "cell_type": "code",
   "execution_count": 7,
   "metadata": {},
   "outputs": [
    {
     "data": {
      "text/plain": [
       "1766400"
      ]
     },
     "execution_count": 7,
     "metadata": {},
     "output_type": "execute_result"
    }
   ],
   "source": [
    "runit3('15_input.txt', part=2)"
   ]
  }
 ],
 "metadata": {
  "kernelspec": {
   "display_name": "Python 3.10.4 ('ds')",
   "language": "python",
   "name": "python3"
  },
  "language_info": {
   "codemirror_mode": {
    "name": "ipython",
    "version": 3
   },
   "file_extension": ".py",
   "mimetype": "text/x-python",
   "name": "python",
   "nbconvert_exporter": "python",
   "pygments_lexer": "ipython3",
   "version": "3.10.4"
  },
  "orig_nbformat": 4,
  "vscode": {
   "interpreter": {
    "hash": "a7861172d2007d4541fab3e4eefe3a41dabba6fa735ecd87066a89563db3fd59"
   }
  }
 },
 "nbformat": 4,
 "nbformat_minor": 2
}
