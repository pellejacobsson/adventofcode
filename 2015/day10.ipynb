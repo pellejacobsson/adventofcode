{
 "cells": [
  {
   "cell_type": "code",
   "execution_count": 1,
   "metadata": {},
   "outputs": [],
   "source": [
    "input = '1113122113'"
   ]
  },
  {
   "cell_type": "code",
   "execution_count": 2,
   "metadata": {},
   "outputs": [],
   "source": [
    "l = [int(s) for s in input]"
   ]
  },
  {
   "cell_type": "code",
   "execution_count": 32,
   "metadata": {},
   "outputs": [],
   "source": [
    "def look_and_say(l):\n",
    "    if len(l) == 1:\n",
    "        return [1, l[0]]\n",
    "    i = 0\n",
    "    nl = []\n",
    "    while i < len(l)-1:\n",
    "        n = l[i]\n",
    "        c = 1\n",
    "        while i < len(l) - 1 and n == l[i + 1] and i < len(l) - 1:\n",
    "            c += 1\n",
    "            i += 1\n",
    "        nl.append(c)\n",
    "        nl.append(n)\n",
    "        i += 1\n",
    "    if l[-1] != l[-2]:\n",
    "        nl.append(1)\n",
    "        nl.append(l[-1])\n",
    "    return nl"
   ]
  },
  {
   "cell_type": "code",
   "execution_count": 38,
   "metadata": {},
   "outputs": [],
   "source": [
    "def runit(input, n):\n",
    "    l = [int(s) for s in input]\n",
    "    for _ in range(n):\n",
    "        l = look_and_say(l)\n",
    "    return l"
   ]
  },
  {
   "cell_type": "code",
   "execution_count": 43,
   "metadata": {},
   "outputs": [
    {
     "name": "stdout",
     "output_type": "stream",
     "text": [
      "Part 1: 360154\n"
     ]
    }
   ],
   "source": [
    "res = runit('1113122113', 40)\n",
    "print(f'Part 1: {len(res)}')"
   ]
  },
  {
   "cell_type": "code",
   "execution_count": 44,
   "metadata": {},
   "outputs": [
    {
     "name": "stdout",
     "output_type": "stream",
     "text": [
      "Part 2: 5103798\n"
     ]
    }
   ],
   "source": [
    "res = runit('1113122113', 50)\n",
    "print(f'Part 2: {len(res)}')"
   ]
  },
  {
   "cell_type": "code",
   "execution_count": null,
   "metadata": {},
   "outputs": [],
   "source": []
  }
 ],
 "metadata": {
  "kernelspec": {
   "display_name": "Python 3.10.4 ('ds')",
   "language": "python",
   "name": "python3"
  },
  "language_info": {
   "codemirror_mode": {
    "name": "ipython",
    "version": 3
   },
   "file_extension": ".py",
   "mimetype": "text/x-python",
   "name": "python",
   "nbconvert_exporter": "python",
   "pygments_lexer": "ipython3",
   "version": "3.10.4"
  },
  "orig_nbformat": 4,
  "vscode": {
   "interpreter": {
    "hash": "a7861172d2007d4541fab3e4eefe3a41dabba6fa735ecd87066a89563db3fd59"
   }
  }
 },
 "nbformat": 4,
 "nbformat_minor": 2
}
