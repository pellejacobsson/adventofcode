{
 "cells": [
  {
   "cell_type": "code",
   "execution_count": 19,
   "metadata": {},
   "outputs": [],
   "source": [
    "from math import ceil"
   ]
  },
  {
   "cell_type": "code",
   "execution_count": 63,
   "metadata": {},
   "outputs": [],
   "source": [
    "def player_wins(damage, armor, p_hero=100, p_boss=104):\n",
    "    damage_dealt = max(damage - 1, 1)\n",
    "    damage_received = max(8 - armor, 1)\n",
    "    return ceil(p_boss / damage_dealt) <= ceil(p_hero / damage_received)\n",
    "\n",
    "def runit(part=1):\n",
    "    weapon_list = [[8, 4, 0], [10, 5, 0], [25, 6, 0], [40, 7, 0], [74, 8, 0]]\n",
    "    armor_list = [[13, 0, 1], [31, 0, 2], [53, 0, 3], [75, 0, 4], [102, 0, 5]]\n",
    "    ring_list = [[25, 1, 0], [50, 2, 0], [100, 3, 0], [20, 0, 1], [40, 0, 2], [80, 0, 3]]\n",
    "    costs = []\n",
    "    for w in range(5):\n",
    "        for a in range(-1, 5):\n",
    "            for r1 in range(-1, 6):\n",
    "                for r2 in range(-1, 6):\n",
    "                    if (r2 == r1) and not ((r1 == -1) and (r2 == -1)):\n",
    "                        continue\n",
    "                    damage = weapon_list[w][1]\n",
    "                    cost = weapon_list[w][0]\n",
    "                    armor = 0\n",
    "                    if a >= 0:\n",
    "                        armor += armor_list[a][2]\n",
    "                        cost += armor_list[a][0]\n",
    "                    if r1 >= 0:\n",
    "                        armor += ring_list[r1][2]\n",
    "                        damage += ring_list[r1][1]\n",
    "                        cost += ring_list[r1][0]\n",
    "                    if r2 >= 0:\n",
    "                        armor += ring_list[r2][2]\n",
    "                        damage += ring_list[r2][1]\n",
    "                        cost += ring_list[r2][0]\n",
    "                    if player_wins(damage, armor):\n",
    "                        if part == 1:\n",
    "                            costs.append(cost)\n",
    "                    else:\n",
    "                        if part == 2:\n",
    "                            costs.append(cost)\n",
    "    if part == 1:\n",
    "        return min(costs)\n",
    "    else:\n",
    "        return max(costs)"
   ]
  },
  {
   "cell_type": "code",
   "execution_count": 66,
   "metadata": {},
   "outputs": [
    {
     "name": "stdout",
     "output_type": "stream",
     "text": [
      "Part 1: 78\n",
      "Part 2: 148\n"
     ]
    }
   ],
   "source": [
    "print(f'Part 1: {runit()}')\n",
    "print(f'Part 2: {runit(part=2)}')"
   ]
  },
  {
   "cell_type": "code",
   "execution_count": null,
   "metadata": {},
   "outputs": [],
   "source": []
  }
 ],
 "metadata": {
  "kernelspec": {
   "display_name": "Python 3.10.4 ('ds')",
   "language": "python",
   "name": "python3"
  },
  "language_info": {
   "codemirror_mode": {
    "name": "ipython",
    "version": 3
   },
   "file_extension": ".py",
   "mimetype": "text/x-python",
   "name": "python",
   "nbconvert_exporter": "python",
   "pygments_lexer": "ipython3",
   "version": "3.10.4"
  },
  "orig_nbformat": 4,
  "vscode": {
   "interpreter": {
    "hash": "a7861172d2007d4541fab3e4eefe3a41dabba6fa735ecd87066a89563db3fd59"
   }
  }
 },
 "nbformat": 4,
 "nbformat_minor": 2
}
