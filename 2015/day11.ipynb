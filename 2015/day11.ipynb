{
 "cells": [
  {
   "cell_type": "code",
   "execution_count": 41,
   "metadata": {},
   "outputs": [],
   "source": [
    "def step(word):\n",
    "    for i in range(7, -1, -1):\n",
    "        n = ord(word[i])\n",
    "        if n < 122:\n",
    "            if n in [104, 107, 110]:\n",
    "                word[i] = chr(n + 2)\n",
    "            else:\n",
    "                word[i] = chr(n + 1)\n",
    "            break\n",
    "        else:\n",
    "            word[i] = 'a'\n",
    "    return word\n",
    "\n",
    "def has_straight(word):\n",
    "    for i in range(len(word) - 2):\n",
    "        if (ord(word[i]) + 2) == (ord(word[i + 1]) + 1) == ord(word[i + 2]):\n",
    "            return True\n",
    "    return False\n",
    "\n",
    "def has_pairs(word):\n",
    "    one_found = False\n",
    "    i = 0\n",
    "    while i < len(word) - 1:\n",
    "        if word[i] == word[i + 1]:\n",
    "            if one_found:\n",
    "                return True\n",
    "            else:\n",
    "                one_found = True\n",
    "                i += 1\n",
    "        i += 1\n",
    "    return False"
   ]
  },
  {
   "cell_type": "code",
   "execution_count": 50,
   "metadata": {},
   "outputs": [],
   "source": [
    "def runit(pwd):\n",
    "    while True:\n",
    "        pwd = step(pwd)\n",
    "        if has_straight(pwd) and has_pairs(pwd):\n",
    "            return pwd"
   ]
  },
  {
   "cell_type": "code",
   "execution_count": 60,
   "metadata": {},
   "outputs": [],
   "source": [
    "pwd = runit([s for s in 'hepxcrrq'])"
   ]
  },
  {
   "cell_type": "code",
   "execution_count": 61,
   "metadata": {},
   "outputs": [
    {
     "name": "stdout",
     "output_type": "stream",
     "text": [
      "Part 1: hepxxyzz\n"
     ]
    }
   ],
   "source": [
    "print('Part 1:', ''.join(pwd))"
   ]
  },
  {
   "cell_type": "code",
   "execution_count": 62,
   "metadata": {},
   "outputs": [],
   "source": [
    "pwd = runit(pwd)"
   ]
  },
  {
   "cell_type": "code",
   "execution_count": 63,
   "metadata": {},
   "outputs": [
    {
     "name": "stdout",
     "output_type": "stream",
     "text": [
      "Part 2:  heqaabcc\n"
     ]
    }
   ],
   "source": [
    "print('Part 2: ', ''.join(pwd))"
   ]
  }
 ],
 "metadata": {
  "kernelspec": {
   "display_name": "Python 3.10.4 ('ds')",
   "language": "python",
   "name": "python3"
  },
  "language_info": {
   "codemirror_mode": {
    "name": "ipython",
    "version": 3
   },
   "file_extension": ".py",
   "mimetype": "text/x-python",
   "name": "python",
   "nbconvert_exporter": "python",
   "pygments_lexer": "ipython3",
   "version": "3.10.4"
  },
  "orig_nbformat": 4,
  "vscode": {
   "interpreter": {
    "hash": "a7861172d2007d4541fab3e4eefe3a41dabba6fa735ecd87066a89563db3fd59"
   }
  }
 },
 "nbformat": 4,
 "nbformat_minor": 2
}
