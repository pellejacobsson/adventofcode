{
 "cells": [
  {
   "cell_type": "code",
   "execution_count": 29,
   "metadata": {},
   "outputs": [],
   "source": [
    "using IterTools\n",
    "using BenchmarkTools"
   ]
  },
  {
   "cell_type": "code",
   "execution_count": 1,
   "metadata": {},
   "outputs": [
    {
     "data": {
      "text/plain": [
       "\"1113122113\""
      ]
     },
     "execution_count": 1,
     "metadata": {},
     "output_type": "execute_result"
    }
   ],
   "source": [
    "input = \"1113122113\""
   ]
  },
  {
   "cell_type": "code",
   "execution_count": 47,
   "metadata": {},
   "outputs": [
    {
     "data": {
      "text/plain": [
       "runit (generic function with 2 methods)"
      ]
     },
     "execution_count": 47,
     "metadata": {},
     "output_type": "execute_result"
    }
   ],
   "source": [
    "function look_and_say(l)\n",
    "    if length(l) == 1\n",
    "        return [1, l[1]]\n",
    "    end\n",
    "    i = 1\n",
    "    nl = Int64[]\n",
    "    while i < length(l) - 1\n",
    "        n = l[i]\n",
    "        c = 1\n",
    "        while i < length(l) - 1 && n == l[i + 1] && i < length(l) - 1\n",
    "            c += 1\n",
    "            i += 1\n",
    "        end\n",
    "        push!(nl, c)\n",
    "        push!(nl, n)\n",
    "        i += 1\n",
    "    end\n",
    "    if l[end] != l[end-1]\n",
    "        push!(nl, 1)\n",
    "        push!(nl, l[end])\n",
    "    end\n",
    "    return nl\n",
    "end\n",
    "\n",
    "function look_and_say2(l)\n",
    "    nl = Int64[]\n",
    "    for g in groupby(x -> x, l)\n",
    "        push!(nl, length(g))\n",
    "        push!(nl, g[1])\n",
    "    end\n",
    "    return nl\n",
    "end\n",
    "    \n",
    "function runit(input, n_iter, ver=1)\n",
    "    las_fun = ver == 1 ? look_and_say : look_and_say2\n",
    "    l = [parse(Int, s) for s in input]\n",
    "    for i = 1:n_iter\n",
    "        l = las_fun(l)\n",
    "    end\n",
    "    return length(l)\n",
    "end"
   ]
  },
  {
   "cell_type": "code",
   "execution_count": 55,
   "metadata": {},
   "outputs": [
    {
     "name": "stdout",
     "output_type": "stream",
     "text": [
      "Part 1: 360154\n"
     ]
    }
   ],
   "source": [
    "res = runit(input, 40, 2)\n",
    "println(\"Part 1: $res\")"
   ]
  },
  {
   "cell_type": "code",
   "execution_count": 57,
   "metadata": {},
   "outputs": [
    {
     "name": "stdout",
     "output_type": "stream",
     "text": [
      "Part 2: 5103798\n"
     ]
    }
   ],
   "source": [
    "res = runit(input, 50, 2)\n",
    "println(\"Part 2: $res\")"
   ]
  },
  {
   "cell_type": "code",
   "execution_count": 58,
   "metadata": {},
   "outputs": [
    {
     "name": "stdout",
     "output_type": "stream",
     "text": [
      "  146.042 ms (433 allocations: 263.43 MiB)\n"
     ]
    },
    {
     "data": {
      "text/plain": [
       "5103798"
      ]
     },
     "execution_count": 58,
     "metadata": {},
     "output_type": "execute_result"
    }
   ],
   "source": [
    "@btime runit(input, 50, 1)"
   ]
  },
  {
   "cell_type": "code",
   "execution_count": 59,
   "metadata": {},
   "outputs": [
    {
     "name": "stdout",
     "output_type": "stream",
     "text": [
      "  945.952 ms (32868307 allocations: 2.09 GiB)\n"
     ]
    },
    {
     "data": {
      "text/plain": [
       "5103798"
      ]
     },
     "execution_count": 59,
     "metadata": {},
     "output_type": "execute_result"
    }
   ],
   "source": [
    "@btime runit(input, 50, 2)"
   ]
  },
  {
   "cell_type": "code",
   "execution_count": null,
   "metadata": {},
   "outputs": [],
   "source": []
  }
 ],
 "metadata": {
  "kernelspec": {
   "display_name": "Julia 1.8.1",
   "language": "julia",
   "name": "julia-1.8"
  },
  "language_info": {
   "file_extension": ".jl",
   "mimetype": "application/julia",
   "name": "julia",
   "version": "1.8.3"
  },
  "orig_nbformat": 4
 },
 "nbformat": 4,
 "nbformat_minor": 2
}
