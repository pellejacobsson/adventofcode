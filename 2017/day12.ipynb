{
 "cells": [
  {
   "cell_type": "code",
   "execution_count": 1,
   "metadata": {},
   "outputs": [],
   "source": [
    "from collections import defaultdict, deque"
   ]
  },
  {
   "cell_type": "code",
   "execution_count": 2,
   "metadata": {},
   "outputs": [],
   "source": [
    "def read_input(filename):\n",
    "    d = defaultdict(set)\n",
    "    with open(filename, 'r') as f:\n",
    "        for line in f.readlines():\n",
    "            prog, conn = line.split(' <-> ')\n",
    "            prog = int(prog)\n",
    "            conn = [int(s) for s in conn.strip().split(', ')]\n",
    "            d[prog] = d[prog].union(conn)\n",
    "    return d\n",
    "\n",
    "def count_groups(d, start=0):\n",
    "    q = deque()\n",
    "    q.append(start)\n",
    "    group = set()\n",
    "    group.add(start)\n",
    "    while q:\n",
    "        v = q.popleft()\n",
    "        for conn in d[v]:\n",
    "            if conn not in group:\n",
    "                group.add(conn)\n",
    "                q.append(conn)\n",
    "    return group"
   ]
  },
  {
   "cell_type": "code",
   "execution_count": 3,
   "metadata": {},
   "outputs": [],
   "source": [
    "connections = read_input('12_input.txt')"
   ]
  },
  {
   "cell_type": "code",
   "execution_count": 4,
   "metadata": {},
   "outputs": [
    {
     "name": "stdout",
     "output_type": "stream",
     "text": [
      "Part 1: 378\n",
      "Part 2: 204\n"
     ]
    }
   ],
   "source": [
    "print(f'Part 1: {len(count_groups(connections))}')\n",
    "left = set(range(2000))\n",
    "n_groups = 0\n",
    "while left:\n",
    "    g = count_groups(connections, list(left)[0])\n",
    "    n_groups += 1\n",
    "    left = left.difference(g)\n",
    "print(f'Part 2: {n_groups}')"
   ]
  }
 ],
 "metadata": {
  "kernelspec": {
   "display_name": "ds-base-311",
   "language": "python",
   "name": "python3"
  },
  "language_info": {
   "codemirror_mode": {
    "name": "ipython",
    "version": 3
   },
   "file_extension": ".py",
   "mimetype": "text/x-python",
   "name": "python",
   "nbconvert_exporter": "python",
   "pygments_lexer": "ipython3",
   "version": "3.11.3"
  },
  "orig_nbformat": 4
 },
 "nbformat": 4,
 "nbformat_minor": 2
}
