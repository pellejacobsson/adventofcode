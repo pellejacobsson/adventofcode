{
 "cells": [
  {
   "cell_type": "code",
   "execution_count": 1,
   "metadata": {},
   "outputs": [],
   "source": [
    "def read_input(filename):\n",
    "    with open(filename, 'r') as f:\n",
    "        return [int(s) for s in f.readline().split()]\n",
    "    \n",
    "def redistribute(banks):\n",
    "    ix, val = max(enumerate(banks), key=lambda x: x[1])\n",
    "    banks[ix] = 0\n",
    "    while val > 0:\n",
    "        ix += 1\n",
    "        if ix >= len(banks):\n",
    "            ix = 0\n",
    "        banks[ix] += 1\n",
    "        val -= 1\n",
    "    return banks"
   ]
  },
  {
   "cell_type": "code",
   "execution_count": 2,
   "metadata": {},
   "outputs": [],
   "source": [
    "banks = read_input('06_input.txt')"
   ]
  },
  {
   "cell_type": "code",
   "execution_count": 3,
   "metadata": {},
   "outputs": [],
   "source": [
    "bank_dict = {}\n",
    "count = 0\n",
    "while tuple(banks) not in bank_dict:\n",
    "    bank_dict[tuple(banks)] = count\n",
    "    banks = redistribute(banks)\n",
    "    count += 1"
   ]
  },
  {
   "cell_type": "code",
   "execution_count": 4,
   "metadata": {},
   "outputs": [
    {
     "name": "stdout",
     "output_type": "stream",
     "text": [
      "3156 1610\n"
     ]
    }
   ],
   "source": [
    "print(count, count - bank_dict[tuple(banks)])"
   ]
  }
 ],
 "metadata": {
  "kernelspec": {
   "display_name": "ds-base-311",
   "language": "python",
   "name": "python3"
  },
  "language_info": {
   "codemirror_mode": {
    "name": "ipython",
    "version": 3
   },
   "file_extension": ".py",
   "mimetype": "text/x-python",
   "name": "python",
   "nbconvert_exporter": "python",
   "pygments_lexer": "ipython3",
   "version": "3.11.3"
  },
  "orig_nbformat": 4
 },
 "nbformat": 4,
 "nbformat_minor": 2
}
