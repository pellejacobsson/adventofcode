{
 "cells": [
  {
   "cell_type": "code",
   "execution_count": 5,
   "metadata": {},
   "outputs": [],
   "source": [
    "def read_input(filename):\n",
    "    with open(filename) as f:\n",
    "        return [l.strip().split(' ') for l in f.readlines()]\n",
    "    \n",
    "def run_program(instructions):\n",
    "    reg = {r: 0 for r in 'abcdefgh'}\n",
    "    i = 0\n",
    "    n_mul = 0\n",
    "    instr_len = len(instructions)\n",
    "    while True:\n",
    "        if i < 0 or i >= instr_len:\n",
    "            break\n",
    "        op, x, y = instructions[i]\n",
    "        y = reg[y] if y.isalpha() else int(y)\n",
    "        jump = 1\n",
    "        match op:\n",
    "            case 'set':\n",
    "                reg[x] = y\n",
    "            case 'sub':\n",
    "                reg[x] -= y\n",
    "            case 'mul':\n",
    "                reg[x] *= y\n",
    "                n_mul += 1\n",
    "            case 'jnz':\n",
    "                x = reg[x] if x.isalpha() else int(x)\n",
    "                jump = y if x != 0 else 1\n",
    "        i += jump\n",
    "    return n_mul\n"
   ]
  },
  {
   "cell_type": "code",
   "execution_count": 6,
   "metadata": {},
   "outputs": [],
   "source": [
    "instructions = read_input('23_input.txt')"
   ]
  },
  {
   "cell_type": "code",
   "execution_count": 7,
   "metadata": {},
   "outputs": [
    {
     "data": {
      "text/plain": [
       "8281"
      ]
     },
     "execution_count": 7,
     "metadata": {},
     "output_type": "execute_result"
    }
   ],
   "source": [
    "run_program(instructions)"
   ]
  },
  {
   "cell_type": "markdown",
   "metadata": {},
   "source": [
    "## Part 2\n",
    "Equivlant code:\n",
    "```Python\n",
    "b = 109300\n",
    "c = 126300\n",
    "for bn in range(b, c + 17, 17):\n",
    "    f = 1\n",
    "    for d in range(2, bn + 1):\n",
    "        for e in range(2, bn + 1):\n",
    "            if d * e == bn:\n",
    "                f = 0\n",
    "    if f == 0:\n",
    "        h += 1\n",
    "```\n",
    "The code counts the number of non primes between b and c in steps of 17."
   ]
  },
  {
   "cell_type": "code",
   "execution_count": 23,
   "metadata": {},
   "outputs": [],
   "source": [
    "def is_prime(n):\n",
    "    if n == 1:\n",
    "        return False\n",
    "    if n == 2:\n",
    "        return False\n",
    "    if n % 2 == 0:\n",
    "        return False\n",
    "    for d in range(3, int(n**0.5) + 2):\n",
    "        if n % d == 0:\n",
    "            return False\n",
    "    return True"
   ]
  },
  {
   "cell_type": "code",
   "execution_count": 30,
   "metadata": {},
   "outputs": [
    {
     "data": {
      "text/plain": [
       "911"
      ]
     },
     "execution_count": 30,
     "metadata": {},
     "output_type": "execute_result"
    }
   ],
   "source": [
    "sum([not is_prime(n) for n in range(b, c + 17, 17)])"
   ]
  }
 ],
 "metadata": {
  "kernelspec": {
   "display_name": "ds-base-311",
   "language": "python",
   "name": "python3"
  },
  "language_info": {
   "codemirror_mode": {
    "name": "ipython",
    "version": 3
   },
   "file_extension": ".py",
   "mimetype": "text/x-python",
   "name": "python",
   "nbconvert_exporter": "python",
   "pygments_lexer": "ipython3",
   "version": "3.11.3"
  },
  "orig_nbformat": 4
 },
 "nbformat": 4,
 "nbformat_minor": 2
}
