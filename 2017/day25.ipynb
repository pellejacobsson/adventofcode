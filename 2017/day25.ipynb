{
 "cells": [
  {
   "cell_type": "code",
   "execution_count": 4,
   "metadata": {},
   "outputs": [],
   "source": [
    "class Turing:\n",
    "    def __init__(self, start_state='A'):\n",
    "        self.state = start_state\n",
    "        self.i = 0\n",
    "        self.tape = {}\n",
    "        self.state_map = {\n",
    "            ('A', 0): [1, 1, 'B'],\n",
    "            ('A', 1): [0, -1, 'C'],\n",
    "            ('B', 0): [1, -1, 'A'],\n",
    "            ('B', 1): [1, 1, 'D'],\n",
    "            ('C', 0): [1, 1, 'A'],\n",
    "            ('C', 1): [0, -1, 'E'],\n",
    "            ('D', 0): [1, 1, 'A'],\n",
    "            ('D', 1): [0, 1, 'B'],\n",
    "            ('E', 0): [1, -1, 'F'],\n",
    "            ('E', 1): [1, -1, 'C'],\n",
    "            ('F', 0): [1, 1, 'D'],\n",
    "            ('F', 1): [1, 1, 'A']\n",
    "        }\n",
    "\n",
    "    def move(self):\n",
    "        val, di, state = self.state_map[self.state, self.tape.get(self.i, 0)]\n",
    "        self.tape[self.i] = val\n",
    "        self.i += di\n",
    "        self.state = state"
   ]
  },
  {
   "cell_type": "code",
   "execution_count": 9,
   "metadata": {},
   "outputs": [],
   "source": [
    "turing_machine = Turing()\n",
    "n_steps = 12173597"
   ]
  },
  {
   "cell_type": "code",
   "execution_count": 10,
   "metadata": {},
   "outputs": [],
   "source": [
    "for _ in range(n_steps):\n",
    "    turing_machine.move()"
   ]
  },
  {
   "cell_type": "code",
   "execution_count": 14,
   "metadata": {},
   "outputs": [
    {
     "data": {
      "text/plain": [
       "2870"
      ]
     },
     "execution_count": 14,
     "metadata": {},
     "output_type": "execute_result"
    }
   ],
   "source": [
    "sum(turing_machine.tape.values())"
   ]
  }
 ],
 "metadata": {
  "kernelspec": {
   "display_name": "ds-base-311",
   "language": "python",
   "name": "python3"
  },
  "language_info": {
   "codemirror_mode": {
    "name": "ipython",
    "version": 3
   },
   "file_extension": ".py",
   "mimetype": "text/x-python",
   "name": "python",
   "nbconvert_exporter": "python",
   "pygments_lexer": "ipython3",
   "version": "3.11.3"
  },
  "orig_nbformat": 4
 },
 "nbformat": 4,
 "nbformat_minor": 2
}
