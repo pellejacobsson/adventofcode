{
 "cells": [
  {
   "cell_type": "code",
   "execution_count": 1,
   "metadata": {},
   "outputs": [],
   "source": [
    "def read_input(filename):\n",
    "    with open(filename) as f:\n",
    "        return [l.strip().split(' ') for l in f.readlines()]"
   ]
  },
  {
   "cell_type": "code",
   "execution_count": 2,
   "metadata": {},
   "outputs": [],
   "source": [
    "instructions = read_input('18_input.txt')"
   ]
  },
  {
   "cell_type": "code",
   "execution_count": 13,
   "metadata": {},
   "outputs": [],
   "source": [
    "def run_program(instructions):\n",
    "    i = 0\n",
    "    reg = {}\n",
    "    last_played = 0\n",
    "    while True:\n",
    "        instruction = instructions[i]\n",
    "        jump = 1\n",
    "        op, *p = instruction\n",
    "        x = p[0]\n",
    "        if op in ['rcv', 'jgz']:\n",
    "            x = reg.get(x, 0) if x.isalpha() else int(x)\n",
    "        if len(p) == 2:\n",
    "            y = p[1]\n",
    "            y = reg.get(y, 0) if y.isalpha() else int(y)\n",
    "        match op:\n",
    "            case 'snd':\n",
    "                last_played = reg.get(x, 0)\n",
    "            case 'rcv':\n",
    "                if x != 0:\n",
    "                    print(f'Last played: {last_played}')\n",
    "                    return last_played\n",
    "            case 'set':\n",
    "                reg[x] = y\n",
    "            case 'add':\n",
    "                reg[x] = reg.get(x, 0) + y\n",
    "            case 'mul':\n",
    "                reg[x] = reg.get(x, 0) * y\n",
    "            case 'mod':\n",
    "                reg[x] = reg.get(x, 0) % y\n",
    "            case 'jgz':\n",
    "                jump = y if x > 0 else 1\n",
    "        i += jump\n",
    "        if i < 0 or i >= len(instructions):\n",
    "            print('Outside bounds!')\n",
    "            return None"
   ]
  },
  {
   "cell_type": "code",
   "execution_count": 14,
   "metadata": {},
   "outputs": [
    {
     "name": "stdout",
     "output_type": "stream",
     "text": [
      "Last played: 2951\n"
     ]
    },
    {
     "data": {
      "text/plain": [
       "2951"
      ]
     },
     "execution_count": 14,
     "metadata": {},
     "output_type": "execute_result"
    }
   ],
   "source": [
    "run_program(instructions)"
   ]
  },
  {
   "cell_type": "code",
   "execution_count": 15,
   "metadata": {},
   "outputs": [],
   "source": [
    "from collections import deque"
   ]
  },
  {
   "cell_type": "code",
   "execution_count": 28,
   "metadata": {},
   "outputs": [],
   "source": [
    "def run_to_halt(instructions, reg, i, rcv_queue):\n",
    "    snd_queue = deque([])\n",
    "    while True:\n",
    "        instruction = instructions[i]\n",
    "        jump = 1\n",
    "        op, *p = instruction\n",
    "        x = p[0]\n",
    "        if len(p) == 2:\n",
    "            y = p[1]\n",
    "            y = reg.get(y, 0) if y.isalpha() else int(y)\n",
    "        match op:\n",
    "            case 'snd':\n",
    "                x = reg.get(x, 0) if x.isalpha() else int(x)\n",
    "                snd_queue.append(x)\n",
    "            case 'rcv':\n",
    "                if rcv_queue:\n",
    "                    reg[x] = rcv_queue.popleft()\n",
    "                else:\n",
    "                    return i, reg, snd_queue\n",
    "            case 'set':\n",
    "                reg[x] = y\n",
    "            case 'add':\n",
    "                reg[x] = reg.get(x, 0) + y\n",
    "            case 'mul':\n",
    "                reg[x] = reg.get(x, 0) * y\n",
    "            case 'mod':\n",
    "                reg[x] = reg.get(x, 0) % y\n",
    "            case 'jgz':\n",
    "                x = reg.get(x, 0) if x.isalpha() else int(x)\n",
    "                jump = y if x > 0 else 1\n",
    "        i += jump\n",
    "        if i < 0 or i >= len(instructions):\n",
    "            print('Outside bounds!')\n",
    "            return None"
   ]
  },
  {
   "cell_type": "code",
   "execution_count": 35,
   "metadata": {},
   "outputs": [],
   "source": [
    "reg0 = {'p': 0}\n",
    "reg1 = {'p': 1}\n",
    "i0 = 0\n",
    "i1 = 0\n",
    "rcv_queue0 = deque([])\n",
    "rcv_queue1 = deque([])\n",
    "n_sent = 0\n",
    "while True:\n",
    "    res0 = run_to_halt(instructions, reg0, i0, rcv_queue0)\n",
    "    if res0 is not None:\n",
    "        i0, reg0, rcv_queue1 = res0\n",
    "    res1 = run_to_halt(instructions, reg1, i1, rcv_queue1)\n",
    "    if res1 is not None:\n",
    "        i1, reg1, rcv_queue0 = res1\n",
    "        n_sent += len(rcv_queue0)\n",
    "    if (res0 is None or len(rcv_queue1) == 0) and (res1 is None or len(rcv_queue0) == 0):\n",
    "        break"
   ]
  },
  {
   "cell_type": "code",
   "execution_count": 36,
   "metadata": {},
   "outputs": [
    {
     "data": {
      "text/plain": [
       "7366"
      ]
     },
     "execution_count": 36,
     "metadata": {},
     "output_type": "execute_result"
    }
   ],
   "source": [
    "n_sent"
   ]
  }
 ],
 "metadata": {
  "kernelspec": {
   "display_name": "ds-base-311",
   "language": "python",
   "name": "python3"
  },
  "language_info": {
   "codemirror_mode": {
    "name": "ipython",
    "version": 3
   },
   "file_extension": ".py",
   "mimetype": "text/x-python",
   "name": "python",
   "nbconvert_exporter": "python",
   "pygments_lexer": "ipython3",
   "version": "3.11.3"
  },
  "orig_nbformat": 4
 },
 "nbformat": 4,
 "nbformat_minor": 2
}
