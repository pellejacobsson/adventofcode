{
 "cells": [
  {
   "cell_type": "code",
   "execution_count": 8,
   "metadata": {},
   "outputs": [],
   "source": [
    "from collections import Counter"
   ]
  },
  {
   "cell_type": "code",
   "execution_count": 5,
   "metadata": {},
   "outputs": [],
   "source": [
    "def read_input(filename):\n",
    "    with open(filename, 'r') as f:\n",
    "        return f.readline().strip().split(',')"
   ]
  },
  {
   "cell_type": "code",
   "execution_count": 6,
   "metadata": {},
   "outputs": [],
   "source": [
    "moves = read_input('11_input.txt')"
   ]
  },
  {
   "cell_type": "code",
   "execution_count": 16,
   "metadata": {},
   "outputs": [
    {
     "name": "stdout",
     "output_type": "stream",
     "text": [
      "Part 1: 707\n"
     ]
    }
   ],
   "source": [
    "n_moves = Counter(moves)\n",
    "q, r, s = 0, 0, 0\n",
    "q = n_moves['ne'] + n_moves['se'] - n_moves['sw'] - n_moves['nw']\n",
    "r = n_moves['s'] + n_moves['sw'] - n_moves['n'] - n_moves['ne']\n",
    "s = n_moves['n'] + n_moves['nw'] - n_moves['s'] - n_moves['se']\n",
    "dist = (abs(q) + abs(r) + abs(s)) / 2\n",
    "print(f'Part 1: {int(dist)}')"
   ]
  },
  {
   "cell_type": "code",
   "execution_count": 18,
   "metadata": {},
   "outputs": [
    {
     "name": "stdout",
     "output_type": "stream",
     "text": [
      "Part 2: 1490\n"
     ]
    }
   ],
   "source": [
    "q, r, s = 0, 0, 0\n",
    "max_dist = 0\n",
    "for move in moves:\n",
    "    match move:\n",
    "        case 'n':\n",
    "            s += 1\n",
    "            r -= 1\n",
    "        case 'ne':\n",
    "            q += 1\n",
    "            r -= 1\n",
    "        case 'se':\n",
    "            q += 1\n",
    "            s -= 1\n",
    "        case 's':\n",
    "            r += 1\n",
    "            s -= 1\n",
    "        case 'sw':\n",
    "            r += 1\n",
    "            q -= 1\n",
    "        case 'nw':\n",
    "            s += 1\n",
    "            q -= 1\n",
    "    dist = (abs(q) + abs(r) + abs(s)) / 2\n",
    "    if dist > max_dist:\n",
    "        max_dist = dist\n",
    "print(f'Part 2: {int(max_dist)}')"
   ]
  }
 ],
 "metadata": {
  "kernelspec": {
   "display_name": "ds-base-311",
   "language": "python",
   "name": "python3"
  },
  "language_info": {
   "codemirror_mode": {
    "name": "ipython",
    "version": 3
   },
   "file_extension": ".py",
   "mimetype": "text/x-python",
   "name": "python",
   "nbconvert_exporter": "python",
   "pygments_lexer": "ipython3",
   "version": "3.11.3"
  },
  "orig_nbformat": 4
 },
 "nbformat": 4,
 "nbformat_minor": 2
}
