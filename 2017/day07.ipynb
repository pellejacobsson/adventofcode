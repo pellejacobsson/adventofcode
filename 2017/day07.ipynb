{
 "cells": [
  {
   "cell_type": "code",
   "execution_count": 1,
   "metadata": {},
   "outputs": [],
   "source": [
    "import re"
   ]
  },
  {
   "cell_type": "code",
   "execution_count": 46,
   "metadata": {},
   "outputs": [],
   "source": [
    "def read_input(filename):\n",
    "    weights = {}\n",
    "    programs = {}\n",
    "    pattern = re.compile(r'(\\w+) \\((\\d+)\\)(?: -> (.*))?')\n",
    "    with open(filename, 'r') as f:\n",
    "        for line in f.readlines():\n",
    "            name, weight, rest = pattern.match(line).groups()\n",
    "            weights[name] = int(weight)\n",
    "            if rest:\n",
    "                programs[name] = rest.split(', ')\n",
    "    return weights, programs\n",
    "\n",
    "def get_sub_weight(programs, weights, base):\n",
    "    weight = weights[base]\n",
    "    if base not in programs:\n",
    "        return weight\n",
    "    else:\n",
    "        for sub_program in programs[base]:\n",
    "            weight += get_sub_weight(programs, weights, sub_program)\n",
    "        return weight"
   ]
  },
  {
   "cell_type": "code",
   "execution_count": 43,
   "metadata": {},
   "outputs": [],
   "source": [
    "weights, programs = read_input('07_input.txt')"
   ]
  },
  {
   "cell_type": "code",
   "execution_count": 44,
   "metadata": {},
   "outputs": [],
   "source": [
    "subset = set()\n",
    "for _, subs in programs.items():\n",
    "    for sub in subs:\n",
    "        subset.add(sub)"
   ]
  },
  {
   "cell_type": "code",
   "execution_count": 45,
   "metadata": {},
   "outputs": [
    {
     "name": "stdout",
     "output_type": "stream",
     "text": [
      "mwzaxaj\n"
     ]
    }
   ],
   "source": [
    "for base in programs:\n",
    "    if base not in subset:\n",
    "        print(base)"
   ]
  },
  {
   "cell_type": "code",
   "execution_count": 71,
   "metadata": {},
   "outputs": [
    {
     "name": "stdout",
     "output_type": "stream",
     "text": [
      "csybv: 67398\n",
      "febjzqn: 67398\n",
      "bltmlm: 67398\n",
      "dfyyjta: 67398\n",
      "ljaktj: 67405\n",
      "vmyda: 67398\n",
      "vbcfe: 67398\n",
      "\n",
      "seeqikh: 15153\n",
      "mqrfbqc: 15153\n",
      "ihnus: 15160\n",
      "\n",
      "vrgxe: 2166\n",
      "shnqfh: 2159\n",
      "auzded: 2159\n",
      "hkhsc: 2159\n",
      "jwddn: 2159\n",
      "mcxki: 2159\n",
      "lhwyt: 2159\n",
      "\n",
      "zbfyg: 235\n",
      "rocbcw: 235\n",
      "zouml: 235\n",
      "wbibf: 235\n"
     ]
    }
   ],
   "source": [
    "for sub_program in programs['mwzaxaj']:\n",
    "    print(f'{sub_program}: {get_sub_weight(programs, weights, sub_program)}')\n",
    "\n",
    "print()\n",
    "\n",
    "for sub_program in programs['ljaktj']:\n",
    "    print(f'{sub_program}: {get_sub_weight(programs, weights, sub_program)}')\n",
    "\n",
    "print()\n",
    "\n",
    "for sub_program in programs['ihnus']:\n",
    "    print(f'{sub_program}: {get_sub_weight(programs, weights, sub_program)}')\n",
    "\n",
    "print()\n",
    "\n",
    "for sub_program in programs['vrgxe']:\n",
    "    print(f'{sub_program}: {get_sub_weight(programs, weights, sub_program)}')"
   ]
  },
  {
   "cell_type": "code",
   "execution_count": 72,
   "metadata": {},
   "outputs": [
    {
     "data": {
      "text/plain": [
       "1219"
      ]
     },
     "execution_count": 72,
     "metadata": {},
     "output_type": "execute_result"
    }
   ],
   "source": [
    "weights['vrgxe'] - 7"
   ]
  }
 ],
 "metadata": {
  "kernelspec": {
   "display_name": "ds-base-311",
   "language": "python",
   "name": "python3"
  },
  "language_info": {
   "codemirror_mode": {
    "name": "ipython",
    "version": 3
   },
   "file_extension": ".py",
   "mimetype": "text/x-python",
   "name": "python",
   "nbconvert_exporter": "python",
   "pygments_lexer": "ipython3",
   "version": "3.11.3"
  },
  "orig_nbformat": 4
 },
 "nbformat": 4,
 "nbformat_minor": 2
}
