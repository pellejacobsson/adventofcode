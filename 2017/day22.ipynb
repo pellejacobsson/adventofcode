{
 "cells": [
  {
   "cell_type": "code",
   "execution_count": 69,
   "metadata": {},
   "outputs": [],
   "source": [
    "def read_input(filename):\n",
    "    with open(filename, 'r') as f:\n",
    "        v_map = {(i, j) for i, line in enumerate(f.readlines()) for j, v in enumerate(line) if v == '#' }\n",
    "    return v_map\n",
    "\n",
    "def burst(v_map, i, j, dir, n_infect):\n",
    "    turn_right = {'u': 'r', 'r': 'd', 'd': 'l', 'l': 'u'}\n",
    "    turn_left = {'u': 'l', 'l': 'd', 'd': 'r', 'r': 'u'}\n",
    "    dij = {'u': (-1, 0), 'r': (0, 1), 'd': (1, 0), 'l': (0, -1)}\n",
    "    if (i, j) in v_map:\n",
    "        dir = turn_right[dir]\n",
    "        v_map.remove((i, j))\n",
    "    else:\n",
    "        dir = turn_left[dir]\n",
    "        v_map.add((i, j))\n",
    "        n_infect += 1\n",
    "    i += dij[dir][0]\n",
    "    j += dij[dir][1]\n",
    "    return v_map, i, j, dir, n_infect\n",
    "\n",
    "def burst2(v_map, i, j, dir, n_infect):\n",
    "    turn_right = {'u': 'r', 'r': 'd', 'd': 'l', 'l': 'u'}\n",
    "    turn_left = {'u': 'l', 'l': 'd', 'd': 'r', 'r': 'u'}\n",
    "    turn_rev = {'u': 'd', 'r': 'l', 'd': 'u', 'l': 'r'}\n",
    "    dij = {'u': (-1, 0), 'r': (0, 1), 'd': (1, 0), 'l': (0, -1)}\n",
    "    match v_map.get((i, j), 'c'):\n",
    "        case 'c':\n",
    "            dir = turn_left[dir]\n",
    "            v_map[i, j] = 'w'\n",
    "        case 'w':\n",
    "            v_map[i, j] = 'i'\n",
    "            n_infect += 1\n",
    "        case 'i':\n",
    "            dir = turn_right[dir]\n",
    "            v_map[i, j] = 'f'\n",
    "        case 'f':\n",
    "            dir = turn_rev[dir]\n",
    "            del v_map[i, j]\n",
    "    i += dij[dir][0]\n",
    "    j += dij[dir][1]\n",
    "    return v_map, i, j, dir, n_infect"
   ]
  },
  {
   "cell_type": "code",
   "execution_count": 58,
   "metadata": {},
   "outputs": [],
   "source": [
    "v_map = read_input('22_input.txt')\n",
    "i = max(v_map, key=lambda x: x[0])[0] // 2\n",
    "j = max(v_map, key=lambda x: x[1])[1] // 2\n",
    "dir = 'u'\n",
    "n_infect = 0\n",
    "for n in range(10000):\n",
    "    v_map, i, j, dir, n_infect = burst(v_map, i, j, dir, n_infect)"
   ]
  },
  {
   "cell_type": "code",
   "execution_count": 60,
   "metadata": {},
   "outputs": [
    {
     "data": {
      "text/plain": [
       "5462"
      ]
     },
     "execution_count": 60,
     "metadata": {},
     "output_type": "execute_result"
    }
   ],
   "source": [
    "n_infect"
   ]
  },
  {
   "cell_type": "code",
   "execution_count": 78,
   "metadata": {},
   "outputs": [],
   "source": [
    "v_map = read_input('22_input.txt')\n",
    "v_map = {(i, j): 'i' for (i, j) in v_map}\n",
    "i = max(v_map, key=lambda x: x[0])[0] // 2\n",
    "j = max(v_map, key=lambda x: x[1])[1] // 2\n",
    "dir = 'u'\n",
    "n_infect = 0\n",
    "for n in range(10000000):\n",
    "    v_map, i, j, dir, n_infect = burst2(v_map, i, j, dir, n_infect)"
   ]
  },
  {
   "cell_type": "code",
   "execution_count": 79,
   "metadata": {},
   "outputs": [
    {
     "data": {
      "text/plain": [
       "2512135"
      ]
     },
     "execution_count": 79,
     "metadata": {},
     "output_type": "execute_result"
    }
   ],
   "source": [
    "n_infect"
   ]
  }
 ],
 "metadata": {
  "kernelspec": {
   "display_name": "ds-base-311",
   "language": "python",
   "name": "python3"
  },
  "language_info": {
   "codemirror_mode": {
    "name": "ipython",
    "version": 3
   },
   "file_extension": ".py",
   "mimetype": "text/x-python",
   "name": "python",
   "nbconvert_exporter": "python",
   "pygments_lexer": "ipython3",
   "version": "3.11.3"
  },
  "orig_nbformat": 4
 },
 "nbformat": 4,
 "nbformat_minor": 2
}
