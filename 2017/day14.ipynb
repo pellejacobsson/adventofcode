{
 "cells": [
  {
   "cell_type": "code",
   "execution_count": 1,
   "metadata": {},
   "outputs": [],
   "source": [
    "from collections import deque\n",
    "from functools import reduce\n",
    "from operator import xor"
   ]
  },
  {
   "cell_type": "code",
   "execution_count": 2,
   "metadata": {},
   "outputs": [],
   "source": [
    "def knot(l, lengths, i, skip):\n",
    "    n = len(l)\n",
    "    d = deque(l)\n",
    "    for length in lengths:\n",
    "        d.rotate(-i)\n",
    "        l = list(d)\n",
    "        l[:length] = reversed(l[:length])\n",
    "        d = deque(l)\n",
    "        d.rotate(i)\n",
    "        i = (i + length + skip) % n\n",
    "        skip += 1\n",
    "    return i, skip, list(d)\n",
    "\n",
    "def get_ascii(input):\n",
    "    output = [ord(s) for s in str(input)]\n",
    "    output += [17, 31, 73, 47, 23]\n",
    "    return output\n",
    "\n",
    "def get_sparse_hash(l, lengths):\n",
    "    i = 0\n",
    "    skip = 0\n",
    "    for _ in range(64):\n",
    "        i, skip, l = knot(l, lengths, i, skip)\n",
    "    return l\n",
    "\n",
    "def get_dense_hash(sparse_hash):\n",
    "    dense_hash = []\n",
    "    for i in range(0, len(sparse_hash), 16):\n",
    "        block = sparse_hash[i:i + 16]\n",
    "        dense_hash.append(reduce(xor, block))\n",
    "    return dense_hash\n",
    "\n",
    "def get_binary_hash(knot_hash):\n",
    "    return ''.join([f\"{int(x, 16):04b}\" for x in knot_hash])\n",
    "\n",
    "def get_disk(key):\n",
    "    disk = []\n",
    "    for i in range(128):\n",
    "        l = list(range(256))\n",
    "        lengths = get_ascii(key + '-' + str(i))\n",
    "        sparse_hash = get_sparse_hash(l, lengths)\n",
    "        dense_hash = get_dense_hash(sparse_hash)\n",
    "        knot_hash = ''.join([f'{x:02x}' for x in dense_hash])\n",
    "        bin_hash = get_binary_hash(knot_hash)\n",
    "        disk.append([int(x) for x in bin_hash])\n",
    "    return disk\n"
   ]
  },
  {
   "cell_type": "code",
   "execution_count": 3,
   "metadata": {},
   "outputs": [],
   "source": [
    "key = 'stpzcrnm'\n",
    "disk = get_disk(key)"
   ]
  },
  {
   "cell_type": "code",
   "execution_count": 4,
   "metadata": {},
   "outputs": [
    {
     "data": {
      "text/plain": [
       "8250"
      ]
     },
     "execution_count": 4,
     "metadata": {},
     "output_type": "execute_result"
    }
   ],
   "source": [
    "sum(sum(x) for x in disk)"
   ]
  },
  {
   "cell_type": "code",
   "execution_count": 5,
   "metadata": {},
   "outputs": [],
   "source": [
    "def find_regions(disk):\n",
    "    region = {}\n",
    "    new_reg = 1\n",
    "    for i in range(128):\n",
    "        for j in range(128):\n",
    "            if disk[i][j] == 1 and (i, j) not in region:\n",
    "                region[i, j] = new_reg\n",
    "                q = deque([(i, j)])\n",
    "                while q:\n",
    "                    vi, vj = q.popleft()\n",
    "                    if disk[vi][vj] == 0:\n",
    "                        continue\n",
    "                    for (di, dj) in [(-1, 0), (1, 0), (0, -1), (0, 1)]:\n",
    "                        ni, nj = vi + di, vj + dj\n",
    "                        if ni >= 0 and ni < 128 and nj >= 0 and nj < 128 and disk[ni][nj] == 1:\n",
    "                            if (ni, nj) not in region:\n",
    "                                region[ni, nj] = new_reg\n",
    "                                q.append((ni, nj))\n",
    "                new_reg += 1\n",
    "    return region\n"
   ]
  },
  {
   "cell_type": "code",
   "execution_count": 6,
   "metadata": {},
   "outputs": [],
   "source": [
    "regions = find_regions(disk)"
   ]
  },
  {
   "cell_type": "code",
   "execution_count": 7,
   "metadata": {},
   "outputs": [
    {
     "data": {
      "text/plain": [
       "1113"
      ]
     },
     "execution_count": 7,
     "metadata": {},
     "output_type": "execute_result"
    }
   ],
   "source": [
    "max(regions.values())"
   ]
  }
 ],
 "metadata": {
  "kernelspec": {
   "display_name": "ds-base-311",
   "language": "python",
   "name": "python3"
  },
  "language_info": {
   "codemirror_mode": {
    "name": "ipython",
    "version": 3
   },
   "file_extension": ".py",
   "mimetype": "text/x-python",
   "name": "python",
   "nbconvert_exporter": "python",
   "pygments_lexer": "ipython3",
   "version": "3.11.3"
  },
  "orig_nbformat": 4
 },
 "nbformat": 4,
 "nbformat_minor": 2
}
