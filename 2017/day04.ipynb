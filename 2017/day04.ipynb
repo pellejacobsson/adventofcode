{
 "cells": [
  {
   "cell_type": "code",
   "execution_count": 4,
   "metadata": {},
   "outputs": [],
   "source": [
    "def read_input(filename):\n",
    "    with open(filename, 'r') as f:\n",
    "        phrases = [s.strip().split() for s in f.readlines()]\n",
    "    return phrases"
   ]
  },
  {
   "cell_type": "code",
   "execution_count": 5,
   "metadata": {},
   "outputs": [],
   "source": [
    "phrases = read_input('04_input.txt')"
   ]
  },
  {
   "cell_type": "code",
   "execution_count": 28,
   "metadata": {},
   "outputs": [],
   "source": [
    "def is_valid(phrase, part2=False):\n",
    "    for i in range(len(phrase)):\n",
    "        for j in range(i + 1, len(phrase)):\n",
    "            if phrase[i] == phrase[j]:\n",
    "                return False\n",
    "            if part2 and sorted(phrase[i]) == sorted(phrase[j]):\n",
    "                return False\n",
    "    return True"
   ]
  },
  {
   "cell_type": "code",
   "execution_count": 29,
   "metadata": {},
   "outputs": [
    {
     "data": {
      "text/plain": [
       "455"
      ]
     },
     "execution_count": 29,
     "metadata": {},
     "output_type": "execute_result"
    }
   ],
   "source": [
    "sum([is_valid(phrase) for phrase in phrases])"
   ]
  },
  {
   "cell_type": "code",
   "execution_count": 30,
   "metadata": {},
   "outputs": [
    {
     "data": {
      "text/plain": [
       "186"
      ]
     },
     "execution_count": 30,
     "metadata": {},
     "output_type": "execute_result"
    }
   ],
   "source": [
    "sum([is_valid(phrase, part2=True) for phrase in phrases])"
   ]
  }
 ],
 "metadata": {
  "kernelspec": {
   "display_name": "ds-base-311",
   "language": "python",
   "name": "python3"
  },
  "language_info": {
   "codemirror_mode": {
    "name": "ipython",
    "version": 3
   },
   "file_extension": ".py",
   "mimetype": "text/x-python",
   "name": "python",
   "nbconvert_exporter": "python",
   "pygments_lexer": "ipython3",
   "version": "3.11.3"
  },
  "orig_nbformat": 4
 },
 "nbformat": 4,
 "nbformat_minor": 2
}
