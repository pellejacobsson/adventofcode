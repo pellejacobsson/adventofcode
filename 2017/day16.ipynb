{
 "cells": [
  {
   "cell_type": "code",
   "execution_count": 84,
   "metadata": {},
   "outputs": [],
   "source": [
    "def read_input(filename):\n",
    "    with open(filename, 'r') as f:\n",
    "         return f.readline().strip().split(',')\n",
    "    \n",
    "def dance_step(move, programs):\n",
    "    if move[0] == 's':\n",
    "        r = int(move[1:])\n",
    "        programs = programs[-r:] + programs[:-r]\n",
    "    else:\n",
    "        m = move[0]\n",
    "        p1, p2 = move[1:].split('/')\n",
    "        i1 = programs.index(p1) if m == 'p' else int(p1)\n",
    "        i2 = programs.index(p2) if m == 'p' else int(p2)\n",
    "        programs[i1], programs[i2] = programs[i2], programs[i1]\n",
    "    return programs\n",
    "\n",
    "def dance(dance_moves, programs):\n",
    "    for dance_move in dance_moves:\n",
    "        programs = dance_step(dance_move, programs)\n",
    "    return programs"
   ]
  },
  {
   "cell_type": "code",
   "execution_count": 85,
   "metadata": {},
   "outputs": [
    {
     "name": "stdout",
     "output_type": "stream",
     "text": [
      "eojfmbpkldghncia\n"
     ]
    }
   ],
   "source": [
    "dance_moves = read_input('16_input.txt')\n",
    "programs = [chr(i) for i in range(ord('a'), ord('p') + 1)]\n",
    "programs = dance(dance_moves, programs)\n",
    "print(''.join(programs))"
   ]
  },
  {
   "cell_type": "code",
   "execution_count": 164,
   "metadata": {},
   "outputs": [],
   "source": [
    "programs = [chr(i) for i in range(ord('a'), ord('p') + 1)]\n",
    "pos = [[i] for i in range(16)]\n",
    "for i in range(100):\n",
    "    programs = dance(dance_moves, programs)\n",
    "    for j in range(16):\n",
    "        c = chr(ord('a') + j)\n",
    "        pos[j].append(programs.index(c))"
   ]
  },
  {
   "cell_type": "code",
   "execution_count": 165,
   "metadata": {},
   "outputs": [],
   "source": [
    "s_all = set([i for i, x in enumerate(pos[0]) if x == 0])\n",
    "for j, p in enumerate(pos):\n",
    "    s_all = s_all.intersection([i for i, x in enumerate(p) if x == j])"
   ]
  },
  {
   "cell_type": "code",
   "execution_count": 166,
   "metadata": {},
   "outputs": [
    {
     "data": {
      "text/plain": [
       "{0, 48, 96}"
      ]
     },
     "execution_count": 166,
     "metadata": {},
     "output_type": "execute_result"
    }
   ],
   "source": [
    "s_all"
   ]
  },
  {
   "cell_type": "code",
   "execution_count": 167,
   "metadata": {},
   "outputs": [
    {
     "data": {
      "text/plain": [
       "16.0"
      ]
     },
     "execution_count": 167,
     "metadata": {},
     "output_type": "execute_result"
    }
   ],
   "source": [
    "1e9 % 48"
   ]
  },
  {
   "cell_type": "code",
   "execution_count": 168,
   "metadata": {},
   "outputs": [],
   "source": [
    "programs = [chr(i) for i in range(ord('a'), ord('p') + 1)]\n",
    "for i in range(16):\n",
    "    programs = dance(dance_moves, programs)"
   ]
  },
  {
   "cell_type": "code",
   "execution_count": 169,
   "metadata": {},
   "outputs": [
    {
     "data": {
      "text/plain": [
       "'iecopnahgdflmkjb'"
      ]
     },
     "execution_count": 169,
     "metadata": {},
     "output_type": "execute_result"
    }
   ],
   "source": [
    "''.join(programs)"
   ]
  }
 ],
 "metadata": {
  "kernelspec": {
   "display_name": "ds-base-311",
   "language": "python",
   "name": "python3"
  },
  "language_info": {
   "codemirror_mode": {
    "name": "ipython",
    "version": 3
   },
   "file_extension": ".py",
   "mimetype": "text/x-python",
   "name": "python",
   "nbconvert_exporter": "python",
   "pygments_lexer": "ipython3",
   "version": "3.11.3"
  },
  "orig_nbformat": 4
 },
 "nbformat": 4,
 "nbformat_minor": 2
}
