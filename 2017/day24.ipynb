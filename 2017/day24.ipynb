{
 "cells": [
  {
   "cell_type": "code",
   "execution_count": 8,
   "metadata": {},
   "outputs": [],
   "source": [
    "from collections import deque"
   ]
  },
  {
   "cell_type": "code",
   "execution_count": 22,
   "metadata": {},
   "outputs": [],
   "source": [
    "def read_input(filename):\n",
    "    with open(filename, 'r') as f:\n",
    "        return [tuple(int(x) for x in l.strip().split('/')) for l in f.readlines()]"
   ]
  },
  {
   "cell_type": "code",
   "execution_count": 45,
   "metadata": {},
   "outputs": [],
   "source": [
    "ports = read_input('24_input.txt')"
   ]
  },
  {
   "cell_type": "code",
   "execution_count": 64,
   "metadata": {},
   "outputs": [],
   "source": [
    "def build_bridges(ports):\n",
    "    q = deque([(([], 0), ports)])\n",
    "    results = []\n",
    "    while q:\n",
    "        (path, i), rem_ports = q.popleft()\n",
    "        if not path:\n",
    "            conn = 0\n",
    "        else:\n",
    "            conn = path[-1][0] if i == 1 else path[-1][1]\n",
    "        bridge_done = True\n",
    "        for j, pos_port in enumerate(rem_ports):\n",
    "            if conn in pos_port:\n",
    "                bridge_done = False\n",
    "                new_i = 0 if pos_port[0] == conn else 1\n",
    "                new_path = path + [pos_port]\n",
    "                new_rem_ports = rem_ports[:j] + rem_ports[j+1:]\n",
    "                q.append(((new_path, new_i), new_rem_ports))\n",
    "        if bridge_done:\n",
    "            results.append(path)\n",
    "    return results"
   ]
  },
  {
   "cell_type": "code",
   "execution_count": 65,
   "metadata": {},
   "outputs": [],
   "source": [
    "bridges = build_bridges(ports)"
   ]
  },
  {
   "cell_type": "code",
   "execution_count": 66,
   "metadata": {},
   "outputs": [
    {
     "data": {
      "text/plain": [
       "1859"
      ]
     },
     "execution_count": 66,
     "metadata": {},
     "output_type": "execute_result"
    }
   ],
   "source": [
    "max([sum([sum(port) for port in bridge]) for bridge in bridges])"
   ]
  },
  {
   "cell_type": "code",
   "execution_count": 67,
   "metadata": {},
   "outputs": [],
   "source": [
    "max_len = max([len(bridge) for bridge in bridges])"
   ]
  },
  {
   "cell_type": "code",
   "execution_count": 68,
   "metadata": {},
   "outputs": [
    {
     "data": {
      "text/plain": [
       "35"
      ]
     },
     "execution_count": 68,
     "metadata": {},
     "output_type": "execute_result"
    }
   ],
   "source": [
    "max_len"
   ]
  },
  {
   "cell_type": "code",
   "execution_count": 69,
   "metadata": {},
   "outputs": [],
   "source": [
    "long_bridges = [bridge for bridge in bridges if len(bridge) == max_len]"
   ]
  },
  {
   "cell_type": "code",
   "execution_count": 70,
   "metadata": {},
   "outputs": [
    {
     "data": {
      "text/plain": [
       "1799"
      ]
     },
     "execution_count": 70,
     "metadata": {},
     "output_type": "execute_result"
    }
   ],
   "source": [
    "max([sum([sum(port) for port in bridge]) for bridge in long_bridges])"
   ]
  }
 ],
 "metadata": {
  "kernelspec": {
   "display_name": "ds-base-311",
   "language": "python",
   "name": "python3"
  },
  "language_info": {
   "codemirror_mode": {
    "name": "ipython",
    "version": 3
   },
   "file_extension": ".py",
   "mimetype": "text/x-python",
   "name": "python",
   "nbconvert_exporter": "python",
   "pygments_lexer": "ipython3",
   "version": "3.11.3"
  },
  "orig_nbformat": 4
 },
 "nbformat": 4,
 "nbformat_minor": 2
}
