{
 "cells": [
  {
   "cell_type": "code",
   "execution_count": 24,
   "metadata": {},
   "outputs": [],
   "source": [
    "def next_num(a, b):\n",
    "    a = a * 16807 % 2147483647\n",
    "    b = b * 48271 % 2147483647\n",
    "    m = bin(a).lstrip('0b')[-16:] == bin(b).lstrip('0b')[-16:]\n",
    "    return a, b, m"
   ]
  },
  {
   "cell_type": "code",
   "execution_count": 34,
   "metadata": {},
   "outputs": [],
   "source": [
    "a = 883\n",
    "b = 879\n",
    "m = False\n",
    "c = 0\n",
    "for n in range(40000000):\n",
    "    a, b, m = next_num(a, b)\n",
    "    if m:\n",
    "        c += 1"
   ]
  },
  {
   "cell_type": "code",
   "execution_count": 35,
   "metadata": {},
   "outputs": [
    {
     "data": {
      "text/plain": [
       "609"
      ]
     },
     "execution_count": 35,
     "metadata": {},
     "output_type": "execute_result"
    }
   ],
   "source": [
    "c"
   ]
  },
  {
   "cell_type": "code",
   "execution_count": 71,
   "metadata": {},
   "outputs": [],
   "source": [
    "def a_gen(n):\n",
    "    while True:\n",
    "        n = n * 16807 % 2147483647\n",
    "        if n % 4 == 0:\n",
    "            yield n\n",
    "\n",
    "def b_gen(n):\n",
    "    while True:\n",
    "        n = n * 48271 % 2147483647\n",
    "        if n % 8 == 0:\n",
    "            yield n"
   ]
  },
  {
   "cell_type": "code",
   "execution_count": 83,
   "metadata": {},
   "outputs": [],
   "source": [
    "c = 0\n",
    "ag = a_gen(883)\n",
    "bg = b_gen(879)\n",
    "for i, (a, b) in enumerate(zip(ag, bg)):\n",
    "    if a & 0xffff == b & 0xffff:\n",
    "        c += 1\n",
    "    if i >= 5000000:\n",
    "        break"
   ]
  },
  {
   "cell_type": "code",
   "execution_count": 84,
   "metadata": {},
   "outputs": [
    {
     "data": {
      "text/plain": [
       "253"
      ]
     },
     "execution_count": 84,
     "metadata": {},
     "output_type": "execute_result"
    }
   ],
   "source": [
    "c"
   ]
  }
 ],
 "metadata": {
  "kernelspec": {
   "display_name": "ds-base-311",
   "language": "python",
   "name": "python3"
  },
  "language_info": {
   "codemirror_mode": {
    "name": "ipython",
    "version": 3
   },
   "file_extension": ".py",
   "mimetype": "text/x-python",
   "name": "python",
   "nbconvert_exporter": "python",
   "pygments_lexer": "ipython3",
   "version": "3.11.3"
  },
  "orig_nbformat": 4
 },
 "nbformat": 4,
 "nbformat_minor": 2
}
