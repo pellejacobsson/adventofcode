{
 "cells": [
  {
   "cell_type": "code",
   "execution_count": 1,
   "metadata": {},
   "outputs": [],
   "source": [
    "def read_input(filename):\n",
    "    m = {}\n",
    "    with open(filename, 'r') as f:\n",
    "        for i, line in enumerate(f.readlines()):\n",
    "            for j, ch in enumerate(line):\n",
    "                if ch in ['|', '-', '+'] or ch.isalpha():\n",
    "                    m[i, j] = ch\n",
    "    return m\n",
    "\n",
    "def step(m, pos, dir, collected):\n",
    "    dij = {'u': (-1, 0), 'r': (0, 1), 'd': (1, 0), 'l': (0, -1)}\n",
    "    i = pos[0] + dij[dir][0]\n",
    "    j = pos[1] + dij[dir][1]\n",
    "    if (i, j) not in m:\n",
    "        return None\n",
    "    if m[i, j].isalpha():\n",
    "        collected.append(m[i, j])\n",
    "    if m[i, j] == '+':\n",
    "        match dir:\n",
    "            case 'u':\n",
    "                dir = 'l' if (i, j-1) in m else 'r'\n",
    "            case 'r':\n",
    "                dir = 'u' if (i - 1, j) in m else 'd'\n",
    "            case 'd':\n",
    "                dir = 'l' if (i, j - 1) in m else 'r'\n",
    "            case 'l':\n",
    "                dir = 'u' if (i - 1, j) in m else 'd'\n",
    "    return (i, j), dir"
   ]
  },
  {
   "cell_type": "code",
   "execution_count": 2,
   "metadata": {},
   "outputs": [
    {
     "name": "stdout",
     "output_type": "stream",
     "text": [
      "GINOWKYXH\n",
      "16636\n"
     ]
    }
   ],
   "source": [
    "m = read_input('19_input.txt')\n",
    "pos = (0, 191)\n",
    "dir = 'd'\n",
    "collected = []\n",
    "n_steps = 1\n",
    "while True:\n",
    "    res = step(m, pos, dir, collected)\n",
    "    if res is None:\n",
    "        break\n",
    "    n_steps += 1\n",
    "    pos, dir = res\n",
    "print(''.join(collected))\n",
    "print(n_steps)"
   ]
  }
 ],
 "metadata": {
  "kernelspec": {
   "display_name": "ds-base-311",
   "language": "python",
   "name": "python3"
  },
  "language_info": {
   "codemirror_mode": {
    "name": "ipython",
    "version": 3
   },
   "file_extension": ".py",
   "mimetype": "text/x-python",
   "name": "python",
   "nbconvert_exporter": "python",
   "pygments_lexer": "ipython3",
   "version": "3.11.3"
  },
  "orig_nbformat": 4
 },
 "nbformat": 4,
 "nbformat_minor": 2
}
