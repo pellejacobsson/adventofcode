{
 "cells": [
  {
   "cell_type": "code",
   "execution_count": 1,
   "metadata": {},
   "outputs": [],
   "source": [
    "from itertools import product"
   ]
  },
  {
   "cell_type": "code",
   "execution_count": 2,
   "metadata": {},
   "outputs": [],
   "source": [
    "def get_coords(n):\n",
    "    if n == 1:\n",
    "        return 0, 0\n",
    "    m = int(n**(0.5))\n",
    "    if m**2 == n and m % 2 != 0:\n",
    "        i = (m - 1) // 2\n",
    "        j = (m - 1) // 2\n",
    "        return i, j\n",
    "    m = m + 1 if m % 2 == 0 else m + 2\n",
    "    xy_max = m - 1\n",
    "    if m**2 - n <= m - 1:\n",
    "        x = xy_max - (m**2 - n)\n",
    "        y = 0\n",
    "    elif m**2 - n > m - 1 and m**2 - n <= 2*(m - 1):\n",
    "        x = 0\n",
    "        y = m**2 - n - (m - 1)\n",
    "    elif m**2 - n > 2*m - 2 and m**2 - n <= 3*(m - 1):\n",
    "        x = m**2 - n - 2*(m - 1)\n",
    "        y = xy_max\n",
    "    elif m**2 - n > 3*(m - 1) and m**2 - n <= 4*(m - 1):\n",
    "        x = xy_max\n",
    "        y = 4*(m - 1) - (m**2 - n)\n",
    "    i = xy_max // 2 - y\n",
    "    j = x - xy_max // 2\n",
    "    return i, j\n",
    "\n",
    "def calc_dist(n):\n",
    "    i, j = get_coords(n)\n",
    "    return abs(i) + abs(j)"
   ]
  },
  {
   "cell_type": "code",
   "execution_count": 3,
   "metadata": {},
   "outputs": [],
   "source": [
    "n_goal = 325489"
   ]
  },
  {
   "cell_type": "code",
   "execution_count": 4,
   "metadata": {},
   "outputs": [
    {
     "data": {
      "text/plain": [
       "552"
      ]
     },
     "execution_count": 4,
     "metadata": {},
     "output_type": "execute_result"
    }
   ],
   "source": [
    "calc_dist(n_goal)"
   ]
  },
  {
   "cell_type": "code",
   "execution_count": 5,
   "metadata": {},
   "outputs": [],
   "source": [
    "def sum_fill(n_goal):\n",
    "    d = {(0, 0): 1}\n",
    "    n = 2\n",
    "    while True:\n",
    "        i, j = get_coords(n)\n",
    "        s = 0\n",
    "        for di, dj in product([-1, 0, 1], repeat=2):\n",
    "            if (di, dj) == (0, 0):\n",
    "                continue\n",
    "            s += d.get((i + di, j + dj), 0)\n",
    "        d[i, j] = s\n",
    "        if s > n_goal:\n",
    "            return s\n",
    "        n += 1"
   ]
  },
  {
   "cell_type": "code",
   "execution_count": 6,
   "metadata": {},
   "outputs": [
    {
     "data": {
      "text/plain": [
       "330785"
      ]
     },
     "execution_count": 6,
     "metadata": {},
     "output_type": "execute_result"
    }
   ],
   "source": [
    "sum_fill(n_goal)"
   ]
  }
 ],
 "metadata": {
  "kernelspec": {
   "display_name": "ds-base-311",
   "language": "python",
   "name": "python3"
  },
  "language_info": {
   "codemirror_mode": {
    "name": "ipython",
    "version": 3
   },
   "file_extension": ".py",
   "mimetype": "text/x-python",
   "name": "python",
   "nbconvert_exporter": "python",
   "pygments_lexer": "ipython3",
   "version": "3.11.3"
  },
  "orig_nbformat": 4
 },
 "nbformat": 4,
 "nbformat_minor": 2
}
