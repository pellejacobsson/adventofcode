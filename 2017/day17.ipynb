{
 "cells": [
  {
   "cell_type": "code",
   "execution_count": 1,
   "metadata": {},
   "outputs": [
    {
     "name": "stdout",
     "output_type": "stream",
     "text": [
      "866\n"
     ]
    }
   ],
   "source": [
    "step_size = 345\n",
    "buf = [0]\n",
    "i = 0\n",
    "for n in range(1, 2018):\n",
    "    i = (i + step_size) % n + 1\n",
    "    buf.insert(i, n)\n",
    "print(buf[buf.index(2017) + 1])"
   ]
  },
  {
   "cell_type": "code",
   "execution_count": 2,
   "metadata": {},
   "outputs": [
    {
     "name": "stdout",
     "output_type": "stream",
     "text": [
      "11995607\n"
     ]
    }
   ],
   "source": [
    "i = 0\n",
    "val1 = 0\n",
    "for n in range(1, 50000001):\n",
    "    i = (i + step_size) % n + 1\n",
    "    if i == 1:\n",
    "        val1 = n\n",
    "print(val1)"
   ]
  }
 ],
 "metadata": {
  "kernelspec": {
   "display_name": "ds-base-311",
   "language": "python",
   "name": "python3"
  },
  "language_info": {
   "codemirror_mode": {
    "name": "ipython",
    "version": 3
   },
   "file_extension": ".py",
   "mimetype": "text/x-python",
   "name": "python",
   "nbconvert_exporter": "python",
   "pygments_lexer": "ipython3",
   "version": "3.11.3"
  },
  "orig_nbformat": 4
 },
 "nbformat": 4,
 "nbformat_minor": 2
}
