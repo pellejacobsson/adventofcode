{
 "cells": [
  {
   "cell_type": "code",
   "execution_count": 12,
   "metadata": {},
   "outputs": [],
   "source": [
    "from collections import deque"
   ]
  },
  {
   "cell_type": "code",
   "execution_count": 29,
   "metadata": {},
   "outputs": [],
   "source": [
    "def read_input(filename):\n",
    "    with open(filename, 'r') as f:\n",
    "        return [int(s) for s in f.readline().strip()]\n",
    "    \n",
    "def runit(filename, part2=False):\n",
    "    captcha1 = deque(read_input(filename))\n",
    "    captcha2 = captcha1.copy()\n",
    "    rot = len(captcha2) // 2 if part2 else 1\n",
    "    captcha2.rotate(rot)\n",
    "    s = 0\n",
    "    for m, n in zip(captcha1, captcha2):\n",
    "        if m == n:\n",
    "            s += m\n",
    "    return s"
   ]
  },
  {
   "cell_type": "code",
   "execution_count": 33,
   "metadata": {},
   "outputs": [
    {
     "name": "stdout",
     "output_type": "stream",
     "text": [
      "Part 1: 997\n",
      "Part 2: 1358\n"
     ]
    }
   ],
   "source": [
    "print(f\"Part 1: {runit('01_input.txt')}\")\n",
    "print(f\"Part 2: {runit('01_input.txt', part2=True)}\")"
   ]
  }
 ],
 "metadata": {
  "kernelspec": {
   "display_name": "ds-base-311",
   "language": "python",
   "name": "python3"
  },
  "language_info": {
   "codemirror_mode": {
    "name": "ipython",
    "version": 3
   },
   "file_extension": ".py",
   "mimetype": "text/x-python",
   "name": "python",
   "nbconvert_exporter": "python",
   "pygments_lexer": "ipython3",
   "version": "3.11.3"
  },
  "orig_nbformat": 4
 },
 "nbformat": 4,
 "nbformat_minor": 2
}
