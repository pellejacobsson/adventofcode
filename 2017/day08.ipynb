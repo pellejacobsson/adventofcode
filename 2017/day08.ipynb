{
 "cells": [
  {
   "cell_type": "code",
   "execution_count": 1,
   "metadata": {},
   "outputs": [],
   "source": [
    "def read_input(filename):\n",
    "    instructions = []\n",
    "    with open(filename, 'r') as f:\n",
    "        instructions = [line.strip().split() for line in f.readlines()]\n",
    "    register = {instruction[n]: 0 for instruction in instructions for n in [0, 4]}\n",
    "    return instructions, register"
   ]
  },
  {
   "cell_type": "code",
   "execution_count": 3,
   "metadata": {},
   "outputs": [
    {
     "name": "stdout",
     "output_type": "stream",
     "text": [
      "4832\n",
      "5443\n"
     ]
    }
   ],
   "source": [
    "instructions, register = read_input('08_input.txt')\n",
    "max_val = 0\n",
    "for instruction in instructions:\n",
    "    reg, fun, val, _, e_reg, cond1, cond2 = instruction\n",
    "    val = int(val)\n",
    "    expr = f\"register['{e_reg}'] {cond1} {cond2}\"\n",
    "    if eval(expr):\n",
    "        register[reg] += val if fun == 'inc' else -val\n",
    "    current_max_val = max(register.values())\n",
    "    if current_max_val > max_val:\n",
    "        max_val = current_max_val\n",
    "print(max(register.values()))\n",
    "print(max_val)"
   ]
  }
 ],
 "metadata": {
  "kernelspec": {
   "display_name": "ds-base-311",
   "language": "python",
   "name": "python3"
  },
  "language_info": {
   "codemirror_mode": {
    "name": "ipython",
    "version": 3
   },
   "file_extension": ".py",
   "mimetype": "text/x-python",
   "name": "python",
   "nbconvert_exporter": "python",
   "pygments_lexer": "ipython3",
   "version": "3.11.3"
  },
  "orig_nbformat": 4
 },
 "nbformat": 4,
 "nbformat_minor": 2
}
