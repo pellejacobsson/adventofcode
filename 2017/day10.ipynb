{
 "cells": [
  {
   "cell_type": "code",
   "execution_count": 1,
   "metadata": {},
   "outputs": [],
   "source": [
    "from collections import deque\n",
    "from functools import reduce\n",
    "from operator import xor"
   ]
  },
  {
   "cell_type": "code",
   "execution_count": 2,
   "metadata": {},
   "outputs": [],
   "source": [
    "def knot(l, lengths, i, skip):\n",
    "    n = len(l)\n",
    "    d = deque(l)\n",
    "    for length in lengths:\n",
    "        d.rotate(-i)\n",
    "        l = list(d)\n",
    "        l[:length] = reversed(l[:length])\n",
    "        d = deque(l)\n",
    "        d.rotate(i)\n",
    "        i = (i + length + skip) % n\n",
    "        skip += 1\n",
    "    return i, skip, list(d)\n",
    "\n",
    "def get_ascii(input):\n",
    "    output = [ord(s) for s in str(input)]\n",
    "    output += [17, 31, 73, 47, 23]\n",
    "    return output\n",
    "\n",
    "def get_sparse_hash(l, lengths):\n",
    "    i = 0\n",
    "    skip = 0\n",
    "    for _ in range(64):\n",
    "        i, skip, l = knot(l, lengths, i, skip)\n",
    "    return l\n",
    "\n",
    "def get_dense_hash(sparse_hash):\n",
    "    dense_hash = []\n",
    "    for i in range(0, len(sparse_hash), 16):\n",
    "        block = sparse_hash[i:i + 16]\n",
    "        dense_hash.append(reduce(xor, block))\n",
    "    return dense_hash"
   ]
  },
  {
   "cell_type": "code",
   "execution_count": 3,
   "metadata": {},
   "outputs": [
    {
     "name": "stdout",
     "output_type": "stream",
     "text": [
      "Part 1: 54675\n"
     ]
    }
   ],
   "source": [
    "lengths = [34,88,2,222,254,93,150,0,199,255,39,32,137,136,1,167]\n",
    "l = list(range(256))\n",
    "i, skip, hash = knot(l, lengths, 0, 0)\n",
    "print(f'Part 1: {hash[0] * hash[1]}')"
   ]
  },
  {
   "cell_type": "code",
   "execution_count": 4,
   "metadata": {},
   "outputs": [
    {
     "name": "stdout",
     "output_type": "stream",
     "text": [
      "Part 2: a7af2706aa9a09cf5d848c1e6605dd2a\n"
     ]
    }
   ],
   "source": [
    "input = '34,88,2,222,254,93,150,0,199,255,39,32,137,136,1,167'\n",
    "l = list(range(256))\n",
    "lengths = get_ascii(input)\n",
    "sparse_hash = get_sparse_hash(l, lengths)\n",
    "dense_hash = get_dense_hash(sparse_hash)\n",
    "knot_hash = ''.join([f'{x:02x}' for x in dense_hash])\n",
    "print(f'Part 2: {knot_hash}')"
   ]
  }
 ],
 "metadata": {
  "kernelspec": {
   "display_name": "ds-base-311",
   "language": "python",
   "name": "python3"
  },
  "language_info": {
   "codemirror_mode": {
    "name": "ipython",
    "version": 3
   },
   "file_extension": ".py",
   "mimetype": "text/x-python",
   "name": "python",
   "nbconvert_exporter": "python",
   "pygments_lexer": "ipython3",
   "version": "3.11.3"
  },
  "orig_nbformat": 4
 },
 "nbformat": 4,
 "nbformat_minor": 2
}
