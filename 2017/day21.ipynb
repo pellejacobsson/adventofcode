{
 "cells": [
  {
   "cell_type": "code",
   "execution_count": 1,
   "metadata": {},
   "outputs": [],
   "source": [
    "import numpy as np"
   ]
  },
  {
   "cell_type": "code",
   "execution_count": 2,
   "metadata": {},
   "outputs": [],
   "source": [
    "def read_input(filename):\n",
    "    m = []\n",
    "    with open(filename, 'r') as f:\n",
    "        for l in f.readlines():\n",
    "            mm = []\n",
    "            for ll in l.strip().split(' => '):\n",
    "                mmm = []\n",
    "                for lll in ll.split('/'):\n",
    "                    mmm.append([1 if x == '#' else 0 for x in lll])\n",
    "                mm.append(np.array(mmm))\n",
    "            m.append(mm)\n",
    "    return m\n",
    "\n",
    "def add_rot_flip(m):\n",
    "    mm = [m]\n",
    "    mrf = [np.fliplr(m)]\n",
    "    for n in range(1, 4):\n",
    "        mrf.append(np.rot90(m, n))\n",
    "        mrf.append(np.rot90(np.fliplr(m), n))\n",
    "    for m_new in mrf:\n",
    "        if not np.any([np.array_equal(m_new, x) for x in mm]):\n",
    "            mm.append(m_new)\n",
    "    return mm\n",
    "\n",
    "def get_maps(m_map):\n",
    "    m_map = [[add_rot_flip(x[0]), x[1]] for x in m_map]\n",
    "    m_map_dict = {}\n",
    "    for x, y in m_map:\n",
    "        for xx in x:\n",
    "            m_map_dict[np.array_str(xx)] = y\n",
    "    return m_map_dict\n",
    "\n",
    "def grow(m, m_map):\n",
    "    m_size = m.shape[0]\n",
    "    d = 2 if m_size % 2 == 0 else 3\n",
    "    m_div = m_size // d\n",
    "    m_new = [[m_map[np.array_str(m[d*i:d*(i+1), d*j:d*(j+1)])] for j in range(m_div)] for i in range(m_div)]\n",
    "    return np.block(m_new)"
   ]
  },
  {
   "cell_type": "code",
   "execution_count": 3,
   "metadata": {},
   "outputs": [],
   "source": [
    "m_map = read_input('21_input.txt')\n",
    "m_map = get_maps(m_map)"
   ]
  },
  {
   "cell_type": "code",
   "execution_count": 6,
   "metadata": {},
   "outputs": [
    {
     "name": "stdout",
     "output_type": "stream",
     "text": [
      "Part 1: 120\n",
      "Part 2: 2204099\n"
     ]
    }
   ],
   "source": [
    "m = np.array(\n",
    "    [\n",
    "        [0, 1, 0],\n",
    "        [0, 0, 1],\n",
    "        [1, 1, 1],\n",
    "    ]\n",
    ")\n",
    "for n in range(18):\n",
    "    m = grow(m, m_map)\n",
    "    if n == 4:\n",
    "        print(f'Part 1: {np.sum(m)}')\n",
    "print(f'Part 2: {np.sum(m)}')"
   ]
  }
 ],
 "metadata": {
  "kernelspec": {
   "display_name": "ds-base-311",
   "language": "python",
   "name": "python3"
  },
  "language_info": {
   "codemirror_mode": {
    "name": "ipython",
    "version": 3
   },
   "file_extension": ".py",
   "mimetype": "text/x-python",
   "name": "python",
   "nbconvert_exporter": "python",
   "pygments_lexer": "ipython3",
   "version": "3.11.3"
  },
  "orig_nbformat": 4
 },
 "nbformat": 4,
 "nbformat_minor": 2
}
