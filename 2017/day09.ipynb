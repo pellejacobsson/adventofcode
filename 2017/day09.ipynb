{
 "cells": [
  {
   "cell_type": "code",
   "execution_count": 1,
   "metadata": {},
   "outputs": [],
   "source": [
    "def read_input(filename):\n",
    "    with open(filename, 'r') as f:\n",
    "        return [s for s in f.readline().strip()]"
   ]
  },
  {
   "cell_type": "code",
   "execution_count": 2,
   "metadata": {},
   "outputs": [],
   "source": [
    "stream = read_input('09_input.txt')"
   ]
  },
  {
   "cell_type": "code",
   "execution_count": 3,
   "metadata": {},
   "outputs": [
    {
     "name": "stdout",
     "output_type": "stream",
     "text": [
      "12803\n",
      "6425\n"
     ]
    }
   ],
   "source": [
    "level = 0\n",
    "groups = {}\n",
    "garbage = False\n",
    "ignore = False\n",
    "garbage_count = 0\n",
    "for c in stream:\n",
    "    if garbage and not ignore and c not in ['>', '!']:\n",
    "        garbage_count += 1\n",
    "    if c == '{' and not garbage:\n",
    "        level += 1\n",
    "        groups[level] = groups.get(level, 0) + 1\n",
    "    elif c == '}' and not garbage:\n",
    "        level -= 1\n",
    "    elif c == '<' and not ignore:\n",
    "        garbage = True\n",
    "    elif c == '>' and not ignore:\n",
    "        garbage = False\n",
    "    elif c == '!' and not ignore:\n",
    "        ignore = True\n",
    "    elif ignore:\n",
    "        ignore = False\n",
    "print(sum([k * v for k, v in groups.items()]))\n",
    "print(garbage_count)"
   ]
  }
 ],
 "metadata": {
  "kernelspec": {
   "display_name": "ds-base-311",
   "language": "python",
   "name": "python3"
  },
  "language_info": {
   "codemirror_mode": {
    "name": "ipython",
    "version": 3
   },
   "file_extension": ".py",
   "mimetype": "text/x-python",
   "name": "python",
   "nbconvert_exporter": "python",
   "pygments_lexer": "ipython3",
   "version": "3.11.3"
  },
  "orig_nbformat": 4
 },
 "nbformat": 4,
 "nbformat_minor": 2
}
