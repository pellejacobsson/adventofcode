{
 "cells": [
  {
   "cell_type": "code",
   "execution_count": 36,
   "metadata": {},
   "outputs": [],
   "source": [
    "def read_input(filename):\n",
    "    with open(filename, 'r') as f:\n",
    "        return [[int(ss) for ss in s.strip().split('-')] for s in f.readlines()]\n",
    "    \n",
    "def runit(filename):\n",
    "    ranges = read_input(filename)\n",
    "    ranges = sorted(ranges, key=lambda x: x[0])\n",
    "    max_blocked = ranges[0][1]\n",
    "    for r in ranges[1:]:\n",
    "        if r[0] > max_blocked + 1:\n",
    "            return max_blocked + 1\n",
    "        elif r[1] > max_blocked:\n",
    "            max_blocked = r[1]\n",
    "    return 'All blocked!'\n",
    "\n",
    "def runit2(filename):\n",
    "    ranges = read_input(filename)\n",
    "    ranges = sorted(ranges, key=lambda x: x[0])\n",
    "    max_blocked = ranges[0][1]\n",
    "    n_free = 0\n",
    "    for r in ranges[1:]:\n",
    "        if r[0] > max_blocked + 1:\n",
    "            n_free += r[0] - max_blocked - 1\n",
    "        if r[1] > max_blocked:\n",
    "            max_blocked = r[1]\n",
    "    return n_free"
   ]
  },
  {
   "cell_type": "code",
   "execution_count": 30,
   "metadata": {},
   "outputs": [
    {
     "data": {
      "text/plain": [
       "4793564"
      ]
     },
     "execution_count": 30,
     "metadata": {},
     "output_type": "execute_result"
    }
   ],
   "source": [
    "runit('20_input.txt')"
   ]
  },
  {
   "cell_type": "code",
   "execution_count": 37,
   "metadata": {},
   "outputs": [
    {
     "data": {
      "text/plain": [
       "146"
      ]
     },
     "execution_count": 37,
     "metadata": {},
     "output_type": "execute_result"
    }
   ],
   "source": [
    "runit2('20_input.txt')"
   ]
  }
 ],
 "metadata": {
  "kernelspec": {
   "display_name": "ds-base-311",
   "language": "python",
   "name": "python3"
  },
  "language_info": {
   "codemirror_mode": {
    "name": "ipython",
    "version": 3
   },
   "file_extension": ".py",
   "mimetype": "text/x-python",
   "name": "python",
   "nbconvert_exporter": "python",
   "pygments_lexer": "ipython3",
   "version": "3.11.0"
  },
  "orig_nbformat": 4
 },
 "nbformat": 4,
 "nbformat_minor": 2
}
