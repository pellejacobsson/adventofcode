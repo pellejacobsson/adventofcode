{
 "cells": [
  {
   "cell_type": "code",
   "execution_count": 20,
   "metadata": {},
   "outputs": [],
   "source": [
    "def pos(start_pos, n_pos, t):\n",
    "    return (start_pos + t) % n_pos\n",
    "\n",
    "def slot(start_pos_list, n_pos_list, t_button):\n",
    "    t_list = range(t_button + 1, t_button + 1 + len(start_pos_list))\n",
    "    return sum([pos(start_pos, n_pos, t) for (start_pos, n_pos, t) in zip(start_pos_list, n_pos_list, t_list)])"
   ]
  },
  {
   "cell_type": "code",
   "execution_count": 26,
   "metadata": {},
   "outputs": [],
   "source": [
    "start_pos = [1, 10, 2, 1, 3, 5]\n",
    "n_pos = [13, 19, 3, 7, 5, 17]"
   ]
  },
  {
   "cell_type": "code",
   "execution_count": 31,
   "metadata": {},
   "outputs": [
    {
     "name": "stdout",
     "output_type": "stream",
     "text": [
      "Part 1: 376777\n"
     ]
    }
   ],
   "source": [
    "for t in range(1000000):\n",
    "    if slot(start_pos, n_pos, t) == 0:\n",
    "        print(f'Part 1: {t}')\n",
    "        break"
   ]
  },
  {
   "cell_type": "code",
   "execution_count": 32,
   "metadata": {},
   "outputs": [],
   "source": [
    "start_pos.append(0)\n",
    "n_pos.append(11)"
   ]
  },
  {
   "cell_type": "code",
   "execution_count": 34,
   "metadata": {},
   "outputs": [
    {
     "name": "stdout",
     "output_type": "stream",
     "text": [
      "Part 2: 3903937\n"
     ]
    }
   ],
   "source": [
    "for t in range(10000000):\n",
    "    if slot(start_pos, n_pos, t) == 0:\n",
    "        print(f'Part 2: {t}')\n",
    "        break"
   ]
  }
 ],
 "metadata": {
  "kernelspec": {
   "display_name": "ds-base-311",
   "language": "python",
   "name": "python3"
  },
  "language_info": {
   "codemirror_mode": {
    "name": "ipython",
    "version": 3
   },
   "file_extension": ".py",
   "mimetype": "text/x-python",
   "name": "python",
   "nbconvert_exporter": "python",
   "pygments_lexer": "ipython3",
   "version": "3.11.0"
  },
  "orig_nbformat": 4
 },
 "nbformat": 4,
 "nbformat_minor": 2
}
