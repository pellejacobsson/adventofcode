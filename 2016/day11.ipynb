{
 "cells": [
  {
   "cell_type": "code",
   "execution_count": 1,
   "metadata": {},
   "outputs": [],
   "source": [
    "from itertools import combinations\n",
    "from copy import deepcopy"
   ]
  },
  {
   "cell_type": "code",
   "execution_count": 47,
   "metadata": {},
   "outputs": [],
   "source": [
    "def inital_state(live=True, part2=False):\n",
    "    if live:\n",
    "        building = [\n",
    "            [('th', 'g'), ('th', 'm'), ('pl', 'g'), ('st', 'g')],\n",
    "            [('pl', 'm'), ('st', 'm')],\n",
    "            [('pr', 'g'), ('pr', 'm'), ('ru', 'g'), ('ru', 'm')],\n",
    "            []\n",
    "        ]\n",
    "        if part2:\n",
    "            building[0].extend([('el', 'g'), ('el', 'm'), ('di', 'g'), ('di', 'm')])\n",
    "    else:\n",
    "        building = [\n",
    "            [('h', 'm'), ('l', 'm')],\n",
    "            [('h', 'g')],\n",
    "            [('l', 'g')],\n",
    "            []\n",
    "        ]\n",
    "            \n",
    "    e = 0\n",
    "    return building, e\n",
    "\n",
    "def valid_floor(floor):\n",
    "    if len(floor) == 0:\n",
    "        return True\n",
    "    for item in floor:\n",
    "        valid = True\n",
    "        if item[1] == 'm':\n",
    "            for other in floor:\n",
    "                if other[1] == 'g':\n",
    "                    if other[0] == item[0]:\n",
    "                        valid = True\n",
    "                        break\n",
    "                    else:\n",
    "                        valid = False\n",
    "        if not valid:\n",
    "            return False\n",
    "    return True\n",
    "\n",
    "def valid_building(building):\n",
    "    for floor in building:\n",
    "        if not valid_floor(floor):\n",
    "            return False         \n",
    "    return True\n",
    "\n",
    "def get_next_steps(building, e):\n",
    "    next_steps = []\n",
    "    for e_next in [e-1, e+1]:\n",
    "        if e_next < 0 or e_next > 3:\n",
    "            continue\n",
    "        combs = list(combinations(building[e], 1)) + list(combinations(building[e], 2))\n",
    "        for comb in combs:\n",
    "            new_building = deepcopy(building)\n",
    "            for item in comb:\n",
    "                new_building[e].remove(item)\n",
    "                new_building[e_next].append(item)\n",
    "            if valid_building(new_building):\n",
    "                next_steps.append((new_building, e_next))\n",
    "    return next_steps\n",
    "\n",
    "def print_state(building, e, steps):\n",
    "    print(f'Elevator: {e}, Steps: {steps}')\n",
    "    for i, floor in enumerate(building[::-1]):\n",
    "        print(f'F{4 - i}: ' + ''.join([item[0] + item[1] + ' ' for item in floor]))\n",
    "    print('')\n",
    "\n",
    "def tranform_state(building, e, materials):\n",
    "    return tuple(sorted([([(mat, 'm') in floor for floor in building].index(True),\n",
    "             [(mat, 'g') in floor for floor in building].index(True)) for mat in materials]) + [e])\n",
    "\n",
    "def bfs(building, e, materials):\n",
    "    n_items = len(materials) * 2\n",
    "    seen = set()\n",
    "    queue = [(building, e, 0)]\n",
    "    while queue:\n",
    "        building, e, steps = queue.pop(0)\n",
    "        state = tranform_state(building, e, materials)\n",
    "        if state in seen:\n",
    "            continue\n",
    "        seen.add(state)\n",
    "        if len(building[3]) == n_items:\n",
    "            return steps\n",
    "        for next_building, next_e in get_next_steps(building, e):\n",
    "            queue.append((next_building, next_e, steps + 1))\n",
    "    return None"
   ]
  },
  {
   "cell_type": "code",
   "execution_count": 48,
   "metadata": {},
   "outputs": [],
   "source": [
    "building, e = inital_state(live=True)\n",
    "materials = list(set([x[0] for floor in building for x in floor]))"
   ]
  },
  {
   "cell_type": "code",
   "execution_count": 49,
   "metadata": {},
   "outputs": [
    {
     "data": {
      "text/plain": [
       "31"
      ]
     },
     "execution_count": 49,
     "metadata": {},
     "output_type": "execute_result"
    }
   ],
   "source": [
    "bfs(building, e, materials)"
   ]
  },
  {
   "cell_type": "code",
   "execution_count": 50,
   "metadata": {},
   "outputs": [],
   "source": [
    "building, e = inital_state(live=True, part2=True)\n",
    "materials = list(set([x[0] for floor in building for x in floor]))"
   ]
  },
  {
   "cell_type": "code",
   "execution_count": 51,
   "metadata": {},
   "outputs": [
    {
     "data": {
      "text/plain": [
       "55"
      ]
     },
     "execution_count": 51,
     "metadata": {},
     "output_type": "execute_result"
    }
   ],
   "source": [
    "bfs(building, e, materials)"
   ]
  }
 ],
 "metadata": {
  "kernelspec": {
   "display_name": "ds-base",
   "language": "python",
   "name": "python3"
  },
  "language_info": {
   "codemirror_mode": {
    "name": "ipython",
    "version": 3
   },
   "file_extension": ".py",
   "mimetype": "text/x-python",
   "name": "python",
   "nbconvert_exporter": "python",
   "pygments_lexer": "ipython3",
   "version": "3.11.0"
  },
  "orig_nbformat": 4
 },
 "nbformat": 4,
 "nbformat_minor": 2
}
