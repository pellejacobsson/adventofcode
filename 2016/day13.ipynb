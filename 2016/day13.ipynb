{
 "cells": [
  {
   "cell_type": "code",
   "execution_count": 17,
   "metadata": {},
   "outputs": [],
   "source": [
    "def is_open(p):\n",
    "    x, y = p\n",
    "    z = x * x + 3 * x + 2 * x * y + y + y * y + 1358\n",
    "    b1 = bin(z)[2:].count('1')\n",
    "    return b1 % 2 == 0\n",
    "\n",
    "\n",
    "def get_adjacent(p):\n",
    "    x, y = p\n",
    "    adj = []\n",
    "    for dx, dy in [(0, -1), (0, 1), (-1, 0), (1, 0)]:\n",
    "        pn = (x + dx, y + dy)\n",
    "        if is_open(pn):\n",
    "            adj.append(pn)\n",
    "    return adj\n",
    "\n",
    "def bfs(start, goal):\n",
    "    q = []\n",
    "    seen = set()\n",
    "    q.append(start)\n",
    "    seen.add(start)\n",
    "    dist = {start: 0}\n",
    "    while q:\n",
    "        v = q.pop(0)\n",
    "        if v == goal:\n",
    "            return dist[v]\n",
    "        for w in get_adjacent(v):\n",
    "            if w not in seen:\n",
    "                seen.add(w)\n",
    "                dist[w] = dist[v] + 1\n",
    "                q.append(w)\n",
    "    return None\n"
   ]
  },
  {
   "cell_type": "code",
   "execution_count": 31,
   "metadata": {},
   "outputs": [
    {
     "data": {
      "text/plain": [
       "96"
      ]
     },
     "execution_count": 31,
     "metadata": {},
     "output_type": "execute_result"
    }
   ],
   "source": [
    "bfs((1, 1), (31, 39))"
   ]
  },
  {
   "cell_type": "code",
   "execution_count": 34,
   "metadata": {},
   "outputs": [],
   "source": [
    "count = 0\n",
    "for x in range(51):\n",
    "    for y in range(51 - x):\n",
    "        d = bfs((1, 1), (x, y))\n",
    "        if d is not None and d <= 50:\n",
    "            count += 1"
   ]
  },
  {
   "cell_type": "code",
   "execution_count": 35,
   "metadata": {},
   "outputs": [
    {
     "data": {
      "text/plain": [
       "141"
      ]
     },
     "execution_count": 35,
     "metadata": {},
     "output_type": "execute_result"
    }
   ],
   "source": [
    "count"
   ]
  },
  {
   "cell_type": "code",
   "execution_count": null,
   "metadata": {},
   "outputs": [],
   "source": []
  }
 ],
 "metadata": {
  "kernelspec": {
   "display_name": "ds-base-311",
   "language": "python",
   "name": "python3"
  },
  "language_info": {
   "codemirror_mode": {
    "name": "ipython",
    "version": 3
   },
   "file_extension": ".py",
   "mimetype": "text/x-python",
   "name": "python",
   "nbconvert_exporter": "python",
   "pygments_lexer": "ipython3",
   "version": "3.11.0"
  },
  "orig_nbformat": 4
 },
 "nbformat": 4,
 "nbformat_minor": 2
}
