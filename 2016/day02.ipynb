{
 "cells": [
  {
   "cell_type": "code",
   "execution_count": 10,
   "metadata": {},
   "outputs": [],
   "source": [
    "def read_input(filename):\n",
    "    with open(filename, 'r') as f:\n",
    "        lines = [line.strip() for line in f.readlines()]\n",
    "    return lines"
   ]
  },
  {
   "cell_type": "code",
   "execution_count": 47,
   "metadata": {},
   "outputs": [],
   "source": [
    "def get_key(moves, i, j):\n",
    "    for m in moves:\n",
    "        if m == 'U':\n",
    "            i = max(0, i - 1)\n",
    "        elif m == 'R':\n",
    "            j = min(2, j + 1)\n",
    "        elif m == 'D':\n",
    "            i = min(2, i + 1)\n",
    "        else:\n",
    "            j = max(0, j - 1)\n",
    "    key = str(i * 3 + j + 1)\n",
    "    return key, i, j\n",
    "\n",
    "def get_key2(moves, i, j):\n",
    "    for m in moves:\n",
    "        if m == 'U':\n",
    "            if j in [1, 3]:\n",
    "                i = max(1, i - 1)\n",
    "            elif j == 2:\n",
    "                i = max(0, i - 1)\n",
    "        elif m == 'R':\n",
    "            if i in [1, 3]:\n",
    "                j = min(3, j + 1)\n",
    "            elif i == 2:\n",
    "                j = min(4, j + 1)\n",
    "        elif m == 'D':\n",
    "            if j in [1, 3]:\n",
    "                i = min(3, i + 1)\n",
    "            elif j == 2:\n",
    "                i = min(4, i + 1)\n",
    "        else:\n",
    "            if i in [1, 3]:\n",
    "                j = max(1, j - 1)\n",
    "            elif i == 2:\n",
    "                j = max(0, j - 1)\n",
    "    if i == 0:\n",
    "        key = 1\n",
    "    elif i == 1:\n",
    "        key = str([2, 3, 4][j-1])\n",
    "    elif i == 2:\n",
    "        key = str([5, 6, 7, 8, 9][j])\n",
    "    elif i == 3:\n",
    "        key = ['A', 'B', 'C'][j-1]\n",
    "    else:\n",
    "        key = 'D'\n",
    "    return key, i, j\n",
    "\n",
    "\n",
    "def get_code(input, part=1):\n",
    "    if part == 1:\n",
    "        get_key_fun = get_key\n",
    "        i, j = 1, 1\n",
    "    else:\n",
    "        get_key_fun = get_key2\n",
    "        i, j = 2, 0\n",
    "    code = []\n",
    "    for moves in input:\n",
    "        key, i, j = get_key_fun(moves, i, j)\n",
    "        code.append(key)\n",
    "    return ''.join(code)\n",
    "\n",
    "def runit(filename, part=1):\n",
    "    input = read_input(filename)\n",
    "    code = get_code(input, part=part)\n",
    "    print(f'Part {part}: {code}')"
   ]
  },
  {
   "cell_type": "code",
   "execution_count": 50,
   "metadata": {},
   "outputs": [
    {
     "name": "stdout",
     "output_type": "stream",
     "text": [
      "Part 2: 446A6\n"
     ]
    }
   ],
   "source": [
    "runit('02_input.txt', part=2)"
   ]
  }
 ],
 "metadata": {
  "kernelspec": {
   "display_name": "Python 3.10.4 ('ds')",
   "language": "python",
   "name": "python3"
  },
  "language_info": {
   "codemirror_mode": {
    "name": "ipython",
    "version": 3
   },
   "file_extension": ".py",
   "mimetype": "text/x-python",
   "name": "python",
   "nbconvert_exporter": "python",
   "pygments_lexer": "ipython3",
   "version": "3.10.6"
  },
  "orig_nbformat": 4,
  "vscode": {
   "interpreter": {
    "hash": "a7861172d2007d4541fab3e4eefe3a41dabba6fa735ecd87066a89563db3fd59"
   }
  }
 },
 "nbformat": 4,
 "nbformat_minor": 2
}
