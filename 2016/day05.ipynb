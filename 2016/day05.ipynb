{
 "cells": [
  {
   "cell_type": "code",
   "execution_count": 1,
   "metadata": {},
   "outputs": [],
   "source": [
    "import hashlib"
   ]
  },
  {
   "cell_type": "code",
   "execution_count": 52,
   "metadata": {},
   "outputs": [],
   "source": [
    "def runit(part=1):\n",
    "    base = 'wtnhxymk'\n",
    "    n_zeros = 5\n",
    "    pwd_length = 8\n",
    "    pwd = ['?'] * pwd_length\n",
    "    n = 0\n",
    "    n_found = 0\n",
    "    found = set()\n",
    "    while n_found < 8:\n",
    "        key = (base + str(n)).encode()\n",
    "        hash = hashlib.md5(key).hexdigest()\n",
    "        if hash[:n_zeros] == '0' * n_zeros:\n",
    "            i, j = hash[n_zeros:n_zeros+2]\n",
    "            if part == 1:\n",
    "                pwd[n_found] = i\n",
    "                n_found += 1\n",
    "            else:\n",
    "                if i.isnumeric():\n",
    "                    ii = int(i)\n",
    "                    if ii >= 0 and ii <= 7 and (ii not in found):\n",
    "                        pwd[ii] = j\n",
    "                        found.add(ii)\n",
    "                        n_found += 1\n",
    "        n += 1\n",
    "    return ''.join(pwd)"
   ]
  },
  {
   "cell_type": "code",
   "execution_count": 53,
   "metadata": {},
   "outputs": [
    {
     "data": {
      "text/plain": [
       "'2414bc77'"
      ]
     },
     "execution_count": 53,
     "metadata": {},
     "output_type": "execute_result"
    }
   ],
   "source": [
    "runit()"
   ]
  },
  {
   "cell_type": "code",
   "execution_count": 54,
   "metadata": {},
   "outputs": [
    {
     "data": {
      "text/plain": [
       "'437e60fc'"
      ]
     },
     "execution_count": 54,
     "metadata": {},
     "output_type": "execute_result"
    }
   ],
   "source": [
    "runit(part=2)"
   ]
  },
  {
   "cell_type": "code",
   "execution_count": null,
   "metadata": {},
   "outputs": [],
   "source": []
  }
 ],
 "metadata": {
  "kernelspec": {
   "display_name": "Python 3.10.6 ('ds')",
   "language": "python",
   "name": "python3"
  },
  "language_info": {
   "codemirror_mode": {
    "name": "ipython",
    "version": 3
   },
   "file_extension": ".py",
   "mimetype": "text/x-python",
   "name": "python",
   "nbconvert_exporter": "python",
   "pygments_lexer": "ipython3",
   "version": "3.10.6"
  },
  "orig_nbformat": 4,
  "vscode": {
   "interpreter": {
    "hash": "a7861172d2007d4541fab3e4eefe3a41dabba6fa735ecd87066a89563db3fd59"
   }
  }
 },
 "nbformat": 4,
 "nbformat_minor": 2
}
