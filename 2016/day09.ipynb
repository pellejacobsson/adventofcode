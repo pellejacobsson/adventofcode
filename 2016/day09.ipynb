{
 "cells": [
  {
   "cell_type": "code",
   "execution_count": 18,
   "metadata": {},
   "outputs": [],
   "source": [
    "import re\n",
    "from itertools import takewhile, islice"
   ]
  },
  {
   "cell_type": "code",
   "execution_count": 19,
   "metadata": {},
   "outputs": [],
   "source": [
    "def read_input(filename):\n",
    "    with open(filename, 'r') as f:\n",
    "        line = f.readline()\n",
    "    return line.strip()"
   ]
  },
  {
   "cell_type": "code",
   "execution_count": 20,
   "metadata": {},
   "outputs": [],
   "source": [
    "def decompress(data):\n",
    "    new_data = ''\n",
    "    i = 0\n",
    "    while True:\n",
    "        if i >= len(data):\n",
    "            break\n",
    "        while data[i] != '(':\n",
    "            new_data += data[i]\n",
    "            i += 1\n",
    "            if i >= len(data):\n",
    "                break\n",
    "        if i >= len(data):\n",
    "            break\n",
    "        m = re.match(r'(\\((\\d*)x(\\d*)\\))', data[i:])\n",
    "        n_chars = int(m[2])\n",
    "        n_repeat = int(m[3])\n",
    "        i_skip = len(m[1])\n",
    "        for _ in range(n_repeat):\n",
    "            new_data += data[i+i_skip:i+i_skip+n_chars]\n",
    "        i += i_skip + n_chars\n",
    "    return new_data"
   ]
  },
  {
   "cell_type": "code",
   "execution_count": 21,
   "metadata": {},
   "outputs": [],
   "source": [
    "def runit(filename):\n",
    "    line = read_input(filename)\n",
    "    new_line = decompress(line)\n",
    "    return len(new_line)"
   ]
  },
  {
   "cell_type": "code",
   "execution_count": 22,
   "metadata": {},
   "outputs": [
    {
     "data": {
      "text/plain": [
       "99145"
      ]
     },
     "execution_count": 22,
     "metadata": {},
     "output_type": "execute_result"
    }
   ],
   "source": [
    "runit('09_input.txt')"
   ]
  },
  {
   "cell_type": "code",
   "execution_count": 26,
   "metadata": {},
   "outputs": [],
   "source": [
    "def decompress2(data):\n",
    "    count = 0\n",
    "    chars = iter(data)\n",
    "    for c in chars:\n",
    "        if c == '(':\n",
    "            n_chars = int(''.join(takewhile(lambda x: x != 'x', chars)))\n",
    "            n_repeat = int(''.join(takewhile(lambda x: x != ')', chars)))\n",
    "            s = ''.join(islice(chars, n_chars))\n",
    "            count += n_repeat * decompress2(s)\n",
    "        else:\n",
    "            count += 1\n",
    "    return count"
   ]
  },
  {
   "cell_type": "code",
   "execution_count": 27,
   "metadata": {},
   "outputs": [],
   "source": [
    "def runit2(filename):\n",
    "    line = read_input(filename)\n",
    "    count = decompress2(line)\n",
    "    print(f'Part 2: {count}')"
   ]
  },
  {
   "cell_type": "code",
   "execution_count": 28,
   "metadata": {},
   "outputs": [
    {
     "name": "stdout",
     "output_type": "stream",
     "text": [
      "Part 2: 10943094568\n"
     ]
    }
   ],
   "source": [
    "runit2('09_input.txt')"
   ]
  },
  {
   "cell_type": "code",
   "execution_count": 29,
   "metadata": {},
   "outputs": [
    {
     "data": {
      "text/plain": [
       "range(2, 6)"
      ]
     },
     "execution_count": 29,
     "metadata": {},
     "output_type": "execute_result"
    }
   ],
   "source": []
  },
  {
   "cell_type": "code",
   "execution_count": null,
   "metadata": {},
   "outputs": [],
   "source": []
  }
 ],
 "metadata": {
  "kernelspec": {
   "display_name": "Python 3.10.6 ('ds')",
   "language": "python",
   "name": "python3"
  },
  "language_info": {
   "codemirror_mode": {
    "name": "ipython",
    "version": 3
   },
   "file_extension": ".py",
   "mimetype": "text/x-python",
   "name": "python",
   "nbconvert_exporter": "python",
   "pygments_lexer": "ipython3",
   "version": "3.10.6"
  },
  "orig_nbformat": 4,
  "vscode": {
   "interpreter": {
    "hash": "a7861172d2007d4541fab3e4eefe3a41dabba6fa735ecd87066a89563db3fd59"
   }
  }
 },
 "nbformat": 4,
 "nbformat_minor": 2
}
