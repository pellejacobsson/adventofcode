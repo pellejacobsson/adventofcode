{
 "cells": [
  {
   "cell_type": "code",
   "execution_count": 7,
   "metadata": {},
   "outputs": [],
   "source": [
    "def read_input(filename):\n",
    "    with open(filename, 'r') as f:\n",
    "        input = [[int(s) for s in line.strip().split()] for line in f.readlines()]\n",
    "    return input"
   ]
  },
  {
   "cell_type": "code",
   "execution_count": 61,
   "metadata": {},
   "outputs": [],
   "source": [
    "def num_triangles(sides, part=1):\n",
    "    if part == 2:\n",
    "        sides2 = []\n",
    "        for m in range(3):\n",
    "            for n in range(0, len(sides) - 2, 3):\n",
    "                sides2.append([sides[n][m], sides[n+1][m], sides[n+2][m]])\n",
    "        sides = sides2\n",
    "    return sum([sum(s[:2]) > s[2] for s in map(sorted, sides)])\n",
    "\n",
    "def runit(filename):\n",
    "    sides = read_input(filename)\n",
    "    p1 = num_triangles(sides)\n",
    "    p2 = num_triangles(sides, part=2)\n",
    "    print(f'Part 1: {p1}')\n",
    "    print(f'Part 2: {p2}')"
   ]
  },
  {
   "cell_type": "code",
   "execution_count": 62,
   "metadata": {},
   "outputs": [
    {
     "name": "stdout",
     "output_type": "stream",
     "text": [
      "Part 1: 1050\n",
      "Part 2: 1921\n"
     ]
    }
   ],
   "source": [
    "runit('03_input.txt')"
   ]
  },
  {
   "cell_type": "code",
   "execution_count": null,
   "metadata": {},
   "outputs": [],
   "source": []
  }
 ],
 "metadata": {
  "kernelspec": {
   "display_name": "Python 3.10.6 ('ds')",
   "language": "python",
   "name": "python3"
  },
  "language_info": {
   "codemirror_mode": {
    "name": "ipython",
    "version": 3
   },
   "file_extension": ".py",
   "mimetype": "text/x-python",
   "name": "python",
   "nbconvert_exporter": "python",
   "pygments_lexer": "ipython3",
   "version": "3.10.6"
  },
  "orig_nbformat": 4,
  "vscode": {
   "interpreter": {
    "hash": "a7861172d2007d4541fab3e4eefe3a41dabba6fa735ecd87066a89563db3fd59"
   }
  }
 },
 "nbformat": 4,
 "nbformat_minor": 2
}
