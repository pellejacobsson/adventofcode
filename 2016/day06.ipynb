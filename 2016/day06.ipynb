{
 "cells": [
  {
   "cell_type": "code",
   "execution_count": 10,
   "metadata": {},
   "outputs": [],
   "source": [
    "from collections import Counter"
   ]
  },
  {
   "cell_type": "code",
   "execution_count": 3,
   "metadata": {},
   "outputs": [],
   "source": [
    "def read_input(filename):\n",
    "    with open(filename, 'r') as f:\n",
    "        lines = [s.strip() for s in f.readlines()]\n",
    "    return lines"
   ]
  },
  {
   "cell_type": "code",
   "execution_count": 25,
   "metadata": {},
   "outputs": [],
   "source": [
    "def runit(filename, part1=True):\n",
    "    lines = read_input(filename)\n",
    "    real_message = []\n",
    "    for n in range(len(lines[0])):\n",
    "        message = [line[n] for line in lines]\n",
    "        c = Counter(message)\n",
    "        letter = sorted(c.items(), key=lambda x: x[1], reverse=part1)[0][0]\n",
    "        real_message.append(letter)\n",
    "    return ''.join(real_message)"
   ]
  },
  {
   "cell_type": "code",
   "execution_count": 30,
   "metadata": {},
   "outputs": [
    {
     "name": "stdout",
     "output_type": "stream",
     "text": [
      "Part 1: kqsdmzft\n",
      "Part 2: tpooccyo\n"
     ]
    }
   ],
   "source": [
    "p1 = runit('06_input.txt')\n",
    "p2 = runit('06_input.txt', part1=False)\n",
    "print(f'Part 1: {p1}')\n",
    "print(f'Part 2: {p2}')"
   ]
  },
  {
   "cell_type": "code",
   "execution_count": null,
   "metadata": {},
   "outputs": [],
   "source": [
    "runit"
   ]
  }
 ],
 "metadata": {
  "kernelspec": {
   "display_name": "Python 3.10.6 ('ds')",
   "language": "python",
   "name": "python3"
  },
  "language_info": {
   "codemirror_mode": {
    "name": "ipython",
    "version": 3
   },
   "file_extension": ".py",
   "mimetype": "text/x-python",
   "name": "python",
   "nbconvert_exporter": "python",
   "pygments_lexer": "ipython3",
   "version": "3.10.6"
  },
  "orig_nbformat": 4,
  "vscode": {
   "interpreter": {
    "hash": "a7861172d2007d4541fab3e4eefe3a41dabba6fa735ecd87066a89563db3fd59"
   }
  }
 },
 "nbformat": 4,
 "nbformat_minor": 2
}
