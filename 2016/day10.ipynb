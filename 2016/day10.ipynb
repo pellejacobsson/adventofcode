{
 "cells": [
  {
   "cell_type": "code",
   "execution_count": 67,
   "metadata": {},
   "outputs": [],
   "source": [
    "from collections import defaultdict\n",
    "import re"
   ]
  },
  {
   "cell_type": "code",
   "execution_count": 68,
   "metadata": {},
   "outputs": [],
   "source": [
    "def read_input(filename):\n",
    "    bots = defaultdict(list)\n",
    "    instructions = {}\n",
    "    with open(filename, 'r') as f:\n",
    "        for s in f:\n",
    "            if s[0] == 'v':\n",
    "                m = re.match(r'^value (\\d*) goes to bot (\\d*)', s)\n",
    "                bots[int(m[2])].append(int(m[1]))\n",
    "                bots[int(m[2])].sort()\n",
    "            else:\n",
    "                m = re.match(r'^bot (\\d*) gives low to (.*) (\\d*) and high to (.*) (\\d*)', s)\n",
    "                instructions[int(m[1])] = (m[2], int(m[3]), m[4], int(m[5]))\n",
    "    return bots, instructions"
   ]
  },
  {
   "cell_type": "code",
   "execution_count": 101,
   "metadata": {},
   "outputs": [],
   "source": [
    "def runit(filename):\n",
    "    bots, instructions = read_input(filename)\n",
    "    outputs = defaultdict(list)\n",
    "    has_two = [k for k, v in bots.items() if len(v) == 2]\n",
    "    while has_two:\n",
    "        bot = has_two.pop()\n",
    "        low_type, low_target, high_type, high_target = instructions[bot]\n",
    "        low_val = bots[bot].pop(0)\n",
    "        high_val = bots[bot].pop()\n",
    "        if low_type == 'bot':\n",
    "            bots[low_target].append(low_val)\n",
    "            bots[low_target].sort()\n",
    "            if len(bots[low_target]) == 2:\n",
    "                has_two.append(low_target)\n",
    "        else:\n",
    "            outputs[low_target].append(low_val)\n",
    "        if high_type == 'bot':\n",
    "            bots[high_target].append(high_val)\n",
    "            bots[high_target].sort()\n",
    "            if len(bots[high_target]) == 2:\n",
    "                has_two.append(high_target)\n",
    "        else:\n",
    "            outputs[high_target].append(high_val)\n",
    "        if low_val == 17 and high_val == 61:\n",
    "            print(f'Part 1: {bot}')\n",
    "    part2 = outputs[0][0] * outputs[1][0] * outputs[2][0]\n",
    "    print(f'Part 2: {part2}')"
   ]
  },
  {
   "cell_type": "code",
   "execution_count": 102,
   "metadata": {},
   "outputs": [
    {
     "name": "stdout",
     "output_type": "stream",
     "text": [
      "Part 1: 113\n",
      "Part 2: 12803\n"
     ]
    }
   ],
   "source": [
    "runit('10_input.txt')"
   ]
  }
 ],
 "metadata": {
  "kernelspec": {
   "display_name": "Python 3.10.6 ('ds')",
   "language": "python",
   "name": "python3"
  },
  "language_info": {
   "codemirror_mode": {
    "name": "ipython",
    "version": 3
   },
   "file_extension": ".py",
   "mimetype": "text/x-python",
   "name": "python",
   "nbconvert_exporter": "python",
   "pygments_lexer": "ipython3",
   "version": "3.10.6"
  },
  "orig_nbformat": 4,
  "vscode": {
   "interpreter": {
    "hash": "a7861172d2007d4541fab3e4eefe3a41dabba6fa735ecd87066a89563db3fd59"
   }
  }
 },
 "nbformat": 4,
 "nbformat_minor": 2
}
