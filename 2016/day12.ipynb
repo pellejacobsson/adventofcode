{
 "cells": [
  {
   "cell_type": "code",
   "execution_count": 1,
   "metadata": {},
   "outputs": [],
   "source": [
    "class Assembunny:\n",
    "    def __init__(self, part2=False):\n",
    "        self.reg = {'a': 0, 'b': 0, 'c': 0, 'd': 0}\n",
    "        if part2:\n",
    "            self.reg['c'] = 1\n",
    "\n",
    "    def read_instructions(self, filename):\n",
    "        with open(filename, 'r') as f:\n",
    "            self.instructions = [[x if x.isalpha() else int(x) for x in l.strip().split(' ')] for l in f.readlines()]\n",
    "\n",
    "    def run(self):\n",
    "        i = 0\n",
    "        while i < len(self.instructions):\n",
    "            instruction = self.instructions[i]\n",
    "            match instruction:\n",
    "                case ['cpy', p1, p2]:\n",
    "                    self.reg[p2] = p1 if isinstance(p1, int) else self.reg[p1]\n",
    "                    i += 1\n",
    "                case ['inc', p]:\n",
    "                    self.reg[p] += 1\n",
    "                    i += 1\n",
    "                case ['dec', p]:\n",
    "                    self.reg[p] -= 1\n",
    "                    i += 1\n",
    "                case ['jnz', p1, p2]:\n",
    "                    z = p1 if isinstance(p1, int) else self.reg[p1]\n",
    "                    i += p2 if z != 0 else 1\n",
    "                \n",
    "\n"
   ]
  },
  {
   "cell_type": "code",
   "execution_count": 2,
   "metadata": {},
   "outputs": [
    {
     "name": "stdout",
     "output_type": "stream",
     "text": [
      "Part 1: 318077\n",
      "Part 2: 9227731\n"
     ]
    }
   ],
   "source": [
    "ass = Assembunny()\n",
    "ass.read_instructions('12_input.txt')\n",
    "ass.run()\n",
    "print(f\"Part 1: {ass.reg['a']}\")\n",
    "ass2 = Assembunny(part2=True)\n",
    "ass2.read_instructions('12_input.txt')\n",
    "ass2.run()\n",
    "print(f\"Part 2: {ass2.reg['a']}\")"
   ]
  },
  {
   "cell_type": "code",
   "execution_count": null,
   "metadata": {},
   "outputs": [],
   "source": []
  }
 ],
 "metadata": {
  "kernelspec": {
   "display_name": "ds-base-311",
   "language": "python",
   "name": "python3"
  },
  "language_info": {
   "codemirror_mode": {
    "name": "ipython",
    "version": 3
   },
   "file_extension": ".py",
   "mimetype": "text/x-python",
   "name": "python",
   "nbconvert_exporter": "python",
   "pygments_lexer": "ipython3",
   "version": "3.11.0"
  },
  "orig_nbformat": 4
 },
 "nbformat": 4,
 "nbformat_minor": 2
}
