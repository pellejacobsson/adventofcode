{
 "cells": [
  {
   "cell_type": "code",
   "execution_count": 47,
   "metadata": {},
   "outputs": [],
   "source": [
    "import numpy as np\n",
    "import re\n",
    "from PIL import Image as im"
   ]
  },
  {
   "cell_type": "code",
   "execution_count": 20,
   "metadata": {},
   "outputs": [],
   "source": [
    "def read_input(filename):\n",
    "    with open(filename, 'r') as f:\n",
    "        lines = [s.strip() for s in f.readlines()]\n",
    "    instructions = []\n",
    "    for line in lines:\n",
    "        m = re.search(r'^rect (\\d+)x(\\d+)$', line)\n",
    "        if m is not None:\n",
    "            instructions.append(('rect', int(m[1]), int(m[2])))\n",
    "        else:\n",
    "            m = re.search('^rotate (.*) [xy]=(\\d+) by (\\d+)$', line)\n",
    "            instructions.append(('rot' + m[1], int(m[2]), int(m[3])))\n",
    "    return instructions\n"
   ]
  },
  {
   "cell_type": "code",
   "execution_count": 68,
   "metadata": {},
   "outputs": [],
   "source": [
    "class Grid:\n",
    "    def __init__(self):\n",
    "        self.grid = np.zeros((6, 50))\n",
    "    \n",
    "    def rect(self, w, h):\n",
    "        self.grid[:h, :w] = 1\n",
    "\n",
    "    def rot_row(self, row, dx):\n",
    "        self.grid[row, :] = np.roll(self.grid[row, :], dx)\n",
    "    \n",
    "    def rot_col(self, col, dy):\n",
    "        self.grid[:, col] = np.roll(self.grid[:, col], dy)\n",
    "\n",
    "    def n_lit(self):\n",
    "        return int(np.sum(self.grid))\n",
    "    \n",
    "    def show(self):\n",
    "        img = im.fromarray(self.grid * 255)\n",
    "        img.show()"
   ]
  },
  {
   "cell_type": "code",
   "execution_count": 69,
   "metadata": {},
   "outputs": [],
   "source": [
    "def runit(filename):\n",
    "    instructions = read_input('08_input.txt')\n",
    "    g = Grid()\n",
    "    for fn, p1, p2 in instructions:\n",
    "        if fn == 'rect':\n",
    "            g.rect(p1, p2)\n",
    "        elif fn == 'rotrow':\n",
    "            g.rot_row(p1, p2)\n",
    "        else:\n",
    "            g.rot_col(p1, p2)\n",
    "    return g"
   ]
  },
  {
   "cell_type": "code",
   "execution_count": 70,
   "metadata": {},
   "outputs": [],
   "source": [
    "g = runit('08_input.txt')"
   ]
  },
  {
   "cell_type": "code",
   "execution_count": 71,
   "metadata": {},
   "outputs": [
    {
     "name": "stdout",
     "output_type": "stream",
     "text": [
      "Part 1: 121\n"
     ]
    }
   ],
   "source": [
    "print(f'Part 1: {g.n_lit()}')"
   ]
  },
  {
   "cell_type": "code",
   "execution_count": 72,
   "metadata": {},
   "outputs": [],
   "source": [
    "g.show()"
   ]
  }
 ],
 "metadata": {
  "kernelspec": {
   "display_name": "Python 3.10.6 ('ds')",
   "language": "python",
   "name": "python3"
  },
  "language_info": {
   "codemirror_mode": {
    "name": "ipython",
    "version": 3
   },
   "file_extension": ".py",
   "mimetype": "text/x-python",
   "name": "python",
   "nbconvert_exporter": "python",
   "pygments_lexer": "ipython3",
   "version": "3.10.6"
  },
  "orig_nbformat": 4,
  "vscode": {
   "interpreter": {
    "hash": "a7861172d2007d4541fab3e4eefe3a41dabba6fa735ecd87066a89563db3fd59"
   }
  }
 },
 "nbformat": 4,
 "nbformat_minor": 2
}
