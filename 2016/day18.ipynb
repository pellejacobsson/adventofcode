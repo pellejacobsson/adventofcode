{
 "cells": [
  {
   "cell_type": "code",
   "execution_count": 44,
   "metadata": {},
   "outputs": [],
   "source": [
    "def read_input(filename):\n",
    "    with open(filename, 'r') as f:\n",
    "        row = [False] + [s == '^' for s in f.readline().strip()] + [False]\n",
    "    return row\n",
    "\n",
    "def get_next_row(row):\n",
    "    new_row = []\n",
    "    for i in range(1, len(row)-1):\n",
    "        if (\n",
    "            (row[i-1] and row[i] and not row[i+1])\n",
    "            or (row[i] and row[i+1] and not row[i-1])\n",
    "            or (row[i-1] and not row[i] and not row[i+1])\n",
    "            or (row[i+1] and not row[i-1] and not row[i])\n",
    "        ):\n",
    "            new_row.append(True)\n",
    "        else:\n",
    "            new_row.append(False)\n",
    "    return [False] + new_row + [False]\n",
    "\n",
    "def runit(n_rows):\n",
    "    row = read_input('18_input.txt')\n",
    "    n_cols = len(row) - 2\n",
    "    count = n_cols - sum(row)\n",
    "    for i in range(n_rows - 1):\n",
    "        row = get_next_row(row)\n",
    "        count += n_cols - sum(row)\n",
    "    return count"
   ]
  },
  {
   "cell_type": "code",
   "execution_count": 45,
   "metadata": {},
   "outputs": [
    {
     "name": "stdout",
     "output_type": "stream",
     "text": [
      "Part 1: 2035\n",
      "Part 2: 20000577\n"
     ]
    }
   ],
   "source": [
    "print(f'Part 1: {runit(40)}')\n",
    "print(f'Part 2: {runit(400000)}')\n"
   ]
  },
  {
   "cell_type": "code",
   "execution_count": null,
   "metadata": {},
   "outputs": [],
   "source": []
  }
 ],
 "metadata": {
  "kernelspec": {
   "display_name": "ds-base-311",
   "language": "python",
   "name": "python3"
  },
  "language_info": {
   "codemirror_mode": {
    "name": "ipython",
    "version": 3
   },
   "file_extension": ".py",
   "mimetype": "text/x-python",
   "name": "python",
   "nbconvert_exporter": "python",
   "pygments_lexer": "ipython3",
   "version": "3.11.0"
  },
  "orig_nbformat": 4
 },
 "nbformat": 4,
 "nbformat_minor": 2
}
