{
 "cells": [
  {
   "cell_type": "code",
   "execution_count": 1,
   "metadata": {},
   "outputs": [],
   "source": [
    "import hashlib\n",
    "import re"
   ]
  },
  {
   "cell_type": "code",
   "execution_count": 2,
   "metadata": {},
   "outputs": [],
   "source": [
    "def get_hash(s, n=1):\n",
    "    for i in range(n):\n",
    "        s = hashlib.md5(s.encode()).hexdigest()\n",
    "    return s\n",
    "\n",
    "def find_keys(salt, part2=False):\n",
    "    n_hash = 2017 if part2 else 1\n",
    "    three = re.compile(r'(.{1})\\1\\1')\n",
    "    n = -1\n",
    "    count = 0\n",
    "    while count < 64:\n",
    "        n += 1\n",
    "        s_orig = salt + str(n)\n",
    "        s_hash = get_hash(s_orig, n_hash)\n",
    "        rep = three.search(s_hash)\n",
    "        if rep:\n",
    "            rep3 = rep[0][0]\n",
    "            for m in range(n + 1, n + 1001):\n",
    "                s_orig = salt + str(m)\n",
    "                s_hash = get_hash(s_orig, n_hash)\n",
    "                rep = re.search(rep3*5, s_hash)\n",
    "                if rep:\n",
    "                    count += 1\n",
    "                    break\n",
    "    return n\n",
    "\n",
    "def find_keys2(salt, part2=False):\n",
    "    n_hash = 2017 if part2 else 1\n",
    "    three = re.compile(r'(.{1})\\1\\1')\n",
    "    five = re.compile(r'(.{1})\\1\\1\\1\\1')\n",
    "    n = 0\n",
    "    count = 0\n",
    "    fivelets = []\n",
    "    for m in range(1, 1001):\n",
    "        s_orig = salt + str(m)\n",
    "        s_hash = get_hash(s_orig, n_hash)\n",
    "        rep = five.findall(s_hash)\n",
    "        fivelets.append(rep)\n",
    "    while count < 64:\n",
    "        s_orig = salt + str(n)\n",
    "        s_hash = get_hash(s_orig, n_hash)\n",
    "        rep = three.search(s_hash)\n",
    "        if rep:\n",
    "            rep3 = rep[0][0]\n",
    "            if rep3 in set([ss for s in fivelets for ss in s]):\n",
    "                count += 1\n",
    "        n += 1\n",
    "        s_orig = salt + str(n + 1000)\n",
    "        s_hash = get_hash(s_orig, n_hash)\n",
    "        rep = five.findall(s_hash)\n",
    "        fivelets.append(rep)\n",
    "        fivelets = fivelets[1:]\n",
    "    return n - 1"
   ]
  },
  {
   "cell_type": "code",
   "execution_count": 3,
   "metadata": {},
   "outputs": [
    {
     "name": "stdout",
     "output_type": "stream",
     "text": [
      "Part 1: 23890\n"
     ]
    }
   ],
   "source": [
    "part1 = find_keys2('ahsbgdzn')\n",
    "print(f'Part 1: {part1}')"
   ]
  },
  {
   "cell_type": "code",
   "execution_count": 4,
   "metadata": {},
   "outputs": [
    {
     "name": "stdout",
     "output_type": "stream",
     "text": [
      "Part 2: 22696\n"
     ]
    }
   ],
   "source": [
    "part2 = find_keys2('ahsbgdzn', part2=True)\n",
    "print(f'Part 2: {part2}')"
   ]
  }
 ],
 "metadata": {
  "kernelspec": {
   "display_name": "ds-base-311",
   "language": "python",
   "name": "python3"
  },
  "language_info": {
   "codemirror_mode": {
    "name": "ipython",
    "version": 3
   },
   "file_extension": ".py",
   "mimetype": "text/x-python",
   "name": "python",
   "nbconvert_exporter": "python",
   "pygments_lexer": "ipython3",
   "version": "3.11.0"
  },
  "orig_nbformat": 4
 },
 "nbformat": 4,
 "nbformat_minor": 2
}
