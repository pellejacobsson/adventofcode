{
 "cells": [
  {
   "cell_type": "code",
   "execution_count": 1,
   "metadata": {},
   "outputs": [],
   "source": [
    "import re"
   ]
  },
  {
   "cell_type": "code",
   "execution_count": 2,
   "metadata": {},
   "outputs": [],
   "source": [
    "def read_input(filename):\n",
    "    with open(filename, 'r') as f:\n",
    "        lines = [s.strip() for s in f.readlines()]\n",
    "    return lines"
   ]
  },
  {
   "cell_type": "code",
   "execution_count": 3,
   "metadata": {},
   "outputs": [],
   "source": [
    "def supports_tls(re1, re2, ip):\n",
    "    m1 = re1.search(ip)\n",
    "    m2 = re2.search(ip)\n",
    "    return (not (m1 and (m1.groups()[0] != m1.groups()[1]))) and (m2 and (m2.groups()[0] != m2.groups()[1]))\n",
    "\n",
    "def supports_sls(re1, re2, ip):\n",
    "    m1 = re1.search(ip)\n",
    "    m2 = re2.search(ip)\n",
    "    return (m1 and (m1.groups()[0] != m1.groups()[1])) or (m2 and (m2.groups()[0] != m2.groups()[1]))\n"
   ]
  },
  {
   "cell_type": "code",
   "execution_count": 51,
   "metadata": {},
   "outputs": [],
   "source": [
    "def runit(filename):\n",
    "    ips = read_input(filename)\n",
    "    re1 = re.compile(r'\\[[^]]*([a-z])([a-z])\\2\\1')\n",
    "    re2 = re.compile(r'([a-z])([a-z])\\2\\1')\n",
    "    count = 0\n",
    "    for ip in ips:\n",
    "        if supports_tls(re1, re2, ip):\n",
    "            count += 1\n",
    "    print(f'Part 1: {count}')\n",
    "\n",
    "def runit2(filename):\n",
    "    ips = read_input(filename)\n",
    "    re1 = re.compile(r'\\[([^\\]]+)\\]')\n",
    "    count = 0\n",
    "    for ip in ips:\n",
    "        p = re1.split(ip)\n",
    "        s1 = ''.join([x for x in p[::2]])\n",
    "        s2 = ''.join([x for x in p[1::2]])\n",
    "        if any([a == c and a != b and b + a + b in s2 for a, b, c in zip(s1[:-2], s1[1:-1], s1[2:])]):\n",
    "            count += 1\n",
    "    print(f'Part 2: {count}')"
   ]
  },
  {
   "cell_type": "code",
   "execution_count": 52,
   "metadata": {},
   "outputs": [
    {
     "name": "stdout",
     "output_type": "stream",
     "text": [
      "Part 1: 105\n"
     ]
    }
   ],
   "source": [
    "runit('07_input.txt')"
   ]
  },
  {
   "cell_type": "code",
   "execution_count": 53,
   "metadata": {},
   "outputs": [
    {
     "name": "stdout",
     "output_type": "stream",
     "text": [
      "Part 2: 258\n"
     ]
    }
   ],
   "source": [
    "runit2('07_input.txt')"
   ]
  },
  {
   "cell_type": "code",
   "execution_count": null,
   "metadata": {},
   "outputs": [],
   "source": []
  }
 ],
 "metadata": {
  "kernelspec": {
   "display_name": "Python 3.10.6 ('ds')",
   "language": "python",
   "name": "python3"
  },
  "language_info": {
   "codemirror_mode": {
    "name": "ipython",
    "version": 3
   },
   "file_extension": ".py",
   "mimetype": "text/x-python",
   "name": "python",
   "nbconvert_exporter": "python",
   "pygments_lexer": "ipython3",
   "version": "3.10.6"
  },
  "orig_nbformat": 4,
  "vscode": {
   "interpreter": {
    "hash": "a7861172d2007d4541fab3e4eefe3a41dabba6fa735ecd87066a89563db3fd59"
   }
  }
 },
 "nbformat": 4,
 "nbformat_minor": 2
}
