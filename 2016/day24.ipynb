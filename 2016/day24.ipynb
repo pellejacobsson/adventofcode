{
 "cells": [
  {
   "cell_type": "code",
   "execution_count": 1,
   "metadata": {},
   "outputs": [],
   "source": [
    "from collections import deque"
   ]
  },
  {
   "cell_type": "code",
   "execution_count": 13,
   "metadata": {},
   "outputs": [],
   "source": [
    "def read_input(filename):\n",
    "    with open(filename, 'r') as f:\n",
    "        return [[c for c in s.strip()] for s in f.readlines()]\n",
    "    \n",
    "def find_numbers(grid):\n",
    "    numbers = []\n",
    "    for i in range(len(grid)):\n",
    "        for j in range(len(grid[i])):\n",
    "            c = grid[i][j]\n",
    "            if c == '0':\n",
    "                start = (i, j)\n",
    "            elif c in '123456789':\n",
    "                numbers.append(c)\n",
    "    return start, set(numbers)\n",
    "\n",
    "def get_adjacent(grid, v, v_found, n_rows, n_cols):\n",
    "    adj = []\n",
    "    for di, dj in [(-1, 0), (1, 0), (0, -1), (0, 1)]:\n",
    "        i, j = v[0] + di, v[1] + dj\n",
    "        if i < 0 or i >= n_rows or j < 0 or j >= n_cols:\n",
    "            continue\n",
    "        if grid[i][j] in '123456789':\n",
    "            v_found_new = set(v_found)\n",
    "            v_found_new.add(grid[i][j])\n",
    "            adj.append(((i, j), frozenset(v_found_new)))\n",
    "        elif grid[i][j] in '.0':\n",
    "            adj.append(((i, j), v_found))\n",
    "    return adj\n",
    "        \n",
    "def bfs(grid, start, numbers, part2=False):\n",
    "    n_rows = len(grid)\n",
    "    n_cols = len(grid[0])\n",
    "    found = set()\n",
    "    q = deque([(start, frozenset(found))])\n",
    "    explored = set((start, frozenset(found)))\n",
    "    d = {(start, frozenset(found)): 0}\n",
    "    while q:\n",
    "        v, v_found = q.popleft()\n",
    "        if part2:\n",
    "            if v_found == numbers and v == start:\n",
    "                return d[(v, v_found)]\n",
    "        else:\n",
    "            if v_found == numbers:\n",
    "                return d[(v, v_found)]\n",
    "        for w in get_adjacent(grid, v, v_found, n_rows, n_cols):\n",
    "            if w not in explored:\n",
    "                explored.add(w)\n",
    "                q.append(w)\n",
    "                d[w] = d[(v, v_found)] + 1\n",
    "\n",
    "def runit(filename):\n",
    "    grid = read_input(filename)\n",
    "    start, numbers = find_numbers(grid)\n",
    "    steps = bfs(grid, start, numbers)\n",
    "    print(f'Part 1: {steps}')\n",
    "    steps = bfs(grid, start, numbers, part2=True)\n",
    "    print(f'Part 2: {steps}')"
   ]
  },
  {
   "cell_type": "code",
   "execution_count": 14,
   "metadata": {},
   "outputs": [
    {
     "name": "stdout",
     "output_type": "stream",
     "text": [
      "Part 1: 500\n",
      "Part 2: 748\n"
     ]
    }
   ],
   "source": [
    "runit('24_input.txt')"
   ]
  }
 ],
 "metadata": {
  "kernelspec": {
   "display_name": "ds-base-311",
   "language": "python",
   "name": "python3"
  },
  "language_info": {
   "codemirror_mode": {
    "name": "ipython",
    "version": 3
   },
   "file_extension": ".py",
   "mimetype": "text/x-python",
   "name": "python",
   "nbconvert_exporter": "python",
   "pygments_lexer": "ipython3",
   "version": "3.11.3"
  },
  "orig_nbformat": 4
 },
 "nbformat": 4,
 "nbformat_minor": 2
}
