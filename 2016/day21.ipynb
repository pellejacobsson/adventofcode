{
 "cells": [
  {
   "cell_type": "code",
   "execution_count": 23,
   "metadata": {},
   "outputs": [],
   "source": [
    "from collections import deque\n",
    "import re"
   ]
  },
  {
   "cell_type": "code",
   "execution_count": 108,
   "metadata": {},
   "outputs": [],
   "source": [
    "def read_input(filename):\n",
    "    with open(filename, 'r') as f:\n",
    "        lines = [l.strip() for l in f.readlines()]\n",
    "    return lines\n",
    "\n",
    "def swap1(text, p1, p2):\n",
    "    p1 = int(p1)\n",
    "    p2 = int(p2)\n",
    "    text[p1], text[p2] = text[p2], text[p1]\n",
    "    return text\n",
    "\n",
    "def swap2(text, l1, l2):\n",
    "    p1 = text.index(l1)\n",
    "    p2 = text.index(l2)\n",
    "    text[p1], text[p2] = text[p2], text[p1]\n",
    "    return text\n",
    "\n",
    "def rot1(text, dir, n):\n",
    "    n = int(n)\n",
    "    n = n if dir == 'right' else -n\n",
    "    text = deque(text)\n",
    "    text.rotate(n)\n",
    "    return list(text)\n",
    "\n",
    "def rot2(text, l):\n",
    "    p = text.index(l)\n",
    "    n = 1 + p\n",
    "    if p >= 4:\n",
    "        n += 1\n",
    "    text = deque(text)\n",
    "    text.rotate(n)\n",
    "    return list(text)\n",
    "\n",
    "def rev(text, p1, p2):\n",
    "    p1 = int(p1)\n",
    "    p2 = int(p2)\n",
    "    text = text[:p1] + text[p1:p2+1][::-1] + text[p2+1:]\n",
    "    return text\n",
    "\n",
    "def mov(text, p1, p2):\n",
    "    p1 = int(p1)\n",
    "    p2 = int(p2)\n",
    "    l = text[p1]\n",
    "    del text[p1]\n",
    "    text.insert(p2, l)\n",
    "    return text\n",
    "\n",
    "def scramble(text, filename):\n",
    "    patterns = [\n",
    "        r'swap position (\\d+) with position (\\d+)',\n",
    "        r'swap letter (\\w+) with letter (\\w+)',\n",
    "        r'rotate (\\w+) (\\d+) steps?',\n",
    "        r'rotate based on position of letter (\\w+)',\n",
    "        r'reverse positions (\\d+) through (\\d+)',\n",
    "        r'move position (\\d+) to position (\\d+)'\n",
    "    ]\n",
    "    funs = [swap1, swap2, rot1, rot2, rev, mov]\n",
    "    text = list(text)\n",
    "    lines = read_input(filename)\n",
    "    for line in lines:\n",
    "        for pattern, fun in zip(patterns, funs):\n",
    "            m = re.match(pattern, line)\n",
    "            if m is not None:\n",
    "                args = m.groups()\n",
    "                text = fun(text, *args)\n",
    "                break\n",
    "    return text\n",
    "\n",
    "def unscramble(text, filename):\n",
    "    patterns = [\n",
    "        r'swap position (\\d+) with position (\\d+)',\n",
    "        r'swap letter (\\w+) with letter (\\w+)',\n",
    "        r'rotate (\\w+) (\\d+) steps?',\n",
    "        r'rotate based on position of letter (\\w+)',\n",
    "        r'reverse positions (\\d+) through (\\d+)',\n",
    "        r'move position (\\d+) to position (\\d+)'\n",
    "    ]\n",
    "    funs = [swap1, swap2, rot1, rot2, rev, mov]\n",
    "    n2i = {i + 1 if i < 4 else i + 2: (2 * i + 1) % 8 if i < 4 else (2 * i + 2) % 8 for i in range(8)}\n",
    "    i2n = {v: k for (k, v) in n2i.items()}\n",
    "    text = list(text)\n",
    "    lines = read_input(filename)\n",
    "    lines = lines[::-1]\n",
    "    for line in lines:\n",
    "        for n in range(6):\n",
    "            m = re.match(patterns[n], line)\n",
    "            if m is not None:\n",
    "                args = list(m.groups())\n",
    "                if n in [0, 1, 5]:\n",
    "                    args = args[::-1]\n",
    "                    text = funs[n](text, *args)\n",
    "                elif n == 2:\n",
    "                    args[0] = 'left' if args[0] == 'right' else 'right'\n",
    "                    text = funs[n](text, *args)\n",
    "                elif n == 3:\n",
    "                    i = text.index(args[0])\n",
    "                    n = i2n[i]\n",
    "                    text = deque(text)\n",
    "                    text.rotate(-n)\n",
    "                    text = list(text)\n",
    "                elif n == 4:\n",
    "                    text = funs[n](text, *args)\n",
    "                else:\n",
    "                    print('Wrong n!')\n",
    "    return text"
   ]
  },
  {
   "cell_type": "code",
   "execution_count": 113,
   "metadata": {},
   "outputs": [
    {
     "name": "stdout",
     "output_type": "stream",
     "text": [
      "Part 1: dgfaehcb\n"
     ]
    }
   ],
   "source": [
    "text = 'abcdefgh'\n",
    "text = scramble(text, '21_input.txt')\n",
    "print(f\"Part 1: {''.join(text)}\")"
   ]
  },
  {
   "cell_type": "code",
   "execution_count": 114,
   "metadata": {},
   "outputs": [
    {
     "name": "stdout",
     "output_type": "stream",
     "text": [
      "Part 2: fdhgacbe\n"
     ]
    }
   ],
   "source": [
    "text = 'fbgdceah'\n",
    "text = unscramble(text, '21_input.txt')\n",
    "print(f\"Part 2: {''.join(text)}\")"
   ]
  }
 ],
 "metadata": {
  "kernelspec": {
   "display_name": "ds-base-311",
   "language": "python",
   "name": "python3"
  },
  "language_info": {
   "codemirror_mode": {
    "name": "ipython",
    "version": 3
   },
   "file_extension": ".py",
   "mimetype": "text/x-python",
   "name": "python",
   "nbconvert_exporter": "python",
   "pygments_lexer": "ipython3",
   "version": "3.11.0"
  },
  "orig_nbformat": 4
 },
 "nbformat": 4,
 "nbformat_minor": 2
}
