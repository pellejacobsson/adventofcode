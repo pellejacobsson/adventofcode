{
 "cells": [
  {
   "cell_type": "code",
   "execution_count": 1,
   "metadata": {},
   "outputs": [],
   "source": [
    "from hashlib import md5"
   ]
  },
  {
   "cell_type": "code",
   "execution_count": 2,
   "metadata": {},
   "outputs": [],
   "source": [
    "def get_adjacent(v, passcode):\n",
    "    (x, y), trace = v\n",
    "    doors = md5((passcode + trace).encode()).hexdigest()[:4]\n",
    "    dirs = ['U', 'D', 'L', 'R']\n",
    "    dxy = [(0, -1), (0, 1), (-1, 0), (1, 0)]\n",
    "    adj = []\n",
    "    for (door, dir, (dx, dy)) in zip(doors, dirs, dxy):\n",
    "        if door in 'bcdef' and 0 <= x + dx <= 3 and 0 <= y + dy <= 3:\n",
    "            adj.append(((x + dx, y + dy), trace + dir))\n",
    "    return adj\n",
    "\n",
    "def bfs(start, goal, passcode):\n",
    "    q = []\n",
    "    q.append((start, ''))\n",
    "    while q:\n",
    "        v = q.pop(0)\n",
    "        if v[0] == goal:\n",
    "            return v[1]\n",
    "        for w in get_adjacent(v, passcode):\n",
    "            q.append(w)\n",
    "    return None\n",
    "\n",
    "def bfs2(start, goal, passcode):\n",
    "    q = []\n",
    "    q.append((start, ''))\n",
    "    max_path = 0\n",
    "    while q:\n",
    "        v = q.pop(0)\n",
    "        if v[0] == goal:\n",
    "            if len(v[1]) > max_path:\n",
    "                max_path = len(v[1])\n",
    "            continue\n",
    "        for w in get_adjacent(v, passcode):\n",
    "            q.append(w)\n",
    "    return max_path"
   ]
  },
  {
   "cell_type": "code",
   "execution_count": 3,
   "metadata": {},
   "outputs": [],
   "source": [
    "start = (0, 0)\n",
    "goal = (3, 3)"
   ]
  },
  {
   "cell_type": "code",
   "execution_count": 4,
   "metadata": {},
   "outputs": [
    {
     "data": {
      "text/plain": [
       "'DDRRUDLRRD'"
      ]
     },
     "execution_count": 4,
     "metadata": {},
     "output_type": "execute_result"
    }
   ],
   "source": [
    "bfs(start, goal, 'pslxynzg')"
   ]
  },
  {
   "cell_type": "code",
   "execution_count": 5,
   "metadata": {},
   "outputs": [
    {
     "data": {
      "text/plain": [
       "488"
      ]
     },
     "execution_count": 5,
     "metadata": {},
     "output_type": "execute_result"
    }
   ],
   "source": [
    "bfs2(start, goal, 'pslxynzg')"
   ]
  }
 ],
 "metadata": {
  "kernelspec": {
   "display_name": "ds-base-311",
   "language": "python",
   "name": "python3"
  },
  "language_info": {
   "codemirror_mode": {
    "name": "ipython",
    "version": 3
   },
   "file_extension": ".py",
   "mimetype": "text/x-python",
   "name": "python",
   "nbconvert_exporter": "python",
   "pygments_lexer": "ipython3",
   "version": "3.11.0"
  },
  "orig_nbformat": 4
 },
 "nbformat": 4,
 "nbformat_minor": 2
}
