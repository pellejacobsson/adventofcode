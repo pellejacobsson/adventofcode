{
 "cells": [
  {
   "cell_type": "code",
   "execution_count": 1,
   "metadata": {},
   "outputs": [],
   "source": [
    "import re\n",
    "from collections import Counter"
   ]
  },
  {
   "cell_type": "code",
   "execution_count": 2,
   "metadata": {},
   "outputs": [],
   "source": [
    "def read_input(filename):\n",
    "    with open(filename, 'r') as f:\n",
    "        rooms = [l.strip() for l in f.readlines()]\n",
    "    return rooms"
   ]
  },
  {
   "cell_type": "code",
   "execution_count": 3,
   "metadata": {},
   "outputs": [],
   "source": [
    "def real_room_ids(rooms):\n",
    "    ex_name = r'([a-z]+)-'\n",
    "    ex_id = r'-([0-9]+)\\['\n",
    "    ex_checksum = r'\\[([a-z]+)\\]'\n",
    "    ids = []\n",
    "    for room in rooms:\n",
    "        name = ''.join(re.findall(ex_name, room))\n",
    "        id = int(re.findall(ex_id, room)[0])\n",
    "        checksum = re.findall(ex_checksum, room)[0]\n",
    "        real_checksum = ''.join([s[0] for s in sorted(sorted(Counter(name).items(), key=lambda x: x[0]), \n",
    "            key=lambda x: x[1], reverse=True)[:5]])\n",
    "        if checksum == real_checksum:\n",
    "            ids.append(id)\n",
    "    return ids"
   ]
  },
  {
   "cell_type": "code",
   "execution_count": 4,
   "metadata": {},
   "outputs": [
    {
     "name": "stdout",
     "output_type": "stream",
     "text": [
      "Part 1: 278221\n"
     ]
    }
   ],
   "source": [
    "rooms = read_input('04_input.txt')\n",
    "ids = real_room_ids(rooms)\n",
    "print(f'Part 1: {sum(ids)}')"
   ]
  },
  {
   "cell_type": "code",
   "execution_count": 5,
   "metadata": {},
   "outputs": [],
   "source": [
    "def decrypt(rooms):\n",
    "    ex_name = r'([a-z]+)-'\n",
    "    ex_id = r'-([0-9]+)\\['\n",
    "    real_name = []\n",
    "    for room in rooms:\n",
    "        name = '-'.join(re.findall(ex_name, room))\n",
    "        id = int(re.findall(ex_id, room)[0])\n",
    "        d = ''\n",
    "        for c in name:\n",
    "            if c == '-':\n",
    "                d += ' '\n",
    "            else:\n",
    "                d += chr((ord(c) - ord('a') + id) % 26 + ord('a'))\n",
    "        real_name.append((id, d))\n",
    "    return real_name"
   ]
  },
  {
   "cell_type": "code",
   "execution_count": 6,
   "metadata": {},
   "outputs": [],
   "source": [
    "real_names = decrypt(rooms)"
   ]
  },
  {
   "cell_type": "code",
   "execution_count": 7,
   "metadata": {},
   "outputs": [
    {
     "name": "stdout",
     "output_type": "stream",
     "text": [
      "267 northpole object storage\n"
     ]
    }
   ],
   "source": [
    "for id, rn in real_names:\n",
    "    if 'north' in rn:\n",
    "        print(id, rn)"
   ]
  }
 ],
 "metadata": {
  "kernelspec": {
   "display_name": "Python 3.10.6 ('ds')",
   "language": "python",
   "name": "python3"
  },
  "language_info": {
   "codemirror_mode": {
    "name": "ipython",
    "version": 3
   },
   "file_extension": ".py",
   "mimetype": "text/x-python",
   "name": "python",
   "nbconvert_exporter": "python",
   "pygments_lexer": "ipython3",
   "version": "3.10.6"
  },
  "orig_nbformat": 4,
  "vscode": {
   "interpreter": {
    "hash": "a7861172d2007d4541fab3e4eefe3a41dabba6fa735ecd87066a89563db3fd59"
   }
  }
 },
 "nbformat": 4,
 "nbformat_minor": 2
}
