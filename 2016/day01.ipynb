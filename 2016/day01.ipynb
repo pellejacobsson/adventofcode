{
 "cells": [
  {
   "cell_type": "code",
   "execution_count": 15,
   "metadata": {},
   "outputs": [],
   "source": [
    "def read_input(filename):\n",
    "    with open(filename, 'r') as f:\n",
    "        input = [(s[0], int(s[1:])) for s in f.readline().split(\", \")]\n",
    "    return input"
   ]
  },
  {
   "cell_type": "code",
   "execution_count": 16,
   "metadata": {},
   "outputs": [],
   "source": [
    "class Grid:\n",
    "    def __init__(self, x=0, y=0, dir='N', part=1):\n",
    "        self.x = x\n",
    "        self.y = y\n",
    "        self.dir = dir\n",
    "        self.part = part\n",
    "        self.visited = set()\n",
    "        self.back = False\n",
    "\n",
    "    def rotate(self, rot):\n",
    "        if rot == 'R':\n",
    "            if self.dir == 'N':\n",
    "                self.dir = 'E'\n",
    "            elif self.dir == 'E':\n",
    "                self.dir = 'S'\n",
    "            elif self.dir == 'S':\n",
    "                self.dir = 'W'\n",
    "            elif self.dir == 'W':\n",
    "                self.dir = 'N'\n",
    "        elif rot == 'L':\n",
    "            if self.dir == 'N':\n",
    "                self.dir = 'W'\n",
    "            elif self.dir == 'E':\n",
    "                self.dir = 'N'\n",
    "            elif self.dir == 'S':\n",
    "                self.dir = 'E'\n",
    "            elif self.dir == 'W':\n",
    "                self.dir = 'S'\n",
    "\n",
    "    def step(self, steps):\n",
    "        if self.dir == 'N':\n",
    "            for dy in range(1, steps+1):\n",
    "                yn = self.y + dy\n",
    "                xn = self.x\n",
    "                if self.part == 2 and (xn, yn) in self.visited:\n",
    "                    self.back = True\n",
    "                    break\n",
    "                self.visited.add((xn, yn))\n",
    "        elif self.dir == 'E':\n",
    "            for dx in range(1, steps+1):\n",
    "                yn = self.y\n",
    "                xn = self.x + dx\n",
    "                if self.part == 2 and (xn, yn) in self.visited:\n",
    "                    self.back = True\n",
    "                    break\n",
    "                self.visited.add((xn, yn))\n",
    "        elif self.dir == 'S':\n",
    "            for dy in range(1, steps+1):\n",
    "                yn = self.y - dy\n",
    "                xn = self.x\n",
    "                if self.part == 2 and (xn, yn) in self.visited:\n",
    "                    self.back = True\n",
    "                    break\n",
    "                self.visited.add((xn, yn))\n",
    "        elif self.dir == 'W':\n",
    "            for dx in range(1, steps+1):\n",
    "                yn = self.y\n",
    "                xn = self.x - dx\n",
    "                if self.part == 2 and (xn, yn) in self.visited:\n",
    "                    self.back = True\n",
    "                    break\n",
    "                self.visited.add((xn, yn))\n",
    "        self.x = xn\n",
    "        self.y = yn\n",
    "\n",
    "    def move(self, input):\n",
    "        for s in input:\n",
    "            rot = s[0]\n",
    "            d = s[1]\n",
    "            self.rotate(rot)\n",
    "            self.step(d)\n",
    "            if self.part == 2 and self.back:\n",
    "                break"
   ]
  },
  {
   "cell_type": "code",
   "execution_count": 17,
   "metadata": {},
   "outputs": [],
   "source": [
    "def runit(filename):\n",
    "    input = read_input(filename)\n",
    "    g = Grid()\n",
    "    g.move(input)\n",
    "    dist1 = abs(g.x) + abs(g.y)\n",
    "    g = Grid(part=2)\n",
    "    g.move(input)\n",
    "    dist2 = abs(g.x) + abs(g.y)\n",
    "    print(f\"Part 1: {dist1}\")\n",
    "    print(f\"Part 2: {dist2}\")\n"
   ]
  },
  {
   "cell_type": "code",
   "execution_count": 18,
   "metadata": {},
   "outputs": [
    {
     "name": "stdout",
     "output_type": "stream",
     "text": [
      "Part 1: 243\n",
      "Part 2: 142\n"
     ]
    }
   ],
   "source": [
    "runit(\"01_input.txt\")"
   ]
  },
  {
   "cell_type": "code",
   "execution_count": null,
   "metadata": {},
   "outputs": [],
   "source": []
  }
 ],
 "metadata": {
  "kernelspec": {
   "display_name": "ds-base-311",
   "language": "python",
   "name": "python3"
  },
  "language_info": {
   "codemirror_mode": {
    "name": "ipython",
    "version": 3
   },
   "file_extension": ".py",
   "mimetype": "text/x-python",
   "name": "python",
   "nbconvert_exporter": "python",
   "pygments_lexer": "ipython3",
   "version": "3.11.4"
  },
  "orig_nbformat": 4
 },
 "nbformat": 4,
 "nbformat_minor": 2
}
