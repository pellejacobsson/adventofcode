{
 "cells": [
  {
   "cell_type": "code",
   "execution_count": 1,
   "metadata": {},
   "outputs": [],
   "source": [
    "def generate_data(a, length):\n",
    "    while len(a) < length:\n",
    "        b = int(a[::-1], 2) ^ int('1' * len(a), 2)\n",
    "        a = a + '0' + format(b, f'0{len(a)}b')\n",
    "    return a[:length]\n",
    "\n",
    "def checksum(s):\n",
    "    while len(s) % 2 == 0:\n",
    "        cs = []\n",
    "        for s1, s2 in zip(s[:-1:2], s[1::2]):\n",
    "            cs.append('1' if s1 == s2 else '0')\n",
    "        s = cs\n",
    "    return ''.join(s)"
   ]
  },
  {
   "cell_type": "code",
   "execution_count": 2,
   "metadata": {},
   "outputs": [
    {
     "name": "stdout",
     "output_type": "stream",
     "text": [
      "Part 1: 11100110111101110\n",
      "Part 2: 10001101010000101\n"
     ]
    }
   ],
   "source": [
    "s_input = '10111100110001111'\n",
    "s = generate_data(s_input, 272)\n",
    "cs = checksum(s)\n",
    "print(f'Part 1: {cs}')\n",
    "s = generate_data(s_input, 35651584)\n",
    "cs = checksum(s)\n",
    "print(f'Part 2: {cs}')"
   ]
  }
 ],
 "metadata": {
  "kernelspec": {
   "display_name": "ds-base-311",
   "language": "python",
   "name": "python3"
  },
  "language_info": {
   "codemirror_mode": {
    "name": "ipython",
    "version": 3
   },
   "file_extension": ".py",
   "mimetype": "text/x-python",
   "name": "python",
   "nbconvert_exporter": "python",
   "pygments_lexer": "ipython3",
   "version": "3.11.0"
  },
  "orig_nbformat": 4
 },
 "nbformat": 4,
 "nbformat_minor": 2
}
