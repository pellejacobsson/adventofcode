{
 "cells": [
  {
   "cell_type": "code",
   "execution_count": 12,
   "metadata": {},
   "outputs": [],
   "source": [
    "import re\n",
    "from collections import Counter"
   ]
  },
  {
   "cell_type": "code",
   "execution_count": 3,
   "metadata": {},
   "outputs": [],
   "source": [
    "def read_input(filename):\n",
    "    nodes = {}\n",
    "    with open(filename, 'r') as f:\n",
    "        next(f)\n",
    "        next(f)\n",
    "        for line in f:\n",
    "            tmp = [int(s) for s in re.findall(r'\\d+', line)]\n",
    "            nodes[tmp[0], tmp[1]] = (tmp[3], tmp[4])\n",
    "    return nodes\n",
    "\n",
    "def runit1(filename):\n",
    "    nodes = read_input(filename)\n",
    "    count = 0\n",
    "    for node1, (used1, _) in nodes.items():\n",
    "        for node2, (_, avail2) in nodes.items():\n",
    "            if node1 == node2:\n",
    "                continue\n",
    "            if used1 > 0 and used1 <= avail2:\n",
    "                count += 1\n",
    "    return count"
   ]
  },
  {
   "cell_type": "code",
   "execution_count": 4,
   "metadata": {},
   "outputs": [
    {
     "data": {
      "text/plain": [
       "952"
      ]
     },
     "execution_count": 4,
     "metadata": {},
     "output_type": "execute_result"
    }
   ],
   "source": [
    "runit1('22_input.txt')"
   ]
  },
  {
   "cell_type": "code",
   "execution_count": 5,
   "metadata": {},
   "outputs": [],
   "source": [
    "nodes = read_input('22_input.txt')"
   ]
  },
  {
   "cell_type": "code",
   "execution_count": 13,
   "metadata": {},
   "outputs": [],
   "source": [
    "c = Counter([x[0] for x in nodes.values()])"
   ]
  },
  {
   "cell_type": "code",
   "execution_count": 15,
   "metadata": {},
   "outputs": [
    {
     "data": {
      "text/plain": [
       "dict_keys([69, 66, 72, 73, 64, 68, 65, 70, 67, 71, 499, 490, 0, 492, 493, 498, 494])"
      ]
     },
     "execution_count": 15,
     "metadata": {},
     "output_type": "execute_result"
    }
   ],
   "source": [
    "c.keys()"
   ]
  },
  {
   "cell_type": "code",
   "execution_count": 21,
   "metadata": {},
   "outputs": [
    {
     "name": "stdout",
     "output_type": "stream",
     "text": [
      "H..............................G\n",
      "................................\n",
      "................................\n",
      "................................\n",
      "................................\n",
      "................................\n",
      ".........................#######\n",
      "................................\n",
      "................................\n",
      "................................\n",
      "................................\n",
      "................................\n",
      "................................\n",
      "................................\n",
      "................................\n",
      "................................\n",
      "................................\n",
      "................................\n",
      "................................\n",
      "................................\n",
      "................................\n",
      "................................\n",
      ".........................._.....\n",
      "................................\n",
      "................................\n",
      "................................\n",
      "................................\n",
      "................................\n",
      "................................\n",
      "................................\n"
     ]
    }
   ],
   "source": [
    "for y in range(30):\n",
    "    x_map = []\n",
    "    for x in range(32):\n",
    "        used = nodes[x, y][0]\n",
    "        if x == 0 and y == 0:\n",
    "            x_map.append('H')\n",
    "        elif x == 31 and y == 0:\n",
    "            x_map.append('G')\n",
    "        elif used >= 490:\n",
    "            x_map.append('#')\n",
    "        elif used == 0:\n",
    "            x_map.append('_')\n",
    "        else:\n",
    "            x_map.append('.')\n",
    "    print(''.join(x_map))\n"
   ]
  },
  {
   "cell_type": "code",
   "execution_count": 22,
   "metadata": {},
   "outputs": [
    {
     "data": {
      "text/plain": [
       "181"
      ]
     },
     "execution_count": 22,
     "metadata": {},
     "output_type": "execute_result"
    }
   ],
   "source": [
    "30 + 1 + 30 * 5"
   ]
  }
 ],
 "metadata": {
  "kernelspec": {
   "display_name": "ds-base-311",
   "language": "python",
   "name": "python3"
  },
  "language_info": {
   "codemirror_mode": {
    "name": "ipython",
    "version": 3
   },
   "file_extension": ".py",
   "mimetype": "text/x-python",
   "name": "python",
   "nbconvert_exporter": "python",
   "pygments_lexer": "ipython3",
   "version": "3.11.3"
  },
  "orig_nbformat": 4
 },
 "nbformat": 4,
 "nbformat_minor": 2
}
