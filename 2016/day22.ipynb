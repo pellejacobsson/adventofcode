{
 "cells": [
  {
   "cell_type": "code",
   "execution_count": 1,
   "metadata": {},
   "outputs": [],
   "source": [
    "import re"
   ]
  },
  {
   "cell_type": "code",
   "execution_count": 11,
   "metadata": {},
   "outputs": [],
   "source": [
    "def read_input(filename):\n",
    "    nodes = {}\n",
    "    with open(filename, 'r') as f:\n",
    "        next(f)\n",
    "        next(f)\n",
    "        for line in f:\n",
    "            tmp = [int(s) for s in re.findall(r'\\d+', line)]\n",
    "            nodes[tmp[0], tmp[1]] = [tmp[3], tmp[4]]\n",
    "    return nodes\n",
    "\n",
    "def runit1(filename):\n",
    "    nodes = read_input(filename)\n",
    "    count = 0\n",
    "    for node1, (used1, _) in nodes.items():\n",
    "        for node2, (_, avail2) in nodes.items():\n",
    "            if node1 == node2:\n",
    "                continue\n",
    "            if used1 > 0 and used1 <= avail2:\n",
    "                count += 1\n",
    "    return count\n",
    "\n",
    "def find_adjacent(nodes, x, y):\n",
    "    adj = []\n",
    "    used, avail = nodes[x, y]\n",
    "    for dx, dy in [(-1, 0), (1, 0), (0, -1), (0, 1)]:\n",
    "        if x + dx < 0 or x + dx > 31 or y + dy < 0 or y + dy > 29:\n",
    "            continue\n",
    "        used_adj, avail_adj = nodes[x + dx, y + dy]\n",
    "        if used <= avail_adj:\n",
    "            nodes_tmp = nodes.copy()\n",
    "            nodes_tmp[x + dx, y + dy] = [used_adj + used, avail_adj - used]\n",
    "            nodes_tmp[x, y] = [0, avail + used]\n",
    "            adj.append(nodes_tmp)\n",
    "    return adj\n",
    "\n",
    "def bfs(start)\n"
   ]
  },
  {
   "cell_type": "code",
   "execution_count": 24,
   "metadata": {},
   "outputs": [
    {
     "data": {
      "text/plain": [
       "952"
      ]
     },
     "execution_count": 24,
     "metadata": {},
     "output_type": "execute_result"
    }
   ],
   "source": [
    "runit1('22_input.txt')"
   ]
  },
  {
   "cell_type": "code",
   "execution_count": 21,
   "metadata": {},
   "outputs": [],
   "source": [
    "nodes = read_input('22_input.txt')"
   ]
  },
  {
   "cell_type": "code",
   "execution_count": 23,
   "metadata": {},
   "outputs": [],
   "source": [
    "nodes['goal'] = [4, 4]"
   ]
  },
  {
   "cell_type": "code",
   "execution_count": null,
   "metadata": {},
   "outputs": [],
   "source": []
  }
 ],
 "metadata": {
  "kernelspec": {
   "display_name": "ds-base-311",
   "language": "python",
   "name": "python3"
  },
  "language_info": {
   "codemirror_mode": {
    "name": "ipython",
    "version": 3
   },
   "file_extension": ".py",
   "mimetype": "text/x-python",
   "name": "python",
   "nbconvert_exporter": "python",
   "pygments_lexer": "ipython3",
   "version": "3.11.3"
  },
  "orig_nbformat": 4
 },
 "nbformat": 4,
 "nbformat_minor": 2
}
