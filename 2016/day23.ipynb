{
 "cells": [
  {
   "cell_type": "code",
   "execution_count": 1,
   "metadata": {},
   "outputs": [],
   "source": [
    "class Assembunny:\n",
    "    def __init__(self, part2=False):\n",
    "        self.reg = {'b': 0, 'c': 0, 'd': 0}\n",
    "        self.reg['a'] = 12 if part2 else 7\n",
    "\n",
    "    def read_instructions(self, filename):\n",
    "        with open(filename, 'r') as f:\n",
    "            self.instructions = [[x if x.isalpha() else int(x) for x in l.strip().split(' ')] for l in f.readlines()]\n",
    "            self.n_instructions = len(self.instructions)\n",
    "\n",
    "    def run(self):\n",
    "        i = 0\n",
    "        while i < len(self.instructions):\n",
    "            instruction = self.instructions[i]\n",
    "            match instruction:\n",
    "                case ['cpy', p1, p2]:\n",
    "                    if isinstance(p2, int):\n",
    "                        i += 1\n",
    "                        continue\n",
    "                    self.reg[p2] = p1 if isinstance(p1, int) else self.reg[p1]\n",
    "                    i += 1\n",
    "                case ['inc', p]:\n",
    "                    if isinstance(p, int):\n",
    "                        i += 1\n",
    "                        continue\n",
    "                    self.reg[p] += 1\n",
    "                    i += 1\n",
    "                case ['dec', p]:\n",
    "                    if isinstance(p, int):\n",
    "                        i += 1\n",
    "                        continue\n",
    "                    self.reg[p] -= 1\n",
    "                    i += 1\n",
    "                case ['jnz', p1, p2]:\n",
    "                    z1 = p1 if isinstance(p1, int) else self.reg[p1]\n",
    "                    z2 = p2 if isinstance(p2, int) else self.reg[p2]\n",
    "                    i += z2 if z1 != 0 else 1\n",
    "                case ['tgl', p]:\n",
    "                    z = p if isinstance(p, int) else self.reg[p]\n",
    "                    if i + z >= self.n_instructions or i + z < 0:\n",
    "                        i += 1\n",
    "                        continue\n",
    "                    match self.instructions[i + z]:\n",
    "                        case ['inc', _]:\n",
    "                            self.instructions[i + z][0] = 'dec'\n",
    "                        case ['dec' | 'tgl', _]:\n",
    "                            self.instructions[i + z][0] = 'inc'\n",
    "                        case ['jnz', *_]:\n",
    "                            self.instructions[i + z][0] = 'cpy'\n",
    "                        case ['cpy', *_]:\n",
    "                            self.instructions[i + z][0] = 'jnz'\n",
    "                    i += 1\n",
    "                    \n",
    "\n",
    "def runit2(a_reg):\n",
    "    x = 1\n",
    "    for n in range(1, a_reg + 1):\n",
    "        x *= n\n",
    "    x = x + 1 + 91 + 92 * 80\n",
    "    return x"
   ]
  },
  {
   "cell_type": "code",
   "execution_count": 3,
   "metadata": {},
   "outputs": [
    {
     "name": "stdout",
     "output_type": "stream",
     "text": [
      "Part 1: 12492\n",
      "Also part 1: 12492\n"
     ]
    }
   ],
   "source": [
    "ass = Assembunny()\n",
    "ass.read_instructions('23_input.txt')\n",
    "ass.run()\n",
    "print(f\"Part 1: {ass.reg['a']}\")\n",
    "print(f'Also part 1: {runit2(7)}')"
   ]
  },
  {
   "cell_type": "code",
   "execution_count": 4,
   "metadata": {},
   "outputs": [
    {
     "name": "stdout",
     "output_type": "stream",
     "text": [
      "Part 2: 479009052\n"
     ]
    }
   ],
   "source": [
    "print(f'Part 2: {runit2(12)}')"
   ]
  }
 ],
 "metadata": {
  "kernelspec": {
   "display_name": "ds-base-311",
   "language": "python",
   "name": "python3"
  },
  "language_info": {
   "codemirror_mode": {
    "name": "ipython",
    "version": 3
   },
   "file_extension": ".py",
   "mimetype": "text/x-python",
   "name": "python",
   "nbconvert_exporter": "python",
   "pygments_lexer": "ipython3",
   "version": "3.11.3"
  },
  "orig_nbformat": 4
 },
 "nbformat": 4,
 "nbformat_minor": 2
}
