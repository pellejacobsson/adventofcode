{
 "cells": [
  {
   "cell_type": "code",
   "execution_count": 100,
   "metadata": {},
   "outputs": [],
   "source": [
    "from collections import deque\n",
    "import math"
   ]
  },
  {
   "cell_type": "code",
   "execution_count": 143,
   "metadata": {},
   "outputs": [],
   "source": [
    "def runit(n_elfs):\n",
    "    elfs = range(n_elfs)\n",
    "    pre_last = False\n",
    "    while len(elfs) > 1:\n",
    "        new_elfs = elfs[1::2] if pre_last else elfs[::2]\n",
    "        pre_last = new_elfs[-1] == elfs[-1]\n",
    "        elfs = new_elfs\n",
    "    return list(elfs)[0] + 1\n",
    "\n",
    "def runit2(n_elfs):\n",
    "    elfs = deque(range(1, n_elfs + 1))\n",
    "    while len(elfs) > 1:\n",
    "        middle = -(len(elfs) // 2)\n",
    "        elfs.rotate(middle)\n",
    "        elfs.popleft()\n",
    "        if len(elfs) % 2 == 0:\n",
    "            elfs.rotate(len(elfs) // 2 - 1)\n",
    "        else:\n",
    "            elfs.rotate(len(elfs) // 2)\n",
    "    return elfs[0]\n",
    "\n",
    "def runit3(n_elfs):\n",
    "    m = math.floor(math.log(n_elfs, 3))\n",
    "    if n_elfs == 3**m:\n",
    "        return n_elfs\n",
    "    else:\n",
    "        return min(3**m, n_elfs - 3**m) + 2 * max(0, (n_elfs - 2 * 3**m))"
   ]
  },
  {
   "cell_type": "code",
   "execution_count": 142,
   "metadata": {},
   "outputs": [
    {
     "name": "stdout",
     "output_type": "stream",
     "text": [
      "Part 1: 1842613\n",
      "Part 2: 1424135\n"
     ]
    }
   ],
   "source": [
    "n_elfs = 3018458\n",
    "print(f'Part 1: {runit(n_elfs)}')\n",
    "print(f'Part 2: {runit3(n_elfs)}')"
   ]
  },
  {
   "cell_type": "code",
   "execution_count": null,
   "metadata": {},
   "outputs": [],
   "source": []
  }
 ],
 "metadata": {
  "kernelspec": {
   "display_name": "ds-base-311",
   "language": "python",
   "name": "python3"
  },
  "language_info": {
   "codemirror_mode": {
    "name": "ipython",
    "version": 3
   },
   "file_extension": ".py",
   "mimetype": "text/x-python",
   "name": "python",
   "nbconvert_exporter": "python",
   "pygments_lexer": "ipython3",
   "version": "3.11.0"
  },
  "orig_nbformat": 4
 },
 "nbformat": 4,
 "nbformat_minor": 2
}
