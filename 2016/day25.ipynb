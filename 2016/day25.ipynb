{
 "cells": [
  {
   "cell_type": "code",
   "execution_count": 1,
   "metadata": {},
   "outputs": [],
   "source": [
    "class Assembunny:\n",
    "    def __init__(self, a=0):\n",
    "        self.reg = {'b': 0, 'c': 0, 'd': 0}\n",
    "        self.reg['a'] = a\n",
    "        self.out = []\n",
    "        self.clock = False\n",
    "\n",
    "    def read_instructions(self, filename):\n",
    "        with open(filename, 'r') as f:\n",
    "            self.instructions = [[x if x.isalpha() else int(x) for x in l.strip().split(' ')] for l in f.readlines()]\n",
    "            # Skip last instruction to skip infinte loop\n",
    "            self.instructions = self.instructions[:-1]\n",
    "            self.n_instructions = len(self.instructions)\n",
    "\n",
    "    def run(self):\n",
    "        i = 0\n",
    "        while i < len(self.instructions):\n",
    "            instruction = self.instructions[i]\n",
    "            match instruction:\n",
    "                case ['cpy', p1, p2]:\n",
    "                    if isinstance(p2, int):\n",
    "                        i += 1\n",
    "                        continue\n",
    "                    self.reg[p2] = p1 if isinstance(p1, int) else self.reg[p1]\n",
    "                    i += 1\n",
    "                case ['inc', p]:\n",
    "                    if isinstance(p, int):\n",
    "                        i += 1\n",
    "                        continue\n",
    "                    self.reg[p] += 1\n",
    "                    i += 1\n",
    "                case ['dec', p]:\n",
    "                    if isinstance(p, int):\n",
    "                        i += 1\n",
    "                        continue\n",
    "                    self.reg[p] -= 1\n",
    "                    i += 1\n",
    "                case ['jnz', p1, p2]:\n",
    "                    z1 = p1 if isinstance(p1, int) else self.reg[p1]\n",
    "                    z2 = p2 if isinstance(p2, int) else self.reg[p2]\n",
    "                    i += z2 if z1 != 0 else 1\n",
    "                case ['tgl', p]:\n",
    "                    z = p if isinstance(p, int) else self.reg[p]\n",
    "                    if i + z >= self.n_instructions or i + z < 0:\n",
    "                        i += 1\n",
    "                        continue\n",
    "                    match self.instructions[i + z]:\n",
    "                        case ['inc', _]:\n",
    "                            self.instructions[i + z][0] = 'dec'\n",
    "                        case ['dec' | 'tgl', _]:\n",
    "                            self.instructions[i + z][0] = 'inc'\n",
    "                        case ['jnz', *_]:\n",
    "                            self.instructions[i + z][0] = 'cpy'\n",
    "                        case ['cpy', *_]:\n",
    "                            self.instructions[i + z][0] = 'jnz'\n",
    "                    i += 1\n",
    "                case ['out', p]:\n",
    "                    z = p if isinstance(p, int) else self.reg[p]\n",
    "                    self.out.append(z)\n",
    "                    i += 1\n",
    "            "
   ]
  },
  {
   "cell_type": "code",
   "execution_count": 3,
   "metadata": {},
   "outputs": [
    {
     "name": "stdout",
     "output_type": "stream",
     "text": [
      "a=198\n"
     ]
    }
   ],
   "source": [
    "for a in range(1, 10000):\n",
    "    ass = Assembunny(a=a)\n",
    "    ass.read_instructions('25_input.txt')\n",
    "    ass.run()\n",
    "    if len(ass.out) % 2 == 0 and not any([a - b == 0 for (a, b) in zip(ass.out[1:], ass.out[:-1])]):\n",
    "        print(f'{a=}')\n",
    "        break"
   ]
  }
 ],
 "metadata": {
  "kernelspec": {
   "display_name": "ds-base-311",
   "language": "python",
   "name": "python3"
  },
  "language_info": {
   "codemirror_mode": {
    "name": "ipython",
    "version": 3
   },
   "file_extension": ".py",
   "mimetype": "text/x-python",
   "name": "python",
   "nbconvert_exporter": "python",
   "pygments_lexer": "ipython3",
   "version": "3.11.3"
  },
  "orig_nbformat": 4
 },
 "nbformat": 4,
 "nbformat_minor": 2
}
