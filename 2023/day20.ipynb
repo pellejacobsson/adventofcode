{
 "cells": [
  {
   "cell_type": "code",
   "execution_count": 41,
   "metadata": {},
   "outputs": [],
   "source": [
    "from collections import deque\n",
    "import math"
   ]
  },
  {
   "cell_type": "code",
   "execution_count": 8,
   "metadata": {},
   "outputs": [],
   "source": [
    "class Module:\n",
    "    def __init__(self, name, type, outputs):\n",
    "        self.name = name\n",
    "        self.type = type\n",
    "        self.outputs = outputs\n",
    "\n",
    "        if type == \"%\":\n",
    "            self.memory = \"off\"\n",
    "        else:\n",
    "            self.memory = {}\n",
    "    \n",
    "    def __repr__(self):\n",
    "        return f\"name: {self.name}, type: {self.type}, outputs: {', '.join(self.outputs)}, memory: {str(self.memory)}\""
   ]
  },
  {
   "cell_type": "code",
   "execution_count": 34,
   "metadata": {},
   "outputs": [],
   "source": [
    "def read_input(filename):\n",
    "    modules = {}\n",
    "    with open(filename) as f:\n",
    "        for line in f:\n",
    "            left, right = line.strip().split(\" -> \")\n",
    "            outputs = right.split(\", \")\n",
    "            if left == \"broadcaster\":\n",
    "                broadcast_targets = outputs\n",
    "            else:\n",
    "                type = left[0]\n",
    "                name = left[1:]\n",
    "                modules[name] = Module(name, type, outputs)\n",
    "\n",
    "    for name, module in modules.items():\n",
    "        for output in module.outputs:\n",
    "            if output in modules and modules[output].type == \"&\":\n",
    "                modules[output].memory[name] = \"lo\"\n",
    "\n",
    "    return modules, broadcast_targets"
   ]
  },
  {
   "cell_type": "code",
   "execution_count": 35,
   "metadata": {},
   "outputs": [],
   "source": [
    "modules, broadcast_targets = read_input(\"20_input.txt\")\n",
    "lo = hi = 0\n",
    "for _ in range(1000):\n",
    "    lo += 1\n",
    "    q = deque([(\"broadcaster\", x, \"lo\") for x in broadcast_targets])\n",
    "    while q:\n",
    "        origin, target, pulse = q.popleft()\n",
    "        if pulse == \"lo\":\n",
    "            lo += 1\n",
    "        else:\n",
    "            hi += 1\n",
    "        if target not in modules:\n",
    "            continue\n",
    "        module = modules[target]\n",
    "        if module.type == \"%\":\n",
    "            if pulse == \"lo\":\n",
    "                module.memory = \"on\" if module.memory == \"off\" else \"off\"\n",
    "                outgoing = \"hi\" if module.memory == \"on\" else \"lo\"\n",
    "                for x in module.outputs:\n",
    "                    q.append((module.name, x, outgoing))\n",
    "        else:\n",
    "            module.memory[origin] = pulse\n",
    "            outgoing = \"lo\" if all(x == \"hi\" for x in module.memory.values()) else \"hi\"\n",
    "            for x in module.outputs:\n",
    "                q.append((module.name, x, outgoing))"
   ]
  },
  {
   "cell_type": "code",
   "execution_count": 36,
   "metadata": {},
   "outputs": [
    {
     "data": {
      "text/plain": [
       "825896364"
      ]
     },
     "execution_count": 36,
     "metadata": {},
     "output_type": "execute_result"
    }
   ],
   "source": [
    "lo * hi"
   ]
  },
  {
   "cell_type": "code",
   "execution_count": 49,
   "metadata": {},
   "outputs": [],
   "source": [
    "modules, broadcast_targets = read_input(\"20_input.txt\")\n",
    "(feed,) = [name for name, module in modules.items() if \"rx\" in module.outputs]\n",
    "cycle_lengths = {}\n",
    "seen = {name: 0 for name, module in modules.items() if feed in module.outputs}"
   ]
  },
  {
   "cell_type": "code",
   "execution_count": 50,
   "metadata": {},
   "outputs": [],
   "source": [
    "presses = 0\n",
    "enough = False\n",
    "while True:\n",
    "    presses += 1\n",
    "    q = deque([(\"broadcaster\", x, \"lo\") for x in broadcast_targets])\n",
    "    while q:\n",
    "        origin, target, pulse = q.popleft()\n",
    "        if target not in modules:\n",
    "            continue\n",
    "        module = modules[target]\n",
    "\n",
    "        if module.name == feed and pulse == \"hi\":\n",
    "            seen[origin] += 1\n",
    "            if origin not in cycle_lengths:\n",
    "                cycle_lengths[origin] = presses\n",
    "            else:\n",
    "                assert presses == seen[origin] * cycle_lengths[origin]\n",
    "\n",
    "            if all(x > 10 for x in seen.values()):\n",
    "                enough = True\n",
    "                break\n",
    "\n",
    "        if module.type == \"%\":\n",
    "            if pulse == \"lo\":\n",
    "                module.memory = \"on\" if module.memory == \"off\" else \"off\"\n",
    "                outgoing = \"hi\" if module.memory == \"on\" else \"lo\"\n",
    "                for x in module.outputs:\n",
    "                    q.append((module.name, x, outgoing))\n",
    "        else:\n",
    "            module.memory[origin] = pulse\n",
    "            outgoing = \"lo\" if all(x == \"hi\" for x in module.memory.values()) else \"hi\"\n",
    "            for x in module.outputs:\n",
    "                q.append((module.name, x, outgoing))\n",
    "    if enough:\n",
    "        break"
   ]
  },
  {
   "cell_type": "code",
   "execution_count": 54,
   "metadata": {},
   "outputs": [
    {
     "data": {
      "text/plain": [
       "243566897206981"
      ]
     },
     "execution_count": 54,
     "metadata": {},
     "output_type": "execute_result"
    }
   ],
   "source": [
    "math.lcm(*cycle_lengths.values())"
   ]
  }
 ],
 "metadata": {
  "kernelspec": {
   "display_name": "ds",
   "language": "python",
   "name": "python3"
  },
  "language_info": {
   "codemirror_mode": {
    "name": "ipython",
    "version": 3
   },
   "file_extension": ".py",
   "mimetype": "text/x-python",
   "name": "python",
   "nbconvert_exporter": "python",
   "pygments_lexer": "ipython3",
   "version": "3.12.1"
  }
 },
 "nbformat": 4,
 "nbformat_minor": 2
}
