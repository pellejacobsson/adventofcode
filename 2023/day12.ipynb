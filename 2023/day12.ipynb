{
 "cells": [
  {
   "cell_type": "code",
   "execution_count": 8,
   "metadata": {},
   "outputs": [],
   "source": [
    "def read_input(filename):\n",
    "    records = []\n",
    "    groups = []\n",
    "    with open(filename) as f:\n",
    "        for line in f.readlines():\n",
    "            r, g = line.split()\n",
    "            records.append(r)\n",
    "            groups.append(tuple(int(x) for x in g.split(',')))\n",
    "    return records, groups"
   ]
  },
  {
   "cell_type": "code",
   "execution_count": 31,
   "metadata": {},
   "outputs": [],
   "source": [
    "records, groups = read_input('12_input.txt')"
   ]
  },
  {
   "cell_type": "code",
   "execution_count": 21,
   "metadata": {},
   "outputs": [],
   "source": [
    "def count(record, groups, mem):\n",
    "    if record == '':\n",
    "        if groups:\n",
    "            return 0\n",
    "        else:\n",
    "            return 1\n",
    "        \n",
    "    if not groups:\n",
    "        if '#' in record:\n",
    "            return 0\n",
    "        else:\n",
    "            return 1\n",
    "        \n",
    "    if (record, groups) in mem:\n",
    "        return mem[(record, groups)]\n",
    "    \n",
    "    res = 0\n",
    "    if record[0] in '.?':\n",
    "        res += count(record[1:], groups, mem)\n",
    "    if record[0] in \"#?\":\n",
    "        if groups[0] <= len(record) and '.' not in record[:groups[0]] and (groups[0] == len(record) or record[groups[0]] != '#'):\n",
    "            res += count(record[groups[0] + 1:], groups[1:], mem)\n",
    "    mem[(record, groups)] = res\n",
    "    return res"
   ]
  },
  {
   "cell_type": "code",
   "execution_count": 22,
   "metadata": {},
   "outputs": [
    {
     "data": {
      "text/plain": [
       "7032"
      ]
     },
     "execution_count": 22,
     "metadata": {},
     "output_type": "execute_result"
    }
   ],
   "source": [
    "n = 0\n",
    "mem = {}\n",
    "for record, group in zip(records, groups):\n",
    "    n += count(record, group, mem)\n",
    "n"
   ]
  },
  {
   "cell_type": "code",
   "execution_count": 32,
   "metadata": {},
   "outputs": [],
   "source": [
    "records2 = ['?'.join([record for _ in range(5)]) for record in records]"
   ]
  },
  {
   "cell_type": "code",
   "execution_count": 33,
   "metadata": {},
   "outputs": [],
   "source": [
    "groups2 = [group * 5 for group in groups]"
   ]
  },
  {
   "cell_type": "code",
   "execution_count": 34,
   "metadata": {},
   "outputs": [
    {
     "data": {
      "text/plain": [
       "1493340882140"
      ]
     },
     "execution_count": 34,
     "metadata": {},
     "output_type": "execute_result"
    }
   ],
   "source": [
    "n = 0\n",
    "mem = {}\n",
    "for record, group in zip(records2, groups2):\n",
    "    n += count(record, group, mem)\n",
    "n"
   ]
  }
 ],
 "metadata": {
  "kernelspec": {
   "display_name": "ds",
   "language": "python",
   "name": "python3"
  },
  "language_info": {
   "codemirror_mode": {
    "name": "ipython",
    "version": 3
   },
   "file_extension": ".py",
   "mimetype": "text/x-python",
   "name": "python",
   "nbconvert_exporter": "python",
   "pygments_lexer": "ipython3",
   "version": "3.12.1"
  }
 },
 "nbformat": 4,
 "nbformat_minor": 2
}
