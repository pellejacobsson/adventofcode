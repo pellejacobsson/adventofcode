{
 "cells": [
  {
   "cell_type": "code",
   "execution_count": 9,
   "metadata": {},
   "outputs": [],
   "source": [
    "from collections import deque"
   ]
  },
  {
   "cell_type": "code",
   "execution_count": 1,
   "metadata": {},
   "outputs": [],
   "source": [
    "with open(\"22_input.txt\") as f:\n",
    "    bricks = [[int(x) for x in line.replace(\"~\", \",\").strip().split(\",\")] for line in f]\n",
    "bricks.sort(key=lambda x: x[2])"
   ]
  },
  {
   "cell_type": "code",
   "execution_count": 2,
   "metadata": {},
   "outputs": [],
   "source": [
    "def overlap(a, b):\n",
    "    return max(a[0], b[0]) <= min(a[3], b[3]) and max(a[1], b[1]) <= min(a[4], b[4])"
   ]
  },
  {
   "cell_type": "code",
   "execution_count": 3,
   "metadata": {},
   "outputs": [],
   "source": [
    "for i, brick in enumerate(bricks):\n",
    "    max_z = 1\n",
    "    for check in bricks[:i]:\n",
    "        if overlap(brick, check):\n",
    "            max_z = max(max_z, check[5] + 1)\n",
    "    brick[5] -= brick[2] - max_z\n",
    "    brick[2] = max_z\n",
    "\n",
    "bricks.sort(key=lambda x: x[2])"
   ]
  },
  {
   "cell_type": "code",
   "execution_count": 4,
   "metadata": {},
   "outputs": [],
   "source": [
    "k_supports_v = {i: set() for i in range(len(bricks))}\n",
    "v_supports_k = {i: set() for i in range(len(bricks))}"
   ]
  },
  {
   "cell_type": "code",
   "execution_count": 5,
   "metadata": {},
   "outputs": [],
   "source": [
    "for j, upper in enumerate(bricks):\n",
    "    for i, lower in enumerate(bricks[:j]):\n",
    "        if overlap(upper, lower) and upper[2] == lower[5] + 1:\n",
    "            k_supports_v[i].add(j)\n",
    "            v_supports_k[j].add(i)"
   ]
  },
  {
   "cell_type": "code",
   "execution_count": 6,
   "metadata": {},
   "outputs": [],
   "source": [
    "total = 0\n",
    "for i in range(len(bricks)):\n",
    "    if all(len(v_supports_k[j]) >= 2 for j in k_supports_v[i]):\n",
    "        total += 1"
   ]
  },
  {
   "cell_type": "code",
   "execution_count": 10,
   "metadata": {},
   "outputs": [
    {
     "data": {
      "text/plain": [
       "441"
      ]
     },
     "execution_count": 10,
     "metadata": {},
     "output_type": "execute_result"
    }
   ],
   "source": [
    "total"
   ]
  },
  {
   "cell_type": "code",
   "execution_count": 12,
   "metadata": {},
   "outputs": [],
   "source": [
    "total = 0\n",
    "for i in range(len(bricks)):\n",
    "    q = deque(j for j in k_supports_v[i] if len(v_supports_k[j]) == 1)\n",
    "    falling = set(q)\n",
    "    falling.add(i)\n",
    "    \n",
    "    while q:\n",
    "        j = q.popleft()\n",
    "        for k in k_supports_v[j] - falling:\n",
    "            if v_supports_k[k] <= falling:\n",
    "                q.append(k)\n",
    "                falling.add(k)\n",
    "\n",
    "    total += len(falling) - 1"
   ]
  },
  {
   "cell_type": "code",
   "execution_count": 13,
   "metadata": {},
   "outputs": [
    {
     "data": {
      "text/plain": [
       "80778"
      ]
     },
     "execution_count": 13,
     "metadata": {},
     "output_type": "execute_result"
    }
   ],
   "source": [
    "total"
   ]
  }
 ],
 "metadata": {
  "kernelspec": {
   "display_name": "ds",
   "language": "python",
   "name": "python3"
  },
  "language_info": {
   "codemirror_mode": {
    "name": "ipython",
    "version": 3
   },
   "file_extension": ".py",
   "mimetype": "text/x-python",
   "name": "python",
   "nbconvert_exporter": "python",
   "pygments_lexer": "ipython3",
   "version": "3.12.1"
  }
 },
 "nbformat": 4,
 "nbformat_minor": 2
}
