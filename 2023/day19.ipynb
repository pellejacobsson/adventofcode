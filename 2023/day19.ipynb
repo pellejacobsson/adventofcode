{
 "cells": [
  {
   "cell_type": "code",
   "execution_count": 21,
   "metadata": {},
   "outputs": [],
   "source": [
    "with open('19_input.txt') as f:\n",
    "    block1, block2 = f.read().split('\\n\\n')\n",
    "workflows = {}\n",
    "for line in block1.splitlines():\n",
    "    name, rules = line[:-1].split('{')\n",
    "    rules = rules.split(',')\n",
    "    workflows[name] = ([], rules.pop())\n",
    "    for rule in rules:\n",
    "        comp, target = rule.split(':')\n",
    "        var = comp[0]\n",
    "        op = comp[1]\n",
    "        n = int(comp[2:])\n",
    "        workflows[name][0].append((var, op, n, target))\n",
    "items = []\n",
    "for line in block2.splitlines():\n",
    "    exprs = line[1:-1].split(',')\n",
    "    item = {}\n",
    "    for expr in exprs:\n",
    "        var, val = expr.split('=')\n",
    "        item[var] = int(val)\n",
    "    items.append(item)"
   ]
  },
  {
   "cell_type": "code",
   "execution_count": 22,
   "metadata": {},
   "outputs": [],
   "source": [
    "ops = {'<': int.__lt__, '>': int.__gt__}\n",
    "def accept(item, name='in'):\n",
    "    if name == 'R':\n",
    "        return False\n",
    "    if name == 'A':\n",
    "        return True\n",
    "    rules, fallback = workflows[name]\n",
    "    for var, op, n, target in rules:\n",
    "        if ops[op](item[var], n):\n",
    "            return accept(item, target)\n",
    "    return accept(item, fallback)"
   ]
  },
  {
   "cell_type": "code",
   "execution_count": 23,
   "metadata": {},
   "outputs": [
    {
     "data": {
      "text/plain": [
       "487623"
      ]
     },
     "execution_count": 23,
     "metadata": {},
     "output_type": "execute_result"
    }
   ],
   "source": [
    "s = 0\n",
    "for item in items:\n",
    "    if accept(item):\n",
    "        s += sum(item.values())\n",
    "s"
   ]
  },
  {
   "cell_type": "code",
   "execution_count": 26,
   "metadata": {},
   "outputs": [],
   "source": [
    "def count(ranges, name='in'):\n",
    "    if name == 'R':\n",
    "        return 0\n",
    "    if name == 'A':\n",
    "        prod = 1\n",
    "        for lo, hi in ranges.values():\n",
    "            prod *= hi - lo + 1\n",
    "        return prod\n",
    " \n",
    "    rules, fallback = workflows[name]\n",
    "    total = 0\n",
    "    for var, op, n, target in rules:\n",
    "        lo, hi = ranges[var]\n",
    "        if op == '<':\n",
    "            T = (lo, n - 1)\n",
    "            F = (n, hi)\n",
    "        else:\n",
    "            T = (n + 1, hi)\n",
    "            F = (lo, n)\n",
    "        if T[0] <= T[1]:\n",
    "            cranges = dict(ranges)\n",
    "            cranges[var] = T\n",
    "            total += count(cranges, target)\n",
    "        if F[0] <= F[1]:\n",
    "            ranges = dict(ranges)\n",
    "            ranges[var] = F\n",
    "        else:\n",
    "            break\n",
    "    else:\n",
    "        total += count(ranges, fallback)\n",
    "    return total"
   ]
  },
  {
   "cell_type": "code",
   "execution_count": 27,
   "metadata": {},
   "outputs": [
    {
     "data": {
      "text/plain": [
       "113550238315130"
      ]
     },
     "execution_count": 27,
     "metadata": {},
     "output_type": "execute_result"
    }
   ],
   "source": [
    "count({var: (1, 4000) for var in 'xmas'})"
   ]
  }
 ],
 "metadata": {
  "kernelspec": {
   "display_name": "ds",
   "language": "python",
   "name": "python3"
  },
  "language_info": {
   "codemirror_mode": {
    "name": "ipython",
    "version": 3
   },
   "file_extension": ".py",
   "mimetype": "text/x-python",
   "name": "python",
   "nbconvert_exporter": "python",
   "pygments_lexer": "ipython3",
   "version": "3.12.1"
  }
 },
 "nbformat": 4,
 "nbformat_minor": 2
}
