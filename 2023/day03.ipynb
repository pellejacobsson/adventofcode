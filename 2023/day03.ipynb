{
 "cells": [
  {
   "cell_type": "code",
   "execution_count": 45,
   "metadata": {},
   "outputs": [],
   "source": [
    "import re\n",
    "from itertools import product"
   ]
  },
  {
   "cell_type": "code",
   "execution_count": 64,
   "metadata": {},
   "outputs": [],
   "source": [
    "def read_input(filename):\n",
    "    symbols = {}\n",
    "    numbers = []\n",
    "    dnumbers = {}\n",
    "    with open(filename) as f:\n",
    "        for i, line in enumerate(f.readlines()):\n",
    "            for r in re.finditer(r'\\d+', line.strip()):\n",
    "                n = int(r[0])\n",
    "                j0 = r.span()[0]\n",
    "                j1 = r.span()[1]\n",
    "                numbers.append((n, i, j0, j1))\n",
    "                for j in range(j0, j1):\n",
    "                    dnumbers[i, j] = n\n",
    "            for r in re.finditer(r'[^\\.0-9]', line.strip()):\n",
    "                s = r[0]\n",
    "                j = r.span()[0]\n",
    "                symbols[i, j] = s\n",
    "    return symbols, numbers, dnumbers\n",
    "            "
   ]
  },
  {
   "cell_type": "code",
   "execution_count": 65,
   "metadata": {},
   "outputs": [],
   "source": [
    "symbols, numbers, dnumbers = read_input('03_input.txt')"
   ]
  },
  {
   "cell_type": "code",
   "execution_count": 60,
   "metadata": {},
   "outputs": [
    {
     "data": {
      "text/plain": [
       "557705"
      ]
     },
     "execution_count": 60,
     "metadata": {},
     "output_type": "execute_result"
    }
   ],
   "source": [
    "part_sum = 0\n",
    "for n, i, j0, j1 in numbers:\n",
    "    counted = False\n",
    "    for j in range(j0, j1):\n",
    "        for di, dj in product([0, -1, 1], [0, -1, 1]):\n",
    "            if di == 0 and dj == 0:\n",
    "                continue\n",
    "            if (i + di, j + dj) in symbols:\n",
    "                part_sum += n\n",
    "                counted = True\n",
    "                break\n",
    "        if counted:\n",
    "            break\n",
    "part_sum"
   ]
  },
  {
   "cell_type": "code",
   "execution_count": 68,
   "metadata": {},
   "outputs": [
    {
     "data": {
      "text/plain": [
       "84266818"
      ]
     },
     "execution_count": 68,
     "metadata": {},
     "output_type": "execute_result"
    }
   ],
   "source": [
    "gear_ratio = 0\n",
    "for (si, sj), symbol in symbols.items():\n",
    "    if symbol != '*':\n",
    "        continue\n",
    "    n_list = []\n",
    "    for di, dj in product([0, -1, 1], [0, -1, 1]):\n",
    "        if di == 0 and dj == 0:\n",
    "            continue\n",
    "        ni, nj = si + di, sj + dj\n",
    "        if (ni, nj) in dnumbers and dnumbers[ni, nj] not in n_list:\n",
    "            n_list.append(dnumbers[ni, nj])\n",
    "    if len(n_list) == 2:\n",
    "        gear_ratio += n_list[0] * n_list[1]\n",
    "gear_ratio"
   ]
  }
 ],
 "metadata": {
  "kernelspec": {
   "display_name": "ds",
   "language": "python",
   "name": "python3"
  },
  "language_info": {
   "codemirror_mode": {
    "name": "ipython",
    "version": 3
   },
   "file_extension": ".py",
   "mimetype": "text/x-python",
   "name": "python",
   "nbconvert_exporter": "python",
   "pygments_lexer": "ipython3",
   "version": "3.12.1"
  }
 },
 "nbformat": 4,
 "nbformat_minor": 2
}
