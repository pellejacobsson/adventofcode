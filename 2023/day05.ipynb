{
 "cells": [
  {
   "cell_type": "code",
   "execution_count": 39,
   "metadata": {},
   "outputs": [],
   "source": [
    "def read_input(filename):\n",
    "    with open(filename) as f:\n",
    "        input = f.read().split('\\n\\n')\n",
    "        seeds = [int(s) for s in input[0].split(' ')[1:]]\n",
    "        range_maps = []\n",
    "        for inp in input[1:]:\n",
    "            lmap = [[int(s) for s in r] for r in [l.split(' ') for l in inp.split('\\n')[1:]]]\n",
    "            range_maps.append(lmap)\n",
    "    return seeds, range_maps\n",
    "    "
   ]
  },
  {
   "cell_type": "code",
   "execution_count": 40,
   "metadata": {},
   "outputs": [],
   "source": [
    "seeds, range_maps = read_input('05_input.txt')"
   ]
  },
  {
   "cell_type": "code",
   "execution_count": 42,
   "metadata": {},
   "outputs": [],
   "source": [
    "def source_to_dest(source, range_map):\n",
    "    for dest_start, source_start, length in range_map:\n",
    "            if source_start <= source <= source_start + length - 1:\n",
    "                  return source - source_start + dest_start\n",
    "    return source"
   ]
  },
  {
   "cell_type": "code",
   "execution_count": 43,
   "metadata": {},
   "outputs": [
    {
     "data": {
      "text/plain": [
       "309796150"
      ]
     },
     "execution_count": 43,
     "metadata": {},
     "output_type": "execute_result"
    }
   ],
   "source": [
    "dests = seeds\n",
    "for range_map in range_maps:\n",
    "    dests = [source_to_dest(dest, range_map) for dest in dests]\n",
    "min(dests)    "
   ]
  },
  {
   "cell_type": "code",
   "execution_count": 44,
   "metadata": {},
   "outputs": [],
   "source": [
    "def intersect(r1, r2):\n",
    "    return range(max(r1[0], r2[0]), min(r1[-1], r2[-1])+1)"
   ]
  },
  {
   "cell_type": "code",
   "execution_count": 46,
   "metadata": {},
   "outputs": [
    {
     "data": {
      "text/plain": [
       "range(7, 9)"
      ]
     },
     "execution_count": 46,
     "metadata": {},
     "output_type": "execute_result"
    }
   ],
   "source": [
    "def source_to_dest2(ranges, source, range_map):\n",
    "    found = False\n",
    "    for dest_start, source_start, length in range_map:\n",
    "        overlap = intersect(source, range(source_start, source_start + length - 1))\n",
    "        if len(overlap) == 0:\n",
    "            continue\n",
    "        "
   ]
  },
  {
   "cell_type": "code",
   "execution_count": null,
   "metadata": {},
   "outputs": [],
   "source": []
  }
 ],
 "metadata": {
  "kernelspec": {
   "display_name": "ds-base-311",
   "language": "python",
   "name": "python3"
  },
  "language_info": {
   "codemirror_mode": {
    "name": "ipython",
    "version": 3
   },
   "file_extension": ".py",
   "mimetype": "text/x-python",
   "name": "python",
   "nbconvert_exporter": "python",
   "pygments_lexer": "ipython3",
   "version": "3.11.4"
  }
 },
 "nbformat": 4,
 "nbformat_minor": 2
}
