{
 "cells": [
  {
   "cell_type": "code",
   "execution_count": 1,
   "metadata": {},
   "outputs": [],
   "source": [
    "def read_input(filename):\n",
    "    w_numbers = []\n",
    "    numbers = []\n",
    "    with open(filename) as f:\n",
    "        for line in f.readlines():\n",
    "            w, n = line.split(':')[1].split('|')\n",
    "            w_numbers.append([int(s) for s in w.split()])\n",
    "            numbers.append([int(s) for s in n.split()])\n",
    "    return w_numbers, numbers"
   ]
  },
  {
   "cell_type": "code",
   "execution_count": 10,
   "metadata": {},
   "outputs": [],
   "source": [
    "w_numbers, numbers = read_input('04_input.txt')"
   ]
  },
  {
   "cell_type": "code",
   "execution_count": 5,
   "metadata": {},
   "outputs": [
    {
     "data": {
      "text/plain": [
       "21558"
      ]
     },
     "execution_count": 5,
     "metadata": {},
     "output_type": "execute_result"
    }
   ],
   "source": [
    "s = 0\n",
    "for w, n in zip(w_numbers, numbers):\n",
    "    n_in = sum([x in w for x in n])\n",
    "    if n_in > 0:\n",
    "        s += 2**(n_in - 1)\n",
    "s"
   ]
  },
  {
   "cell_type": "code",
   "execution_count": 18,
   "metadata": {},
   "outputs": [
    {
     "data": {
      "text/plain": [
       "10425665"
      ]
     },
     "execution_count": 18,
     "metadata": {},
     "output_type": "execute_result"
    }
   ],
   "source": [
    "card_count = {n: 1 for n in range(len(numbers))}\n",
    "for card, (w, n) in enumerate(zip(w_numbers, numbers)):\n",
    "    points = sum([x in w for x in n])\n",
    "    for c in range(card + 1, card + points + 1):\n",
    "        card_count[c] += card_count[card]\n",
    "sum(card_count.values())"
   ]
  }
 ],
 "metadata": {
  "kernelspec": {
   "display_name": "ds",
   "language": "python",
   "name": "python3"
  },
  "language_info": {
   "codemirror_mode": {
    "name": "ipython",
    "version": 3
   },
   "file_extension": ".py",
   "mimetype": "text/x-python",
   "name": "python",
   "nbconvert_exporter": "python",
   "pygments_lexer": "ipython3",
   "version": "3.12.1"
  }
 },
 "nbformat": 4,
 "nbformat_minor": 2
}
