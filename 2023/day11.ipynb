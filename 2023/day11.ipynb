{
 "cells": [
  {
   "cell_type": "code",
   "execution_count": 28,
   "metadata": {},
   "outputs": [],
   "source": [
    "def read_input(filename):\n",
    "    galaxies = set()\n",
    "    with open(filename) as f:\n",
    "        for i, line in enumerate(f.readlines()):\n",
    "            for j, s in enumerate(line.strip()):\n",
    "                if s == '#':\n",
    "                    galaxies.add((i, j))\n",
    "    return galaxies"
   ]
  },
  {
   "cell_type": "code",
   "execution_count": 35,
   "metadata": {},
   "outputs": [],
   "source": [
    "galaxies = read_input('11_input.txt')"
   ]
  },
  {
   "cell_type": "code",
   "execution_count": 43,
   "metadata": {},
   "outputs": [],
   "source": [
    "g_i = [g[0] for g in galaxies]\n",
    "g_j = [g[1] for g in galaxies]\n",
    "i_max = max(g_i)\n",
    "j_max = max(g_j)\n",
    "i0s = [i for i in range(i_max) if i not in g_i]\n",
    "j0s = [j for j in range(j_max) if j not in g_j]"
   ]
  },
  {
   "cell_type": "code",
   "execution_count": 72,
   "metadata": {},
   "outputs": [
    {
     "data": {
      "text/plain": [
       "553224415344"
      ]
     },
     "execution_count": 72,
     "metadata": {},
     "output_type": "execute_result"
    }
   ],
   "source": [
    "galaxies = sorted(galaxies)\n",
    "s = 0\n",
    "for k in range(len(galaxies)):\n",
    "    for l in range(k + 1, len(galaxies)):\n",
    "        g1 = galaxies[k]\n",
    "        g2 = galaxies[l]\n",
    "        d = abs(g2[0] - g1[0]) + abs(g2[1] - g1[1])\n",
    "        n_i = len([i for i in i0s if min(g1[0], g2[0]) < i < max(g1[0], g2[0])])\n",
    "        n_j = len([j for j in j0s if min(g1[1], g2[1]) < j < max(g1[1], g2[1])])\n",
    "        s += d + (n_i + n_j) * 999999\n",
    "s"
   ]
  },
  {
   "cell_type": "code",
   "execution_count": null,
   "metadata": {},
   "outputs": [],
   "source": []
  }
 ],
 "metadata": {
  "kernelspec": {
   "display_name": "ds",
   "language": "python",
   "name": "python3"
  },
  "language_info": {
   "codemirror_mode": {
    "name": "ipython",
    "version": 3
   },
   "file_extension": ".py",
   "mimetype": "text/x-python",
   "name": "python",
   "nbconvert_exporter": "python",
   "pygments_lexer": "ipython3",
   "version": "3.12.1"
  }
 },
 "nbformat": 4,
 "nbformat_minor": 2
}
