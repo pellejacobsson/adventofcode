{
 "cells": [
  {
   "cell_type": "code",
   "execution_count": 28,
   "metadata": {},
   "outputs": [],
   "source": [
    "from itertools import cycle\n",
    "from math import lcm"
   ]
  },
  {
   "cell_type": "code",
   "execution_count": 43,
   "metadata": {},
   "outputs": [],
   "source": [
    "def read_input(filename):\n",
    "    with open(filename) as f:\n",
    "        moves = f.readline().strip()\n",
    "        f.readline()\n",
    "        nodes = {}\n",
    "        for line in f.readlines():\n",
    "            k, v = line.strip().split(' = ')\n",
    "            vl, vr = v.split(', ')\n",
    "            nodes[k] = (vl[1:], vr[:-1])\n",
    "    return moves, nodes"
   ]
  },
  {
   "cell_type": "code",
   "execution_count": 44,
   "metadata": {},
   "outputs": [],
   "source": [
    "moves, nodes = read_input('08_input.txt')"
   ]
  },
  {
   "cell_type": "code",
   "execution_count": 47,
   "metadata": {},
   "outputs": [
    {
     "data": {
      "text/plain": [
       "13771"
      ]
     },
     "execution_count": 47,
     "metadata": {},
     "output_type": "execute_result"
    }
   ],
   "source": [
    "node = 'AAA'\n",
    "steps = 0\n",
    "for move in cycle(moves):\n",
    "    if move == 'L':\n",
    "        node = nodes[node][0]\n",
    "    else:\n",
    "        node = nodes[node][1]\n",
    "    steps += 1\n",
    "    if node == 'ZZZ':\n",
    "        break\n",
    "steps"
   ]
  },
  {
   "cell_type": "code",
   "execution_count": 56,
   "metadata": {},
   "outputs": [],
   "source": [
    "def check_cyclic(moves, nodes, node):\n",
    "    cycle_l = []\n",
    "    cycle_n = 1\n",
    "    steps = 0\n",
    "    for move in cycle(moves):\n",
    "        node = nodes[node][0] if move == 'L' else nodes[node][1]\n",
    "        steps += 1\n",
    "        if node.endswith('Z'):\n",
    "            cycle_l.append(steps)\n",
    "            steps = 0\n",
    "            if cycle_n > 1:\n",
    "                break\n",
    "            else:\n",
    "                cycle_n += 1\n",
    "    return cycle_l"
   ]
  },
  {
   "cell_type": "code",
   "execution_count": 59,
   "metadata": {},
   "outputs": [],
   "source": [
    "cycles = [check_cyclic(moves, nodes, node) for node in nodes if node.endswith('A')]"
   ]
  },
  {
   "cell_type": "code",
   "execution_count": 67,
   "metadata": {},
   "outputs": [
    {
     "data": {
      "text/plain": [
       "13129439557681"
      ]
     },
     "execution_count": 67,
     "metadata": {},
     "output_type": "execute_result"
    }
   ],
   "source": [
    "lcm(*[c[0] for c in cycles])"
   ]
  }
 ],
 "metadata": {
  "kernelspec": {
   "display_name": "ds-base-311",
   "language": "python",
   "name": "python3"
  },
  "language_info": {
   "codemirror_mode": {
    "name": "ipython",
    "version": 3
   },
   "file_extension": ".py",
   "mimetype": "text/x-python",
   "name": "python",
   "nbconvert_exporter": "python",
   "pygments_lexer": "ipython3",
   "version": "3.11.4"
  }
 },
 "nbformat": 4,
 "nbformat_minor": 2
}
