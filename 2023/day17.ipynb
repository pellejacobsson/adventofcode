{
 "cells": [
  {
   "cell_type": "code",
   "execution_count": 1,
   "metadata": {},
   "outputs": [],
   "source": [
    "from heapq import heappush, heappop"
   ]
  },
  {
   "cell_type": "code",
   "execution_count": 4,
   "metadata": {},
   "outputs": [],
   "source": [
    "with open('17_input.txt') as f:\n",
    "    grid = {(i, j): int(n) for (i, l) in enumerate(f) for (j, n) in enumerate(l.strip())}"
   ]
  },
  {
   "cell_type": "code",
   "execution_count": 17,
   "metadata": {},
   "outputs": [],
   "source": [
    "def dijkstra(grid, min_dist=0, max_dist=3):\n",
    "    i_max = max(x[0] for x in grid.keys())\n",
    "    j_max = max(x[1] for x in grid.keys())\n",
    "    seen = set()\n",
    "    pq = [(0, 0, 0, 0, 0, 0)]\n",
    "    while pq:\n",
    "        hl, i, j, di, dj, n = heappop(pq)\n",
    "        if (i, j) == (i_max, j_max) and n >= min_dist:\n",
    "            return hl\n",
    "        if (i, j, di, dj, n) in seen:\n",
    "            continue\n",
    "        seen.add((i, j, di, dj, n))\n",
    "        if n < max_dist and (di, dj) != (0, 0):\n",
    "            ni = i + di\n",
    "            nj = j + dj\n",
    "            if (ni, nj) in grid:\n",
    "                heappush(pq, (hl + grid[ni, nj], ni, nj, di, dj, n + 1))\n",
    "        if n >= min_dist or (di, dj) == (0, 0):\n",
    "            for (ndi, ndj) in [(-1, 0), (1, 0), (0, -1), (0, 1)]:\n",
    "                if (ndi, ndj) != (di, dj) and (ndi, ndj) != (-di, -dj):\n",
    "                    ni = i + ndi\n",
    "                    nj = j + ndj\n",
    "                    if (ni, nj) in grid:\n",
    "                        heappush(pq, (hl + grid[ni, nj], ni, nj, ndi, ndj, 1))\n",
    "    print('Goal not found!')\n",
    "    return None"
   ]
  },
  {
   "cell_type": "code",
   "execution_count": 19,
   "metadata": {},
   "outputs": [
    {
     "data": {
      "text/plain": [
       "1101"
      ]
     },
     "execution_count": 19,
     "metadata": {},
     "output_type": "execute_result"
    }
   ],
   "source": [
    "dijkstra(grid, min_dist=4, max_dist=10)"
   ]
  }
 ],
 "metadata": {
  "kernelspec": {
   "display_name": "ds",
   "language": "python",
   "name": "python3"
  },
  "language_info": {
   "codemirror_mode": {
    "name": "ipython",
    "version": 3
   },
   "file_extension": ".py",
   "mimetype": "text/x-python",
   "name": "python",
   "nbconvert_exporter": "python",
   "pygments_lexer": "ipython3",
   "version": "3.12.1"
  }
 },
 "nbformat": 4,
 "nbformat_minor": 2
}
