{
 "cells": [
  {
   "cell_type": "code",
   "execution_count": 92,
   "metadata": {},
   "outputs": [],
   "source": [
    "with open('14_input.txt') as f:\n",
    "    rocks = f.read().splitlines()"
   ]
  },
  {
   "cell_type": "code",
   "execution_count": 93,
   "metadata": {},
   "outputs": [
    {
     "data": {
      "text/plain": [
       "107951"
      ]
     },
     "execution_count": 93,
     "metadata": {},
     "output_type": "execute_result"
    }
   ],
   "source": [
    "rocks = [''.join(r) for r in zip(*rocks)]\n",
    "rocks = ['#'.join(r) for r in [[''.join(sorted(g, reverse=True)) for g in rock.split('#')] for rock in rocks]]\n",
    "rocks = [''.join(r) for r in zip(*rocks)]\n",
    "sum(i * r.count('O') for (i, r) in enumerate(rocks[::-1], 1))"
   ]
  },
  {
   "cell_type": "code",
   "execution_count": 94,
   "metadata": {},
   "outputs": [],
   "source": [
    "def cycle(rocks):\n",
    "    for _ in range(4):\n",
    "        rocks = tuple(''.join(r) for r in zip(*rocks))\n",
    "        rocks = tuple('#'.join(r) for r in [[''.join(sorted(g, reverse=True)) for g in rock.split('#')] for rock in rocks])\n",
    "        rocks = tuple(r[::-1] for r in rocks)\n",
    "    return rocks"
   ]
  },
  {
   "cell_type": "code",
   "execution_count": 95,
   "metadata": {},
   "outputs": [],
   "source": [
    "with open('14_input.txt') as f:\n",
    "    rocks = tuple(f.read().splitlines())\n",
    "seen = {rocks}\n",
    "path = [rocks]\n",
    "i = 0\n",
    "while True:\n",
    "    i += 1\n",
    "    rocks = cycle(rocks)\n",
    "    if rocks in seen:\n",
    "        break\n",
    "    seen.add(rocks)\n",
    "    path.append(rocks)"
   ]
  },
  {
   "cell_type": "code",
   "execution_count": 96,
   "metadata": {},
   "outputs": [
    {
     "data": {
      "text/plain": [
       "95736"
      ]
     },
     "execution_count": 96,
     "metadata": {},
     "output_type": "execute_result"
    }
   ],
   "source": [
    "i_first = path.index(rocks)\n",
    "n_cycle = i - i_first\n",
    "n_moves = i_first + (1000000000 - i_first) % n_cycle\n",
    "with open('14_input.txt') as f:\n",
    "    rocks = tuple(f.read().splitlines())\n",
    "for _ in range(n_moves):\n",
    "    rocks = cycle(rocks)\n",
    "sum(i * r.count('O') for (i, r) in enumerate(rocks[::-1], 1))"
   ]
  }
 ],
 "metadata": {
  "kernelspec": {
   "display_name": "ds",
   "language": "python",
   "name": "python3"
  },
  "language_info": {
   "codemirror_mode": {
    "name": "ipython",
    "version": 3
   },
   "file_extension": ".py",
   "mimetype": "text/x-python",
   "name": "python",
   "nbconvert_exporter": "python",
   "pygments_lexer": "ipython3",
   "version": "3.12.1"
  }
 },
 "nbformat": 4,
 "nbformat_minor": 2
}
