{
 "cells": [
  {
   "cell_type": "code",
   "execution_count": 1,
   "metadata": {},
   "outputs": [],
   "source": [
    "from collections import deque"
   ]
  },
  {
   "cell_type": "code",
   "execution_count": 51,
   "metadata": {},
   "outputs": [],
   "source": [
    "with open('16_input.txt') as f:\n",
    "    grid = {(i, j): s for (i, l) in enumerate(f) for (j, s) in enumerate(l.strip())}"
   ]
  },
  {
   "cell_type": "code",
   "execution_count": 55,
   "metadata": {},
   "outputs": [],
   "source": [
    "def calc_energy(start):\n",
    "    seen = set()\n",
    "    q = deque([start])\n",
    "    while q:\n",
    "        i, j, di, dj = q.popleft()\n",
    "        i += di\n",
    "        j += dj\n",
    "        if (i, j) not in grid:\n",
    "            continue\n",
    "        s = grid[i, j]\n",
    "        if s == '.' or (s == '-' and dj != 0) or (s == '|' and di != 0):\n",
    "            dij = [(di, dj)]\n",
    "        elif s == '/':\n",
    "            dij = [(-dj, -di)]\n",
    "        elif s == '\\\\':\n",
    "            dij = [(dj, di)]\n",
    "        elif s == '|':\n",
    "            dij = [(-1, 0), (1, 0)]\n",
    "        elif s == '-':\n",
    "            dij = [(0, -1), (0, 1)]\n",
    "        for di, dj in dij:\n",
    "            if (i, j, di, dj) not in seen:\n",
    "                seen.add((i, j, di, dj))\n",
    "                q.append((i, j, di, dj))\n",
    "    return len({(i, j) for (i, j, _, _) in seen})"
   ]
  },
  {
   "cell_type": "code",
   "execution_count": 56,
   "metadata": {},
   "outputs": [
    {
     "data": {
      "text/plain": [
       "7543"
      ]
     },
     "execution_count": 56,
     "metadata": {},
     "output_type": "execute_result"
    }
   ],
   "source": [
    "calc_energy((0, -1, 0, 1))"
   ]
  },
  {
   "cell_type": "code",
   "execution_count": 57,
   "metadata": {},
   "outputs": [],
   "source": [
    "i_max = max(grid.keys(), key=lambda x: x[0])[0]\n",
    "j_max = max(grid.keys(), key=lambda x: x[1])[1]\n",
    "max_energy = 0\n",
    "for i in range(i_max + 1):\n",
    "    max_energy = max(max_energy, calc_energy((i, -1, 0, 1)))\n",
    "    max_energy = max(max_energy, calc_energy((i, j_max, 0, -1)))\n",
    "for j in range(j_max + 1):\n",
    "    max_energy = max(max_energy, calc_energy((-1, j, 1, 0)))\n",
    "    max_energy = max(max_energy, calc_energy((i_max, j, -1, 0)))"
   ]
  },
  {
   "cell_type": "code",
   "execution_count": 58,
   "metadata": {},
   "outputs": [
    {
     "data": {
      "text/plain": [
       "8231"
      ]
     },
     "execution_count": 58,
     "metadata": {},
     "output_type": "execute_result"
    }
   ],
   "source": [
    "max_energy"
   ]
  }
 ],
 "metadata": {
  "kernelspec": {
   "display_name": "ds",
   "language": "python",
   "name": "python3"
  },
  "language_info": {
   "codemirror_mode": {
    "name": "ipython",
    "version": 3
   },
   "file_extension": ".py",
   "mimetype": "text/x-python",
   "name": "python",
   "nbconvert_exporter": "python",
   "pygments_lexer": "ipython3",
   "version": "3.12.1"
  }
 },
 "nbformat": 4,
 "nbformat_minor": 2
}
