{
 "cells": [
  {
   "cell_type": "code",
   "execution_count": 1,
   "metadata": {},
   "outputs": [],
   "source": [
    "import re"
   ]
  },
  {
   "cell_type": "code",
   "execution_count": 10,
   "metadata": {},
   "outputs": [],
   "source": [
    "def read_input(filename):\n",
    "    with open(filename) as f:\n",
    "        input = [s.strip() for s in f.readlines()]\n",
    "    return input"
   ]
  },
  {
   "cell_type": "code",
   "execution_count": 11,
   "metadata": {},
   "outputs": [],
   "source": [
    "input = read_input(\"01_input.txt\")"
   ]
  },
  {
   "cell_type": "code",
   "execution_count": 26,
   "metadata": {},
   "outputs": [
    {
     "data": {
      "text/plain": [
       "54450"
      ]
     },
     "execution_count": 26,
     "metadata": {},
     "output_type": "execute_result"
    }
   ],
   "source": [
    "sum([int(n[0] + n[-1]) for n in [re.findall('\\d', l) for l in input]])"
   ]
  },
  {
   "cell_type": "code",
   "execution_count": 48,
   "metadata": {},
   "outputs": [],
   "source": [
    "replace_map = {\n",
    "    'one': '1',\n",
    "    'two': '2',\n",
    "    'three': '3',\n",
    "    'four': '4',\n",
    "    'five': '5',\n",
    "    'six': '6',\n",
    "    'seven': '7',\n",
    "    'eight': '8',\n",
    "    'nine': '9',\n",
    "}"
   ]
  },
  {
   "cell_type": "code",
   "execution_count": 53,
   "metadata": {},
   "outputs": [
    {
     "data": {
      "text/plain": [
       "54265"
      ]
     },
     "execution_count": 53,
     "metadata": {},
     "output_type": "execute_result"
    }
   ],
   "source": [
    "sum([int(n[0] + n[-1]) for n in [[replace_map.get(s, s) for s in l] for l in [re.findall('(?=(\\d|' + '|'.join(replace_map.keys()) + '))', line) for line in input]]])"
   ]
  }
 ],
 "metadata": {
  "kernelspec": {
   "display_name": "ds-base-311",
   "language": "python",
   "name": "python3"
  },
  "language_info": {
   "codemirror_mode": {
    "name": "ipython",
    "version": 3
   },
   "file_extension": ".py",
   "mimetype": "text/x-python",
   "name": "python",
   "nbconvert_exporter": "python",
   "pygments_lexer": "ipython3",
   "version": "3.11.4"
  }
 },
 "nbformat": 4,
 "nbformat_minor": 2
}
