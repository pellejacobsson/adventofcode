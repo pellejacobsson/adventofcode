{
 "cells": [
  {
   "cell_type": "code",
   "execution_count": 5,
   "metadata": {},
   "outputs": [],
   "source": [
    "class Hand:\n",
    "\n",
    "    def __init__(self, cards):\n",
    "        self.cards = cards\n",
    "\n",
    "    def value(self):\n",
    "        val = 0\n",
    "        sorted_cards = sorted(self.cards)\n",
    "        nunique = len(set(sorted_cards))\n",
    "        if nunique == 1: # five of a kind\n",
    "            val = 7\n",
    "        elif nunique == 2: # four of a kind or full house\n",
    "            if any(len(set(sorted_cards[i:i+4])) == 1 for i in [0, 1]):\n",
    "                val = 6\n",
    "            else:\n",
    "                val = 5\n",
    "        elif nunique == 3: # three of a kind or two pair\n",
    "            if any(len(set(sorted_cards[i:i+3])) == 1 for i in [0, 1, 2]):\n",
    "                val = 4\n",
    "            else:\n",
    "                val = 3\n",
    "        elif nunique == 4: # pair\n",
    "            val = 2\n",
    "        else: # high card\n",
    "            val = 1\n",
    "        return val\n",
    "    \n",
    "    def __lt__(self, other):\n",
    "        if self.value() == other.value():\n",
    "            return self.cards < other.cards\n",
    "        else:\n",
    "            return self.value() < other.value()\n",
    "    \n",
    "    def __repr__(self):\n",
    "        return str(self.cards)\n",
    "    \n",
    "\n",
    "class Hand2(Hand):\n",
    "\n",
    "    def value_(self, cards):\n",
    "        val = 0\n",
    "        sorted_cards = sorted(cards)\n",
    "        nunique = len(set(sorted_cards))\n",
    "        if nunique == 1: # five of a kind\n",
    "            val = 7\n",
    "        elif nunique == 2: # four of a kind or full house\n",
    "            if any(len(set(sorted_cards[i:i+4])) == 1 for i in [0, 1]):\n",
    "                val = 6\n",
    "            else:\n",
    "                val = 5\n",
    "        elif nunique == 3: # three of a kind or two pair\n",
    "            if any(len(set(sorted_cards[i:i+3])) == 1 for i in [0, 1, 2]):\n",
    "                val = 4\n",
    "            else:\n",
    "                val = 3\n",
    "        elif nunique == 4: # pair\n",
    "            val = 2\n",
    "        else: # high card\n",
    "            val = 1\n",
    "        return val\n",
    "    \n",
    "    def value(self):\n",
    "        if 1 not in self.cards:\n",
    "            return self.value_(self.cards)\n",
    "        cards = self.cards.copy()\n",
    "        j_ix = [i for i, c in enumerate(cards) if c == 1]\n",
    "        max_val = 0\n",
    "        for j_val in list(range(1, 11)) + list(range(12, 15)):\n",
    "            for j in j_ix:\n",
    "                cards[j] = j_val\n",
    "            val = self.value_(cards)\n",
    "            if val > max_val:\n",
    "                max_val = val\n",
    "        return max_val\n",
    "    \n",
    "\n",
    "def read_input(filename):\n",
    "    card_map = {'A': 14, 'K': 13, 'Q': 12, 'J': 11, 'T': 10}\n",
    "    cards = []\n",
    "    with open(filename) as f:\n",
    "        for line in f.readlines():\n",
    "            c, b = line.split()\n",
    "            c = [card_map[x] if x in 'AKQJT' else int(x) for x in c]\n",
    "            b = int(b)\n",
    "            cards.append((Hand(c), b))\n",
    "    return cards"
   ]
  },
  {
   "cell_type": "code",
   "execution_count": 6,
   "metadata": {},
   "outputs": [],
   "source": [
    "cards = read_input('07_input.txt')"
   ]
  },
  {
   "cell_type": "code",
   "execution_count": 7,
   "metadata": {},
   "outputs": [
    {
     "data": {
      "text/plain": [
       "253933213"
      ]
     },
     "execution_count": 7,
     "metadata": {},
     "output_type": "execute_result"
    }
   ],
   "source": [
    "s = 0\n",
    "for i, (_, b) in enumerate(sorted(cards, key=lambda x: x[0])):\n",
    "    s += (i + 1) * b\n",
    "s"
   ]
  },
  {
   "cell_type": "code",
   "execution_count": 8,
   "metadata": {},
   "outputs": [
    {
     "data": {
      "text/plain": [
       "253473930"
      ]
     },
     "execution_count": 8,
     "metadata": {},
     "output_type": "execute_result"
    }
   ],
   "source": [
    "cards2 = [(Hand2([1 if x == 11 else x for x in h.cards]), b) for h, b in cards]\n",
    "s = 0\n",
    "for i, (_, b) in enumerate(sorted(cards2, key=lambda x: x[0])):\n",
    "    s += (i + 1) * b\n",
    "s"
   ]
  }
 ],
 "metadata": {
  "kernelspec": {
   "display_name": "ds",
   "language": "python",
   "name": "python3"
  },
  "language_info": {
   "codemirror_mode": {
    "name": "ipython",
    "version": 3
   },
   "file_extension": ".py",
   "mimetype": "text/x-python",
   "name": "python",
   "nbconvert_exporter": "python",
   "pygments_lexer": "ipython3",
   "version": "3.12.1"
  }
 },
 "nbformat": 4,
 "nbformat_minor": 2
}
