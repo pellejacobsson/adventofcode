{
 "cells": [
  {
   "cell_type": "code",
   "execution_count": 10,
   "metadata": {},
   "outputs": [],
   "source": [
    "def read_input(filename):\n",
    "    card_map = {'A': 14, 'K': 13, 'Q': 12, 'J': 11, 'T': 10}\n",
    "    cards = []\n",
    "    with open(filename) as f:\n",
    "        for line in f.readlines():\n",
    "            c, b = line.split()\n",
    "            c = [card_map[x] if x in 'AKQJT' else int(x) for x in c]\n",
    "            b = int(b)\n",
    "            cards.append((c, b))\n",
    "    return cards\n",
    "\n",
    "def value(hand):\n",
    "    hand_count = [hand.count(i) for i in hand]\n",
    "    if 5 in hand_count:\n",
    "        return 7\n",
    "    if 4 in hand_count:\n",
    "        return 6\n",
    "    if 3 in hand_count:\n",
    "        if 2 in hand_count:\n",
    "            return 5\n",
    "        else:\n",
    "            return 4\n",
    "    if hand_count.count(2) == 4:\n",
    "        return 3\n",
    "    if 2 in hand_count:\n",
    "        return 2\n",
    "    return 1\n",
    "\n",
    "def value2(hand):\n",
    "    if 1 not in hand:\n",
    "        return value(hand)\n",
    "    j_ix = [i for i, c in enumerate(hand) if c == 1]\n",
    "    max_val = 0\n",
    "    j_hand = hand.copy()\n",
    "    for j_val in list(range(2, 11)) + list(range(12, 15)):\n",
    "        for j, _ in enumerate(j_hand):\n",
    "            if j in j_ix:\n",
    "                j_hand[j] = j_val\n",
    "        val = value(j_hand)\n",
    "        if val > max_val:\n",
    "            max_val = val\n",
    "    return max_val"
   ]
  },
  {
   "cell_type": "code",
   "execution_count": 11,
   "metadata": {},
   "outputs": [
    {
     "data": {
      "text/plain": [
       "253933213"
      ]
     },
     "execution_count": 11,
     "metadata": {},
     "output_type": "execute_result"
    }
   ],
   "source": [
    "cards = read_input('07_input.txt')\n",
    "s = 0\n",
    "for i, (_, b) in enumerate(sorted(cards, key=lambda c: (value(c[0]), c[0]))):\n",
    "    s += (i + 1) * b\n",
    "s"
   ]
  },
  {
   "cell_type": "code",
   "execution_count": 12,
   "metadata": {},
   "outputs": [
    {
     "data": {
      "text/plain": [
       "253473930"
      ]
     },
     "execution_count": 12,
     "metadata": {},
     "output_type": "execute_result"
    }
   ],
   "source": [
    "cards = read_input('07_input.txt')\n",
    "for i, (h, b) in enumerate(cards):\n",
    "    n_h = [1 if c == 11 else c for c in h]\n",
    "    cards[i] = (n_h, b)\n",
    "s = 0\n",
    "for i, (_, b) in enumerate(sorted(cards, key=lambda c: (value2(c[0]), c[0]))):\n",
    "    s += (i + 1) * b\n",
    "s"
   ]
  }
 ],
 "metadata": {
  "kernelspec": {
   "display_name": "ds",
   "language": "python",
   "name": "python3"
  },
  "language_info": {
   "codemirror_mode": {
    "name": "ipython",
    "version": 3
   },
   "file_extension": ".py",
   "mimetype": "text/x-python",
   "name": "python",
   "nbconvert_exporter": "python",
   "pygments_lexer": "ipython3",
   "version": "3.11.4"
  }
 },
 "nbformat": 4,
 "nbformat_minor": 2
}
