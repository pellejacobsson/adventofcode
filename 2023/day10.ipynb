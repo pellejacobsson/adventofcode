{
 "cells": [
  {
   "cell_type": "code",
   "execution_count": 11,
   "metadata": {},
   "outputs": [],
   "source": [
    "def read_input(filename):\n",
    "    grid = {}\n",
    "    with open(filename) as f:\n",
    "        grid = {(i, j): s for (i, line) in enumerate(f.readlines()) for (j, s) in enumerate(line.strip())}\n",
    "    return grid"
   ]
  },
  {
   "cell_type": "code",
   "execution_count": 38,
   "metadata": {},
   "outputs": [],
   "source": [
    "grid = read_input('10_input.txt')"
   ]
  },
  {
   "cell_type": "code",
   "execution_count": 15,
   "metadata": {},
   "outputs": [],
   "source": [
    "dir_map = {\n",
    "    ('s', '|'): 'n',\n",
    "    ('n', '|'): 's',\n",
    "    ('w', '-'): 'e',\n",
    "    ('e', '-'): 'w',\n",
    "    ('n', 'L'): 'e',\n",
    "    ('e', 'L'): 'n',\n",
    "    ('n', 'J'): 'w',\n",
    "    ('w', 'J'): 'n',\n",
    "    ('w', '7'): 's',\n",
    "    ('s', '7'): 'w',\n",
    "    ('s', 'F'): 'e',\n",
    "    ('e', 'F'): 's',\n",
    "}\n",
    "ix_map = {'n': (-1, 0), 'e': (0, 1), 's': (1, 0), 'w': (0, -1)}\n",
    "prev_map = {'n': 's', 'e': 'w', 's': 'n', 'w': 'e'}"
   ]
  },
  {
   "cell_type": "code",
   "execution_count": 17,
   "metadata": {},
   "outputs": [
    {
     "data": {
      "text/plain": [
       "7005"
      ]
     },
     "execution_count": 17,
     "metadata": {},
     "output_type": "execute_result"
    }
   ],
   "source": [
    "tile = (103, 118)\n",
    "prev = 'n'\n",
    "dist = {tile: 1}\n",
    "path = [tile]\n",
    "while True:\n",
    "    if grid[tile] == 'S':\n",
    "        break\n",
    "    dir = dir_map[prev, grid[tile]]\n",
    "    prev = prev_map[dir]\n",
    "    dij = ix_map[dir]\n",
    "    curr_dist = dist[tile]\n",
    "    tile = (tile[0] + dij[0], tile[1] + dij[1])\n",
    "    dist[tile] = curr_dist + 1\n",
    "    path.append(tile)\n",
    "dist[102, 118] // 2"
   ]
  },
  {
   "cell_type": "code",
   "execution_count": 48,
   "metadata": {},
   "outputs": [
    {
     "data": {
      "text/plain": [
       "417.0"
      ]
     },
     "execution_count": 48,
     "metadata": {},
     "output_type": "execute_result"
    }
   ],
   "source": [
    "x, y = map(list, zip(*path))\n",
    "x = [x[-1]] + x + [x[0]]\n",
    "dx = [x1 - x2 for x1, x2 in zip(x[:-2], x[2:])]\n",
    "a = sum(yy * dxx for yy, dxx in zip(y, dx)) / 2\n",
    "a - len(path) / 2 + 1"
   ]
  }
 ],
 "metadata": {
  "kernelspec": {
   "display_name": "ds",
   "language": "python",
   "name": "python3"
  },
  "language_info": {
   "codemirror_mode": {
    "name": "ipython",
    "version": 3
   },
   "file_extension": ".py",
   "mimetype": "text/x-python",
   "name": "python",
   "nbconvert_exporter": "python",
   "pygments_lexer": "ipython3",
   "version": "3.12.1"
  }
 },
 "nbformat": 4,
 "nbformat_minor": 2
}
