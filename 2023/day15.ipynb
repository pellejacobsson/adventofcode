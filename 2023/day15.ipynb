{
 "cells": [
  {
   "cell_type": "code",
   "execution_count": 12,
   "metadata": {},
   "outputs": [],
   "source": [
    "with open('15_input.txt') as f:\n",
    "    seqs = f.read().strip().split(',')"
   ]
  },
  {
   "cell_type": "code",
   "execution_count": 14,
   "metadata": {},
   "outputs": [],
   "source": [
    "def hash(seq):\n",
    "    h = 0\n",
    "    for s in seq:\n",
    "        h += ord(s)\n",
    "        h *= 17\n",
    "        h %= 256\n",
    "    return h"
   ]
  },
  {
   "cell_type": "code",
   "execution_count": 16,
   "metadata": {},
   "outputs": [
    {
     "data": {
      "text/plain": [
       "494980"
      ]
     },
     "execution_count": 16,
     "metadata": {},
     "output_type": "execute_result"
    }
   ],
   "source": [
    "tot = 0\n",
    "for seq in seqs:\n",
    "    tot += hash(seq)\n",
    "tot"
   ]
  },
  {
   "cell_type": "code",
   "execution_count": 22,
   "metadata": {},
   "outputs": [],
   "source": [
    "boxes = [[] for _ in range(256)]\n",
    "for seq in seqs:\n",
    "    if '-' in seq:\n",
    "        label = seq[:-1]\n",
    "        box = hash(label)\n",
    "        if label in [l[0] for l in boxes[box]]:\n",
    "            boxes[box] = [b for b in boxes[box] if b[0] != label]\n",
    "    else:\n",
    "        label, focl = seq.split('=')\n",
    "        focl = int(focl)\n",
    "        box = hash(label)\n",
    "        if label in [l[0] for l in boxes[box]]:\n",
    "            boxes[box] = [b if b[0] != label else (label, focl) for b in boxes[box]]\n",
    "        else:\n",
    "            boxes[box].append((label, focl))"
   ]
  },
  {
   "cell_type": "code",
   "execution_count": 31,
   "metadata": {},
   "outputs": [
    {
     "data": {
      "text/plain": [
       "247933"
      ]
     },
     "execution_count": 31,
     "metadata": {},
     "output_type": "execute_result"
    }
   ],
   "source": [
    "p = 0\n",
    "for (box, lenses) in enumerate(boxes, 1):\n",
    "    p += sum([box * i * x[1] for (i, x) in enumerate(lenses, 1)])\n",
    "p"
   ]
  }
 ],
 "metadata": {
  "kernelspec": {
   "display_name": "ds",
   "language": "python",
   "name": "python3"
  },
  "language_info": {
   "codemirror_mode": {
    "name": "ipython",
    "version": 3
   },
   "file_extension": ".py",
   "mimetype": "text/x-python",
   "name": "python",
   "nbconvert_exporter": "python",
   "pygments_lexer": "ipython3",
   "version": "3.12.1"
  }
 },
 "nbformat": 4,
 "nbformat_minor": 2
}
