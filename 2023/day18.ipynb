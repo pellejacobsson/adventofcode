{
 "cells": [
  {
   "cell_type": "code",
   "execution_count": 46,
   "metadata": {},
   "outputs": [],
   "source": [
    "def lava(instructions):\n",
    "    dir_map = {'U': (-1, 0), 'R': (0, 1), 'D': (1, 0), 'L': (0, -1)}\n",
    "    i, j = 0, 0\n",
    "    path = [(i, j)]\n",
    "    for (dir, n) in instructions:\n",
    "        di, dj = dir_map[dir]\n",
    "        i += n * di\n",
    "        j += n * dj\n",
    "        path.append((i, j))\n",
    "\n",
    "    x, y = map(list, zip(*path[::-1]))\n",
    "    x = [x[-1]] + x + [x[0]]\n",
    "    dx = [x1 - x2 for x1, x2 in zip(x[:-2], x[2:])]\n",
    "    a = sum(yy * dxx for yy, dxx in zip(y, dx)) / 2\n",
    "    return int(a + 1 + sum(x[1] for x in instructions) / 2)"
   ]
  },
  {
   "cell_type": "code",
   "execution_count": 29,
   "metadata": {},
   "outputs": [],
   "source": [
    "with open('18_input.txt') as f:\n",
    "    instructions = [(dir, int(n)) for (dir, n, _) in [l.split() for l in f]]"
   ]
  },
  {
   "cell_type": "code",
   "execution_count": 47,
   "metadata": {},
   "outputs": [
    {
     "data": {
      "text/plain": [
       "46394"
      ]
     },
     "execution_count": 47,
     "metadata": {},
     "output_type": "execute_result"
    }
   ],
   "source": [
    "lava(instructions)"
   ]
  },
  {
   "cell_type": "code",
   "execution_count": 54,
   "metadata": {},
   "outputs": [],
   "source": [
    "with open('18_input.txt') as f:\n",
    "    instructions = [('RDLU'[int(x[-2])], int(x[2:-2], 16)) for (_, _, x) in [l.split() for l in f]]"
   ]
  },
  {
   "cell_type": "code",
   "execution_count": 56,
   "metadata": {},
   "outputs": [
    {
     "data": {
      "text/plain": [
       "201398068194715"
      ]
     },
     "execution_count": 56,
     "metadata": {},
     "output_type": "execute_result"
    }
   ],
   "source": [
    "lava(instructions)"
   ]
  }
 ],
 "metadata": {
  "kernelspec": {
   "display_name": "ds",
   "language": "python",
   "name": "python3"
  },
  "language_info": {
   "codemirror_mode": {
    "name": "ipython",
    "version": 3
   },
   "file_extension": ".py",
   "mimetype": "text/x-python",
   "name": "python",
   "nbconvert_exporter": "python",
   "pygments_lexer": "ipython3",
   "version": "3.12.1"
  }
 },
 "nbformat": 4,
 "nbformat_minor": 2
}
