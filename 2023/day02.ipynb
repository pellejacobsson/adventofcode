{
 "cells": [
  {
   "cell_type": "code",
   "execution_count": 13,
   "metadata": {},
   "outputs": [],
   "source": [
    "def read_input(filename):\n",
    "    games = []\n",
    "    with open(filename) as f:\n",
    "        for i, line in enumerate(f.readlines()):\n",
    "            l, r = line.split(':')\n",
    "            sets = []\n",
    "            for j, s in enumerate(r.split(';')):\n",
    "                ss = {}\n",
    "                for g in s.split(','):\n",
    "                    n, col = g.split()\n",
    "                    ss[col] = int(n)\n",
    "                sets.append(ss)\n",
    "            games.append(sets)\n",
    "    return games"
   ]
  },
  {
   "cell_type": "code",
   "execution_count": 9,
   "metadata": {},
   "outputs": [],
   "source": [
    "games = read_input('02_input.txt')"
   ]
  },
  {
   "cell_type": "code",
   "execution_count": 12,
   "metadata": {},
   "outputs": [
    {
     "data": {
      "text/plain": [
       "2265"
      ]
     },
     "execution_count": 12,
     "metadata": {},
     "output_type": "execute_result"
    }
   ],
   "source": [
    "id_sum, power_sum = 0, 0\n",
    "for n, game in enumerate(games):\n",
    "    valid = True\n",
    "    r_max, g_max, b_max = 0, 0, 0\n",
    "    for s in game:\n",
    "        r = s.get('red', 0)\n",
    "        g = s.get('green', 0)\n",
    "        b = s.get('blue', 0)\n",
    "        if r > 12 or g > 13 or b > 14:\n",
    "            valid = False\n",
    "        r_max = max(r, r_max)\n",
    "        g_max = max(g, g_max)\n",
    "        b_max = max(b, b_max)\n",
    "    id_sum += n + 1 if valid else 0\n",
    "    power_sum += r_max * g_max * b_max\n",
    "id_sum"
   ]
  },
  {
   "cell_type": "code",
   "execution_count": 23,
   "metadata": {},
   "outputs": [
    {
     "data": {
      "text/plain": [
       "64097"
      ]
     },
     "execution_count": 23,
     "metadata": {},
     "output_type": "execute_result"
    }
   ],
   "source": [
    "power_sum = 0\n",
    "for game in games:\n",
    "    r_max = max([s.get('red', 0) for s in game])\n",
    "    g_max = max([s.get('green', 0) for s in game])\n",
    "    b_max = max([s.get('blue', 0) for s in game])\n",
    "    power_sum += r_max * g_max * b_max\n",
    "power_sum"
   ]
  }
 ],
 "metadata": {
  "kernelspec": {
   "display_name": "ds",
   "language": "python",
   "name": "python3"
  },
  "language_info": {
   "codemirror_mode": {
    "name": "ipython",
    "version": 3
   },
   "file_extension": ".py",
   "mimetype": "text/x-python",
   "name": "python",
   "nbconvert_exporter": "python",
   "pygments_lexer": "ipython3",
   "version": "3.12.1"
  }
 },
 "nbformat": 4,
 "nbformat_minor": 2
}
