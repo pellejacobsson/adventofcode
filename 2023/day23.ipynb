{
 "cells": [
  {
   "cell_type": "code",
   "execution_count": 1,
   "metadata": {},
   "outputs": [],
   "source": [
    "with open(\"23_input.txt\") as f:\n",
    "    grid = {}\n",
    "    for i, line in enumerate(f):\n",
    "        for j, s in enumerate(line.strip()):\n",
    "            grid[i, j] = s"
   ]
  },
  {
   "cell_type": "code",
   "execution_count": 3,
   "metadata": {},
   "outputs": [],
   "source": [
    "start = (0, 1)\n",
    "end = (140, 139)"
   ]
  },
  {
   "cell_type": "code",
   "execution_count": 4,
   "metadata": {},
   "outputs": [],
   "source": [
    "points = [start, end]\n",
    "\n",
    "for (i, j), ch in grid.items():\n",
    "    if ch == \"#\":\n",
    "        continue\n",
    "    neighbors = 0\n",
    "    for di, dj in (-1, 0), (1, 0), (0, -1), (0, 1):\n",
    "        ni, nj = i + di, j + dj\n",
    "        if (ni, nj) in grid and grid[ni, nj] != \"#\":\n",
    "            neighbors += 1\n",
    "    if neighbors >= 3:\n",
    "        points.append((i, j))"
   ]
  },
  {
   "cell_type": "code",
   "execution_count": 7,
   "metadata": {},
   "outputs": [],
   "source": [
    "graph = {pt: {} for pt in points}\n",
    "dirs = {\n",
    "    \"^\": [(-1, 0)],\n",
    "    \">\": [(0, 1)],\n",
    "    \"<\": [(0, -1)],\n",
    "    \"v\": [(1, 0)],\n",
    "    \".\": [(-1, 0), (1, 0), (0, -1), (0, 1)]\n",
    "}"
   ]
  },
  {
   "cell_type": "code",
   "execution_count": 15,
   "metadata": {},
   "outputs": [],
   "source": [
    "for si, sj in points:\n",
    "    stack = [(0, si, sj)]\n",
    "    seen = {(si, sj)}\n",
    "\n",
    "    while stack:\n",
    "        n, i, j = stack.pop()\n",
    "        if n != 0 and (i, j) in points:\n",
    "            graph[si, sj][i, j] = n\n",
    "            continue\n",
    "\n",
    "        #for di, dj in dirs[grid[i, j]]:\n",
    "        for di, dj in (-1, 0), (1, 0), (0, -1), (0, 1):\n",
    "            ni, nj = i + di, j + dj\n",
    "            if (ni, nj) in grid and grid[ni, nj] != \"#\" and (ni, nj) not in seen:\n",
    "                stack.append((n + 1, ni, nj))\n",
    "                seen.add((ni, nj))"
   ]
  },
  {
   "cell_type": "code",
   "execution_count": 16,
   "metadata": {},
   "outputs": [],
   "source": [
    "seen = set()\n",
    "def dfs(pt):\n",
    "    if pt == end:\n",
    "        return 0\n",
    "    \n",
    "    m = -float(\"inf\")\n",
    "\n",
    "    seen.add(pt)\n",
    "    for nx in graph[pt]:\n",
    "        if nx not in seen:\n",
    "            m = max(m, dfs(nx) + graph[pt][nx])\n",
    "    seen.remove(pt)\n",
    "\n",
    "    return m"
   ]
  },
  {
   "cell_type": "code",
   "execution_count": 17,
   "metadata": {},
   "outputs": [
    {
     "data": {
      "text/plain": [
       "6734"
      ]
     },
     "execution_count": 17,
     "metadata": {},
     "output_type": "execute_result"
    }
   ],
   "source": [
    "dfs(start)"
   ]
  }
 ],
 "metadata": {
  "kernelspec": {
   "display_name": "ds",
   "language": "python",
   "name": "python3"
  },
  "language_info": {
   "codemirror_mode": {
    "name": "ipython",
    "version": 3
   },
   "file_extension": ".py",
   "mimetype": "text/x-python",
   "name": "python",
   "nbconvert_exporter": "python",
   "pygments_lexer": "ipython3",
   "version": "3.12.1"
  }
 },
 "nbformat": 4,
 "nbformat_minor": 2
}
