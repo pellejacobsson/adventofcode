{
 "cells": [
  {
   "cell_type": "code",
   "execution_count": 5,
   "metadata": {},
   "outputs": [],
   "source": [
    "from collections import deque"
   ]
  },
  {
   "cell_type": "code",
   "execution_count": 7,
   "metadata": {},
   "outputs": [],
   "source": [
    "with open(\"21_input.txt\") as f:\n",
    "    grid = {}\n",
    "    for i, line in enumerate(f):\n",
    "         for j, s in enumerate(line.strip()):\n",
    "            grid[i, j] = s\n",
    "            if s == \"S\":\n",
    "                si, sj = i, j"
   ]
  },
  {
   "cell_type": "code",
   "execution_count": 13,
   "metadata": {},
   "outputs": [],
   "source": [
    "def fill(si, sj, ss):\n",
    "    ans = set()\n",
    "    seen = {(si, sj)}\n",
    "    q = deque([(si, sj, ss)])\n",
    "    while q:\n",
    "        i, j, s = q.popleft()\n",
    "        \n",
    "        if s % 2 == 0:\n",
    "            ans.add((i, j))\n",
    "        if s == 0:\n",
    "            continue\n",
    "\n",
    "        for di, dj in [(-1, 0), (1, 0), (0, -1), (0, 1)]:\n",
    "            ni, nj = i + di, j + dj\n",
    "            if (ni, nj) in grid and grid[ni, nj] != \"#\" and (ni, nj) not in seen:\n",
    "                seen.add((ni, nj))\n",
    "                q.append((ni, nj, s - 1))\n",
    "    return len(ans)"
   ]
  },
  {
   "cell_type": "code",
   "execution_count": 31,
   "metadata": {},
   "outputs": [],
   "source": [
    "i_max = max(x[0] for x in grid.keys())\n",
    "j_max = max(x[1] for x in grid.keys())\n",
    "size = i_max + 1\n",
    "assert i_max == j_max\n",
    "assert si == sj == i_max // 2 == j_max // 2\n",
    "steps = 26501365\n",
    "assert steps % size == size // 2"
   ]
  },
  {
   "cell_type": "code",
   "execution_count": 32,
   "metadata": {},
   "outputs": [],
   "source": [
    "grid_width = steps // size - 1\n",
    "odd = (grid_width // 2 * 2 + 1)**2\n",
    "even = ((grid_width + 1) // 2 * 2)**2"
   ]
  },
  {
   "cell_type": "code",
   "execution_count": 40,
   "metadata": {},
   "outputs": [],
   "source": [
    "odd_points = fill(si, sj, size * 2 + 1)\n",
    "even_points = fill(si, sj, size * 2)\n",
    "\n",
    "corner_t = fill(size - 1, sj, size - 1)\n",
    "corner_r = fill(si, 0, size - 1)\n",
    "corner_b = fill(0, sj, size - 1)\n",
    "corner_l = fill(si, size - 1, size - 1)\n",
    "\n",
    "small_tr = fill(size - 1, 0, size // 2  - 1)\n",
    "small_tl = fill(size - 1, size - 1, size // 2 - 1)\n",
    "small_br = fill(0, 0, size // 2 - 1)\n",
    "small_bl = fill(0, size - 1, size // 2  - 1)\n",
    "\n",
    "large_tr = fill(size - 1, 0, 3 * size // 2  - 1)\n",
    "large_tl = fill(size - 1, size - 1, 3 * size // 2 - 1)\n",
    "large_br = fill(0, 0, 3 * size // 2 - 1)\n",
    "large_bl = fill(0, size - 1, 3 * size // 2  - 1)"
   ]
  },
  {
   "cell_type": "code",
   "execution_count": 41,
   "metadata": {},
   "outputs": [
    {
     "data": {
      "text/plain": [
       "618261433219147"
      ]
     },
     "execution_count": 41,
     "metadata": {},
     "output_type": "execute_result"
    }
   ],
   "source": [
    "(\n",
    "    odd * odd_points\n",
    "    + even * even_points \n",
    "    + corner_t \n",
    "    + corner_r \n",
    "    + corner_b \n",
    "    + corner_l\n",
    "    + (grid_width + 1) * (small_tr + small_tl + small_br + small_bl)\n",
    "    + grid_width * (large_tr + large_tl + large_br + large_bl)\n",
    ") "
   ]
  }
 ],
 "metadata": {
  "kernelspec": {
   "display_name": "ds",
   "language": "python",
   "name": "python3"
  },
  "language_info": {
   "codemirror_mode": {
    "name": "ipython",
    "version": 3
   },
   "file_extension": ".py",
   "mimetype": "text/x-python",
   "name": "python",
   "nbconvert_exporter": "python",
   "pygments_lexer": "ipython3",
   "version": "3.12.1"
  }
 },
 "nbformat": 4,
 "nbformat_minor": 2
}
