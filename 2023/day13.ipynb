{
 "cells": [
  {
   "cell_type": "code",
   "execution_count": 1,
   "metadata": {},
   "outputs": [],
   "source": [
    "import numpy as np"
   ]
  },
  {
   "cell_type": "code",
   "execution_count": 20,
   "metadata": {},
   "outputs": [],
   "source": [
    "def read_input(filename):\n",
    "    matrices = []\n",
    "    with open(filename) as f:\n",
    "        for m in f.read().split('\\n\\n'):\n",
    "            mm = [[1 if c == '#' else 0 for c in r] for r in m.split()]\n",
    "            matrices.append(np.array(mm))\n",
    "    return matrices"
   ]
  },
  {
   "cell_type": "code",
   "execution_count": 75,
   "metadata": {},
   "outputs": [],
   "source": [
    "matrices = read_input('13_input.txt')"
   ]
  },
  {
   "cell_type": "code",
   "execution_count": 77,
   "metadata": {},
   "outputs": [],
   "source": [
    "def v_sym(m, i):\n",
    "    n_cols = m.shape[1]\n",
    "    n = min(i, n_cols - i)\n",
    "    ix1 = range(i - n, i)\n",
    "    ix2 = range(i, i + n)\n",
    "    return np.sum(m[:, ix1] != np.fliplr(m[:, ix2]))\n",
    "\n",
    "def h_sym(m, i):\n",
    "    n_rows = m.shape[0]\n",
    "    n = min(i, n_rows - i)\n",
    "    ix1 = range(i - n, i)\n",
    "    ix2 = range(i, i + n)\n",
    "    return np.sum(m[ix1, :] != np.flipud(m[ix2, :]))"
   ]
  },
  {
   "cell_type": "code",
   "execution_count": 80,
   "metadata": {},
   "outputs": [
    {
     "data": {
      "text/plain": [
       "23479"
      ]
     },
     "execution_count": 80,
     "metadata": {},
     "output_type": "execute_result"
    }
   ],
   "source": [
    "n_diff = 1\n",
    "s = 0\n",
    "for m in matrices:\n",
    "    found = False\n",
    "    n_rows, n_cols = m.shape\n",
    "    for i in range(1, n_cols):\n",
    "        if v_sym(m, i) == n_diff:\n",
    "            s += i\n",
    "            found = True\n",
    "            break\n",
    "    if found:\n",
    "        continue\n",
    "    for i in range(1, n_rows):\n",
    "        if h_sym(m, i) == n_diff:\n",
    "            s += i * 100\n",
    "            break\n",
    "s"
   ]
  }
 ],
 "metadata": {
  "kernelspec": {
   "display_name": "ds",
   "language": "python",
   "name": "python3"
  },
  "language_info": {
   "codemirror_mode": {
    "name": "ipython",
    "version": 3
   },
   "file_extension": ".py",
   "mimetype": "text/x-python",
   "name": "python",
   "nbconvert_exporter": "python",
   "pygments_lexer": "ipython3",
   "version": "3.12.1"
  }
 },
 "nbformat": 4,
 "nbformat_minor": 2
}
