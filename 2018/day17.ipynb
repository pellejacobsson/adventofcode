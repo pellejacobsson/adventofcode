{
 "cells": [
  {
   "cell_type": "code",
   "execution_count": 1,
   "metadata": {},
   "outputs": [],
   "source": [
    "import re\n",
    "import numpy as np"
   ]
  },
  {
   "cell_type": "code",
   "execution_count": 37,
   "metadata": {},
   "outputs": [],
   "source": [
    "def read_input(filename):\n",
    "    clay = []\n",
    "    pattern = re.compile(r'(y|x)=(\\d+), (x|y)=(\\d+)\\.\\.(\\d+)')\n",
    "    with open(filename, 'r') as f:\n",
    "        for line in f.readlines():\n",
    "            m = pattern.search(line.strip())\n",
    "            c1 = m[1]\n",
    "            v1 = int(m[2])\n",
    "            v2 = int(m[4])\n",
    "            v3 = int(m[5])\n",
    "            if c1 == 'x':\n",
    "                for i in range(v2, v3 + 1):\n",
    "                    clay.append((i, v1))\n",
    "            elif c1 == 'y':\n",
    "                for j in range(v2, v3 + 1):\n",
    "                    clay.append((v1, j))\n",
    "    i_min = min(clay, key=lambda z: z[0])[0]\n",
    "    i_max = max(clay, key=lambda z: z[0])[0]\n",
    "    j_min = min(clay, key=lambda z: z[1])[1]\n",
    "    j_max = max(clay, key=lambda z: z[1])[1]\n",
    "    grid = np.full((i_max + 1 + 1, j_max - j_min + 3 + 1), 1)\n",
    "    spring = (0, 500 - j_min + 1 + 1)\n",
    "    grid[spring] = 0\n",
    "    for c in clay:\n",
    "        grid[c[0], c[1] - j_min + 1 + 1] = 4\n",
    "    \n",
    "    return grid, spring\n",
    "\n",
    "def print_grid(grid):\n",
    "    for i in range(grid.shape[0]):\n",
    "        line = []\n",
    "        for v in grid[i, :]:\n",
    "            if v == 0:\n",
    "                c = '+'\n",
    "            elif v == 1:\n",
    "                c = '.'\n",
    "            elif v == 2:\n",
    "                c = '|'\n",
    "            elif v == 3:\n",
    "                c = '~'\n",
    "            elif v == 4:\n",
    "                c = '#'\n",
    "            line.append(c)\n",
    "        print(''.join(line))\n",
    "\n",
    "def step(grid, springs):\n",
    "    def step_spring(spring):\n",
    "        i, j = spring\n",
    "        d = np.argmax(grid[i + 1:, j] > 2)\n",
    "        if not (d > 0 or grid[i + 1, j] > 2):\n",
    "            d = grid.shape[0] - 1\n",
    "        grid[i + 1:i + d, j] = 2\n",
    "        if d + 1 < grid.shape[0]:\n",
    "            l = np.argmax(np.concatenate((grid[i + d, :j][::-1] > 2, [True])))\n",
    "            r = np.argmax(np.concatenate((grid[i + d, j + 1:] > 2, [True])))\n",
    "            b = np.all(grid[i + d + 1, j - l:j + r + 1] >= 2)\n",
    "            if b:\n",
    "                grid[i + d, j] = 3\n",
    "                if l > 0:\n",
    "                    grid[i + d, j - l:j] = 3\n",
    "                if r > 0:\n",
    "                    grid[i + d, j + 1:j + r + 1] = 3\n",
    "            else:\n",
    "                l = min(l, np.argmin(grid[i + d + 1, :j + 1][::-1] > 2))\n",
    "                r = min(r, np.argmin(grid[i + d + 1, j:] > 2))\n",
    "                grid[i + d, j - l:j + r + 1] = 2\n",
    "                if grid[i + d + 1, j - l] == 1:\n",
    "                    springs.append((i + d, j - l))\n",
    "                if grid[i + d + 1, j + r] == 1:\n",
    "                    springs.append((i + d, j + r))\n",
    "    \n",
    "    for spring in springs:\n",
    "        step_spring(spring)\n",
    "    return springs\n",
    "    \n",
    "\n",
    "def run_flow(grid, spring):\n",
    "    springs = [spring]\n",
    "    pre = np.zeros_like(grid)\n",
    "    i = 0\n",
    "    while not np.array_equal(grid, pre):\n",
    "        i += 1\n",
    "        pre = np.copy(grid)\n",
    "        springs = step(grid, springs)\n",
    "    dry_cells = np.count_nonzero(grid[7:1985, :] == 2)\n",
    "    water_cells = np.count_nonzero(grid[7:1985, :] == 3)\n",
    "    return dry_cells + water_cells, water_cells"
   ]
  },
  {
   "cell_type": "code",
   "execution_count": 39,
   "metadata": {},
   "outputs": [
    {
     "data": {
      "text/plain": [
       "(29741, 24198)"
      ]
     },
     "execution_count": 39,
     "metadata": {},
     "output_type": "execute_result"
    }
   ],
   "source": [
    "grid, spring = read_input('17_input.txt')\n",
    "run_flow(grid, spring)"
   ]
  }
 ],
 "metadata": {
  "kernelspec": {
   "display_name": "ds-base-311",
   "language": "python",
   "name": "python3"
  },
  "language_info": {
   "codemirror_mode": {
    "name": "ipython",
    "version": 3
   },
   "file_extension": ".py",
   "mimetype": "text/x-python",
   "name": "python",
   "nbconvert_exporter": "python",
   "pygments_lexer": "ipython3",
   "version": "3.11.4"
  }
 },
 "nbformat": 4,
 "nbformat_minor": 2
}
