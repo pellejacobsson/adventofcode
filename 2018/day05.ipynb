{
 "cells": [
  {
   "cell_type": "code",
   "execution_count": 73,
   "metadata": {},
   "outputs": [],
   "source": [
    "def read_input(filename):\n",
    "    with open(filename, 'r') as f:\n",
    "        return [s for s in f.readline().strip()]\n",
    "\n",
    "def poly_reduce(polymer):\n",
    "    stack = []\n",
    "    for c2 in polymer:\n",
    "        if not stack:\n",
    "            stack.append(c2)\n",
    "        else:\n",
    "            c1 = stack[-1]\n",
    "            if c1.lower() == c2.lower() and ((c1.isupper() and c2.islower()) or (c1.islower() and c2.isupper())):\n",
    "                stack.pop()\n",
    "            else:\n",
    "                stack.append(c2)\n",
    "    return stack"
   ]
  },
  {
   "cell_type": "code",
   "execution_count": 74,
   "metadata": {},
   "outputs": [
    {
     "data": {
      "text/plain": [
       "9704"
      ]
     },
     "execution_count": 74,
     "metadata": {},
     "output_type": "execute_result"
    }
   ],
   "source": [
    "polymer = read_input('05_input.txt')\n",
    "polymer = poly_reduce(polymer)\n",
    "len(polymer)"
   ]
  },
  {
   "cell_type": "code",
   "execution_count": 82,
   "metadata": {},
   "outputs": [],
   "source": [
    "polymer_orig = read_input('05_input.txt')\n",
    "ab = [chr(n) for n in range(ord('a'), ord('z') + 1)]\n",
    "poly_map = {}\n",
    "for c_remove in ab:\n",
    "    polymer = polymer_orig.copy()\n",
    "    polymer = [c for c in polymer if c.lower() != c_remove]\n",
    "    polymer = poly_reduce(polymer)\n",
    "    poly_map[c_remove] = len(polymer)"
   ]
  },
  {
   "cell_type": "code",
   "execution_count": 84,
   "metadata": {},
   "outputs": [
    {
     "data": {
      "text/plain": [
       "('m', 6942)"
      ]
     },
     "execution_count": 84,
     "metadata": {},
     "output_type": "execute_result"
    }
   ],
   "source": [
    "min(poly_map.items(), key=lambda x: x[1])"
   ]
  }
 ],
 "metadata": {
  "kernelspec": {
   "display_name": "ds-base-311",
   "language": "python",
   "name": "python3"
  },
  "language_info": {
   "codemirror_mode": {
    "name": "ipython",
    "version": 3
   },
   "file_extension": ".py",
   "mimetype": "text/x-python",
   "name": "python",
   "nbconvert_exporter": "python",
   "pygments_lexer": "ipython3",
   "version": "3.11.4"
  },
  "orig_nbformat": 4
 },
 "nbformat": 4,
 "nbformat_minor": 2
}
