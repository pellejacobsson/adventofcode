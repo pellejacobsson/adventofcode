{
 "cells": [
  {
   "cell_type": "code",
   "execution_count": 3,
   "metadata": {},
   "outputs": [],
   "source": [
    "def read_input(filename):\n",
    "    instructions = []\n",
    "    with open(filename, 'r') as f:\n",
    "        ip = int(f.readline().strip().split(' ')[1])\n",
    "        for line in f.readlines():\n",
    "            instructions.append(line.strip().split(' '))\n",
    "    ip = int(ip)\n",
    "    instructions = [[x[0], int(x[1]), int(x[2]), int(x[3])] for x in instructions]\n",
    "    return ip, instructions\n",
    "\n",
    "class Program:\n",
    "    def __init__(self, ip, reg=[0, 0, 0, 0, 0, 0]):\n",
    "        self.reg = reg\n",
    "        self.ip = ip\n",
    "    \n",
    "    def step(self, instruction):\n",
    "        reg = self.reg\n",
    "        op, a, b, c = instruction\n",
    "        match op:\n",
    "            case 'addr':\n",
    "                res = reg[a] + reg[b]\n",
    "            case 'addi':\n",
    "                res = reg[a] + b\n",
    "            case 'mulr':\n",
    "                res = reg[a] * reg[b]\n",
    "            case 'muli':\n",
    "                res = reg[a] * b\n",
    "            case 'banr':\n",
    "                res = reg[a] & reg[b]\n",
    "            case 'bani':\n",
    "                res = reg[a] & b\n",
    "            case 'borr':\n",
    "                res = reg[a] | reg[b]\n",
    "            case 'bori':\n",
    "                res = reg[a] | b\n",
    "            case 'setr':\n",
    "                res = reg[a]\n",
    "            case 'seti':\n",
    "                res = a\n",
    "            case 'gtir':\n",
    "                res = 1 if a > reg[b] else 0\n",
    "            case 'gtri':\n",
    "                res = 1 if reg[a] > b else 0\n",
    "            case 'gtrr':\n",
    "                res = 1 if reg[a] > reg[b] else 0\n",
    "            case 'eqir':\n",
    "                res = 1 if a == reg[b] else 0\n",
    "            case 'eqri':\n",
    "                res = 1 if reg[a] == b else 0\n",
    "            case 'eqrr':\n",
    "                res = 1 if reg[a] == reg[b] else 0\n",
    "        self.reg[c] = res\n",
    "\n",
    "    def run(self, instructions):\n",
    "        ip = self.ip\n",
    "        i = 0\n",
    "        while True:\n",
    "            if i < 0 or i > len(instructions) - 1:\n",
    "                break\n",
    "            instruction = instructions[i]\n",
    "            self.reg[ip] = i\n",
    "            self.step(instruction)\n",
    "            i = self.reg[ip] + 1\n"
   ]
  },
  {
   "cell_type": "code",
   "execution_count": 4,
   "metadata": {},
   "outputs": [],
   "source": [
    "ip, instructions = read_input('19_input.txt')"
   ]
  },
  {
   "cell_type": "code",
   "execution_count": 5,
   "metadata": {},
   "outputs": [],
   "source": [
    "p = Program(ip, reg=[0, 0, 0, 0, 0, 0])"
   ]
  },
  {
   "cell_type": "code",
   "execution_count": 6,
   "metadata": {},
   "outputs": [],
   "source": [
    "p.run(instructions)"
   ]
  },
  {
   "cell_type": "code",
   "execution_count": 7,
   "metadata": {},
   "outputs": [
    {
     "data": {
      "text/plain": [
       "[1488, 915, 256, 916, 1, 916]"
      ]
     },
     "execution_count": 7,
     "metadata": {},
     "output_type": "execute_result"
    }
   ],
   "source": [
    "p.reg"
   ]
  },
  {
   "cell_type": "code",
   "execution_count": 8,
   "metadata": {},
   "outputs": [
    {
     "name": "stdout",
     "output_type": "stream",
     "text": [
      "1488\n"
     ]
    }
   ],
   "source": [
    "x1 = 915\n",
    "x0 = 0\n",
    "for x3 in range(1, x1 + 2):\n",
    "    for x5 in range(1, x1 + 2):\n",
    "        if x3 * x5 == x1:\n",
    "            x0 += x3\n",
    "print(x0)"
   ]
  },
  {
   "cell_type": "code",
   "execution_count": 9,
   "metadata": {},
   "outputs": [
    {
     "name": "stdout",
     "output_type": "stream",
     "text": [
      "17427456\n"
     ]
    }
   ],
   "source": [
    "x1 = 10551315\n",
    "factors = []\n",
    "for x3 in range(1, x1 + 2):\n",
    "    if x1 % x3 == 0:\n",
    "        factors.append(x3)\n",
    "print(sum(factors))"
   ]
  },
  {
   "cell_type": "code",
   "execution_count": null,
   "metadata": {},
   "outputs": [],
   "source": []
  }
 ],
 "metadata": {
  "kernelspec": {
   "display_name": "ds-base-311",
   "language": "python",
   "name": "python3"
  },
  "language_info": {
   "codemirror_mode": {
    "name": "ipython",
    "version": 3
   },
   "file_extension": ".py",
   "mimetype": "text/x-python",
   "name": "python",
   "nbconvert_exporter": "python",
   "pygments_lexer": "ipython3",
   "version": "3.11.4"
  }
 },
 "nbformat": 4,
 "nbformat_minor": 2
}
