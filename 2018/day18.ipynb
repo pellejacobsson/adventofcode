{
 "cells": [
  {
   "cell_type": "code",
   "execution_count": 1,
   "metadata": {},
   "outputs": [],
   "source": [
    "import numpy as np"
   ]
  },
  {
   "cell_type": "code",
   "execution_count": 2,
   "metadata": {},
   "outputs": [],
   "source": [
    "def read_input(filename):\n",
    "    t = {'.': 0, '|': 1, '#': 2}\n",
    "    with open(filename, 'r') as f:\n",
    "        area = [[t[s] for s in line.strip()] for line in f.readlines()]\n",
    "    area = np.array(area)\n",
    "    area2 = np.zeros((area.shape[0] + 2, area.shape[1] + 2), dtype=int)\n",
    "    area2[1:-1, 1:-1] = area\n",
    "    return area2\n",
    "\n",
    "def open_to_tree(area, i, j):\n",
    "    return np.sum(area[i - 1:i + 2, j - 1:j + 2] == 1) >= 3\n",
    "\n",
    "def tree_to_lumberyard(area, i, j):\n",
    "    return np.sum(area[i - 1:i + 2, j - 1:j + 2] == 2) >= 3\n",
    "\n",
    "def lumberyard_to_open(area, i, j):\n",
    "    has_tree = np.sum(area[i - 1:i + 2, j - 1:j + 2] == 1) > 0\n",
    "    has_lumberyard = np.sum(area[i - 1:i + 2, j - 1:j + 2] == 2) > 1\n",
    "    return not (has_tree and has_lumberyard)\n",
    "\n",
    "def step(area):\n",
    "    new_area = area.copy()\n",
    "    for i in range(1, area.shape[0] - 1):\n",
    "        for j in range(1, area.shape[1] - 1):\n",
    "            if area[i, j] == 0 and open_to_tree(area, i, j):\n",
    "                new_area[i, j] = 1\n",
    "            elif area[i, j] == 1 and tree_to_lumberyard(area, i, j):\n",
    "                new_area[i, j] = 2\n",
    "            elif area[i, j] == 2 and lumberyard_to_open(area, i, j):\n",
    "                new_area[i, j] = 0\n",
    "    return new_area\n",
    "\n",
    "def print_area(area):\n",
    "    t = {0: '.', 1: '|', 2: '#'}\n",
    "    for i in range(area.shape[0]):\n",
    "        print(''.join([t[x] for x in area[i, :]]))\n"
   ]
  },
  {
   "cell_type": "code",
   "execution_count": 3,
   "metadata": {},
   "outputs": [
    {
     "data": {
      "text/plain": [
       "564375"
      ]
     },
     "execution_count": 3,
     "metadata": {},
     "output_type": "execute_result"
    }
   ],
   "source": [
    "area = read_input('18_input.txt')\n",
    "for _ in range(10):\n",
    "    area = step(area)\n",
    "np.sum(area == 1) * np.sum(area == 2)"
   ]
  },
  {
   "cell_type": "code",
   "execution_count": 4,
   "metadata": {},
   "outputs": [
    {
     "name": "stdout",
     "output_type": "stream",
     "text": [
      "511 539\n"
     ]
    }
   ],
   "source": [
    "area = read_input('18_input.txt')\n",
    "hist = [area]\n",
    "found = False\n",
    "for n in range(1, 1000):\n",
    "    area = step(area)\n",
    "    for m, area_old in enumerate(hist):\n",
    "        if np.array_equal(area, area_old):\n",
    "            print(m, n)\n",
    "            found = True\n",
    "            break\n",
    "    if found:\n",
    "        break\n",
    "    hist.append(area)\n"
   ]
  },
  {
   "cell_type": "code",
   "execution_count": 5,
   "metadata": {},
   "outputs": [
    {
     "data": {
      "text/plain": [
       "13"
      ]
     },
     "execution_count": 5,
     "metadata": {},
     "output_type": "execute_result"
    }
   ],
   "source": [
    "(1000000000 - 511) % 28"
   ]
  },
  {
   "cell_type": "code",
   "execution_count": 6,
   "metadata": {},
   "outputs": [
    {
     "data": {
      "text/plain": [
       "189720"
      ]
     },
     "execution_count": 6,
     "metadata": {},
     "output_type": "execute_result"
    }
   ],
   "source": [
    "area = read_input('18_input.txt')\n",
    "for _ in range(511 + 13):\n",
    "    area = step(area)\n",
    "np.sum(area == 1) * np.sum(area == 2)"
   ]
  }
 ],
 "metadata": {
  "kernelspec": {
   "display_name": "ds-base-311",
   "language": "python",
   "name": "python3"
  },
  "language_info": {
   "codemirror_mode": {
    "name": "ipython",
    "version": 3
   },
   "file_extension": ".py",
   "mimetype": "text/x-python",
   "name": "python",
   "nbconvert_exporter": "python",
   "pygments_lexer": "ipython3",
   "version": "3.11.4"
  }
 },
 "nbformat": 4,
 "nbformat_minor": 2
}
