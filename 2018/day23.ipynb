{
 "cells": [
  {
   "cell_type": "code",
   "execution_count": 1,
   "metadata": {},
   "outputs": [],
   "source": [
    "import re\n",
    "import numpy as np"
   ]
  },
  {
   "cell_type": "code",
   "execution_count": 17,
   "metadata": {},
   "outputs": [],
   "source": [
    "def read_input(filename):\n",
    "    expr = re.compile(r'pos=<(-?\\d*),(-?\\d*),(-?\\d*)>, r=(\\d*)')\n",
    "    x = []\n",
    "    y = []\n",
    "    z = []\n",
    "    r = []\n",
    "    with open(filename, 'r') as f:\n",
    "        for line in f.readlines():\n",
    "            m = expr.search(line.strip())\n",
    "            x.append(int(m[1]))\n",
    "            y.append(int(m[2]))\n",
    "            z.append(int(m[3]))\n",
    "            r.append(int(m[4]))\n",
    "    return np.array(x), np.array(y), np.array(z), np.array(r)\n",
    "\n",
    "def manhattan(x, y, z, b_x, b_y, b_z):\n",
    "    return np.abs(x - b_x) + np.abs(y - b_y) + np.abs(z - b_z)"
   ]
  },
  {
   "cell_type": "code",
   "execution_count": 15,
   "metadata": {},
   "outputs": [],
   "source": [
    "b_x, b_y, b_z, b_r = read_input('23_input.txt')"
   ]
  },
  {
   "cell_type": "code",
   "execution_count": 6,
   "metadata": {},
   "outputs": [],
   "source": [
    "ix = np.argmax(b_r)"
   ]
  },
  {
   "cell_type": "code",
   "execution_count": 18,
   "metadata": {},
   "outputs": [
    {
     "data": {
      "text/plain": [
       "294"
      ]
     },
     "execution_count": 18,
     "metadata": {},
     "output_type": "execute_result"
    }
   ],
   "source": [
    "np.sum(manhattan(b_x[ix], b_y[ix], b_z[ix], b_x, b_y, b_z) <= b_r[ix])"
   ]
  }
 ],
 "metadata": {
  "kernelspec": {
   "display_name": "ds-base-311",
   "language": "python",
   "name": "python3"
  },
  "language_info": {
   "codemirror_mode": {
    "name": "ipython",
    "version": 3
   },
   "file_extension": ".py",
   "mimetype": "text/x-python",
   "name": "python",
   "nbconvert_exporter": "python",
   "pygments_lexer": "ipython3",
   "version": "3.11.4"
  }
 },
 "nbformat": 4,
 "nbformat_minor": 2
}
