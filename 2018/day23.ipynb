{
 "cells": [
  {
   "cell_type": "markdown",
   "metadata": {},
   "source": [
    "Cheating with the Z3 solver for part 2."
   ]
  },
  {
   "cell_type": "code",
   "execution_count": 1,
   "metadata": {},
   "outputs": [],
   "source": [
    "import re\n",
    "import numpy as np\n",
    "import z3"
   ]
  },
  {
   "cell_type": "code",
   "execution_count": 2,
   "metadata": {},
   "outputs": [],
   "source": [
    "def read_input(filename):\n",
    "    expr = re.compile(r'pos=<(-?\\d*),(-?\\d*),(-?\\d*)>, r=(\\d*)')\n",
    "    x = []\n",
    "    y = []\n",
    "    z = []\n",
    "    r = []\n",
    "    with open(filename, 'r') as f:\n",
    "        for line in f.readlines():\n",
    "            m = expr.search(line.strip())\n",
    "            x.append(int(m[1]))\n",
    "            y.append(int(m[2]))\n",
    "            z.append(int(m[3]))\n",
    "            r.append(int(m[4]))\n",
    "    return np.array(x), np.array(y), np.array(z), np.array(r)\n",
    "\n",
    "def manhattan(x, y, z, b_x, b_y, b_z):\n",
    "    return np.abs(x - b_x) + np.abs(y - b_y) + np.abs(z - b_z)"
   ]
  },
  {
   "cell_type": "code",
   "execution_count": 3,
   "metadata": {},
   "outputs": [],
   "source": [
    "b_x, b_y, b_z, b_r = read_input('23_input.txt')"
   ]
  },
  {
   "cell_type": "code",
   "execution_count": 4,
   "metadata": {},
   "outputs": [],
   "source": [
    "ix = np.argmax(b_r)"
   ]
  },
  {
   "cell_type": "code",
   "execution_count": 5,
   "metadata": {},
   "outputs": [
    {
     "data": {
      "text/plain": [
       "294"
      ]
     },
     "execution_count": 5,
     "metadata": {},
     "output_type": "execute_result"
    }
   ],
   "source": [
    "np.sum(manhattan(b_x[ix], b_y[ix], b_z[ix], b_x, b_y, b_z) <= b_r[ix])"
   ]
  },
  {
   "cell_type": "code",
   "execution_count": 9,
   "metadata": {},
   "outputs": [],
   "source": [
    "b_x, b_y, b_z, b_r = read_input('23_input.txt')\n",
    "def zabs(x):\n",
    "  return z3.If(x >= 0,x,-x)\n",
    "(x, y, z) = (z3.Int('x'), z3.Int('y'), z3.Int('z'))\n",
    "in_ranges = [\n",
    "  z3.Int('in_range_' + str(i)) for i in range(len(b_x))\n",
    "]\n",
    "range_count = z3.Int('sum')\n",
    "o = z3.Optimize()\n",
    "for i, (nx, ny, nz, nr) in enumerate(zip(b_x, b_y, b_z, b_r)):\n",
    "  o.add(in_ranges[i] == z3.If(zabs(x - nx) + zabs(y - ny) + zabs(z - nz) <= nr, 1, 0))\n",
    "o.add(range_count == sum(in_ranges))\n",
    "dist_from_zero = z3.Int('dist')\n",
    "o.add(dist_from_zero == zabs(x) + zabs(y) + zabs(z))\n",
    "h1 = o.maximize(range_count)\n",
    "h2 = o.minimize(dist_from_zero)"
   ]
  },
  {
   "cell_type": "code",
   "execution_count": 11,
   "metadata": {},
   "outputs": [
    {
     "name": "stdout",
     "output_type": "stream",
     "text": [
      "sat\n",
      "x = 23449460, y = 25729347, z = 39715650\n",
      "Number in range: 977, distance: 88894457\n"
     ]
    }
   ],
   "source": [
    "print(o.check())\n",
    "print(f'x = {o.model()[x]}, y = {o.model()[y]}, z = {o.model()[z]}')\n",
    "print(f'Number in range: {o.lower(h1)}, distance: {o.upper(h2)}')"
   ]
  },
  {
   "cell_type": "code",
   "execution_count": null,
   "metadata": {},
   "outputs": [],
   "source": []
  }
 ],
 "metadata": {
  "kernelspec": {
   "display_name": "ds-base-311",
   "language": "python",
   "name": "python3"
  },
  "language_info": {
   "codemirror_mode": {
    "name": "ipython",
    "version": 3
   },
   "file_extension": ".py",
   "mimetype": "text/x-python",
   "name": "python",
   "nbconvert_exporter": "python",
   "pygments_lexer": "ipython3",
   "version": "3.12.0"
  }
 },
 "nbformat": 4,
 "nbformat_minor": 2
}
