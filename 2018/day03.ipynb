{
 "cells": [
  {
   "cell_type": "code",
   "execution_count": 29,
   "metadata": {},
   "outputs": [],
   "source": [
    "import re\n",
    "import numpy as np"
   ]
  },
  {
   "cell_type": "code",
   "execution_count": 80,
   "metadata": {},
   "outputs": [],
   "source": [
    "def read_input(filename):\n",
    "    with open(filename, 'r') as f:\n",
    "        lines = f.readlines()\n",
    "    d = {}\n",
    "    for line in lines:\n",
    "        m = re.search(r'#([0-9]*) @ ([0-9]*),([0-9]*): ([0-9]*)x([0-9]*)', line)\n",
    "        id = int(m.group(1))\n",
    "        d[id] = [int(m.group(n)) for n in range(2, 6)]\n",
    "    return d"
   ]
  },
  {
   "cell_type": "code",
   "execution_count": 81,
   "metadata": {},
   "outputs": [],
   "source": [
    "def runit(filename):\n",
    "    claims = read_input('03_input.txt')\n",
    "    width = max([x[0] + x[2] for x in claims.values()])\n",
    "    height = max([x[1] + x[3] for x in claims.values()])\n",
    "    fabric = np.zeros((height, width))\n",
    "    for claim in claims.values():\n",
    "        fabric[claim[1]:claim[1] + claim[3], claim[0]:claim[0] + claim[2]] += 1\n",
    "    return np.sum(fabric > 1)"
   ]
  },
  {
   "cell_type": "code",
   "execution_count": 82,
   "metadata": {},
   "outputs": [
    {
     "data": {
      "text/plain": [
       "111485"
      ]
     },
     "execution_count": 82,
     "metadata": {},
     "output_type": "execute_result"
    }
   ],
   "source": [
    "runit('03_input.txt')"
   ]
  },
  {
   "cell_type": "code",
   "execution_count": 83,
   "metadata": {},
   "outputs": [],
   "source": [
    "def overlap(r1, r2):\n",
    "    x11, y11 = r1[:2]\n",
    "    x21, y21 = r2[:2]\n",
    "    x12 = x11 + r1[2] - 1\n",
    "    y12 = y11 + r1[3] - 1\n",
    "    x22 = x21 + r2[2] - 1\n",
    "    y22 = y21 + r2[3] - 1\n",
    "    return (np.minimum(x12, x22) >= np.maximum(x11, x21)) and (np.minimum(y12, y22) >= np.maximum(y11, y21))"
   ]
  },
  {
   "cell_type": "code",
   "execution_count": 100,
   "metadata": {},
   "outputs": [],
   "source": [
    "def runit2(filename):\n",
    "    claims = read_input('03_input.txt')\n",
    "    n_id = max(claims.keys())\n",
    "    fabric = np.full((n_id, n_id), False)\n",
    "    for i in range(n_id):\n",
    "        for j in range(i + 1, n_id):\n",
    "            if overlap(claims[i+1], claims[j+1]):\n",
    "                fabric[i, j] = True\n",
    "                fabric[j, i] = True\n",
    "    return fabric"
   ]
  },
  {
   "cell_type": "code",
   "execution_count": 101,
   "metadata": {},
   "outputs": [],
   "source": [
    "fabric = runit2('03_input.txt')"
   ]
  },
  {
   "cell_type": "code",
   "execution_count": 107,
   "metadata": {},
   "outputs": [
    {
     "name": "stdout",
     "output_type": "stream",
     "text": [
      "Non-overlapping ID: 113\n"
     ]
    }
   ],
   "source": [
    "print(f'Non-overlapping ID: {np.argmin(np.sum(fabric, axis=0)) + 1}')"
   ]
  }
 ],
 "metadata": {
  "kernelspec": {
   "display_name": "Python 3.10.4 ('ds')",
   "language": "python",
   "name": "python3"
  },
  "language_info": {
   "codemirror_mode": {
    "name": "ipython",
    "version": 3
   },
   "file_extension": ".py",
   "mimetype": "text/x-python",
   "name": "python",
   "nbconvert_exporter": "python",
   "pygments_lexer": "ipython3",
   "version": "3.10.4"
  },
  "orig_nbformat": 4,
  "vscode": {
   "interpreter": {
    "hash": "a7861172d2007d4541fab3e4eefe3a41dabba6fa735ecd87066a89563db3fd59"
   }
  }
 },
 "nbformat": 4,
 "nbformat_minor": 2
}
