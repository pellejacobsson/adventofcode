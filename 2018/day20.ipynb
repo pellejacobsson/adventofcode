{
 "cells": [
  {
   "cell_type": "code",
   "execution_count": 1,
   "metadata": {},
   "outputs": [],
   "source": [
    "def read_input(filename):\n",
    "    with open(filename, 'r') as f:\n",
    "        return f.readline()"
   ]
  },
  {
   "cell_type": "code",
   "execution_count": 44,
   "metadata": {},
   "outputs": [],
   "source": [
    "#regexp = '^ENNWSWW(NEWS|)SSSEEN(WNSE|)EE(SWEN|)NNN$'\n",
    "#regexp = '^ESSWWN(E|NNENN(EESS(WNSE|)SSS|WWWSSSSE(SW|NNNE)))$'\n",
    "#regexp = '^WSSEESWWWNW(S|NENNEEEENN(ESSSSW(NWSW|SSEN)|WSWWN(E|WWS(E|SS))))$'\n",
    "regexp = read_input('20_input.txt')\n",
    "x, y = 0, 0\n",
    "stack = []\n",
    "d = 0\n",
    "dist = {}\n",
    "cmap = {'N': (0, 1), 'E': (1, 0), 'S': (0, -1), 'W': (-1, 0)}\n",
    "for c in regexp:\n",
    "    if c in 'NESW':\n",
    "        dx, dy = cmap[c]\n",
    "        x += dx\n",
    "        y += dy\n",
    "        d += 1\n",
    "        dist[x, y] = min(dist.get((x, y), 1e6), d)\n",
    "    elif c == '(':\n",
    "        stack.append((x, y, d))\n",
    "    elif c == ')':\n",
    "        x, y, d = stack.pop()\n",
    "    elif c == '|':\n",
    "        x, y, d = stack[-1]"
   ]
  },
  {
   "cell_type": "code",
   "execution_count": 45,
   "metadata": {},
   "outputs": [
    {
     "data": {
      "text/plain": [
       "3151"
      ]
     },
     "execution_count": 45,
     "metadata": {},
     "output_type": "execute_result"
    }
   ],
   "source": [
    "max(dist.values())"
   ]
  },
  {
   "cell_type": "code",
   "execution_count": 51,
   "metadata": {},
   "outputs": [
    {
     "data": {
      "text/plain": [
       "8784"
      ]
     },
     "execution_count": 51,
     "metadata": {},
     "output_type": "execute_result"
    }
   ],
   "source": [
    "sum(d >= 1000 for d in dist.values())"
   ]
  },
  {
   "cell_type": "markdown",
   "metadata": {},
   "source": [
    "Solution should not work in general. Only if branches end in a dead end or return to the start."
   ]
  }
 ],
 "metadata": {
  "kernelspec": {
   "display_name": "ds-base-311",
   "language": "python",
   "name": "python3"
  },
  "language_info": {
   "codemirror_mode": {
    "name": "ipython",
    "version": 3
   },
   "file_extension": ".py",
   "mimetype": "text/x-python",
   "name": "python",
   "nbconvert_exporter": "python",
   "pygments_lexer": "ipython3",
   "version": "3.11.4"
  }
 },
 "nbformat": 4,
 "nbformat_minor": 2
}
