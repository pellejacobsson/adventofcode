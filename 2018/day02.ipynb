{
 "cells": [
  {
   "cell_type": "code",
   "execution_count": 27,
   "metadata": {},
   "outputs": [],
   "source": [
    "def read_input(filename):\n",
    "    with open(filename, 'r') as f:\n",
    "        ids = [l.strip('\\n') for l in f.readlines()]\n",
    "    return ids\n",
    "\n",
    "def count_chars(id):\n",
    "    c = {}\n",
    "    for s in id:\n",
    "        c[s] = c.get(s, 0) + 1\n",
    "    n2, n3 = 0, 0\n",
    "    for v in c.values():\n",
    "        if v == 2:\n",
    "            n2 = 1\n",
    "        if v == 3:\n",
    "            n3 = 1\n",
    "    return n2, n3"
   ]
  },
  {
   "cell_type": "code",
   "execution_count": 28,
   "metadata": {},
   "outputs": [],
   "source": [
    "def runit1(filename):\n",
    "    ids = read_input(filename)\n",
    "    n2, n3 = 0, 0\n",
    "    for id in ids:\n",
    "        nx = count_chars(id)\n",
    "        n2 += nx[0]\n",
    "        n3 += nx[1]\n",
    "    return n2 * n3"
   ]
  },
  {
   "cell_type": "code",
   "execution_count": 29,
   "metadata": {},
   "outputs": [
    {
     "data": {
      "text/plain": [
       "6723"
      ]
     },
     "execution_count": 29,
     "metadata": {},
     "output_type": "execute_result"
    }
   ],
   "source": [
    "runit1('02_input.txt')"
   ]
  },
  {
   "cell_type": "code",
   "execution_count": 52,
   "metadata": {},
   "outputs": [],
   "source": [
    "def runit2(filename):\n",
    "    ids = read_input(filename)\n",
    "    for i in range(len(ids)):\n",
    "        for j in range(len(ids)):\n",
    "            if i != j:\n",
    "                n_same = sum([a == b for (a, b) in zip(ids[i], ids[j])])\n",
    "                if n_same == len(ids[0]) - 1:\n",
    "                    return ''.join([a for (a, b) in zip(ids[i], ids[j]) if a == b])\n",
    "    return 'Not found'"
   ]
  },
  {
   "cell_type": "code",
   "execution_count": 53,
   "metadata": {},
   "outputs": [
    {
     "data": {
      "text/plain": [
       "'prtkqyluiusocwvaezjmhmfgx'"
      ]
     },
     "execution_count": 53,
     "metadata": {},
     "output_type": "execute_result"
    }
   ],
   "source": [
    "runit2('02_input.txt')"
   ]
  }
 ],
 "metadata": {
  "kernelspec": {
   "display_name": "Python 3.10.4 ('ds')",
   "language": "python",
   "name": "python3"
  },
  "language_info": {
   "codemirror_mode": {
    "name": "ipython",
    "version": 3
   },
   "file_extension": ".py",
   "mimetype": "text/x-python",
   "name": "python",
   "nbconvert_exporter": "python",
   "pygments_lexer": "ipython3",
   "version": "3.10.4"
  },
  "orig_nbformat": 4,
  "vscode": {
   "interpreter": {
    "hash": "a7861172d2007d4541fab3e4eefe3a41dabba6fa735ecd87066a89563db3fd59"
   }
  }
 },
 "nbformat": 4,
 "nbformat_minor": 2
}
