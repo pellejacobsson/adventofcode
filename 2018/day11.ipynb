{
 "cells": [
  {
   "cell_type": "code",
   "execution_count": 1,
   "metadata": {},
   "outputs": [],
   "source": [
    "import numpy as np\n",
    "from scipy.signal import convolve2d"
   ]
  },
  {
   "cell_type": "code",
   "execution_count": 2,
   "metadata": {},
   "outputs": [],
   "source": [
    "def convolve(grid, i, j, n):\n",
    "    return np.sum(grid[i:i+n, j:j+n])\n",
    "\n",
    "def make_grid(serial):\n",
    "    grid = np.zeros((300, 300))\n",
    "    for x in range(1, 301):\n",
    "        for y in range(1, 301):\n",
    "            rack_id = x + 10\n",
    "            power_level = rack_id * y\n",
    "            power_level += serial\n",
    "            power_level *= rack_id\n",
    "            power_level = int(str(power_level // 100)[-1])\n",
    "            power_level -= 5\n",
    "            grid[y - 1, x - 1] = power_level\n",
    "    return grid\n",
    "\n",
    "def find_max_power(grid, n):\n",
    "    power_max = 0\n",
    "    x_max, y_max = 0, 0\n",
    "    for i in range(300 - n):\n",
    "        for j in range(300 - n):\n",
    "            power = convolve(grid, i, j, n)\n",
    "            if power > power_max:\n",
    "                power_max = power\n",
    "                x_max = j + 1\n",
    "                y_max = i + 1\n",
    "    return x_max, y_max, power_max\n",
    "\n",
    "def find_max_power2(grid, n):\n",
    "    kernel = np.ones((n, n))\n",
    "    power = convolve2d(grid, kernel, mode='valid')\n",
    "    i_max, j_max = np.unravel_index(np.argmax(power), power.shape)\n",
    "    power_max = power[i_max, j_max]\n",
    "    return j_max + 1, i_max + 1, power_max\n"
   ]
  },
  {
   "cell_type": "code",
   "execution_count": 11,
   "metadata": {},
   "outputs": [],
   "source": [
    "grid = make_grid(6392)"
   ]
  },
  {
   "cell_type": "code",
   "execution_count": 13,
   "metadata": {},
   "outputs": [
    {
     "data": {
      "text/plain": [
       "(20, 58, 30.0)"
      ]
     },
     "execution_count": 13,
     "metadata": {},
     "output_type": "execute_result"
    }
   ],
   "source": [
    "find_max_power(grid, 3)"
   ]
  },
  {
   "cell_type": "code",
   "execution_count": 14,
   "metadata": {},
   "outputs": [],
   "source": [
    "x_max, y_max = 0, 0\n",
    "n_max = 0\n",
    "power_max = 0\n",
    "for n in range(1, 301):\n",
    "    x, y, power = find_max_power(grid, n)\n",
    "    if power > power_max:\n",
    "        power_max = power\n",
    "        x_max, y_max = x, y\n",
    "        n_max = n"
   ]
  },
  {
   "cell_type": "code",
   "execution_count": 15,
   "metadata": {},
   "outputs": [
    {
     "data": {
      "text/plain": [
       "(233, 268, 13)"
      ]
     },
     "execution_count": 15,
     "metadata": {},
     "output_type": "execute_result"
    }
   ],
   "source": [
    "(x_max,y_max,n_max)"
   ]
  }
 ],
 "metadata": {
  "kernelspec": {
   "display_name": "ds-base-311",
   "language": "python",
   "name": "python3"
  },
  "language_info": {
   "codemirror_mode": {
    "name": "ipython",
    "version": 3
   },
   "file_extension": ".py",
   "mimetype": "text/x-python",
   "name": "python",
   "nbconvert_exporter": "python",
   "pygments_lexer": "ipython3",
   "version": "3.11.4"
  },
  "orig_nbformat": 4
 },
 "nbformat": 4,
 "nbformat_minor": 2
}
