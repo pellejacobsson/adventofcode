{
 "cells": [
  {
   "cell_type": "code",
   "execution_count": 1,
   "metadata": {},
   "outputs": [],
   "source": [
    "def read_input(filename):\n",
    "    res = []\n",
    "    with open(filename, 'r') as f:\n",
    "        while True:\n",
    "            line = f.readline()\n",
    "            if not line.startswith('Before'):\n",
    "                break\n",
    "            before = [int(x) for x in line.strip().split('[')[1][:-1].split(', ')]\n",
    "            line = f.readline()\n",
    "            code = [int(x) for x in line.strip().split(' ')]\n",
    "            line = f.readline()\n",
    "            after = [int(x) for x in line.strip().split('[')[1][:-1].split(', ')]\n",
    "            res.append([before, code, after])\n",
    "            f.readline()\n",
    "    return res"
   ]
  },
  {
   "cell_type": "code",
   "execution_count": 2,
   "metadata": {},
   "outputs": [],
   "source": [
    "res = read_input('16_input.txt')"
   ]
  },
  {
   "cell_type": "code",
   "execution_count": null,
   "metadata": {},
   "outputs": [],
   "source": []
  }
 ],
 "metadata": {
  "kernelspec": {
   "display_name": "ds",
   "language": "python",
   "name": "python3"
  },
  "language_info": {
   "codemirror_mode": {
    "name": "ipython",
    "version": 3
   },
   "file_extension": ".py",
   "mimetype": "text/x-python",
   "name": "python",
   "nbconvert_exporter": "python",
   "pygments_lexer": "ipython3",
   "version": "3.11.4"
  }
 },
 "nbformat": 4,
 "nbformat_minor": 2
}
