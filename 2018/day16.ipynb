{
 "cells": [
  {
   "cell_type": "code",
   "execution_count": 42,
   "metadata": {},
   "outputs": [],
   "source": [
    "def read_input(filename):\n",
    "    sample = []\n",
    "    with open(filename, 'r') as f:\n",
    "        while True:\n",
    "            line = f.readline()\n",
    "            if not line.startswith('Before'):\n",
    "                break\n",
    "            before = [int(x) for x in line.strip().split('[')[1][:-1].split(', ')]\n",
    "            line = f.readline()\n",
    "            code = [int(x) for x in line.strip().split(' ')]\n",
    "            line = f.readline()\n",
    "            after = [int(x) for x in line.strip().split('[')[1][:-1].split(', ')]\n",
    "            sample.append([before, code, after])\n",
    "            f.readline()\n",
    "        f.readline()\n",
    "        program = []\n",
    "        for line in f.readlines():\n",
    "            program.append([int(x) for x in line.strip().split(' ')])\n",
    "    return sample, program\n",
    "\n",
    "class Program:\n",
    "    def __init__(self, trans_dict, reg=[0, 0, 0, 0]):\n",
    "        self.reg = reg\n",
    "        self.trans_dict = trans_dict\n",
    "    \n",
    "    def run(self, instruction):\n",
    "        reg = self.reg\n",
    "        op, a, b, c = instruction\n",
    "        op = self.trans_dict[op]\n",
    "        match op:\n",
    "            case 'addr':\n",
    "                res = reg[a] + reg[b]\n",
    "            case 'addi':\n",
    "                res = reg[a] + b\n",
    "            case 'mulr':\n",
    "                res = reg[a] * reg[b]\n",
    "            case 'muli':\n",
    "                res = reg[a] * b\n",
    "            case 'banr':\n",
    "                res = reg[a] & reg[b]\n",
    "            case 'bani':\n",
    "                res = reg[a] & b\n",
    "            case 'borr':\n",
    "                res = reg[a] | reg[b]\n",
    "            case 'bori':\n",
    "                res = reg[a] | b\n",
    "            case 'setr':\n",
    "                res = reg[a]\n",
    "            case 'seti':\n",
    "                res = a\n",
    "            case 'gtir':\n",
    "                res = 1 if a > reg[b] else 0\n",
    "            case 'gtri':\n",
    "                res = 1 if reg[a] > b else 0\n",
    "            case 'gtrr':\n",
    "                res = 1 if reg[a] > reg[b] else 0\n",
    "            case 'eqir':\n",
    "                res = 1 if a == reg[b] else 0\n",
    "            case 'eqri':\n",
    "                res = 1 if reg[a] == b else 0\n",
    "            case 'eqrr':\n",
    "                res = 1 if reg[a] == reg[b] else 0\n",
    "        self.reg[c] = res\n",
    "\n",
    "def test_opcodes(before, instruction, after):\n",
    "    n, a, b, c = instruction\n",
    "    res = {}\n",
    "    res['addr'] = before[a] + before[b]\n",
    "    res['addi'] = before[a] + b\n",
    "    res['mulr'] = before[a] * before[b]\n",
    "    res['muli'] = before[a] * b\n",
    "    res['banr'] = before[a] & before[b]\n",
    "    res['bani'] = before[a] & b\n",
    "    res['borr'] = before[a] | before[b]\n",
    "    res['bori'] = before[a] | b\n",
    "    res['setr'] = before[a]\n",
    "    res['seti'] = a\n",
    "    res['gtir'] = 1 if a > before[b] else 0\n",
    "    res['gtri'] = 1 if before[a] > b else 0\n",
    "    res['gtrr'] = 1 if before[a] > before[b] else 0\n",
    "    res['eqir'] = 1 if a == before[b] else 0\n",
    "    res['eqri'] = 1 if before[a] == b else 0\n",
    "    res['eqrr'] = 1 if before[a] == before[b] else 0\n",
    "    work = []\n",
    "    for opcode, val in res.items():\n",
    "        if after[c] == val:\n",
    "            work.append(opcode)\n",
    "    return work\n",
    "\n",
    "def translate(samples):\n",
    "    ntoc = {}\n",
    "    for sample in samples:\n",
    "        n = sample[1][0]\n",
    "        pos = test_opcodes(*sample)\n",
    "        ntoc[n] = ntoc.get(n, set()).union(pos)\n",
    "    trans = {}\n",
    "    while ntoc:\n",
    "        found = []\n",
    "        for n, opcodes in ntoc.items():\n",
    "            if len(opcodes) == 1:\n",
    "                found.append(n)\n",
    "        for n in found:\n",
    "            trans[n], = ntoc.pop(n)\n",
    "            for m in ntoc:\n",
    "                ntoc[m] = ntoc[m] - {trans[n]}\n",
    "    return trans"
   ]
  },
  {
   "cell_type": "code",
   "execution_count": 52,
   "metadata": {},
   "outputs": [],
   "source": [
    "samples, program = read_input('16_input.txt')"
   ]
  },
  {
   "cell_type": "code",
   "execution_count": 53,
   "metadata": {},
   "outputs": [
    {
     "data": {
      "text/plain": [
       "588"
      ]
     },
     "execution_count": 53,
     "metadata": {},
     "output_type": "execute_result"
    }
   ],
   "source": [
    "len([x for x in [len(test_opcodes(*sample)) for sample in samples] if x >= 3])"
   ]
  },
  {
   "cell_type": "code",
   "execution_count": 54,
   "metadata": {},
   "outputs": [],
   "source": [
    "trans = translate(samples)"
   ]
  },
  {
   "cell_type": "code",
   "execution_count": 55,
   "metadata": {},
   "outputs": [],
   "source": [
    "p = Program(trans)"
   ]
  },
  {
   "cell_type": "code",
   "execution_count": 56,
   "metadata": {},
   "outputs": [],
   "source": [
    "for instruction in program:\n",
    "    p.run(instruction)"
   ]
  },
  {
   "cell_type": "code",
   "execution_count": 57,
   "metadata": {},
   "outputs": [
    {
     "data": {
      "text/plain": [
       "[627, 627, 2, 3]"
      ]
     },
     "execution_count": 57,
     "metadata": {},
     "output_type": "execute_result"
    }
   ],
   "source": [
    "p.reg"
   ]
  },
  {
   "cell_type": "code",
   "execution_count": null,
   "metadata": {},
   "outputs": [],
   "source": []
  }
 ],
 "metadata": {
  "kernelspec": {
   "display_name": "ds",
   "language": "python",
   "name": "python3"
  },
  "language_info": {
   "codemirror_mode": {
    "name": "ipython",
    "version": 3
   },
   "file_extension": ".py",
   "mimetype": "text/x-python",
   "name": "python",
   "nbconvert_exporter": "python",
   "pygments_lexer": "ipython3",
   "version": "3.11.4"
  }
 },
 "nbformat": 4,
 "nbformat_minor": 2
}
