{
 "cells": [
  {
   "cell_type": "code",
   "execution_count": 5,
   "metadata": {},
   "outputs": [],
   "source": [
    "def read_input(filename):\n",
    "    instructions = []\n",
    "    with open(filename, 'r') as f:\n",
    "        ip = int(f.readline().strip().split(' ')[1])\n",
    "        for line in f.readlines():\n",
    "            instructions.append(line.strip().split(' '))\n",
    "    ip = int(ip)\n",
    "    instructions = [[x[0], int(x[1]), int(x[2]), int(x[3])] for x in instructions]\n",
    "    return ip, instructions\n",
    "\n",
    "class Program:\n",
    "    def __init__(self, ip, reg=[0, 0, 0, 0, 0, 0]):\n",
    "        self.reg = reg\n",
    "        self.ip = ip\n",
    "    \n",
    "    def step(self, instruction):\n",
    "        reg = self.reg\n",
    "        op, a, b, c = instruction\n",
    "        match op:\n",
    "            case 'addr':\n",
    "                res = reg[a] + reg[b]\n",
    "            case 'addi':\n",
    "                res = reg[a] + b\n",
    "            case 'mulr':\n",
    "                res = reg[a] * reg[b]\n",
    "            case 'muli':\n",
    "                res = reg[a] * b\n",
    "            case 'banr':\n",
    "                res = reg[a] & reg[b]\n",
    "            case 'bani':\n",
    "                res = reg[a] & b\n",
    "            case 'borr':\n",
    "                res = reg[a] | reg[b]\n",
    "            case 'bori':\n",
    "                res = reg[a] | b\n",
    "            case 'setr':\n",
    "                res = reg[a]\n",
    "            case 'seti':\n",
    "                res = a\n",
    "            case 'gtir':\n",
    "                res = 1 if a > reg[b] else 0\n",
    "            case 'gtri':\n",
    "                res = 1 if reg[a] > b else 0\n",
    "            case 'gtrr':\n",
    "                res = 1 if reg[a] > reg[b] else 0\n",
    "            case 'eqir':\n",
    "                res = 1 if a == reg[b] else 0\n",
    "            case 'eqri':\n",
    "                res = 1 if reg[a] == b else 0\n",
    "            case 'eqrr':\n",
    "                res = 1 if reg[a] == reg[b] else 0\n",
    "        self.reg[c] = res\n",
    "\n",
    "    def run(self, instructions, part=False):\n",
    "        ip = self.ip\n",
    "        i = 0\n",
    "        count = 0\n",
    "        explored = set((i,) + tuple(self.reg))\n",
    "        hist3 = set()\n",
    "        prev3 = -1\n",
    "        while True:\n",
    "            if i < 0 or i > len(instructions) - 1:\n",
    "                return True\n",
    "            instruction = instructions[i]\n",
    "            self.reg[ip] = i\n",
    "            self.step(instruction)\n",
    "            i = self.reg[ip] + 1\n",
    "            if i == 28:\n",
    "                if not part2:\n",
    "                    print(self.reg[3])\n",
    "                    return False\n",
    "                else:\n",
    "                    if self.reg[3] in hist3:\n",
    "                        print(prev3)\n",
    "                        return False\n",
    "                    else:\n",
    "                        prev3 = self.reg[3]\n",
    "                        hist3.add(self.reg[3])\n",
    "            count += 1\n"
   ]
  },
  {
   "cell_type": "code",
   "execution_count": 6,
   "metadata": {},
   "outputs": [],
   "source": [
    "ip, instructions = read_input('21_input.txt')"
   ]
  },
  {
   "cell_type": "code",
   "execution_count": 7,
   "metadata": {},
   "outputs": [],
   "source": [
    "p = Program(ip)"
   ]
  },
  {
   "cell_type": "code",
   "execution_count": 8,
   "metadata": {},
   "outputs": [
    {
     "name": "stdout",
     "output_type": "stream",
     "text": [
      "12879142\n"
     ]
    },
    {
     "data": {
      "text/plain": [
       "False"
      ]
     },
     "execution_count": 8,
     "metadata": {},
     "output_type": "execute_result"
    }
   ],
   "source": [
    "p.run(instructions)"
   ]
  }
 ],
 "metadata": {
  "kernelspec": {
   "display_name": "ds-base-311",
   "language": "python",
   "name": "python3"
  },
  "language_info": {
   "codemirror_mode": {
    "name": "ipython",
    "version": 3
   },
   "file_extension": ".py",
   "mimetype": "text/x-python",
   "name": "python",
   "nbconvert_exporter": "python",
   "pygments_lexer": "ipython3",
   "version": "3.11.4"
  }
 },
 "nbformat": 4,
 "nbformat_minor": 2
}
