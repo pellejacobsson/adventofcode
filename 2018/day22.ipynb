{
 "cells": [
  {
   "cell_type": "code",
   "execution_count": 1,
   "metadata": {},
   "outputs": [],
   "source": [
    "from heapq import heappush, heappop"
   ]
  },
  {
   "cell_type": "code",
   "execution_count": 2,
   "metadata": {},
   "outputs": [],
   "source": [
    "def create_cave(depth, target, x_max, y_max):\n",
    "    erosion_level = {(0, 0): depth % 20183, target: depth % 20183}\n",
    "    for x in range(x_max + 1):\n",
    "        for y in range(y_max + 1):\n",
    "            if (x, y) == target:\n",
    "                continue\n",
    "            if y == 0:\n",
    "                erosion_level[x, y] = (x * 16807 + depth) % 20183\n",
    "            elif x == 0:\n",
    "                erosion_level[x, y] = (y * 48271 + depth) % 20183\n",
    "            else:\n",
    "                erosion_level[x, y] = (erosion_level[x, y - 1] * erosion_level[x - 1, y] + depth) % 20183\n",
    "    cave = {}\n",
    "    for (x, y), el in erosion_level.items():\n",
    "        cave[x, y] = el % 3\n",
    "    return cave\n",
    "\n",
    "# torch = 0, climbing gear = 1, neither = 2\n",
    "# rocky = 0, wet = 1, narrow = 2\n",
    "def get_adjacent(cave, u):\n",
    "    allowed = {0: (0, 1), 1: (1, 2), 2: (0, 2)}\n",
    "    x, y, tool = u\n",
    "    region = cave[x, y]\n",
    "    adj = []\n",
    "    for dx, dy in [(-1, 0), (1, 0), (0, -1), (0, 1)]:\n",
    "        xn, yn = x + dx, y + dy\n",
    "        if xn < 0 or yn < 0:\n",
    "            continue\n",
    "        region_new = cave[xn, yn]\n",
    "        if tool in allowed[region_new]:\n",
    "            adj.append((1, (xn, yn, tool)))\n",
    "    other = allowed[region][1] if tool == allowed[region][0] else allowed[region][0]\n",
    "    adj.append((7, (x, y, other)))\n",
    "    return adj\n",
    "\n",
    "def dijkstra(cave, source, target):\n",
    "    dist = {source: 0}\n",
    "    pq = []\n",
    "    heappush(pq, (dist[source], source))\n",
    "    while pq:\n",
    "        _, u = heappop(pq)\n",
    "        if u == target:\n",
    "            return dist[target]\n",
    "        for d, v in get_adjacent(cave, u):\n",
    "            dn = dist[u] + d\n",
    "            if v not in dist or dn < dist[v]:\n",
    "                dist[v] = dn\n",
    "                heappush(pq, (dn, v))\n",
    "    return 'Not found!'\n",
    "\n",
    "def print_cave(cave):\n",
    "    x_max = max(cave, key=lambda x: x[0])[0]\n",
    "    y_max = max(cave, key=lambda x: x[1])[1]\n",
    "    for y in range(y_max + 1):\n",
    "        l = []\n",
    "        for x in range(x_max + 1):\n",
    "            match cave[x, y]:\n",
    "                case 0:\n",
    "                    c = '.'\n",
    "                case 1:\n",
    "                    c = '='\n",
    "                case 2:\n",
    "                    c = '|'\n",
    "            l.append(c)\n",
    "        print(''.join(l))"
   ]
  },
  {
   "cell_type": "code",
   "execution_count": 3,
   "metadata": {},
   "outputs": [],
   "source": [
    "depth = 10647\n",
    "target = (7,770)\n",
    "cave = create_cave(depth, target, target[0], target[1])"
   ]
  },
  {
   "cell_type": "code",
   "execution_count": 4,
   "metadata": {},
   "outputs": [
    {
     "data": {
      "text/plain": [
       "6208"
      ]
     },
     "execution_count": 4,
     "metadata": {},
     "output_type": "execute_result"
    }
   ],
   "source": [
    "sum(cave.values())"
   ]
  },
  {
   "cell_type": "code",
   "execution_count": 5,
   "metadata": {},
   "outputs": [],
   "source": [
    "cave = create_cave(depth, target, 1000, 1000)\n",
    "dist = dijkstra(cave, (0, 0, 0), (*target, 0))"
   ]
  },
  {
   "cell_type": "code",
   "execution_count": 6,
   "metadata": {},
   "outputs": [
    {
     "data": {
      "text/plain": [
       "1039"
      ]
     },
     "execution_count": 6,
     "metadata": {},
     "output_type": "execute_result"
    }
   ],
   "source": [
    "dist"
   ]
  }
 ],
 "metadata": {
  "kernelspec": {
   "display_name": "ds-base-311",
   "language": "python",
   "name": "python3"
  },
  "language_info": {
   "codemirror_mode": {
    "name": "ipython",
    "version": 3
   },
   "file_extension": ".py",
   "mimetype": "text/x-python",
   "name": "python",
   "nbconvert_exporter": "python",
   "pygments_lexer": "ipython3",
   "version": "3.11.4"
  }
 },
 "nbformat": 4,
 "nbformat_minor": 2
}
