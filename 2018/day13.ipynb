{
 "cells": [
  {
   "cell_type": "code",
   "execution_count": 1,
   "metadata": {},
   "outputs": [],
   "source": [
    "from itertools import cycle"
   ]
  },
  {
   "cell_type": "code",
   "execution_count": 2,
   "metadata": {},
   "outputs": [],
   "source": [
    "def read_input(filename):\n",
    "    grid = {}\n",
    "    carts = []\n",
    "    cart_id = 0\n",
    "    with open(filename, 'r') as f:\n",
    "        for y, line in enumerate(f.readlines()):\n",
    "            for x, c in enumerate(line.rstrip()):\n",
    "                if c != ' ':\n",
    "                    if c == '>':\n",
    "                        carts.append([cart_id, 'r', x, y])\n",
    "                        c = '-'\n",
    "                        cart_id += 1\n",
    "                    elif c == 'v':\n",
    "                        carts.append([cart_id, 'd', x, y])\n",
    "                        c = '|'\n",
    "                        cart_id += 1\n",
    "                    elif c == '<':\n",
    "                        carts.append([cart_id, 'l', x, y])\n",
    "                        c = '-'\n",
    "                        cart_id += 1\n",
    "                    elif c == '^':\n",
    "                        carts.append([cart_id, 'u', x, y])\n",
    "                        c = '|'\n",
    "                        cart_id += 1\n",
    "                    grid[x, y] = c\n",
    "    turns = ['s', 'r', 'l']\n",
    "    for cart in carts:\n",
    "        cart.append('l')\n",
    "        cart.append(cycle(turns))\n",
    "    return grid, carts\n",
    "\n",
    "def step(grid, cart):\n",
    "    next_dir = {('u', 'l'): 'l', ('u', 's'): 'u', ('u', 'r'): 'r',\n",
    "                ('r', 'l'): 'u', ('r', 's'): 'r', ('r', 'r'): 'd',\n",
    "                ('d', 'l'): 'r', ('d', 's'): 'd', ('d', 'r'): 'l',\n",
    "                ('l', 'l'): 'd', ('l', 's'): 'l', ('l', 'r'): 'u'}\n",
    "    _, dir, x, y, turn, turn_it = cart\n",
    "    match dir:\n",
    "        case 'u':\n",
    "            y -= 1\n",
    "            next_square = grid[x, y]\n",
    "            match next_square:\n",
    "                case '/':\n",
    "                    dir = 'r'\n",
    "                case '\\\\':\n",
    "                    dir = 'l'\n",
    "                case '+':\n",
    "                    dir = next_dir[('u', turn)]\n",
    "                    turn = next(turn_it)\n",
    "        case 'r':\n",
    "            x += 1\n",
    "            next_square = grid[x, y]\n",
    "            match next_square:\n",
    "                case '/':\n",
    "                    dir = 'u'\n",
    "                case '\\\\':\n",
    "                    dir = 'd'\n",
    "                case '+':\n",
    "                    dir = next_dir[('r', turn)]\n",
    "                    turn = next(turn_it)\n",
    "        case 'd':\n",
    "            y += 1\n",
    "            next_square = grid[x, y]\n",
    "            match next_square:\n",
    "                case '/':\n",
    "                    dir = 'l'\n",
    "                case '\\\\':\n",
    "                    dir = 'r'\n",
    "                case '+':\n",
    "                    dir = next_dir[('d', turn)]\n",
    "                    turn = next(turn_it)\n",
    "        case 'l':\n",
    "            x -= 1\n",
    "            next_square = grid[x, y]\n",
    "            match next_square:\n",
    "                case '/':\n",
    "                    dir = 'd'\n",
    "                case '\\\\':\n",
    "                    dir = 'u'\n",
    "                case '+':\n",
    "                    dir = next_dir[('l', turn)]\n",
    "                    turn = next(turn_it)\n",
    "    cart[1] = dir\n",
    "    cart[2] = x\n",
    "    cart[3] = y\n",
    "    cart[4] = turn\n",
    "    return grid, [cart[0], dir, x, y, turn, turn_it]\n",
    "\n",
    "def crash(carts):\n",
    "    crashed_carts = []\n",
    "    crashed = False\n",
    "    for cart1 in carts:\n",
    "        for cart2 in carts:\n",
    "            if cart1[0] != cart2[0]:\n",
    "                if cart1[2] == cart2[2] and cart1[3] == cart2[3]:\n",
    "                    if cart1 not in crashed_carts:\n",
    "                        crashed_carts.append(cart1)\n",
    "                    if cart2 not in crashed_carts:\n",
    "                        crashed_carts.append(cart2)\n",
    "                    crashed = True\n",
    "    return crashed, crashed_carts"
   ]
  },
  {
   "cell_type": "code",
   "execution_count": 3,
   "metadata": {},
   "outputs": [
    {
     "name": "stdout",
     "output_type": "stream",
     "text": [
      "[11, 'r', 113, 136, 'l', <itertools.cycle object at 0x1045901c0>]\n",
      "[15, 'l', 113, 136, 'r', <itertools.cycle object at 0x104590400>]\n",
      "113,136\n"
     ]
    }
   ],
   "source": [
    "grid, carts = read_input('13_input.txt')\n",
    "while True:\n",
    "    carts = sorted(carts, key=lambda c: c[2])\n",
    "    for cart in carts:\n",
    "        grid, cart = step(grid, cart)\n",
    "    has_crashed, crashed_carts = crash(carts)\n",
    "    if has_crashed:\n",
    "        print(crashed_carts[0])\n",
    "        print(crashed_carts[1])\n",
    "        print(f'{crashed_carts[0][2]},{crashed_carts[0][3]}')\n",
    "        break"
   ]
  },
  {
   "cell_type": "code",
   "execution_count": 4,
   "metadata": {},
   "outputs": [
    {
     "name": "stdout",
     "output_type": "stream",
     "text": [
      "[16, 'u', 114, 136, 'l', <itertools.cycle object at 0x104761740>]\n",
      "114,136\n"
     ]
    }
   ],
   "source": [
    "grid, carts = read_input('13_input.txt')\n",
    "while True:\n",
    "    carts = sorted(carts, key=lambda c: c[2])\n",
    "    for cart in carts:\n",
    "        grid, cart = step(grid, cart)\n",
    "        has_crashed, crashed_carts = crash(carts)\n",
    "        if has_crashed:\n",
    "            carts = [cart for cart in carts if not cart in crashed_carts]\n",
    "    if len(carts) == 1:\n",
    "        print(carts[0])\n",
    "        print(f'{carts[0][2]},{carts[0][3]}')\n",
    "        break"
   ]
  }
 ],
 "metadata": {
  "kernelspec": {
   "display_name": "ds-base-311",
   "language": "python",
   "name": "python3"
  },
  "language_info": {
   "codemirror_mode": {
    "name": "ipython",
    "version": 3
   },
   "file_extension": ".py",
   "mimetype": "text/x-python",
   "name": "python",
   "nbconvert_exporter": "python",
   "pygments_lexer": "ipython3",
   "version": "3.11.4"
  },
  "orig_nbformat": 4
 },
 "nbformat": 4,
 "nbformat_minor": 2
}
