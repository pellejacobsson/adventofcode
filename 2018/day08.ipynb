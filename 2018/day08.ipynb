{
 "cells": [
  {
   "cell_type": "code",
   "execution_count": 4,
   "metadata": {},
   "outputs": [],
   "source": [
    "def read_input(filename):\n",
    "    with open(filename) as f:\n",
    "        return [int(n) for n in f.readline().strip().split(' ')]"
   ]
  },
  {
   "cell_type": "code",
   "execution_count": 56,
   "metadata": {},
   "outputs": [
    {
     "data": {
      "text/plain": [
       "42254"
      ]
     },
     "execution_count": 56,
     "metadata": {},
     "output_type": "execute_result"
    }
   ],
   "source": [
    "licfile = read_input('08_input.txt')\n",
    "s = 0\n",
    "while len(licfile) > 0:\n",
    "    for i, el in enumerate(licfile):\n",
    "        if el == 0:\n",
    "            i_red = max(0, i - 2)\n",
    "            licfile[i_red] -= 1\n",
    "            n_metadata = licfile[i + 1]\n",
    "            lic_del = licfile[i:i + n_metadata + 2]\n",
    "            s += sum(lic_del[2:])\n",
    "            licfile = licfile[:i] + licfile[i + n_metadata + 2:]\n",
    "            break\n",
    "s"
   ]
  },
  {
   "cell_type": "code",
   "execution_count": 57,
   "metadata": {},
   "outputs": [],
   "source": [
    "def val(licpart):\n",
    "    n_children, n_metadata = licpart[:2]\n",
    "    licpart = licpart[2:]\n",
    "    s = 0\n",
    "    if n_children == 0:\n",
    "        return sum(licpart[:n_metadata]), licpart[n_metadata:]\n",
    "    else:\n",
    "        for _ in range(n_children):\n",
    "            ss, licpart = val(licpart)\n",
    "            s += ss\n",
    "        s += sum(licpart[:n_metadata])\n",
    "        return s, licpart[n_metadata:]"
   ]
  },
  {
   "cell_type": "code",
   "execution_count": 58,
   "metadata": {},
   "outputs": [
    {
     "data": {
      "text/plain": [
       "(42254, [])"
      ]
     },
     "execution_count": 58,
     "metadata": {},
     "output_type": "execute_result"
    }
   ],
   "source": [
    "licfile = read_input('08_input.txt')\n",
    "val(licfile)"
   ]
  },
  {
   "cell_type": "code",
   "execution_count": 64,
   "metadata": {},
   "outputs": [],
   "source": [
    "def val2(licpart):\n",
    "    n_children, n_metadata = licpart[:2]\n",
    "    licpart = licpart[2:]\n",
    "    child_vals = []\n",
    "    s = 0\n",
    "    if n_children == 0:\n",
    "        return sum(licpart[:n_metadata]), sum(licpart[:n_metadata]), licpart[n_metadata:]\n",
    "    else:\n",
    "        for _ in range(n_children):\n",
    "            ss, child_val, licpart = val2(licpart)\n",
    "            s += ss\n",
    "            child_vals.append(child_val)\n",
    "        s += sum(licpart[:n_metadata])\n",
    "        s2 = sum(child_vals[j - 1] for j in licpart[:n_metadata] if j > 0 and j <= len(child_vals))\n",
    "        return s, s2, licpart[n_metadata:]"
   ]
  },
  {
   "cell_type": "code",
   "execution_count": 65,
   "metadata": {},
   "outputs": [
    {
     "data": {
      "text/plain": [
       "(42254, 25007, [])"
      ]
     },
     "execution_count": 65,
     "metadata": {},
     "output_type": "execute_result"
    }
   ],
   "source": [
    "licfile = read_input('08_input.txt')\n",
    "val2(licfile)"
   ]
  }
 ],
 "metadata": {
  "kernelspec": {
   "display_name": "ds-base-311",
   "language": "python",
   "name": "python3"
  },
  "language_info": {
   "codemirror_mode": {
    "name": "ipython",
    "version": 3
   },
   "file_extension": ".py",
   "mimetype": "text/x-python",
   "name": "python",
   "nbconvert_exporter": "python",
   "pygments_lexer": "ipython3",
   "version": "3.11.4"
  },
  "orig_nbformat": 4
 },
 "nbformat": 4,
 "nbformat_minor": 2
}
