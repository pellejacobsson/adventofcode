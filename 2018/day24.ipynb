{
 "cells": [
  {
   "cell_type": "code",
   "execution_count": 93,
   "metadata": {},
   "outputs": [],
   "source": [
    "class Group:\n",
    "    def __init__(self, id, army, n_units, hit_points, immune_to, weak_to, damage, damage_type, initiative):\n",
    "        self.id = id\n",
    "        self.army = army\n",
    "        self.n_units = n_units\n",
    "        self.hit_points = hit_points\n",
    "        self.immune_to = immune_to\n",
    "        self.weak_to = weak_to\n",
    "        self.damage = damage\n",
    "        self.damage_type = damage_type\n",
    "        self.initiative = initiative\n",
    "        self.effective_power = self.n_units * self.damage\n",
    "\n",
    "    def __repr__(self):\n",
    "        return f'{self.id}: {self.army}, {self.n_units}, {self.hit_points}, {', '.join(self.immune_to)}, {', '.join(self.weak_to)}, {self.damage}, {self.damage_type}, {self.initiative}, {self.effective_power}'\n",
    "\n",
    "\n",
    "def calc_damage(attacker, target):\n",
    "    if attacker.damage_type in target.immune_to:\n",
    "        return 0\n",
    "    damage = attacker.effective_power\n",
    "    if attacker.damage_type in target.weak_to:\n",
    "        damage *= 2\n",
    "    return damage\n",
    "\n",
    "def choose_targets(groups):\n",
    "    target_map = {}\n",
    "    for attacker in sorted(groups, key=lambda x: (x.effective_power, x.initiative), reverse=True):\n",
    "        target_army = 'infection' if attacker.army == 'immune' else 'immune'\n",
    "        possible_targets = [g for g in groups if g.army == target_army and g.id not in target_map.values()]\n",
    "        possible_targets = sorted(\n",
    "            possible_targets,\n",
    "            key=lambda x: (calc_damage(attacker, x), x.effective_power, x.initiative),\n",
    "            reverse=True\n",
    "        )\n",
    "        if possible_targets:\n",
    "            target = possible_targets[0]\n",
    "            if calc_damage(attacker, target) > 0:\n",
    "                target_map[attacker.id] = target.id\n",
    "    return target_map\n",
    "\n",
    "def attack(groups, target_map):\n",
    "    for attacker in sorted(groups, key=lambda x: x.initiative, reverse=True):\n",
    "        if attacker.id not in target_map:\n",
    "            continue\n",
    "        target_id = target_map[attacker.id]\n",
    "        for target in groups:\n",
    "            if target.id == target_id:\n",
    "                damage = calc_damage(attacker, target)\n",
    "                if damage > 0:\n",
    "                    n_units = damage // target.hit_points\n",
    "                    if target.n_units - n_units > 0:\n",
    "                        target.n_units -= n_units\n",
    "                        target.effective_power = target.n_units * target.damage\n",
    "                    else:\n",
    "                        target.n_units = 0\n",
    "                        target.effective_power = 0\n",
    "    groups = [group for group in groups if group.n_units > 0]\n",
    "    return groups\n",
    "\n",
    "def init_groups(boost=0, test_case=False):\n",
    "    if test_case:\n",
    "        groups = [\n",
    "            Group(0, 'immune', 17, 5390, [], ['radiation', 'bludgeoning'], 4507, 'fire', 2),\n",
    "            Group(1, 'immune', 989, 1274, ['fire'], ['bludgeoning', 'slashing'], 25, 'slashing', 3),\n",
    "            Group(2, 'infection', 801, 4706, [], ['radiation'], 116, 'bludgeoning', 1),\n",
    "            Group(3, 'infection', 4485, 2961, ['radiation'], ['fire', 'cold'], 12, 'slashing', 4)\n",
    "        ]\n",
    "    else:\n",
    "        groups = [\n",
    "            Group(0, 'immune', 4082, 2910, [], [], 5, 'cold', 15),\n",
    "            Group(1, 'immune', 2820, 9661, ['slashing'], [], 27, 'cold', 8),\n",
    "            Group(2, 'immune', 4004, 4885, [], ['slashing'], 10, 'bludgeoning', 13),\n",
    "            Group(3, 'immune', 480, 7219, [], ['bludgeoning'], 134, 'radiation', 18),\n",
    "            Group(4, 'immune', 8734, 4421, ['bludgeoning'], [], 5, 'slashing', 14),\n",
    "            Group(5, 'immune', 516, 2410, [], ['slashing'], 46, 'bludgeoning', 5),\n",
    "            Group(6, 'immune', 2437, 11267, [], ['slashing'], 38, 'fire', 17),\n",
    "            Group(7, 'immune', 1815, 7239, [], ['cold'], 33, 'slashing', 10),\n",
    "            Group(8, 'immune', 4941, 10117, ['bludgeoning'], [], 20, 'fire', 9),\n",
    "            Group(9, 'immune', 617, 7816, [], ['bludgeoning', 'slashing'], 120, 'bludgeoning', 4),\n",
    "            Group(10, 'infection', 2877, 20620, [], ['radiation', 'bludgeoning'], 13, 'cold', 11),\n",
    "            Group(11, 'infection', 1164, 51797, ['fire'], [], 63, 'fire', 7),\n",
    "            Group(12, 'infection', 160, 31039, ['bludgeoning'], ['radiation'], 317, 'bludgeoning', 2),\n",
    "            Group(13, 'infection', 779, 24870, ['radiation', 'bludgeoning'], ['slashing'], 59, 'slashing', 12),\n",
    "            Group(14, 'infection', 1461, 28000, ['radiation'], ['bludgeoning'], 37, 'slashing', 16),\n",
    "            Group(15, 'infection', 1060, 48827, [], [], 73, 'slashing', 3),\n",
    "            Group(16, 'infection', 4422, 38291, [], [], 14, 'slashing', 1),\n",
    "            Group(17, 'infection', 4111, 14339, ['fire', 'bludgeoning', 'cold'], [], 6, 'radiation', 20),\n",
    "            Group(18, 'infection', 4040, 49799, ['bludgeoning', 'cold'], ['slashing', 'fire'], 24, 'fire', 19),\n",
    "            Group(19, 'infection', 2198, 41195, [], ['radiation'], 36, 'slashing', 6)\n",
    "        ]\n",
    "    for group in groups:\n",
    "        if group.army == 'immune':\n",
    "            group.damage += boost\n",
    "            group.effective_power = group.n_units * group.damage\n",
    "    return groups"
   ]
  },
  {
   "cell_type": "code",
   "execution_count": 95,
   "metadata": {},
   "outputs": [],
   "source": [
    "groups = init_groups(test_case=False)\n",
    "while True:\n",
    "    target_map = choose_targets(groups)\n",
    "    groups = attack(groups, target_map)\n",
    "    if not (any([g.army == 'immune' for g in groups]) and any([g.army == 'infection' for g in groups])):\n",
    "        break"
   ]
  },
  {
   "cell_type": "code",
   "execution_count": 96,
   "metadata": {},
   "outputs": [
    {
     "data": {
      "text/plain": [
       "19974"
      ]
     },
     "execution_count": 96,
     "metadata": {},
     "output_type": "execute_result"
    }
   ],
   "source": [
    "sum([g.n_units for g in groups])"
   ]
  },
  {
   "cell_type": "code",
   "execution_count": 112,
   "metadata": {},
   "outputs": [
    {
     "name": "stdout",
     "output_type": "stream",
     "text": [
      "Boost = 0\n",
      "Win for boost = 43!\n"
     ]
    }
   ],
   "source": [
    "for boost in range(10000):\n",
    "    if boost == 42:\n",
    "        continue\n",
    "    if boost % 100 == 0:\n",
    "        print(f'Boost = {boost}')\n",
    "    groups = init_groups(boost=boost)\n",
    "    win = False\n",
    "    while True:\n",
    "        target_map = choose_targets(groups)\n",
    "        groups = attack(groups, target_map)\n",
    "        if not any([g.army == 'immune' for g in groups]):\n",
    "            break\n",
    "        if not any([g.army == 'infection' for g in groups]):\n",
    "            print(f'Win for boost = {boost}!')\n",
    "            win = True\n",
    "            break\n",
    "    if win:\n",
    "        break"
   ]
  },
  {
   "cell_type": "code",
   "execution_count": 111,
   "metadata": {},
   "outputs": [
    {
     "data": {
      "text/plain": [
       "4606"
      ]
     },
     "execution_count": 111,
     "metadata": {},
     "output_type": "execute_result"
    }
   ],
   "source": [
    "sum([g.n_units for g in groups])"
   ]
  }
 ],
 "metadata": {
  "kernelspec": {
   "display_name": "ds-base-311",
   "language": "python",
   "name": "python3"
  },
  "language_info": {
   "codemirror_mode": {
    "name": "ipython",
    "version": 3
   },
   "file_extension": ".py",
   "mimetype": "text/x-python",
   "name": "python",
   "nbconvert_exporter": "python",
   "pygments_lexer": "ipython3",
   "version": "3.12.0"
  }
 },
 "nbformat": 4,
 "nbformat_minor": 2
}
