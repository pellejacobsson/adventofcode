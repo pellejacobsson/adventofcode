{
 "cells": [
  {
   "cell_type": "code",
   "execution_count": 1,
   "metadata": {},
   "outputs": [],
   "source": [
    "def calc_score(n):\n",
    "    scores = [3, 7]\n",
    "    e1, e2 = 0, 1\n",
    "    score_len = 2\n",
    "    while score_len < n + 10:\n",
    "        score1 = scores[e1]\n",
    "        score2 = scores[e2]\n",
    "        new_scores = score1 + score2\n",
    "        new_scores = [int(x) for x in str(new_scores)]\n",
    "        scores.extend(new_scores)\n",
    "        score_len = len(scores)\n",
    "        e1 = (e1 + 1 + score1) % score_len\n",
    "        e2 = (e2 + 1 + score2) % score_len\n",
    "    return ''.join([str(x) for x in scores[n:n+10]])"
   ]
  },
  {
   "cell_type": "code",
   "execution_count": 2,
   "metadata": {},
   "outputs": [
    {
     "data": {
      "text/plain": [
       "'1052903161'"
      ]
     },
     "execution_count": 2,
     "metadata": {},
     "output_type": "execute_result"
    }
   ],
   "source": [
    "calc_score(440231)"
   ]
  },
  {
   "cell_type": "code",
   "execution_count": 3,
   "metadata": {},
   "outputs": [],
   "source": [
    "def calc_score_len(n):\n",
    "    n_len = len([x for x in n])\n",
    "    scores = [3, 7, 1, 0]\n",
    "    e1, e2 = 0, 1\n",
    "    while True:\n",
    "        score1 = scores[e1]\n",
    "        score2 = scores[e2]\n",
    "        new_scores = score1 + score2\n",
    "        new_scores = [int(x) for x in str(new_scores)]\n",
    "        scores.extend(new_scores)\n",
    "        score_len = len(scores)\n",
    "        if len(new_scores) == 2:\n",
    "            if ''.join([str(x) for x in scores[-n_len - 1:-1]]) == n:\n",
    "                return score_len - n_len - 1\n",
    "        if ''.join([str(x) for x in scores[-n_len:]]) == n:\n",
    "            return score_len - n_len\n",
    "        e1 = (e1 + 1 + score1) % score_len\n",
    "        e2 = (e2 + 1 + score2) % score_len"
   ]
  },
  {
   "cell_type": "code",
   "execution_count": 4,
   "metadata": {},
   "outputs": [
    {
     "data": {
      "text/plain": [
       "20165504"
      ]
     },
     "execution_count": 4,
     "metadata": {},
     "output_type": "execute_result"
    }
   ],
   "source": [
    "calc_score_len('440231')"
   ]
  }
 ],
 "metadata": {
  "kernelspec": {
   "display_name": "ds-base-311",
   "language": "python",
   "name": "python3"
  },
  "language_info": {
   "codemirror_mode": {
    "name": "ipython",
    "version": 3
   },
   "file_extension": ".py",
   "mimetype": "text/x-python",
   "name": "python",
   "nbconvert_exporter": "python",
   "pygments_lexer": "ipython3",
   "version": "3.11.4"
  },
  "orig_nbformat": 4
 },
 "nbformat": 4,
 "nbformat_minor": 2
}
