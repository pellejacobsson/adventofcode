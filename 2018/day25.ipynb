{
 "cells": [
  {
   "cell_type": "code",
   "execution_count": 1,
   "metadata": {},
   "outputs": [],
   "source": [
    "import numpy as np"
   ]
  },
  {
   "cell_type": "code",
   "execution_count": 16,
   "metadata": {},
   "outputs": [],
   "source": [
    "def read_input(filename):\n",
    "    with open(filename, 'r') as f:\n",
    "        points = [[int(x) for x in line.strip().split(',')] for line in f.readlines()]\n",
    "    return np.array(points)\n",
    "\n",
    "def find_clusters(adj_matrix):\n",
    "    explored = set()\n",
    "    clusters = []\n",
    "    for i in range(adj_matrix.shape[0]):\n",
    "        s = [i]\n",
    "        cluster = []\n",
    "        while s:\n",
    "            j = s.pop()\n",
    "            if j not in explored:\n",
    "                explored.add(j)\n",
    "                cluster.append(j)\n",
    "                s.extend([k for k in np.where(adj_matrix[j, :])[0] if k not in explored])\n",
    "        if cluster:\n",
    "            clusters.append(cluster)\n",
    "    return clusters"
   ]
  },
  {
   "cell_type": "code",
   "execution_count": 22,
   "metadata": {},
   "outputs": [],
   "source": [
    "points = read_input('25_input.txt')"
   ]
  },
  {
   "cell_type": "code",
   "execution_count": 23,
   "metadata": {},
   "outputs": [],
   "source": [
    "adj_matrix = np.sum(np.abs(points[:, np.newaxis] - points[np.newaxis, :]), axis=-1) <= 3"
   ]
  },
  {
   "cell_type": "code",
   "execution_count": 24,
   "metadata": {},
   "outputs": [],
   "source": [
    "clusters = find_clusters(adj_matrix)"
   ]
  },
  {
   "cell_type": "code",
   "execution_count": 25,
   "metadata": {},
   "outputs": [
    {
     "data": {
      "text/plain": [
       "375"
      ]
     },
     "execution_count": 25,
     "metadata": {},
     "output_type": "execute_result"
    }
   ],
   "source": [
    "len(clusters)"
   ]
  }
 ],
 "metadata": {
  "kernelspec": {
   "display_name": "aoc",
   "language": "python",
   "name": "python3"
  },
  "language_info": {
   "codemirror_mode": {
    "name": "ipython",
    "version": 3
   },
   "file_extension": ".py",
   "mimetype": "text/x-python",
   "name": "python",
   "nbconvert_exporter": "python",
   "pygments_lexer": "ipython3",
   "version": "3.11.4"
  }
 },
 "nbformat": 4,
 "nbformat_minor": 2
}
