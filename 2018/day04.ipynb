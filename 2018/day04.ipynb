{
 "cells": [
  {
   "cell_type": "code",
   "execution_count": 141,
   "metadata": {},
   "outputs": [],
   "source": [
    "import re\n",
    "from datetime import datetime, timedelta\n",
    "import numpy as np\n",
    "from collections import defaultdict"
   ]
  },
  {
   "cell_type": "code",
   "execution_count": 82,
   "metadata": {},
   "outputs": [],
   "source": [
    "def read_input(filename):\n",
    "    expr = re.compile(r'\\[(.*)\\] (.*)')\n",
    "    sched = []\n",
    "    with open(filename, 'r') as f:\n",
    "        for line in f.readlines():\n",
    "            m = expr.match(line.strip())\n",
    "            sched.append([datetime.fromisoformat(m[1]), m[2]])\n",
    "    return sched"
   ]
  },
  {
   "cell_type": "code",
   "execution_count": 125,
   "metadata": {},
   "outputs": [],
   "source": [
    "sched = read_input('04_input.txt')"
   ]
  },
  {
   "cell_type": "code",
   "execution_count": 126,
   "metadata": {},
   "outputs": [],
   "source": [
    "sched = sorted(sched, key=lambda x: x[0])"
   ]
  },
  {
   "cell_type": "code",
   "execution_count": 135,
   "metadata": {},
   "outputs": [],
   "source": [
    "asleep = {}\n",
    "i = 0\n",
    "while i < len(sched):\n",
    "    dt_date = sched[i][0]\n",
    "    if dt_date.hour == 23:\n",
    "        dt_date += timedelta(hours=1)\n",
    "    month = dt_date.month\n",
    "    day = dt_date.day\n",
    "    date = (month, day)\n",
    "    guard = int(sched[i][1].split(' ')[1][1:])\n",
    "    i += 1\n",
    "    if i >= len(sched):\n",
    "        break\n",
    "    s = np.zeros(60)\n",
    "    while not sched[i][1].startswith('Guard '):\n",
    "        minute = sched[i][0].minute\n",
    "        if sched[i][1].startswith('falls'):\n",
    "            s[minute:] = 1\n",
    "        elif sched[i][1].startswith('wakes'):\n",
    "            s[minute:] = 0\n",
    "        i += 1\n",
    "        if i >= len(sched):\n",
    "            break\n",
    "    if (date, guard) in asleep:\n",
    "        print(f'{(date, guard)} already exists!')\n",
    "    asleep[date, guard] = s"
   ]
  },
  {
   "cell_type": "code",
   "execution_count": 136,
   "metadata": {},
   "outputs": [],
   "source": [
    "minutes_asleep = {}\n",
    "for (date, guard), s in asleep.items():\n",
    "    minutes_asleep[guard] = minutes_asleep.get(guard, 0) + np.sum(s)"
   ]
  },
  {
   "cell_type": "code",
   "execution_count": 137,
   "metadata": {},
   "outputs": [],
   "source": [
    "sleepy_guard = max(minutes_asleep.items(), key=lambda x: x[1])[0]"
   ]
  },
  {
   "cell_type": "code",
   "execution_count": 138,
   "metadata": {},
   "outputs": [],
   "source": [
    "sleeps = []\n",
    "for (date, guard), s in asleep.items():\n",
    "    if guard == sleepy_guard:\n",
    "        sleeps.append(s)"
   ]
  },
  {
   "cell_type": "code",
   "execution_count": 139,
   "metadata": {},
   "outputs": [],
   "source": [
    "sleepy_minute = np.argmax(np.sum(np.array(sleeps), axis=0))"
   ]
  },
  {
   "cell_type": "code",
   "execution_count": 140,
   "metadata": {},
   "outputs": [
    {
     "data": {
      "text/plain": [
       "115167"
      ]
     },
     "execution_count": 140,
     "metadata": {},
     "output_type": "execute_result"
    }
   ],
   "source": [
    "sleepy_guard * sleepy_minute"
   ]
  },
  {
   "cell_type": "code",
   "execution_count": 147,
   "metadata": {},
   "outputs": [],
   "source": [
    "guard_sleeps = defaultdict(list)\n",
    "for (date, guard), s in asleep.items():\n",
    "    guard_sleeps[guard].append(s)\n",
    "for guard in guard_sleeps:\n",
    "    guard_sleeps[guard] = np.array(guard_sleeps[guard])"
   ]
  },
  {
   "cell_type": "code",
   "execution_count": 157,
   "metadata": {},
   "outputs": [],
   "source": [
    "tot_max_sleep = 0\n",
    "tot_max_minute = 0\n",
    "sleepies_guard = 0\n",
    "for guard, s in guard_sleeps.items():\n",
    "    spm = np.sum(s, axis=0)\n",
    "    max_sleep = np.max(spm)\n",
    "    max_minute = np.argmax(spm)\n",
    "    if max_sleep > tot_max_sleep:\n",
    "        tot_max_minute = max_minute\n",
    "        tot_max_sleep = max_sleep\n",
    "        sleepiest_guard = guard"
   ]
  },
  {
   "cell_type": "code",
   "execution_count": 160,
   "metadata": {},
   "outputs": [
    {
     "data": {
      "text/plain": [
       "32070"
      ]
     },
     "execution_count": 160,
     "metadata": {},
     "output_type": "execute_result"
    }
   ],
   "source": [
    "sleepiest_guard * tot_max_minute"
   ]
  }
 ],
 "metadata": {
  "kernelspec": {
   "display_name": "ds-base-311",
   "language": "python",
   "name": "python3"
  },
  "language_info": {
   "codemirror_mode": {
    "name": "ipython",
    "version": 3
   },
   "file_extension": ".py",
   "mimetype": "text/x-python",
   "name": "python",
   "nbconvert_exporter": "python",
   "pygments_lexer": "ipython3",
   "version": "3.11.4"
  },
  "orig_nbformat": 4
 },
 "nbformat": 4,
 "nbformat_minor": 2
}
