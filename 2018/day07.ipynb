{
 "cells": [
  {
   "cell_type": "code",
   "execution_count": 1,
   "metadata": {},
   "outputs": [],
   "source": [
    "from collections import defaultdict"
   ]
  },
  {
   "cell_type": "code",
   "execution_count": 2,
   "metadata": {},
   "outputs": [],
   "source": [
    "def read_input(filename):\n",
    "    rules = defaultdict(list)\n",
    "    with open(filename, 'r') as f:\n",
    "        for line in f.readlines():\n",
    "            words = [w for w in line.strip().split(' ')]\n",
    "            rules[words[1]].append(words[7])\n",
    "    return rules"
   ]
  },
  {
   "cell_type": "code",
   "execution_count": 3,
   "metadata": {},
   "outputs": [],
   "source": [
    "rules = read_input('07_input.txt')"
   ]
  },
  {
   "cell_type": "code",
   "execution_count": 4,
   "metadata": {},
   "outputs": [],
   "source": [
    "rules_inv = defaultdict(list)\n",
    "for k, v in rules.items():\n",
    "    for vv in v:\n",
    "        rules_inv[vv].append(k)"
   ]
  },
  {
   "cell_type": "code",
   "execution_count": 5,
   "metadata": {},
   "outputs": [],
   "source": [
    "before = set(rules.keys())\n",
    "after = set([x for y in rules.values() for x in y])\n",
    "start = list(before - after)[0]"
   ]
  },
  {
   "cell_type": "code",
   "execution_count": 6,
   "metadata": {},
   "outputs": [],
   "source": [
    "current = start\n",
    "completed = [current]\n",
    "avail = [c for c in rules[start] if all([d in completed for d in rules_inv[c]])]\n",
    "while avail:\n",
    "    avail.sort()\n",
    "    current = avail.pop(0)\n",
    "    completed.append(current)\n",
    "    possible = [c for c in rules[current] if all([d in completed for d in rules_inv[c]])]\n",
    "    avail.extend(possible)\n",
    "    avail = list(set(avail))"
   ]
  },
  {
   "cell_type": "code",
   "execution_count": 7,
   "metadata": {},
   "outputs": [
    {
     "name": "stdout",
     "output_type": "stream",
     "text": [
      "SCLPAMQVUWNHODRTGYKBJEFXZI\n"
     ]
    }
   ],
   "source": [
    "print(''.join(completed))"
   ]
  },
  {
   "cell_type": "code",
   "execution_count": 8,
   "metadata": {},
   "outputs": [],
   "source": [
    "n_workers = 5\n",
    "workers = [['', 0] for _ in range(n_workers)]\n",
    "current = start\n",
    "completed = [current]\n",
    "started = [current]\n",
    "t = ord(start) - 4\n",
    "avail = [c for c in rules[start] if all([d in completed for d in rules_inv[c]])]\n",
    "while True:\n",
    "    for w in workers:\n",
    "        w[1] = max(w[1] - 1, 0)\n",
    "        if w[1] == 0:\n",
    "            if w[0] not in completed and w[0] in started:\n",
    "                if w[0] != '':\n",
    "                    completed.append(w[0])\n",
    "                possible = [c for c in rules[w[0]] if all([d in completed for d in rules_inv[c]])]\n",
    "                avail.extend(possible)\n",
    "                avail = list(set(avail))\n",
    "                avail.sort()\n",
    "            if avail:\n",
    "                w[0] = avail.pop(0)\n",
    "                started.append(w[0])\n",
    "                w[1] = ord(w[0]) - 4\n",
    "    if all([w[1] == 0 for w in workers]) and not avail:\n",
    "        break\n",
    "    t += 1\n"
   ]
  },
  {
   "cell_type": "code",
   "execution_count": 9,
   "metadata": {},
   "outputs": [
    {
     "data": {
      "text/plain": [
       "1234"
      ]
     },
     "execution_count": 9,
     "metadata": {},
     "output_type": "execute_result"
    }
   ],
   "source": [
    "t"
   ]
  }
 ],
 "metadata": {
  "kernelspec": {
   "display_name": "ds-base-311",
   "language": "python",
   "name": "python3"
  },
  "language_info": {
   "codemirror_mode": {
    "name": "ipython",
    "version": 3
   },
   "file_extension": ".py",
   "mimetype": "text/x-python",
   "name": "python",
   "nbconvert_exporter": "python",
   "pygments_lexer": "ipython3",
   "version": "3.11.4"
  },
  "orig_nbformat": 4
 },
 "nbformat": 4,
 "nbformat_minor": 2
}
