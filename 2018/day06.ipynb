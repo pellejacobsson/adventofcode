{
 "cells": [
  {
   "cell_type": "code",
   "execution_count": 1,
   "metadata": {},
   "outputs": [],
   "source": [
    "import numpy as np"
   ]
  },
  {
   "cell_type": "code",
   "execution_count": 2,
   "metadata": {},
   "outputs": [],
   "source": [
    "def read_input(filename):\n",
    "    with open(filename, 'r') as f:\n",
    "        x, y = zip(*[[int(x), int(y)] for (x, y) in [line.split(', ') for line in f.readlines()]])\n",
    "    x = np.array(x)\n",
    "    y = np.array(y)\n",
    "    return x, y"
   ]
  },
  {
   "cell_type": "code",
   "execution_count": 113,
   "metadata": {},
   "outputs": [],
   "source": [
    "x, y = read_input('06_input.txt')\n",
    "x_min, x_max = np.min(x), np.max(x)\n",
    "y_min, y_max = np.min(y), np.max(y)\n",
    "x = x - x_min + 1\n",
    "y = y - y_min + 1\n",
    "n_x, n_y = np.max(x) + 2, np.max(y) + 2\n",
    "n_points = len(x)"
   ]
  },
  {
   "cell_type": "code",
   "execution_count": 114,
   "metadata": {},
   "outputs": [],
   "source": [
    "xx, yy = np.meshgrid(np.arange(n_x), np.arange(n_y))\n",
    "dx = np.abs(xx[:, :, np.newaxis] - x)\n",
    "dy = np.abs(yy[:, :, np.newaxis] - y)\n",
    "dist = dx + dy"
   ]
  },
  {
   "cell_type": "code",
   "execution_count": 115,
   "metadata": {},
   "outputs": [],
   "source": [
    "dist_min = np.min(dist, axis=2)\n",
    "ix = np.sum(dist_min[:, :, np.newaxis] == dist, axis=2) == 1\n",
    "min_point = np.argmin(dist, axis=2)"
   ]
  },
  {
   "cell_type": "code",
   "execution_count": 116,
   "metadata": {},
   "outputs": [],
   "source": [
    "inf_points = set(np.hstack((min_point[0, :], min_point[-1, :], min_point[:, 0], min_point[:, -1])))\n",
    "inf_mask = np.isin(min_point[ix], list(inf_points), invert=True)"
   ]
  },
  {
   "cell_type": "code",
   "execution_count": 118,
   "metadata": {},
   "outputs": [
    {
     "name": "stdout",
     "output_type": "stream",
     "text": [
      "5532\n"
     ]
    }
   ],
   "source": [
    "counts = np.bincount(min_point[ix][inf_mask])\n",
    "area = np.argmax(counts)\n",
    "area_size = counts[area]\n",
    "print(area_size)"
   ]
  },
  {
   "cell_type": "code",
   "execution_count": 119,
   "metadata": {},
   "outputs": [],
   "source": [
    "safe_area_size = np.sum(np.sum(dist, axis=2) < 10000)"
   ]
  },
  {
   "cell_type": "code",
   "execution_count": 120,
   "metadata": {},
   "outputs": [
    {
     "name": "stdout",
     "output_type": "stream",
     "text": [
      "36216\n"
     ]
    }
   ],
   "source": [
    "print(safe_area_size)"
   ]
  }
 ],
 "metadata": {
  "kernelspec": {
   "display_name": "ds-base-311",
   "language": "python",
   "name": "python3"
  },
  "language_info": {
   "codemirror_mode": {
    "name": "ipython",
    "version": 3
   },
   "file_extension": ".py",
   "mimetype": "text/x-python",
   "name": "python",
   "nbconvert_exporter": "python",
   "pygments_lexer": "ipython3",
   "version": "3.11.4"
  },
  "orig_nbformat": 4
 },
 "nbformat": 4,
 "nbformat_minor": 2
}
