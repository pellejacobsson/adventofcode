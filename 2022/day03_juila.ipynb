{
 "cells": [
  {
   "cell_type": "code",
   "execution_count": 39,
   "metadata": {},
   "outputs": [
    {
     "data": {
      "text/plain": [
       "runit (generic function with 1 method)"
      ]
     },
     "execution_count": 39,
     "metadata": {},
     "output_type": "execute_result"
    }
   ],
   "source": [
    "function read_input(filename)\n",
    "    open(filename, \"r\") do f\n",
    "        readlines(f)\n",
    "    end\n",
    "end\n",
    "\n",
    "function get_double_items(sacks)\n",
    "    items = []\n",
    "    for sack in sacks\n",
    "        comp_size = div(length(sack), 2)\n",
    "        double_item = intersect(Set(sack[1:comp_size]), Set(sack[comp_size + 1:end]))\n",
    "        push!(items, collect(double_item)[1])\n",
    "    end\n",
    "    items\n",
    "end\n",
    "\n",
    "function item_to_prio(item)\n",
    "    islowercase(item) ? Int(item) - Int('a') + 1 : Int(item) - Int('A') + 27\n",
    "end\n",
    "\n",
    "function get_group_badges(sacks)\n",
    "    badges = []\n",
    "    for i in 1:3:(length(sacks) - 2)\n",
    "        badge = intersect(Set(sacks[i]), Set(sacks[i + 1]), Set(sacks[i + 2]))\n",
    "        push!(badges, Iterators.only(badge))\n",
    "    end\n",
    "    return badges\n",
    "end\n",
    "\n",
    "function runit(filename; part2=false)\n",
    "    sacks = read_input(filename)\n",
    "    if part2\n",
    "        items = get_group_badges(sacks)\n",
    "    else\n",
    "        items = get_double_items(sacks)\n",
    "    end\n",
    "    return sum(item_to_prio.(items))\n",
    "end"
   ]
  },
  {
   "cell_type": "code",
   "execution_count": 43,
   "metadata": {},
   "outputs": [
    {
     "data": {
      "text/plain": [
       "8493"
      ]
     },
     "execution_count": 43,
     "metadata": {},
     "output_type": "execute_result"
    }
   ],
   "source": [
    "runit(\"03_input.txt\")"
   ]
  },
  {
   "cell_type": "code",
   "execution_count": 44,
   "metadata": {},
   "outputs": [
    {
     "data": {
      "text/plain": [
       "2552"
      ]
     },
     "execution_count": 44,
     "metadata": {},
     "output_type": "execute_result"
    }
   ],
   "source": [
    "runit(\"03_input.txt\"; part2=true)"
   ]
  }
 ],
 "metadata": {
  "kernelspec": {
   "display_name": "Julia 1.9.3",
   "language": "julia",
   "name": "julia-1.9"
  },
  "language_info": {
   "file_extension": ".jl",
   "mimetype": "application/julia",
   "name": "julia",
   "version": "1.9.3"
  }
 },
 "nbformat": 4,
 "nbformat_minor": 2
}
