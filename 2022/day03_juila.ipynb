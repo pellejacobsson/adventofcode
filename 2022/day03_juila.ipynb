{
 "cells": [
  {
   "cell_type": "code",
   "execution_count": 29,
   "metadata": {},
   "outputs": [
    {
     "data": {
      "text/plain": [
       "get_double_items (generic function with 1 method)"
      ]
     },
     "metadata": {},
     "output_type": "display_data"
    }
   ],
   "source": [
    "function read_input(filename)\n",
    "    open(filename, \"r\") do f\n",
    "        readlines(f)\n",
    "    end\n",
    "end\n",
    "\n",
    "function get_double_items(sacks)\n",
    "    items = []\n",
    "    for sack in sacks\n",
    "        comp_size = div(length(sack), 2)\n",
    "        double_item = intersect(Set(sack[1:comp_size]), Set(sack[comp_size + 1:end]))\n",
    "        push!(items, collect(double_item)[1])\n",
    "    end\n",
    "    items\n",
    "end"
   ]
  },
  {
   "cell_type": "code",
   "execution_count": 30,
   "metadata": {},
   "outputs": [],
   "source": [
    "sacks = read_input(\"03_input.txt\");"
   ]
  },
  {
   "cell_type": "code",
   "execution_count": 31,
   "metadata": {},
   "outputs": [
    {
     "data": {
      "text/plain": [
       "300-element Vector{Any}:\n",
       " 'M': ASCII/Unicode U+004D (category Lu: Letter, uppercase)\n",
       " 'G': ASCII/Unicode U+0047 (category Lu: Letter, uppercase)\n",
       " 'p': ASCII/Unicode U+0070 (category Ll: Letter, lowercase)\n",
       " 'N': ASCII/Unicode U+004E (category Lu: Letter, uppercase)\n",
       " 'S': ASCII/Unicode U+0053 (category Lu: Letter, uppercase)\n",
       " 's': ASCII/Unicode U+0073 (category Ll: Letter, lowercase)\n",
       " 'V': ASCII/Unicode U+0056 (category Lu: Letter, uppercase)\n",
       " 'G': ASCII/Unicode U+0047 (category Lu: Letter, uppercase)\n",
       " 's': ASCII/Unicode U+0073 (category Ll: Letter, lowercase)\n",
       " 'P': ASCII/Unicode U+0050 (category Lu: Letter, uppercase)\n",
       " ⋮\n",
       " 'D': ASCII/Unicode U+0044 (category Lu: Letter, uppercase)\n",
       " 'c': ASCII/Unicode U+0063 (category Ll: Letter, lowercase)\n",
       " 'N': ASCII/Unicode U+004E (category Lu: Letter, uppercase)\n",
       " 'S': ASCII/Unicode U+0053 (category Lu: Letter, uppercase)\n",
       " 'T': ASCII/Unicode U+0054 (category Lu: Letter, uppercase)\n",
       " 'C': ASCII/Unicode U+0043 (category Lu: Letter, uppercase)\n",
       " 'L': ASCII/Unicode U+004C (category Lu: Letter, uppercase)\n",
       " 'W': ASCII/Unicode U+0057 (category Lu: Letter, uppercase)\n",
       " 'm': ASCII/Unicode U+006D (category Ll: Letter, lowercase)"
      ]
     },
     "metadata": {},
     "output_type": "display_data"
    }
   ],
   "source": [
    "get_double_items(sacks)"
   ]
  },
  {
   "cell_type": "code",
   "execution_count": 25,
   "metadata": {},
   "outputs": [
    {
     "data": {
      "text/plain": [
       "1-element Vector{Char}:\n",
       " 'm': ASCII/Unicode U+006D (category Ll: Letter, lowercase)"
      ]
     },
     "metadata": {},
     "output_type": "display_data"
    }
   ],
   "source": [
    "collect(Set(['m']))"
   ]
  },
  {
   "cell_type": "code",
   "execution_count": null,
   "metadata": {},
   "outputs": [],
   "source": []
  }
 ],
 "metadata": {
  "kernelspec": {
   "display_name": "Julia 1.9.3",
   "language": "julia",
   "name": "julia-1.9"
  },
  "language_info": {
   "file_extension": ".jl",
   "mimetype": "application/julia",
   "name": "julia",
   "version": "1.9.3"
  }
 },
 "nbformat": 4,
 "nbformat_minor": 2
}
