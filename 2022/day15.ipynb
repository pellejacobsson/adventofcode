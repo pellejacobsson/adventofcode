{
 "cells": [
  {
   "cell_type": "code",
   "execution_count": 1,
   "metadata": {},
   "outputs": [],
   "source": [
    "import re"
   ]
  },
  {
   "cell_type": "code",
   "execution_count": 2,
   "metadata": {},
   "outputs": [],
   "source": [
    "def read_input(filename):\n",
    "    expr = r'Sensor at x=(-?\\d+), y=(-?\\d+): closest beacon is at x=(-?\\d+), y=(-?\\d+)'\n",
    "    sensors = {}\n",
    "    with open(filename, 'r') as f:\n",
    "        for line in f.readlines():\n",
    "            m = re.search(expr, line)\n",
    "            s = (int(m[1]), int(m[2]))\n",
    "            b = (int(m[3]), int(m[4]))\n",
    "            d = abs(b[0] - s[0]) + abs(b[1] - s[1])\n",
    "            sensors[s] = (b, d)\n",
    "    return sensors\n",
    "\n",
    "def runit(filename):\n",
    "    sensors = read_input(filename)\n",
    "    y_line = 2000000\n",
    "    x_pos = set()\n",
    "    x_pos_beacon = set()\n",
    "    for ((sensor_x, sensor_y), ((beacon_x, beacon_y), dist)) in sensors.items():\n",
    "        dx = dist - abs(sensor_y - y_line)\n",
    "        x_min = sensor_x - dx\n",
    "        x_max = sensor_x + dx\n",
    "        x_pos = x_pos.union(set(range(x_min, x_max + 1)))\n",
    "        if beacon_y == y_line:\n",
    "            x_pos_beacon.add(beacon_x)\n",
    "    return len(x_pos.difference(x_pos_beacon))"
   ]
  },
  {
   "cell_type": "code",
   "execution_count": 5,
   "metadata": {},
   "outputs": [
    {
     "data": {
      "text/plain": [
       "5176944"
      ]
     },
     "execution_count": 5,
     "metadata": {},
     "output_type": "execute_result"
    }
   ],
   "source": [
    "runit('15_input.txt')"
   ]
  },
  {
   "cell_type": "code",
   "execution_count": null,
   "metadata": {},
   "outputs": [],
   "source": []
  }
 ],
 "metadata": {
  "kernelspec": {
   "display_name": "ds-base",
   "language": "python",
   "name": "python3"
  },
  "language_info": {
   "codemirror_mode": {
    "name": "ipython",
    "version": 3
   },
   "file_extension": ".py",
   "mimetype": "text/x-python",
   "name": "python",
   "nbconvert_exporter": "python",
   "pygments_lexer": "ipython3",
   "version": "3.10.6"
  },
  "orig_nbformat": 4,
  "vscode": {
   "interpreter": {
    "hash": "a0d7f877497f5506abd9009c7bd1724a58de81637cd896211673a408b08e164a"
   }
  }
 },
 "nbformat": 4,
 "nbformat_minor": 2
}
