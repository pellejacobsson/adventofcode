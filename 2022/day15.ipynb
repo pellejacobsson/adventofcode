{
 "cells": [
  {
   "cell_type": "code",
   "execution_count": 1,
   "metadata": {},
   "outputs": [],
   "source": [
    "import re\n",
    "import matplotlib.pyplot as plt\n",
    "from shapely.geometry import Polygon"
   ]
  },
  {
   "cell_type": "code",
   "execution_count": 2,
   "metadata": {},
   "outputs": [],
   "source": [
    "def read_input(filename):\n",
    "    expr = r'Sensor at x=(-?\\d+), y=(-?\\d+): closest beacon is at x=(-?\\d+), y=(-?\\d+)'\n",
    "    sensors = {}\n",
    "    with open(filename, 'r') as f:\n",
    "        for line in f.readlines():\n",
    "            m = re.search(expr, line)\n",
    "            s = (int(m[1]), int(m[2]))\n",
    "            b = (int(m[3]), int(m[4]))\n",
    "            d = abs(b[0] - s[0]) + abs(b[1] - s[1])\n",
    "            sensors[s] = (b, d)\n",
    "    return sensors\n",
    "\n",
    "def runit(filename):\n",
    "    sensors = read_input(filename)\n",
    "    y_line = 2000000\n",
    "    x_pos = set()\n",
    "    x_pos_beacon = set()\n",
    "    for ((sensor_x, sensor_y), ((beacon_x, beacon_y), dist)) in sensors.items():\n",
    "        dx = dist - abs(sensor_y - y_line)\n",
    "        x_min = sensor_x - dx\n",
    "        x_max = sensor_x + dx\n",
    "        x_pos = x_pos.union(set(range(x_min, x_max + 1)))\n",
    "        if beacon_y == y_line:\n",
    "            x_pos_beacon.add(beacon_x)\n",
    "    return len(x_pos.difference(x_pos_beacon))\n",
    "\n",
    "def get_sensor_polygons(sensors):\n",
    "    polygons = []\n",
    "    for ((sensor_x, sensor_y), ((beacon_x, beacon_y), dist)) in sensors.items():\n",
    "        polygon = (\n",
    "            (sensor_x + dist, sensor_x,        sensor_x - dist, sensor_x),\n",
    "            (sensor_y,        sensor_y - dist, sensor_y,        sensor_y + dist)\n",
    "        )\n",
    "        polygons.append(polygon)\n",
    "    return polygons\n",
    "\n",
    "def segs_intersect(h_seg, v_seg):\n",
    "    if h_seg[1] <= v_seg[0] <= h_seg[2] and v_seg[1] <= h_seg[0] <= v_seg[2]:\n",
    "        return (v_seg[0], h_seg[0])\n",
    "    else:\n",
    "        return None\n",
    "\n",
    "def runit2(filename):\n",
    "    sensors = read_input('15_input.txt')\n",
    "    polygons = get_sensor_polygons(sensors)\n",
    "    u = [[polygon[0][n] + polygon[1][n] for n in range(4)] for polygon in polygons]\n",
    "    v = [[polygon[0][n] - polygon[1][n] for n in range(4)] for polygon in polygons]\n",
    "    h_segs = []\n",
    "    v_segs = []\n",
    "    for (uu, vv) in zip(u, v):\n",
    "        h_segs.append((vv[0], uu[1], uu[0]))\n",
    "        h_segs.append((vv[2], uu[2], uu[3]))\n",
    "        v_segs.append((uu[1], vv[2], vv[1]))\n",
    "        v_segs.append((uu[0], vv[3], vv[0]))\n",
    "    intersections = []\n",
    "    for h_seg in h_segs:\n",
    "        for v_seg in v_segs:\n",
    "            inters = segs_intersect(h_seg, v_seg)\n",
    "            if inters is not None:\n",
    "                intersections.append(inters)\n",
    "    u2 = set()\n",
    "    for i1 in intersections:\n",
    "        for i2 in intersections:\n",
    "            du = abs(i1[0] - i2[0])\n",
    "            if du == 2:\n",
    "                u2.add(i1)\n",
    "                u2.add(i2)\n",
    "    v2 = set()\n",
    "    for uu1, vv1 in u2:\n",
    "        for uu2, vv2 in u2:\n",
    "            dv = abs(vv1 - vv2)\n",
    "            if dv == 2:\n",
    "                v2.add((uu1, vv1))\n",
    "    u = min([p[0] for p in v2]) + 1\n",
    "    v = min([p[1] for p in v2]) + 1\n",
    "    x = (u + v) // 2\n",
    "    y = (u - v) // 2\n",
    "    # fig, ax = plt.subplots(figsize=(10, 10))\n",
    "    # for h_seg in h_segs:\n",
    "    #     ax.plot([h_seg[1], h_seg[2]], [h_seg[0], h_seg[0]])\n",
    "    # for v_seg in v_segs:\n",
    "    #     ax.plot([v_seg[0], v_seg[0]], [v_seg[1], v_seg[2]])\n",
    "    # for u, v in intersections:\n",
    "    #     ax.plot(u, v, 'o')\n",
    "    return 4000000 * x + y\n",
    "                \n",
    "\n",
    "def runit3(filename):\n",
    "    sensors = read_input('15_input.txt')\n",
    "    polygons = get_sensor_polygons(sensors)\n",
    "    p = Polygon(list(zip(*polygons[0])))\n",
    "    for polygon in polygons[1:]:\n",
    "        p_new = Polygon(list(zip(*polygon)))\n",
    "        p = p.union(p_new)\n",
    "    r = Polygon([(0, 0), (4000000, 0), (4000000, 4000000), (0, 4000000)])\n",
    "    left = r.difference(p)\n",
    "    x = int(left.bounds[0]) + 1\n",
    "    y = int(left.bounds[1]) + 1\n",
    "\n",
    "    # fig, ax = plt.subplots(figsize=(10, 10))\n",
    "    # for polygon in polygons:\n",
    "    #     ax.fill(*polygon)\n",
    "    # ax.plot(x, y, 'x', color='black', markersize=10)\n",
    "    # ax.set_xlim((0, 4e6))\n",
    "    # ax.set_ylim((0, 4e6))\n",
    "    # ax.text(x, y, f'({x}, {y})', horizontalalignment='right', verticalalignment='bottom')\n",
    "    return 4000000 * x + y"
   ]
  },
  {
   "cell_type": "code",
   "execution_count": 3,
   "metadata": {},
   "outputs": [
    {
     "data": {
      "text/plain": [
       "5176944"
      ]
     },
     "execution_count": 3,
     "metadata": {},
     "output_type": "execute_result"
    }
   ],
   "source": [
    "runit('15_input.txt')"
   ]
  },
  {
   "cell_type": "code",
   "execution_count": 4,
   "metadata": {},
   "outputs": [
    {
     "data": {
      "text/plain": [
       "13350458933732"
      ]
     },
     "execution_count": 4,
     "metadata": {},
     "output_type": "execute_result"
    }
   ],
   "source": [
    "runit2('15_input.txt')"
   ]
  },
  {
   "cell_type": "code",
   "execution_count": 5,
   "metadata": {},
   "outputs": [
    {
     "data": {
      "text/plain": [
       "13350458933732"
      ]
     },
     "execution_count": 5,
     "metadata": {},
     "output_type": "execute_result"
    }
   ],
   "source": [
    "runit3('15_input.txt')"
   ]
  }
 ],
 "metadata": {
  "kernelspec": {
   "display_name": "ds-base",
   "language": "python",
   "name": "python3"
  },
  "language_info": {
   "codemirror_mode": {
    "name": "ipython",
    "version": 3
   },
   "file_extension": ".py",
   "mimetype": "text/x-python",
   "name": "python",
   "nbconvert_exporter": "python",
   "pygments_lexer": "ipython3",
   "version": "3.10.8"
  },
  "orig_nbformat": 4,
  "vscode": {
   "interpreter": {
    "hash": "921a7460100d8ae3825e646b690b80e6b4caef73fe6022a0e35634beb157f104"
   }
  }
 },
 "nbformat": 4,
 "nbformat_minor": 2
}
