{
 "cells": [
  {
   "cell_type": "code",
   "execution_count": 1,
   "metadata": {},
   "outputs": [],
   "source": [
    "import re"
   ]
  },
  {
   "cell_type": "code",
   "execution_count": 47,
   "metadata": {},
   "outputs": [],
   "source": [
    "def read_input(filename):\n",
    "    expr = r'Sensor at x=(-?\\d+), y=(-?\\d+): closest beacon is at x=(-?\\d+), y=(-?\\d+)'\n",
    "    sensors = {}\n",
    "    with open(filename, 'r') as f:\n",
    "        for line in f.readlines():\n",
    "            m = re.search(expr, line)\n",
    "            s = (int(m[1]), int(m[2]))\n",
    "            b = (int(m[3]), int(m[4]))\n",
    "            d = abs(b[0] - s[0]) + abs(b[1] - s[1])\n",
    "            sensors[s] = (b, d)\n",
    "    return sensors\n"
   ]
  },
  {
   "cell_type": "code",
   "execution_count": 48,
   "metadata": {},
   "outputs": [],
   "source": [
    "sensors = read_input('15_input.txt')"
   ]
  },
  {
   "cell_type": "code",
   "execution_count": 49,
   "metadata": {},
   "outputs": [
    {
     "data": {
      "text/plain": [
       "{(3999724, 2000469): ((4281123, 2282046), 562976),\n",
       " (3995530, 8733): ((3321979, -692911), 1375195),\n",
       " (3016889, 2550239): ((2408038, 2645605), 704217),\n",
       " (3443945, 3604888): ((3610223, 3768674), 330064),\n",
       " (168575, 491461): ((1053731, -142061), 1518678),\n",
       " (2820722, 3865596): ((3191440, 3801895), 434419),\n",
       " (2329102, 2456329): ((2408038, 2645605), 268212),\n",
       " (3889469, 3781572): ((3610223, 3768674), 292144),\n",
       " (3256726, 3882107): ((3191440, 3801895), 145498),\n",
       " (3729564, 3214899): ((3610223, 3768674), 673116),\n",
       " (206718, 2732608): ((-152842, 3117903), 744855),\n",
       " (2178192, 2132103): ((2175035, 2000000), 135260),\n",
       " (1884402, 214904): ((1053731, -142061), 1187636),\n",
       " (3060435, 980430): ((2175035, 2000000), 1904970),\n",
       " (3998355, 3965954): ((3610223, 3768674), 585412),\n",
       " (3704399, 3973731): ((3610223, 3768674), 299233),\n",
       " (1421672, 3446889): ((2408038, 2645605), 1787650),\n",
       " (3415633, 3916020): ((3191440, 3801895), 338318),\n",
       " (2408019, 2263990): ((2408038, 2645605), 381634),\n",
       " (3735247, 2533767): ((4281123, 2282046), 797597),\n",
       " (1756494, 1928662): ((2175035, 2000000), 489879),\n",
       " (780161, 1907142): ((2175035, 2000000), 1487732),\n",
       " (3036853, 3294727): ((3191440, 3801895), 661755),\n",
       " (53246, 3908582): ((-152842, 3117903), 996767),\n",
       " (2110517, 2243287): ((2175035, 2000000), 307805),\n",
       " (3149491, 3998374): ((3191440, 3801895), 238428)}"
      ]
     },
     "execution_count": 49,
     "metadata": {},
     "output_type": "execute_result"
    }
   ],
   "source": [
    "sensors"
   ]
  },
  {
   "cell_type": "code",
   "execution_count": null,
   "metadata": {},
   "outputs": [],
   "source": []
  }
 ],
 "metadata": {
  "kernelspec": {
   "display_name": "ds-base",
   "language": "python",
   "name": "python3"
  },
  "language_info": {
   "codemirror_mode": {
    "name": "ipython",
    "version": 3
   },
   "file_extension": ".py",
   "mimetype": "text/x-python",
   "name": "python",
   "nbconvert_exporter": "python",
   "pygments_lexer": "ipython3",
   "version": "3.10.8"
  },
  "orig_nbformat": 4,
  "vscode": {
   "interpreter": {
    "hash": "921a7460100d8ae3825e646b690b80e6b4caef73fe6022a0e35634beb157f104"
   }
  }
 },
 "nbformat": 4,
 "nbformat_minor": 2
}
