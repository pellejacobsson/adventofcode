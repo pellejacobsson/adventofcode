{
 "cells": [
  {
   "cell_type": "code",
   "execution_count": 1,
   "metadata": {},
   "outputs": [],
   "source": [
    "def read_input(filename):\n",
    "    with open(filename, 'r') as f:\n",
    "        terminal = [s.strip() for s in f.readlines()]\n",
    "    return terminal\n",
    "\n",
    "def build_fs(terminal):\n",
    "    dirs = []\n",
    "    dir_stack = []\n",
    "    for t in terminal:\n",
    "        if t.startswith('$'):\n",
    "            if t[2:4] == 'cd':\n",
    "                dir = t[5:]\n",
    "                if dir == '..':\n",
    "                    dir_stack.pop()\n",
    "                    dir = dir_stack[-1]\n",
    "                else:\n",
    "                    dir_stack.append(dir)\n",
    "        else:\n",
    "            if not t.startswith('dir'):\n",
    "                size, name = t.split(' ')\n",
    "                path = '/'.join(dir_stack)\n",
    "                dirs.append(dir_stack + [name + '_' + size])\n",
    "    return dirs\n",
    "\n",
    "def size_cont(size, file):\n",
    "    for i in range(1, len(file)):\n",
    "        path = '/'.join(file[:i])\n",
    "        f_name, f_size = file[-1].split('_')\n",
    "        size[path] = size.get(path, 0) + int(f_size)\n",
    "        \n",
    "def runit(filename, part=1):\n",
    "    terminal = read_input(filename)\n",
    "    fs = build_fs(terminal)\n",
    "    size = {}\n",
    "    for dir in fs:\n",
    "        size_cont(size, dir)\n",
    "    if part == 1:\n",
    "        return sum(s for s in size.values() if s <= 100000)\n",
    "    else:\n",
    "        needed = 30000000 - (70000000 - size['/'])\n",
    "        s_min = 70000000\n",
    "        d_min = None\n",
    "        for d, s in size.items():\n",
    "            if s >= needed and s < s_min:\n",
    "                s_min = s\n",
    "                d_min = d\n",
    "        return d_min, s_min"
   ]
  },
  {
   "cell_type": "code",
   "execution_count": 2,
   "metadata": {},
   "outputs": [
    {
     "data": {
      "text/plain": [
       "1555642"
      ]
     },
     "execution_count": 2,
     "metadata": {},
     "output_type": "execute_result"
    }
   ],
   "source": [
    "runit('07_input.txt')"
   ]
  },
  {
   "cell_type": "code",
   "execution_count": 3,
   "metadata": {},
   "outputs": [
    {
     "data": {
      "text/plain": [
       "('//fvhmzqc/wrzzq/mqqlhnvh', 5974547)"
      ]
     },
     "execution_count": 3,
     "metadata": {},
     "output_type": "execute_result"
    }
   ],
   "source": [
    "runit('07_input.txt', part=2)"
   ]
  }
 ],
 "metadata": {
  "kernelspec": {
   "display_name": "Python 3.10.6 ('ds-base')",
   "language": "python",
   "name": "python3"
  },
  "language_info": {
   "codemirror_mode": {
    "name": "ipython",
    "version": 3
   },
   "file_extension": ".py",
   "mimetype": "text/x-python",
   "name": "python",
   "nbconvert_exporter": "python",
   "pygments_lexer": "ipython3",
   "version": "3.10.6"
  },
  "orig_nbformat": 4,
  "vscode": {
   "interpreter": {
    "hash": "921a7460100d8ae3825e646b690b80e6b4caef73fe6022a0e35634beb157f104"
   }
  }
 },
 "nbformat": 4,
 "nbformat_minor": 2
}
