{
 "cells": [
  {
   "cell_type": "code",
   "execution_count": 1,
   "metadata": {},
   "outputs": [],
   "source": [
    "from collections import defaultdict"
   ]
  },
  {
   "cell_type": "code",
   "execution_count": 2,
   "metadata": {},
   "outputs": [],
   "source": [
    "class File:\n",
    "    def __init__(self, name, size):\n",
    "        self.name = name\n",
    "        self.size = size\n",
    "\n",
    "class Dir:\n",
    "    def __init__(self, name, parent):\n",
    "        self.name = name\n",
    "        self.parent = parent\n",
    "        self.subdirs = []\n",
    "        self.files = []\n",
    "    \n",
    "    def add_subdir(self, name):\n",
    "        self.subdirs.append(Dir(name, self.name))\n",
    "    \n",
    "    def add_file(self, file):\n",
    "        self.files.append(file)\n",
    "\n",
    "def read_input(filename):\n",
    "    with open(filename, 'r') as f:\n",
    "        terminal = [s.strip() for s in f.readlines()]\n",
    "    return terminal\n",
    "\n",
    "def build_fs3(terminal):\n",
    "    dir_stack = []\n",
    "    fs = Dir(None, None)\n",
    "    for t in terminal:\n",
    "        if t.startswith('$'):\n",
    "            if t[2:4] == 'cd':\n",
    "                dir = t[5:]\n",
    "                if dir == '..':\n",
    "                    dir_stack.pop()\n",
    "                    dir = dir_stack[-1]\n",
    "                else:\n",
    "                    dir_stack.append(dir)\n",
    "                    if len(dir_stack) == 1:\n",
    "                        parent = None\n",
    "                    else:\n",
    "                        parent = dir_stack[-2]\n",
    "                    fs = Dir(dir, parent)\n",
    "        else:\n",
    "            if t.startswith('dir'):\n",
    "                fs[dir].add_subdir(t[4:])\n",
    "            else:\n",
    "                size, name = t.split(' ')\n",
    "                fs[dir].add_file(File(name, size))\n",
    "    return  fs\n",
    "\n",
    "def build_fs(terminal):\n",
    "    dirs = defaultdict(list)\n",
    "    files = defaultdict(list)\n",
    "    dir_stack = []\n",
    "    for t in terminal:\n",
    "        if t.startswith('$'):\n",
    "            if t[2:4] == 'cd':\n",
    "                dir = t[5:]\n",
    "                if dir == '..':\n",
    "                    dir_stack.pop()\n",
    "                    dir = dir_stack[-1]\n",
    "                else:\n",
    "                    dir_stack.append(dir)\n",
    "        else:\n",
    "            if t.startswith('dir'):\n",
    "                dirs[dir].append(t[4:])\n",
    "            else:\n",
    "                size, name = t.split(' ')\n",
    "                files[dir].append((name, int(size)))\n",
    "    return dirs, files\n",
    "\n",
    "def calc_size(dir, dirs, files):\n",
    "    size = 0\n",
    "    for file in files[dir]:\n",
    "        size += file[1]\n",
    "    for subdir in dirs[dir]:\n",
    "        size += calc_size(subdir, dirs, files)\n",
    "    return size"
   ]
  },
  {
   "cell_type": "code",
   "execution_count": 3,
   "metadata": {},
   "outputs": [],
   "source": [
    "terminal = read_input('07_testinput.txt')"
   ]
  },
  {
   "cell_type": "code",
   "execution_count": 4,
   "metadata": {},
   "outputs": [],
   "source": [
    "dirs, files = build_fs(terminal)"
   ]
  },
  {
   "cell_type": "code",
   "execution_count": 5,
   "metadata": {},
   "outputs": [
    {
     "data": {
      "text/plain": [
       "defaultdict(list, {'/': ['a', 'd'], 'a': ['e']})"
      ]
     },
     "execution_count": 5,
     "metadata": {},
     "output_type": "execute_result"
    }
   ],
   "source": [
    "dirs"
   ]
  },
  {
   "cell_type": "code",
   "execution_count": 6,
   "metadata": {},
   "outputs": [
    {
     "data": {
      "text/plain": [
       "[('f', 29116), ('g', 2557), ('h.lst', 62596)]"
      ]
     },
     "execution_count": 6,
     "metadata": {},
     "output_type": "execute_result"
    }
   ],
   "source": [
    "files['a']"
   ]
  },
  {
   "cell_type": "code",
   "execution_count": 7,
   "metadata": {},
   "outputs": [
    {
     "data": {
      "text/plain": [
       "48381165"
      ]
     },
     "execution_count": 7,
     "metadata": {},
     "output_type": "execute_result"
    }
   ],
   "source": [
    "calc_size('/', dirs, files)"
   ]
  },
  {
   "cell_type": "code",
   "execution_count": null,
   "metadata": {},
   "outputs": [],
   "source": []
  }
 ],
 "metadata": {
  "kernelspec": {
   "display_name": "Python 3.10.6 ('ds-base')",
   "language": "python",
   "name": "python3"
  },
  "language_info": {
   "codemirror_mode": {
    "name": "ipython",
    "version": 3
   },
   "file_extension": ".py",
   "mimetype": "text/x-python",
   "name": "python",
   "nbconvert_exporter": "python",
   "pygments_lexer": "ipython3",
   "version": "3.10.6"
  },
  "orig_nbformat": 4,
  "vscode": {
   "interpreter": {
    "hash": "921a7460100d8ae3825e646b690b80e6b4caef73fe6022a0e35634beb157f104"
   }
  }
 },
 "nbformat": 4,
 "nbformat_minor": 2
}
