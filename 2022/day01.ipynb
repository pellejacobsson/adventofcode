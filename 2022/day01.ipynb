{
 "cells": [
  {
   "cell_type": "code",
   "execution_count": 1,
   "metadata": {},
   "outputs": [],
   "source": [
    "using IterTools\n",
    "using BenchmarkTools"
   ]
  },
  {
   "cell_type": "code",
   "execution_count": 2,
   "metadata": {},
   "outputs": [
    {
     "data": {
      "text/plain": [
       "runit2 (generic function with 1 method)"
      ]
     },
     "execution_count": 2,
     "metadata": {},
     "output_type": "execute_result"
    }
   ],
   "source": [
    "function read_input(filename)\n",
    "    open(filename, \"r\") do f\n",
    "        elfs = []\n",
    "        while !eof(f)\n",
    "            s = 0\n",
    "            while true\n",
    "                l = readline(f)\n",
    "                if l == \"\"\n",
    "                    break\n",
    "                else\n",
    "                    s += parse(Int, l)\n",
    "                end\n",
    "            end\n",
    "            push!(elfs, s)\n",
    "        end\n",
    "        elfs\n",
    "    end\n",
    "end\n",
    "\n",
    "function read_input2(filename)\n",
    "    open(filename) do f\n",
    "        [sum(parse.(Int, g)) for g in groupby(x -> x != \"\", readlines(f)) if !(length(g) == 1 && g[1] == \"\")]\n",
    "    end\n",
    "end\n",
    "\n",
    "function runit(filename; part2=false)::Int64\n",
    "    elfs = read_input(filename)\n",
    "    if part2\n",
    "        return sum(sort(elfs; rev=true)[1:3])\n",
    "    else\n",
    "        return maximum(elfs)\n",
    "    end\n",
    "end\n",
    "\n",
    "function runit2(filename)\n",
    "    open(filename, \"r\") do f\n",
    "        elf_max = 0\n",
    "        while !eof(f)\n",
    "            s = 0\n",
    "            while true\n",
    "                l = readline(f)\n",
    "                if l == \"\"\n",
    "                    break\n",
    "                else\n",
    "                    s += parse(Int, l)\n",
    "                end\n",
    "            end\n",
    "            if s > elf_max\n",
    "                elf_max = s\n",
    "            end\n",
    "        end\n",
    "        elf_max\n",
    "    end\n",
    "end"
   ]
  },
  {
   "cell_type": "code",
   "execution_count": 3,
   "metadata": {},
   "outputs": [
    {
     "data": {
      "text/plain": [
       "75622"
      ]
     },
     "execution_count": 3,
     "metadata": {},
     "output_type": "execute_result"
    }
   ],
   "source": [
    "runit(\"01_input.txt\")"
   ]
  },
  {
   "cell_type": "code",
   "execution_count": 4,
   "metadata": {},
   "outputs": [
    {
     "data": {
      "text/plain": [
       "213159"
      ]
     },
     "execution_count": 4,
     "metadata": {},
     "output_type": "execute_result"
    }
   ],
   "source": [
    "runit(\"01_input.txt\"; part2=true)"
   ]
  },
  {
   "cell_type": "code",
   "execution_count": 5,
   "metadata": {},
   "outputs": [
    {
     "name": "stdout",
     "output_type": "stream",
     "text": [
      "  221.000 μs (2271 allocations: 59.20 KiB)\n"
     ]
    }
   ],
   "source": [
    "@btime read_input(\"01_input.txt\");"
   ]
  },
  {
   "cell_type": "code",
   "execution_count": 6,
   "metadata": {},
   "outputs": [
    {
     "name": "stdout",
     "output_type": "stream",
     "text": [
      "  409.500 μs (6161 allocations: 297.79 KiB)\n"
     ]
    }
   ],
   "source": [
    "@btime read_input2(\"01_input.txt\");"
   ]
  },
  {
   "cell_type": "code",
   "execution_count": 7,
   "metadata": {},
   "outputs": [
    {
     "name": "stdout",
     "output_type": "stream",
     "text": [
      "  277.000 μs (2527 allocations: 63.20 KiB)\n"
     ]
    }
   ],
   "source": [
    "@btime runit(\"01_input.txt\");"
   ]
  },
  {
   "cell_type": "code",
   "execution_count": 8,
   "metadata": {},
   "outputs": [
    {
     "name": "stdout",
     "output_type": "stream",
     "text": [
      "  258.900 μs (2013 allocations: 47.71 KiB)\n"
     ]
    }
   ],
   "source": [
    "@btime runit2(\"01_input.txt\");"
   ]
  }
 ],
 "metadata": {
  "kernelspec": {
   "display_name": "Julia 1.8.3",
   "language": "julia",
   "name": "julia-1.8"
  },
  "language_info": {
   "file_extension": ".jl",
   "mimetype": "application/julia",
   "name": "julia",
   "version": "1.8.3"
  },
  "orig_nbformat": 4
 },
 "nbformat": 4,
 "nbformat_minor": 2
}
