{
 "cells": [
  {
   "cell_type": "markdown",
   "metadata": {},
   "source": [
    "Let's go!"
   ]
  },
  {
   "cell_type": "code",
   "execution_count": 1,
   "metadata": {},
   "outputs": [
    {
     "data": {
      "text/plain": [
       "read_input (generic function with 1 method)"
      ]
     },
     "execution_count": 1,
     "metadata": {},
     "output_type": "execute_result"
    }
   ],
   "source": [
    "function read_input(filename)\n",
    "    elfs = open(filename) do f\n",
    "        readlines(f)\n",
    "    end\n",
    "end"
   ]
  },
  {
   "cell_type": "code",
   "execution_count": 2,
   "metadata": {},
   "outputs": [
    {
     "data": {
      "text/plain": [
       "2253-element Vector{String}:\n",
       " \"13399\"\n",
       " \"13677\"\n",
       " \"11945\"\n",
       " \"9861\"\n",
       " \"6484\"\n",
       " \"4257\"\n",
       " \"\"\n",
       " \"6616\"\n",
       " \"7349\"\n",
       " \"7758\"\n",
       " \"1591\"\n",
       " \"6068\"\n",
       " \"9217\"\n",
       " ⋮\n",
       " \"3033\"\n",
       " \"6833\"\n",
       " \"5479\"\n",
       " \"5133\"\n",
       " \"4490\"\n",
       " \"6107\"\n",
       " \"5144\"\n",
       " \"4442\"\n",
       " \"5649\"\n",
       " \"2533\"\n",
       " \"5321\"\n",
       " \"1877\""
      ]
     },
     "execution_count": 2,
     "metadata": {},
     "output_type": "execute_result"
    }
   ],
   "source": [
    "elfs = read_input(\"01_input.txt\")"
   ]
  },
  {
   "cell_type": "code",
   "execution_count": null,
   "metadata": {},
   "outputs": [],
   "source": []
  }
 ],
 "metadata": {
  "kernelspec": {
   "display_name": "Julia 1.8.3",
   "language": "julia",
   "name": "julia-1.8"
  },
  "language_info": {
   "file_extension": ".jl",
   "mimetype": "application/julia",
   "name": "julia",
   "version": "1.8.3"
  },
  "orig_nbformat": 4
 },
 "nbformat": 4,
 "nbformat_minor": 2
}
