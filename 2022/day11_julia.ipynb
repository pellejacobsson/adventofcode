{
 "cells": [
  {
   "cell_type": "code",
   "execution_count": 5,
   "metadata": {},
   "outputs": [
    {
     "data": {
      "text/plain": [
       "runit (generic function with 1 method)"
      ]
     },
     "metadata": {},
     "output_type": "display_data"
    }
   ],
   "source": [
    "mutable struct Monkey\n",
    "    items\n",
    "    operation\n",
    "    test\n",
    "    iftrue\n",
    "    iffalse\n",
    "    n_inspections\n",
    "end\n",
    "\n",
    "function parse_operation(parts)\n",
    "    op = parts[2]\n",
    "    val = parts[3]\n",
    "    if val == \"old\"\n",
    "        if op == \"*\"\n",
    "            return x -> x * x\n",
    "        elseif op == \"+\"\n",
    "            return x -> x + x\n",
    "        end\n",
    "    else\n",
    "        if op == \"*\"\n",
    "            return x -> x * parse(Int, val)\n",
    "        elseif op == \"+\"\n",
    "            return x -> x + parse(Int, val)\n",
    "        end\n",
    "    end\n",
    "end\n",
    "\n",
    "function read_input(filename)\n",
    "    lines = open(filename, \"r\") do f\n",
    "        [strip(line) for line in readlines(f)]\n",
    "    end\n",
    "    monkeys = []\n",
    "    for i = 1:7:length(lines)\n",
    "        items_raw = split(lines[i + 1], \" \")[3:end]\n",
    "        items = parse.(Int, [s[1:end - 1] for s in items_raw[1:end - 1]])\n",
    "        push!(items, parse(Int, items_raw[end]))\n",
    "        operation = parse_operation(split(lines[i + 2], \" \")[4:end])\n",
    "        test = parse(Int, split(lines[i + 3], \" \")[end])\n",
    "        iftrue = parse(Int, split(lines[i + 4], \" \")[end]) + 1\n",
    "        iffalse = parse(Int, split(lines[i + 5], \" \")[end]) + 1\n",
    "        push!(monkeys, Monkey(items, operation, test, iftrue, iffalse, 0))\n",
    "    end\n",
    "    monkeys\n",
    "end\n",
    "\n",
    "function throw(monkeys, n_rounds)\n",
    "    for i = 1:n_rounds\n",
    "        for monkey in monkeys\n",
    "            while length(monkey.items) > 0\n",
    "                monkey.n_inspections += 1\n",
    "                item = popfirst!(monkey.items)\n",
    "                worry = monkey.operation(item)\n",
    "                worry = worry ÷ 3\n",
    "                to_monkey = worry % monkey.test == 0 ? monkey.iftrue : monkey.iffalse\n",
    "                push!(monkeys[to_monkey].items, worry)\n",
    "            end\n",
    "        end\n",
    "    end\n",
    "end\n",
    "\n",
    "function throw2(monkeys, n_rounds)\n",
    "    tests = [monkey.test for monkey in monkeys]\n",
    "    for monkey in monkeys\n",
    "        monkey.items = [[item % test for test in tests] for item in monkey.items]\n",
    "    end\n",
    "    for i = 1:n_rounds\n",
    "        for (i, monkey) in enumerate(monkeys)\n",
    "            while length(monkey.items) > 0\n",
    "                monkey.n_inspections += 1\n",
    "                item = popfirst!(monkey.items)\n",
    "                worry = [monkey.operation(item_rem) % test for (item_rem, test) in zip(item, tests)]\n",
    "                to_monkey = worry[i] == 0 ? monkey.iftrue : monkey.iffalse\n",
    "                push!(monkeys[to_monkey].items, worry)\n",
    "            end\n",
    "        end\n",
    "    end\n",
    "end\n",
    "\n",
    "function throw3(monkeys, n_rounds)\n",
    "    m = prod(monkey.test for monkey in monkeys)\n",
    "    for i = 1:n_rounds\n",
    "        for monkey in monkeys\n",
    "            while length(monkey.items) > 0\n",
    "                monkey.n_inspections += 1\n",
    "                item = popfirst!(monkey.items)\n",
    "                worry = monkey.operation(item)\n",
    "                worry = worry % m\n",
    "                to_monkey = worry % monkey.test == 0 ? monkey.iftrue : monkey.iffalse\n",
    "                push!(monkeys[to_monkey].items, worry)\n",
    "            end\n",
    "        end\n",
    "    end\n",
    "end\n",
    "\n",
    "function runit(filename; part2=false)\n",
    "    monkeys = read_input(filename)\n",
    "    if !part2\n",
    "        throw(monkeys, 20)\n",
    "    else\n",
    "        throw2(monkeys, 10000)\n",
    "    end\n",
    "    max_inspections = sort([monkey.n_inspections for monkey in monkeys], rev=true)[1:2]\n",
    "    prod(max_inspections)\n",
    "end"
   ]
  },
  {
   "cell_type": "code",
   "execution_count": 6,
   "metadata": {},
   "outputs": [
    {
     "data": {
      "text/plain": [
       "98280"
      ]
     },
     "metadata": {},
     "output_type": "display_data"
    }
   ],
   "source": [
    "runit(\"11_input.txt\")"
   ]
  },
  {
   "cell_type": "code",
   "execution_count": 8,
   "metadata": {},
   "outputs": [
    {
     "data": {
      "text/plain": [
       "17673687232"
      ]
     },
     "metadata": {},
     "output_type": "display_data"
    }
   ],
   "source": [
    "runit(\"11_input.txt\", part2=true)"
   ]
  }
 ],
 "metadata": {
  "kernelspec": {
   "display_name": "Julia 1.9.3",
   "language": "julia",
   "name": "julia-1.9"
  },
  "language_info": {
   "file_extension": ".jl",
   "mimetype": "application/julia",
   "name": "julia",
   "version": "1.9.3"
  }
 },
 "nbformat": 4,
 "nbformat_minor": 2
}
