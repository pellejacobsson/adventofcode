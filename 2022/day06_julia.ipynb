{
 "cells": [
  {
   "cell_type": "code",
   "execution_count": 27,
   "metadata": {},
   "outputs": [
    {
     "data": {
      "text/plain": [
       "runit (generic function with 1 method)"
      ]
     },
     "metadata": {},
     "output_type": "display_data"
    }
   ],
   "source": [
    "function read_input(filename)\n",
    "    open(filename, \"r\") do f\n",
    "        readline(f)\n",
    "    end\n",
    "end\n",
    "\n",
    "function find_marker(signal, marker_length)\n",
    "    for i in marker_length:length(signal)\n",
    "        if length(Set(signal[i - marker_length + 1:i])) == marker_length\n",
    "            return i\n",
    "        end\n",
    "    end\n",
    "end\n",
    "\n",
    "function runit(filename; part2=false)\n",
    "    signal = read_input(filename)\n",
    "    marker_length = part2 ? 14 : 4\n",
    "    find_marker(signal, marker_length)\n",
    "end"
   ]
  },
  {
   "cell_type": "code",
   "execution_count": 28,
   "metadata": {},
   "outputs": [
    {
     "data": {
      "text/plain": [
       "1802"
      ]
     },
     "metadata": {},
     "output_type": "display_data"
    }
   ],
   "source": [
    "runit(\"06_input.txt\")"
   ]
  },
  {
   "cell_type": "code",
   "execution_count": 29,
   "metadata": {},
   "outputs": [
    {
     "data": {
      "text/plain": [
       "3551"
      ]
     },
     "metadata": {},
     "output_type": "display_data"
    }
   ],
   "source": [
    "runit(\"06_input.txt\"; part2=true)"
   ]
  }
 ],
 "metadata": {
  "kernelspec": {
   "display_name": "Julia 1.9.3",
   "language": "julia",
   "name": "julia-1.9"
  },
  "language_info": {
   "file_extension": ".jl",
   "mimetype": "application/julia",
   "name": "julia",
   "version": "1.9.3"
  }
 },
 "nbformat": 4,
 "nbformat_minor": 2
}
