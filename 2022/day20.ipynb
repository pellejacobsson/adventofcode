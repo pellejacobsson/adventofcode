{
 "cells": [
  {
   "cell_type": "code",
   "execution_count": 1,
   "metadata": {},
   "outputs": [],
   "source": [
    "def read_input(filename):\n",
    "    with open(filename, 'r') as f:\n",
    "        code = [int(s.strip()) for s in f.readlines()]\n",
    "    return code\n",
    "\n",
    "def runit(filename, part=1):\n",
    "    code = read_input(filename)\n",
    "    p = 1\n",
    "    if part == 2:\n",
    "        code = [c * 811589153 for c in code]\n",
    "        p = 10\n",
    "    n = len(code) - 1\n",
    "    idx = list(range(n + 1))\n",
    "    for _ in range(p):\n",
    "        for i in range(n + 1):\n",
    "            j = idx.index(i)\n",
    "            c = code[j]\n",
    "            k = (j + c) % n\n",
    "            if k > n:\n",
    "                k = k % n - 1\n",
    "            code.insert(k, code.pop(j))\n",
    "            idx.insert(k, idx.pop(j))\n",
    "\n",
    "    return sum(code[(code.index(0) + m) % (n + 1)] for m in [1000, 2000, 3000])"
   ]
  },
  {
   "cell_type": "code",
   "execution_count": 2,
   "metadata": {},
   "outputs": [
    {
     "data": {
      "text/plain": [
       "4066"
      ]
     },
     "execution_count": 2,
     "metadata": {},
     "output_type": "execute_result"
    }
   ],
   "source": [
    "runit('20_input.txt')"
   ]
  },
  {
   "cell_type": "code",
   "execution_count": 3,
   "metadata": {},
   "outputs": [
    {
     "data": {
      "text/plain": [
       "6704537992933"
      ]
     },
     "execution_count": 3,
     "metadata": {},
     "output_type": "execute_result"
    }
   ],
   "source": [
    "runit('20_input.txt', part=2)"
   ]
  }
 ],
 "metadata": {
  "kernelspec": {
   "display_name": "ds-base",
   "language": "python",
   "name": "python3"
  },
  "language_info": {
   "codemirror_mode": {
    "name": "ipython",
    "version": 3
   },
   "file_extension": ".py",
   "mimetype": "text/x-python",
   "name": "python",
   "nbconvert_exporter": "python",
   "pygments_lexer": "ipython3",
   "version": "3.10.8"
  },
  "orig_nbformat": 4,
  "vscode": {
   "interpreter": {
    "hash": "a0d7f877497f5506abd9009c7bd1724a58de81637cd896211673a408b08e164a"
   }
  }
 },
 "nbformat": 4,
 "nbformat_minor": 2
}
