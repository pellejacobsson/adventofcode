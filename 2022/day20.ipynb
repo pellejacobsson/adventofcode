{
 "cells": [
  {
   "cell_type": "code",
   "execution_count": 2,
   "metadata": {},
   "outputs": [],
   "source": [
    "def read_input(filename):\n",
    "    with open(filename, 'r') as f:\n",
    "        code = [int(s.strip()) for s in f.readlines()]\n",
    "    return code"
   ]
  },
  {
   "cell_type": "code",
   "execution_count": 92,
   "metadata": {},
   "outputs": [
    {
     "data": {
      "text/plain": [
       "([1, 2, -3, 3, -2, 0, 4], [0, 1, 2, 3, 4, 5, 6])"
      ]
     },
     "execution_count": 92,
     "metadata": {},
     "output_type": "execute_result"
    }
   ],
   "source": [
    "code = read_input('20_testinput.txt')\n",
    "new = list(range(len(code)))\n",
    "code, new"
   ]
  },
  {
   "cell_type": "code",
   "execution_count": 95,
   "metadata": {},
   "outputs": [
    {
     "name": "stdout",
     "output_type": "stream",
     "text": [
      "i=1, j=0, c=2, k=2\n"
     ]
    }
   ],
   "source": [
    "i = 1\n",
    "j = new[i]\n",
    "c = code[j]\n",
    "k = j + c\n",
    "print(f'{i=}, {j=}, {c=}, {k=}')\n",
    "code.insert(c + j, code.pop(j))\n",
    "new.insert(c + i, new.pop(j))"
   ]
  },
  {
   "cell_type": "code",
   "execution_count": 96,
   "metadata": {},
   "outputs": [
    {
     "data": {
      "text/plain": [
       "([1, -3, 2, 3, -2, 0, 4], [0, 2, 3, 1, 4, 5, 6])"
      ]
     },
     "execution_count": 96,
     "metadata": {},
     "output_type": "execute_result"
    }
   ],
   "source": [
    "code, new"
   ]
  },
  {
   "cell_type": "code",
   "execution_count": 97,
   "metadata": {},
   "outputs": [],
   "source": [
    "a = [1, 0, 2, 3, 4, 5, 6]"
   ]
  },
  {
   "cell_type": "code",
   "execution_count": null,
   "metadata": {},
   "outputs": [],
   "source": [
    "a.insert(1, )"
   ]
  }
 ],
 "metadata": {
  "kernelspec": {
   "display_name": "ds-base",
   "language": "python",
   "name": "python3"
  },
  "language_info": {
   "codemirror_mode": {
    "name": "ipython",
    "version": 3
   },
   "file_extension": ".py",
   "mimetype": "text/x-python",
   "name": "python",
   "nbconvert_exporter": "python",
   "pygments_lexer": "ipython3",
   "version": "3.10.8"
  },
  "orig_nbformat": 4,
  "vscode": {
   "interpreter": {
    "hash": "921a7460100d8ae3825e646b690b80e6b4caef73fe6022a0e35634beb157f104"
   }
  }
 },
 "nbformat": 4,
 "nbformat_minor": 2
}
