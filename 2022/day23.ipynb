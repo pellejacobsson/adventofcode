{
 "cells": [
  {
   "cell_type": "code",
   "execution_count": 127,
   "metadata": {},
   "outputs": [],
   "source": [
    "def read_input(filename):\n",
    "    grid = {}\n",
    "    with open(filename, 'r') as f:\n",
    "        for (i, line) in enumerate(f.readlines()):\n",
    "            for (j, s) in enumerate(line.strip()):\n",
    "                if s == '#':\n",
    "                    grid[i, j] = 1\n",
    "    return grid\n",
    "\n",
    "def look_around(grid, i, j):\n",
    "    n_elves = 0\n",
    "    for ii, jj in ((i + ii, j + jj) for ii in range(-1, 2) for jj in range(-1, 2) if not ii == jj == 00):\n",
    "        if (ii, jj) in grid:\n",
    "            n_elves += 1\n",
    "    return n_elves\n",
    "\n",
    "def can_move(grid, i, j, dir):\n",
    "    if dir == (-1, 0):\n",
    "        return not ((i - 1, j - 1) in grid or (i - 1, j) in grid or (i - 1, j + 1) in grid)\n",
    "    elif dir == (1, 0):\n",
    "        return not ((i + 1, j - 1) in grid or (i + 1, j) in grid or (i + 1, j + 1) in grid)\n",
    "    elif dir == (0, 1):\n",
    "        return not ((i - 1, j + 1) in grid or (i, j + 1) in grid or (i + 1, j + 1) in grid)\n",
    "    elif dir == (0, -1):\n",
    "        return not ((i - 1, j - 1) in grid or (i, j - 1) in grid or (i + 1, j - 1) in grid)\n",
    "\n",
    "def update(grid, moves, order):\n",
    "    all_pos = {}\n",
    "    new_dir = {}\n",
    "    new_pos = {}\n",
    "    for (i, j) in grid:\n",
    "        n_elves = look_around(grid, i, j)\n",
    "        if n_elves > 0:\n",
    "            for dir in (moves[(order + n) % 4] for n in range(4)):\n",
    "                if can_move(grid, i, j, dir):\n",
    "                    pot_pos = (i + dir[0], j + dir[1])\n",
    "                    new_pos[i, j] = pot_pos\n",
    "                    all_pos[pot_pos] = all_pos.get(pot_pos, 0) + 1\n",
    "                    break\n",
    "    new_grid = {}\n",
    "    moved = False\n",
    "    for (i, j) in grid:\n",
    "        if (i, j) in new_pos and all_pos.get(new_pos[i, j], 0) == 1:\n",
    "            new_grid[new_pos[i, j]] = 1\n",
    "            moved = True\n",
    "        else:\n",
    "            new_grid[i, j] = 1\n",
    "    return moved, new_grid\n",
    "\n",
    "def inspect_grid(grid, plot=False):\n",
    "    i_min = min(v[0] for v in grid)\n",
    "    i_max = max(v[0] for v in grid)\n",
    "    j_min = min(v[1] for v in grid)\n",
    "    j_max = max(v[1] for v in grid)\n",
    "    if plot:\n",
    "        for i in range(i_min, i_max + 1):\n",
    "            print(''.join(['#' if (i, j) in grid else '.' for j in range(j_min, j_max + 1)]))\n",
    "    return (i_max - i_min + 1) * (j_max - j_min + 1) - sum(grid.values())\n",
    "\n",
    "def runit(filename, part=1):\n",
    "    grid = read_input(filename)\n",
    "    moves = [(-1, 0), (1, 0), (0, -1), (0, 1)]\n",
    "    if part == 1:\n",
    "        for n in (m % 4 for m in range(10)):\n",
    "            _, grid = update(grid, moves, n)\n",
    "        return inspect_grid(grid)\n",
    "    else:\n",
    "        moved = True\n",
    "        n = 0\n",
    "        while moved:\n",
    "            moved, grid = update(grid, moves, n % 4)\n",
    "            n += 1\n",
    "        return n"
   ]
  },
  {
   "cell_type": "code",
   "execution_count": 130,
   "metadata": {},
   "outputs": [
    {
     "data": {
      "text/plain": [
       "4052"
      ]
     },
     "execution_count": 130,
     "metadata": {},
     "output_type": "execute_result"
    }
   ],
   "source": [
    "runit('23_input.txt')"
   ]
  },
  {
   "cell_type": "code",
   "execution_count": 129,
   "metadata": {},
   "outputs": [
    {
     "data": {
      "text/plain": [
       "978"
      ]
     },
     "execution_count": 129,
     "metadata": {},
     "output_type": "execute_result"
    }
   ],
   "source": [
    "runit('23_input.txt', part=2)"
   ]
  }
 ],
 "metadata": {
  "kernelspec": {
   "display_name": "ds-base",
   "language": "python",
   "name": "python3"
  },
  "language_info": {
   "codemirror_mode": {
    "name": "ipython",
    "version": 3
   },
   "file_extension": ".py",
   "mimetype": "text/x-python",
   "name": "python",
   "nbconvert_exporter": "python",
   "pygments_lexer": "ipython3",
   "version": "3.10.8"
  },
  "orig_nbformat": 4,
  "vscode": {
   "interpreter": {
    "hash": "a0d7f877497f5506abd9009c7bd1724a58de81637cd896211673a408b08e164a"
   }
  }
 },
 "nbformat": 4,
 "nbformat_minor": 2
}
