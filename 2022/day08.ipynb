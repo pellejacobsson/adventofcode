{
 "cells": [
  {
   "cell_type": "code",
   "execution_count": 1,
   "metadata": {},
   "outputs": [],
   "source": [
    "import numpy as np\n",
    "from itertools import takewhile"
   ]
  },
  {
   "cell_type": "code",
   "execution_count": 5,
   "metadata": {},
   "outputs": [],
   "source": [
    "def read_input(filename):\n",
    "    with open(filename, 'r') as f:\n",
    "        lines = [s.strip() for s in f.readlines()]\n",
    "    n_cols = len(lines[0])\n",
    "    n_rows = len(lines)\n",
    "    grid = np.zeros((n_rows, n_cols), dtype=int)\n",
    "    for i, line in enumerate(lines):\n",
    "        grid[i, :] = [int(s) for s in line]\n",
    "    return grid\n",
    "\n",
    "def is_visible(g, i, j):\n",
    "    left = np.all(g[i, :j] < g[i, j])\n",
    "    right = np.all(g[i, j+1:] < g[i, j])\n",
    "    up = np.all(g[:i, j] < g[i, j])\n",
    "    down = np.all(g[i+1:, j] < g[i, j])\n",
    "    return left or right or up or down\n",
    "\n",
    "def scenic_score(g, i, j):\n",
    "    left = g[i, :j] < g[i, j]\n",
    "    right = g[i, j+1:] < g[i, j]\n",
    "    up = g[:i, j] < g[i, j]\n",
    "    down = g[i+1:, j] < g[i, j]\n",
    "    n_left = len(list(takewhile(lambda x: x, left[::-1])))\n",
    "    n_right = len(list(takewhile(lambda x: x, right)))\n",
    "    n_up = len(list(takewhile(lambda x: x, up[::-1])))\n",
    "    n_down = len(list(takewhile(lambda x: x, down)))\n",
    "    if not np.all(left):\n",
    "        n_left += 1\n",
    "    if not np.all(right):\n",
    "        n_right += 1\n",
    "    if not np.all(up):\n",
    "        n_up += 1\n",
    "    if not np.all(down):\n",
    "        n_down += 1\n",
    "    return n_left * n_right * n_up * n_down\n",
    "    \n",
    "def n_visible(grid):\n",
    "    s = 0\n",
    "    for i in range(1, grid.shape[0] - 1):\n",
    "        for j in range(1, grid.shape[1] - 1):\n",
    "            if is_visible(grid, i, j):\n",
    "                s += 1\n",
    "    return s + 2 * grid.shape[0] + 2 * grid.shape[1] - 4\n",
    "\n",
    "def best_scenic_score(grid):\n",
    "    s = 0\n",
    "    for i in range(1, grid.shape[0] - 1):\n",
    "        for j in range(1, grid.shape[1] - 1):\n",
    "            s_new = scenic_score(grid, i, j)\n",
    "            if s_new > s:\n",
    "                s = s_new\n",
    "    return s\n",
    "\n",
    "def runit(filename, part=1):\n",
    "    grid = read_input(filename)\n",
    "    if part == 1:\n",
    "        return n_visible(grid)\n",
    "    else:\n",
    "        return best_scenic_score(grid)\n"
   ]
  },
  {
   "cell_type": "code",
   "execution_count": 6,
   "metadata": {},
   "outputs": [
    {
     "data": {
      "text/plain": [
       "1785"
      ]
     },
     "execution_count": 6,
     "metadata": {},
     "output_type": "execute_result"
    }
   ],
   "source": [
    "runit('08_input.txt')"
   ]
  },
  {
   "cell_type": "code",
   "execution_count": 7,
   "metadata": {},
   "outputs": [
    {
     "data": {
      "text/plain": [
       "345168"
      ]
     },
     "execution_count": 7,
     "metadata": {},
     "output_type": "execute_result"
    }
   ],
   "source": [
    "runit('08_input.txt', part=2)"
   ]
  }
 ],
 "metadata": {
  "kernelspec": {
   "display_name": "Python 3.10.6 ('ds-base')",
   "language": "python",
   "name": "python3"
  },
  "language_info": {
   "codemirror_mode": {
    "name": "ipython",
    "version": 3
   },
   "file_extension": ".py",
   "mimetype": "text/x-python",
   "name": "python",
   "nbconvert_exporter": "python",
   "pygments_lexer": "ipython3",
   "version": "3.10.6"
  },
  "orig_nbformat": 4,
  "vscode": {
   "interpreter": {
    "hash": "921a7460100d8ae3825e646b690b80e6b4caef73fe6022a0e35634beb157f104"
   }
  }
 },
 "nbformat": 4,
 "nbformat_minor": 2
}
