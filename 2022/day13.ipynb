{
 "cells": [
  {
   "cell_type": "code",
   "execution_count": 1,
   "metadata": {},
   "outputs": [],
   "source": [
    "from itertools import zip_longest"
   ]
  },
  {
   "cell_type": "code",
   "execution_count": 2,
   "metadata": {},
   "outputs": [],
   "source": [
    "class Packet:\n",
    "    def __init__(self, data):\n",
    "        self.data = data\n",
    "    \n",
    "    def __lt__(self, other):\n",
    "        return right_order([self.data, other.data])\n",
    "\n",
    "def read_input(filename):\n",
    "    with open(filename, 'r') as f:\n",
    "        pairs = [p.strip().split('\\n') for p in f.read().split('\\n\\n')]\n",
    "        pairs = [[eval(p) for p in pp] for pp in pairs]\n",
    "    return pairs\n",
    "\n",
    "def right_order(pair):\n",
    "    p1_list, p2_list = pair\n",
    "    isright = None\n",
    "    for p1, p2 in zip_longest(p1_list, p2_list):\n",
    "        if p1 is None:\n",
    "            return True\n",
    "        elif p2 is None:\n",
    "            return False\n",
    "        elif isinstance(p1, int) and isinstance(p2, int):\n",
    "            if p1 < p2:\n",
    "                return True\n",
    "            elif p1 > p2:\n",
    "                return False\n",
    "        elif isinstance(p1, int) and isinstance(p2, list):\n",
    "            isright = right_order([[p1], p2])\n",
    "        elif isinstance(p1, list) and isinstance(p2, int):\n",
    "            isright = right_order([p1, [p2]])\n",
    "        elif isinstance(p1, list) and isinstance(p2, list):\n",
    "            isright = right_order([p1, p2])\n",
    "        if isright is not None:\n",
    "            return isright\n",
    "\n",
    "def runit(filename, part=1):\n",
    "    pairs = read_input(filename)\n",
    "    if part == 1:\n",
    "        return sum(i for (i, pair) in enumerate(pairs, 1) if right_order(pair))\n",
    "    else:\n",
    "        packets = [Packet(p) for pair in pairs for p in pair]\n",
    "        keys = [Packet([[2]]), Packet([[6]])]\n",
    "        packets.extend(keys)\n",
    "        ix1, ix2 = [sorted(packets).index(key) for key in keys]\n",
    "        return (ix1 + 1) * (ix2 + 1)"
   ]
  },
  {
   "cell_type": "code",
   "execution_count": 3,
   "metadata": {},
   "outputs": [
    {
     "data": {
      "text/plain": [
       "6086"
      ]
     },
     "execution_count": 3,
     "metadata": {},
     "output_type": "execute_result"
    }
   ],
   "source": [
    "runit('13_input.txt')"
   ]
  },
  {
   "cell_type": "code",
   "execution_count": 4,
   "metadata": {},
   "outputs": [
    {
     "data": {
      "text/plain": [
       "27930"
      ]
     },
     "execution_count": 4,
     "metadata": {},
     "output_type": "execute_result"
    }
   ],
   "source": [
    "runit('13_input.txt', part=2)"
   ]
  }
 ],
 "metadata": {
  "kernelspec": {
   "display_name": "ds-base",
   "language": "python",
   "name": "python3"
  },
  "language_info": {
   "codemirror_mode": {
    "name": "ipython",
    "version": 3
   },
   "file_extension": ".py",
   "mimetype": "text/x-python",
   "name": "python",
   "nbconvert_exporter": "python",
   "pygments_lexer": "ipython3",
   "version": "3.10.6"
  },
  "orig_nbformat": 4,
  "vscode": {
   "interpreter": {
    "hash": "a0d7f877497f5506abd9009c7bd1724a58de81637cd896211673a408b08e164a"
   }
  }
 },
 "nbformat": 4,
 "nbformat_minor": 2
}
