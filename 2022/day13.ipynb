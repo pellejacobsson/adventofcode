{
 "cells": [
  {
   "cell_type": "code",
   "execution_count": 55,
   "metadata": {},
   "outputs": [],
   "source": [
    "from itertools import zip_longest"
   ]
  },
  {
   "cell_type": "code",
   "execution_count": 147,
   "metadata": {},
   "outputs": [],
   "source": [
    "class Packet:\n",
    "    def __init__(self, l):\n",
    "        self.l = l\n",
    "    \n",
    "    def __lt__(self, other):\n",
    "        return right_order([self.l, other.l])\n",
    "\n",
    "def read_input(filename):\n",
    "    with open(filename, 'r') as f:\n",
    "        pairs = [p.strip().split('\\n') for p in f.read().split('\\n\\n')]\n",
    "        pairs = [[eval(p) for p in pp] for pp in pairs]\n",
    "    return pairs\n",
    "\n",
    "def right_order(pair):\n",
    "    p1_list, p2_list = pair\n",
    "    isright = None\n",
    "    for p1, p2 in zip_longest(p1_list, p2_list):\n",
    "        if p1 is None:\n",
    "            return True\n",
    "        elif p2 is None:\n",
    "            return False\n",
    "        elif isinstance(p1, int) and isinstance(p2, int):\n",
    "            if p1 < p2:\n",
    "                return True\n",
    "            elif p1 > p2:\n",
    "                return False\n",
    "        elif isinstance(p1, int) and isinstance(p2, list):\n",
    "            isright = right_order([[p1], p2])\n",
    "        elif isinstance(p1, list) and isinstance(p2, int):\n",
    "            isright = right_order([p1, [p2]])\n",
    "        elif isinstance(p1, list) and isinstance(p2, list):\n",
    "            isright = right_order([p1, p2])\n",
    "        if isright is not None:\n",
    "            return isright\n",
    "    return isright\n",
    "\n",
    "def runit(filename):\n",
    "    pairs = read_input(filename)\n",
    "    ixs = []\n",
    "    for (i, pair) in enumerate(pairs, start=1):\n",
    "        if right_order(pair):\n",
    "            ixs.append(i)\n",
    "    return sum(ixs)"
   ]
  },
  {
   "cell_type": "code",
   "execution_count": 139,
   "metadata": {},
   "outputs": [
    {
     "data": {
      "text/plain": [
       "6086"
      ]
     },
     "execution_count": 139,
     "metadata": {},
     "output_type": "execute_result"
    }
   ],
   "source": [
    "runit('13_input.txt')"
   ]
  },
  {
   "cell_type": "code",
   "execution_count": 154,
   "metadata": {},
   "outputs": [],
   "source": [
    "pairs = read_input('13_input.txt')"
   ]
  },
  {
   "cell_type": "code",
   "execution_count": 159,
   "metadata": {},
   "outputs": [],
   "source": [
    "packets = [Packet(p) for pair in pairs for p in pair]"
   ]
  },
  {
   "cell_type": "code",
   "execution_count": null,
   "metadata": {},
   "outputs": [],
   "source": []
  }
 ],
 "metadata": {
  "kernelspec": {
   "display_name": "ds-base",
   "language": "python",
   "name": "python3"
  },
  "language_info": {
   "codemirror_mode": {
    "name": "ipython",
    "version": 3
   },
   "file_extension": ".py",
   "mimetype": "text/x-python",
   "name": "python",
   "nbconvert_exporter": "python",
   "pygments_lexer": "ipython3",
   "version": "3.10.6"
  },
  "orig_nbformat": 4,
  "vscode": {
   "interpreter": {
    "hash": "921a7460100d8ae3825e646b690b80e6b4caef73fe6022a0e35634beb157f104"
   }
  }
 },
 "nbformat": 4,
 "nbformat_minor": 2
}
