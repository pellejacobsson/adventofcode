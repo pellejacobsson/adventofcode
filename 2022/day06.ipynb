{
 "cells": [
  {
   "cell_type": "code",
   "execution_count": 1,
   "metadata": {},
   "outputs": [],
   "source": [
    "def read_input(filename):\n",
    "    with open(filename, 'r') as f:\n",
    "        signal = f.read()\n",
    "    return signal\n",
    "\n",
    "def find_marker(signal, marker_length):\n",
    "    for i in range(marker_length, len(signal)):\n",
    "        if len(set(signal[i-marker_length:i])) == marker_length:\n",
    "            return i\n",
    "\n",
    "def runit(filename, part=1):\n",
    "    signal = read_input(filename)\n",
    "    marker_length = 4 if part == 1 else 14\n",
    "    marker_pos = find_marker(signal, marker_length)\n",
    "    return marker_pos"
   ]
  },
  {
   "cell_type": "code",
   "execution_count": 2,
   "metadata": {},
   "outputs": [
    {
     "data": {
      "text/plain": [
       "1802"
      ]
     },
     "execution_count": 2,
     "metadata": {},
     "output_type": "execute_result"
    }
   ],
   "source": [
    "runit('06_input.txt')"
   ]
  },
  {
   "cell_type": "code",
   "execution_count": 3,
   "metadata": {},
   "outputs": [
    {
     "data": {
      "text/plain": [
       "3551"
      ]
     },
     "execution_count": 3,
     "metadata": {},
     "output_type": "execute_result"
    }
   ],
   "source": [
    "runit('06_input.txt', part=2)"
   ]
  }
 ],
 "metadata": {
  "kernelspec": {
   "display_name": "Python 3.10.6 ('ds-base')",
   "language": "python",
   "name": "python3"
  },
  "language_info": {
   "codemirror_mode": {
    "name": "ipython",
    "version": 3
   },
   "file_extension": ".py",
   "mimetype": "text/x-python",
   "name": "python",
   "nbconvert_exporter": "python",
   "pygments_lexer": "ipython3",
   "version": "3.10.6"
  },
  "orig_nbformat": 4,
  "vscode": {
   "interpreter": {
    "hash": "921a7460100d8ae3825e646b690b80e6b4caef73fe6022a0e35634beb157f104"
   }
  }
 },
 "nbformat": 4,
 "nbformat_minor": 2
}
