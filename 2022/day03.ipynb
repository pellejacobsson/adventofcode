{
 "cells": [
  {
   "cell_type": "code",
   "execution_count": 1,
   "metadata": {},
   "outputs": [],
   "source": [
    "def read_input(filename):\n",
    "    with open(filename, 'r') as f:\n",
    "        lines = [s.strip() for s in f.readlines()]\n",
    "    return lines\n",
    "\n",
    "def get_double_items(sacks):\n",
    "    items = []\n",
    "    for sack in sacks:\n",
    "        comp_size = len(sack) // 2\n",
    "        double_item = set(sack[:comp_size]).intersection(set(sack[comp_size:]))\n",
    "        items.append(list(double_item)[0])\n",
    "    return items\n",
    "\n",
    "def item_to_prio(item):\n",
    "    if item.islower():\n",
    "        return ord(item) - ord('a') + 1\n",
    "    else:\n",
    "        return ord(item) - ord('A') + 27\n",
    "\n",
    "def get_group_badges(sacks):\n",
    "    badges = []\n",
    "    for i in range(0, len(sacks) - 2, 3):\n",
    "        badge = set(sacks[i]).intersection(set(sacks[i+1])).intersection(set(sacks[i+2]))\n",
    "        badges.append(list(badge)[0])\n",
    "    return badges\n",
    "\n",
    "def runit(filename, part=1):\n",
    "    sacks = read_input(filename)\n",
    "    if part == 1:\n",
    "        items = get_double_items(sacks)\n",
    "    else:\n",
    "        items = get_group_badges(sacks)\n",
    "    return sum([item_to_prio(item) for item in items])"
   ]
  },
  {
   "cell_type": "code",
   "execution_count": 2,
   "metadata": {},
   "outputs": [
    {
     "data": {
      "text/plain": [
       "8493"
      ]
     },
     "execution_count": 2,
     "metadata": {},
     "output_type": "execute_result"
    }
   ],
   "source": [
    "runit('03_input.txt')"
   ]
  },
  {
   "cell_type": "code",
   "execution_count": 3,
   "metadata": {},
   "outputs": [
    {
     "data": {
      "text/plain": [
       "2552"
      ]
     },
     "execution_count": 3,
     "metadata": {},
     "output_type": "execute_result"
    }
   ],
   "source": [
    "runit('03_input.txt', part=2)"
   ]
  }
 ],
 "metadata": {
  "kernelspec": {
   "display_name": "Python 3.10.6 ('ds-base')",
   "language": "python",
   "name": "python3"
  },
  "language_info": {
   "codemirror_mode": {
    "name": "ipython",
    "version": 3
   },
   "file_extension": ".py",
   "mimetype": "text/x-python",
   "name": "python",
   "nbconvert_exporter": "python",
   "pygments_lexer": "ipython3",
   "version": "3.10.6"
  },
  "orig_nbformat": 4,
  "vscode": {
   "interpreter": {
    "hash": "a0d7f877497f5506abd9009c7bd1724a58de81637cd896211673a408b08e164a"
   }
  }
 },
 "nbformat": 4,
 "nbformat_minor": 2
}
