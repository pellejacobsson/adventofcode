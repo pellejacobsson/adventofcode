{
 "cells": [
  {
   "cell_type": "code",
   "execution_count": 1,
   "metadata": {},
   "outputs": [],
   "source": [
    "import re\n",
    "from copy import deepcopy"
   ]
  },
  {
   "cell_type": "code",
   "execution_count": 6,
   "metadata": {},
   "outputs": [],
   "source": [
    "class State:\n",
    "    def __init__(self, blueprint, time):\n",
    "        self.ore_robots = 1\n",
    "        self.clay_robots = 0\n",
    "        self.obsidian_robots = 0\n",
    "        self.geode_robots = 0\n",
    "        self.ore = 0\n",
    "        self.clay = 0\n",
    "        self.obsidian = 0\n",
    "        self.geode = 0\n",
    "        self.time = time\n",
    "        self.blueprint = blueprint\n",
    "        self.max_ore = max(m.get('ore', 0) for m in self.blueprint.values())\n",
    "        self.max_clay = max(m.get('clay', 0) for m in self.blueprint.values())\n",
    "        self.max_obsidian = max(m.get('obsidian', 0) for m in self.blueprint.values())\n",
    "\n",
    "    def collect_ore(self):\n",
    "        self.ore += self.ore_robots\n",
    "\n",
    "    def collect_clay(self):\n",
    "        self.clay += self.clay_robots\n",
    "\n",
    "    def collect_obsidian(self):\n",
    "        self.obsidian += self.obsidian_robots\n",
    "\n",
    "    def collect_geode(self):\n",
    "        self.geode += self.geode_robots\n",
    "\n",
    "    def build_ore_robot(self):\n",
    "        self.ore -= self.blueprint['ore_robot']['ore']\n",
    "        self.ore_robots += 1\n",
    "\n",
    "    def build_clay_robot(self):\n",
    "        self.ore -= self.blueprint['clay_robot']['ore']\n",
    "        self.clay_robots += 1\n",
    "\n",
    "    def build_obsidian_robot(self):\n",
    "        self.ore -= self.blueprint['obsidian_robot']['ore']\n",
    "        self.clay -= self.blueprint['obsidian_robot']['clay']\n",
    "        self.obsidian_robots += 1\n",
    "    \n",
    "    def build_geode_robot(self):\n",
    "        self.ore -= self.blueprint['geode_robot']['ore']\n",
    "        self.obsidian -= self.blueprint['geode_robot']['obsidian']\n",
    "        self.geode_robots += 1\n",
    "\n",
    "    def can_build_ore_robot(self):\n",
    "        return self.ore >= self.blueprint['ore_robot']['ore']\n",
    "\n",
    "    def can_build_clay_robot(self):\n",
    "        return self.ore >= self.blueprint['clay_robot']['ore']\n",
    "\n",
    "    def can_build_obsidian_robot(self):\n",
    "        return self.ore >= self.blueprint['obsidian_robot']['ore'] and self.clay >= self.blueprint['obsidian_robot']['clay']\n",
    "\n",
    "    def can_build_geode_robot(self):\n",
    "        return self.ore >= self.blueprint['geode_robot']['ore'] and self.obsidian >= self.blueprint['geode_robot']['obsidian']\n",
    "\n",
    "    def collect(self):\n",
    "        self.collect_ore()\n",
    "        self.collect_clay()\n",
    "        self.collect_obsidian()\n",
    "        self.collect_geode()\n",
    "        self.time -= 1\n",
    "\n",
    "    def get_state(self):\n",
    "        return (self.ore, self.clay, self.obsidian, self.geode, self.ore_robots, \n",
    "                self.clay_robots, self.obsidian_robots, self.geode_robots)\n",
    "\n",
    "    def __repr__(self):\n",
    "        return (f'Ore: {self.ore}, Clay: {self.clay}, Obsidian: {self.obsidian}, Geode: {self.geode}\\n'\n",
    "        + f'Ore robots: {self.ore_robots}, Clay robots: {self.clay_robots}, Obsidian robots: {self.obsidian_robots}, Geode robots: {self.geode_robots}\\n'\n",
    "        + f'Time: {self.time}')\n",
    "\n",
    "\n",
    "def read_input(filename):\n",
    "    expr = r'Blueprint (\\d+): Each ore robot costs (\\d+) ore. Each clay robot costs (\\d+) ore. Each obsidian robot costs (\\d+) ore and (\\d+) clay. Each geode robot costs (\\d+) ore and (\\d+) obsidian.'\n",
    "    blueprints = {}\n",
    "    with open(filename, 'r') as f:\n",
    "        for line in f.readlines():\n",
    "            m = re.search(expr, line.strip())\n",
    "            blueprints[int(m[1])] = {\n",
    "                'ore_robot': {'ore': int(m[2])},\n",
    "                'clay_robot': {'ore': int(m[3])},\n",
    "                'obsidian_robot': {'ore': int(m[4]), 'clay': int(m[5])},\n",
    "                'geode_robot': {'ore': int(m[6]), 'obsidian': int(m[7])}\n",
    "            }\n",
    "    return blueprints\n",
    "\n",
    "def get_next_states(state):\n",
    "    states = []\n",
    "    new_state = deepcopy(state)\n",
    "    new_state.collect()\n",
    "    states.append(new_state)\n",
    "    if state.can_build_ore_robot():\n",
    "        new_state = deepcopy(state)\n",
    "        new_state.collect()\n",
    "        new_state.build_ore_robot()\n",
    "        states.append(new_state)\n",
    "    if state.can_build_clay_robot():\n",
    "        new_state = deepcopy(state)\n",
    "        new_state.collect()\n",
    "        new_state.build_clay_robot()\n",
    "        states.append(new_state)\n",
    "    if state.can_build_obsidian_robot():\n",
    "        new_state = deepcopy(state)\n",
    "        new_state.collect()\n",
    "        new_state.build_obsidian_robot()\n",
    "        states.append(new_state)\n",
    "    if state.can_build_geode_robot():\n",
    "        new_state = deepcopy(state)\n",
    "        new_state.collect()\n",
    "        new_state.build_geode_robot()\n",
    "        states.append(new_state)\n",
    "    return states\n",
    "\n",
    "def keep_state(prev, curr, max_geodes):\n",
    "    if curr.ore_robots > curr.max_ore and curr.clay_robots > curr.max_clay and curr.obsidian_robots > curr.max_obsidian:\n",
    "        return False\n",
    "    if curr.ore > curr.max_ore * curr.time or curr.clay > curr.max_clay * curr.time or curr.obsidian > curr.max_obsidian * curr.time:\n",
    "        return False\n",
    "    if curr.time * curr.geode_robots < max_geodes:\n",
    "        return False\n",
    "    return True\n",
    "\n",
    "def dfs(start_state):\n",
    "    s = [start_state]\n",
    "    explored = set()\n",
    "    max_geodes = 0\n",
    "    while s:\n",
    "        v = s.pop()\n",
    "        if v.time == 0:\n",
    "            if v.geode > max_geodes:\n",
    "                max_geodes = v.geode\n",
    "            continue\n",
    "        for state in get_next_states(v):\n",
    "            if state.get_state() not in explored and keep_state(v, state, max_geodes):\n",
    "                s.append(state)\n",
    "                explored.add(state.get_state())\n",
    "    return max_geodes\n"
   ]
  },
  {
   "cell_type": "code",
   "execution_count": 7,
   "metadata": {},
   "outputs": [],
   "source": [
    "blueprints = read_input('19_input.txt')"
   ]
  },
  {
   "cell_type": "code",
   "execution_count": 8,
   "metadata": {},
   "outputs": [
    {
     "name": "stdout",
     "output_type": "stream",
     "text": [
      "Blueprint 1: 0\n",
      "Blueprint 2: 0\n"
     ]
    }
   ],
   "source": [
    "blueprint_geodes = []\n",
    "for (i, blueprint) in blueprints.items():\n",
    "    start_state = State(blueprint, 24)\n",
    "    max_geodes = dfs(start_state)\n",
    "    blueprint_geodes.append(max_geodes)\n",
    "    print(f'Blueprint {i}: {max_geodes}')"
   ]
  },
  {
   "cell_type": "code",
   "execution_count": 44,
   "metadata": {},
   "outputs": [
    {
     "data": {
      "text/plain": [
       "2144"
      ]
     },
     "execution_count": 44,
     "metadata": {},
     "output_type": "execute_result"
    }
   ],
   "source": [
    "sum(i * j for (i, j) in enumerate(blueprint_geodes, 1))"
   ]
  }
 ],
 "metadata": {
  "kernelspec": {
   "display_name": "ds-base",
   "language": "python",
   "name": "python3"
  },
  "language_info": {
   "codemirror_mode": {
    "name": "ipython",
    "version": 3
   },
   "file_extension": ".py",
   "mimetype": "text/x-python",
   "name": "python",
   "nbconvert_exporter": "python",
   "pygments_lexer": "ipython3",
   "version": "3.10.8"
  },
  "orig_nbformat": 4,
  "vscode": {
   "interpreter": {
    "hash": "a0d7f877497f5506abd9009c7bd1724a58de81637cd896211673a408b08e164a"
   }
  }
 },
 "nbformat": 4,
 "nbformat_minor": 2
}
