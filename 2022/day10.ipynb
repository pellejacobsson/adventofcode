{
 "cells": [
  {
   "cell_type": "code",
   "execution_count": 1,
   "metadata": {},
   "outputs": [],
   "source": [
    "import numpy as np\n",
    "import matplotlib.pyplot as plt"
   ]
  },
  {
   "cell_type": "code",
   "execution_count": 2,
   "metadata": {},
   "outputs": [],
   "source": [
    "def read_input(filename):\n",
    "    with open(filename, 'r') as f:\n",
    "        instructions = [s.strip() for s in f.readlines()]\n",
    "    return instructions\n",
    "\n",
    "def runit(filename):\n",
    "    instructions = read_input(filename)\n",
    "    cycle = 1\n",
    "    x = 1\n",
    "    saved_cycles = []\n",
    "    for instruction in instructions:\n",
    "        if (cycle - 20) % 40 == 0:\n",
    "            saved_cycles.append((cycle, x))\n",
    "        cycle += 1\n",
    "        cmd = instruction.split(' ')\n",
    "        if len(cmd) == 2:\n",
    "            if (cycle - 20) % 40 == 0:\n",
    "                saved_cycles.append((cycle, x))\n",
    "            cycle += 1\n",
    "            x += int(cmd[1])\n",
    "    return sum(a * b for a, b in saved_cycles)\n",
    "\n",
    "def draw(screen, cycle, x):\n",
    "    i = (cycle - 1) // 40\n",
    "    j = (cycle - 1) % 40\n",
    "    if j in [x-1, x, x+1]:\n",
    "        screen[i, j] = 0\n",
    "\n",
    "def runit2(filename):\n",
    "    instructions = read_input(filename)\n",
    "    screen = np.ones((6, 40))\n",
    "    cycle = 1\n",
    "    x = 1\n",
    "    for instruction in instructions:\n",
    "        draw(screen, cycle, x)\n",
    "        cycle += 1\n",
    "        cmd = instruction.split(' ')\n",
    "        if len(cmd) == 2:\n",
    "            draw(screen, cycle, x)\n",
    "            cycle += 1\n",
    "            x += int(cmd[1])\n",
    "    return plt.imshow(screen, cmap='gray')"
   ]
  },
  {
   "cell_type": "code",
   "execution_count": 3,
   "metadata": {},
   "outputs": [
    {
     "data": {
      "text/plain": [
       "11780"
      ]
     },
     "execution_count": 3,
     "metadata": {},
     "output_type": "execute_result"
    }
   ],
   "source": [
    "runit('10_input.txt')"
   ]
  },
  {
   "cell_type": "code",
   "execution_count": 4,
   "metadata": {},
   "outputs": [
    {
     "data": {
      "image/png": "[encoded data removed]",
      "text/plain": [
       "<Figure size 640x480 with 1 Axes>"
      ]
     },
     "metadata": {},
     "output_type": "display_data"
    }
   ],
   "source": [
    "screen = runit2('10_input.txt')"
   ]
  }
 ],
 "metadata": {
  "kernelspec": {
   "display_name": "Python 3.10.6 ('ds-base')",
   "language": "python",
   "name": "python3"
  },
  "language_info": {
   "codemirror_mode": {
    "name": "ipython",
    "version": 3
   },
   "file_extension": ".py",
   "mimetype": "text/x-python",
   "name": "python",
   "nbconvert_exporter": "python",
   "pygments_lexer": "ipython3",
   "version": "3.10.6"
  },
  "orig_nbformat": 4,
  "vscode": {
   "interpreter": {
    "hash": "a0d7f877497f5506abd9009c7bd1724a58de81637cd896211673a408b08e164a"
   }
  }
 },
 "nbformat": 4,
 "nbformat_minor": 2
}
