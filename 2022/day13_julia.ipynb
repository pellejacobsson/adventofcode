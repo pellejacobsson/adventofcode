{
 "cells": [
  {
   "cell_type": "code",
   "execution_count": 1,
   "metadata": {},
   "outputs": [
    {
     "data": {
      "text/plain": [
       "runit (generic function with 1 method)"
      ]
     },
     "metadata": {},
     "output_type": "display_data"
    }
   ],
   "source": [
    "function read_input(filename)\n",
    "    pairs = open(filename, \"r\") do f\n",
    "        tmp = [split(p, \"\\n\") for p in split(strip(read(f, String)), \"\\n\\n\")]\n",
    "        tmp = [[eval(Meta.parse(p)) for p in pp] for pp in tmp]\n",
    "    end\n",
    "end\n",
    "\n",
    "function right_order(pair)\n",
    "    p1_list, p2_list = pair\n",
    "    is_right = nothing\n",
    "    max_len = maximum(length, (p1_list, p2_list))\n",
    "    for (p1, p2) in zip([[p; fill(nothing, max_len - length(p))] for p in [p1_list, p2_list]]...)\n",
    "        if p1 == nothing\n",
    "            return true\n",
    "        elseif p2 == nothing\n",
    "            return false\n",
    "        elseif typeof(p1) <: Int && typeof(p2) <: Int\n",
    "            if p1 < p2\n",
    "                return true\n",
    "            elseif p1 > p2\n",
    "                return false\n",
    "            end\n",
    "        elseif typeof(p1) <: Int && typeof(p2) <: Vector\n",
    "            is_right = right_order([[p1], p2])\n",
    "        elseif typeof(p1) <: Vector && typeof(p2) <: Int\n",
    "            is_right = right_order([p1, [p2]])\n",
    "        elseif typeof(p1) <: Vector && typeof(p2) <: Vector\n",
    "            is_right = right_order([p1, p2])\n",
    "        end\n",
    "        if !(is_right == nothing)\n",
    "            return is_right\n",
    "        end\n",
    "    end\n",
    "end\n",
    "\n",
    "right_order(packet1, packet2) = right_order([packet1, packet2])\n",
    "\n",
    "function runit(filename; part2=false)\n",
    "    pairs = read_input(filename)\n",
    "    if !part2\n",
    "        sum(i for (i, pair) in enumerate(pairs) if right_order(pair))\n",
    "    else\n",
    "        packets = [p for pair in pairs for p in pair]\n",
    "        keys = [[[2]], [[6]]]\n",
    "        append!(packets, keys)\n",
    "        sort!(packets, lt=right_order)\n",
    "        prod([findfirst(x -> x == key, packets) for key in keys])\n",
    "    end\n",
    "end\n",
    "            "
   ]
  },
  {
   "cell_type": "code",
   "execution_count": 2,
   "metadata": {},
   "outputs": [
    {
     "data": {
      "text/plain": [
       "6086"
      ]
     },
     "metadata": {},
     "output_type": "display_data"
    }
   ],
   "source": [
    "runit(\"13_input.txt\")"
   ]
  },
  {
   "cell_type": "code",
   "execution_count": 3,
   "metadata": {},
   "outputs": [
    {
     "data": {
      "text/plain": [
       "27930"
      ]
     },
     "metadata": {},
     "output_type": "display_data"
    }
   ],
   "source": [
    "runit(\"13_input.txt\", part2=true)"
   ]
  }
 ],
 "metadata": {
  "kernelspec": {
   "display_name": "Julia 1.9.3",
   "language": "julia",
   "name": "julia-1.9"
  },
  "language_info": {
   "file_extension": ".jl",
   "mimetype": "application/julia",
   "name": "julia",
   "version": "1.9.3"
  }
 },
 "nbformat": 4,
 "nbformat_minor": 2
}
