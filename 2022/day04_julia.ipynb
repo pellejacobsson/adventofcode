{
 "cells": [
  {
   "cell_type": "code",
   "execution_count": 1,
   "metadata": {},
   "outputs": [
    {
     "data": {
      "text/plain": [
       "runit (generic function with 1 method)"
      ]
     },
     "metadata": {},
     "output_type": "display_data"
    }
   ],
   "source": [
    "function read_input(filename)\n",
    "    open(filename, \"r\") do f\n",
    "        [[parse.(Int, x) for x in split.(line, \"-\")] for line in split.(readlines(f), \",\")]\n",
    "    end\n",
    "end\n",
    "\n",
    "function range_covers(ranges)\n",
    "    r1, r2 = ranges\n",
    "    (r1[1] <= r2[1] && r1[2] >= r2[2]) || (r2[1] <= r1[1] && r2[2] >= r1[2])\n",
    "end\n",
    "\n",
    "function range_overlaps(ranges)\n",
    "    r1, r2 = ranges\n",
    "    (r1[1] <= r2[2] && r1[2] >= r2[1]) || (r2[1] <= r1[2] && r2[2] >= r1[1])\n",
    "end\n",
    "\n",
    "function runit(filename; part2=false)\n",
    "    sections = read_input(filename)\n",
    "    func = part2 ? range_overlaps : range_covers\n",
    "    sum(func(ranges) for ranges in sections)\n",
    "end"
   ]
  },
  {
   "cell_type": "code",
   "execution_count": 2,
   "metadata": {},
   "outputs": [
    {
     "data": {
      "text/plain": [
       "431"
      ]
     },
     "metadata": {},
     "output_type": "display_data"
    }
   ],
   "source": [
    "runit(\"04_input.txt\")"
   ]
  },
  {
   "cell_type": "code",
   "execution_count": 3,
   "metadata": {},
   "outputs": [
    {
     "data": {
      "text/plain": [
       "823"
      ]
     },
     "metadata": {},
     "output_type": "display_data"
    }
   ],
   "source": [
    "runit(\"04_input.txt\"; part2=true)"
   ]
  },
  {
   "cell_type": "code",
   "execution_count": null,
   "metadata": {},
   "outputs": [],
   "source": []
  }
 ],
 "metadata": {
  "kernelspec": {
   "display_name": "Julia 1.9.3",
   "language": "julia",
   "name": "julia-1.9"
  },
  "language_info": {
   "file_extension": ".jl",
   "mimetype": "application/julia",
   "name": "julia",
   "version": "1.9.3"
  }
 },
 "nbformat": 4,
 "nbformat_minor": 2
}
