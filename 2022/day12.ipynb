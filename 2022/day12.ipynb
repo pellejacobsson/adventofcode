{
 "cells": [
  {
   "cell_type": "code",
   "execution_count": 4,
   "metadata": {},
   "outputs": [],
   "source": [
    "def read_input(filename):\n",
    "    with open(filename, 'r') as f:\n",
    "        grid = [[s for s in l.strip()] for l in f.readlines()]\n",
    "    return grid\n",
    "\n",
    "def find_start_goal(grid, part=1):\n",
    "    starts = []\n",
    "    for i in range(len(grid)):\n",
    "        for j in range(len(grid[0])):\n",
    "            if part == 2 and grid[i][j] == 'a':\n",
    "                starts.append((i, j))\n",
    "            if grid[i][j] == 'S':\n",
    "                starts.append((i, j))\n",
    "                grid[i][j] = 'a'\n",
    "            if grid[i][j] == 'E':\n",
    "                goal = (i, j)\n",
    "                grid[i][j] = 'z'\n",
    "    return starts, goal\n",
    "\n",
    "def get_adjacent(v, grid):\n",
    "    n_rows = len(grid)\n",
    "    n_cols = len(grid[0])\n",
    "    i, j = v\n",
    "    adjacent = []\n",
    "    for di, dj in [(1, 0), (-1, 0), (0, 1), (0, -1)]:\n",
    "        if 0 <= i + di < n_rows and 0 <= j + dj < n_cols:\n",
    "            if ord(grid[i + di][j + dj]) <= ord(grid[i][j]) + 1:\n",
    "                adjacent.append((i + di, j + dj))\n",
    "    return adjacent\n",
    "\n",
    "def bfs(grid, start, goal):\n",
    "    q = []\n",
    "    explored = set()\n",
    "    explored.add((start))\n",
    "    q.append(start)\n",
    "    dist = {}\n",
    "    dist[start] = 0\n",
    "    while q:\n",
    "        v = q.pop(0)\n",
    "        if v == goal:\n",
    "            return dist[v]\n",
    "        for u in get_adjacent(v, grid):\n",
    "            if u not in explored:\n",
    "                explored.add(u)\n",
    "                dist[u] = dist[v] + 1\n",
    "                q.append(u)\n",
    "    return None\n",
    "\n",
    "def runit(filename, part=1):\n",
    "    grid = read_input(filename)\n",
    "    starts, goal = find_start_goal(grid, part=part)\n",
    "    min_dist = 2**64\n",
    "    for start in starts:\n",
    "        dist = bfs(grid, start, goal)\n",
    "        if dist is not None and dist < min_dist:\n",
    "            min_dist = dist\n",
    "    return min_dist"
   ]
  },
  {
   "cell_type": "code",
   "execution_count": 5,
   "metadata": {},
   "outputs": [
    {
     "data": {
      "text/plain": [
       "520"
      ]
     },
     "execution_count": 5,
     "metadata": {},
     "output_type": "execute_result"
    }
   ],
   "source": [
    "runit('12_input.txt')"
   ]
  },
  {
   "cell_type": "code",
   "execution_count": 6,
   "metadata": {},
   "outputs": [
    {
     "data": {
      "text/plain": [
       "508"
      ]
     },
     "execution_count": 6,
     "metadata": {},
     "output_type": "execute_result"
    }
   ],
   "source": [
    "runit('12_input.txt', part=2)"
   ]
  }
 ],
 "metadata": {
  "kernelspec": {
   "display_name": "ds-base",
   "language": "python",
   "name": "python3"
  },
  "language_info": {
   "codemirror_mode": {
    "name": "ipython",
    "version": 3
   },
   "file_extension": ".py",
   "mimetype": "text/x-python",
   "name": "python",
   "nbconvert_exporter": "python",
   "pygments_lexer": "ipython3",
   "version": "3.10.6"
  },
  "orig_nbformat": 4,
  "vscode": {
   "interpreter": {
    "hash": "a0d7f877497f5506abd9009c7bd1724a58de81637cd896211673a408b08e164a"
   }
  }
 },
 "nbformat": 4,
 "nbformat_minor": 2
}
