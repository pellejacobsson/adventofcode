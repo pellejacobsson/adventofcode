{
 "cells": [
  {
   "cell_type": "code",
   "execution_count": 1,
   "metadata": {},
   "outputs": [],
   "source": [
    "using Base.Iterators"
   ]
  },
  {
   "cell_type": "code",
   "execution_count": 25,
   "metadata": {},
   "outputs": [
    {
     "data": {
      "text/plain": [
       "runit (generic function with 2 methods)"
      ]
     },
     "metadata": {},
     "output_type": "display_data"
    }
   ],
   "source": [
    "function read_input(filename)\n",
    "    d = Dict()\n",
    "    open(filename, \"r\") do f\n",
    "        for (i, line) in enumerate(readlines(f))\n",
    "            for (j, x) in enumerate(line)\n",
    "                d[i, j] = parse.(Int, x)\n",
    "            end\n",
    "        end\n",
    "    end\n",
    "    n_rows = maximum(x -> x[1], keys(d))\n",
    "    n_cols = maximum(x -> x[2], keys(d))\n",
    "    grid = zeros(Integer, n_rows, n_cols)\n",
    "    for i = 1:n_rows, j = 1:n_cols\n",
    "        grid[i, j] = d[i, j]\n",
    "    end\n",
    "    grid\n",
    "end\n",
    "\n",
    "function is_visible(grid, (i, j))\n",
    "    left = all(grid[i, 1:j - 1] .< grid[i, j])\n",
    "    right = all(grid[i, j + 1:end] .< grid[i, j])\n",
    "    up = all(grid[1:i - 1, j] .< grid[i, j])\n",
    "    down = all(grid[i + 1:end, j] .< grid[i, j])\n",
    "    left || right || up || down\n",
    "end\n",
    "\n",
    "function scenic_score(grid, (i, j))\n",
    "    left = grid[i, 1:j - 1] .< grid[i, j]\n",
    "    right = grid[i, j + 1:end] .< grid[i, j]\n",
    "    up = grid[1:i - 1, j] .< grid[i, j]\n",
    "    down = grid[i + 1:end, j] .< grid[i, j]\n",
    "    n_left = length(collect(takewhile(x -> x, reverse(left))))\n",
    "    n_right = length(collect(takewhile(x -> x, right)))\n",
    "    n_up = length(collect(takewhile(x -> x, reverse(up))))\n",
    "    n_down = length(collect(takewhile(x -> x, down)))\n",
    "    all(left) || (n_left += 1)\n",
    "    all(right) || (n_right += 1)\n",
    "    all(up) || (n_up += 1)\n",
    "    all(down) || (n_down += 1)\n",
    "    n_left * n_right * n_up * n_down\n",
    "end\n",
    "\n",
    "function runit(filename; part2=false)\n",
    "    grid = read_input(filename)\n",
    "    i_max, j_max = size(grid)\n",
    "    ij = product(1:i_max, 1:j_max)\n",
    "    if !part2\n",
    "        sum(is_visible.((grid,), ij))\n",
    "    else\n",
    "        maximum(scenic_score.((grid,), ij))\n",
    "    end\n",
    "end"
   ]
  },
  {
   "cell_type": "code",
   "execution_count": 26,
   "metadata": {},
   "outputs": [
    {
     "data": {
      "text/plain": [
       "1785"
      ]
     },
     "metadata": {},
     "output_type": "display_data"
    }
   ],
   "source": [
    "runit(\"08_input.txt\")"
   ]
  },
  {
   "cell_type": "code",
   "execution_count": 27,
   "metadata": {},
   "outputs": [
    {
     "data": {
      "text/plain": [
       "345168"
      ]
     },
     "metadata": {},
     "output_type": "display_data"
    }
   ],
   "source": [
    "runit(\"08_input.txt\", part2=true)"
   ]
  }
 ],
 "metadata": {
  "kernelspec": {
   "display_name": "Julia 1.9.3",
   "language": "julia",
   "name": "julia-1.9"
  },
  "language_info": {
   "file_extension": ".jl",
   "mimetype": "application/julia",
   "name": "julia",
   "version": "1.9.3"
  }
 },
 "nbformat": 4,
 "nbformat_minor": 2
}
