{
 "cells": [
  {
   "cell_type": "code",
   "execution_count": 1,
   "metadata": {},
   "outputs": [],
   "source": [
    "import re\n",
    "from copy import copy"
   ]
  },
  {
   "cell_type": "code",
   "execution_count": 2,
   "metadata": {},
   "outputs": [],
   "source": [
    "class Valve:\n",
    "    def __init__(self, flow_rate, neighbors):\n",
    "        self.flow_rate = flow_rate\n",
    "        self.neighbors = neighbors\n",
    "\n",
    "def read_input(filename):\n",
    "    valves = {}\n",
    "    expr = r'^Valve ([A-Z]{2}) has flow rate=(\\d+); tunnels? leads? to valves? (.*)$'\n",
    "    with open(filename, 'r') as f:\n",
    "        for line in f.readlines():\n",
    "            m = re.search(expr, line)\n",
    "            flow_rate = int(m[2])\n",
    "            neighbors = m[3].split(', ')\n",
    "            valves[m[1]] = Valve(flow_rate, neighbors)\n",
    "    return valves\n",
    "\n",
    "def bfs(valves, start):\n",
    "    q = [start]\n",
    "    visited = set(start)\n",
    "    dist = {start: 0}\n",
    "    while q:\n",
    "        u = q.pop(0)\n",
    "        for v in valves[u].neighbors:\n",
    "            if v not in visited:\n",
    "                visited.add(v)\n",
    "                dist[v] = dist[u] + 1\n",
    "                q.append(v)\n",
    "    return dist\n",
    "\n",
    "def calc_dists(valves):\n",
    "    flow_rate_valves = [v for v in valves if valves[v].flow_rate > 0]\n",
    "    dists = {}\n",
    "    for start_valve in ['AA'] + flow_rate_valves:\n",
    "        d = bfs(valves, start_valve)\n",
    "        dists[start_valve] = {k: v for (k, v) in d.items() if k in flow_rate_valves and not k == start_valve}\n",
    "    return dists\n",
    "\n",
    "def dfs(dists, valves, time, start, opened_valves):\n",
    "    comb = [opened_valves]\n",
    "    if time < 2:\n",
    "        return comb\n",
    "    for adj in valves:\n",
    "        new_time   = time - dists[start][adj] - 1\n",
    "        new_ov = opened_valves | {adj: new_time}\n",
    "        new_valves = valves.difference({adj})\n",
    "        comb += dfs(dists, new_valves, new_time, adj, new_ov)\n",
    "    return comb\n",
    "\n",
    "def runit(filename):\n",
    "    valves = read_input(filename)\n",
    "    dists = calc_dists(valves)\n",
    "    flow_valves = {k for (k, v) in valves.items() if v.flow_rate > 0}\n",
    "    comb = dfs(dists, flow_valves, 30, 'AA', {})\n",
    "    max_pressure = 0\n",
    "    for visited in comb:\n",
    "        pressure = sum(valves[k].flow_rate * v for (k, v) in visited.items())\n",
    "        if pressure > max_pressure:\n",
    "            max_pressure = pressure\n",
    "    return max_pressure\n",
    "\n",
    "def runit2(filename):\n",
    "    valves = read_input(filename)\n",
    "    dists = calc_dists(valves)\n",
    "    flow_valves = {k for (k, v) in valves.items() if v.flow_rate > 0}\n",
    "    comb = dfs(dists, flow_valves, 26, 'AA', {})\n",
    "    comb_sorted = sorted(comb, key=lambda x: sum(valves[k].flow_rate * v for (k, v) in x.items()), reverse=True)\n",
    "    max_pressure = 0\n",
    "    for human in comb_sorted:\n",
    "        for elephant in comb_sorted:\n",
    "            human_pressure = (sum(valves[k].flow_rate * v for (k, v) in human.items()))\n",
    "            elephant_pressure = (sum(valves[k].flow_rate * v for (k, v) in elephant.items()))\n",
    "            pressure = human_pressure + elephant_pressure\n",
    "            if pressure <= max_pressure:\n",
    "                break\n",
    "            human_set = set(human.keys())\n",
    "            elephant_set = set(elephant.keys())\n",
    "            if len(human_set.intersection(elephant_set)) == 0:\n",
    "                if pressure > max_pressure:\n",
    "                    max_pressure = pressure\n",
    "    return max_pressure\n"
   ]
  },
  {
   "cell_type": "code",
   "execution_count": 4,
   "metadata": {},
   "outputs": [
    {
     "ename": "KeyboardInterrupt",
     "evalue": "",
     "output_type": "error",
     "traceback": [
      "\u001b[0;31m---------------------------------------------------------------------------\u001b[0m",
      "\u001b[0;31mKeyboardInterrupt\u001b[0m                         Traceback (most recent call last)",
      "\u001b[1;32m/Users/perjacobsson/adventofcode/2022/day16.ipynb Cell 3\u001b[0m line \u001b[0;36m1\n\u001b[0;32m----> <a href='vscode-notebook-cell:/Users/perjacobsson/adventofcode/2022/day16.ipynb#W2sZmlsZQ%3D%3D?line=0'>1</a>\u001b[0m runit(\u001b[39m'\u001b[39;49m\u001b[39m16_input.txt\u001b[39;49m\u001b[39m'\u001b[39;49m)\n",
      "\u001b[1;32m/Users/perjacobsson/adventofcode/2022/day16.ipynb Cell 3\u001b[0m line \u001b[0;36m5\n\u001b[1;32m     <a href='vscode-notebook-cell:/Users/perjacobsson/adventofcode/2022/day16.ipynb#W2sZmlsZQ%3D%3D?line=53'>54</a>\u001b[0m max_pressure \u001b[39m=\u001b[39m \u001b[39m0\u001b[39m\n\u001b[1;32m     <a href='vscode-notebook-cell:/Users/perjacobsson/adventofcode/2022/day16.ipynb#W2sZmlsZQ%3D%3D?line=54'>55</a>\u001b[0m \u001b[39mfor\u001b[39;00m visited \u001b[39min\u001b[39;00m comb:\n\u001b[0;32m---> <a href='vscode-notebook-cell:/Users/perjacobsson/adventofcode/2022/day16.ipynb#W2sZmlsZQ%3D%3D?line=55'>56</a>\u001b[0m     pressure \u001b[39m=\u001b[39m \u001b[39msum\u001b[39;49m(valves[k]\u001b[39m.\u001b[39;49mflow_rate \u001b[39m*\u001b[39;49m v \u001b[39mfor\u001b[39;49;00m (k, v) \u001b[39min\u001b[39;49;00m visited\u001b[39m.\u001b[39;49mitems())\n\u001b[1;32m     <a href='vscode-notebook-cell:/Users/perjacobsson/adventofcode/2022/day16.ipynb#W2sZmlsZQ%3D%3D?line=56'>57</a>\u001b[0m     \u001b[39mif\u001b[39;00m pressure \u001b[39m>\u001b[39m max_pressure:\n\u001b[1;32m     <a href='vscode-notebook-cell:/Users/perjacobsson/adventofcode/2022/day16.ipynb#W2sZmlsZQ%3D%3D?line=57'>58</a>\u001b[0m         max_pressure \u001b[39m=\u001b[39m pressure\n",
      "\u001b[1;32m/Users/perjacobsson/adventofcode/2022/day16.ipynb Cell 3\u001b[0m line \u001b[0;36m5\n\u001b[1;32m     <a href='vscode-notebook-cell:/Users/perjacobsson/adventofcode/2022/day16.ipynb#W2sZmlsZQ%3D%3D?line=53'>54</a>\u001b[0m max_pressure \u001b[39m=\u001b[39m \u001b[39m0\u001b[39m\n\u001b[1;32m     <a href='vscode-notebook-cell:/Users/perjacobsson/adventofcode/2022/day16.ipynb#W2sZmlsZQ%3D%3D?line=54'>55</a>\u001b[0m \u001b[39mfor\u001b[39;00m visited \u001b[39min\u001b[39;00m comb:\n\u001b[0;32m---> <a href='vscode-notebook-cell:/Users/perjacobsson/adventofcode/2022/day16.ipynb#W2sZmlsZQ%3D%3D?line=55'>56</a>\u001b[0m     pressure \u001b[39m=\u001b[39m \u001b[39msum\u001b[39m(valves[k]\u001b[39m.\u001b[39mflow_rate \u001b[39m*\u001b[39m v \u001b[39mfor\u001b[39;00m (k, v) \u001b[39min\u001b[39;00m visited\u001b[39m.\u001b[39mitems())\n\u001b[1;32m     <a href='vscode-notebook-cell:/Users/perjacobsson/adventofcode/2022/day16.ipynb#W2sZmlsZQ%3D%3D?line=56'>57</a>\u001b[0m     \u001b[39mif\u001b[39;00m pressure \u001b[39m>\u001b[39m max_pressure:\n\u001b[1;32m     <a href='vscode-notebook-cell:/Users/perjacobsson/adventofcode/2022/day16.ipynb#W2sZmlsZQ%3D%3D?line=57'>58</a>\u001b[0m         max_pressure \u001b[39m=\u001b[39m pressure\n",
      "\u001b[1;32m/Users/perjacobsson/adventofcode/2022/day16.ipynb Cell 3\u001b[0m line \u001b[0;36m5\n\u001b[1;32m     <a href='vscode-notebook-cell:/Users/perjacobsson/adventofcode/2022/day16.ipynb#W2sZmlsZQ%3D%3D?line=53'>54</a>\u001b[0m max_pressure \u001b[39m=\u001b[39m \u001b[39m0\u001b[39m\n\u001b[1;32m     <a href='vscode-notebook-cell:/Users/perjacobsson/adventofcode/2022/day16.ipynb#W2sZmlsZQ%3D%3D?line=54'>55</a>\u001b[0m \u001b[39mfor\u001b[39;00m visited \u001b[39min\u001b[39;00m comb:\n\u001b[0;32m---> <a href='vscode-notebook-cell:/Users/perjacobsson/adventofcode/2022/day16.ipynb#W2sZmlsZQ%3D%3D?line=55'>56</a>\u001b[0m     pressure \u001b[39m=\u001b[39m \u001b[39msum\u001b[39m(valves[k]\u001b[39m.\u001b[39mflow_rate \u001b[39m*\u001b[39m v \u001b[39mfor\u001b[39;00m (k, v) \u001b[39min\u001b[39;00m visited\u001b[39m.\u001b[39mitems())\n\u001b[1;32m     <a href='vscode-notebook-cell:/Users/perjacobsson/adventofcode/2022/day16.ipynb#W2sZmlsZQ%3D%3D?line=56'>57</a>\u001b[0m     \u001b[39mif\u001b[39;00m pressure \u001b[39m>\u001b[39m max_pressure:\n\u001b[1;32m     <a href='vscode-notebook-cell:/Users/perjacobsson/adventofcode/2022/day16.ipynb#W2sZmlsZQ%3D%3D?line=57'>58</a>\u001b[0m         max_pressure \u001b[39m=\u001b[39m pressure\n",
      "File \u001b[0;32m_pydevd_bundle/pydevd_cython.pyx:1457\u001b[0m, in \u001b[0;36m_pydevd_bundle.pydevd_cython.SafeCallWrapper.__call__\u001b[0;34m()\u001b[0m\n",
      "File \u001b[0;32m_pydevd_bundle/pydevd_cython.pyx:1792\u001b[0m, in \u001b[0;36m_pydevd_bundle.pydevd_cython.ThreadTracer.__call__\u001b[0;34m()\u001b[0m\n",
      "File \u001b[0;32m/opt/homebrew/Caskroom/miniconda/base/envs/ds-base-311/lib/python3.11/site-packages/debugpy/_vendored/pydevd/pydevd.py:986\u001b[0m, in \u001b[0;36mPyDB.get_file_type\u001b[0;34m(self, frame, abs_real_path_and_basename, _cache_file_type)\u001b[0m\n\u001b[1;32m    982\u001b[0m     \u001b[39m# By default all external files are traced. Note: this function is expected to\u001b[39;00m\n\u001b[1;32m    983\u001b[0m     \u001b[39m# be changed for another function in PyDevdAPI.set_dont_trace_start_end_patterns.\u001b[39;00m\n\u001b[1;32m    984\u001b[0m     \u001b[39mreturn\u001b[39;00m \u001b[39mFalse\u001b[39;00m\n\u001b[0;32m--> 986\u001b[0m \u001b[39mdef\u001b[39;00m \u001b[39mget_file_type\u001b[39m(\u001b[39mself\u001b[39m, frame, abs_real_path_and_basename\u001b[39m=\u001b[39m\u001b[39mNone\u001b[39;00m, _cache_file_type\u001b[39m=\u001b[39m_CACHE_FILE_TYPE):\n\u001b[1;32m    987\u001b[0m \u001b[39m    \u001b[39m\u001b[39m'''\u001b[39;00m\n\u001b[1;32m    988\u001b[0m \u001b[39m    :param abs_real_path_and_basename:\u001b[39;00m\n\u001b[1;32m    989\u001b[0m \u001b[39m        The result from get_abs_path_real_path_and_base_from_file or\u001b[39;00m\n\u001b[0;32m   (...)\u001b[0m\n\u001b[1;32m   1001\u001b[0m \u001b[39m            If it's a regular user file which should be traced.\u001b[39;00m\n\u001b[1;32m   1002\u001b[0m \u001b[39m    '''\u001b[39;00m\n\u001b[1;32m   1003\u001b[0m     \u001b[39mif\u001b[39;00m abs_real_path_and_basename \u001b[39mis\u001b[39;00m \u001b[39mNone\u001b[39;00m:\n",
      "\u001b[0;31mKeyboardInterrupt\u001b[0m: "
     ]
    }
   ],
   "source": [
    "runit('16_input.txt')"
   ]
  },
  {
   "cell_type": "code",
   "execution_count": 4,
   "metadata": {},
   "outputs": [
    {
     "data": {
      "text/plain": [
       "2469"
      ]
     },
     "execution_count": 4,
     "metadata": {},
     "output_type": "execute_result"
    }
   ],
   "source": [
    "runit2('16_input.txt')"
   ]
  }
 ],
 "metadata": {
  "kernelspec": {
   "display_name": "ds-base",
   "language": "python",
   "name": "python3"
  },
  "language_info": {
   "codemirror_mode": {
    "name": "ipython",
    "version": 3
   },
   "file_extension": ".py",
   "mimetype": "text/x-python",
   "name": "python",
   "nbconvert_exporter": "python",
   "pygments_lexer": "ipython3",
   "version": "3.11.4"
  },
  "orig_nbformat": 4,
  "vscode": {
   "interpreter": {
    "hash": "a0d7f877497f5506abd9009c7bd1724a58de81637cd896211673a408b08e164a"
   }
  }
 },
 "nbformat": 4,
 "nbformat_minor": 2
}
