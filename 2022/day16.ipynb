{
 "cells": [
  {
   "cell_type": "code",
   "execution_count": 1,
   "metadata": {},
   "outputs": [],
   "source": [
    "import re\n",
    "from copy import copy"
   ]
  },
  {
   "cell_type": "code",
   "execution_count": 2,
   "metadata": {},
   "outputs": [],
   "source": [
    "class Valve:\n",
    "    def __init__(self, flow_rate, neighbors):\n",
    "        self.flow_rate = flow_rate\n",
    "        self.neighbors = neighbors\n",
    "\n",
    "def read_input(filename):\n",
    "    valves = {}\n",
    "    expr = r'^Valve ([A-Z]{2}) has flow rate=(\\d+); tunnels? leads? to valves? (.*)$'\n",
    "    with open(filename, 'r') as f:\n",
    "        for line in f.readlines():\n",
    "            m = re.search(expr, line)\n",
    "            flow_rate = int(m[2])\n",
    "            neighbors = m[3].split(', ')\n",
    "            valves[m[1]] = Valve(flow_rate, neighbors)\n",
    "    return valves\n",
    "\n",
    "def bfs(valves, start):\n",
    "    q = [start]\n",
    "    visited = set(start)\n",
    "    dist = {start: 0}\n",
    "    while q:\n",
    "        u = q.pop(0)\n",
    "        for v in valves[u].neighbors:\n",
    "            if v not in visited:\n",
    "                visited.add(v)\n",
    "                dist[v] = dist[u] + 1\n",
    "                q.append(v)\n",
    "    return dist\n",
    "\n",
    "def calc_dists(valves):\n",
    "    flow_rate_valves = [v for v in valves if valves[v].flow_rate > 0]\n",
    "    dists = {}\n",
    "    for start_valve in ['AA'] + flow_rate_valves:\n",
    "        d = bfs(valves, start_valve)\n",
    "        dists[start_valve] = {k: v for (k, v) in d.items() if k in flow_rate_valves and not k == start_valve}\n",
    "    return dists\n",
    "\n",
    "def dfs(dists, valves, time, start, opened_valves):\n",
    "    comb = [opened_valves]\n",
    "    if time < 2:\n",
    "        return comb\n",
    "    for adj in valves:\n",
    "        new_time   = time - dists[start][adj] - 1\n",
    "        new_ov = opened_valves | {adj: new_time}\n",
    "        new_valves = valves.difference({adj})\n",
    "        comb += dfs(dists, new_valves, new_time, adj, new_ov)\n",
    "    return comb\n",
    "\n",
    "def runit(filename):\n",
    "    valves = read_input(filename)\n",
    "    dists = calc_dists(valves)\n",
    "    flow_valves = {k for (k, v) in valves.items() if v.flow_rate > 0}\n",
    "    comb = dfs(dists, flow_valves, 30, 'AA', {})\n",
    "    max_pressure = 0\n",
    "    for visited in comb:\n",
    "        pressure = sum(valves[k].flow_rate * v for (k, v) in visited.items())\n",
    "        if pressure > max_pressure:\n",
    "            max_pressure = pressure\n",
    "    return max_pressure\n",
    "\n",
    "def runit2(filename):\n",
    "    valves = read_input(filename)\n",
    "    dists = calc_dists(valves)\n",
    "    flow_valves = {k for (k, v) in valves.items() if v.flow_rate > 0}\n",
    "    comb = dfs(dists, flow_valves, 26, 'AA', {})\n",
    "    comb_sorted = sorted(comb, key=lambda x: sum(valves[k].flow_rate * v for (k, v) in x.items()), reverse=True)\n",
    "    max_pressure = 0\n",
    "    for human in comb_sorted:\n",
    "        for elephant in comb_sorted:\n",
    "            human_pressure = (sum(valves[k].flow_rate * v for (k, v) in human.items()))\n",
    "            elephant_pressure = (sum(valves[k].flow_rate * v for (k, v) in elephant.items()))\n",
    "            pressure = human_pressure + elephant_pressure\n",
    "            if pressure <= max_pressure:\n",
    "                break\n",
    "            human_set = set(human.keys())\n",
    "            elephant_set = set(elephant.keys())\n",
    "            if len(human_set.intersection(elephant_set)) == 0:\n",
    "                if pressure > max_pressure:\n",
    "                    max_pressure = pressure\n",
    "    return max_pressure\n"
   ]
  },
  {
   "cell_type": "code",
   "execution_count": 3,
   "metadata": {},
   "outputs": [
    {
     "data": {
      "text/plain": [
       "1940"
      ]
     },
     "execution_count": 3,
     "metadata": {},
     "output_type": "execute_result"
    }
   ],
   "source": [
    "runit('16_input.txt')"
   ]
  },
  {
   "cell_type": "code",
   "execution_count": 4,
   "metadata": {},
   "outputs": [
    {
     "data": {
      "text/plain": [
       "2469"
      ]
     },
     "execution_count": 4,
     "metadata": {},
     "output_type": "execute_result"
    }
   ],
   "source": [
    "runit2('16_input.txt')"
   ]
  }
 ],
 "metadata": {
  "kernelspec": {
   "display_name": "ds-base",
   "language": "python",
   "name": "python3"
  },
  "language_info": {
   "codemirror_mode": {
    "name": "ipython",
    "version": 3
   },
   "file_extension": ".py",
   "mimetype": "text/x-python",
   "name": "python",
   "nbconvert_exporter": "python",
   "pygments_lexer": "ipython3",
   "version": "3.10.8"
  },
  "orig_nbformat": 4,
  "vscode": {
   "interpreter": {
    "hash": "a0d7f877497f5506abd9009c7bd1724a58de81637cd896211673a408b08e164a"
   }
  }
 },
 "nbformat": 4,
 "nbformat_minor": 2
}
