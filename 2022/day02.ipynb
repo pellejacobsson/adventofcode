{
 "cells": [
  {
   "cell_type": "code",
   "execution_count": 4,
   "metadata": {},
   "outputs": [],
   "source": [
    "def read_input(filename):\n",
    "    with open(filename, 'r') as f:\n",
    "        rounds = [tuple(s.strip().split()) for s in f.readlines()]\n",
    "    return rounds\n",
    "\n",
    "def calc_score(rounds, part2=False):\n",
    "    if not part2:\n",
    "        score_table = {\n",
    "            ('A', 'X'): 1 + 3,\n",
    "            ('A', 'Y'): 2 + 6,\n",
    "            ('A', 'Z'): 3 + 0,\n",
    "            ('B', 'X'): 1 + 0,\n",
    "            ('B', 'Y'): 2 + 3,\n",
    "            ('B', 'Z'): 3 + 6,\n",
    "            ('C', 'X'): 1 + 6,\n",
    "            ('C', 'Y'): 2 + 0,\n",
    "            ('C', 'Z'): 3 + 3\n",
    "        }\n",
    "    else:\n",
    "        score_table = {\n",
    "            ('A', 'X'): 3 + 0,\n",
    "            ('A', 'Y'): 1 + 3,\n",
    "            ('A', 'Z'): 2 + 6,\n",
    "            ('B', 'X'): 1 + 0,\n",
    "            ('B', 'Y'): 2 + 3,\n",
    "            ('B', 'Z'): 3 + 6,\n",
    "            ('C', 'X'): 2 + 0,\n",
    "            ('C', 'Y'): 3 + 3,\n",
    "            ('C', 'Z'): 1 + 6\n",
    "        }\n",
    "    score = 0\n",
    "    for round in rounds:\n",
    "        score += score_table[round]\n",
    "    return score\n",
    "\n",
    "def runit(filename, part2=False):\n",
    "    rounds = read_input(filename)\n",
    "    score = calc_score(rounds, part2)\n",
    "    return score\n"
   ]
  },
  {
   "cell_type": "code",
   "execution_count": 5,
   "metadata": {},
   "outputs": [
    {
     "data": {
      "text/plain": [
       "13221"
      ]
     },
     "execution_count": 5,
     "metadata": {},
     "output_type": "execute_result"
    }
   ],
   "source": [
    "runit('02_input.txt')"
   ]
  },
  {
   "cell_type": "code",
   "execution_count": 6,
   "metadata": {},
   "outputs": [
    {
     "data": {
      "text/plain": [
       "13131"
      ]
     },
     "execution_count": 6,
     "metadata": {},
     "output_type": "execute_result"
    }
   ],
   "source": [
    "runit('02_input.txt', part2=True)"
   ]
  }
 ],
 "metadata": {
  "kernelspec": {
   "display_name": "Python 3.10.6 ('ds-base')",
   "language": "python",
   "name": "python3"
  },
  "language_info": {
   "codemirror_mode": {
    "name": "ipython",
    "version": 3
   },
   "file_extension": ".py",
   "mimetype": "text/x-python",
   "name": "python",
   "nbconvert_exporter": "python",
   "pygments_lexer": "ipython3",
   "version": "3.10.6"
  },
  "orig_nbformat": 4,
  "vscode": {
   "interpreter": {
    "hash": "921a7460100d8ae3825e646b690b80e6b4caef73fe6022a0e35634beb157f104"
   }
  }
 },
 "nbformat": 4,
 "nbformat_minor": 2
}
