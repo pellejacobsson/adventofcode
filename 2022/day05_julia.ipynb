{
 "cells": [
  {
   "cell_type": "code",
   "execution_count": 97,
   "metadata": {},
   "outputs": [
    {
     "data": {
      "text/plain": [
       "runit (generic function with 1 method)"
      ]
     },
     "metadata": {},
     "output_type": "display_data"
    }
   ],
   "source": [
    "function read_input(filename)\n",
    "    stacks = Dict()\n",
    "    instructions = []\n",
    "    open(filename, \"r\") do f\n",
    "        lines = readlines(f)\n",
    "        for line in lines[1:8]\n",
    "            for (i, s) in enumerate(line[2:4:end])\n",
    "                if s != ' '\n",
    "                    push!(get!(stacks, i, []), s)\n",
    "                end\n",
    "            end\n",
    "        end\n",
    "        stacks = Dict(i => reverse!(stack) for (i, stack) in stacks)\n",
    "        instructions = [parse.(Int, split(line, \" \")[2:2:end]) for line in lines[11:end]]\n",
    "    end\n",
    "    return stacks, instructions\n",
    "end\n",
    "\n",
    "function move(stacks, instruction, part2)\n",
    "    n, f, t = instruction\n",
    "    if !part2\n",
    "        append!(stacks[t], stacks[f][end:-1:end - n + 1])\n",
    "    else\n",
    "        append!(stacks[t], stacks[f][end - n + 1:end])\n",
    "    end\n",
    "    stacks[f] = stacks[f][1:end - n]\n",
    "end\n",
    "\n",
    "function runit(filename; part2=false)\n",
    "    stacks, instructions = read_input(filename)\n",
    "    for instruction in instructions\n",
    "        move(stacks, instruction, part2)\n",
    "    end\n",
    "    return join([stacks[i][end] for i in 1:length(stacks)])\n",
    "end"
   ]
  },
  {
   "cell_type": "code",
   "execution_count": 98,
   "metadata": {},
   "outputs": [
    {
     "data": {
      "text/plain": [
       "\"SVFDLGLWV\""
      ]
     },
     "metadata": {},
     "output_type": "display_data"
    }
   ],
   "source": [
    " runit(\"05_input.txt\")"
   ]
  },
  {
   "cell_type": "code",
   "execution_count": 99,
   "metadata": {},
   "outputs": [
    {
     "data": {
      "text/plain": [
       "\"DCVTCVPCL\""
      ]
     },
     "metadata": {},
     "output_type": "display_data"
    }
   ],
   "source": [
    "runit(\"05_input.txt\", part2=true)"
   ]
  }
 ],
 "metadata": {
  "kernelspec": {
   "display_name": "Julia 1.9.3",
   "language": "julia",
   "name": "julia-1.9"
  },
  "language_info": {
   "file_extension": ".jl",
   "mimetype": "application/julia",
   "name": "julia",
   "version": "1.9.3"
  }
 },
 "nbformat": 4,
 "nbformat_minor": 2
}
