{
 "cells": [
  {
   "cell_type": "code",
   "execution_count": 182,
   "metadata": {},
   "outputs": [],
   "source": [
    "def read_input(filename):\n",
    "    snafu = []\n",
    "    with open(filename, 'r') as f:\n",
    "        for line in f.readlines():\n",
    "            snafu.append([s for s in line.strip()])\n",
    "    return snafu\n",
    "\n",
    "def snafu_to_dec(sn):\n",
    "    n = 0\n",
    "    for (i, x) in enumerate(reversed(sn)):\n",
    "        if x == '=':\n",
    "            n -= 2 * 5**i\n",
    "        elif x == '-':\n",
    "            n -= 5**i\n",
    "        else:\n",
    "            n += int(x) * 5**i\n",
    "    return n\n",
    "\n",
    "def dec_to_snafu(n):\n",
    "    nl = []\n",
    "    while n > 0:\n",
    "        nl.append(n % 5)\n",
    "        n = n // 5\n",
    "    for i in range(len(nl)-1):\n",
    "        if nl[i] == 5:\n",
    "            nl[i] = 0\n",
    "            nl[i + 1] += 1\n",
    "        elif nl[i] == 4:\n",
    "            nl[i + 1] += 1\n",
    "            nl[i] = -1\n",
    "        elif nl[i] == 3:\n",
    "            nl[i + 1] += 1\n",
    "            nl[i] = -2\n",
    "        else: nl[i] = str(nl[i])\n",
    "    if nl[-1] == 5:\n",
    "        nl[-1] = 0\n",
    "        nl.append(1)\n",
    "    elif nl[-1] == 4:\n",
    "        nl[-1] = -1\n",
    "        nl.append(1)\n",
    "    elif nl[-1] == 3:\n",
    "        nl[-1] = -1\n",
    "        nl.append(1)\n",
    "    for i in range(len(nl)):\n",
    "        if nl[i] == -1:\n",
    "            nl[i] = '-'\n",
    "        elif nl[i] == -2:\n",
    "            nl[i] = '='\n",
    "        else:\n",
    "            nl[i] = str(nl[i])\n",
    "    return ''.join(nl[::-1])\n",
    "\n",
    "def runit(filename):\n",
    "    snafu = read_input(filename)\n",
    "    dec = sum([snafu_to_dec(sn) for sn in snafu])\n",
    "    return dec_to_snafu(dec)"
   ]
  },
  {
   "cell_type": "code",
   "execution_count": 183,
   "metadata": {},
   "outputs": [
    {
     "data": {
      "text/plain": [
       "'121=2=1==0=10=2-20=2'"
      ]
     },
     "execution_count": 183,
     "metadata": {},
     "output_type": "execute_result"
    }
   ],
   "source": [
    "runit('25_input.txt')"
   ]
  }
 ],
 "metadata": {
  "kernelspec": {
   "display_name": "ds-base",
   "language": "python",
   "name": "python3"
  },
  "language_info": {
   "codemirror_mode": {
    "name": "ipython",
    "version": 3
   },
   "file_extension": ".py",
   "mimetype": "text/x-python",
   "name": "python",
   "nbconvert_exporter": "python",
   "pygments_lexer": "ipython3",
   "version": "3.10.8"
  },
  "orig_nbformat": 4,
  "vscode": {
   "interpreter": {
    "hash": "a0d7f877497f5506abd9009c7bd1724a58de81637cd896211673a408b08e164a"
   }
  }
 },
 "nbformat": 4,
 "nbformat_minor": 2
}
