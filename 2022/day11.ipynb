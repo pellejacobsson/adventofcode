{
 "cells": [
  {
   "cell_type": "code",
   "execution_count": 245,
   "metadata": {},
   "outputs": [],
   "source": [
    "class Monkey:\n",
    "    def __init__(self, items, operation, test, iftrue, iffalse):\n",
    "        self.items = items\n",
    "        self.operation = operation\n",
    "        self.test = test\n",
    "        self.iftrue = iftrue\n",
    "        self.iffalse = iffalse\n",
    "        self.n_inspections = 0\n",
    "\n",
    "    def __str__(self):\n",
    "        return f'Items: {self.items}'\n",
    "        \n",
    "\n",
    "def read_input(filename):\n",
    "    with open(filename, 'r') as f:\n",
    "        lines = [s.strip() for s in f.readlines()]\n",
    "    monkeys = []\n",
    "    for i in range(0, len(lines), 7):\n",
    "        items_raw = lines[i+1].split(' ')[2:]\n",
    "        items = [int(s[:-1]) for s in items_raw[:-1]] + [int(items_raw[-1])]\n",
    "        operation = eval('lambda old: ' + ''.join(lines[i+2].split(' ')[3:]))\n",
    "        test = int(lines[i+3].split(' ')[-1])\n",
    "        iftrue = int(lines[i+4].split(' ')[-1])\n",
    "        iffalse = int(lines[i+5].split(' ')[-1])\n",
    "        monkeys.append(Monkey(items, operation, test, iftrue, iffalse))\n",
    "    return monkeys\n",
    "\n",
    "def throw(monkeys, n_rounds):\n",
    "    for _ in range(n_rounds):\n",
    "        for monkey in monkeys:\n",
    "            while monkey.items:\n",
    "                monkey.n_inspections += 1\n",
    "                item = monkey.items.pop(0)\n",
    "                worry = monkey.operation(item)\n",
    "                worry = int(worry / 3)\n",
    "                to_monkey = monkey.iftrue if worry % monkey.test == 0 else monkey.iffalse\n",
    "                monkeys[to_monkey].items.append(worry)\n",
    "\n",
    "def throw2(monkeys, n_rounds):\n",
    "    for monkey in monkeys:\n",
    "        monkey.items = [item % monkey.test for item in monkey.items]\n",
    "    for _ in range(n_rounds):\n",
    "        for monkey in monkeys:\n",
    "            while monkey.items:\n",
    "                monkey.n_inspections += 1\n",
    "                item = monkey.items.pop(0)\n",
    "                worry = monkey.operation(item)\n",
    "                to_monkey = monkey.iftrue if worry % monkey.test == 0 else monkey.iffalse\n",
    "                monkeys[to_monkey].items.append(worry % monkeys[to_monkey].test)\n",
    "\n",
    "def runit(filename):\n",
    "    monkeys = read_input(filename)\n",
    "    throw(monkeys, 20)\n",
    "    max2_n_inspections = sorted([monkey.n_inspections for monkey in monkeys])[-2:]\n",
    "    monkey_business = max2_n_inspections[0] * max2_n_inspections[1]\n",
    "    return monkey_business"
   ]
  },
  {
   "cell_type": "code",
   "execution_count": 246,
   "metadata": {},
   "outputs": [],
   "source": [
    "monkeys = read_input('11_testinput.txt')"
   ]
  },
  {
   "cell_type": "code",
   "execution_count": 247,
   "metadata": {},
   "outputs": [],
   "source": [
    "throw2(monkeys, 20)"
   ]
  },
  {
   "cell_type": "code",
   "execution_count": 248,
   "metadata": {},
   "outputs": [
    {
     "name": "stdout",
     "output_type": "stream",
     "text": [
      "92\n",
      "104\n",
      "13\n",
      "106\n"
     ]
    }
   ],
   "source": [
    "for monkey in monkeys:\n",
    "    print(monkey.n_inspections)"
   ]
  }
 ],
 "metadata": {
  "kernelspec": {
   "display_name": "Python 3.10.6 ('ds-base')",
   "language": "python",
   "name": "python3"
  },
  "language_info": {
   "codemirror_mode": {
    "name": "ipython",
    "version": 3
   },
   "file_extension": ".py",
   "mimetype": "text/x-python",
   "name": "python",
   "nbconvert_exporter": "python",
   "pygments_lexer": "ipython3",
   "version": "3.10.6"
  },
  "orig_nbformat": 4,
  "vscode": {
   "interpreter": {
    "hash": "a0d7f877497f5506abd9009c7bd1724a58de81637cd896211673a408b08e164a"
   }
  }
 },
 "nbformat": 4,
 "nbformat_minor": 2
}
