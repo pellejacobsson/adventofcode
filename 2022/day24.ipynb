{
 "cells": [
  {
   "cell_type": "code",
   "execution_count": 3,
   "metadata": {},
   "outputs": [],
   "source": [
    "import numpy as np\n",
    "from collections import deque"
   ]
  },
  {
   "cell_type": "code",
   "execution_count": 6,
   "metadata": {},
   "outputs": [],
   "source": [
    "def read_input(filename):\n",
    "    with open(filename, 'r') as f:\n",
    "        lines = [line.strip() for line in f.readlines()]\n",
    "    n_cols = len(lines[0]) - 2\n",
    "    n_rows = len(lines) - 2\n",
    "    l = np.zeros((n_rows, n_cols))\n",
    "    r = np.zeros((n_rows, n_cols))\n",
    "    u = np.zeros((n_rows, n_cols))\n",
    "    d = np.zeros((n_rows, n_cols))\n",
    "    for (i, line) in enumerate(lines[1:-1]):\n",
    "        for (j, s) in enumerate(line[1:-1]):\n",
    "            match s:\n",
    "                case '>':\n",
    "                    r[i, j] = 1\n",
    "                case '<':\n",
    "                    l[i, j] = 1\n",
    "                case '^':\n",
    "                    u[i, j] = 1\n",
    "                case 'v':\n",
    "                    d[i, j] = 1\n",
    "    blizzard = {'left': l, 'right': r, 'up': u, 'down': d}\n",
    "    i_range = (0, n_rows - 1)\n",
    "    j_range = (0, n_cols - 1)\n",
    "    return blizzard, i_range, j_range\n",
    "\n",
    "def get_free(v, step, i_range, j_range, blizzard, start, goal):\n",
    "    i, j = v\n",
    "    i_min, i_max = i_range\n",
    "    j_min, j_max = j_range\n",
    "    state = np.roll(blizzard['left'], -step, 1) + np.roll(blizzard['right'], step, 1) + np.roll(blizzard['up'], -step, 0) + np.roll(blizzard['down'], step, 0)\n",
    "    free = []\n",
    "    for (di, dj) in [(0, 0), (0, 1), (1, 0), (0, -1), (-1, 0)]:\n",
    "        ii, jj = (i + di, j + dj)\n",
    "        if i_min <= ii <= i_max and j_min <= jj <= j_max:\n",
    "            if state[ii, jj] == 0:\n",
    "                free.append((ii, jj))\n",
    "        elif (ii, jj) == start or (ii, jj) == goal:\n",
    "            free.append((ii, jj))\n",
    "    return free\n",
    "\n",
    "def bfs(start, goal, i_range, j_range, blizzard, start_step=0):\n",
    "    q = deque([(start, start_step)])\n",
    "    explored = set((start, start_step))\n",
    "    while q:\n",
    "        v, step = q.popleft()\n",
    "        if v == goal:\n",
    "            return step\n",
    "        for w in get_free(v, step + 1, i_range, j_range, blizzard, start, goal):\n",
    "            if (w, step + 1) not in explored:\n",
    "                explored.add((w, step + 1))\n",
    "                q.append((w, step + 1))\n",
    "    return 'Not found!'\n",
    "\n",
    "def runit(filename, part=1):\n",
    "    blizzard, i_range, j_range = read_input(filename)\n",
    "    if part == 1:\n",
    "        return bfs((-1, 0), (i_range[1] + 1, j_range[1]), i_range, j_range, blizzard)\n",
    "    else:\n",
    "        step1 = bfs((-1, 0), (i_range[1] + 1, j_range[1]), i_range, j_range, blizzard)\n",
    "        step2 = bfs((i_range[1] + 1, j_range[1]), (-1, 0), i_range, j_range, blizzard, start_step=step1)\n",
    "        return bfs((-1, 0), (i_range[1] + 1, j_range[1]), i_range, j_range, blizzard, start_step=step2)\n"
   ]
  },
  {
   "cell_type": "code",
   "execution_count": 7,
   "metadata": {},
   "outputs": [
    {
     "data": {
      "text/plain": [
       "266"
      ]
     },
     "execution_count": 7,
     "metadata": {},
     "output_type": "execute_result"
    }
   ],
   "source": [
    "runit('24_input.txt')"
   ]
  },
  {
   "cell_type": "code",
   "execution_count": 8,
   "metadata": {},
   "outputs": [
    {
     "data": {
      "text/plain": [
       "853"
      ]
     },
     "execution_count": 8,
     "metadata": {},
     "output_type": "execute_result"
    }
   ],
   "source": [
    "runit('24_input.txt', part=2)"
   ]
  }
 ],
 "metadata": {
  "kernelspec": {
   "display_name": "ds-base",
   "language": "python",
   "name": "python3"
  },
  "language_info": {
   "codemirror_mode": {
    "name": "ipython",
    "version": 3
   },
   "file_extension": ".py",
   "mimetype": "text/x-python",
   "name": "python",
   "nbconvert_exporter": "python",
   "pygments_lexer": "ipython3",
   "version": "3.10.8"
  },
  "orig_nbformat": 4,
  "vscode": {
   "interpreter": {
    "hash": "a0d7f877497f5506abd9009c7bd1724a58de81637cd896211673a408b08e164a"
   }
  }
 },
 "nbformat": 4,
 "nbformat_minor": 2
}
