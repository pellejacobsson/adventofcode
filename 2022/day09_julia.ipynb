{
 "cells": [
  {
   "cell_type": "code",
   "execution_count": 1,
   "metadata": {},
   "outputs": [
    {
     "data": {
      "text/plain": [
       "runit (generic function with 1 method)"
      ]
     },
     "metadata": {},
     "output_type": "display_data"
    }
   ],
   "source": [
    "function read_input(filename)\n",
    "    open(filename) do f\n",
    "        [(m[1], parse(Int, m[2])) for m in [split(l, \" \") for l in readlines(f)]]\n",
    "    end\n",
    "end\n",
    "\n",
    "mutable struct Rope\n",
    "    n\n",
    "    hx\n",
    "    hy\n",
    "    tx\n",
    "    ty\n",
    "    visited\n",
    "end\n",
    "Rope(n) = Rope(n, 0, 0, repeat([0], n), repeat([0], n), Dict((0, 0) => true))\n",
    "Rope() = Rope(1)\n",
    "\n",
    "function update_head(r::Rope, dir)\n",
    "    if dir == \"R\"\n",
    "        r.hx += 1\n",
    "    elseif dir == \"D\"\n",
    "        r.hy -= 1\n",
    "    elseif dir == \"L\"\n",
    "        r.hx -= 1\n",
    "    elseif dir == \"U\"\n",
    "        r.hy += 1\n",
    "    end\n",
    "end\n",
    "\n",
    "function update_tail(r::Rope, n)\n",
    "    tx = r.tx[n]\n",
    "    ty = r.ty[n]\n",
    "    dx = n == 1 ? r.hx - tx : r.tx[n - 1] - tx\n",
    "    dy = n == 1 ? r.hy - ty : r.ty[n - 1] - ty\n",
    "    if (dx, dy) == (0, 2)\n",
    "        ty += 1\n",
    "    elseif (dx, dy) == (0, -2)\n",
    "        ty -= 1\n",
    "    elseif (dx, dy) == (2, 0)\n",
    "        tx += 1\n",
    "    elseif (dx, dy) == (-2, 0)\n",
    "        tx -= 1\n",
    "    elseif (dx, dy) in [(1, 2), (2, 1), (2, 2)]\n",
    "        tx += 1\n",
    "        ty += 1\n",
    "    elseif (dx, dy) in [(-1, 2), (-2, 1), (-2, 2)]\n",
    "        tx -= 1\n",
    "        ty += 1\n",
    "    elseif (dx, dy) in [(-1, -2), (-2, -1), (-2, -2)]\n",
    "        tx -= 1\n",
    "        ty -= 1\n",
    "    elseif (dx, dy) in [(1, -2), (2, -1), (2, -2)]\n",
    "        tx += 1\n",
    "        ty -= 1\n",
    "    end\n",
    "    r.tx[n] = tx\n",
    "    r.ty[n] = ty\n",
    "    r.visited[(r.tx[end], r.ty[end])] = true\n",
    "end\n",
    "\n",
    "function apply_motion(r::Rope, motion)\n",
    "    dir, n_motions = motion\n",
    "    for i in 1:n_motions\n",
    "        update_head(r, dir)\n",
    "        for n in 1:r.n\n",
    "            update_tail(r, n)\n",
    "        end\n",
    "    end\n",
    "end\n",
    "\n",
    "function runit(filename; part2=false)\n",
    "    motions = read_input(filename)\n",
    "    r = part2 ? Rope(9) : Rope()\n",
    "    for motion in motions\n",
    "        apply_motion(r, motion)\n",
    "    end\n",
    "    length(values(r.visited))\n",
    "end"
   ]
  },
  {
   "cell_type": "code",
   "execution_count": 23,
   "metadata": {},
   "outputs": [
    {
     "data": {
      "text/plain": [
       "6175"
      ]
     },
     "metadata": {},
     "output_type": "display_data"
    }
   ],
   "source": [
    "runit(\"09_input.txt\")"
   ]
  },
  {
   "cell_type": "code",
   "execution_count": 26,
   "metadata": {},
   "outputs": [
    {
     "data": {
      "text/plain": [
       "2578"
      ]
     },
     "metadata": {},
     "output_type": "display_data"
    }
   ],
   "source": [
    "runit(\"09_input.txt\", part2=true)"
   ]
  }
 ],
 "metadata": {
  "kernelspec": {
   "display_name": "Julia 1.9.3",
   "language": "julia",
   "name": "julia-1.9"
  },
  "language_info": {
   "file_extension": ".jl",
   "mimetype": "application/julia",
   "name": "julia",
   "version": "1.9.3"
  }
 },
 "nbformat": 4,
 "nbformat_minor": 2
}
