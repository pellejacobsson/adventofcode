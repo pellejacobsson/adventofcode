{
 "cells": [
  {
   "cell_type": "code",
   "execution_count": 1,
   "metadata": {},
   "outputs": [
    {
     "data": {
      "text/plain": [
       "runit (generic function with 1 method)"
      ]
     },
     "metadata": {},
     "output_type": "display_data"
    }
   ],
   "source": [
    "function read_input(filename)\n",
    "    grid = open(filename, \"r\") do f\n",
    "        [[s for s in line] for line in readlines(f)]\n",
    "    end\n",
    "    permutedims(hcat(grid...))\n",
    "end\n",
    "\n",
    "function find_start_goal!(grid; part2=false)\n",
    "    starts = findall(x -> x == 'S', grid)\n",
    "    grid[starts[1]] = 'a'\n",
    "    if part2\n",
    "        starts = findall(x -> x == 'a', grid)\n",
    "    end\n",
    "    goal = findfirst(x -> x == 'E', grid)\n",
    "    grid[goal] = 'z'\n",
    "    Tuple.(starts), Tuple(goal)\n",
    "end\n",
    "\n",
    "function get_adjacent(v, grid)\n",
    "    n_rows, n_cols = size(grid)\n",
    "    i, j = v\n",
    "    adjacent = []\n",
    "    for (di, dj) in [(1, 0), (-1, 0), (0, 1), (0, -1)]\n",
    "        if 0 < i + di <= n_rows && 0 < j + dj <= n_cols\n",
    "            if Int(grid[i + di, j + dj]) <= Int(grid[i, j]) + 1\n",
    "                push!(adjacent, (i + di, j + dj))\n",
    "            end\n",
    "        end\n",
    "    end\n",
    "    adjacent\n",
    "end\n",
    "\n",
    "function bfs(grid, start, goal)\n",
    "    q = [start]\n",
    "    explored = Set([start])\n",
    "    dist = Dict(start => 0)\n",
    "    while length(q) > 0\n",
    "        v = popfirst!(q)\n",
    "        if v == goal\n",
    "            return dist[v]\n",
    "        end\n",
    "        for u in get_adjacent(v, grid)\n",
    "            if !(u in explored)\n",
    "                push!(explored, u)\n",
    "                dist[u] = dist[v] + 1\n",
    "                push!(q, u)\n",
    "            end\n",
    "        end\n",
    "    end\n",
    "    nothing\n",
    "end\n",
    "\n",
    "function runit(filename; part2=false)\n",
    "    grid = read_input(filename)\n",
    "    starts, goal = find_start_goal!(grid, part2=part2)\n",
    "    min_dist = typemax(Int)\n",
    "    for start in starts\n",
    "        dist = bfs(grid, start, goal)\n",
    "        if !(dist == nothing) && dist < min_dist\n",
    "            min_dist = dist\n",
    "        end\n",
    "    end\n",
    "    min_dist\n",
    "end"
   ]
  },
  {
   "cell_type": "code",
   "execution_count": 2,
   "metadata": {},
   "outputs": [
    {
     "data": {
      "text/plain": [
       "520"
      ]
     },
     "metadata": {},
     "output_type": "display_data"
    }
   ],
   "source": [
    "runit(\"12_input.txt\")"
   ]
  },
  {
   "cell_type": "code",
   "execution_count": 4,
   "metadata": {},
   "outputs": [
    {
     "data": {
      "text/plain": [
       "508"
      ]
     },
     "metadata": {},
     "output_type": "display_data"
    }
   ],
   "source": [
    "runit(\"12_input.txt\", part2=true)"
   ]
  }
 ],
 "metadata": {
  "kernelspec": {
   "display_name": "Julia 1.9.3",
   "language": "julia",
   "name": "julia-1.9"
  },
  "language_info": {
   "file_extension": ".jl",
   "mimetype": "application/julia",
   "name": "julia",
   "version": "1.9.3"
  }
 },
 "nbformat": 4,
 "nbformat_minor": 2
}
