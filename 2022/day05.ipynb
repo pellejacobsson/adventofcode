{
 "cells": [
  {
   "cell_type": "code",
   "execution_count": 1,
   "metadata": {},
   "outputs": [],
   "source": [
    "from collections import defaultdict"
   ]
  },
  {
   "cell_type": "code",
   "execution_count": 2,
   "metadata": {},
   "outputs": [],
   "source": [
    "def read_input(filename):\n",
    "    stacks = defaultdict(list)\n",
    "    instructions = []\n",
    "    with open(filename, 'r') as f:\n",
    "        lines = f.readlines()\n",
    "        for line in lines[:8]:\n",
    "            for (i, s) in enumerate(line[1::4]):\n",
    "                if s != ' ':\n",
    "                    stacks[i+1].append(s)\n",
    "        for key in stacks:\n",
    "            stacks[key].reverse()\n",
    "        for line in lines[10:]:\n",
    "            instructions.append([int(s) for s in line.split(' ')[1::2]])\n",
    "    return stacks, instructions\n",
    "\n",
    "def move(stacks, instruction, part):\n",
    "    n, f, t = instruction\n",
    "    if part == 1:\n",
    "        stacks[t].extend(stacks[f][:-n-1:-1])\n",
    "    else:\n",
    "        stacks[t].extend(stacks[f][-n:])\n",
    "    stacks[f] = stacks[f][:-n]\n",
    "\n",
    "def runit(filename, part=1):\n",
    "    stacks, instructions = read_input(filename)\n",
    "    for instruction in instructions:\n",
    "        move(stacks, instruction, part)\n",
    "    return ''.join([stacks[i][-1] for i in range(1, len(stacks)+1)])"
   ]
  },
  {
   "cell_type": "code",
   "execution_count": 3,
   "metadata": {},
   "outputs": [
    {
     "data": {
      "text/plain": [
       "'SVFDLGLWV'"
      ]
     },
     "execution_count": 3,
     "metadata": {},
     "output_type": "execute_result"
    }
   ],
   "source": [
    "runit('05_input.txt')"
   ]
  },
  {
   "cell_type": "code",
   "execution_count": 4,
   "metadata": {},
   "outputs": [
    {
     "data": {
      "text/plain": [
       "'DCVTCVPCL'"
      ]
     },
     "execution_count": 4,
     "metadata": {},
     "output_type": "execute_result"
    }
   ],
   "source": [
    "runit('05_input.txt', part=2)"
   ]
  }
 ],
 "metadata": {
  "kernelspec": {
   "display_name": "Python 3.10.6 ('ds-base')",
   "language": "python",
   "name": "python3"
  },
  "language_info": {
   "codemirror_mode": {
    "name": "ipython",
    "version": 3
   },
   "file_extension": ".py",
   "mimetype": "text/x-python",
   "name": "python",
   "nbconvert_exporter": "python",
   "pygments_lexer": "ipython3",
   "version": "3.10.6"
  },
  "orig_nbformat": 4,
  "vscode": {
   "interpreter": {
    "hash": "921a7460100d8ae3825e646b690b80e6b4caef73fe6022a0e35634beb157f104"
   }
  }
 },
 "nbformat": 4,
 "nbformat_minor": 2
}
