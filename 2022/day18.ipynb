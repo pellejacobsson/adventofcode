{
 "cells": [
  {
   "cell_type": "code",
   "execution_count": 1,
   "metadata": {},
   "outputs": [],
   "source": [
    "def read_input(filename):\n",
    "    m = {}\n",
    "    with open(filename, 'r') as f:\n",
    "        for line in f.readlines():\n",
    "            x, y, z = [int(s) for s in line.strip().split(',')]\n",
    "            m[x, y, z] = 1\n",
    "    return m\n",
    "\n",
    "def calc_open_sides(m, x, y, z, part, trapped=None):\n",
    "    s = 6\n",
    "    for (dx, dy, dz) in ((-1, 0, 0), (1, 0, 0), (0, -1, 0), (0, 1, 0), (0, 0, -1), (0, 0, 1)):\n",
    "        xn, yn, zn = x + dx, y + dy, z + dz\n",
    "        if (xn, yn, zn) in m or (part == 2 and (xn, yn, zn) in trapped):\n",
    "            s -= 1\n",
    "    return s\n",
    "\n",
    "def dfs(m, x_min, x_max, y_min, y_max, z_min, z_max, start):\n",
    "    s = []\n",
    "    s.append(start)\n",
    "    explored = set(start)\n",
    "    while s:\n",
    "        v = s.pop()\n",
    "        x, y, z = v\n",
    "        if x == x_min or x == x_max or y == y_min or y == y_max or z == z_min or z == z_max:\n",
    "            return True\n",
    "        for (dx, dy, dz) in ((-1, 0, 0), (1, 0, 0), (0, -1, 0), (0, 1, 0), (0, 0, -1), (0, 0, 1)):\n",
    "            xn = x + dx\n",
    "            yn = y + dy\n",
    "            zn = z + dz\n",
    "            if (xn, yn, zn) not in m and (xn, yn, zn) not in explored:\n",
    "                s.append((xn, yn, zn))\n",
    "                explored.add((xn, yn, zn))\n",
    "    return False\n",
    "\n",
    "def runit(filename):\n",
    "    m = read_input(filename)\n",
    "    s = 0\n",
    "    for (x, y, z) in m:\n",
    "        s += calc_open_sides(m, x, y, z, 1)\n",
    "    return s\n",
    "\n",
    "def runit2(filename):\n",
    "    m = read_input('18_input.txt')\n",
    "    x_min, x_max = min(m, key=lambda k: k[0])[0], max(m, key=lambda k: k[0])[0]\n",
    "    y_min, y_max = min(m, key=lambda k: k[1])[1], max(m, key=lambda k: k[1])[1]\n",
    "    z_min, z_max = min(m, key=lambda k: k[2])[2], max(m, key=lambda k: k[2])[2]\n",
    "    trapped = set()\n",
    "    for x in range(x_min, x_max + 1):\n",
    "        for y in range(y_min, y_max + 1):\n",
    "            for z in range(z_min, z_max + 1):\n",
    "                if (x, y, z) not in m:\n",
    "                    if not dfs(m, x_min, x_max, y_min, y_max, z_min, z_max, (x, y, z)):\n",
    "                        trapped.add((x, y, z))\n",
    "    s = 0\n",
    "    for (x, y, z) in m:\n",
    "        s += calc_open_sides(m, x, y, z, 2, trapped=trapped)\n",
    "    return s"
   ]
  },
  {
   "cell_type": "code",
   "execution_count": 2,
   "metadata": {},
   "outputs": [
    {
     "data": {
      "text/plain": [
       "3412"
      ]
     },
     "execution_count": 2,
     "metadata": {},
     "output_type": "execute_result"
    }
   ],
   "source": [
    "runit('18_input.txt')"
   ]
  },
  {
   "cell_type": "code",
   "execution_count": 3,
   "metadata": {},
   "outputs": [
    {
     "data": {
      "text/plain": [
       "2018"
      ]
     },
     "execution_count": 3,
     "metadata": {},
     "output_type": "execute_result"
    }
   ],
   "source": [
    "runit2('18_input.txt')"
   ]
  }
 ],
 "metadata": {
  "kernelspec": {
   "display_name": "ds-base",
   "language": "python",
   "name": "python3"
  },
  "language_info": {
   "codemirror_mode": {
    "name": "ipython",
    "version": 3
   },
   "file_extension": ".py",
   "mimetype": "text/x-python",
   "name": "python",
   "nbconvert_exporter": "python",
   "pygments_lexer": "ipython3",
   "version": "3.10.8"
  },
  "orig_nbformat": 4,
  "vscode": {
   "interpreter": {
    "hash": "a0d7f877497f5506abd9009c7bd1724a58de81637cd896211673a408b08e164a"
   }
  }
 },
 "nbformat": 4,
 "nbformat_minor": 2
}
