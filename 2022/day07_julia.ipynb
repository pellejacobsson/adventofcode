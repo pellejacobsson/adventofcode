{
 "cells": [
  {
   "cell_type": "code",
   "execution_count": 81,
   "metadata": {},
   "outputs": [
    {
     "data": {
      "text/plain": [
       "runit (generic function with 2 methods)"
      ]
     },
     "metadata": {},
     "output_type": "display_data"
    }
   ],
   "source": [
    "function read_input(filename)\n",
    "    open(filename, \"r\") do f\n",
    "        readlines(f)\n",
    "    end\n",
    "end\n",
    "\n",
    "function build_fs(terminal)\n",
    "    dirs = []\n",
    "    dir_stack = []\n",
    "    for t in terminal\n",
    "        if startswith(t, '$')\n",
    "            if t[3:4] == \"cd\"\n",
    "                dir = t[6:end]\n",
    "                if dir == \"..\"\n",
    "                    pop!(dir_stack)\n",
    "                    dir = dir_stack[end]\n",
    "                else\n",
    "                    push!(dir_stack, dir)\n",
    "                end\n",
    "            end\n",
    "        else\n",
    "            if !startswith(t, \"dir\")\n",
    "                size, name = split(t, \" \")\n",
    "                path = join(dir_stack, \"/\")\n",
    "                push!(dirs, vcat(dir_stack,  [name * \"_\" * size]))\n",
    "            end\n",
    "        end\n",
    "    end\n",
    "    dirs\n",
    "end\n",
    "\n",
    "function size_cont(size, file)\n",
    "    for i in 1:length(file) - 1\n",
    "        path = join(file[1:i], \"/\")\n",
    "        f_name, f_size = split(file[end], \"_\")\n",
    "        size[path] = get(size, path, 0) + parse(Int, f_size)\n",
    "    end\n",
    "end\n",
    "\n",
    "function runit(filename; part2=false)\n",
    "    terminal = read_input(filename)\n",
    "    fs = build_fs(terminal)\n",
    "    size = Dict()\n",
    "    for dir in fs\n",
    "        size_cont(size, dir)\n",
    "    end\n",
    "    if !part2\n",
    "        return sum(s for s in values(size) if s <= 100000)\n",
    "    else\n",
    "        needed = 30000000 - (70000000 - size[\"/\"])\n",
    "        s_min = 70000000\n",
    "        d_min = nothing\n",
    "        for (d, s) in size\n",
    "            if s >= needed && s < s_min\n",
    "                s_min = s\n",
    "                d_min = d\n",
    "            end\n",
    "        end\n",
    "        return d_min, s_min\n",
    "    end\n",
    "end"
   ]
  },
  {
   "cell_type": "code",
   "execution_count": 84,
   "metadata": {},
   "outputs": [
    {
     "data": {
      "text/plain": [
       "1555642"
      ]
     },
     "metadata": {},
     "output_type": "display_data"
    }
   ],
   "source": [
    "runit(\"07_input.txt\")"
   ]
  },
  {
   "cell_type": "code",
   "execution_count": 85,
   "metadata": {},
   "outputs": [
    {
     "data": {
      "text/plain": [
       "(\"//fvhmzqc/wrzzq/mqqlhnvh\", 5974547)"
      ]
     },
     "metadata": {},
     "output_type": "display_data"
    }
   ],
   "source": [
    "runit(\"07_input.txt\"; part2=true)"
   ]
  },
  {
   "cell_type": "code",
   "execution_count": null,
   "metadata": {},
   "outputs": [],
   "source": []
  }
 ],
 "metadata": {
  "kernelspec": {
   "display_name": "Julia 1.9.3",
   "language": "julia",
   "name": "julia-1.9"
  },
  "language_info": {
   "file_extension": ".jl",
   "mimetype": "application/julia",
   "name": "julia",
   "version": "1.9.3"
  }
 },
 "nbformat": 4,
 "nbformat_minor": 2
}
