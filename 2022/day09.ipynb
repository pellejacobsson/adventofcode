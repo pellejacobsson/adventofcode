{
 "cells": [
  {
   "cell_type": "code",
   "execution_count": 80,
   "metadata": {},
   "outputs": [],
   "source": [
    "class Rope:\n",
    "    def __init__(self, n=1):\n",
    "        self.n = n\n",
    "        self.hx = 0\n",
    "        self.hy = 0\n",
    "        self.tx = [0] * self.n\n",
    "        self.ty = [0] * self.n\n",
    "        self.visited = {(0, 0): True}\n",
    "    \n",
    "    def update_head(self, dir):\n",
    "        match dir:\n",
    "            case 'R':\n",
    "                self.hx += 1\n",
    "            case 'D':\n",
    "                self.hy -= 1\n",
    "            case 'L':\n",
    "                self.hx -= 1\n",
    "            case 'U':\n",
    "                self.hy += 1\n",
    "    \n",
    "    def update_tail(self, n):\n",
    "        tx = self.tx[n]\n",
    "        ty = self.ty[n]\n",
    "        dx = self.hx - tx if n == 0 else self.tx[n-1] - tx\n",
    "        dy = self.hy - ty if n == 0 else self.ty[n-1] - ty\n",
    "        match [dx, dy]:\n",
    "            case [0, 2]:\n",
    "                ty += 1\n",
    "            case [0, -2]:\n",
    "                ty -= 1\n",
    "            case [2, 0]:\n",
    "                tx += 1\n",
    "            case [-2, 0]:\n",
    "                tx -= 1\n",
    "            case [1, 2] | [2, 1] | [2, 2]:\n",
    "                tx += 1\n",
    "                ty += 1\n",
    "            case [-1, 2] | [-2, 1] | [-2, 2]:\n",
    "                tx -= 1\n",
    "                ty += 1\n",
    "            case [-1, -2] | [-2, -1] | [-2, -2]:\n",
    "                tx -= 1\n",
    "                ty -= 1\n",
    "            case [1, -2] | [2, -1] | [2, -2]:\n",
    "                tx += 1\n",
    "                ty -= 1\n",
    "        self.tx[n] = tx\n",
    "        self.ty[n] = ty\n",
    "        self.visited[(self.tx[-1], self.ty[-1])] = True\n",
    "            \n",
    "\n",
    "    def apply_motion(self, motion):\n",
    "        dir, n_motions = motion\n",
    "        for _ in range(n_motions):\n",
    "            self.update_head(dir)\n",
    "            for n in range(self.n):\n",
    "                self.update_tail(n)\n",
    "\n",
    "\n",
    "def read_input(filename):\n",
    "    with open(filename, 'r') as f:\n",
    "        motions = [(m[0], int(m[1])) for m in [s.strip().split() for s in f.readlines()]]\n",
    "    return motions\n",
    "\n",
    "def runit(filename, part=1):\n",
    "    motions = read_input(filename)\n",
    "    r = Rope() if part == 1 else Rope(9)\n",
    "    for motion in motions:\n",
    "        r.apply_motion(motion)\n",
    "    return len(r.visited.values())"
   ]
  },
  {
   "cell_type": "code",
   "execution_count": 83,
   "metadata": {},
   "outputs": [
    {
     "data": {
      "text/plain": [
       "6175"
      ]
     },
     "execution_count": 83,
     "metadata": {},
     "output_type": "execute_result"
    }
   ],
   "source": [
    "runit('09_input.txt')"
   ]
  },
  {
   "cell_type": "code",
   "execution_count": 84,
   "metadata": {},
   "outputs": [
    {
     "data": {
      "text/plain": [
       "2578"
      ]
     },
     "execution_count": 84,
     "metadata": {},
     "output_type": "execute_result"
    }
   ],
   "source": [
    "runit('09_input.txt', part=2)"
   ]
  }
 ],
 "metadata": {
  "kernelspec": {
   "display_name": "Python 3.10.6 ('ds-base')",
   "language": "python",
   "name": "python3"
  },
  "language_info": {
   "codemirror_mode": {
    "name": "ipython",
    "version": 3
   },
   "file_extension": ".py",
   "mimetype": "text/x-python",
   "name": "python",
   "nbconvert_exporter": "python",
   "pygments_lexer": "ipython3",
   "version": "3.10.6"
  },
  "orig_nbformat": 4,
  "vscode": {
   "interpreter": {
    "hash": "a0d7f877497f5506abd9009c7bd1724a58de81637cd896211673a408b08e164a"
   }
  }
 },
 "nbformat": 4,
 "nbformat_minor": 2
}
