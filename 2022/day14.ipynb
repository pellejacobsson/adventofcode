{
 "cells": [
  {
   "cell_type": "code",
   "execution_count": 1,
   "metadata": {},
   "outputs": [],
   "source": [
    "from itertools import zip_longest"
   ]
  },
  {
   "cell_type": "code",
   "execution_count": 2,
   "metadata": {},
   "outputs": [],
   "source": [
    "def read_input(filename):\n",
    "    with open(filename, 'r') as f:\n",
    "        segments = [s.strip().split(' -> ') for s in f.readlines()]\n",
    "        segments = [[list(map(int, s.split(','))) for s in segment] for segment in segments]\n",
    "    return segments\n",
    "\n",
    "def fill_rock(rocks, segment):\n",
    "    for (seg1, seg2) in zip(segment, segment[1:]):\n",
    "        x1, y1 = seg1\n",
    "        x2, y2 = seg2\n",
    "        xrange = range(min(x1, x2), max(x1, x2) + 1)\n",
    "        yrange = range(min(y1, y2), max(y1, y2) + 1)\n",
    "        fillvalue = xrange[0] if len(xrange) == 1 else yrange[0]\n",
    "        for (x, y) in zip_longest(xrange, yrange, fillvalue=fillvalue):\n",
    "            rocks.add((x, y))\n",
    "\n",
    "def fill_rocks(segments):\n",
    "    rocks = set()\n",
    "    for segment in segments:\n",
    "        fill_rock(rocks, segment)\n",
    "    rocks = {r: 1 for r in rocks}\n",
    "    return rocks\n",
    "\n",
    "def drop_sand(rocks, y_max, part, start=(500, 0)):\n",
    "    x, y = start\n",
    "    while True:\n",
    "        if y >= y_max and part == 1:\n",
    "            return 1\n",
    "        if y + 1 == y_max + 2 and part == 2:\n",
    "            break\n",
    "        if (x, y + 1) not in rocks:\n",
    "            y += 1\n",
    "        elif (x - 1, y + 1) not in rocks:\n",
    "            x -= 1\n",
    "            y += 1\n",
    "        elif (x + 1, y + 1) not in rocks:\n",
    "            x += 1\n",
    "            y += 1\n",
    "        else:\n",
    "            break\n",
    "    if (x, y) == start:\n",
    "        return 2\n",
    "    else:\n",
    "        rocks[(x, y)] = 2\n",
    "        return 0\n",
    "\n",
    "def runit(filename, part=1):\n",
    "    segments = read_input(filename)\n",
    "    rocks = fill_rocks(segments)\n",
    "    y_max = max(rocks, key=lambda z:z[1])[1]\n",
    "    c = 0\n",
    "    while True:\n",
    "        res = drop_sand(rocks, y_max, part)\n",
    "        if res == 2:\n",
    "            c += 1\n",
    "            break\n",
    "        elif res == 1:\n",
    "            break\n",
    "        c += 1\n",
    "    return c\n",
    "    "
   ]
  },
  {
   "cell_type": "code",
   "execution_count": 3,
   "metadata": {},
   "outputs": [
    {
     "data": {
      "text/plain": [
       "696"
      ]
     },
     "execution_count": 3,
     "metadata": {},
     "output_type": "execute_result"
    }
   ],
   "source": [
    "runit('14_input.txt')"
   ]
  },
  {
   "cell_type": "code",
   "execution_count": 4,
   "metadata": {},
   "outputs": [
    {
     "data": {
      "text/plain": [
       "23610"
      ]
     },
     "execution_count": 4,
     "metadata": {},
     "output_type": "execute_result"
    }
   ],
   "source": [
    "runit('14_input.txt', part=2)"
   ]
  }
 ],
 "metadata": {
  "kernelspec": {
   "display_name": "ds-base",
   "language": "python",
   "name": "python3"
  },
  "language_info": {
   "codemirror_mode": {
    "name": "ipython",
    "version": 3
   },
   "file_extension": ".py",
   "mimetype": "text/x-python",
   "name": "python",
   "nbconvert_exporter": "python",
   "pygments_lexer": "ipython3",
   "version": "3.10.6"
  },
  "orig_nbformat": 4,
  "vscode": {
   "interpreter": {
    "hash": "a0d7f877497f5506abd9009c7bd1724a58de81637cd896211673a408b08e164a"
   }
  }
 },
 "nbformat": 4,
 "nbformat_minor": 2
}
