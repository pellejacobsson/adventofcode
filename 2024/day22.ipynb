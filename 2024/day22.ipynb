{
 "cells": [
  {
   "cell_type": "code",
   "execution_count": 37,
   "metadata": {},
   "outputs": [],
   "source": [
    "from math import floor\n",
    "from collections import Counter"
   ]
  },
  {
   "cell_type": "code",
   "execution_count": 58,
   "metadata": {},
   "outputs": [],
   "source": [
    "with open(\"22_input.txt\", \"r\") as f:\n",
    "    secrets = [int(s.strip()) for s in f]"
   ]
  },
  {
   "cell_type": "code",
   "execution_count": 59,
   "metadata": {},
   "outputs": [
    {
     "name": "stdout",
     "output_type": "stream",
     "text": [
      "14273043166\n"
     ]
    }
   ],
   "source": [
    "s = 0\n",
    "for secret in secrets:\n",
    "    for _ in range(2000):\n",
    "        secret = ((secret * 64) ^ secret) % 16777216\n",
    "        secret = (floor(secret / 32) ^ secret) % 16777216\n",
    "        secret = ((secret * 2048) ^ secret) % 16777216\n",
    "    s += secret\n",
    "print(s)"
   ]
  },
  {
   "cell_type": "code",
   "execution_count": 60,
   "metadata": {},
   "outputs": [],
   "source": [
    "diffs = []\n",
    "prices = []\n",
    "for secret in secrets:\n",
    "    diff = []\n",
    "    price = []\n",
    "    for _ in range(2000):\n",
    "        l1 = secret % 10\n",
    "        secret = ((secret * 64) ^ secret) % 16777216\n",
    "        secret = (floor(secret / 32) ^ secret) % 16777216\n",
    "        secret = ((secret * 2048) ^ secret) % 16777216\n",
    "        l2 = secret % 10\n",
    "        diff.append(l2 - l1)\n",
    "        price.append(l2)\n",
    "    diffs.append(diff)\n",
    "    prices.append(price)"
   ]
  },
  {
   "cell_type": "code",
   "execution_count": 61,
   "metadata": {},
   "outputs": [],
   "source": [
    "seq_maps = []\n",
    "for diff, price in zip(diffs, prices):\n",
    "    seq_map = {}\n",
    "    for seq, price in zip(zip(diff, diff[1:], diff[2:], diff[3:]), price[3:]):\n",
    "        if seq not in seq_map:\n",
    "            seq_map[seq] = price\n",
    "    seq_maps.append(seq_map)"
   ]
  },
  {
   "cell_type": "code",
   "execution_count": 62,
   "metadata": {},
   "outputs": [],
   "source": [
    "c = Counter()\n",
    "for seq_map in seq_maps:\n",
    "    for key in seq_map.keys():\n",
    "        c[key] += 1"
   ]
  },
  {
   "cell_type": "code",
   "execution_count": 63,
   "metadata": {},
   "outputs": [],
   "source": [
    "s_max = 0\n",
    "for seq, n in sorted(c.items(), key=lambda x: x[1], reverse=True):\n",
    "    s = 0\n",
    "    for seq_map in seq_maps:\n",
    "        s += seq_map.get(seq, 0)\n",
    "    if s > s_max:\n",
    "        s_max = s"
   ]
  },
  {
   "cell_type": "code",
   "execution_count": 64,
   "metadata": {},
   "outputs": [
    {
     "data": {
      "text/plain": [
       "1667"
      ]
     },
     "execution_count": 64,
     "metadata": {},
     "output_type": "execute_result"
    }
   ],
   "source": [
    "s_max"
   ]
  }
 ],
 "metadata": {
  "kernelspec": {
   "display_name": ".venv",
   "language": "python",
   "name": "python3"
  },
  "language_info": {
   "codemirror_mode": {
    "name": "ipython",
    "version": 3
   },
   "file_extension": ".py",
   "mimetype": "text/x-python",
   "name": "python",
   "nbconvert_exporter": "python",
   "pygments_lexer": "ipython3",
   "version": "3.13.0"
  }
 },
 "nbformat": 4,
 "nbformat_minor": 2
}
