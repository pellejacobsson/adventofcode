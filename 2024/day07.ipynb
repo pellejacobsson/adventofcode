{
 "cells": [
  {
   "cell_type": "code",
   "execution_count": 1,
   "metadata": {},
   "outputs": [],
   "source": [
    "from itertools import product"
   ]
  },
  {
   "cell_type": "code",
   "execution_count": 2,
   "metadata": {},
   "outputs": [],
   "source": [
    "with open(\"07_input.txt\") as f:\n",
    "   eqs = []\n",
    "   for line in f:\n",
    "        l, r = line.strip().split(\":\")\n",
    "        eqs.append([int(l), [int(n) for n in r.split()]])"
   ]
  },
  {
   "cell_type": "code",
   "execution_count": 3,
   "metadata": {},
   "outputs": [],
   "source": [
    "def ops_ok(result, ops, operands):\n",
    "    res = operands[0]\n",
    "    for op, operand in zip(ops, operands[1:]):\n",
    "        res = res * operand if op == \"*\" else res + operand\n",
    "        if res > result:\n",
    "            return False\n",
    "    return res == result"
   ]
  },
  {
   "cell_type": "code",
   "execution_count": 4,
   "metadata": {},
   "outputs": [
    {
     "name": "stdout",
     "output_type": "stream",
     "text": [
      "66343330034722\n"
     ]
    }
   ],
   "source": [
    "correct_res = 0\n",
    "for result, operands in eqs:\n",
    "    n_ops = len(operands) - 1\n",
    "    for ops in product([\"*\", \"+\"], repeat=n_ops):\n",
    "        if ops_ok(result, ops, operands):\n",
    "            correct_res += result\n",
    "            break\n",
    "print(correct_res)"
   ]
  },
  {
   "cell_type": "code",
   "execution_count": 5,
   "metadata": {},
   "outputs": [],
   "source": [
    "def ops_ok2(result, ops, operands):\n",
    "    res = operands[0]\n",
    "    for op, operand in zip(ops, operands[1:]):\n",
    "        if op == \"||\":\n",
    "            res = int(str(res) + str(operand))\n",
    "        elif op == \"*\":\n",
    "            res *= operand\n",
    "        elif op == \"+\":\n",
    "            res += operand\n",
    "        if res > result:\n",
    "            return False\n",
    "    return res == result"
   ]
  },
  {
   "cell_type": "code",
   "execution_count": 6,
   "metadata": {},
   "outputs": [
    {
     "name": "stdout",
     "output_type": "stream",
     "text": [
      "637696070419031\n"
     ]
    }
   ],
   "source": [
    "correct_res = 0\n",
    "for result, operands in eqs:\n",
    "    n_ops = len(operands) - 1\n",
    "    for ops in product([\"*\", \"+\", \"||\"], repeat=n_ops):\n",
    "        if ops_ok2(result, ops, operands):\n",
    "            correct_res += result\n",
    "            break\n",
    "print(correct_res)"
   ]
  }
 ],
 "metadata": {
  "kernelspec": {
   "display_name": ".venv",
   "language": "python",
   "name": "python3"
  },
  "language_info": {
   "codemirror_mode": {
    "name": "ipython",
    "version": 3
   },
   "file_extension": ".py",
   "mimetype": "text/x-python",
   "name": "python",
   "nbconvert_exporter": "python",
   "pygments_lexer": "ipython3",
   "version": "3.13.0"
  }
 },
 "nbformat": 4,
 "nbformat_minor": 2
}
