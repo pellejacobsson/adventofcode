{
 "cells": [
  {
   "cell_type": "code",
   "execution_count": 1,
   "metadata": {},
   "outputs": [],
   "source": [
    "from heapq import heappop, heappush\n",
    "from collections import defaultdict, deque"
   ]
  },
  {
   "cell_type": "code",
   "execution_count": 2,
   "metadata": {},
   "outputs": [],
   "source": [
    "def get_input(filename):\n",
    "    with open(filename) as f:\n",
    "        grid = {}\n",
    "        for i, line in enumerate(f):\n",
    "            for j, s in enumerate(line.strip()):\n",
    "                if s in \"SE.\":\n",
    "                    grid[i, j] = 1\n",
    "                if s == \"S\":\n",
    "                    source = (i, j)\n",
    "                elif s == \"E\":\n",
    "                    target = (i, j)\n",
    "    return grid, source, target\n",
    "\n",
    "def dijkstra(source, target, grid):\n",
    "    rots = {\n",
    "        (0, 1): [(-1, 0), (1, 0)],\n",
    "        (0, -1): [(-1, 0), (1, 0)],\n",
    "        (1, 0): [(0, -1), (0, 1)],\n",
    "        (-1, 0): [(0, -1), (0, 1)]\n",
    "    }\n",
    "    i, j = source\n",
    "    di, dj = 0, 1\n",
    "    cost = {(i, j, di, dj): 0}\n",
    "    pq = [(0, i, j, di, dj)]\n",
    "    prev = {}\n",
    "    while pq:\n",
    "        c, i, j, di, dj = heappop(pq)\n",
    "        if (i, j) == target:\n",
    "            return c, prev, di, dj\n",
    "        ni, nj = i + di, j + dj\n",
    "        if (ni, nj) in grid:\n",
    "            alt = cost[i, j, di, dj] + 1\n",
    "            if (ni, nj, di, dj) not in cost or alt < cost[(ni, nj, di, dj)]:\n",
    "                heappush(pq, (alt, ni, nj, di, dj))\n",
    "                cost[ni, nj, di, dj] = alt\n",
    "                prev[ni, nj, di, dj] = (i, j, di, dj)\n",
    "        for ndi, ndj in rots[di, dj]:\n",
    "            alt = cost[i, j, di, dj] + 1000\n",
    "            if (i, j, ndi, ndj) not in cost or alt < cost[(i, j, ndi, ndj)]:\n",
    "                heappush(pq, (alt, i, j, ndi, ndj))\n",
    "                cost[i, j, ndi, ndj] = alt\n",
    "                prev[i, j, ndi, ndj] = (i, j, di, dj)\n"
   ]
  },
  {
   "cell_type": "code",
   "execution_count": 3,
   "metadata": {},
   "outputs": [
    {
     "name": "stdout",
     "output_type": "stream",
     "text": [
      "91464\n"
     ]
    }
   ],
   "source": [
    "grid, source, target = get_input(\"16_input.txt\")\n",
    "cost, prev, di, dj = dijkstra(source, target, grid)\n",
    "print(cost)"
   ]
  },
  {
   "cell_type": "code",
   "execution_count": 4,
   "metadata": {},
   "outputs": [],
   "source": [
    "def dijkstra2(source, target, grid):\n",
    "    rots = {\n",
    "        (0, 1): [(-1, 0), (1, 0)],\n",
    "        (0, -1): [(-1, 0), (1, 0)],\n",
    "        (1, 0): [(0, -1), (0, 1)],\n",
    "        (-1, 0): [(0, -1), (0, 1)]\n",
    "    }\n",
    "    i, j = source\n",
    "    di, dj = 0, 1\n",
    "    cost = defaultdict(lambda: float(\"inf\"))\n",
    "    cost[(i, j, di, dj)] = 0\n",
    "    pq = [(0, i, j, di, dj)]\n",
    "    prev = defaultdict(set)\n",
    "    while pq:\n",
    "        c, i, j, di, dj = heappop(pq)\n",
    "        if (i, j) == target:\n",
    "            continue\n",
    "\n",
    "        ni, nj = i + di, j + dj\n",
    "        if (ni, nj) in grid:\n",
    "            alt = c + 1\n",
    "            if alt <= cost[(ni, nj, di, dj)]:\n",
    "                if alt < cost[(ni, nj, di, dj)]:\n",
    "                    prev[(ni, nj, di, dj)] = set()\n",
    "                heappush(pq, (alt, ni, nj, di, dj))\n",
    "                cost[(ni, nj, di, dj)] = alt\n",
    "                prev[(ni, nj, di, dj)].add((i, j, di, dj))\n",
    "\n",
    "        for ndi, ndj in rots[di, dj]:\n",
    "            alt = c + 1000\n",
    "            if alt <= cost[(i, j, ndi, ndj)]:\n",
    "                if alt < cost[(i, j, ndi, ndj)]:\n",
    "                    prev[(i, j, ndi, ndj)] = set()\n",
    "                heappush(pq, (alt, i, j, ndi, ndj))\n",
    "                cost[(i, j, ndi, ndj)] = alt\n",
    "                prev[(i, j, ndi, ndj)].add((i, j, di, dj))\n",
    "    return prev, cost\n",
    "\n",
    "def get_path(node, prev):\n",
    "    q = deque()\n",
    "    q.append(([node], node))\n",
    "    all_paths = []\n",
    "    while q:\n",
    "        path, current = q.pop()\n",
    "        if current not in prev or not prev[current]:\n",
    "            all_paths.append([(n[0], n[1]) for n in reversed(path)])\n",
    "            continue\n",
    "        for parent in prev[current]:\n",
    "            if parent not in path:\n",
    "                q.append((path + [parent], parent))\n",
    "    return all_paths\n"
   ]
  },
  {
   "cell_type": "code",
   "execution_count": 5,
   "metadata": {},
   "outputs": [
    {
     "name": "stdout",
     "output_type": "stream",
     "text": [
      "494\n"
     ]
    }
   ],
   "source": [
    "grid, source, target = get_input(\"16_input.txt\")\n",
    "prev, cost = dijkstra2(source, target, grid)\n",
    "min_cost = min(c for t, c in cost.items() if (t[0], t[1]) == target)\n",
    "targets = [u for u, c in cost.items() if c == min_cost]\n",
    "all_paths = []\n",
    "for node in targets:\n",
    "    all_paths.extend(get_path(node, prev))\n",
    "print(len(set([x for y in all_paths for x in y])))"
   ]
  }
 ],
 "metadata": {
  "kernelspec": {
   "display_name": ".venv",
   "language": "python",
   "name": "python3"
  },
  "language_info": {
   "codemirror_mode": {
    "name": "ipython",
    "version": 3
   },
   "file_extension": ".py",
   "mimetype": "text/x-python",
   "name": "python",
   "nbconvert_exporter": "python",
   "pygments_lexer": "ipython3",
   "version": "3.12.7"
  }
 },
 "nbformat": 4,
 "nbformat_minor": 2
}
