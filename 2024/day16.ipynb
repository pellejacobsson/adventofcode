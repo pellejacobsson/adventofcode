{
 "cells": [
  {
   "cell_type": "code",
   "execution_count": 1,
   "metadata": {},
   "outputs": [],
   "source": [
    "from heapq import heappop, heappush"
   ]
  },
  {
   "cell_type": "code",
   "execution_count": 2,
   "metadata": {},
   "outputs": [],
   "source": [
    "def get_input(filename):\n",
    "    with open(filename) as f:\n",
    "        grid = {}\n",
    "        for i, line in enumerate(f):\n",
    "            for j, s in enumerate(line.strip()):\n",
    "                if s in \"SE.\":\n",
    "                    grid[i, j] = 1\n",
    "                if s == \"S\":\n",
    "                    source = (i, j)\n",
    "                elif s == \"E\":\n",
    "                    target = (i, j)\n",
    "    return grid, source, target\n",
    "\n",
    "def dijkstra(source, target, grid):\n",
    "    rots = {\n",
    "        (0, 1): [(-1, 0), (1, 0)],\n",
    "        (0, -1): [(-1, 0), (1, 0)],\n",
    "        (1, 0): [(0, -1), (0, 1)],\n",
    "        (-1, 0): [(0, -1), (0, 1)]\n",
    "    }\n",
    "    i, j = source\n",
    "    di, dj = 0, 1\n",
    "    cost = {(i, j, di, dj): 0}\n",
    "    pq = [(0, i, j, di, dj)]\n",
    "    prev = {}\n",
    "    while pq:\n",
    "        c, i, j, di, dj = heappop(pq)\n",
    "        if (i, j) == target:\n",
    "            return c, prev, di, dj\n",
    "        ni, nj = i + di, j + dj\n",
    "        if (ni, nj) in grid:\n",
    "            alt = cost[i, j, di, dj] + 1\n",
    "            if (ni, nj, di, dj) not in cost or alt < cost[(ni, nj, di, dj)]:\n",
    "                heappush(pq, (alt, ni, nj, di, dj))\n",
    "                cost[ni, nj, di, dj] = alt\n",
    "                prev[ni, nj, di, dj] = (i, j, di, dj)\n",
    "        for ndi, ndj in rots[di, dj]:\n",
    "            alt = cost[i, j, di, dj] + 1000\n",
    "            if (i, j, ndi, ndj) not in cost or alt < cost[(i, j, ndi, ndj)]:\n",
    "                heappush(pq, (alt, i, j, ndi, ndj))\n",
    "                cost[i, j, ndi, ndj] = alt\n",
    "                prev[i, j, ndi, ndj] = (i, j, di, dj)\n"
   ]
  },
  {
   "cell_type": "code",
   "execution_count": 3,
   "metadata": {},
   "outputs": [
    {
     "name": "stdout",
     "output_type": "stream",
     "text": [
      "91464\n"
     ]
    }
   ],
   "source": [
    "grid, source, target = get_input(\"16_input.txt\")\n",
    "cost, prev, di, dj = dijkstra(source, target, grid)\n",
    "print(cost)"
   ]
  },
  {
   "cell_type": "code",
   "execution_count": 6,
   "metadata": {},
   "outputs": [],
   "source": [
    "def dijkstra2(source, target, grid):\n",
    "    rots = {\n",
    "        (0, 1): [(-1, 0), (1, 0)],\n",
    "        (0, -1): [(-1, 0), (1, 0)],\n",
    "        (1, 0): [(0, -1), (0, 1)],\n",
    "        (-1, 0): [(0, -1), (0, 1)]\n",
    "    }\n",
    "    i, j = source\n",
    "    di, dj = 0, 1\n",
    "    cost = {((i, j, di, dj), tuple()): 0}\n",
    "    pq = [(0, (i, j, di, dj), tuple())]\n",
    "    paths = []\n",
    "    while pq:\n",
    "        c, u, path = heappop(pq)\n",
    "        i, j = u[0], u[1]\n",
    "        di, dj = u[2], u[3]\n",
    "        if (i, j) == target:\n",
    "            paths.append(path)\n",
    "        ni, nj = i + di, j + dj\n",
    "        if (ni, nj) in grid:\n",
    "            v = (ni, nj, di, dj)\n",
    "            alt = cost[(u, path)] + 1\n",
    "            if (v, path + (v)) not in cost or alt < cost[(v, path + (v))]:\n",
    "                heappush(pq, (alt, v, path + (v)))\n",
    "                cost[(v, path + (v))] = alt\n",
    "        for ndi, ndj in rots[di, dj]:\n",
    "            w = (i, j, ndi, ndj)\n",
    "            alt = cost[(u, path)] + 1000\n",
    "            if (w, path + (w)) not in cost or alt < cost[(w, path + (w))]:\n",
    "                heappush(pq, (alt, w, path + (w)))\n",
    "                cost[(w, path + (w))] = alt\n",
    "    return paths"
   ]
  },
  {
   "cell_type": "code",
   "execution_count": 7,
   "metadata": {},
   "outputs": [
    {
     "ename": "KeyboardInterrupt",
     "evalue": "",
     "output_type": "error",
     "traceback": [
      "\u001b[0;31m---------------------------------------------------------------------------\u001b[0m",
      "\u001b[0;31mKeyboardInterrupt\u001b[0m                         Traceback (most recent call last)",
      "Cell \u001b[0;32mIn[7], line 2\u001b[0m\n\u001b[1;32m      1\u001b[0m grid, source, target \u001b[38;5;241m=\u001b[39m get_input(\u001b[38;5;124m\"\u001b[39m\u001b[38;5;124m16_testinput.txt\u001b[39m\u001b[38;5;124m\"\u001b[39m)\n\u001b[0;32m----> 2\u001b[0m paths \u001b[38;5;241m=\u001b[39m \u001b[43mdijkstra2\u001b[49m\u001b[43m(\u001b[49m\u001b[43msource\u001b[49m\u001b[43m,\u001b[49m\u001b[43m \u001b[49m\u001b[43mtarget\u001b[49m\u001b[43m,\u001b[49m\u001b[43m \u001b[49m\u001b[43mgrid\u001b[49m\u001b[43m)\u001b[49m\n",
      "Cell \u001b[0;32mIn[6], line 24\u001b[0m, in \u001b[0;36mdijkstra2\u001b[0;34m(source, target, grid)\u001b[0m\n\u001b[1;32m     22\u001b[0m     alt \u001b[38;5;241m=\u001b[39m cost[(u, path)] \u001b[38;5;241m+\u001b[39m \u001b[38;5;241m1\u001b[39m\n\u001b[1;32m     23\u001b[0m     \u001b[38;5;28;01mif\u001b[39;00m (v, path \u001b[38;5;241m+\u001b[39m (v)) \u001b[38;5;129;01mnot\u001b[39;00m \u001b[38;5;129;01min\u001b[39;00m cost \u001b[38;5;129;01mor\u001b[39;00m alt \u001b[38;5;241m<\u001b[39m cost[(v, path \u001b[38;5;241m+\u001b[39m (v))]:\n\u001b[0;32m---> 24\u001b[0m         \u001b[43mheappush\u001b[49m\u001b[43m(\u001b[49m\u001b[43mpq\u001b[49m\u001b[43m,\u001b[49m\u001b[43m \u001b[49m\u001b[43m(\u001b[49m\u001b[43malt\u001b[49m\u001b[43m,\u001b[49m\u001b[43m \u001b[49m\u001b[43mv\u001b[49m\u001b[43m,\u001b[49m\u001b[43m \u001b[49m\u001b[43mpath\u001b[49m\u001b[43m \u001b[49m\u001b[38;5;241;43m+\u001b[39;49m\u001b[43m \u001b[49m\u001b[43m(\u001b[49m\u001b[43mv\u001b[49m\u001b[43m)\u001b[49m\u001b[43m)\u001b[49m\u001b[43m)\u001b[49m\n\u001b[1;32m     25\u001b[0m         cost[(v, path \u001b[38;5;241m+\u001b[39m (v))] \u001b[38;5;241m=\u001b[39m alt\n\u001b[1;32m     26\u001b[0m \u001b[38;5;28;01mfor\u001b[39;00m ndi, ndj \u001b[38;5;129;01min\u001b[39;00m rots[di, dj]:\n",
      "\u001b[0;31mKeyboardInterrupt\u001b[0m: "
     ]
    }
   ],
   "source": [
    "grid, source, target = get_input(\"16_testinput.txt\")\n",
    "paths = dijkstra2(source, target, grid)"
   ]
  },
  {
   "cell_type": "code",
   "execution_count": 125,
   "metadata": {},
   "outputs": [
    {
     "data": {
      "text/plain": [
       "[(1, 13, -1, 0)]"
      ]
     },
     "execution_count": 125,
     "metadata": {},
     "output_type": "execute_result"
    }
   ],
   "source": [
    "targets"
   ]
  },
  {
   "cell_type": "code",
   "execution_count": 133,
   "metadata": {},
   "outputs": [
    {
     "ename": "KeyError",
     "evalue": "(13, 1, 0, 1)",
     "output_type": "error",
     "traceback": [
      "\u001b[0;31m---------------------------------------------------------------------------\u001b[0m",
      "\u001b[0;31mKeyError\u001b[0m                                  Traceback (most recent call last)",
      "Cell \u001b[0;32mIn[133], line 10\u001b[0m\n\u001b[1;32m      7\u001b[0m     \u001b[38;5;28;01mcontinue\u001b[39;00m\n\u001b[1;32m      8\u001b[0m \u001b[38;5;66;03m# if node not in prev:\u001b[39;00m\n\u001b[1;32m      9\u001b[0m \u001b[38;5;66;03m#     continue\u001b[39;00m\n\u001b[0;32m---> 10\u001b[0m \u001b[38;5;28;01mfor\u001b[39;00m pred \u001b[38;5;129;01min\u001b[39;00m \u001b[43mprev\u001b[49m\u001b[43m[\u001b[49m\u001b[43mnode\u001b[49m\u001b[43m]\u001b[49m:\n\u001b[1;32m     11\u001b[0m     stack\u001b[38;5;241m.\u001b[39mappend((pred, path \u001b[38;5;241m+\u001b[39m [pred]))\n",
      "\u001b[0;31mKeyError\u001b[0m: (13, 1, 0, 1)"
     ]
    }
   ],
   "source": [
    "stack = [(target, [target])]\n",
    "paths = []\n",
    "while stack:\n",
    "    node, path = stack.pop()\n",
    "    if node == source:\n",
    "        paths.append(path[::-1])\n",
    "        continue\n",
    "    # if node not in prev:\n",
    "    #     continue\n",
    "    for pred in prev[node]:\n",
    "        stack.append((pred, path + [pred]))"
   ]
  },
  {
   "cell_type": "code",
   "execution_count": 130,
   "metadata": {},
   "outputs": [
    {
     "data": {
      "text/plain": [
       "[]"
      ]
     },
     "execution_count": 130,
     "metadata": {},
     "output_type": "execute_result"
    }
   ],
   "source": [
    "paths"
   ]
  },
  {
   "cell_type": "code",
   "execution_count": 119,
   "metadata": {},
   "outputs": [
    {
     "data": {
      "text/plain": [
       "37"
      ]
     },
     "execution_count": 119,
     "metadata": {},
     "output_type": "execute_result"
    }
   ],
   "source": [
    "len(set([(i, j) for (i, j, di, dj) in s]))"
   ]
  },
  {
   "cell_type": "code",
   "execution_count": 134,
   "metadata": {},
   "outputs": [
    {
     "data": {
      "text/plain": [
       "(1, 2, 3, 4)"
      ]
     },
     "execution_count": 134,
     "metadata": {},
     "output_type": "execute_result"
    }
   ],
   "source": [
    "(1, 2) + (3, 4)"
   ]
  },
  {
   "cell_type": "code",
   "execution_count": null,
   "metadata": {},
   "outputs": [],
   "source": []
  }
 ],
 "metadata": {
  "kernelspec": {
   "display_name": ".venv",
   "language": "python",
   "name": "python3"
  },
  "language_info": {
   "codemirror_mode": {
    "name": "ipython",
    "version": 3
   },
   "file_extension": ".py",
   "mimetype": "text/x-python",
   "name": "python",
   "nbconvert_exporter": "python",
   "pygments_lexer": "ipython3",
   "version": "3.13.0"
  }
 },
 "nbformat": 4,
 "nbformat_minor": 2
}
