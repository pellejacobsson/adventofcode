{
 "cells": [
  {
   "cell_type": "code",
   "execution_count": 1,
   "metadata": {},
   "outputs": [],
   "source": [
    "from itertools import product\n",
    "from functools import cache"
   ]
  },
  {
   "cell_type": "code",
   "execution_count": 2,
   "metadata": {},
   "outputs": [],
   "source": [
    "arrow_pad = {\n",
    "    \"A^\": [\"<\"],\n",
    "    \"A>\": [\"v\"],\n",
    "    \"Av\": [\"v<\", \"<v\"],\n",
    "    \"A<\": [\"v<<\"],\n",
    "    \"^A\": [\">\"],\n",
    "    \"^>\": [\"v>\", \">v\"],\n",
    "    \"^v\": [\"v\"],\n",
    "    \"^<\": [\"v<\"],\n",
    "    \"vA\": [\">^\", \"^>\"],\n",
    "    \"v^\": [\"^\"],\n",
    "    \"v>\": [\">\"],\n",
    "    \"v<\": [\"<\"],\n",
    "    \">A\": [\"^\"],\n",
    "    \">^\": [\"<^\", \"^<\"],\n",
    "    \">v\": [\"<\"],\n",
    "    \"><\": [\"<<\"],\n",
    "    \"<A\": [\">>^\"],\n",
    "    \"<>\": [\">>\"],\n",
    "    \"<^\": [\">^\"],\n",
    "    \"<v\": [\">\"],\n",
    "    \"AA\": [\"\"],\n",
    "    \"^^\": [\"\"],\n",
    "    \"<<\": [\"\"],\n",
    "    \">>\": [\"\"],\n",
    "    \"vv\": [\"\"]\n",
    "}"
   ]
  },
  {
   "cell_type": "code",
   "execution_count": 3,
   "metadata": {},
   "outputs": [],
   "source": [
    "def moves(s, n_pads):\n",
    "    if n_pads == 0:\n",
    "        return [s]\n",
    "    pairs = [a + b for a, b in zip(\"A\" + s, s)]\n",
    "    expansions_per_pair = []\n",
    "    for sub_move in pairs:\n",
    "        expansions = arrow_pad[sub_move]\n",
    "        expansions_per_pair.append(expansions)\n",
    "\n",
    "    results = []\n",
    "    for combo in product(*expansions_per_pair):\n",
    "        new_string = \"\".join(item + \"A\" for item in combo)\n",
    "        results.extend(moves(new_string, n_pads - 1))\n",
    "    return results"
   ]
  },
  {
   "cell_type": "code",
   "execution_count": 4,
   "metadata": {},
   "outputs": [],
   "source": [
    "codes = [\n",
    "    [\n",
    "        \"^<A^^Av>AvvA\",\n",
    "        \"^<A^^A>vAvvA\",\n",
    "        \"<^A^^Av>AvvA\",\n",
    "        \"<^A^^A>vAvvA\"\n",
    "    ],\n",
    "    [\n",
    "        \"^^^A<<AvA>>vvA\",\n",
    "    ],\n",
    "    [\n",
    "        \"^<<A>^^A>AvvvA\",\n",
    "        \"^<<A^^>A>AvvvA\",\n",
    "    ],\n",
    "    [\n",
    "        \"<^^^AvvvA^A>vA\",\n",
    "        \"<^^^AvvvA^Av>A\",\n",
    "        \"^^^<AvvvA^A>vA\",\n",
    "        \"^^^<AvvvA^Av>A\",\n",
    "    ],\n",
    "    [\n",
    "        \"<^^^AvvvA^^A>vvA\",\n",
    "        \"<^^^AvvvA^^Avv>A\",\n",
    "        \"^^^<AvvvA^^A>vvA\",\n",
    "        \"^^^<AvvvA^^Avv>A\",\n",
    "    ]\n",
    "]\n",
    "ns = [286, 974, 189, 802, 805]"
   ]
  },
  {
   "cell_type": "code",
   "execution_count": 5,
   "metadata": {},
   "outputs": [
    {
     "name": "stdout",
     "output_type": "stream",
     "text": [
      "68 * 286 = 19448\n",
      "72 * 974 = 70128\n",
      "74 * 189 = 13986\n",
      "70 * 802 = 56140\n",
      "72 * 805 = 57960\n"
     ]
    }
   ],
   "source": [
    "s = 0\n",
    "for code_comb, n in zip(codes, ns):\n",
    "    min_move_len = 1e6\n",
    "    for code in code_comb:\n",
    "        move_list = moves(code, 2)\n",
    "        move_len = min(len(x) for x in move_list)\n",
    "        if move_len < min_move_len:\n",
    "            min_move_len = move_len\n",
    "    print(f\"{min_move_len} * {n} = {n * min_move_len}\")\n",
    "    s += n * min_move_len"
   ]
  },
  {
   "cell_type": "code",
   "execution_count": 6,
   "metadata": {},
   "outputs": [
    {
     "data": {
      "text/plain": [
       "217662"
      ]
     },
     "execution_count": 6,
     "metadata": {},
     "output_type": "execute_result"
    }
   ],
   "source": [
    "s"
   ]
  },
  {
   "cell_type": "code",
   "execution_count": 7,
   "metadata": {},
   "outputs": [],
   "source": [
    "arrow_pad2 = {k: [w + \"A\" for w in v] for k, v in arrow_pad.items()}\n",
    "arrow_pad_len = {k: len(v[0]) for k, v in arrow_pad2.items()}"
   ]
  },
  {
   "cell_type": "code",
   "execution_count": 8,
   "metadata": {},
   "outputs": [],
   "source": [
    "@cache\n",
    "def calc_move_len(move, depth):\n",
    "    pairs = [a + b for a, b in zip(\"A\" + move, move)]\n",
    "    if depth == 1:\n",
    "        return sum([arrow_pad_len[seq] for seq in pairs])\n",
    "    length = 0\n",
    "    for sub_move in pairs:\n",
    "        length += min(calc_move_len(seq, depth - 1) for seq in arrow_pad2[sub_move])\n",
    "    return length"
   ]
  },
  {
   "cell_type": "code",
   "execution_count": 9,
   "metadata": {},
   "outputs": [
    {
     "name": "stdout",
     "output_type": "stream",
     "text": [
      "86475783008 * 286 = 24732073940288\n",
      "85006969638 * 974 = 82796788427412\n",
      "90594397580 * 189 = 17122341142620\n",
      "86475783010 * 802 = 69353577974020\n",
      "86475783012 * 805 = 69613005324660\n"
     ]
    }
   ],
   "source": [
    "s = 0\n",
    "for code_comb, n in zip(codes, ns):\n",
    "    min_move_len = min(calc_move_len(code, 25) for code in code_comb)\n",
    "    print(f\"{min_move_len} * {n} = {n * min_move_len}\")\n",
    "    s += n * min_move_len"
   ]
  },
  {
   "cell_type": "code",
   "execution_count": 10,
   "metadata": {},
   "outputs": [
    {
     "data": {
      "text/plain": [
       "263617786809000"
      ]
     },
     "execution_count": 10,
     "metadata": {},
     "output_type": "execute_result"
    }
   ],
   "source": [
    "s"
   ]
  }
 ],
 "metadata": {
  "kernelspec": {
   "display_name": ".venv",
   "language": "python",
   "name": "python3"
  },
  "language_info": {
   "codemirror_mode": {
    "name": "ipython",
    "version": 3
   },
   "file_extension": ".py",
   "mimetype": "text/x-python",
   "name": "python",
   "nbconvert_exporter": "python",
   "pygments_lexer": "ipython3",
   "version": "3.13.0"
  }
 },
 "nbformat": 4,
 "nbformat_minor": 2
}
