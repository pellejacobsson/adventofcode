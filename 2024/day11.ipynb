{
 "cells": [
  {
   "cell_type": "code",
   "execution_count": 19,
   "metadata": {},
   "outputs": [],
   "source": [
    "from collections import defaultdict"
   ]
  },
  {
   "cell_type": "code",
   "execution_count": 3,
   "metadata": {},
   "outputs": [
    {
     "name": "stdout",
     "output_type": "stream",
     "text": [
      "198075\n"
     ]
    }
   ],
   "source": [
    "stones = [2701, 64945, 0, 9959979, 93, 781524, 620, 1]\n",
    "n_blinks = 25\n",
    "for blink in range(n_blinks):\n",
    "    new_stones = []\n",
    "    for stone in stones:\n",
    "        if stone == 0:\n",
    "            new_stones.append(1)\n",
    "        else:\n",
    "            s_stone = str(stone)\n",
    "            l = len(s_stone)\n",
    "            if l % 2 == 0:\n",
    "                stone1, stone2 = int(s_stone[:l//2]), int(s_stone[l//2:])\n",
    "                new_stones.append(stone1)\n",
    "                new_stones.append(stone2)\n",
    "            else:\n",
    "                new_stones.append(stone * 2024)\n",
    "    stones = new_stones.copy()\n",
    "print(len(stones))"
   ]
  },
  {
   "cell_type": "code",
   "execution_count": null,
   "metadata": {},
   "outputs": [
    {
     "data": {
      "text/plain": [
       "235571309320764"
      ]
     },
     "execution_count": 52,
     "metadata": {},
     "output_type": "execute_result"
    }
   ],
   "source": [
    "stone_list = [2701, 64945, 0, 9959979, 93, 781524, 620, 1]\n",
    "stones = defaultdict(int)\n",
    "for stone in stone_list:\n",
    "    stones[stone] = 1\n",
    "n_blinks = 75\n",
    "for blink in range(n_blinks):\n",
    "    new_stones = stones.copy()\n",
    "    for stone, n_stones in stones.items():\n",
    "        if stone == 0:\n",
    "            new_stones[1] += n_stones\n",
    "        else:\n",
    "            s_stone = str(stone)\n",
    "            l = len(s_stone)\n",
    "            if l % 2 == 0:\n",
    "                stone1, stone2 = int(s_stone[:l//2]), int(s_stone[l//2:])\n",
    "                new_stones[stone1] += n_stones\n",
    "                new_stones[stone2] += n_stones\n",
    "            else:\n",
    "                new_stones[stone * 2024] += n_stones\n",
    "        new_stones[stone] -= n_stones\n",
    "    stones = new_stones\n",
    "sum(stones.values())"
   ]
  }
 ],
 "metadata": {
  "kernelspec": {
   "display_name": ".venv",
   "language": "python",
   "name": "python3"
  },
  "language_info": {
   "codemirror_mode": {
    "name": "ipython",
    "version": 3
   },
   "file_extension": ".py",
   "mimetype": "text/x-python",
   "name": "python",
   "nbconvert_exporter": "python",
   "pygments_lexer": "ipython3",
   "version": "3.13.0"
  }
 },
 "nbformat": 4,
 "nbformat_minor": 2
}
