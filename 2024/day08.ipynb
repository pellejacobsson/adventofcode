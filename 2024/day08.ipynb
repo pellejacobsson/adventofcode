{
 "cells": [
  {
   "cell_type": "code",
   "execution_count": 1,
   "metadata": {},
   "outputs": [],
   "source": [
    "from itertools import combinations"
   ]
  },
  {
   "cell_type": "code",
   "execution_count": 2,
   "metadata": {},
   "outputs": [],
   "source": [
    "with open(\"08_input.txt\", \"r\") as f:\n",
    "    antennas = {}\n",
    "    for i, line in enumerate(f):\n",
    "        for j, c in enumerate(line.strip()):\n",
    "            if c == \".\":\n",
    "                continue\n",
    "            if c in antennas:\n",
    "                antennas[c].append((i, j))\n",
    "            else:\n",
    "                antennas[c] = [(i, j)]\n",
    "    i_max = i\n",
    "    j_max = j"
   ]
  },
  {
   "cell_type": "code",
   "execution_count": 3,
   "metadata": {},
   "outputs": [
    {
     "name": "stdout",
     "output_type": "stream",
     "text": [
      "381\n"
     ]
    }
   ],
   "source": [
    "antinodes = set()\n",
    "for ant_type, ant_pos_list in antennas.items():\n",
    "    for (i1, j1), (i2, j2) in combinations(ant_pos_list, 2):\n",
    "        di = i1 - i2\n",
    "        dj = j1 - j2\n",
    "        antinodes.add((i1 + di, j1 + dj))\n",
    "        antinodes.add((i1 - 2 * di, j1 - 2 * dj))\n",
    "print(len([p for p in antinodes if 0 <= p[0] <= i_max and 0 <= p[1] <= j_max]))"
   ]
  },
  {
   "cell_type": "code",
   "execution_count": 4,
   "metadata": {},
   "outputs": [
    {
     "name": "stdout",
     "output_type": "stream",
     "text": [
      "1184\n"
     ]
    }
   ],
   "source": [
    "antinodes = set()\n",
    "for ant_type, ant_pos_list in antennas.items():\n",
    "    for (i1, j1), (i2, j2) in combinations(ant_pos_list, 2):\n",
    "        di = i1 - i2\n",
    "        dj = j1 - j2\n",
    "        ni, nj = i1, j1\n",
    "        n = 0\n",
    "        while 0 <= ni <= i_max and 0 <= nj <= j_max:\n",
    "            antinodes.add((ni, nj))\n",
    "            n += 1\n",
    "            ni = i1 + n * di\n",
    "            nj = j1 + n * dj\n",
    "        ni, nj = i2, j2\n",
    "        n = 0\n",
    "        while 0 <= ni <= i_max and 0 <= nj <= j_max:\n",
    "            antinodes.add((ni, nj))\n",
    "            n += 1\n",
    "            ni = i2 - n * di\n",
    "            nj = j2 - n * dj\n",
    "print(len(antinodes))"
   ]
  }
 ],
 "metadata": {
  "kernelspec": {
   "display_name": ".venv",
   "language": "python",
   "name": "python3"
  },
  "language_info": {
   "codemirror_mode": {
    "name": "ipython",
    "version": 3
   },
   "file_extension": ".py",
   "mimetype": "text/x-python",
   "name": "python",
   "nbconvert_exporter": "python",
   "pygments_lexer": "ipython3",
   "version": "3.13.0"
  }
 },
 "nbformat": 4,
 "nbformat_minor": 2
}
