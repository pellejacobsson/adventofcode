{
 "cells": [
  {
   "cell_type": "code",
   "execution_count": 1,
   "metadata": {},
   "outputs": [],
   "source": [
    "with open(\"06_input.txt\", \"r\") as f:\n",
    "    grid = {}\n",
    "    for i, line in enumerate(f):\n",
    "        for j, c in enumerate(line.strip()):\n",
    "            if c == \"#\":\n",
    "                grid[i, j] = 1\n",
    "            elif c == \"^\":\n",
    "                i_start, j_start = i, j"
   ]
  },
  {
   "cell_type": "code",
   "execution_count": 2,
   "metadata": {},
   "outputs": [
    {
     "name": "stdout",
     "output_type": "stream",
     "text": [
      "5329\n"
     ]
    }
   ],
   "source": [
    "i_max = max(x[0] for x in grid)\n",
    "j_max = max(x[1] for x in grid)\n",
    "turn = {\"n\": \"e\", \"e\": \"s\", \"s\": \"w\", \"w\": \"n\"}\n",
    "dir_step = {\"n\": (-1, 0), \"e\": (0, 1), \"s\": (1, 0), \"w\": (0, -1)}\n",
    "i, j = i_start, j_start\n",
    "dir = \"n\"\n",
    "visited = set()\n",
    "while True:\n",
    "    visited.add((i, j))\n",
    "    di, dj = dir_step[dir]\n",
    "    ni, nj = i + di, j + dj\n",
    "    if ni < 0 or ni > i_max or nj < 0 or nj > j_max:\n",
    "        break\n",
    "    if (ni, nj) in grid:\n",
    "        dir = turn[dir]\n",
    "    else:\n",
    "        i, j = ni, nj\n",
    "print(len(visited))"
   ]
  },
  {
   "cell_type": "code",
   "execution_count": 7,
   "metadata": {},
   "outputs": [],
   "source": [
    "grid_orig = grid.copy()"
   ]
  },
  {
   "cell_type": "code",
   "execution_count": 8,
   "metadata": {},
   "outputs": [
    {
     "name": "stdout",
     "output_type": "stream",
     "text": [
      "2162\n"
     ]
    }
   ],
   "source": [
    "i_max = max(x[0] for x in grid)\n",
    "j_max = max(x[1] for x in grid)\n",
    "turn = {\"n\": \"e\", \"e\": \"s\", \"s\": \"w\", \"w\": \"n\"}\n",
    "dir_step = {\"n\": (-1, 0), \"e\": (0, 1), \"s\": (1, 0), \"w\": (0, -1)}\n",
    "obstacles = 0\n",
    "for io, jo in visited:\n",
    "    if io == i_start and jo == j_start:\n",
    "        continue\n",
    "    if (io, jo) not in grid:\n",
    "        grid[io, jo] = 1\n",
    "    i, j = i_start, j_start\n",
    "    dir = \"n\"\n",
    "    visited2 = set()\n",
    "    while True:\n",
    "        if (dir, i, j) in visited2:\n",
    "            obstacles += 1\n",
    "            break\n",
    "        visited2.add((dir, i, j))\n",
    "        di, dj = dir_step[dir]\n",
    "        ni, nj = i + di, j + dj\n",
    "        if ni < 0 or ni > i_max or nj < 0 or nj > j_max:\n",
    "            break\n",
    "        if (ni, nj) in grid:\n",
    "            dir = turn[dir]\n",
    "        else:\n",
    "            i, j = ni, nj\n",
    "    grid.pop((io, jo))\n",
    "print(obstacles)"
   ]
  }
 ],
 "metadata": {
  "kernelspec": {
   "display_name": ".venv",
   "language": "python",
   "name": "python3"
  },
  "language_info": {
   "codemirror_mode": {
    "name": "ipython",
    "version": 3
   },
   "file_extension": ".py",
   "mimetype": "text/x-python",
   "name": "python",
   "nbconvert_exporter": "python",
   "pygments_lexer": "ipython3",
   "version": "3.13.0"
  }
 },
 "nbformat": 4,
 "nbformat_minor": 2
}
