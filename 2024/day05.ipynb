{
 "cells": [
  {
   "cell_type": "code",
   "execution_count": 1,
   "metadata": {},
   "outputs": [],
   "source": [
    "with open(\"05_input.txt\", \"r\") as f:\n",
    "    orders, updates = f.read().split(\"\\n\\n\")\n",
    "    orders = [[int(x) for x in s.split(\"|\")] for s in orders.split(\"\\n\")]\n",
    "    updates = [[int(x) for x in s.split(\",\")] for s in updates.strip().split(\"\\n\")]"
   ]
  },
  {
   "cell_type": "code",
   "execution_count": 2,
   "metadata": {},
   "outputs": [],
   "source": [
    "after = {}\n",
    "for n1, n2 in orders:\n",
    "    if n1 in after:\n",
    "        after[n1].append(n2)\n",
    "    else:\n",
    "        after[n1] = [n2]\n",
    "\n",
    "def less_than(m, n):\n",
    "    return n not in after or m not in after[n]"
   ]
  },
  {
   "cell_type": "code",
   "execution_count": 3,
   "metadata": {},
   "outputs": [],
   "source": [
    "printed = []\n",
    "not_printed = []\n",
    "for j, update in enumerate(updates):\n",
    "    valid = True\n",
    "    for i in range(len(update) - 1):\n",
    "        if less_than(update[i + 1], update[i]):\n",
    "            valid = False\n",
    "            break\n",
    "    if valid:\n",
    "        printed.append(update)\n",
    "    else:\n",
    "        not_printed.append(update)"
   ]
  },
  {
   "cell_type": "code",
   "execution_count": 4,
   "metadata": {},
   "outputs": [
    {
     "name": "stdout",
     "output_type": "stream",
     "text": [
      "6267\n"
     ]
    }
   ],
   "source": [
    "s = 0\n",
    "for update in printed:\n",
    "    m = len(update) // 2\n",
    "    s += update[m]\n",
    "print(s)"
   ]
  },
  {
   "cell_type": "code",
   "execution_count": 5,
   "metadata": {},
   "outputs": [],
   "source": [
    "for update in not_printed:\n",
    "    for i in range(len(update) - 1):\n",
    "        j = i\n",
    "        while j >= 0 and less_than(update[j + 1], update[j]):\n",
    "            update[j], update[j + 1] = update[j + 1], update[j]\n",
    "            j -= 1"
   ]
  },
  {
   "cell_type": "code",
   "execution_count": 6,
   "metadata": {},
   "outputs": [
    {
     "name": "stdout",
     "output_type": "stream",
     "text": [
      "5184\n"
     ]
    }
   ],
   "source": [
    "s = 0\n",
    "for update in not_printed:\n",
    "    m = len(update) // 2\n",
    "    s += update[m]\n",
    "print(s)"
   ]
  }
 ],
 "metadata": {
  "kernelspec": {
   "display_name": ".venv",
   "language": "python",
   "name": "python3"
  },
  "language_info": {
   "codemirror_mode": {
    "name": "ipython",
    "version": 3
   },
   "file_extension": ".py",
   "mimetype": "text/x-python",
   "name": "python",
   "nbconvert_exporter": "python",
   "pygments_lexer": "ipython3",
   "version": "3.12.7"
  }
 },
 "nbformat": 4,
 "nbformat_minor": 2
}
