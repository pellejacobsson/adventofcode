{
 "cells": [
  {
   "cell_type": "code",
   "execution_count": 1,
   "metadata": {},
   "outputs": [],
   "source": [
    "import re"
   ]
  },
  {
   "cell_type": "code",
   "execution_count": 2,
   "metadata": {},
   "outputs": [],
   "source": [
    "with open(\"03_input.txt\", \"r\") as f:\n",
    "    program = \"\".join(line.strip() for line in f)"
   ]
  },
  {
   "cell_type": "code",
   "execution_count": 3,
   "metadata": {},
   "outputs": [
    {
     "name": "stdout",
     "output_type": "stream",
     "text": [
      "170778545\n"
     ]
    }
   ],
   "source": [
    "s = 0\n",
    "for op in re.findall(r\"mul\\((\\d{1,3},\\d{1,3})\\)\", program):\n",
    "    n1, n2 = [int(n) for n in op.split(\",\")]\n",
    "    s += n1 * n2\n",
    "print(s)"
   ]
  },
  {
   "cell_type": "code",
   "execution_count": 4,
   "metadata": {},
   "outputs": [
    {
     "name": "stdout",
     "output_type": "stream",
     "text": [
      "82868252\n"
     ]
    }
   ],
   "source": [
    "s = 0\n",
    "enabled = True\n",
    "for op in re.findall(r\"(mul\\(\\d{1,3},\\d{1,3}\\)|do\\(\\)|don't\\(\\))\", program):\n",
    "    if enabled and op.startswith(\"mul\"):\n",
    "        p1, p2 = op.split(\",\")\n",
    "        n1 = int(p1[4:])\n",
    "        n2 = int(p2[:-1])\n",
    "        s += n1 * n2\n",
    "    elif enabled and op == \"don't()\":\n",
    "        enabled = False\n",
    "    elif (not enabled) and op == \"do()\":\n",
    "        enabled = True\n",
    "print(s)"
   ]
  }
 ],
 "metadata": {
  "kernelspec": {
   "display_name": ".venv",
   "language": "python",
   "name": "python3"
  },
  "language_info": {
   "codemirror_mode": {
    "name": "ipython",
    "version": 3
   },
   "file_extension": ".py",
   "mimetype": "text/x-python",
   "name": "python",
   "nbconvert_exporter": "python",
   "pygments_lexer": "ipython3",
   "version": "3.13.0"
  }
 },
 "nbformat": 4,
 "nbformat_minor": 2
}
