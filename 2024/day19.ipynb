{
 "cells": [
  {
   "cell_type": "code",
   "execution_count": 54,
   "metadata": {},
   "outputs": [],
   "source": [
    "with open(\"19_input.txt\", \"r\") as f:\n",
    "    towels, patterns= f.read().split(\"\\n\\n\")\n",
    "    towels = towels.split(\", \")\n",
    "    patterns = patterns.splitlines()"
   ]
  },
  {
   "cell_type": "code",
   "execution_count": 40,
   "metadata": {},
   "outputs": [],
   "source": [
    "def can_make_pattern(towels, pattern):\n",
    "    if not pattern:\n",
    "        return True\n",
    "    for towel in towels:\n",
    "        n_stripes = len(towel)\n",
    "        if towel == pattern[:n_stripes]:\n",
    "            if can_make_pattern(towels, pattern[n_stripes:]):\n",
    "                return True\n",
    "    return False"
   ]
  },
  {
   "cell_type": "code",
   "execution_count": 41,
   "metadata": {},
   "outputs": [
    {
     "name": "stdout",
     "output_type": "stream",
     "text": [
      "285\n"
     ]
    }
   ],
   "source": [
    "s = 0\n",
    "for pattern in patterns:\n",
    "    if can_make_pattern(towels, pattern):\n",
    "        s += 1\n",
    "print(s)"
   ]
  },
  {
   "cell_type": "code",
   "execution_count": 56,
   "metadata": {},
   "outputs": [],
   "source": [
    "mem = {}\n",
    "def n_comb(towels, pattern):\n",
    "    if not pattern:\n",
    "        return 1\n",
    "    if pattern in mem:\n",
    "        return mem[pattern]\n",
    "    n_towels = 0\n",
    "    for towel in towels:\n",
    "        n_stripes = len(towel)\n",
    "        if towel == pattern[:n_stripes]:\n",
    "            n_towels += n_comb(towels, pattern[n_stripes:])\n",
    "    mem[pattern] = n_towels\n",
    "    return n_towels"
   ]
  },
  {
   "cell_type": "code",
   "execution_count": 57,
   "metadata": {},
   "outputs": [
    {
     "name": "stdout",
     "output_type": "stream",
     "text": [
      "636483903099279\n"
     ]
    }
   ],
   "source": [
    "s = 0\n",
    "for pattern in patterns:\n",
    "    s += n_comb(towels, pattern)\n",
    "print(s)"
   ]
  }
 ],
 "metadata": {
  "kernelspec": {
   "display_name": ".venv",
   "language": "python",
   "name": "python3"
  },
  "language_info": {
   "codemirror_mode": {
    "name": "ipython",
    "version": 3
   },
   "file_extension": ".py",
   "mimetype": "text/x-python",
   "name": "python",
   "nbconvert_exporter": "python",
   "pygments_lexer": "ipython3",
   "version": "3.12.4"
  }
 },
 "nbformat": 4,
 "nbformat_minor": 2
}
