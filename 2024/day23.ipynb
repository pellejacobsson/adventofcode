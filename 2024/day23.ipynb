{
 "cells": [
  {
   "cell_type": "code",
   "execution_count": 35,
   "metadata": {},
   "outputs": [],
   "source": [
    "from itertools import combinations"
   ]
  },
  {
   "cell_type": "code",
   "execution_count": 83,
   "metadata": {},
   "outputs": [],
   "source": [
    "with open(\"23_input.txt\", \"r\") as f:\n",
    "    conn = {}\n",
    "    for line in f:\n",
    "        c1, c2 = line.strip().split(\"-\")\n",
    "        conn[c1, c2] = 1\n",
    "        conn[c2, c1] = 1"
   ]
  },
  {
   "cell_type": "code",
   "execution_count": 84,
   "metadata": {},
   "outputs": [],
   "source": [
    "nodes = set(node for edge in conn for node in edge)"
   ]
  },
  {
   "cell_type": "code",
   "execution_count": 85,
   "metadata": {},
   "outputs": [],
   "source": [
    "threes = set()\n",
    "for u, v, w in combinations(nodes, 3):\n",
    "    if (u, v) in conn and (v, w) in conn and (u, w) in conn:\n",
    "        threes.add((u, v, w))"
   ]
  },
  {
   "cell_type": "code",
   "execution_count": 86,
   "metadata": {},
   "outputs": [],
   "source": [
    "s = 0\n",
    "for group in threes:\n",
    "    for computer in group:\n",
    "        if computer.startswith(\"t\"):\n",
    "            s += 1\n",
    "            break"
   ]
  },
  {
   "cell_type": "code",
   "execution_count": 87,
   "metadata": {},
   "outputs": [
    {
     "data": {
      "text/plain": [
       "1163"
      ]
     },
     "execution_count": 87,
     "metadata": {},
     "output_type": "execute_result"
    }
   ],
   "source": [
    "s"
   ]
  },
  {
   "cell_type": "code",
   "execution_count": 89,
   "metadata": {},
   "outputs": [],
   "source": [
    "def bron_kerbosch(r, p, x, neighbors, cliques):\n",
    "    if not p and not x:\n",
    "        cliques.append(r)\n",
    "        return\n",
    "    for v in list(p):\n",
    "        bron_kerbosch(\n",
    "            r.union({v}),\n",
    "            p.intersection(neighbors[v]),\n",
    "            x.intersection(neighbors[v]),\n",
    "            neighbors,\n",
    "            cliques\n",
    "        )\n",
    "        p.remove(v)\n",
    "        x.add(v)"
   ]
  },
  {
   "cell_type": "code",
   "execution_count": 91,
   "metadata": {},
   "outputs": [],
   "source": [
    "neighbors = {node: set() for node in nodes}\n",
    "for u, v in conn:\n",
    "    neighbors[u].add(v)\n",
    "    neighbors[v].add(u)\n"
   ]
  },
  {
   "cell_type": "code",
   "execution_count": 92,
   "metadata": {},
   "outputs": [],
   "source": [
    "cliques = []\n",
    "bron_kerbosch(set(), set(nodes), set(), neighbors, cliques)"
   ]
  },
  {
   "cell_type": "code",
   "execution_count": 96,
   "metadata": {},
   "outputs": [
    {
     "data": {
      "text/plain": [
       "'bm,bo,ee,fo,gt,hv,jv,kd,md,mu,nm,wx,xh'"
      ]
     },
     "execution_count": 96,
     "metadata": {},
     "output_type": "execute_result"
    }
   ],
   "source": [
    "\",\".join(sorted(max(cliques, key=len)))"
   ]
  }
 ],
 "metadata": {
  "kernelspec": {
   "display_name": ".venv",
   "language": "python",
   "name": "python3"
  },
  "language_info": {
   "codemirror_mode": {
    "name": "ipython",
    "version": 3
   },
   "file_extension": ".py",
   "mimetype": "text/x-python",
   "name": "python",
   "nbconvert_exporter": "python",
   "pygments_lexer": "ipython3",
   "version": "3.13.0"
  }
 },
 "nbformat": 4,
 "nbformat_minor": 2
}
