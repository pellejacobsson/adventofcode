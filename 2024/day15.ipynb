{
 "cells": [
  {
   "cell_type": "code",
   "execution_count": 1,
   "metadata": {},
   "outputs": [],
   "source": [
    "def get_input(filename, part=1):\n",
    "     with open(filename, \"r\") as f:\n",
    "          in1, in2 = f.read().split(\"\\n\\n\")\n",
    "          grid = {}\n",
    "          for i, line in enumerate(in1.splitlines()):\n",
    "               if part == 2:\n",
    "                    line = (\n",
    "                         line\n",
    "                         .replace(\"#\", \"##\")\n",
    "                         .replace(\".\", \"..\")\n",
    "                         .replace(\"O\", \"[]\")\n",
    "                         .replace(\"@\", \"@.\")\n",
    "                    )\n",
    "               for j, s in enumerate(line):\n",
    "                    grid[i, j] = s\n",
    "                    if s == \"@\":\n",
    "                         robot = (i, j)\n",
    "     moves = [s for s in in2 if s != \"\\n\"]\n",
    "     return grid, moves, robot"
   ]
  },
  {
   "cell_type": "code",
   "execution_count": 2,
   "metadata": {},
   "outputs": [],
   "source": [
    "def print_grid(grid):\n",
    "    i_max = max(x[0] for x in grid)\n",
    "    j_max = max(x[1] for x in grid)\n",
    "    for i in range(i_max + 1):\n",
    "        print(\"\".join([grid[i, j] for j in range(j_max + 1)]))\n",
    "        \n",
    "def boxes(i, j, di, dj, grid):\n",
    "    n_boxes = 0\n",
    "    n = 1\n",
    "    while True:\n",
    "        ni, nj = i + n * di, j + n * dj\n",
    "        if grid[ni, nj] == \".\":\n",
    "            return True, n_boxes\n",
    "        if grid[ni, nj] == \"#\":\n",
    "            return False, n_boxes\n",
    "        if grid[ni, nj] == \"O\":\n",
    "            n_boxes += 1\n",
    "            n += 1\n",
    "\n",
    "def boxes_lr(i, j, dj, grid):\n",
    "    n_boxes = 0\n",
    "    n = 1\n",
    "    while True:\n",
    "        nj = j + n * dj\n",
    "        if grid[i, nj] == \".\":\n",
    "            return True, n_boxes\n",
    "        if grid[i, nj] == \"#\":\n",
    "            return False, n_boxes\n",
    "        if grid[i, nj] == \"[\":\n",
    "            n_boxes += 1\n",
    "            n += 2\n",
    "\n",
    "def boxes_up(i, j, grid):\n",
    "    if grid[i - 1, j] == \".\":\n",
    "        return True, [(0, 0)]\n",
    "    up1 = boxes_up(i - 1, j, grid)\n",
    "    if grid[i - 1, j] == \"]\":\n",
    "        up2 = boxes_up(i - 1, j - 1, grid)\n",
    "    elif grid(i - 1, j) == \"[\":\n",
    "        up2 = boxes_up(i - 1, j + 1, grid)\n",
    "    return up1[0] and up2[0], [(0, 0)] + up1[1] + up2[1]\n"
   ]
  },
  {
   "cell_type": "code",
   "execution_count": 3,
   "metadata": {},
   "outputs": [
    {
     "name": "stdout",
     "output_type": "stream",
     "text": [
      "1485257\n"
     ]
    }
   ],
   "source": [
    "grid, moves, robot = get_input(\"15_input.txt\")\n",
    "dirs = {\"<\": (0, -1), \"^\": (-1, 0), \">\": (0, 1), \"v\": (1, 0)}\n",
    "i, j = robot\n",
    "for move in moves:\n",
    "    di, dj = dirs[move]\n",
    "    can_move, n_boxes = boxes(i, j, di, dj, grid)\n",
    "    if not can_move:\n",
    "        continue\n",
    "    grid[i + di, j + dj] = \"@\"\n",
    "    grid[i, j] = \".\"\n",
    "    if n_boxes > 0:\n",
    "        grid[i + (n_boxes + 1) * di, j + (n_boxes + 1) * dj] = \"O\"\n",
    "    i += di\n",
    "    j += dj\n",
    "\n",
    "gps = 0\n",
    "for (i, j), s in grid.items():\n",
    "    if s == \"O\":\n",
    "        gps += i * 100 + j\n",
    "print(gps)"
   ]
  },
  {
   "cell_type": "code",
   "execution_count": 4,
   "metadata": {},
   "outputs": [],
   "source": [
    "grid, moves, robot = get_input(\"15_testinput2.txt\", part=2)"
   ]
  },
  {
   "cell_type": "code",
   "execution_count": 5,
   "metadata": {},
   "outputs": [
    {
     "name": "stdout",
     "output_type": "stream",
     "text": [
      "####################\n",
      "##....[]....[]..[]##\n",
      "##............[]..##\n",
      "##..[][]....[]..[]##\n",
      "##....[]@.....[]..##\n",
      "##[]##....[]......##\n",
      "##[]....[]....[]..##\n",
      "##..[][]..[]..[][]##\n",
      "##........[]......##\n",
      "####################\n"
     ]
    }
   ],
   "source": [
    "print_grid(grid)"
   ]
  },
  {
   "cell_type": "code",
   "execution_count": null,
   "metadata": {},
   "outputs": [],
   "source": []
  }
 ],
 "metadata": {
  "kernelspec": {
   "display_name": ".venv",
   "language": "python",
   "name": "python3"
  },
  "language_info": {
   "codemirror_mode": {
    "name": "ipython",
    "version": 3
   },
   "file_extension": ".py",
   "mimetype": "text/x-python",
   "name": "python",
   "nbconvert_exporter": "python",
   "pygments_lexer": "ipython3",
   "version": "3.13.0"
  }
 },
 "nbformat": 4,
 "nbformat_minor": 2
}
