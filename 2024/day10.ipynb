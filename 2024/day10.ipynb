{
 "cells": [
  {
   "cell_type": "code",
   "execution_count": 1,
   "metadata": {},
   "outputs": [],
   "source": [
    "with open(\"10_input.txt\", \"r\") as f:\n",
    "    grid = {}\n",
    "    zeros = []\n",
    "    for i, l in enumerate(f):\n",
    "        for j, s in enumerate(l.strip()):\n",
    "            grid[i, j] = int(s)\n",
    "            if s == \"0\":\n",
    "                zeros.append((i, j))"
   ]
  },
  {
   "cell_type": "code",
   "execution_count": 2,
   "metadata": {},
   "outputs": [
    {
     "name": "stdout",
     "output_type": "stream",
     "text": [
      "459\n"
     ]
    }
   ],
   "source": [
    "scores = []\n",
    "for start in zeros:\n",
    "    stack = [start]\n",
    "    visited = set()\n",
    "    score = 0\n",
    "    while stack:\n",
    "        v = stack.pop()\n",
    "        if v in visited:\n",
    "            continue\n",
    "        visited.add(v)\n",
    "        if grid[v] == 9:\n",
    "            score += 1\n",
    "        for di, dj in [(-1, 0), (1, 0), (0, 1), (0, -1)]:\n",
    "            ni, nj = v[0] + di, v[1] + dj\n",
    "            if (ni, nj) in grid and (grid[ni, nj] - grid[v]) == 1:\n",
    "                stack.append((ni, nj))\n",
    "    scores.append(score)\n",
    "print(sum(scores))"
   ]
  },
  {
   "cell_type": "code",
   "execution_count": 3,
   "metadata": {},
   "outputs": [
    {
     "name": "stdout",
     "output_type": "stream",
     "text": [
      "1034\n"
     ]
    }
   ],
   "source": [
    "scores = []\n",
    "for start in zeros:\n",
    "    stack = [(start, [start])]\n",
    "    visited = set()\n",
    "    score = 0\n",
    "    while stack:\n",
    "        v, path = stack.pop()\n",
    "        if (v, tuple(path)) in visited:\n",
    "            continue\n",
    "        visited.add((v, tuple(path)))\n",
    "        if grid[v] == 9:\n",
    "            score += 1\n",
    "        for di, dj in [(-1, 0), (1, 0), (0, 1), (0, -1)]:\n",
    "            ni, nj = v[0] + di, v[1] + dj\n",
    "            if (ni, nj) in grid and (grid[ni, nj] - grid[v]) == 1:\n",
    "                stack.append(((ni, nj), path + [ni, nj]))\n",
    "    scores.append(score)\n",
    "print(sum(scores))"
   ]
  }
 ],
 "metadata": {
  "kernelspec": {
   "display_name": ".venv",
   "language": "python",
   "name": "python3"
  },
  "language_info": {
   "codemirror_mode": {
    "name": "ipython",
    "version": 3
   },
   "file_extension": ".py",
   "mimetype": "text/x-python",
   "name": "python",
   "nbconvert_exporter": "python",
   "pygments_lexer": "ipython3",
   "version": "3.13.0"
  }
 },
 "nbformat": 4,
 "nbformat_minor": 2
}
