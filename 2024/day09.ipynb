{
 "cells": [
  {
   "cell_type": "code",
   "execution_count": 1,
   "metadata": {},
   "outputs": [],
   "source": [
    "from collections import deque\n",
    "from itertools import groupby"
   ]
  },
  {
   "cell_type": "code",
   "execution_count": 2,
   "metadata": {},
   "outputs": [],
   "source": [
    "with open(\"09_input.txt\", \"r\") as f:\n",
    "    input = f.readline().strip()"
   ]
  },
  {
   "cell_type": "code",
   "execution_count": 3,
   "metadata": {},
   "outputs": [],
   "source": [
    "def create_input(input):\n",
    "    files = {}\n",
    "    empty =[]\n",
    "    i_start = 0\n",
    "    i = 0\n",
    "    for j, s in enumerate(input):\n",
    "        n = int(s)\n",
    "        i_stop = i_start + n\n",
    "        if j % 2 == 0:\n",
    "            files[i] = list(range(i_start, i_stop))\n",
    "            i += 1\n",
    "        else:\n",
    "            empty.append(list(range(i_start, i_stop)))\n",
    "        i_start = i_start + n\n",
    "    return files, empty"
   ]
  },
  {
   "cell_type": "code",
   "execution_count": 4,
   "metadata": {},
   "outputs": [],
   "source": [
    "files, empty = create_input(input)\n",
    "empty_flat = deque([m for n in empty for m in n])\n",
    "for file in sorted(list(files.keys()), reverse=True):\n",
    "    for i in reversed(range(len(files[file]))):\n",
    "        n_file = files[file][i]\n",
    "        if empty_flat[0] >= n_file:\n",
    "            break\n",
    "        files[file][i] = empty_flat.popleft()\n",
    "        empty_flat.append(n_file)\n",
    "    else:\n",
    "        continue\n",
    "    break"
   ]
  },
  {
   "cell_type": "code",
   "execution_count": 5,
   "metadata": {},
   "outputs": [
    {
     "data": {
      "text/plain": [
       "6344673854800"
      ]
     },
     "execution_count": 5,
     "metadata": {},
     "output_type": "execute_result"
    }
   ],
   "source": [
    "sum(k * sum(v) for k, v in files.items())"
   ]
  },
  {
   "cell_type": "code",
   "execution_count": 8,
   "metadata": {},
   "outputs": [],
   "source": [
    "files, empty = create_input(input)\n",
    "for file in sorted(list(files.keys()), reverse=True):\n",
    "    file_size = len(files[file])\n",
    "    for i in range(len(empty)):\n",
    "        if file_size <= len(empty[i]) and empty[i][-1] < files[file][0]:\n",
    "            tmp = files[file]\n",
    "            files[file] = empty[i][:file_size]\n",
    "            empty[i] = empty[i][file_size:]\n",
    "            empty.append(tmp)\n",
    "            break"
   ]
  },
  {
   "cell_type": "code",
   "execution_count": 9,
   "metadata": {},
   "outputs": [
    {
     "data": {
      "text/plain": [
       "6360363199987"
      ]
     },
     "execution_count": 9,
     "metadata": {},
     "output_type": "execute_result"
    }
   ],
   "source": [
    "sum(k * sum(v) for k, v in files.items())"
   ]
  }
 ],
 "metadata": {
  "kernelspec": {
   "display_name": ".venv",
   "language": "python",
   "name": "python3"
  },
  "language_info": {
   "codemirror_mode": {
    "name": "ipython",
    "version": 3
   },
   "file_extension": ".py",
   "mimetype": "text/x-python",
   "name": "python",
   "nbconvert_exporter": "python",
   "pygments_lexer": "ipython3",
   "version": "3.12.7"
  }
 },
 "nbformat": 4,
 "nbformat_minor": 2
}
