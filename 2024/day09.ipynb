{
 "cells": [
  {
   "cell_type": "code",
   "execution_count": 175,
   "metadata": {},
   "outputs": [],
   "source": [
    "from collections import deque\n",
    "from itertools import groupby"
   ]
  },
  {
   "cell_type": "code",
   "execution_count": 192,
   "metadata": {},
   "outputs": [],
   "source": [
    "with open(\"09_input.txt\", \"r\") as f:\n",
    "    input = f.readline().strip()"
   ]
  },
  {
   "cell_type": "code",
   "execution_count": 197,
   "metadata": {},
   "outputs": [],
   "source": [
    "#input = \"12345\"\n",
    "input = \"2333133121414131402\""
   ]
  },
  {
   "cell_type": "code",
   "execution_count": 201,
   "metadata": {},
   "outputs": [],
   "source": [
    "files = {}\n",
    "empty =[]\n",
    "i_start = 0\n",
    "i = 0\n",
    "for j, s in enumerate(input):\n",
    "    n = int(s)\n",
    "    i_stop = i_start + n\n",
    "    if j % 2 == 0:\n",
    "        files[i] = list(range(i_start, i_stop))\n",
    "        i += 1\n",
    "    else:\n",
    "        empty.append(list(range(i_start, i_stop)))\n",
    "    i_start = i_start + n\n",
    "empty_flat = deque([m for n in empty for m in n])"
   ]
  },
  {
   "cell_type": "code",
   "execution_count": 141,
   "metadata": {},
   "outputs": [],
   "source": [
    "for file in sorted(list(files.keys()), reverse=True):\n",
    "    for i in reversed(range(len(files[file]))):\n",
    "        n_file = files[file][i]\n",
    "        if empty_flat[0] >= n_file:\n",
    "            break\n",
    "        files[file][i] = empty_flat.popleft()\n",
    "        empty_flat.append(n_file)\n",
    "    else:\n",
    "        continue\n",
    "    break"
   ]
  },
  {
   "cell_type": "code",
   "execution_count": 142,
   "metadata": {},
   "outputs": [
    {
     "data": {
      "text/plain": [
       "1928"
      ]
     },
     "execution_count": 142,
     "metadata": {},
     "output_type": "execute_result"
    }
   ],
   "source": [
    "sum(k * sum(v) for k, v in files.items())"
   ]
  },
  {
   "cell_type": "code",
   "execution_count": 203,
   "metadata": {},
   "outputs": [
    {
     "name": "stdout",
     "output_type": "stream",
     "text": [
      "[[2, 3, 4], [8, 9, 10], [12, 13, 14], [18], [21], [26], [31], [35], []]\n",
      "[[4], [8, 9, 10], [12, 13, 14], [18], [21], [26], [31], [35], [40, 41]]\n",
      "[[4], [8, 9, 10], [12, 13, 14], [18], [21], [26], [31], [35], [40, 41]]\n",
      "[[4], [12, 13, 14], [18], [21], [26], [31, 32, 33, 34, 35], [40, 41]]\n",
      "[[4], [12, 13, 14], [18], [21], [26, 27, 28, 29, 30], [35], [40, 41]]\n",
      "[[4], [12, 13, 14], [18], [21, 22, 23, 24, 25], [30], [35], [40, 41]]\n",
      "[[4], [14], [18, 19, 20, 21, 22, 23, 24, 25], [30], [35], [40, 41]]\n",
      "[[4], [14, 15, 16, 17], [21, 22, 23, 24, 25], [30], [35], [40, 41]]\n",
      "[[11], [14, 15, 16, 17], [21, 22, 23, 24, 25], [30], [35], [40, 41]]\n",
      "[[5, 6, 7], [11], [17], [21, 22, 23, 24, 25], [30], [35], [40, 41]]\n"
     ]
    }
   ],
   "source": [
    "for file in sorted(list(files.keys()), reverse=True):\n",
    "    print(empty)\n",
    "    file_size = len(files[file])\n",
    "    new_empty = []\n",
    "    for i in range(len(empty)):\n",
    "        if file_size <= len(empty[i]):\n",
    "            tmp = files[file]\n",
    "            files[file] = empty[i][:file_size]\n",
    "            empty[i] = empty[i][file_size:]\n",
    "            new_empty.append(tmp)\n",
    "            break\n",
    "    empty_updated = sorted([m for n in empty for m in n] + [m for n in new_empty for m in n])\n",
    "    empty = [list(g) for k, g in groupby(empty_updated, key=lambda x, c=iter(range(len(empty_updated))): x - next(c))]"
   ]
  },
  {
   "cell_type": "code",
   "execution_count": 204,
   "metadata": {},
   "outputs": [
    {
     "data": {
      "text/plain": [
       "3088"
      ]
     },
     "execution_count": 204,
     "metadata": {},
     "output_type": "execute_result"
    }
   ],
   "source": [
    "sum(k * sum(v) for k, v in files.items())"
   ]
  },
  {
   "cell_type": "code",
   "execution_count": null,
   "metadata": {},
   "outputs": [],
   "source": []
  }
 ],
 "metadata": {
  "kernelspec": {
   "display_name": ".venv",
   "language": "python",
   "name": "python3"
  },
  "language_info": {
   "codemirror_mode": {
    "name": "ipython",
    "version": 3
   },
   "file_extension": ".py",
   "mimetype": "text/x-python",
   "name": "python",
   "nbconvert_exporter": "python",
   "pygments_lexer": "ipython3",
   "version": "3.12.7"
  }
 },
 "nbformat": 4,
 "nbformat_minor": 2
}
