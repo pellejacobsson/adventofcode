{
 "cells": [
  {
   "cell_type": "code",
   "execution_count": 1,
   "metadata": {},
   "outputs": [],
   "source": [
    "from collections import deque"
   ]
  },
  {
   "cell_type": "code",
   "execution_count": 2,
   "metadata": {},
   "outputs": [],
   "source": [
    "with open(\"18_input.txt\") as f:\n",
    "    x, y = zip(*[map(int, line.strip().split(\",\")) for line in f])"
   ]
  },
  {
   "cell_type": "code",
   "execution_count": 3,
   "metadata": {},
   "outputs": [],
   "source": [
    "def create_grid(x, y):\n",
    "    grid = {(r, c): 1 for (r, c) in zip(y[:1024], x[:1024])}\n",
    "    for r in range(-1, 72):\n",
    "        grid[r, -1] = 1\n",
    "        grid[r, 71] = 1\n",
    "    for c in range(-1, 72):\n",
    "        grid[-1, c] = 1\n",
    "        grid[71, c] = 1\n",
    "    return grid"
   ]
  },
  {
   "cell_type": "code",
   "execution_count": 4,
   "metadata": {},
   "outputs": [],
   "source": [
    "def bfs(source, target, grid):\n",
    "    q = deque([source])\n",
    "    visited = set(source)\n",
    "    dist = {source: 0}\n",
    "    while q:\n",
    "        r, c = q.popleft()\n",
    "        if (r, c) == target:\n",
    "            return True, dist\n",
    "        for dr, dc in [(-1, 0), (1, 0), (0, -1), (0, 1)]:\n",
    "            nr = r + dr\n",
    "            nc = c + dc\n",
    "            if (nr, nc) not in grid and (nr, nc) not in visited:\n",
    "                visited.add((nr, nc))\n",
    "                q.append((nr, nc))\n",
    "                dist[nr, nc] = dist[r, c] + 1\n",
    "    return False, None"
   ]
  },
  {
   "cell_type": "code",
   "execution_count": 5,
   "metadata": {},
   "outputs": [],
   "source": [
    "source = (0, 0)\n",
    "target = (70, 70)\n",
    "grid = create_grid(x, y)\n",
    "found, dist = bfs(source, target, grid)"
   ]
  },
  {
   "cell_type": "code",
   "execution_count": 6,
   "metadata": {},
   "outputs": [
    {
     "data": {
      "text/plain": [
       "302"
      ]
     },
     "execution_count": 6,
     "metadata": {},
     "output_type": "execute_result"
    }
   ],
   "source": [
    "dist[target]"
   ]
  },
  {
   "cell_type": "code",
   "execution_count": 7,
   "metadata": {},
   "outputs": [
    {
     "name": "stdout",
     "output_type": "stream",
     "text": [
      "24,32\n"
     ]
    }
   ],
   "source": [
    "grid = create_grid(x, y)\n",
    "for x2, y2 in zip(x[1024:], y[1024:]):\n",
    "    grid[y2, x2] = 1\n",
    "    found, dist = bfs(source, target, grid)\n",
    "    if not found:\n",
    "        print(f\"{x2},{y2}\")\n",
    "        break"
   ]
  }
 ],
 "metadata": {
  "kernelspec": {
   "display_name": ".venv",
   "language": "python",
   "name": "python3"
  },
  "language_info": {
   "codemirror_mode": {
    "name": "ipython",
    "version": 3
   },
   "file_extension": ".py",
   "mimetype": "text/x-python",
   "name": "python",
   "nbconvert_exporter": "python",
   "pygments_lexer": "ipython3",
   "version": "3.13.0"
  }
 },
 "nbformat": 4,
 "nbformat_minor": 2
}
