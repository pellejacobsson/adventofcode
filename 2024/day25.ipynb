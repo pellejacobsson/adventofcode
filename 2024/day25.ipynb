{
 "cells": [
  {
   "cell_type": "code",
   "execution_count": 63,
   "metadata": {},
   "outputs": [],
   "source": [
    "import numpy as np"
   ]
  },
  {
   "cell_type": "code",
   "execution_count": 64,
   "metadata": {},
   "outputs": [],
   "source": [
    "with open(\"25_input.txt\") as f:\n",
    "    keys = []\n",
    "    locks = []\n",
    "    keylocks = f.read().strip().split(\"\\n\\n\")\n",
    "    for keylock in keylocks:\n",
    "        kl = [[s == \"#\" for s in l] for l in keylock.split(\"\\n\")]\n",
    "        kl = np.array(kl)\n",
    "        if np.sum(kl[0, :]) == 5:\n",
    "            locks.append(kl)\n",
    "        else:\n",
    "            keys.append(kl)"
   ]
  },
  {
   "cell_type": "code",
   "execution_count": 65,
   "metadata": {},
   "outputs": [
    {
     "name": "stdout",
     "output_type": "stream",
     "text": [
      "3291\n"
     ]
    }
   ],
   "source": [
    "s = 0\n",
    "for key in keys:\n",
    "    for lock in locks:\n",
    "        if not np.any(lock & key):\n",
    "            s += 1\n",
    "print(s)"
   ]
  }
 ],
 "metadata": {
  "kernelspec": {
   "display_name": ".venv",
   "language": "python",
   "name": "python3"
  },
  "language_info": {
   "codemirror_mode": {
    "name": "ipython",
    "version": 3
   },
   "file_extension": ".py",
   "mimetype": "text/x-python",
   "name": "python",
   "nbconvert_exporter": "python",
   "pygments_lexer": "ipython3",
   "version": "3.13.0"
  }
 },
 "nbformat": 4,
 "nbformat_minor": 2
}
