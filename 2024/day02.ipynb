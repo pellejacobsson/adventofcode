{
 "cells": [
  {
   "cell_type": "code",
   "execution_count": 1,
   "metadata": {},
   "outputs": [],
   "source": [
    "with open(\"02_input.txt\") as f:\n",
    "    reports = [[int(n) for n in line.strip().split()] for line in f]"
   ]
  },
  {
   "cell_type": "code",
   "execution_count": 2,
   "metadata": {},
   "outputs": [
    {
     "name": "stdout",
     "output_type": "stream",
     "text": [
      "483\n"
     ]
    }
   ],
   "source": [
    "s = 0\n",
    "for report in reports:\n",
    "    diff = [y - x for x, y in zip(report, report[1:])]\n",
    "    if all(x in [-3, -2, -1] for x in diff) or all(x in [1, 2, 3] for x in diff):\n",
    "        s += 1\n",
    "print(s)"
   ]
  },
  {
   "cell_type": "code",
   "execution_count": 3,
   "metadata": {},
   "outputs": [
    {
     "name": "stdout",
     "output_type": "stream",
     "text": [
      "528\n"
     ]
    }
   ],
   "source": [
    "s = 0\n",
    "for report_orig in reports:\n",
    "    for i in range(len(report_orig)):\n",
    "        report = report_orig[:i] + report_orig[i+1:]\n",
    "        diff = [y - x for x, y in zip(report, report[1:])]\n",
    "        if all(x in [-3, -2, -1] for x in diff) or all(x in [1, 2, 3] for x in diff):\n",
    "            s += 1\n",
    "            break\n",
    "print(s)"
   ]
  }
 ],
 "metadata": {
  "kernelspec": {
   "display_name": ".venv",
   "language": "python",
   "name": "python3"
  },
  "language_info": {
   "codemirror_mode": {
    "name": "ipython",
    "version": 3
   },
   "file_extension": ".py",
   "mimetype": "text/x-python",
   "name": "python",
   "nbconvert_exporter": "python",
   "pygments_lexer": "ipython3",
   "version": "3.12.7"
  }
 },
 "nbformat": 4,
 "nbformat_minor": 2
}
