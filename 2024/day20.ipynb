{
 "cells": [
  {
   "cell_type": "code",
   "execution_count": 1,
   "metadata": {},
   "outputs": [],
   "source": [
    "from collections import deque, Counter, defaultdict"
   ]
  },
  {
   "cell_type": "code",
   "execution_count": 39,
   "metadata": {},
   "outputs": [],
   "source": [
    "with open(\"20_input.txt\", \"r\") as f:\n",
    "    grid = {}\n",
    "    for i, line in enumerate(f):\n",
    "        for j, s in enumerate(line.strip()):\n",
    "            grid[i, j] = \".\" if s in \".SE\" else \"#\"\n",
    "            if s == \"S\":\n",
    "                start = (i, j)\n",
    "            if s == \"E\":\n",
    "                goal = (i, j)"
   ]
  },
  {
   "cell_type": "code",
   "execution_count": 40,
   "metadata": {},
   "outputs": [],
   "source": [
    "def print_grid(grid):\n",
    "    i_max = max(x[0] for x in grid)\n",
    "    j_max = max(x[1] for x in grid)\n",
    "    for i in range(i_max + 1):\n",
    "        print(\"\".join([grid[i, j] for j in range(j_max + 1)]))\n",
    "\n",
    "def bfs(start, goal, grid):\n",
    "    q = deque([start])\n",
    "    visited = set([start])\n",
    "    dist = {start: 0}\n",
    "    while q:\n",
    "        i, j = q.popleft()\n",
    "        if (i, j) == goal:\n",
    "            return dist\n",
    "        for (di, dj) in [(-1, 0), (1, 0), (0, -1), (0, 1)]:\n",
    "            ni, nj = i + di, j + dj\n",
    "            if grid.get((ni, nj), \"#\") == \".\" and (ni, nj) not in visited:\n",
    "                q.append((ni, nj))\n",
    "                visited.add((ni, nj))\n",
    "                dist[(ni, nj)] = dist[(i, j)] + 1\n",
    "    return None"
   ]
  },
  {
   "cell_type": "code",
   "execution_count": 41,
   "metadata": {},
   "outputs": [],
   "source": [
    "dists = bfs(start, goal, grid)"
   ]
  },
  {
   "cell_type": "code",
   "execution_count": 42,
   "metadata": {},
   "outputs": [],
   "source": [
    "dij = [(0, 0), (-1, 0), (1, 0), (0, -1), (0 , 1)]\n",
    "reachable = defaultdict(set)\n",
    "for i, j in dists:\n",
    "    for di, dj in dij:\n",
    "        for ddi, ddj in dij:\n",
    "            ni, nj = i + di + ddi, j + dj + ddj\n",
    "            if (ni, nj) in dists:\n",
    "                reachable[i, j].add((ni, nj))"
   ]
  },
  {
   "cell_type": "code",
   "execution_count": 43,
   "metadata": {},
   "outputs": [],
   "source": [
    "cheat_saves = Counter()\n",
    "for (i, j), can_rach in reachable.items():\n",
    "    for (ni, nj) in can_rach:\n",
    "        d = dists[ni, nj] - dists[i, j] - 2\n",
    "        if d > 1:\n",
    "            cheat_saves[d] += 1"
   ]
  },
  {
   "cell_type": "code",
   "execution_count": 44,
   "metadata": {},
   "outputs": [
    {
     "data": {
      "text/plain": [
       "1450"
      ]
     },
     "execution_count": 44,
     "metadata": {},
     "output_type": "execute_result"
    }
   ],
   "source": [
    "sum(n for ps, n in cheat_saves.items() if ps >= 100)"
   ]
  },
  {
   "cell_type": "code",
   "execution_count": 45,
   "metadata": {},
   "outputs": [],
   "source": [
    "reachable = defaultdict(set)\n",
    "for i, j in dists:\n",
    "    for ii, jj in dists:\n",
    "        if abs(i - ii) + abs(j - jj) <= 20:\n",
    "            reachable[i, j].add((ii, jj))"
   ]
  },
  {
   "cell_type": "code",
   "execution_count": 51,
   "metadata": {},
   "outputs": [
    {
     "name": "stdout",
     "output_type": "stream",
     "text": [
      "1015247\n"
     ]
    }
   ],
   "source": [
    "cheat_saves = Counter()\n",
    "for (i, j), can_reach in reachable.items():\n",
    "    for (ni, nj) in can_reach:\n",
    "        cheat_moves = abs(i - ni) + abs(j - nj)\n",
    "        d = dists[ni, nj] - dists[i, j] - cheat_moves\n",
    "        if d >= 100:\n",
    "            cheat_saves[d] += 1\n",
    "print(sum(cheat_saves.values()))"
   ]
  }
 ],
 "metadata": {
  "kernelspec": {
   "display_name": ".venv",
   "language": "python",
   "name": "python3"
  },
  "language_info": {
   "codemirror_mode": {
    "name": "ipython",
    "version": 3
   },
   "file_extension": ".py",
   "mimetype": "text/x-python",
   "name": "python",
   "nbconvert_exporter": "python",
   "pygments_lexer": "ipython3",
   "version": "3.13.0"
  }
 },
 "nbformat": 4,
 "nbformat_minor": 2
}
