{
 "cells": [
  {
   "cell_type": "code",
   "execution_count": 1,
   "metadata": {},
   "outputs": [],
   "source": [
    "import re\n",
    "from sympy.solvers.diophantine import diophantine\n",
    "from sympy import symbols, Eq, solve"
   ]
  },
  {
   "cell_type": "code",
   "execution_count": 2,
   "metadata": {},
   "outputs": [],
   "source": [
    "with open(\"13_input.txt\", \"r\") as f:\n",
    "    expr = re.compile(\n",
    "        r\"^Button A: X\\+(\\d+), Y\\+(\\d+)\\nButton B: X\\+(\\d+), Y\\+(\\d+)\\n\"\n",
    "        r\"Prize: X=(\\d+), Y=(\\d+)$\"\n",
    "    )\n",
    "    machines = []\n",
    "    for machine_raw in f.read().split(\"\\n\\n\"):\n",
    "        match = expr.match(machine_raw)\n",
    "        machines.append([int(x) for x in match.groups()])"
   ]
  },
  {
   "cell_type": "code",
   "execution_count": 3,
   "metadata": {},
   "outputs": [
    {
     "name": "stdout",
     "output_type": "stream",
     "text": [
      "31065\n"
     ]
    }
   ],
   "source": [
    "tot_cost = 0\n",
    "for machine in machines:\n",
    "    a_dx, a_dy, b_dx, b_dy, x, y = machine\n",
    "    b_max = min(x // b_dx, y // b_dy)\n",
    "    min_cost = None\n",
    "    for b in range(b_max + 1):\n",
    "        a_max = min((x - b * b_dx) // a_dx, (y - b * b_dy) // a_dy)\n",
    "        for a in range(a_max + 1):\n",
    "            if a * a_dx + b * b_dx == x and a * a_dy + b * b_dy == y:\n",
    "                cost = 3 * a + b\n",
    "                if min_cost is None or cost < min_cost:\n",
    "                    min_cost = cost\n",
    "    if min_cost is not None:\n",
    "        tot_cost += min_cost\n",
    "print(tot_cost)"
   ]
  },
  {
   "cell_type": "code",
   "execution_count": 4,
   "metadata": {},
   "outputs": [
    {
     "name": "stdout",
     "output_type": "stream",
     "text": [
      "93866170395343.0\n"
     ]
    }
   ],
   "source": [
    "a, b = symbols(\"a, b\", integers=True)\n",
    "tot_cost = 0\n",
    "for machine in machines:\n",
    "    a_dx, a_dy, b_dx, b_dy, x, y = machine\n",
    "    x += 10000000000000\n",
    "    y += 10000000000000\n",
    "    eq1 = Eq(eval(f\"a * {a_dx} + b * {b_dx}\"), x)\n",
    "    eq2 = Eq(eval(f\"a * {a_dy} + b * {b_dy}\"), y)\n",
    "    solutions = solve((eq1, eq2), (a, b), dict=True)\n",
    "    min_cost = None\n",
    "    for sol in solutions:\n",
    "        a_val, b_val = sol[a], sol[b]\n",
    "        if a_val.is_integer and b_val.is_integer:\n",
    "            cost = 3 * a_val.evalf() + b_val.evalf()\n",
    "            if min_cost is None or cost < min_cost:\n",
    "                min_cost = cost\n",
    "    if min_cost is not None:\n",
    "        tot_cost += min_cost\n",
    "print(tot_cost)"
   ]
  }
 ],
 "metadata": {
  "kernelspec": {
   "display_name": ".venv",
   "language": "python",
   "name": "python3"
  },
  "language_info": {
   "codemirror_mode": {
    "name": "ipython",
    "version": 3
   },
   "file_extension": ".py",
   "mimetype": "text/x-python",
   "name": "python",
   "nbconvert_exporter": "python",
   "pygments_lexer": "ipython3",
   "version": "3.12.4"
  }
 },
 "nbformat": 4,
 "nbformat_minor": 2
}
