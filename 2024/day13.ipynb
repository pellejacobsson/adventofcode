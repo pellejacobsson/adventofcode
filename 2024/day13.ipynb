{
 "cells": [
  {
   "cell_type": "code",
   "execution_count": 1,
   "metadata": {},
   "outputs": [],
   "source": [
    "import re"
   ]
  },
  {
   "cell_type": "code",
   "execution_count": 2,
   "metadata": {},
   "outputs": [],
   "source": [
    "with open(\"13_input.txt\", \"r\") as f:\n",
    "    expr = re.compile(\n",
    "        r\"^Button A: X\\+(\\d+), Y\\+(\\d+)\\nButton B: X\\+(\\d+), Y\\+(\\d+)\\n\"\n",
    "        r\"Prize: X=(\\d+), Y=(\\d+)$\"\n",
    "    )\n",
    "    machines = []\n",
    "    for machine_raw in f.read().split(\"\\n\\n\"):\n",
    "        match = expr.match(machine_raw)\n",
    "        machines.append([int(x) for x in match.groups()])"
   ]
  },
  {
   "cell_type": "code",
   "execution_count": 3,
   "metadata": {},
   "outputs": [
    {
     "name": "stdout",
     "output_type": "stream",
     "text": [
      "31065\n"
     ]
    }
   ],
   "source": [
    "cost = 0\n",
    "for machine in machines:\n",
    "    a_dx, a_dy, b_dx, b_dy, x, y = machine\n",
    "    a = (y - x * b_dy / b_dx) * b_dx / (a_dy * b_dx - a_dx * b_dy)\n",
    "    b = x / b_dx - a * a_dx / b_dx\n",
    "    a = round(a)\n",
    "    b = round(b)\n",
    "    if a * a_dx + b * b_dx == x and a * a_dy + b * b_dy == y:\n",
    "        cost += 3 * a + b\n",
    "print(cost)"
   ]
  },
  {
   "cell_type": "code",
   "execution_count": 4,
   "metadata": {},
   "outputs": [
    {
     "name": "stdout",
     "output_type": "stream",
     "text": [
      "93866170395343\n"
     ]
    }
   ],
   "source": [
    "cost = 0\n",
    "for machine in machines:\n",
    "    a_dx, a_dy, b_dx, b_dy, x, y = machine\n",
    "    x += 10000000000000\n",
    "    y += 10000000000000\n",
    "    a = (y - x * b_dy / b_dx) * b_dx / (a_dy * b_dx - a_dx * b_dy)\n",
    "    b = x / b_dx - a * a_dx / b_dx\n",
    "    a = round(a)\n",
    "    b = round(b)\n",
    "    if a * a_dx + b * b_dx == x and a * a_dy + b * b_dy == y:\n",
    "        cost += 3 * a + b\n",
    "print(cost)"
   ]
  }
 ],
 "metadata": {
  "kernelspec": {
   "display_name": ".venv",
   "language": "python",
   "name": "python3"
  },
  "language_info": {
   "codemirror_mode": {
    "name": "ipython",
    "version": 3
   },
   "file_extension": ".py",
   "mimetype": "text/x-python",
   "name": "python",
   "nbconvert_exporter": "python",
   "pygments_lexer": "ipython3",
   "version": "3.13.0"
  }
 },
 "nbformat": 4,
 "nbformat_minor": 2
}
