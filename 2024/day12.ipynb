{
 "cells": [
  {
   "cell_type": "code",
   "execution_count": 29,
   "metadata": {},
   "outputs": [],
   "source": [
    "with open(\"12_testinput.txt\", \"r\") as f:\n",
    "    grid = {(i, j): s for i, l in enumerate(f) for j, s in enumerate(l.strip())}"
   ]
  },
  {
   "cell_type": "code",
   "execution_count": 30,
   "metadata": {},
   "outputs": [],
   "source": [
    "def find_area(start):\n",
    "    letter = grid[start]\n",
    "    stack = [start]\n",
    "    visited = set()\n",
    "    circ = 0\n",
    "    area = 0\n",
    "    while stack:\n",
    "        i, j = stack.pop()\n",
    "        if (i, j) in visited:\n",
    "            continue\n",
    "        visited.add((i, j))\n",
    "        area += 1\n",
    "        n_neighbors = 0\n",
    "        for di, dj in [(0, 1), (0, -1), (1, 0), (-1, 0)]:\n",
    "            ni, nj = i + di, j + dj\n",
    "            if (ni, nj) in grid and grid[ni, nj] == letter:\n",
    "                stack.append((ni, nj))\n",
    "                n_neighbors += 1\n",
    "        circ += 4 - n_neighbors\n",
    "    return visited, area, circ"
   ]
  },
  {
   "cell_type": "code",
   "execution_count": 31,
   "metadata": {},
   "outputs": [
    {
     "name": "stdout",
     "output_type": "stream",
     "text": [
      "1930\n"
     ]
    }
   ],
   "source": [
    "all_visited = set()\n",
    "s = 0\n",
    "patches = []\n",
    "for (i, j), letter in grid.items():\n",
    "    if (i, j) in all_visited:\n",
    "        continue\n",
    "    visited, area, circ = find_area((i, j))\n",
    "    all_visited = all_visited.union(visited)\n",
    "    patches.append(visited)\n",
    "    s += area * circ\n",
    "print(s)"
   ]
  },
  {
   "cell_type": "code",
   "execution_count": 42,
   "metadata": {},
   "outputs": [],
   "source": [
    "p = patches[0]\n",
    "i_min = min(x[0] for x in p)\n",
    "i_max = max(x[0] for x in p)\n",
    "j_min = min(x[1] for x in p)\n",
    "j_max = max(x[1] for x in p)"
   ]
  },
  {
   "cell_type": "code",
   "execution_count": 46,
   "metadata": {},
   "outputs": [
    {
     "name": "stdout",
     "output_type": "stream",
     "text": [
      "[(0, 1), (0, 0), (0, 3), (0, 2)]\n",
      "[(1, 2), (1, 1), (1, 0), (1, 3)]\n",
      "[(2, 4), (2, 3), (2, 2)]\n",
      "[(3, 2)]\n"
     ]
    }
   ],
   "source": [
    "for i in range(i_min, i_max + 1):\n",
    "    print([q for q in p if q[0] == i])"
   ]
  },
  {
   "cell_type": "code",
   "execution_count": null,
   "metadata": {},
   "outputs": [],
   "source": []
  }
 ],
 "metadata": {
  "kernelspec": {
   "display_name": ".venv",
   "language": "python",
   "name": "python3"
  },
  "language_info": {
   "codemirror_mode": {
    "name": "ipython",
    "version": 3
   },
   "file_extension": ".py",
   "mimetype": "text/x-python",
   "name": "python",
   "nbconvert_exporter": "python",
   "pygments_lexer": "ipython3",
   "version": "3.13.0"
  }
 },
 "nbformat": 4,
 "nbformat_minor": 2
}
