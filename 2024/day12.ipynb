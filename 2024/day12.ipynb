{
 "cells": [
  {
   "cell_type": "code",
   "execution_count": 1,
   "metadata": {},
   "outputs": [],
   "source": [
    "from itertools import groupby"
   ]
  },
  {
   "cell_type": "code",
   "execution_count": 2,
   "metadata": {},
   "outputs": [],
   "source": [
    "with open(\"12_input.txt\", \"r\") as f:\n",
    "    grid = {(i, j): s for i, l in enumerate(f) for j, s in enumerate(l.strip())}"
   ]
  },
  {
   "cell_type": "code",
   "execution_count": 3,
   "metadata": {},
   "outputs": [],
   "source": [
    "def find_area(start):\n",
    "    letter = grid[start]\n",
    "    stack = [start]\n",
    "    visited = set()\n",
    "    circ = 0\n",
    "    area = 0\n",
    "    while stack:\n",
    "        i, j = stack.pop()\n",
    "        if (i, j) in visited:\n",
    "            continue\n",
    "        visited.add((i, j))\n",
    "        area += 1\n",
    "        n_neighbors = 0\n",
    "        for di, dj in [(0, 1), (0, -1), (1, 0), (-1, 0)]:\n",
    "            ni, nj = i + di, j + dj\n",
    "            if (ni, nj) in grid and grid[ni, nj] == letter:\n",
    "                stack.append((ni, nj))\n",
    "                n_neighbors += 1\n",
    "        circ += 4 - n_neighbors\n",
    "    return visited, area, circ"
   ]
  },
  {
   "cell_type": "code",
   "execution_count": 4,
   "metadata": {},
   "outputs": [
    {
     "name": "stdout",
     "output_type": "stream",
     "text": [
      "1446042\n"
     ]
    }
   ],
   "source": [
    "all_visited = set()\n",
    "s = 0\n",
    "patches = []\n",
    "for (i, j), letter in grid.items():\n",
    "    if (i, j) in all_visited:\n",
    "        continue\n",
    "    visited, area, circ = find_area((i, j))\n",
    "    all_visited = all_visited.union(visited)\n",
    "    patches.append(visited)\n",
    "    s += area * circ\n",
    "print(s)"
   ]
  },
  {
   "cell_type": "code",
   "execution_count": 5,
   "metadata": {},
   "outputs": [],
   "source": [
    "def count_groups(l):\n",
    "    return len(list(groupby(enumerate(sorted(l)), key=lambda x: x[1] - x[0])))\n",
    "\n",
    "def count_left_right_edges(patch):\n",
    "    j_min = min(x[1] for x in patch)\n",
    "    j_max = max(x[1] for x in patch)\n",
    "    n_edges = 0\n",
    "    for j_fix in range(j_min, j_max + 1):\n",
    "        left_edge_parts = []\n",
    "        right_edge_parts = []\n",
    "        for i, j in [q for q in patch if q[1] == j_fix]:\n",
    "            if not (i, j - 1) in patch:\n",
    "                left_edge_parts.append(i)\n",
    "            if not (i, j + 1) in patch:\n",
    "                right_edge_parts.append(i)\n",
    "        n_edges += count_groups(left_edge_parts) + count_groups(right_edge_parts)\n",
    "    return n_edges\n",
    "\n",
    "def count_top_bottom_edges(patch):\n",
    "    i_min = min(x[0] for x in patch)\n",
    "    i_max = max(x[0] for x in patch)\n",
    "    n_edges = 0\n",
    "    for i_fix in range(i_min, i_max + 1):\n",
    "        top_edge_parts = []\n",
    "        bottom_edge_parts = []\n",
    "        for i, j in [q for q in patch if q[0] == i_fix]:\n",
    "            if not (i - 1, j) in patch:\n",
    "                top_edge_parts.append(j)\n",
    "            if not (i + 1, j) in patch:\n",
    "                bottom_edge_parts.append(j)\n",
    "        n_edges += count_groups(top_edge_parts) + count_groups(bottom_edge_parts)\n",
    "    return n_edges"
   ]
  },
  {
   "cell_type": "code",
   "execution_count": 6,
   "metadata": {},
   "outputs": [
    {
     "name": "stdout",
     "output_type": "stream",
     "text": [
      "902742\n"
     ]
    }
   ],
   "source": [
    "s = 0\n",
    "for patch in patches:\n",
    "    n_lr = count_left_right_edges(patch)\n",
    "    n_tb = count_top_bottom_edges(patch)\n",
    "    n_tot = n_lr + n_tb\n",
    "    s += n_tot * len(patch)\n",
    "print(s)"
   ]
  }
 ],
 "metadata": {
  "kernelspec": {
   "display_name": ".venv",
   "language": "python",
   "name": "python3"
  },
  "language_info": {
   "codemirror_mode": {
    "name": "ipython",
    "version": 3
   },
   "file_extension": ".py",
   "mimetype": "text/x-python",
   "name": "python",
   "nbconvert_exporter": "python",
   "pygments_lexer": "ipython3",
   "version": "3.12.4"
  }
 },
 "nbformat": 4,
 "nbformat_minor": 2
}
