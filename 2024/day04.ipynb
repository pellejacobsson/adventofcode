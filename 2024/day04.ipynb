{
 "cells": [
  {
   "cell_type": "code",
   "execution_count": 1,
   "metadata": {},
   "outputs": [],
   "source": [
    "with open(\"04_input.txt\", \"r\") as f:\n",
    "    grid = {(i, j): s for i, line in enumerate(f) for j, s in enumerate(line.strip())}"
   ]
  },
  {
   "cell_type": "code",
   "execution_count": 2,
   "metadata": {},
   "outputs": [
    {
     "name": "stdout",
     "output_type": "stream",
     "text": [
      "2562\n"
     ]
    }
   ],
   "source": [
    "xmas = 0\n",
    "dirs = [(-1, -1), (0, -1), (1, -1), (-1, 0), (1, 0), (-1, 1), (0, 1), (1, 1)]\n",
    "for (i, j), s in grid.items():\n",
    "    if s in \"SX\":\n",
    "        snext = \"MAS\" if s == \"X\" else \"AMX\"\n",
    "        for di, dj in dirs:\n",
    "            for n, c in enumerate(snext, 1):\n",
    "                ni = i + n * di\n",
    "                nj = j + n * dj\n",
    "                if grid.get((ni, nj), \"Z\") != c:\n",
    "                    break\n",
    "                if n == 3:\n",
    "                    xmas += 1\n",
    "print(xmas // 2)"
   ]
  },
  {
   "cell_type": "code",
   "execution_count": 3,
   "metadata": {},
   "outputs": [
    {
     "name": "stdout",
     "output_type": "stream",
     "text": [
      "1902\n"
     ]
    }
   ],
   "source": [
    "mas = 0\n",
    "for (i, j), s in grid.items():\n",
    "    if s == \"A\":\n",
    "        if (\n",
    "            (\n",
    "                (\n",
    "                    grid.get((i - 1, j - 1), \"Z\") == \"M\"\n",
    "                    and grid.get((i + 1, j + 1), \"Z\") == \"S\"\n",
    "                )\n",
    "                or (\n",
    "                    grid.get((i - 1, j - 1), \"Z\") == \"S\"\n",
    "                    and grid.get((i + 1, j + 1), \"Z\") == \"M\"\n",
    "                )\n",
    "            )\n",
    "            and (\n",
    "                (\n",
    "                    grid.get((i - 1, j + 1), \"Z\") == \"M\"\n",
    "                    and grid.get((i + 1, j - 1), \"Z\") == \"S\"\n",
    "                )\n",
    "                or (\n",
    "                    grid.get((i - 1, j + 1), \"Z\") == \"S\"\n",
    "                    and grid.get((i + 1, j - 1), \"Z\") == \"M\"\n",
    "                )\n",
    "            )\n",
    "        ):\n",
    "            mas += 1\n",
    "\n",
    "print(mas)"
   ]
  }
 ],
 "metadata": {
  "kernelspec": {
   "display_name": ".venv",
   "language": "python",
   "name": "python3"
  },
  "language_info": {
   "codemirror_mode": {
    "name": "ipython",
    "version": 3
   },
   "file_extension": ".py",
   "mimetype": "text/x-python",
   "name": "python",
   "nbconvert_exporter": "python",
   "pygments_lexer": "ipython3",
   "version": "3.12.7"
  }
 },
 "nbformat": 4,
 "nbformat_minor": 2
}
