{
 "cells": [
  {
   "cell_type": "code",
   "execution_count": 1,
   "metadata": {},
   "outputs": [],
   "source": [
    "with open(\"24_input.txt\", \"r\") as f:\n",
    "    top, bottom = f.read().split(\"\\n\\n\")\n",
    "    gate_vals = {s.split(\": \")[0]: int(s.split(\": \")[1]) for s in top.split(\"\\n\")}\n",
    "    g = {}\n",
    "    for ex in bottom.strip().split(\"\\n\"):\n",
    "        l, r = ex.split(\" -> \")\n",
    "        op1, op, op2 = l.split()\n",
    "        g[r] = [op1, op, op2]"
   ]
  },
  {
   "cell_type": "code",
   "execution_count": 2,
   "metadata": {},
   "outputs": [],
   "source": [
    "def calc_val(gate):\n",
    "    if gate in gate_vals:\n",
    "        return gate_vals[gate]\n",
    "    g1, op, g2 = g[gate]\n",
    "    val1 = calc_val(g1)\n",
    "    val2 = calc_val(g2)\n",
    "    if op == \"AND\":\n",
    "        return val1 & val2\n",
    "    if op == \"OR\":\n",
    "        return val1 | val2\n",
    "    if op == \"XOR\":\n",
    "        return val1 ^ val2"
   ]
  },
  {
   "cell_type": "code",
   "execution_count": 3,
   "metadata": {},
   "outputs": [],
   "source": [
    "zgates = {}\n",
    "for gate in [p for p in set(g) if p.startswith(\"z\")]:\n",
    "    zgates[gate] = calc_val(gate)"
   ]
  },
  {
   "cell_type": "code",
   "execution_count": 4,
   "metadata": {},
   "outputs": [
    {
     "data": {
      "text/plain": [
       "48806532300520"
      ]
     },
     "execution_count": 4,
     "metadata": {},
     "output_type": "execute_result"
    }
   ],
   "source": [
    "int(\"\".join(reversed([str(x[1]) for x in sorted(zgates.items())])), base=2)"
   ]
  },
  {
   "cell_type": "code",
   "execution_count": 10,
   "metadata": {},
   "outputs": [
    {
     "name": "stdout",
     "output_type": "stream",
     "text": [
      "z20 ['cdk', 'OR', 'rmn']\n",
      "z34 ['bmh', 'AND', 'spk']\n",
      "nnf ['kgr', 'XOR', 'fvp']\n",
      "wrc ['spk', 'XOR', 'bmh']\n",
      "nhs ['gqh', 'XOR', 'tcv']\n",
      "z09 ['y09', 'AND', 'x09']\n",
      "z45 ['cdh', 'OR', 'rqv']\n"
     ]
    }
   ],
   "source": [
    "for k, v in g.items():\n",
    "    if k.startswith(\"z\"):\n",
    "        if v[1] != \"XOR\":\n",
    "            print(k, v)\n",
    "    else:\n",
    "        if not (\n",
    "            (v[0].startswith(\"x\") and v[2].startswith(\"y\"))\n",
    "            or (v[0].startswith(\"y\") and v[2].startswith(\"x\"))\n",
    "        ):\n",
    "            if v[1] == \"XOR\":\n",
    "                print(k, v)"
   ]
  },
  {
   "cell_type": "code",
   "execution_count": 12,
   "metadata": {},
   "outputs": [],
   "source": [
    "xy_xor = []\n",
    "for k, v in g.items():\n",
    "    if (\n",
    "        v[1] == \"XOR\"\n",
    "        and (\n",
    "            (v[0].startswith(\"x\") and v[2].startswith(\"y\"))\n",
    "            or (v[0].startswith(\"y\") and v[2].startswith(\"x\"))\n",
    "        )\n",
    "    ):\n",
    "        xy_xor.append(k)"
   ]
  },
  {
   "cell_type": "code",
   "execution_count": 19,
   "metadata": {},
   "outputs": [],
   "source": [
    "xy_and = []\n",
    "for k, v in g.items():\n",
    "    if (\n",
    "        v[1] == \"AND\"\n",
    "        and (\n",
    "            (v[0].startswith(\"x\") and v[2].startswith(\"y\"))\n",
    "            or (v[0].startswith(\"y\") and v[2].startswith(\"x\"))\n",
    "        )\n",
    "    ):\n",
    "        xy_and.append(k)"
   ]
  },
  {
   "cell_type": "code",
   "execution_count": 15,
   "metadata": {},
   "outputs": [
    {
     "name": "stdout",
     "output_type": "stream",
     "text": [
      "z00\n",
      "ddn\n"
     ]
    }
   ],
   "source": [
    "for gin in xy_xor:\n",
    "    found = False\n",
    "    for k, v in g.items():\n",
    "        if v[1] == \"XOR\" and (gin == v[0] or gin == v[2]):\n",
    "            found = True\n",
    "            break\n",
    "    if not found:\n",
    "        print(gin)"
   ]
  },
  {
   "cell_type": "code",
   "execution_count": 21,
   "metadata": {},
   "outputs": [
    {
     "name": "stdout",
     "output_type": "stream",
     "text": [
      "kqh\n",
      "dsr\n",
      "z09\n"
     ]
    }
   ],
   "source": [
    "for gin in xy_and:\n",
    "    found = False\n",
    "    for k, v in g.items():\n",
    "        if v[1] == \"OR\" and (gin == v[0] or gin == v[2]):\n",
    "            found = True\n",
    "            break\n",
    "    if not found:\n",
    "        print(gin)"
   ]
  }
 ],
 "metadata": {
  "kernelspec": {
   "display_name": ".venv",
   "language": "python",
   "name": "python3"
  },
  "language_info": {
   "codemirror_mode": {
    "name": "ipython",
    "version": 3
   },
   "file_extension": ".py",
   "mimetype": "text/x-python",
   "name": "python",
   "nbconvert_exporter": "python",
   "pygments_lexer": "ipython3",
   "version": "3.13.0"
  }
 },
 "nbformat": 4,
 "nbformat_minor": 2
}
