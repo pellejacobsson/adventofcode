{
 "cells": [
  {
   "cell_type": "code",
   "execution_count": 26,
   "metadata": {},
   "outputs": [
    {
     "data": {
      "text/plain": [
       "391"
      ]
     },
     "execution_count": 26,
     "metadata": {},
     "output_type": "execute_result"
    }
   ],
   "source": [
    "with open(\"17_input.txt\", \"r\") as f:\n",
    "    grid = {}\n",
    "    for i, line in enumerate(f):\n",
    "        for j, c in enumerate(line.strip()):\n",
    "            if c == \"#\":\n",
    "                grid[i, j, 0] = 1\n",
    "\n",
    "for _ in range(6):\n",
    "    ngrid = grid.copy()\n",
    "    x_min = min(p[0] for p in grid) - 1\n",
    "    x_max = max(p[0] for p in grid) + 1\n",
    "    y_min = min(p[1] for p in grid) - 1\n",
    "    y_max = max(p[1] for p in grid) + 1\n",
    "    z_min = min(p[2] for p in grid) - 1\n",
    "    z_max = max(p[2] for p in grid) + 1\n",
    "    for x in range(x_min, x_max + 1):\n",
    "        for y in range(y_min, y_max + 1):\n",
    "            for z in range(z_min, z_max + 1):\n",
    "                s = 0\n",
    "                for dx in range(-1, 2):\n",
    "                    for dy in range(-1, 2):\n",
    "                        for dz in range(-1, 2):\n",
    "                            if dx == 0 and dy == 0 and dz == 0:\n",
    "                                continue\n",
    "                            s += grid.get((x + dx, y + dy, z + dz), 0)\n",
    "                if grid.get((x, y, z), 0) == 1 and s not in [2, 3]:\n",
    "                    ngrid.pop((x, y, z))\n",
    "                if grid.get((x, y, z), 0) == 0 and s == 3:\n",
    "                    ngrid[(x, y, z)] = 1\n",
    "    grid = ngrid.copy()\n",
    "sum(grid.values())"
   ]
  },
  {
   "cell_type": "code",
   "execution_count": 28,
   "metadata": {},
   "outputs": [
    {
     "data": {
      "text/plain": [
       "2264"
      ]
     },
     "execution_count": 28,
     "metadata": {},
     "output_type": "execute_result"
    }
   ],
   "source": [
    "with open(\"17_input.txt\", \"r\") as f:\n",
    "    grid = {}\n",
    "    for i, line in enumerate(f):\n",
    "        for j, c in enumerate(line.strip()):\n",
    "            if c == \"#\":\n",
    "                grid[i, j, 0, 0] = 1\n",
    "\n",
    "for _ in range(6):\n",
    "    ngrid = grid.copy()\n",
    "    x_min = min(p[0] for p in grid) - 1\n",
    "    x_max = max(p[0] for p in grid) + 1\n",
    "    y_min = min(p[1] for p in grid) - 1\n",
    "    y_max = max(p[1] for p in grid) + 1\n",
    "    z_min = min(p[2] for p in grid) - 1\n",
    "    z_max = max(p[2] for p in grid) + 1\n",
    "    w_min = min(p[3] for p in grid) - 1\n",
    "    w_max = max(p[3] for p in grid) + 1\n",
    "    for x in range(x_min, x_max + 1):\n",
    "        for y in range(y_min, y_max + 1):\n",
    "            for z in range(z_min, z_max + 1):\n",
    "                for w in range(w_min, w_max + 1):\n",
    "                    s = 0\n",
    "                    for dx in range(-1, 2):\n",
    "                        for dy in range(-1, 2):\n",
    "                            for dz in range(-1, 2):\n",
    "                                for dw in range(-1, 2):\n",
    "                                    if dx == 0 and dy == 0 and dz == 0 and dw == 0:\n",
    "                                        continue\n",
    "                                    s += grid.get((x + dx, y + dy, z + dz, w + dw), 0)\n",
    "                    if grid.get((x, y, z, w), 0) == 1 and s not in [2, 3]:\n",
    "                        ngrid.pop((x, y, z, w))\n",
    "                    if grid.get((x, y, z, w), 0) == 0 and s == 3:\n",
    "                        ngrid[(x, y, z, w)] = 1\n",
    "    grid = ngrid.copy()\n",
    "sum(grid.values())"
   ]
  }
 ],
 "metadata": {
  "kernelspec": {
   "display_name": ".venv",
   "language": "python",
   "name": "python3"
  },
  "language_info": {
   "codemirror_mode": {
    "name": "ipython",
    "version": 3
   },
   "file_extension": ".py",
   "mimetype": "text/x-python",
   "name": "python",
   "nbconvert_exporter": "python",
   "pygments_lexer": "ipython3",
   "version": "3.13.0"
  }
 },
 "nbformat": 4,
 "nbformat_minor": 2
}
