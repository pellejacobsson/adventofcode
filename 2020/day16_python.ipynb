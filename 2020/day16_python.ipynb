{
 "cells": [
  {
   "cell_type": "code",
   "execution_count": 23,
   "metadata": {},
   "outputs": [],
   "source": [
    "import re\n",
    "from math import prod"
   ]
  },
  {
   "cell_type": "code",
   "execution_count": 2,
   "metadata": {},
   "outputs": [],
   "source": [
    "with open(\"16_input.txt\", \"r\") as f:\n",
    "    rules, my_ticket, nearby_tickets = f.read().split(\"\\n\\n\")"
   ]
  },
  {
   "cell_type": "code",
   "execution_count": 10,
   "metadata": {},
   "outputs": [],
   "source": [
    "rule_matches = re.findall(r\"(.+): (\\d+)-(\\d+) or (\\d+)-(\\d+)\", rules)"
   ]
  },
  {
   "cell_type": "code",
   "execution_count": 11,
   "metadata": {},
   "outputs": [],
   "source": [
    "drules = {}\n",
    "big_s = set()\n",
    "for name, n1, n2, n3, n4 in rule_matches:\n",
    "    s = set(range(int(n1), int(n2) + 1)) | set(range(int(n3), int(n4) + 1))\n",
    "    drules[name] = s\n",
    "    big_s = big_s | s"
   ]
  },
  {
   "cell_type": "code",
   "execution_count": 13,
   "metadata": {},
   "outputs": [],
   "source": [
    "invalid = 0\n",
    "for nt in nearby_tickets.strip().split(\"\\n\")[1:]:\n",
    "    for val in [int(s) for s in nt.split(\",\")]:\n",
    "        if val not in big_s:\n",
    "            invalid += val"
   ]
  },
  {
   "cell_type": "code",
   "execution_count": 14,
   "metadata": {},
   "outputs": [
    {
     "data": {
      "text/plain": [
       "20975"
      ]
     },
     "execution_count": 14,
     "metadata": {},
     "output_type": "execute_result"
    }
   ],
   "source": [
    "invalid"
   ]
  },
  {
   "cell_type": "code",
   "execution_count": 15,
   "metadata": {},
   "outputs": [],
   "source": [
    "nearby = [[int(y) for y in x.split(\",\")] for x in nearby_tickets.strip().split(\"\\n\")[1:]]"
   ]
  },
  {
   "cell_type": "code",
   "execution_count": 16,
   "metadata": {},
   "outputs": [],
   "source": [
    "nearby_valid = []\n",
    "for ticket in nearby:\n",
    "    if all(x in big_s for x in ticket):\n",
    "        nearby_valid.append(ticket)"
   ]
  },
  {
   "cell_type": "code",
   "execution_count": 17,
   "metadata": {},
   "outputs": [],
   "source": [
    "possible = {k: set(range(len(nearby_valid[0]))) for k in drules.keys()}\n",
    "for field, vals in drules.items():\n",
    "    for ticket in nearby_valid:\n",
    "        new_possibles = set(i for (i, val) in enumerate(ticket) if val in vals)\n",
    "        possible[field] = possible[field] & new_possibles"
   ]
  },
  {
   "cell_type": "code",
   "execution_count": 18,
   "metadata": {},
   "outputs": [],
   "source": [
    "possible = {k: list(v) for (k, v) in possible.items()}"
   ]
  },
  {
   "cell_type": "code",
   "execution_count": 19,
   "metadata": {},
   "outputs": [],
   "source": [
    "final_fields = {}\n",
    "while possible:\n",
    "    for field, vals in possible.items():\n",
    "        if len(vals) == 1:\n",
    "            val = vals[0]\n",
    "            final_fields[field] = val\n",
    "            possible.pop(field)\n",
    "            break\n",
    "    for field, vals in possible.items():\n",
    "        possible[field] = [x for x in vals if x != val]\n"
   ]
  },
  {
   "cell_type": "code",
   "execution_count": 33,
   "metadata": {},
   "outputs": [],
   "source": [
    "ix = [v for (k, v) in final_fields.items() if k.startswith(\"departure\")]"
   ]
  },
  {
   "cell_type": "code",
   "execution_count": 32,
   "metadata": {},
   "outputs": [],
   "source": [
    "my_ticket = [int(x) for x in my_ticket.split(\"\\n\")[1].split(\",\")]"
   ]
  },
  {
   "cell_type": "code",
   "execution_count": 38,
   "metadata": {},
   "outputs": [
    {
     "data": {
      "text/plain": [
       "910339449193"
      ]
     },
     "execution_count": 38,
     "metadata": {},
     "output_type": "execute_result"
    }
   ],
   "source": [
    "prod(my_ticket[i] for i in ix)"
   ]
  }
 ],
 "metadata": {
  "kernelspec": {
   "display_name": ".venv",
   "language": "python",
   "name": "python3"
  },
  "language_info": {
   "codemirror_mode": {
    "name": "ipython",
    "version": 3
   },
   "file_extension": ".py",
   "mimetype": "text/x-python",
   "name": "python",
   "nbconvert_exporter": "python",
   "pygments_lexer": "ipython3",
   "version": "3.13.0"
  }
 },
 "nbformat": 4,
 "nbformat_minor": 2
}
