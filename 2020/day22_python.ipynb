{
 "cells": [
  {
   "cell_type": "code",
   "execution_count": 1,
   "metadata": {},
   "outputs": [],
   "source": [
    "from collections import deque"
   ]
  },
  {
   "cell_type": "code",
   "execution_count": 2,
   "metadata": {},
   "outputs": [],
   "source": [
    "with open(\"22_input.txt\", \"r\") as f:\n",
    "    p1, p2 = f.read().strip().split(\"\\n\\n\")\n",
    "    player1 = deque([int(s) for s in p1.split(\":\")[1].strip().split(\"\\n\")])\n",
    "    player2 = deque([int(s) for s in p2.split(\":\")[1].strip().split(\"\\n\")])"
   ]
  },
  {
   "cell_type": "code",
   "execution_count": 3,
   "metadata": {},
   "outputs": [],
   "source": [
    "while player1 and player2:\n",
    "    card1 = player1.popleft()\n",
    "    card2 = player2.popleft()\n",
    "    if card1 > card2:\n",
    "        player1.extend([card1, card2])\n",
    "    else:\n",
    "        player2.extend([card2, card1])"
   ]
  },
  {
   "cell_type": "code",
   "execution_count": 4,
   "metadata": {},
   "outputs": [
    {
     "data": {
      "text/plain": [
       "35562"
      ]
     },
     "execution_count": 4,
     "metadata": {},
     "output_type": "execute_result"
    }
   ],
   "source": [
    "sum((n + 1) * card for n, card in enumerate(reversed(player1)))"
   ]
  },
  {
   "cell_type": "code",
   "execution_count": 5,
   "metadata": {},
   "outputs": [],
   "source": [
    "def run_game(player1, player2):\n",
    "    history1 = set()\n",
    "    history2 = set()\n",
    "    while player1 and player2:\n",
    "        if tuple(player1) in history1 or  tuple(player2) in history2:\n",
    "            return 1, player1\n",
    "        history1.add(tuple(player1))\n",
    "        history2.add(tuple(player2))\n",
    "        card1 = player1[0]\n",
    "        card2 = player2[0]\n",
    "        if len(player1[1:]) >= card1 and len(player2[1:]) >= card2:\n",
    "            winner, hand = run_game(player1[1:card1+1], player2[1:card2+1])\n",
    "        else:\n",
    "            winner =  1 if card1 > card2 else 2\n",
    "        if winner == 1:\n",
    "            player1 = player1[1:] + [card1, card2]\n",
    "            player2 = player2[1:]\n",
    "        else:\n",
    "            player2 = player2[1:] + [card2, card1]\n",
    "            player1 = player1[1:]\n",
    "    if player1:\n",
    "        return 1, player1\n",
    "    else:\n",
    "        return 2, player2"
   ]
  },
  {
   "cell_type": "code",
   "execution_count": 10,
   "metadata": {},
   "outputs": [],
   "source": [
    "with open(\"22_input.txt\", \"r\") as f:\n",
    "    p1, p2 = f.read().strip().split(\"\\n\\n\")\n",
    "    player1 = [int(s) for s in p1.split(\":\")[1].strip().split(\"\\n\")]\n",
    "    player2 = [int(s) for s in p2.split(\":\")[1].strip().split(\"\\n\")]\n",
    "\n",
    "\n",
    "winner, hand = run_game(player1, player2)"
   ]
  },
  {
   "cell_type": "code",
   "execution_count": 11,
   "metadata": {},
   "outputs": [
    {
     "data": {
      "text/plain": [
       "34424"
      ]
     },
     "execution_count": 11,
     "metadata": {},
     "output_type": "execute_result"
    }
   ],
   "source": [
    "sum((n + 1) * card for n, card in enumerate(reversed(hand)))"
   ]
  }
 ],
 "metadata": {
  "kernelspec": {
   "display_name": ".venv",
   "language": "python",
   "name": "python3"
  },
  "language_info": {
   "codemirror_mode": {
    "name": "ipython",
    "version": 3
   },
   "file_extension": ".py",
   "mimetype": "text/x-python",
   "name": "python",
   "nbconvert_exporter": "python",
   "pygments_lexer": "ipython3",
   "version": "3.13.0"
  }
 },
 "nbformat": 4,
 "nbformat_minor": 2
}
