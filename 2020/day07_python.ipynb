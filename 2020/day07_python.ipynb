{
 "cells": [
  {
   "cell_type": "code",
   "execution_count": 1,
   "metadata": {},
   "outputs": [],
   "source": [
    "import re"
   ]
  },
  {
   "cell_type": "code",
   "execution_count": 45,
   "metadata": {},
   "outputs": [],
   "source": [
    "with open(\"7_input.txt\", \"r\") as f:\n",
    "    bag_rules = {}\n",
    "    for line in f.readlines():\n",
    "        main_bag, contained_bags = line.strip().split(\" bags contain \")\n",
    "        bag_rules[main_bag] = []\n",
    "        for bag in re.findall(r\"(\\d+) (\\w+ \\w+) bags?\", contained_bags):\n",
    "            n = int(bag[0])\n",
    "            bag_type = bag[1]\n",
    "            bag_rules[main_bag].append((n, bag_type))"
   ]
  },
  {
   "cell_type": "code",
   "execution_count": 46,
   "metadata": {},
   "outputs": [],
   "source": [
    "def contains_bag(bag):\n",
    "    if bag == \"shiny gold\":\n",
    "        return True\n",
    "    return any(contains_bag(b[1]) for b in bag_rules[bag])"
   ]
  },
  {
   "cell_type": "code",
   "execution_count": 47,
   "metadata": {},
   "outputs": [
    {
     "data": {
      "text/plain": [
       "226"
      ]
     },
     "execution_count": 47,
     "metadata": {},
     "output_type": "execute_result"
    }
   ],
   "source": [
    "sum(contains_bag(bag) for bag in bag_rules.keys() if bag != \"shiny gold\")"
   ]
  },
  {
   "cell_type": "code",
   "execution_count": 55,
   "metadata": {},
   "outputs": [
    {
     "data": {
      "text/plain": [
       "9569"
      ]
     },
     "execution_count": 55,
     "metadata": {},
     "output_type": "execute_result"
    }
   ],
   "source": [
    "mem = {}\n",
    "def count_bags(bag):\n",
    "    if not bag_rules[bag]:\n",
    "        return 0\n",
    "    else:\n",
    "        if bag in mem:\n",
    "            return mem[bag]\n",
    "        else:\n",
    "            mem[bag] = sum(n * (1 + count_bags(b)) for (n, b) in bag_rules[bag])\n",
    "            return mem[bag]\n",
    "        \n",
    "count_bags(\"shiny gold\")"
   ]
  }
 ],
 "metadata": {
  "kernelspec": {
   "display_name": "ds",
   "language": "python",
   "name": "python3"
  },
  "language_info": {
   "codemirror_mode": {
    "name": "ipython",
    "version": 3
   },
   "file_extension": ".py",
   "mimetype": "text/x-python",
   "name": "python",
   "nbconvert_exporter": "python",
   "pygments_lexer": "ipython3",
   "version": "3.12.7"
  }
 },
 "nbformat": 4,
 "nbformat_minor": 2
}
