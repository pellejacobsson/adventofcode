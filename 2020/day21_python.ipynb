{
 "cells": [
  {
   "cell_type": "code",
   "execution_count": 23,
   "metadata": {},
   "outputs": [],
   "source": [
    "from collections import defaultdict"
   ]
  },
  {
   "cell_type": "code",
   "execution_count": 79,
   "metadata": {},
   "outputs": [],
   "source": [
    "with open(\"21_input.txt\", \"r\") as f:\n",
    "    food = {}\n",
    "    all_ingredients = []\n",
    "    for line in f:\n",
    "        ingredients, allergens = line.strip().split(\" (contains \")\n",
    "        ingredients = ingredients.split(\" \")\n",
    "        allergens = allergens[:-1].split(\", \")\n",
    "        all_ingredients.extend(ingredients)\n",
    "        for allergen in allergens:\n",
    "            if allergen in food:\n",
    "                food[allergen] = food[allergen].intersection(ingredients)\n",
    "            else:\n",
    "                food[allergen] = set(ingredients)"
   ]
  },
  {
   "cell_type": "code",
   "execution_count": 54,
   "metadata": {},
   "outputs": [],
   "source": [
    "not_in_ingredients = set(all_ingredients) - set([x for k, v in food.items() for x in v])"
   ]
  },
  {
   "cell_type": "code",
   "execution_count": 60,
   "metadata": {},
   "outputs": [
    {
     "data": {
      "text/plain": [
       "2061"
      ]
     },
     "execution_count": 60,
     "metadata": {},
     "output_type": "execute_result"
    }
   ],
   "source": [
    "sum(sum(not_ing == ing for ing in all_ingredients) for not_ing in not_in_ingredients)"
   ]
  },
  {
   "cell_type": "code",
   "execution_count": 80,
   "metadata": {},
   "outputs": [],
   "source": [
    "food_map = {}\n",
    "while food:\n",
    "    for allergen, ingredients in food.items():\n",
    "        if len(ingredients) == 1:\n",
    "            ingredient = list(ingredients)[0]\n",
    "            food_map[allergen] = ingredient\n",
    "            break\n",
    "    food.pop(allergen)\n",
    "    for allergen in food:\n",
    "        if ingredient in food[allergen]:\n",
    "            food[allergen].remove(ingredient)"
   ]
  },
  {
   "cell_type": "code",
   "execution_count": 87,
   "metadata": {},
   "outputs": [
    {
     "data": {
      "text/plain": [
       "'cdqvp,dglm,zhqjs,rbpg,xvtrfz,tgmzqjz,mfqgx,rffqhl'"
      ]
     },
     "execution_count": 87,
     "metadata": {},
     "output_type": "execute_result"
    }
   ],
   "source": [
    "\",\".join([x[1] for x in sorted(food_map.items())])"
   ]
  }
 ],
 "metadata": {
  "kernelspec": {
   "display_name": ".venv",
   "language": "python",
   "name": "python3"
  },
  "language_info": {
   "codemirror_mode": {
    "name": "ipython",
    "version": 3
   },
   "file_extension": ".py",
   "mimetype": "text/x-python",
   "name": "python",
   "nbconvert_exporter": "python",
   "pygments_lexer": "ipython3",
   "version": "3.13.0"
  }
 },
 "nbformat": 4,
 "nbformat_minor": 2
}
