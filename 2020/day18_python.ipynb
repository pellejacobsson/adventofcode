{
 "cells": [
  {
   "cell_type": "code",
   "execution_count": 1,
   "metadata": {},
   "outputs": [],
   "source": [
    "import re"
   ]
  },
  {
   "cell_type": "code",
   "execution_count": 2,
   "metadata": {},
   "outputs": [],
   "source": [
    "with open(\"18_input.txt\", \"r\") as f:\n",
    "    rows = [r.strip() for r in f]"
   ]
  },
  {
   "cell_type": "code",
   "execution_count": 3,
   "metadata": {},
   "outputs": [
    {
     "name": "stdout",
     "output_type": "stream",
     "text": [
      "701339185745\n"
     ]
    }
   ],
   "source": [
    "tot = 0\n",
    "for row in rows:\n",
    "    while True:\n",
    "        m = re.search(r\"\\(\\d+(?: [\\+\\*] \\d+)*\\)\", row)\n",
    "        if not m:\n",
    "            break\n",
    "        i_start, i_end, s = m.start(), m.end(), m.group()\n",
    "        ss = s[1:-1].split(\" \")\n",
    "        n = int(ss[0])\n",
    "        i = 1\n",
    "        while i < len(ss) - 1:\n",
    "            if ss[i] == \"*\":\n",
    "                n *= int(ss[i + 1])\n",
    "            else:\n",
    "                n += int(ss[i + 1])\n",
    "            i += 2\n",
    "        row = row[:i_start] + str(n) + row[i_end:]\n",
    "    ss = row.split(\" \")\n",
    "    n = int(ss[0])\n",
    "    i = 1\n",
    "    while i < len(ss) - 1:\n",
    "        if ss[i] == \"*\":\n",
    "            n *= int(ss[i + 1])\n",
    "        else:\n",
    "            n += int(ss[i + 1])\n",
    "        i += 2\n",
    "    tot += n\n",
    "print(tot)"
   ]
  },
  {
   "cell_type": "code",
   "execution_count": 4,
   "metadata": {},
   "outputs": [
    {
     "name": "stdout",
     "output_type": "stream",
     "text": [
      "4208490449905\n"
     ]
    }
   ],
   "source": [
    "class wrong_number:\n",
    "    def __init__(self, n):\n",
    "        self.n = n\n",
    "    \n",
    "    def __add__(self, other):\n",
    "        return wrong_number(self.n * other.n)\n",
    "    \n",
    "    def __mul__(self, other):\n",
    "        return wrong_number(self.n + other.n)\n",
    "    \n",
    "    def __repr__(self):\n",
    "        return str(self.n)\n",
    "\n",
    "tot = wrong_number(0)\n",
    "for row in rows:\n",
    "    new_row = []\n",
    "    row_list = (\n",
    "        row.replace(\"+\", \"z\").replace(\"*\", \"+\").replace(\"z\", \"*\")\n",
    "        .replace(\"(\", \" ( \").replace(\")\", \" ) \").split(\" \")\n",
    "    )\n",
    "    for c in row_list:\n",
    "        if c.isdigit():\n",
    "            new_row.append(f\"wrong_number({c})\")\n",
    "        else:\n",
    "            new_row.append(c)\n",
    "    tot *= eval(\" \".join(new_row))\n",
    "print(tot)"
   ]
  }
 ],
 "metadata": {
  "kernelspec": {
   "display_name": ".venv",
   "language": "python",
   "name": "python3"
  },
  "language_info": {
   "codemirror_mode": {
    "name": "ipython",
    "version": 3
   },
   "file_extension": ".py",
   "mimetype": "text/x-python",
   "name": "python",
   "nbconvert_exporter": "python",
   "pygments_lexer": "ipython3",
   "version": "3.13.0"
  }
 },
 "nbformat": 4,
 "nbformat_minor": 2
}
