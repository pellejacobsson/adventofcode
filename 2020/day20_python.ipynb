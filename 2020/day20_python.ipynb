{
 "cells": [
  {
   "cell_type": "code",
   "execution_count": 55,
   "metadata": {},
   "outputs": [],
   "source": [
    "from math import prod\n",
    "import numpy as np\n",
    "import matplotlib.pyplot as plt"
   ]
  },
  {
   "cell_type": "code",
   "execution_count": 15,
   "metadata": {},
   "outputs": [],
   "source": [
    "tiles = {}\n",
    "with open(\"20_input.txt\", \"r\") as f:\n",
    "    tile_list = f.read().strip().split(\"\\n\\n\")\n",
    "    for tile in tile_list:\n",
    "        left, right = tile.split(\":\\n\")\n",
    "        n = int(left.split(\" \")[1])\n",
    "        np_tile = np.array(\n",
    "            [[1 if c == \"#\" else 0 for c in row] for row in right.split(\"\\n\")]\n",
    "        )\n",
    "        tiles[n] = np_tile"
   ]
  },
  {
   "cell_type": "code",
   "execution_count": 16,
   "metadata": {},
   "outputs": [],
   "source": [
    "def transform_tiles(tile):\n",
    "    ttiles = [np.rot90(tile, k) for k in range(0, 4)]\n",
    "    ttiles.extend([np.rot90(np.fliplr(tile), k) for k in range(0, 4)])\n",
    "    return ttiles\n",
    "\n",
    "def find_adjacent(m, dir, tiles):\n",
    "    tile = tiles[m]\n",
    "    for n, tile2 in tiles.items():\n",
    "        if n == m:\n",
    "            continue\n",
    "        for ttile2 in transform_tiles(tile2):\n",
    "            if dir == \"left\" and np.all(tile[:, 0] == ttile2[:, -1]):\n",
    "                return n, ttile2\n",
    "            if dir == \"right\" and np.all(tile[:, -1] == ttile2[:, 0]):\n",
    "                return n, ttile2\n",
    "            if dir == \"up\" and np.all(tile[0, :] == ttile2[-1, :]):\n",
    "                return n, ttile2\n",
    "            if dir == \"down\" and np.all(tile[-1, :] == ttile2[0, :]):\n",
    "                return n, ttile2\n",
    "    return None"
   ]
  },
  {
   "cell_type": "code",
   "execution_count": 17,
   "metadata": {},
   "outputs": [],
   "source": [
    "dirs = [\"left\", \"right\", \"up\", \"down\"]\n",
    "dir_ixs = [0, 1, 2, 3]\n",
    "neighbors= {}\n",
    "tile_ns = list(tiles.keys())\n",
    "for n in tile_ns:\n",
    "    neighbors[n] = [None] * 4\n",
    "    for dir, dir_ix in zip(dirs, dir_ixs):\n",
    "        adjacent = find_adjacent(n, dir, tiles)\n",
    "        if adjacent is not None:\n",
    "            adjacent_n, adjacent_tile = adjacent\n",
    "            neighbors[n][dir_ix] = adjacent_n\n",
    "            tiles[adjacent_n] = adjacent_tile"
   ]
  },
  {
   "cell_type": "code",
   "execution_count": 18,
   "metadata": {},
   "outputs": [
    {
     "data": {
      "text/plain": [
       "68781323018729"
      ]
     },
     "execution_count": 18,
     "metadata": {},
     "output_type": "execute_result"
    }
   ],
   "source": [
    "prod(n for n, adj in neighbors.items() if sum(x is None for x in adj) == 2)"
   ]
  },
  {
   "cell_type": "code",
   "execution_count": 23,
   "metadata": {},
   "outputs": [],
   "source": [
    "def get_dir_trans(tile_n, neighbor):\n",
    "    tile = flipped_tiles[tile_n]\n",
    "    tile2 = tiles[neighbor]\n",
    "    for ttile2 in transform_tiles(tile2):\n",
    "        if np.all(tile[:, 0] == ttile2[:, -1]):\n",
    "            return 0, -1, ttile2\n",
    "        if np.all(tile[:, -1] == ttile2[:, 0]):\n",
    "            return 0, 1, ttile2\n",
    "        if np.all(tile[0, :] == ttile2[-1, :]):\n",
    "            return -1, 0, ttile2\n",
    "        if np.all(tile[-1, :] == ttile2[0, :]):\n",
    "            return 1, 0, ttile2\n",
    "    raise ValueError(\"Neighbor not found\")\n",
    "\n",
    "grid = {}\n",
    "stack = [(0, 0, 1559)]\n",
    "visited = set()\n",
    "flipped_tiles = {1559: tiles[1559]}\n",
    "while stack:\n",
    "    i, j, tile_n = stack.pop()\n",
    "    if tile_n in visited:\n",
    "        continue\n",
    "    visited.add(tile_n)\n",
    "    grid[i, j] = tile_n\n",
    "    for neighbor in neighbors[tile_n]:\n",
    "        if neighbor is not None and neighbor not in visited:\n",
    "            di, dj, tile_neighbor = get_dir_trans(tile_n, neighbor)\n",
    "            flipped_tiles[neighbor] = tile_neighbor\n",
    "            stack.append((i + di, j + dj, neighbor))"
   ]
  },
  {
   "cell_type": "code",
   "execution_count": 39,
   "metadata": {},
   "outputs": [],
   "source": [
    "image = np.zeros((96, 96))\n",
    "i_min = min(x[0] for x in grid)\n",
    "i_max = max(x[0] for x in grid)\n",
    "j_min = min(x[1] for x in grid)\n",
    "j_max = max(x[1] for x in grid)"
   ]
  },
  {
   "cell_type": "code",
   "execution_count": 40,
   "metadata": {},
   "outputs": [
    {
     "data": {
      "text/plain": [
       "(-5, 6, 0, 11)"
      ]
     },
     "execution_count": 40,
     "metadata": {},
     "output_type": "execute_result"
    }
   ],
   "source": [
    "i_min, i_max, j_min, j_max"
   ]
  },
  {
   "cell_type": "code",
   "execution_count": 51,
   "metadata": {},
   "outputs": [],
   "source": [
    "for di in range(12):\n",
    "    for dj in range(12):\n",
    "        i = i_min + di\n",
    "        j = j_min + dj\n",
    "        tile_n = grid[i, j]\n",
    "        tile = flipped_tiles[tile_n][1:-1, 1:-1]\n",
    "        i_ix = [ii + 8 * di for ii in range(8)]\n",
    "        j_ix = [jj + 8 * dj for jj in range(8)]\n",
    "        image[8*di:8*di+8, 8*dj:8*dj+8] = tile"
   ]
  },
  {
   "cell_type": "code",
   "execution_count": 57,
   "metadata": {},
   "outputs": [
    {
     "data": {
      "text/plain": [
       "<matplotlib.image.AxesImage at 0x12cefefd0>"
      ]
     },
     "execution_count": 57,
     "metadata": {},
     "output_type": "execute_result"
    },
    {
     "data": {
      "image/png": "[encoded data removed]",
      "text/plain": [
       "<Figure size 640x480 with 1 Axes>"
      ]
     },
     "metadata": {},
     "output_type": "display_data"
    }
   ],
   "source": [
    "plt.imshow(image, cmap=\"gray\")"
   ]
  },
  {
   "cell_type": "code",
   "execution_count": 59,
   "metadata": {},
   "outputs": [],
   "source": [
    "monster = [\n",
    "    (0, 18),\n",
    "    (1, 0), (1, 5), (1, 6), (1, 11), (1, 12), (1, 17), (1, 18), (1, 19),\n",
    "    (2, 1), (2, 4), (2, 7), (2, 10), (2, 13), (2, 16)\n",
    "]"
   ]
  },
  {
   "cell_type": "code",
   "execution_count": 63,
   "metadata": {},
   "outputs": [],
   "source": [
    "monsters = []\n",
    "for image_trans in transform_tiles(image):\n",
    "    monster_count = 0\n",
    "    for i in range(95 - 2):\n",
    "        for j in range(1, 95 - 19):\n",
    "            c = 0\n",
    "            for di, dj in monster:\n",
    "                if image_trans[i + di, j + dj]:\n",
    "                    c += 1\n",
    "            if c == 15:\n",
    "                monster_count += 1\n",
    "    monsters.append(monster_count)"
   ]
  },
  {
   "cell_type": "code",
   "execution_count": 64,
   "metadata": {},
   "outputs": [
    {
     "data": {
      "text/plain": [
       "[0, 0, 0, 0, 0, 0, 0, 19]"
      ]
     },
     "execution_count": 64,
     "metadata": {},
     "output_type": "execute_result"
    }
   ],
   "source": [
    "monsters"
   ]
  },
  {
   "cell_type": "code",
   "execution_count": 68,
   "metadata": {},
   "outputs": [
    {
     "data": {
      "text/plain": [
       "np.float64(1629.0)"
      ]
     },
     "execution_count": 68,
     "metadata": {},
     "output_type": "execute_result"
    }
   ],
   "source": [
    "sum(sum(image)) - 19 * 15"
   ]
  }
 ],
 "metadata": {
  "kernelspec": {
   "display_name": ".venv",
   "language": "python",
   "name": "python3"
  },
  "language_info": {
   "codemirror_mode": {
    "name": "ipython",
    "version": 3
   },
   "file_extension": ".py",
   "mimetype": "text/x-python",
   "name": "python",
   "nbconvert_exporter": "python",
   "pygments_lexer": "ipython3",
   "version": "3.13.0"
  }
 },
 "nbformat": 4,
 "nbformat_minor": 2
}
