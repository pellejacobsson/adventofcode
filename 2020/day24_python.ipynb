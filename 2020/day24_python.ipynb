{
 "cells": [
  {
   "cell_type": "code",
   "execution_count": 1,
   "metadata": {},
   "outputs": [],
   "source": [
    "translate = {\"ne\": \"1\", \"se\": \"3\", \"sw\": \"4\", \"nw\": \"6\", \"e\": \"2\", \"w\": \"5\"}\n",
    "with open(\"24_input.txt\", \"r\") as f:\n",
    "    steps_list = []\n",
    "    for line in f:\n",
    "        line = line.strip()\n",
    "        for old, new in translate.items():\n",
    "            line = line.replace(old, new)\n",
    "        steps_list.append(line)"
   ]
  },
  {
   "cell_type": "code",
   "execution_count": 2,
   "metadata": {},
   "outputs": [],
   "source": [
    "grid = {}\n",
    "for steps in steps_list:\n",
    "    pos = [0, 0, 0]\n",
    "    for step in steps:\n",
    "        match step:\n",
    "            case \"1\":\n",
    "                pos[1] += 1\n",
    "                pos[2] += 1\n",
    "            case \"2\":\n",
    "                pos[0] += 1\n",
    "                pos[1] += 1\n",
    "            case \"3\":\n",
    "                pos[0] += 1\n",
    "                pos[2] -= 1\n",
    "            case \"4\":\n",
    "                pos[1] -= 1\n",
    "                pos[2] -= 1\n",
    "            case \"5\":\n",
    "                pos[0] -= 1\n",
    "                pos[1] -= 1\n",
    "            case \"6\":\n",
    "                pos[0] -= 1\n",
    "                pos[2] += 1\n",
    "            case _:\n",
    "                print(\"Error!\")\n",
    "    pos = tuple(pos)\n",
    "    if pos in grid:\n",
    "        grid[pos] = 1 if grid[pos] == 0 else 0\n",
    "    else:\n",
    "        grid[pos] = 1\n",
    "            "
   ]
  },
  {
   "cell_type": "code",
   "execution_count": 3,
   "metadata": {},
   "outputs": [
    {
     "data": {
      "text/plain": [
       "293"
      ]
     },
     "execution_count": 3,
     "metadata": {},
     "output_type": "execute_result"
    }
   ],
   "source": [
    "sum(grid.values())"
   ]
  },
  {
   "cell_type": "code",
   "execution_count": 4,
   "metadata": {},
   "outputs": [],
   "source": [
    "adj_dirs = [(0, 1, 1), (1, 1, 0), (1, 0, -1), (0, -1, -1), (-1, -1, 0), (-1, 0, 1)]\n",
    "add_white = []\n",
    "for pos, val in grid.items():\n",
    "    for dx, dy, dz in adj_dirs:\n",
    "        adj_pos = (pos[0] + dx, pos[1] + dy, pos[2] + dz)\n",
    "        if adj_pos not in grid:\n",
    "            add_white.append(adj_pos)\n",
    "for pos in add_white:\n",
    "    grid[pos] = 0"
   ]
  },
  {
   "cell_type": "code",
   "execution_count": 5,
   "metadata": {},
   "outputs": [],
   "source": [
    "for _ in range(100):\n",
    "    to_white = []\n",
    "    to_black = []\n",
    "    for pos, val in grid.items():\n",
    "        n = 0\n",
    "        for dx, dy, dz in adj_dirs:\n",
    "            adj_pos = (pos[0] + dx, pos[1] + dy, pos[2] + dz)\n",
    "            if adj_pos in grid:\n",
    "                if grid[adj_pos] == 1:\n",
    "                    n += 1\n",
    "            else:\n",
    "                to_white.append(adj_pos)\n",
    "        if val == 1 and (n == 0 or n > 2):\n",
    "            to_white.append(pos)\n",
    "        elif val == 0 and n == 2:\n",
    "            to_black.append(pos)\n",
    "    for pos in to_white:\n",
    "        grid[pos] = 0\n",
    "    for pos in to_black:\n",
    "        grid[pos] = 1"
   ]
  },
  {
   "cell_type": "code",
   "execution_count": 6,
   "metadata": {},
   "outputs": [
    {
     "data": {
      "text/plain": [
       "3967"
      ]
     },
     "execution_count": 6,
     "metadata": {},
     "output_type": "execute_result"
    }
   ],
   "source": [
    "sum(grid.values())"
   ]
  }
 ],
 "metadata": {
  "kernelspec": {
   "display_name": ".venv",
   "language": "python",
   "name": "python3"
  },
  "language_info": {
   "codemirror_mode": {
    "name": "ipython",
    "version": 3
   },
   "file_extension": ".py",
   "mimetype": "text/x-python",
   "name": "python",
   "nbconvert_exporter": "python",
   "pygments_lexer": "ipython3",
   "version": "3.13.0"
  }
 },
 "nbformat": 4,
 "nbformat_minor": 2
}
