{
 "cells": [
  {
   "cell_type": "code",
   "execution_count": 13,
   "metadata": {},
   "outputs": [],
   "source": [
    "import math"
   ]
  },
  {
   "cell_type": "code",
   "execution_count": 3,
   "metadata": {},
   "outputs": [],
   "source": [
    "with open(\"12_input.txt\", \"r\") as f:\n",
    "    instructions = [(l[0], int(l.strip()[1:])) for l in f]"
   ]
  },
  {
   "cell_type": "code",
   "execution_count": 12,
   "metadata": {},
   "outputs": [
    {
     "data": {
      "text/plain": [
       "{90, 180, 270}"
      ]
     },
     "execution_count": 12,
     "metadata": {},
     "output_type": "execute_result"
    }
   ],
   "source": [
    "set([x[1] for x in instructions if x[0] in \"RL\"])"
   ]
  },
  {
   "cell_type": "code",
   "execution_count": 50,
   "metadata": {},
   "outputs": [],
   "source": [
    "x, y = 0, 0\n",
    "phi = 0\n",
    "for dir, n in instructions:\n",
    "    match dir:\n",
    "        case \"N\":\n",
    "            y += n\n",
    "        case \"E\":\n",
    "            x += n\n",
    "        case \"S\":\n",
    "            y -= n\n",
    "        case \"W\":\n",
    "            x -= n\n",
    "        case \"L\":\n",
    "            phi += n\n",
    "        case \"R\":\n",
    "            phi -= n\n",
    "        case \"F\":\n",
    "            dx = int(math.cos(phi * math.pi / 180))\n",
    "            dy = int(math.sin(phi * math.pi / 180))\n",
    "            x += n * dx\n",
    "            y += n * dy\n"
   ]
  },
  {
   "cell_type": "code",
   "execution_count": 51,
   "metadata": {},
   "outputs": [
    {
     "data": {
      "text/plain": [
       "441"
      ]
     },
     "execution_count": 51,
     "metadata": {},
     "output_type": "execute_result"
    }
   ],
   "source": [
    "abs(x) + abs(y)"
   ]
  },
  {
   "cell_type": "code",
   "execution_count": 52,
   "metadata": {},
   "outputs": [],
   "source": [
    "x, y = 0, 0\n",
    "wx, wy = 10, 1\n",
    "for dir, n in instructions:\n",
    "    match dir:\n",
    "        case \"N\":\n",
    "            wy += n\n",
    "        case \"E\":\n",
    "            wx += n\n",
    "        case \"S\":\n",
    "            wy -= n\n",
    "        case \"W\":\n",
    "            wx -= n\n",
    "        case \"L\":\n",
    "            if n == 90:\n",
    "                wx, wy = -wy, wx\n",
    "            elif n == 180:\n",
    "                wx, wy = -wx, -wy\n",
    "            else:\n",
    "                wx, wy = wy, -wx\n",
    "        case \"R\":\n",
    "            if n == 90:\n",
    "                wx, wy = wy, -wx\n",
    "            elif n == 180:\n",
    "                wx, wy = -wx, -wy\n",
    "            else:\n",
    "                wx, wy = -wy, wx\n",
    "        case \"F\":\n",
    "            x += n * wx\n",
    "            y += n * wy"
   ]
  },
  {
   "cell_type": "code",
   "execution_count": 53,
   "metadata": {},
   "outputs": [
    {
     "data": {
      "text/plain": [
       "40014"
      ]
     },
     "execution_count": 53,
     "metadata": {},
     "output_type": "execute_result"
    }
   ],
   "source": [
    "abs(x) + abs(y)"
   ]
  }
 ],
 "metadata": {
  "kernelspec": {
   "display_name": ".venv",
   "language": "python",
   "name": "python3"
  },
  "language_info": {
   "codemirror_mode": {
    "name": "ipython",
    "version": 3
   },
   "file_extension": ".py",
   "mimetype": "text/x-python",
   "name": "python",
   "nbconvert_exporter": "python",
   "pygments_lexer": "ipython3",
   "version": "3.13.0"
  }
 },
 "nbformat": 4,
 "nbformat_minor": 2
}
