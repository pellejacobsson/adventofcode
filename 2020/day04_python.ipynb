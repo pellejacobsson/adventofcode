{
 "cells": [
  {
   "cell_type": "code",
   "execution_count": 17,
   "metadata": {},
   "outputs": [],
   "source": [
    "import re"
   ]
  },
  {
   "cell_type": "code",
   "execution_count": 39,
   "metadata": {},
   "outputs": [],
   "source": [
    "with open(\"4_input.txt\", \"r\") as f:\n",
    "     passports = f.read().strip().split(\"\\n\\n\")"
   ]
  },
  {
   "cell_type": "code",
   "execution_count": 49,
   "metadata": {},
   "outputs": [
    {
     "name": "stdout",
     "output_type": "stream",
     "text": [
      "208\n"
     ]
    }
   ],
   "source": [
    "required = set([\"byr\", \"iyr\", \"eyr\", \"hgt\", \"hcl\", \"ecl\", \"pid\"])\n",
    "n = 0\n",
    "for passport in passports:\n",
    "    field_set = {field.split(\":\")[0] for field in re.split(r\"[ \\n]\", passport)}\n",
    "    if required.issubset(field_set):\n",
    "        n += 1\n",
    "print(n)"
   ]
  },
  {
   "cell_type": "code",
   "execution_count": 74,
   "metadata": {},
   "outputs": [
    {
     "name": "stdout",
     "output_type": "stream",
     "text": [
      "167\n"
     ]
    }
   ],
   "source": [
    "n = 0\n",
    "for passport in passports:\n",
    "    pp = {}\n",
    "    for x in re.split(r\"[ \\n]\", passport):\n",
    "        k, v = x.split(\":\")\n",
    "        pp[k] = v\n",
    "    if not required.issubset(pp.keys()):\n",
    "        continue\n",
    "    if int(pp[\"byr\"]) < 1920 or int(pp[\"byr\"]) > 2002:\n",
    "        continue\n",
    "    if int(pp[\"iyr\"]) < 2010 or int(pp[\"iyr\"]) > 2020:\n",
    "        continue\n",
    "    if int(pp[\"eyr\"]) < 2020 or int(pp[\"eyr\"]) > 2030:\n",
    "        continue\n",
    "    if pp[\"hgt\"][-2:] == \"cm\":\n",
    "        if int(pp[\"hgt\"][:-2]) < 150 or int(pp[\"hgt\"][:-2]) > 193:\n",
    "            continue\n",
    "    elif pp[\"hgt\"][-2:] == \"in\":\n",
    "        if int(pp[\"hgt\"][:-2]) < 59 or int(pp[\"hgt\"][:-2]) > 76:\n",
    "            continue\n",
    "    else:\n",
    "        continue\n",
    "    if not re.fullmatch(r\"#[0-9a-f]{6}\", pp[\"hcl\"]):\n",
    "        continue\n",
    "    if not pp[\"ecl\"] in [\"amb\", \"blu\", \"brn\", \"gry\", \"grn\", \"hzl\", \"oth\"]:\n",
    "        continue\n",
    "    if not re.match(r\"^\\d{9}$\", pp[\"pid\"]):\n",
    "        continue\n",
    "    n += 1\n",
    "print(n)"
   ]
  }
 ],
 "metadata": {
  "kernelspec": {
   "display_name": "ds",
   "language": "python",
   "name": "python3"
  },
  "language_info": {
   "codemirror_mode": {
    "name": "ipython",
    "version": 3
   },
   "file_extension": ".py",
   "mimetype": "text/x-python",
   "name": "python",
   "nbconvert_exporter": "python",
   "pygments_lexer": "ipython3",
   "version": "3.12.4"
  }
 },
 "nbformat": 4,
 "nbformat_minor": 2
}
