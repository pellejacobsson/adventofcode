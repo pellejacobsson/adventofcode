{
 "cells": [
  {
   "cell_type": "code",
   "execution_count": 11,
   "metadata": {},
   "outputs": [
    {
     "name": "stdout",
     "output_type": "stream",
     "text": [
      "603\n"
     ]
    }
   ],
   "source": [
    "with open(\"2_input.txt\", \"r\") as f:\n",
    "    count = 0\n",
    "    for line in f:\n",
    "        policy, password = line.strip().split(\": \")\n",
    "        r, c = policy.split(\" \")\n",
    "        n1, n2 = [int(n) for n in r.split(\"-\")]\n",
    "        c_count = password.count(c)\n",
    "        if c_count <= n2 and c_count >= n1:\n",
    "            count += 1\n",
    "print(count)"
   ]
  },
  {
   "cell_type": "code",
   "execution_count": 12,
   "metadata": {},
   "outputs": [
    {
     "name": "stdout",
     "output_type": "stream",
     "text": [
      "404\n"
     ]
    }
   ],
   "source": [
    "with open(\"2_input.txt\", \"r\") as f:\n",
    "    count = 0\n",
    "    for line in f.readlines():\n",
    "        policy, password = line.strip().split(\": \")\n",
    "        r, c = policy.split(\" \")\n",
    "        n1, n2 = [int(n) for n in r.split(\"-\")]\n",
    "        if (password[n1 - 1] == c) ^ (password[n2 - 1] == c):\n",
    "            count += 1\n",
    "print(count)"
   ]
  },
  {
   "cell_type": "code",
   "execution_count": null,
   "metadata": {},
   "outputs": [],
   "source": []
  }
 ],
 "metadata": {
  "kernelspec": {
   "display_name": "ds",
   "language": "python",
   "name": "python3"
  },
  "language_info": {
   "codemirror_mode": {
    "name": "ipython",
    "version": 3
   },
   "file_extension": ".py",
   "mimetype": "text/x-python",
   "name": "python",
   "nbconvert_exporter": "python",
   "pygments_lexer": "ipython3",
   "version": "3.12.4"
  }
 },
 "nbformat": 4,
 "nbformat_minor": 2
}
