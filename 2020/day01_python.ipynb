{
 "cells": [
  {
   "cell_type": "code",
   "execution_count": 1,
   "metadata": {},
   "outputs": [],
   "source": [
    "with open(\"1_input.txt\") as f:\n",
    "    numbers = [int(l.strip()) for l in f]"
   ]
  },
  {
   "cell_type": "code",
   "execution_count": 2,
   "metadata": {},
   "outputs": [
    {
     "name": "stdout",
     "output_type": "stream",
     "text": [
      "788739\n"
     ]
    }
   ],
   "source": [
    "found = False\n",
    "for n in numbers:\n",
    "    if found:\n",
    "        break\n",
    "    for m in numbers:\n",
    "        if n + m == 2020:\n",
    "            print(n * m)\n",
    "            found = True\n",
    "            break"
   ]
  },
  {
   "cell_type": "code",
   "execution_count": 3,
   "metadata": {},
   "outputs": [
    {
     "name": "stdout",
     "output_type": "stream",
     "text": [
      "178724430\n"
     ]
    }
   ],
   "source": [
    "found = False\n",
    "for n in numbers:\n",
    "    if found:\n",
    "        break\n",
    "    for m in numbers:\n",
    "        if found:\n",
    "            break\n",
    "        for p in numbers:\n",
    "            if n + m + p == 2020:\n",
    "                print(n * m * p)\n",
    "                found = True\n",
    "                break"
   ]
  }
 ],
 "metadata": {
  "kernelspec": {
   "display_name": "ds",
   "language": "python",
   "name": "python3"
  },
  "language_info": {
   "codemirror_mode": {
    "name": "ipython",
    "version": 3
   },
   "file_extension": ".py",
   "mimetype": "text/x-python",
   "name": "python",
   "nbconvert_exporter": "python",
   "pygments_lexer": "ipython3",
   "version": "3.12.4"
  }
 },
 "nbformat": 4,
 "nbformat_minor": 2
}
