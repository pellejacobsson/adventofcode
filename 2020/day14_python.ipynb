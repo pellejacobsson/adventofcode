{
 "cells": [
  {
   "cell_type": "code",
   "execution_count": 14,
   "metadata": {},
   "outputs": [],
   "source": [
    "with open(\"14_input.txt\", \"r\") as f:\n",
    "    instructions = []\n",
    "    line = f.readline()\n",
    "    name, val = line.strip().split(\" = \")\n",
    "    part = [val, []]\n",
    "    for line in f:\n",
    "        name, val = line.strip().split(\" = \")\n",
    "        if name == \"mask\":\n",
    "            instructions.append(part)\n",
    "            part = [val, []]\n",
    "        else:\n",
    "            mem = int(name[4:-1])\n",
    "            part[1].append([mem, int(val)])\n",
    "    instructions.append(part)"
   ]
  },
  {
   "cell_type": "code",
   "execution_count": 30,
   "metadata": {},
   "outputs": [],
   "source": [
    "memory = {}\n",
    "for instruction in instructions:\n",
    "    mask = instruction[0]\n",
    "    or_mask = int(mask.replace(\"X\", \"0\"), 2)\n",
    "    and_mask = int(mask.replace(\"X\", \"1\"), 2)\n",
    "    for op in instruction[1]:\n",
    "        memory[op[0]] = (op[1] | or_mask) & and_mask"
   ]
  },
  {
   "cell_type": "code",
   "execution_count": 34,
   "metadata": {},
   "outputs": [
    {
     "data": {
      "text/plain": [
       "18630548206046"
      ]
     },
     "execution_count": 34,
     "metadata": {},
     "output_type": "execute_result"
    }
   ],
   "source": [
    "sum(memory.values())"
   ]
  },
  {
   "cell_type": "code",
   "execution_count": 49,
   "metadata": {},
   "outputs": [],
   "source": [
    "def get_perm(val):\n",
    "    if \"X\" not in val:\n",
    "        return [val]\n",
    "    else:\n",
    "        for i, bit in enumerate(val):\n",
    "            if bit == \"X\":\n",
    "                val1 = val.copy()\n",
    "                val2 = val.copy()\n",
    "                val1[i] = \"0\"\n",
    "                val2[i] = \"1\"\n",
    "                return get_perm(val1) + get_perm(val2)\n",
    "\n",
    "memory = {}\n",
    "for instruction in instructions:\n",
    "    mask = instruction[0]\n",
    "    for op in instruction[1]:\n",
    "        mem = op[0]\n",
    "        val = op[1]\n",
    "        bmem = list(f\"{mem:036b}\")\n",
    "        for i, bit in enumerate(mask):\n",
    "            if bit == \"1\":\n",
    "                bmem[i] = \"1\"\n",
    "            elif bit == \"X\":\n",
    "                bmem[i] = \"X\"\n",
    "        for mem in [int(\"\".join(x), 2) for x in get_perm(bmem)]:\n",
    "            memory[mem] = val\n"
   ]
  },
  {
   "cell_type": "code",
   "execution_count": 51,
   "metadata": {},
   "outputs": [
    {
     "data": {
      "text/plain": [
       "4254673508445"
      ]
     },
     "execution_count": 51,
     "metadata": {},
     "output_type": "execute_result"
    }
   ],
   "source": [
    "sum(memory.values())"
   ]
  }
 ],
 "metadata": {
  "kernelspec": {
   "display_name": ".venv",
   "language": "python",
   "name": "python3"
  },
  "language_info": {
   "codemirror_mode": {
    "name": "ipython",
    "version": 3
   },
   "file_extension": ".py",
   "mimetype": "text/x-python",
   "name": "python",
   "nbconvert_exporter": "python",
   "pygments_lexer": "ipython3",
   "version": "3.13.0"
  }
 },
 "nbformat": 4,
 "nbformat_minor": 2
}
