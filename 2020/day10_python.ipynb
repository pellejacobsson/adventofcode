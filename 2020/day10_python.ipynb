{
 "cells": [
  {
   "cell_type": "code",
   "execution_count": 57,
   "metadata": {},
   "outputs": [],
   "source": [
    "from itertools import groupby\n",
    "from math import comb"
   ]
  },
  {
   "cell_type": "code",
   "execution_count": 98,
   "metadata": {},
   "outputs": [],
   "source": [
    "with open(\"10_input.txt\", \"r\") as f:\n",
    "    adapters = [int(l.strip()) for l in f]"
   ]
  },
  {
   "cell_type": "code",
   "execution_count": 99,
   "metadata": {},
   "outputs": [
    {
     "name": "stdout",
     "output_type": "stream",
     "text": [
      "2232\n"
     ]
    }
   ],
   "source": [
    "chain = [0] + sorted(adapters) + [max(adapters) + 3]\n",
    "n1 = sum(x - y == 1 for (x, y) in zip(chain[1:], chain))\n",
    "n3 = sum(x - y == 3 for (x, y) in zip(chain[1:], chain))\n",
    "print(n1 * n3)"
   ]
  },
  {
   "cell_type": "code",
   "execution_count": 104,
   "metadata": {},
   "outputs": [
    {
     "name": "stdout",
     "output_type": "stream",
     "text": [
      "173625106649344\n"
     ]
    }
   ],
   "source": [
    "n = 1\n",
    "for diff, group in groupby((x - y for (x, y) in zip(chain[1:], chain))):\n",
    "    if diff == 3:\n",
    "        continue\n",
    "    group_length = len(list(group))\n",
    "    if group_length < 1:\n",
    "        continue\n",
    "    limit = min(2, group_length - 1)\n",
    "    n *= sum(comb(group_length - 1, k) for k in range(limit + 1))\n",
    "print(n)"
   ]
  },
  {
   "cell_type": "code",
   "execution_count": null,
   "metadata": {},
   "outputs": [],
   "source": []
  },
  {
   "cell_type": "code",
   "execution_count": null,
   "metadata": {},
   "outputs": [],
   "source": []
  }
 ],
 "metadata": {
  "kernelspec": {
   "display_name": "ds",
   "language": "python",
   "name": "python3"
  },
  "language_info": {
   "codemirror_mode": {
    "name": "ipython",
    "version": 3
   },
   "file_extension": ".py",
   "mimetype": "text/x-python",
   "name": "python",
   "nbconvert_exporter": "python",
   "pygments_lexer": "ipython3",
   "version": "3.12.7"
  }
 },
 "nbformat": 4,
 "nbformat_minor": 2
}
