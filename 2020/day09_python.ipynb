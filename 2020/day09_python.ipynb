{
 "cells": [
  {
   "cell_type": "code",
   "execution_count": 1,
   "metadata": {},
   "outputs": [],
   "source": [
    "with open(\"9_input.txt\", \"r\") as f:\n",
    "    numbers = [int(s.strip()) for s in f]"
   ]
  },
  {
   "cell_type": "code",
   "execution_count": 6,
   "metadata": {},
   "outputs": [],
   "source": [
    "def sum_of_prev(i):\n",
    "    for n in numbers[i-25:i]:\n",
    "        for m in numbers[i-24:i]:\n",
    "            if m + n == numbers[i]:\n",
    "                return True\n",
    "    return False"
   ]
  },
  {
   "cell_type": "code",
   "execution_count": 10,
   "metadata": {},
   "outputs": [
    {
     "name": "stdout",
     "output_type": "stream",
     "text": [
      "530627549\n"
     ]
    }
   ],
   "source": [
    "for i in range(25, len(numbers)):\n",
    "    if not sum_of_prev(i):\n",
    "        n_invalid = numbers[i]\n",
    "        print(n_invalid)\n",
    "        break"
   ]
  },
  {
   "cell_type": "code",
   "execution_count": 22,
   "metadata": {},
   "outputs": [
    {
     "name": "stdout",
     "output_type": "stream",
     "text": [
      "77730285\n"
     ]
    }
   ],
   "source": [
    "found_it = False\n",
    "for i in range(len(numbers)):\n",
    "    if found_it:\n",
    "        break\n",
    "    s = numbers[i]\n",
    "    j = i + 1\n",
    "    while s < n_invalid:\n",
    "        s += numbers[j]\n",
    "        if s == n_invalid:\n",
    "            found_it = True\n",
    "            print(min(numbers[i:j]) + max(numbers[i:j]))\n",
    "            break\n",
    "        j += 1"
   ]
  }
 ],
 "metadata": {
  "kernelspec": {
   "display_name": "ds",
   "language": "python",
   "name": "python3"
  },
  "language_info": {
   "codemirror_mode": {
    "name": "ipython",
    "version": 3
   },
   "file_extension": ".py",
   "mimetype": "text/x-python",
   "name": "python",
   "nbconvert_exporter": "python",
   "pygments_lexer": "ipython3",
   "version": "3.12.7"
  }
 },
 "nbformat": 4,
 "nbformat_minor": 2
}
