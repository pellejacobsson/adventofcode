{
 "cells": [
  {
   "cell_type": "code",
   "execution_count": 46,
   "metadata": {},
   "outputs": [],
   "source": [
    "with open(\"11_input.txt\", \"r\") as f:\n",
    "    grid = {}\n",
    "    for i, line in enumerate(f):\n",
    "        for j, c in enumerate(line.strip()):\n",
    "            if c in \"L#\":\n",
    "                grid[i, j] = c"
   ]
  },
  {
   "cell_type": "code",
   "execution_count": 25,
   "metadata": {},
   "outputs": [],
   "source": [
    "while True:\n",
    "    new_grid = grid.copy()\n",
    "    for (i, j), seat in grid.items():\n",
    "        n_occupied = 0\n",
    "        for di in [0, -1, 1]:\n",
    "            for dj in [0, -1, 1]:\n",
    "                if di == 0 and dj == 0:\n",
    "                    continue\n",
    "                if (i + di, j + dj) in grid and grid[i + di, j + dj] == \"#\":\n",
    "                    n_occupied += 1\n",
    "        if seat == \"L\" and n_occupied == 0:\n",
    "            new_grid[i, j] = \"#\"\n",
    "        elif seat == \"#\" and n_occupied >= 4:\n",
    "            new_grid[i, j] = \"L\"\n",
    "    if new_grid == grid:\n",
    "        break\n",
    "    else:\n",
    "        grid = new_grid.copy()"
   ]
  },
  {
   "cell_type": "code",
   "execution_count": 26,
   "metadata": {},
   "outputs": [
    {
     "data": {
      "text/plain": [
       "2476"
      ]
     },
     "execution_count": 26,
     "metadata": {},
     "output_type": "execute_result"
    }
   ],
   "source": [
    "sum(x == \"#\" for x in grid.values())"
   ]
  },
  {
   "cell_type": "code",
   "execution_count": 47,
   "metadata": {},
   "outputs": [],
   "source": [
    "i_max = max(grid.keys(), key=lambda x: x[0])[0]\n",
    "j_max = max(grid.keys(), key=lambda x: x[1])[1]\n",
    "def is_occupied(g, i, j, di, dj):\n",
    "    ni, nj = i + di, j + dj\n",
    "    while ni <= i_max and nj <= j_max and ni >= 0 and nj >= 0:\n",
    "        if (ni, nj) in g and g[ni, nj] == \"#\":\n",
    "            return True\n",
    "        elif (ni, nj) in g and g[ni, nj] == \"L\":\n",
    "            return False\n",
    "        ni += di\n",
    "        nj += dj\n",
    "    return False"
   ]
  },
  {
   "cell_type": "code",
   "execution_count": 48,
   "metadata": {},
   "outputs": [],
   "source": [
    "while True:\n",
    "    new_grid = grid.copy()\n",
    "    for (i, j), seat in grid.items():\n",
    "        n_occupied = 0\n",
    "        for di in [0, -1, 1]:\n",
    "            for dj in [0, -1, 1]:\n",
    "                if di == 0 and dj == 0:\n",
    "                    continue\n",
    "                if is_occupied(grid, i, j, di, dj):\n",
    "                    n_occupied += 1\n",
    "        if seat == \"L\" and n_occupied == 0:\n",
    "            new_grid[i, j] = \"#\"\n",
    "        elif seat == \"#\" and n_occupied >= 5:\n",
    "            new_grid[i, j] = \"L\"\n",
    "    if new_grid == grid:\n",
    "        break\n",
    "    else:\n",
    "        grid = new_grid.copy()"
   ]
  },
  {
   "cell_type": "code",
   "execution_count": 49,
   "metadata": {},
   "outputs": [
    {
     "data": {
      "text/plain": [
       "2257"
      ]
     },
     "execution_count": 49,
     "metadata": {},
     "output_type": "execute_result"
    }
   ],
   "source": [
    "sum(x == \"#\" for x in grid.values())"
   ]
  }
 ],
 "metadata": {
  "kernelspec": {
   "display_name": ".venv",
   "language": "python",
   "name": "python3"
  },
  "language_info": {
   "codemirror_mode": {
    "name": "ipython",
    "version": 3
   },
   "file_extension": ".py",
   "mimetype": "text/x-python",
   "name": "python",
   "nbconvert_exporter": "python",
   "pygments_lexer": "ipython3",
   "version": "3.13.0"
  }
 },
 "nbformat": 4,
 "nbformat_minor": 2
}
