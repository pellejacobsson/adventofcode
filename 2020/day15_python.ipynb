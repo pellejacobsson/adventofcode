{
 "cells": [
  {
   "cell_type": "code",
   "execution_count": 1,
   "metadata": {},
   "outputs": [
    {
     "name": "stdout",
     "output_type": "stream",
     "text": [
      "30000000th number spoken: 31916\n"
     ]
    }
   ],
   "source": [
    "numbers = [0, 13, 16, 17, 1, 10, 6]\n",
    "history = {n: [i] for (i, n) in enumerate(numbers)}\n",
    "last = 6\n",
    "#n = 2020\n",
    "n = 30000000\n",
    "for i in range(7, n):\n",
    "    if len(history[last]) == 1:\n",
    "        last = 0\n",
    "        history[0] = [history[0][-1], i]\n",
    "    else:\n",
    "        last = history[last][-1] - history[last][-2]\n",
    "        if last in history:\n",
    "            history[last] = [history[last][-1], i]\n",
    "        else:\n",
    "            history[last] = [i]\n",
    "print(f\"{n}th number spoken: {last}\")"
   ]
  },
  {
   "cell_type": "code",
   "execution_count": 6,
   "metadata": {},
   "outputs": [
    {
     "name": "stdout",
     "output_type": "stream",
     "text": [
      "30000000th number spoken: 31916\n"
     ]
    }
   ],
   "source": [
    "numbers = [0, 13, 16, 17, 1, 10, 6]\n",
    "history = {n: i for i, n in enumerate(numbers)}\n",
    "last = 6\n",
    "n = 30000000\n",
    "for i in range(7, n):\n",
    "    if last in history:\n",
    "        new_last = i - 1 - history[last]\n",
    "    else:\n",
    "        new_last = 0\n",
    "    history[last] = i - 1\n",
    "    last = new_last\n",
    "\n",
    "print(f\"{n}th number spoken: {last}\")"
   ]
  },
  {
   "cell_type": "code",
   "execution_count": null,
   "metadata": {},
   "outputs": [],
   "source": []
  }
 ],
 "metadata": {
  "kernelspec": {
   "display_name": ".venv",
   "language": "python",
   "name": "python3"
  },
  "language_info": {
   "codemirror_mode": {
    "name": "ipython",
    "version": 3
   },
   "file_extension": ".py",
   "mimetype": "text/x-python",
   "name": "python",
   "nbconvert_exporter": "python",
   "pygments_lexer": "ipython3",
   "version": "3.13.0"
  }
 },
 "nbformat": 4,
 "nbformat_minor": 2
}
