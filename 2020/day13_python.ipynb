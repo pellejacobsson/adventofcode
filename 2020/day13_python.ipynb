{
 "cells": [
  {
   "cell_type": "code",
   "execution_count": 24,
   "metadata": {},
   "outputs": [],
   "source": [
    "from math import prod"
   ]
  },
  {
   "cell_type": "code",
   "execution_count": 25,
   "metadata": {},
   "outputs": [],
   "source": [
    "with open(\"13_input.txt\", \"r\") as f:\n",
    "    lines = [line.strip() for line in f]\n",
    "    earliest = int(lines[0])\n",
    "    bus_ids = [(n, int(id)) for (n, id) in enumerate(lines[1].split(\",\")) if id != \"x\"]"
   ]
  },
  {
   "cell_type": "code",
   "execution_count": 26,
   "metadata": {},
   "outputs": [
    {
     "data": {
      "text/plain": [
       "(1001938,\n",
       " [(0, 41),\n",
       "  (35, 37),\n",
       "  (41, 431),\n",
       "  (49, 23),\n",
       "  (54, 13),\n",
       "  (58, 17),\n",
       "  (60, 19),\n",
       "  (72, 863),\n",
       "  (101, 29)])"
      ]
     },
     "execution_count": 26,
     "metadata": {},
     "output_type": "execute_result"
    }
   ],
   "source": [
    "earliest, bus_ids"
   ]
  },
  {
   "cell_type": "code",
   "execution_count": 27,
   "metadata": {},
   "outputs": [
    {
     "name": "stdout",
     "output_type": "stream",
     "text": [
      "4315\n"
     ]
    }
   ],
   "source": [
    "r = min(((earliest // x + 1) * x - earliest, x) for (_, x) in bus_ids)\n",
    "print(r[0] * r[1])"
   ]
  },
  {
   "cell_type": "code",
   "execution_count": 32,
   "metadata": {},
   "outputs": [
    {
     "data": {
      "text/plain": [
       "[(0, 41),\n",
       " (35, 37),\n",
       " (41, 431),\n",
       " (49, 23),\n",
       " (54, 13),\n",
       " (58, 17),\n",
       " (60, 19),\n",
       " (72, 863),\n",
       " (101, 29)]"
      ]
     },
     "execution_count": 32,
     "metadata": {},
     "output_type": "execute_result"
    }
   ],
   "source": [
    "bus_ids"
   ]
  },
  {
   "cell_type": "markdown",
   "metadata": {},
   "source": [
    "$$\n",
    "    \\begin{split}\n",
    "        x & \\equiv a_0 \\pmod{m_0} \\\\\n",
    "        x & \\equiv a_1 \\pmod{m_0} \\\\\n",
    "        & \\cdots \\\\\n",
    "        x & \\equiv a_i \\pmod{m_i}\n",
    "    \\end{split}\n",
    "$$"
   ]
  },
  {
   "cell_type": "code",
   "execution_count": 34,
   "metadata": {},
   "outputs": [
    {
     "name": "stdout",
     "output_type": "stream",
     "text": [
      "556100168221141\n"
     ]
    }
   ],
   "source": [
    "def mod_inverse(a, m):\n",
    "    m0, x0, x1 = m, 0, 1\n",
    "    while a > 1:\n",
    "        q = a // m\n",
    "        a, m = m, a % m\n",
    "        x0, x1 = x1 - q * x0, x0\n",
    "    return x1 + m0 if x1 < 0 else x1\n",
    "\n",
    "m = [x[1] for x in bus_ids]\n",
    "a = [-x[0] for x in bus_ids]\n",
    "M = prod(m)\n",
    "x = 0\n",
    "for ai, mi in zip(a, m):\n",
    "    Mi = M // mi\n",
    "    yi = mod_inverse(Mi, mi)\n",
    "    x += ai * Mi * yi\n",
    "print(x % M)"
   ]
  },
  {
   "cell_type": "code",
   "execution_count": null,
   "metadata": {},
   "outputs": [],
   "source": []
  }
 ],
 "metadata": {
  "kernelspec": {
   "display_name": ".venv",
   "language": "python",
   "name": "python3"
  },
  "language_info": {
   "codemirror_mode": {
    "name": "ipython",
    "version": 3
   },
   "file_extension": ".py",
   "mimetype": "text/x-python",
   "name": "python",
   "nbconvert_exporter": "python",
   "pygments_lexer": "ipython3",
   "version": "3.13.0"
  }
 },
 "nbformat": 4,
 "nbformat_minor": 2
}
