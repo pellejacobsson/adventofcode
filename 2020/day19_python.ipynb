{
 "cells": [
  {
   "cell_type": "code",
   "execution_count": 2,
   "metadata": {},
   "outputs": [],
   "source": [
    "import re"
   ]
  },
  {
   "cell_type": "code",
   "execution_count": 3,
   "metadata": {},
   "outputs": [],
   "source": [
    "with open(\"19_input.txt\", \"r\") as f:\n",
    "    rules_raw, messages = f.read().split(\"\\n\\n\")\n",
    "rules_raw = rules_raw.replace(\"\\\"\", \"\").split(\"\\n\")\n",
    "messages = messages.strip().split(\"\\n\")"
   ]
  },
  {
   "cell_type": "code",
   "execution_count": 4,
   "metadata": {},
   "outputs": [],
   "source": [
    "rules = {}\n",
    "for rule in rules_raw:\n",
    "    key, val = rule.split(\": \")\n",
    "    key = int(key)\n",
    "    if val.isalpha():\n",
    "        rules[key] = [[val]]\n",
    "    elif \"|\" not in val:\n",
    "        rules[key] = [[int(x) for x in val.split(\" \")]]\n",
    "    else:\n",
    "        left, right = val.split(\" | \")\n",
    "        rules[key] = [\n",
    "            [int(x) for x in left.split(\" \")], [int(x) for x in right.split(\" \")]\n",
    "        ]"
   ]
  },
  {
   "cell_type": "code",
   "execution_count": 5,
   "metadata": {},
   "outputs": [
    {
     "data": {
      "text/plain": [
       "134"
      ]
     },
     "execution_count": 5,
     "metadata": {},
     "output_type": "execute_result"
    }
   ],
   "source": [
    "def get_reg_expr(n):\n",
    "    if len(rules[n]) == 1:\n",
    "        if len(rules[n][0]) == 1:\n",
    "            if isinstance(rules[n][0][0], int):\n",
    "                return get_reg_expr(rules[n][0][0])\n",
    "            else:\n",
    "                return rules[n][0][0]\n",
    "        else:\n",
    "            expr = \"\"\n",
    "            for m in rules[n][0]:\n",
    "                expr += get_reg_expr(m)\n",
    "            return expr\n",
    "    else:\n",
    "        expr = \"(\"\n",
    "        for p in rules[n][0]:\n",
    "            expr += get_reg_expr(p)\n",
    "        expr += \"|\"\n",
    "        for q in rules[n][1]:\n",
    "            expr += get_reg_expr(q)\n",
    "        return expr + \")\"\n",
    "    \n",
    "expr = re.compile(\"^\" + get_reg_expr(0) + \"$\")\n",
    "sum(expr.fullmatch(message) is not None for message in messages)"
   ]
  },
  {
   "cell_type": "code",
   "execution_count": 30,
   "metadata": {},
   "outputs": [
    {
     "name": "stdout",
     "output_type": "stream",
     "text": [
      "377\n"
     ]
    }
   ],
   "source": [
    "rule8 = [[42] * n for n in range(1, 6)]\n",
    "rule11 = [[42] * n + [31] * n for n in range(1, 6)]\n",
    "\n",
    "exprs = []\n",
    "for r8 in rule8:\n",
    "    for r11 in rule11:\n",
    "        exprs.append(\"\".join(get_reg_expr(n) for n in r8 + r11))\n",
    "        \n",
    "s = 0\n",
    "for message in messages:\n",
    "    for expr in exprs:\n",
    "        exprc = re.compile(\"^\" + expr + \"$\")\n",
    "        if exprc.fullmatch(message) is not None:\n",
    "            s += 1\n",
    "print(s)"
   ]
  }
 ],
 "metadata": {
  "kernelspec": {
   "display_name": ".venv",
   "language": "python",
   "name": "python3"
  },
  "language_info": {
   "codemirror_mode": {
    "name": "ipython",
    "version": 3
   },
   "file_extension": ".py",
   "mimetype": "text/x-python",
   "name": "python",
   "nbconvert_exporter": "python",
   "pygments_lexer": "ipython3",
   "version": "3.13.0"
  }
 },
 "nbformat": 4,
 "nbformat_minor": 2
}
