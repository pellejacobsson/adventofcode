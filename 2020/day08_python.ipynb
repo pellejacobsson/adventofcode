{
 "cells": [
  {
   "cell_type": "code",
   "execution_count": 46,
   "metadata": {},
   "outputs": [],
   "source": [
    "from copy import deepcopy"
   ]
  },
  {
   "cell_type": "code",
   "execution_count": 47,
   "metadata": {},
   "outputs": [],
   "source": [
    "with open(\"8_input.txt\", \"r\") as f:\n",
    "    instructions = [[l[0], int(l[1])] for l in (line.strip().split() for line in f)]"
   ]
  },
  {
   "cell_type": "code",
   "execution_count": 48,
   "metadata": {},
   "outputs": [
    {
     "name": "stdout",
     "output_type": "stream",
     "text": [
      "1941\n"
     ]
    }
   ],
   "source": [
    "visited = set()\n",
    "i = 0\n",
    "acc = 0\n",
    "while i not in visited:\n",
    "    visited.add(i)\n",
    "    s, n = instructions[i]\n",
    "    match s:\n",
    "        case \"jmp\":\n",
    "            i += n\n",
    "        case \"acc\":\n",
    "            acc += n\n",
    "            i += 1\n",
    "        case \"nop\":\n",
    "            i += 1\n",
    "print(acc)"
   ]
  },
  {
   "cell_type": "code",
   "execution_count": 49,
   "metadata": {},
   "outputs": [
    {
     "name": "stdout",
     "output_type": "stream",
     "text": [
      "2096\n"
     ]
    }
   ],
   "source": [
    "n_instructions = len(instructions)\n",
    "found_it = False\n",
    "for m in range(n_instructions):\n",
    "    if found_it:\n",
    "        break\n",
    "    if instructions[m][0] == \"jmp\":\n",
    "        new_instructions = deepcopy(instructions)\n",
    "        new_instructions[m][0] = \"nop\"\n",
    "    elif instructions[m][0] == \"nop\":\n",
    "        new_instructions = deepcopy(instructions)\n",
    "        new_instructions[m][0] = \"jmp\"\n",
    "    else:\n",
    "        continue\n",
    "    visited = set()\n",
    "    i = 0\n",
    "    acc = 0\n",
    "    while i not in visited:\n",
    "        visited.add(i)\n",
    "        s, n = new_instructions[i]\n",
    "        match s:\n",
    "            case \"jmp\":\n",
    "                i += n\n",
    "            case \"acc\":\n",
    "                acc += n\n",
    "                i += 1\n",
    "            case \"nop\":\n",
    "                i += 1\n",
    "        if i == n_instructions:\n",
    "            print(acc)\n",
    "            found_it = True\n",
    "            break"
   ]
  }
 ],
 "metadata": {
  "kernelspec": {
   "display_name": ".venv",
   "language": "python",
   "name": "python3"
  },
  "language_info": {
   "codemirror_mode": {
    "name": "ipython",
    "version": 3
   },
   "file_extension": ".py",
   "mimetype": "text/x-python",
   "name": "python",
   "nbconvert_exporter": "python",
   "pygments_lexer": "ipython3",
   "version": "3.12.4"
  }
 },
 "nbformat": 4,
 "nbformat_minor": 2
}
