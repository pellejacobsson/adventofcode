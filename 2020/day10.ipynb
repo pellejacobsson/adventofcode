{
 "cells": [
  {
   "cell_type": "code",
   "execution_count": 41,
   "metadata": {},
   "outputs": [
    {
     "data": {
      "text/plain": [
       "104-element Array{Int64,1}:\n",
       " 128\n",
       "   6\n",
       " 152\n",
       "  16\n",
       " 118\n",
       "  94\n",
       " 114\n",
       "   3\n",
       " 146\n",
       "  44\n",
       " 113\n",
       "  83\n",
       "  46\n",
       "   ⋮\n",
       "  74\n",
       " 101\n",
       "  73\n",
       "  20\n",
       "  98\n",
       " 154\n",
       "  89\n",
       "  62\n",
       " 100\n",
       "  39\n",
       "   0\n",
       " 165"
      ]
     },
     "execution_count": 41,
     "metadata": {},
     "output_type": "execute_result"
    }
   ],
   "source": [
    "adapters = open(\"10_input.txt\") do f\n",
    "    parse.(Int, readlines(f))\n",
    "end\n",
    "push!(adapters, 0)\n",
    "push!(adapters, maximum(adapters)+3)"
   ]
  },
  {
   "cell_type": "code",
   "execution_count": 42,
   "metadata": {},
   "outputs": [
    {
     "data": {
      "text/plain": [
       "3-element Array{Int64,1}:\n",
       " 72\n",
       "  0\n",
       " 31"
      ]
     },
     "execution_count": 42,
     "metadata": {},
     "output_type": "execute_result"
    }
   ],
   "source": [
    "[sum(diff(sort(adapters)) .== n) for n in 1:3]"
   ]
  },
  {
   "cell_type": "code",
   "execution_count": 21,
   "metadata": {},
   "outputs": [
    {
     "data": {
      "text/plain": [
       "2232"
      ]
     },
     "execution_count": 21,
     "metadata": {},
     "output_type": "execute_result"
    }
   ],
   "source": [
    "72*31"
   ]
  },
  {
   "cell_type": "code",
   "execution_count": 43,
   "metadata": {},
   "outputs": [],
   "source": [
    "p = []\n",
    "for n in [length(ss) for ss in split(join([string(s) for s in diff(sort(adapters))]), \"3\") if length(ss) > 0]\n",
    "    m = min(2, n-1)\n",
    "    push!(p, sum([binomial(n-1, k) for k = 0:m]))\n",
    "end"
   ]
  },
  {
   "cell_type": "code",
   "execution_count": 44,
   "metadata": {},
   "outputs": [
    {
     "data": {
      "text/plain": [
       "173625106649344"
      ]
     },
     "execution_count": 44,
     "metadata": {},
     "output_type": "execute_result"
    }
   ],
   "source": [
    "prod(p)"
   ]
  },
  {
   "cell_type": "code",
   "execution_count": null,
   "metadata": {},
   "outputs": [],
   "source": []
  }
 ],
 "metadata": {
  "kernelspec": {
   "display_name": "Julia 1.5.2",
   "language": "julia",
   "name": "julia-1.5"
  },
  "language_info": {
   "file_extension": ".jl",
   "mimetype": "application/julia",
   "name": "julia",
   "version": "1.5.2"
  }
 },
 "nbformat": 4,
 "nbformat_minor": 4
}
