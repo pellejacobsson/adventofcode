{
 "cells": [
  {
   "cell_type": "code",
   "execution_count": 11,
   "metadata": {},
   "outputs": [],
   "source": [
    "from collections import deque"
   ]
  },
  {
   "cell_type": "code",
   "execution_count": 78,
   "metadata": {},
   "outputs": [
    {
     "data": {
      "text/plain": [
       "'92658374'"
      ]
     },
     "execution_count": 78,
     "metadata": {},
     "output_type": "execute_result"
    }
   ],
   "source": [
    "#cups = [int(s) for s in \"739862541\"]\n",
    "cups = [int(s) for s in \"389125467\"]\n",
    "i_current = 0\n",
    "for _ in range(10):\n",
    "    cups = deque(cups)\n",
    "    cups.rotate(-i_current)\n",
    "    cups = list(cups)\n",
    "    lifted = cups[1:4]\n",
    "    cups = [cups[0]] + cups[4:]\n",
    "    current_label = cups[0]\n",
    "    dest_label = current_label\n",
    "    while True:\n",
    "        dest_label -= 1\n",
    "        if dest_label < 1:\n",
    "            dest_label = 9\n",
    "        if dest_label in cups:\n",
    "            break\n",
    "    i_dest = cups.index(dest_label)\n",
    "    cups = deque(cups)\n",
    "    cups.rotate(-i_dest)\n",
    "    cups = list(cups)\n",
    "    cups = [cups[0]] + lifted + cups[1:]\n",
    "    i_current = (cups.index(current_label) + 1) % 9\n",
    "index_one = cups.index(1)\n",
    "cups = deque(cups)\n",
    "cups.rotate(-index_one)\n",
    "\"\".join(str(n) for n in list(cups)[1:])"
   ]
  },
  {
   "cell_type": "code",
   "execution_count": null,
   "metadata": {},
   "outputs": [],
   "source": [
    "input = [int(s) for s in \"739862541\"] + list(range(10, 1000001))\n",
    "cups = {k: v for k, v in zip(input, input[1:])}\n",
    "cups[input[-1]] = input[0]\n",
    "c_min = min(input)\n",
    "c_max = max(input)\n",
    "current = input[0]\n",
    "for _ in range(10000000):\n",
    "    lifted = [cups[current], cups[cups[current]], cups[cups[cups[current]]]]\n",
    "    dest = current - 1\n",
    "    while dest in lifted or dest < c_min:\n",
    "        if dest < c_min:\n",
    "            dest = c_max\n",
    "        else:\n",
    "            dest -= 1\n",
    "    cups[current] = cups[lifted[2]]\n",
    "    cups[lifted[2]] = cups[dest]\n",
    "    cups[dest] = lifted[0]\n",
    "    current = cups[current]"
   ]
  },
  {
   "cell_type": "code",
   "execution_count": 94,
   "metadata": {},
   "outputs": [
    {
     "data": {
      "text/plain": [
       "3072905352"
      ]
     },
     "execution_count": 94,
     "metadata": {},
     "output_type": "execute_result"
    }
   ],
   "source": [
    "cups[1] * cups[cups[1]]"
   ]
  }
 ],
 "metadata": {
  "kernelspec": {
   "display_name": ".venv",
   "language": "python",
   "name": "python3"
  },
  "language_info": {
   "codemirror_mode": {
    "name": "ipython",
    "version": 3
   },
   "file_extension": ".py",
   "mimetype": "text/x-python",
   "name": "python",
   "nbconvert_exporter": "python",
   "pygments_lexer": "ipython3",
   "version": "3.13.0"
  }
 },
 "nbformat": 4,
 "nbformat_minor": 2
}
