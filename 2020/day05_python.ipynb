{
 "cells": [
  {
   "cell_type": "code",
   "execution_count": 17,
   "metadata": {},
   "outputs": [],
   "source": [
    "with open(\"5_input.txt\", \"r\") as f:\n",
    "    inputs = [l.strip() for l in f]"
   ]
  },
  {
   "cell_type": "code",
   "execution_count": 15,
   "metadata": {},
   "outputs": [],
   "source": [
    "def cut(r, p):\n",
    "    r1, r2 = r\n",
    "    d = (r2 - r1 + 1) // 2\n",
    "    if p in [\"F\", \"L\"]:\n",
    "        r2 -= d\n",
    "    else:\n",
    "        r1 += d\n",
    "    return [r1, r2]\n",
    "\n",
    "def find_seat(s):\n",
    "    row = s[:7]\n",
    "    col = s[7:]\n",
    "    rr = [0, 127]\n",
    "    for r in row:\n",
    "        rr = cut(rr, r)\n",
    "    cr = [0, 7]\n",
    "    for c in col:\n",
    "        cr = cut(cr, c)\n",
    "    return 8 * rr[0] + cr[0]\n"
   ]
  },
  {
   "cell_type": "code",
   "execution_count": 20,
   "metadata": {},
   "outputs": [
    {
     "name": "stdout",
     "output_type": "stream",
     "text": [
      "866\n"
     ]
    }
   ],
   "source": [
    "n_max = 0\n",
    "for input in inputs:\n",
    "    n = find_seat(input)\n",
    "    if n > n_max:\n",
    "        n_max = n\n",
    "print(n_max)"
   ]
  },
  {
   "cell_type": "code",
   "execution_count": 21,
   "metadata": {},
   "outputs": [],
   "source": [
    "seats = []\n",
    "for input in inputs:\n",
    "    seats.append(find_seat(input))"
   ]
  },
  {
   "cell_type": "code",
   "execution_count": 25,
   "metadata": {},
   "outputs": [
    {
     "data": {
      "text/plain": [
       "{583}"
      ]
     },
     "execution_count": 25,
     "metadata": {},
     "output_type": "execute_result"
    }
   ],
   "source": [
    "set(range(min(seats), max(seats) + 1)) - set(seats)"
   ]
  },
  {
   "cell_type": "code",
   "execution_count": null,
   "metadata": {},
   "outputs": [],
   "source": []
  }
 ],
 "metadata": {
  "kernelspec": {
   "display_name": "ds",
   "language": "python",
   "name": "python3"
  },
  "language_info": {
   "codemirror_mode": {
    "name": "ipython",
    "version": 3
   },
   "file_extension": ".py",
   "mimetype": "text/x-python",
   "name": "python",
   "nbconvert_exporter": "python",
   "pygments_lexer": "ipython3",
   "version": "3.12.4"
  }
 },
 "nbformat": 4,
 "nbformat_minor": 2
}
