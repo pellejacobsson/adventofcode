{
 "cells": [
  {
   "cell_type": "code",
   "execution_count": 25,
   "metadata": {},
   "outputs": [],
   "source": [
    "with open(\"3_input.txt\", \"r\") as f:\n",
    "    grid = {}\n",
    "    for i, line in enumerate(f):\n",
    "        for j, c in enumerate(line.strip()):\n",
    "            grid[i, j] = c"
   ]
  },
  {
   "cell_type": "code",
   "execution_count": 26,
   "metadata": {},
   "outputs": [
    {
     "name": "stdout",
     "output_type": "stream",
     "text": [
      "187\n"
     ]
    }
   ],
   "source": [
    "i_max = max(grid, key=lambda x: x[0])[0]\n",
    "j_max = max(grid, key=lambda x: x[1])[1]\n",
    "trees = 0\n",
    "i, j = 0, 0\n",
    "while i <= i_max:\n",
    "    if grid[i, j] == \"#\":\n",
    "        trees += 1\n",
    "    i += 1\n",
    "    j = (j + 3) % (j_max + 1)\n",
    "print(trees)"
   ]
  },
  {
   "cell_type": "code",
   "execution_count": 27,
   "metadata": {},
   "outputs": [
    {
     "name": "stdout",
     "output_type": "stream",
     "text": [
      "4723283400\n"
     ]
    }
   ],
   "source": [
    "i_max = max(grid, key=lambda x: x[0])[0]\n",
    "j_max = max(grid, key=lambda x: x[1])[1]\n",
    "slopes = [(1, 1), (3, 1), (5, 1), (7, 1), (1, 2)]\n",
    "tree_prod = 1\n",
    "for dj, di in slopes:\n",
    "    trees = 0\n",
    "    i, j = 0, 0\n",
    "    while i <= i_max:\n",
    "        if grid[i, j] == \"#\":\n",
    "            trees += 1\n",
    "        i += di\n",
    "        j = (j + dj) % (j_max + 1)\n",
    "    tree_prod *= trees\n",
    "print(tree_prod)"
   ]
  },
  {
   "cell_type": "code",
   "execution_count": null,
   "metadata": {},
   "outputs": [],
   "source": []
  }
 ],
 "metadata": {
  "kernelspec": {
   "display_name": "ds",
   "language": "python",
   "name": "python3"
  },
  "language_info": {
   "codemirror_mode": {
    "name": "ipython",
    "version": 3
   },
   "file_extension": ".py",
   "mimetype": "text/x-python",
   "name": "python",
   "nbconvert_exporter": "python",
   "pygments_lexer": "ipython3",
   "version": "3.12.4"
  }
 },
 "nbformat": 4,
 "nbformat_minor": 2
}
